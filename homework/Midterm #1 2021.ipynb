{
 "cells": [
  {
   "cell_type": "markdown",
   "metadata": {},
   "source": [
    "1. Mean-variance optimization goes long the highest Sharpe-Ratio assets and shorts the lowest\n",
    "Sharpe-ratio assets\n",
    "\n",
    "False. While it will generally keep the assets with the highest Sharpe-Ratio, what it will do more often is keep the assets with the highest means (returns) and short the assets with the lowest means (returns). Covariances are also an important determining factor in what gets kept in the portfolio.\n",
    "\n",
    "2. Investing in an LETF makes more sense for a long-term horizon than a short-term horizon.\n",
    "\n",
    "????\n",
    "\n",
    "3. This week ProShares launches BITO on the NYSE. The ETF holds Bitcoin futures contracts. Suppose in a year from now, \n",
    "    we want to try to replicate BITO using SPY and IEF as regressors in a LFD. Because BITO will only have a year of data, \n",
    "    we do not trust that we will have a good estimate of the mean return.\n",
    "    \n",
    "    Do you suggest that we (in a year) estimate the regression with an intercept or without an intercept? Why?\n",
    "\n",
    "I suggest using an intercept. This will allow the betas to account for as much of the change in the portfolio as possible, replicating BITO as closely as possible moving forward.\n",
    "\n",
    "4. Is HDG effective at tracking HFRI in-sample? And out of sample?\n",
    "\n",
    "Yes, we found in HW#2 Problem 7 that the Out of Sample Regression did track HFRI very closely.\n",
    "\n",
    "5. A hedge fund claims to beat the market by having a very high alpha. After regressing the hedge fund returns on the 6 Merrill-Lynch style factors, you find the alpha to be negative. Explain why this discrepancy can happen.\n",
    "\n",
    "We don't know what factors they used to calculate their alpha value (could just be SPY) or that the 6 Merrill-Lynch style factors aren't the right factors to replicate this portfolio."
   ]
  },
  {
   "cell_type": "code",
   "execution_count": 3,
   "metadata": {},
   "outputs": [
    {
     "data": {
      "text/html": [
       "<div>\n",
       "<style scoped>\n",
       "    .dataframe tbody tr th:only-of-type {\n",
       "        vertical-align: middle;\n",
       "    }\n",
       "\n",
       "    .dataframe tbody tr th {\n",
       "        vertical-align: top;\n",
       "    }\n",
       "\n",
       "    .dataframe thead th {\n",
       "        text-align: right;\n",
       "    }\n",
       "</style>\n",
       "<table border=\"1\" class=\"dataframe\">\n",
       "  <thead>\n",
       "    <tr style=\"text-align: right;\">\n",
       "      <th></th>\n",
       "      <th>SPY US Equity</th>\n",
       "      <th>EEM US Equity</th>\n",
       "      <th>EFA US Equity</th>\n",
       "      <th>EUO US Equity</th>\n",
       "      <th>IWM US Equity</th>\n",
       "    </tr>\n",
       "    <tr>\n",
       "      <th>Date</th>\n",
       "      <th></th>\n",
       "      <th></th>\n",
       "      <th></th>\n",
       "      <th></th>\n",
       "      <th></th>\n",
       "    </tr>\n",
       "  </thead>\n",
       "  <tbody>\n",
       "    <tr>\n",
       "      <th>2011-08-31</th>\n",
       "      <td>-0.054984</td>\n",
       "      <td>-0.092558</td>\n",
       "      <td>-0.087557</td>\n",
       "      <td>-0.005898</td>\n",
       "      <td>-0.088923</td>\n",
       "    </tr>\n",
       "    <tr>\n",
       "      <th>2011-09-30</th>\n",
       "      <td>-0.069438</td>\n",
       "      <td>-0.179083</td>\n",
       "      <td>-0.108101</td>\n",
       "      <td>0.142163</td>\n",
       "      <td>-0.111521</td>\n",
       "    </tr>\n",
       "    <tr>\n",
       "      <th>2011-10-31</th>\n",
       "      <td>0.109160</td>\n",
       "      <td>0.163002</td>\n",
       "      <td>0.096289</td>\n",
       "      <td>-0.069489</td>\n",
       "      <td>0.151022</td>\n",
       "    </tr>\n",
       "    <tr>\n",
       "      <th>2011-11-30</th>\n",
       "      <td>-0.004064</td>\n",
       "      <td>-0.019724</td>\n",
       "      <td>-0.021763</td>\n",
       "      <td>0.054627</td>\n",
       "      <td>-0.003782</td>\n",
       "    </tr>\n",
       "    <tr>\n",
       "      <th>2011-12-31</th>\n",
       "      <td>0.010440</td>\n",
       "      <td>-0.042657</td>\n",
       "      <td>-0.021755</td>\n",
       "      <td>0.075573</td>\n",
       "      <td>0.005135</td>\n",
       "    </tr>\n",
       "  </tbody>\n",
       "</table>\n",
       "</div>"
      ],
      "text/plain": [
       "            SPY US Equity  EEM US Equity  EFA US Equity  EUO US Equity  \\\n",
       "Date                                                                     \n",
       "2011-08-31      -0.054984      -0.092558      -0.087557      -0.005898   \n",
       "2011-09-30      -0.069438      -0.179083      -0.108101       0.142163   \n",
       "2011-10-31       0.109160       0.163002       0.096289      -0.069489   \n",
       "2011-11-30      -0.004064      -0.019724      -0.021763       0.054627   \n",
       "2011-12-31       0.010440      -0.042657      -0.021755       0.075573   \n",
       "\n",
       "            IWM US Equity  \n",
       "Date                       \n",
       "2011-08-31      -0.088923  \n",
       "2011-09-30      -0.111521  \n",
       "2011-10-31       0.151022  \n",
       "2011-11-30      -0.003782  \n",
       "2011-12-31       0.005135  "
      ]
     },
     "execution_count": 3,
     "metadata": {},
     "output_type": "execute_result"
    }
   ],
   "source": [
    "import pandas as pd\n",
    "import numpy as np\n",
    "import statsmodels.api as sm\n",
    "import seaborn as sns\n",
    "import warnings\n",
    "warnings.filterwarnings('ignore')\n",
    "# Read excel file, sheet excess returns\n",
    "factor_data = pd.read_excel('../data/proshares_analysis_data.xlsx', 'merrill_factors')\n",
    "# Set the index to Date (rather than default 0 indexing)\n",
    "factor_data.rename(columns={'Unnamed: 0':'Date'}, inplace=True)\n",
    "factor_data = factor_data.set_index('Date')\n",
    "\n",
    "# Subtract USGG3M Index and only keep 5 other columns\n",
    "risky_assets_data = factor_data.subtract(factor_data['USGG3M Index'],axis=0).drop(columns=['USGG3M Index'])\n",
    "risky_assets_data.head()\n"
   ]
  },
  {
   "cell_type": "code",
   "execution_count": 8,
   "metadata": {},
   "outputs": [
    {
     "data": {
      "text/html": [
       "<div>\n",
       "<style scoped>\n",
       "    .dataframe tbody tr th:only-of-type {\n",
       "        vertical-align: middle;\n",
       "    }\n",
       "\n",
       "    .dataframe tbody tr th {\n",
       "        vertical-align: top;\n",
       "    }\n",
       "\n",
       "    .dataframe thead th {\n",
       "        text-align: right;\n",
       "    }\n",
       "</style>\n",
       "<table border=\"1\" class=\"dataframe\">\n",
       "  <thead>\n",
       "    <tr style=\"text-align: right;\">\n",
       "      <th></th>\n",
       "      <th>Tangency Weights</th>\n",
       "    </tr>\n",
       "  </thead>\n",
       "  <tbody>\n",
       "    <tr>\n",
       "      <th>SPY US Equity</th>\n",
       "      <td>2.185642</td>\n",
       "    </tr>\n",
       "    <tr>\n",
       "      <th>EEM US Equity</th>\n",
       "      <td>-0.040990</td>\n",
       "    </tr>\n",
       "    <tr>\n",
       "      <th>EFA US Equity</th>\n",
       "      <td>-0.993843</td>\n",
       "    </tr>\n",
       "    <tr>\n",
       "      <th>EUO US Equity</th>\n",
       "      <td>0.320766</td>\n",
       "    </tr>\n",
       "    <tr>\n",
       "      <th>IWM US Equity</th>\n",
       "      <td>-0.471576</td>\n",
       "    </tr>\n",
       "  </tbody>\n",
       "</table>\n",
       "</div>"
      ],
      "text/plain": [
       "               Tangency Weights\n",
       "SPY US Equity          2.185642\n",
       "EEM US Equity         -0.040990\n",
       "EFA US Equity         -0.993843\n",
       "EUO US Equity          0.320766\n",
       "IWM US Equity         -0.471576"
      ]
     },
     "execution_count": 8,
     "metadata": {},
     "output_type": "execute_result"
    }
   ],
   "source": [
    "# 2. What are the weights of the tangency portfolio?\n",
    "# These do the same thing\n",
    "\n",
    "def tangency_weights(returns,dropna=True,scale_cov=1):\n",
    "    if dropna:\n",
    "        returns = returns.dropna()\n",
    "\n",
    "    covmat_full = returns.cov()\n",
    "    covmat_diag = np.diag(np.diag(covmat_full))\n",
    "    covmat = scale_cov * covmat_full + (1-scale_cov) * covmat_diag\n",
    "\n",
    "    weights = np.linalg.solve(covmat,returns.mean())\n",
    "    weights = weights / weights.sum()\n",
    "\n",
    "    return pd.DataFrame(weights, index=returns.columns,columns=['tangency weights'])\n",
    "\n",
    "def compute_tangency(excessReturnMatrix):\n",
    "    # Get the covariance matrix based on excess returns\n",
    "    sigma = excessReturnMatrix.cov()\n",
    "    \n",
    "    # Get the number of asset classes (in this example should be 11)\n",
    "    n = sigma.shape[0]\n",
    "    \n",
    "    # Get the vector of mean excess returns\n",
    "    mu = excessReturnMatrix.mean()\n",
    "    \n",
    "    # Get sigma inverse\n",
    "    sigma_inv = np.linalg.inv(sigma)\n",
    "    \n",
    "    # Now we have all the pieces, do the calculation\n",
    "    weights = (sigma_inv @ mu) / (np.ones(n) @ sigma_inv @ mu)\n",
    "    \n",
    "    # Convert back to a Series for convenience\n",
    "    return pd.Series(weights, index=mu.index)\n",
    "\n",
    "tangency_weights = compute_tangency(risky_assets_data)\n",
    "tangency_weights.to_frame('Tangency Weights')"
   ]
  },
  {
   "cell_type": "code",
   "execution_count": 9,
   "metadata": {},
   "outputs": [
    {
     "data": {
      "text/plain": [
       "SPY US Equity    2.626815\n",
       "EEM US Equity   -0.049263\n",
       "EFA US Equity   -1.194450\n",
       "EUO US Equity    0.385513\n",
       "IWM US Equity   -0.566764\n",
       "dtype: float64"
      ]
     },
     "execution_count": 9,
     "metadata": {},
     "output_type": "execute_result"
    }
   ],
   "source": [
    "# 3. What are the weights of the optimal portfolio with a target of 0.02 return?\n",
    "# Compute weights for return of 0.02\n",
    "def compute_weights(excessReturnData, tangency_weights, target_return):\n",
    "    mu = excessReturnData.mean()\n",
    "    sigma = excessReturnData.cov()\n",
    "    n = sigma.shape[0]\n",
    "    scalar = ((np.ones(n) @ np.linalg.inv(sigma) @ mu) / (mu @ np.linalg.inv(sigma) @ mu)) * target_return\n",
    "    return scalar * tangency_weights\n",
    "\n",
    "optimized_portfolio = compute_weights(risky_assets_data, tangency_weights, 0.02)\n",
    "optimized_portfolio"
   ]
  },
  {
   "cell_type": "code",
   "execution_count": 11,
   "metadata": {},
   "outputs": [
    {
     "data": {
      "text/plain": [
       "1.2018503408544545"
      ]
     },
     "execution_count": 11,
     "metadata": {},
     "output_type": "execute_result"
    }
   ],
   "source": [
    "# Are we invested in the risk-free rate?\n",
    "optimized_portfolio.sum()"
   ]
  },
  {
   "cell_type": "markdown",
   "metadata": {},
   "source": [
    "Since the total sum of our portfolio is 1.202, then we know we must be short 0.202 of the risk free rate"
   ]
  },
  {
   "cell_type": "code",
   "execution_count": 12,
   "metadata": {},
   "outputs": [
    {
     "data": {
      "text/html": [
       "<div>\n",
       "<style scoped>\n",
       "    .dataframe tbody tr th:only-of-type {\n",
       "        vertical-align: middle;\n",
       "    }\n",
       "\n",
       "    .dataframe tbody tr th {\n",
       "        vertical-align: top;\n",
       "    }\n",
       "\n",
       "    .dataframe thead th {\n",
       "        text-align: right;\n",
       "    }\n",
       "</style>\n",
       "<table border=\"1\" class=\"dataframe\">\n",
       "  <thead>\n",
       "    <tr style=\"text-align: right;\">\n",
       "      <th></th>\n",
       "      <th>Portfolio Stats</th>\n",
       "    </tr>\n",
       "  </thead>\n",
       "  <tbody>\n",
       "    <tr>\n",
       "      <th>Mean</th>\n",
       "      <td>0.2400</td>\n",
       "    </tr>\n",
       "    <tr>\n",
       "      <th>Volatility</th>\n",
       "      <td>0.1745</td>\n",
       "    </tr>\n",
       "    <tr>\n",
       "      <th>Sharpe</th>\n",
       "      <td>1.3757</td>\n",
       "    </tr>\n",
       "  </tbody>\n",
       "</table>\n",
       "</div>"
      ],
      "text/plain": [
       "            Portfolio Stats\n",
       "Mean                 0.2400\n",
       "Volatility           0.1745\n",
       "Sharpe               1.3757"
      ]
     },
     "execution_count": 12,
     "metadata": {},
     "output_type": "execute_result"
    }
   ],
   "source": [
    "# Report the mean, vol and sharpe of the optimized portfolio\n",
    "def portfolio_stats(excessReturnData, portfolio_weights):\n",
    "    # Calculate the mean by multiplying the mean excess returns by the tangency weights and annualizing\n",
    "    # TODO: double check where these formulas came from (class notes?)\n",
    "    mean = excessReturnData.mean() @ portfolio_weights * 12\n",
    "\n",
    "    # Volatility = sqrt(variance), and by class notes: variance = allocation_matrix * covariance_matrix * allocation_matrix\n",
    "    # Annualize the result with sqrt(12)\n",
    "    vol = np.sqrt(portfolio_weights @ excessReturnData.cov() @ portfolio_weights) * np.sqrt(12)\n",
    "\n",
    "    # Sharpe Ratio is mean / vol\n",
    "    sharpe_ratio = mean / vol\n",
    "\n",
    "    # Format for easy reading\n",
    "    return round(pd.DataFrame(data = [mean, vol, sharpe_ratio], \n",
    "        index = ['Mean', 'Volatility', 'Sharpe'], \n",
    "        columns = ['Portfolio Stats']), 4)\n",
    "    \n",
    "portfolio_stats(risky_assets_data, optimized_portfolio)"
   ]
  },
  {
   "cell_type": "code",
   "execution_count": 23,
   "metadata": {},
   "outputs": [
    {
     "name": "stdout",
     "output_type": "stream",
     "text": [
      "SPY US Equity    2.959602\n",
      "EEM US Equity   -0.303268\n",
      "EFA US Equity   -0.826552\n",
      "EUO US Equity    0.167792\n",
      "IWM US Equity   -0.744995\n",
      "dtype: float64\n"
     ]
    },
    {
     "data": {
      "text/html": [
       "<div>\n",
       "<style scoped>\n",
       "    .dataframe tbody tr th:only-of-type {\n",
       "        vertical-align: middle;\n",
       "    }\n",
       "\n",
       "    .dataframe tbody tr th {\n",
       "        vertical-align: top;\n",
       "    }\n",
       "\n",
       "    .dataframe thead th {\n",
       "        text-align: right;\n",
       "    }\n",
       "</style>\n",
       "<table border=\"1\" class=\"dataframe\">\n",
       "  <thead>\n",
       "    <tr style=\"text-align: right;\">\n",
       "      <th></th>\n",
       "      <th>Mean</th>\n",
       "      <th>Vol</th>\n",
       "      <th>Sharpe</th>\n",
       "      <th>Min</th>\n",
       "      <th>Max</th>\n",
       "    </tr>\n",
       "  </thead>\n",
       "  <tbody>\n",
       "    <tr>\n",
       "      <th>Optimal Portfolio</th>\n",
       "      <td>0.290792</td>\n",
       "      <td>0.264263</td>\n",
       "      <td>1.100388</td>\n",
       "      <td>-0.095761</td>\n",
       "      <td>0.204606</td>\n",
       "    </tr>\n",
       "  </tbody>\n",
       "</table>\n",
       "</div>"
      ],
      "text/plain": [
       "                       Mean       Vol    Sharpe       Min       Max\n",
       "Optimal Portfolio  0.290792  0.264263  1.100388 -0.095761  0.204606"
      ]
     },
     "execution_count": 23,
     "metadata": {},
     "output_type": "execute_result"
    }
   ],
   "source": [
    "# Recalculate optimal portfolio using only data through 2018\n",
    "# First just get data through 2021\n",
    "risky_assets_data_2018 = risky_assets_data.loc[:'2018']\n",
    "\n",
    "# Compute tangency weights\n",
    "tangency_weights_2018 = compute_tangency(risky_assets_data_2018)\n",
    "\n",
    "# Get optimized portfolio\n",
    "optimized_portfolio_2018 = compute_weights(risky_assets_data_2018, tangency_weights_2018, 0.02)\n",
    "print(optimized_portfolio_2018)\n",
    "# Now calculate the returns out of sample (2019+)\n",
    "risky_assets_data_2019 = risky_assets_data.loc['2019':]\n",
    "# This is calculated by doing the returns post 2019 matrix multiplied by the weights of the optimal portfolio pre-2018\n",
    "# This is returns out of sample based on in sample weights\n",
    "df_optimal_port_oos = pd.DataFrame(risky_assets_data_2019 @ optimized_portfolio_2018, columns= ['Optimal Portfolio'])\n",
    "# Portfolio_stats takes return data and portfolio weights\n",
    "portfolio_stats(risky_assets_data_2019, optimized_portfolio_2018)\n",
    "\n",
    "# This does the same as portfolio_stats but only takes returns (matrix multiplication is done outside of function call)\n",
    "def performanceMetrics(returns, annualization=1):\n",
    "    metrics = pd.DataFrame(index=returns.columns)\n",
    "    metrics['Mean'] = returns.mean() * annualization\n",
    "    metrics['Vol'] = returns.std() * np.sqrt(annualization)\n",
    "    metrics['Sharpe'] = (returns.mean() / returns.std()) * np.sqrt(annualization)\n",
    "\n",
    "    metrics['Min'] = returns.min()\n",
    "    metrics['Max'] = returns.max()\n",
    "\n",
    "    return metrics\n",
    "performanceMetrics(df_optimal_port_oos, 12)\n"
   ]
  },
  {
   "cell_type": "markdown",
   "metadata": {},
   "source": [
    "2.5) Suppose that instead of optimizing these 5 risky assets, we optimized 5 commodity futures: oil, coffee, cocoa, lumber, cattle, and gold. Do you think the out-of-sample fragility problem would be better or worse than what we have seen optimizing equities?\n",
    "\n",
    "The out-of-sample fragility problem is caused by the inverted covariance matrix, and the high correlation between assets in the portfolio. Since the commodities are likely less related than the equities, we can assume that the fragility problem would be improved by switching to the commodity futures.\n",
    "\n",
    "<u>Last Years Answer:</u> The biggest reason the MV solution is “fragile” out-of-sample is due to the inversion of the covariance matrix. In HW#1 we learned that optimization over highly correlated assets leads to over-fitting, (as seen in extreme long-short portfolios, etc.) Thus, we expect the optimization will be overfit particularly in cases where the assets are highly correlated.\n",
    "\n",
    "The five commodities are much less correlated to each other than our five factors, (which include several equity-focused securities.) We saw lower correlation in commodities in one of our demos, but just from the stated descriptions, we can infer the commodities will likely have less correlation and thus less of a problem with the inverted covariance matrix."
   ]
  },
  {
   "cell_type": "code",
   "execution_count": 38,
   "metadata": {},
   "outputs": [
    {
     "name": "stdout",
     "output_type": "stream",
     "text": [
      "SPY US Equity    0.844954\n",
      "dtype: float64\n"
     ]
    }
   ],
   "source": [
    "# 3 Hedging and Replication\n",
    "# 3. Regression based statistics against SPY\n",
    "# First get SPY\n",
    "regression_data = pd.read_excel('../data/proshares_analysis_data.xlsx', sheet_name = 'merrill_factors')\n",
    "regression_data.rename(columns={'Unnamed: 0':'Date'}, inplace=True)\n",
    "regression_data = regression_data.set_index('Date')\n",
    "\n",
    "def regression_stats(df):\n",
    "    reg_stats = pd.DataFrame(data = None, index = df.columns, columns = ['beta', \n",
    "                                                                         'Treynor Ratio', \n",
    "                                                                         'Information Ratio'])\n",
    "    for col in df.columns:\n",
    "        # Drop the NAs in y\n",
    "        y = df[col].dropna()\n",
    "        # Align the X with y - this is us including the intercept\n",
    "        # X = sm.add_constant(regression_data['SPY US Equity'].loc[y.index])\n",
    "        # Without an intercept\n",
    "        X = df['SPY US Equity'].dropna()\n",
    "        reg = sm.OLS(y, X).fit()\n",
    "        reg_stats.loc[col, 'beta'] = reg.params[1]\n",
    "        # Treynor is calulated as mean/beta\n",
    "        reg_stats.loc[col, 'Treynor Ratio'] = (df[col].mean() * 12) / reg.params[1]\n",
    "        reg_stats.loc[col, 'Information Ratio'] = (reg.params[0] / reg.resid.std()) * np.sqrt(12)\n",
    "\n",
    "    return reg_stats.astype(float).round(4)\n",
    "\n",
    "# Do simple regression for 2 data sets:\n",
    "y = regression_data['EEM US Equity']\n",
    "X = regression_data['SPY US Equity']\n",
    "\n",
    "hedge_reg = sm.OLS(y, X).fit()\n",
    "print(hedge_reg.params)\n"
   ]
  },
  {
   "cell_type": "markdown",
   "metadata": {},
   "source": [
    "### 3.1 \n",
    "Since we are hedging, for every dollar invested in EEM, we want to short 84 cents of SPY"
   ]
  },
  {
   "cell_type": "code",
   "execution_count": 39,
   "metadata": {},
   "outputs": [
    {
     "data": {
      "text/html": [
       "<div>\n",
       "<style scoped>\n",
       "    .dataframe tbody tr th:only-of-type {\n",
       "        vertical-align: middle;\n",
       "    }\n",
       "\n",
       "    .dataframe tbody tr th {\n",
       "        vertical-align: top;\n",
       "    }\n",
       "\n",
       "    .dataframe thead th {\n",
       "        text-align: right;\n",
       "    }\n",
       "</style>\n",
       "<table border=\"1\" class=\"dataframe\">\n",
       "  <thead>\n",
       "    <tr style=\"text-align: right;\">\n",
       "      <th></th>\n",
       "      <th>Market Hedged EEM</th>\n",
       "    </tr>\n",
       "  </thead>\n",
       "  <tbody>\n",
       "    <tr>\n",
       "      <th>Mean</th>\n",
       "      <td>-0.0924</td>\n",
       "    </tr>\n",
       "    <tr>\n",
       "      <th>Volatility</th>\n",
       "      <td>0.1274</td>\n",
       "    </tr>\n",
       "    <tr>\n",
       "      <th>Sharpe</th>\n",
       "      <td>-0.7258</td>\n",
       "    </tr>\n",
       "  </tbody>\n",
       "</table>\n",
       "</div>"
      ],
      "text/plain": [
       "            Market Hedged EEM\n",
       "Mean                  -0.0924\n",
       "Volatility             0.1274\n",
       "Sharpe                -0.7258"
      ]
     },
     "execution_count": 39,
     "metadata": {},
     "output_type": "execute_result"
    }
   ],
   "source": [
    "# 3.2\n",
    "# First change the position by taking EEM - $0.84*SPY\n",
    "hedged_pos = (regression_data['EEM US Equity'] - hedge_reg.params[0] * regression_data['SPY US Equity']).to_frame('Market Hedged EEM')\n",
    "\n",
    "def portfolio_stats_2(data):\n",
    "    # Calculate the mean and annualize\n",
    "    mean = data.mean() * 12\n",
    "\n",
    "    # Volatility = standard deviation\n",
    "    # Annualize the result with sqrt(12)\n",
    "    vol = data.std() * np.sqrt(12)\n",
    "\n",
    "    # Sharpe Ratio is mean / vol\n",
    "    sharpe_ratio = mean / vol\n",
    "\n",
    "    # Format for easy reading\n",
    "    return round(pd.DataFrame(data = [mean, vol, sharpe_ratio], \n",
    "        index = ['Mean', 'Volatility', 'Sharpe']), 4)\n",
    "    \n",
    "portfolio_stats_2(hedged_pos)"
   ]
  },
  {
   "cell_type": "code",
   "execution_count": 40,
   "metadata": {},
   "outputs": [
    {
     "data": {
      "text/html": [
       "<div>\n",
       "<style scoped>\n",
       "    .dataframe tbody tr th:only-of-type {\n",
       "        vertical-align: middle;\n",
       "    }\n",
       "\n",
       "    .dataframe tbody tr th {\n",
       "        vertical-align: top;\n",
       "    }\n",
       "\n",
       "    .dataframe thead th {\n",
       "        text-align: right;\n",
       "    }\n",
       "</style>\n",
       "<table border=\"1\" class=\"dataframe\">\n",
       "  <thead>\n",
       "    <tr style=\"text-align: right;\">\n",
       "      <th></th>\n",
       "      <th>0</th>\n",
       "    </tr>\n",
       "  </thead>\n",
       "  <tbody>\n",
       "    <tr>\n",
       "      <th>Mean</th>\n",
       "      <td>0.0100</td>\n",
       "    </tr>\n",
       "    <tr>\n",
       "      <th>Volatility</th>\n",
       "      <td>0.1815</td>\n",
       "    </tr>\n",
       "    <tr>\n",
       "      <th>Sharpe</th>\n",
       "      <td>0.0551</td>\n",
       "    </tr>\n",
       "  </tbody>\n",
       "</table>\n",
       "</div>"
      ],
      "text/plain": [
       "                 0\n",
       "Mean        0.0100\n",
       "Volatility  0.1815\n",
       "Sharpe      0.0551"
      ]
     },
     "execution_count": 40,
     "metadata": {},
     "output_type": "execute_result"
    }
   ],
   "source": [
    "# 3.3 Is the mean the same as EEM?\n",
    "portfolio_stats_2(regression_data['EEM US Equity'])"
   ]
  },
  {
   "cell_type": "code",
   "execution_count": 41,
   "metadata": {},
   "outputs": [
    {
     "data": {
      "text/html": [
       "<div>\n",
       "<style scoped>\n",
       "    .dataframe tbody tr th:only-of-type {\n",
       "        vertical-align: middle;\n",
       "    }\n",
       "\n",
       "    .dataframe tbody tr th {\n",
       "        vertical-align: top;\n",
       "    }\n",
       "\n",
       "    .dataframe thead th {\n",
       "        text-align: right;\n",
       "    }\n",
       "</style>\n",
       "<table border=\"1\" class=\"dataframe\">\n",
       "  <thead>\n",
       "    <tr style=\"text-align: right;\">\n",
       "      <th></th>\n",
       "      <th>0</th>\n",
       "    </tr>\n",
       "  </thead>\n",
       "  <tbody>\n",
       "    <tr>\n",
       "      <th>Mean</th>\n",
       "      <td>0.1213</td>\n",
       "    </tr>\n",
       "    <tr>\n",
       "      <th>Volatility</th>\n",
       "      <td>0.1456</td>\n",
       "    </tr>\n",
       "    <tr>\n",
       "      <th>Sharpe</th>\n",
       "      <td>0.8327</td>\n",
       "    </tr>\n",
       "  </tbody>\n",
       "</table>\n",
       "</div>"
      ],
      "text/plain": [
       "                 0\n",
       "Mean        0.1213\n",
       "Volatility  0.1456\n",
       "Sharpe      0.8327"
      ]
     },
     "execution_count": 41,
     "metadata": {},
     "output_type": "execute_result"
    }
   ],
   "source": [
    "portfolio_stats_2(regression_data['SPY US Equity'])"
   ]
  },
  {
   "cell_type": "markdown",
   "metadata": {},
   "source": [
    "### 3.3\n",
    "No, the mean of the EEM US Equity is not the same, because we introduced SPY into the portfolio. The mean of the hedged portofolio can be represented by the equation:\n",
    "\n",
    "mu_hedged = mu_EEM - beta * mu_SPY"
   ]
  },
  {
   "cell_type": "markdown",
   "metadata": {},
   "source": [
    "### 3.4\n",
    "It would be difficult to use a regression also containing IWM for attribution or hedging because of how highly correlated it is with SPY."
   ]
  },
  {
   "cell_type": "code",
   "execution_count": 42,
   "metadata": {},
   "outputs": [
    {
     "name": "stdout",
     "output_type": "stream",
     "text": [
      "Correlation between IWM and SPY: 0.8863\n"
     ]
    }
   ],
   "source": [
    "\n",
    "print('Correlation between IWM and SPY: ' + str(round(regression_data.corr().loc['IWM US Equity', 'SPY US Equity'], 4)))"
   ]
  }
 ],
 "metadata": {
  "kernelspec": {
   "display_name": "Python 3.10.7 64-bit (microsoft store)",
   "language": "python",
   "name": "python3"
  },
  "language_info": {
   "codemirror_mode": {
    "name": "ipython",
    "version": 3
   },
   "file_extension": ".py",
   "mimetype": "text/x-python",
   "name": "python",
   "nbconvert_exporter": "python",
   "pygments_lexer": "ipython3",
   "version": "3.10.7"
  },
  "orig_nbformat": 4,
  "vscode": {
   "interpreter": {
    "hash": "28c29896733cd258a7e144e5cfe10ab10fb1ed1767adc491e37af3f909fe0b53"
   }
  }
 },
 "nbformat": 4,
 "nbformat_minor": 2
}
