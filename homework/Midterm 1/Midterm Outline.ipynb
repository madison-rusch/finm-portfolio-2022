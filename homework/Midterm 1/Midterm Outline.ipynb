{
 "cells": [
  {
   "cell_type": "markdown",
   "metadata": {},
   "source": [
    "<div style=\"text-align: right\"> Madison Rusch </div>\n",
    "\n",
    "<left>FINM 36700</left> \n",
    "<br>\n",
    "<left>Autumn 2022</left>\n",
    "\n",
    "<h2><center>Midterm #1 </center></h2>"
   ]
  },
  {
   "cell_type": "markdown",
   "metadata": {},
   "source": [
    "### 1 Short Answer\n",
    "\n",
    "1. Suppose an endowment is optimizing across multiple asset classes: equities, bonds, commodities, and currencies. They are considering whether to add cryptocurrencies as a new asset class for their mean-variance optimization. Do you think it is reasonable to make this decision based on whether the Sharpe ratio of crypto is higher than the Sharpe ratios of their current asset classes? Explain.\n",
    "\n",
    "    - <p>No, I do not think this is reasonable. Optimization more generally depends on the covariance between assets, so adding in cryptocurrency as an additional asset may not be a good move without first checking how it is correlated with the other assets already included. If they find that there is low correlation, then it is perhaps reasonable to include it.</p>\n",
    "\n",
    "2. True or False. (And explain your reason.) We found that small changes in estimated mean returns have large impacts on the mean-variance\n",
    "frontier. (By “frontier”, we mean the set of achievable means and variances.)\n",
    "\n",
    "    - <p>True. We found in the discussion of the first homework that MV Optimization is very fragile in regards to the mean. Small changes in the mean return can yield large changes in the portfolio weights</p>\n",
    "\n",
    "3. One might estimate the Value-at-Risk directly from the historic data, (the empirical cdf) or from using an approximation based on the normal distribution. Which did we find performed better in actual data? How did we judge which performed better?\n",
    "\n",
    "    - <p>We found that the VaR estimated from the approximation of the normal distribution performed better. We found that data using this VaR actually did fall below the fifth quantile closer to 5% of the time than the data taken compared to the historic VaR</p>\n",
    "\n",
    "4. What approach does Harvard take to getting more realistic weights? What is a problem with this approach?\n",
    "\n",
    "    - <p>They bounded their asset classes, to prevent the MV Optimization from providing crazy long or short positions. The problem with this is that the bounds tend to shape your solution, as the MV Optimizer will at times maximize or minimize positions right up to those bounds</p>\n",
    "\n",
    "5. What aspect of tools such as Ridge regression and LASSO regression are useful in meanvariance optimization? That is, what problem in the classic MV solution are they addressing?\n",
    "\n",
    "    - <p>Ridge and Lasso are addressing the issue of large long and short positions in the classic MV Solution. Ridge by penalizing large positions, and Lasso by keeping only significant positions.</p>\n",
    "\n",
    "6. Consider three series: HFRIFWI, MLEIFCTR, and HDG. Explain how they differ. That is, why were we interested in all three with regard to hedge-fund replication?\n",
    "\n",
    "    - <p>HFRIFWI was an index that tracked hedge fund returns, which you could not invest in. MLEIFCTR was Merrill Lynch's Factor Model Index, also non-investable. It was a benchmark index based on the Merrill Lynch replication of HFRIFWI, based on six passive instruments. Finally, HDG was ProShares' ETF version of replicating that index, but was instead actively traded.</p>\n"
   ]
  },
  {
   "cell_type": "markdown",
   "metadata": {},
   "source": [
    "### 2 Allocation\n",
    "\n",
    "1. Report the weights of the Global Minimum Variance (GMV) portfolio, ωv, and the weights of the Tangency portfolio, ωt."
   ]
  },
  {
   "cell_type": "code",
   "execution_count": 168,
   "metadata": {},
   "outputs": [
    {
     "data": {
      "text/html": [
       "<div>\n",
       "<style scoped>\n",
       "    .dataframe tbody tr th:only-of-type {\n",
       "        vertical-align: middle;\n",
       "    }\n",
       "\n",
       "    .dataframe tbody tr th {\n",
       "        vertical-align: top;\n",
       "    }\n",
       "\n",
       "    .dataframe thead th {\n",
       "        text-align: right;\n",
       "    }\n",
       "</style>\n",
       "<table border=\"1\" class=\"dataframe\">\n",
       "  <thead>\n",
       "    <tr style=\"text-align: right;\">\n",
       "      <th></th>\n",
       "      <th>CL1</th>\n",
       "      <th>GC1</th>\n",
       "      <th>KC1</th>\n",
       "      <th>ES1</th>\n",
       "      <th>BP1</th>\n",
       "    </tr>\n",
       "    <tr>\n",
       "      <th>date</th>\n",
       "      <th></th>\n",
       "      <th></th>\n",
       "      <th></th>\n",
       "      <th></th>\n",
       "      <th></th>\n",
       "    </tr>\n",
       "  </thead>\n",
       "  <tbody>\n",
       "    <tr>\n",
       "      <th>2009-01-31</th>\n",
       "      <td>-0.1135</td>\n",
       "      <td>0.0486</td>\n",
       "      <td>0.0611</td>\n",
       "      <td>-0.0861</td>\n",
       "      <td>-0.0078</td>\n",
       "    </tr>\n",
       "    <tr>\n",
       "      <th>2009-02-28</th>\n",
       "      <td>0.0447</td>\n",
       "      <td>0.0152</td>\n",
       "      <td>-0.0795</td>\n",
       "      <td>-0.1073</td>\n",
       "      <td>-0.0083</td>\n",
       "    </tr>\n",
       "    <tr>\n",
       "      <th>2009-03-31</th>\n",
       "      <td>0.0879</td>\n",
       "      <td>-0.0211</td>\n",
       "      <td>0.0344</td>\n",
       "      <td>0.0872</td>\n",
       "      <td>0.0017</td>\n",
       "    </tr>\n",
       "    <tr>\n",
       "      <th>2009-04-30</th>\n",
       "      <td>-0.0138</td>\n",
       "      <td>-0.0365</td>\n",
       "      <td>-0.0065</td>\n",
       "      <td>0.0947</td>\n",
       "      <td>0.0329</td>\n",
       "    </tr>\n",
       "    <tr>\n",
       "      <th>2009-05-31</th>\n",
       "      <td>0.2874</td>\n",
       "      <td>0.0983</td>\n",
       "      <td>0.1855</td>\n",
       "      <td>0.0552</td>\n",
       "      <td>0.0889</td>\n",
       "    </tr>\n",
       "  </tbody>\n",
       "</table>\n",
       "</div>"
      ],
      "text/plain": [
       "               CL1     GC1     KC1     ES1     BP1\n",
       "date                                              \n",
       "2009-01-31 -0.1135  0.0486  0.0611 -0.0861 -0.0078\n",
       "2009-02-28  0.0447  0.0152 -0.0795 -0.1073 -0.0083\n",
       "2009-03-31  0.0879 -0.0211  0.0344  0.0872  0.0017\n",
       "2009-04-30 -0.0138 -0.0365 -0.0065  0.0947  0.0329\n",
       "2009-05-31  0.2874  0.0983  0.1855  0.0552  0.0889"
      ]
     },
     "execution_count": 168,
     "metadata": {},
     "output_type": "execute_result"
    }
   ],
   "source": [
    "# Some Python Code for importing packages/data\n",
    "import pandas as pd\n",
    "import numpy as np\n",
    "import statsmodels.api as sm\n",
    "import seaborn as sns\n",
    "from statsmodels.regression.rolling import RollingOLS\n",
    "import scipy\n",
    "import warnings\n",
    "warnings.filterwarnings('ignore')\n",
    "pd.set_option(\"display.precision\", 4)\n",
    "\n",
    "# Read excel file, sheet\n",
    "data = pd.read_excel('../data/midterm_1.xlsx', 'total returns')\n",
    "data = data.set_index('date')\n",
    "data.head()"
   ]
  },
  {
   "cell_type": "markdown",
   "metadata": {},
   "source": [
    "#### 2.1 Global Minimum Variance Portfolio"
   ]
  },
  {
   "cell_type": "code",
   "execution_count": 169,
   "metadata": {},
   "outputs": [
    {
     "name": "stdout",
     "output_type": "stream",
     "text": [
      "The weights of the GMV Portfolio are: \n"
     ]
    },
    {
     "data": {
      "text/plain": [
       "CL1   -0.0307\n",
       "GC1    0.1791\n",
       "KC1   -0.0106\n",
       "ES1    0.0922\n",
       "BP1    0.7700\n",
       "dtype: float64"
      ]
     },
     "execution_count": 169,
     "metadata": {},
     "output_type": "execute_result"
    }
   ],
   "source": [
    "def compute_gmv(returns):\n",
    "    sigma = returns.cov()\n",
    "    n = sigma.shape[0]\n",
    "    sigma_inv = np.linalg.inv(sigma)\n",
    "    # I recognize mu is uncessary but want it for the index\n",
    "    mu = returns.mean()\n",
    "    \n",
    "    weights = (sigma_inv @ np.ones(n)) / (np.ones(n) @ sigma_inv @ np.ones(n))\n",
    "    \n",
    "    return pd.Series(weights, index=mu.index)\n",
    "\n",
    "print(\"The weights of the GMV Portfolio are: \")\n",
    "compute_gmv(data)"
   ]
  },
  {
   "cell_type": "markdown",
   "metadata": {},
   "source": [
    "#### 2.1 Tangency Portfolio\n"
   ]
  },
  {
   "cell_type": "code",
   "execution_count": 170,
   "metadata": {},
   "outputs": [
    {
     "name": "stdout",
     "output_type": "stream",
     "text": [
      "The weights of the tangency portfolio are: \n"
     ]
    },
    {
     "data": {
      "text/plain": [
       "CL1   -0.1281\n",
       "GC1    1.1911\n",
       "KC1    0.0978\n",
       "ES1    4.2200\n",
       "BP1   -4.3808\n",
       "dtype: float64"
      ]
     },
     "execution_count": 170,
     "metadata": {},
     "output_type": "execute_result"
    }
   ],
   "source": [
    "def compute_tangency(excessReturnMatrix):\n",
    "    # Get the covariance matrix based on excess returns\n",
    "    sigma = excessReturnMatrix.cov()\n",
    "    \n",
    "    # Get the number of asset classes (in this example should be 11)\n",
    "    n = sigma.shape[0]\n",
    "    \n",
    "    # Get the vector of mean excess returns\n",
    "    mu = excessReturnMatrix.mean()\n",
    "    \n",
    "    # Get sigma inverse\n",
    "    sigma_inv = np.linalg.inv(sigma)\n",
    "    \n",
    "    # Now we have all the pieces, do the calculation\n",
    "    weights = (sigma_inv @ mu) / (np.ones(n) @ sigma_inv @ mu)\n",
    "    \n",
    "    # Convert back to a Series for convenience\n",
    "    return pd.Series(weights, index=mu.index)\n",
    "\n",
    "tangency_weights = compute_tangency(data)\n",
    "print(\"The weights of the tangency portfolio are: \")\n",
    "tangency_weights"
   ]
  },
  {
   "cell_type": "markdown",
   "metadata": {},
   "source": [
    "#### 2.2 What are the weights of the optimal portfolio, ω∗, with a targeted total mean return of 0.20 annualized, (0.20/12 per month)? What is the volatility of this portfolio allocation?\n"
   ]
  },
  {
   "cell_type": "code",
   "execution_count": 171,
   "metadata": {},
   "outputs": [
    {
     "name": "stdout",
     "output_type": "stream",
     "text": [
      "The weights of the optimized portfolio are: \n",
      "CL1   -0.0040\n",
      "GC1    0.0370\n",
      "KC1    0.0030\n",
      "ES1    0.1310\n",
      "BP1   -0.1359\n",
      "dtype: float64\n",
      "             Portfolio Stats\n",
      "Mean                  0.0200\n",
      "Volatility            0.0182\n",
      "mean-to-vol           1.0967\n",
      "The volatility of the optimized portfolio is 0.0182\n"
     ]
    }
   ],
   "source": [
    "def compute_weights(returnsData, tangency_weights, target_return):\n",
    "    mu = returnsData.mean()\n",
    "    sigma = returnsData.cov()\n",
    "    n = sigma.shape[0]\n",
    "    scalar = ((np.ones(n) @ np.linalg.inv(sigma) @ mu) / (mu @ np.linalg.inv(sigma) @ mu)) * target_return\n",
    "    return scalar * tangency_weights\n",
    "\n",
    "optimized_portfolio = compute_weights(data, tangency_weights, 0.02/12)\n",
    "print(\"The weights of the optimized portfolio are: \")\n",
    "print(optimized_portfolio)\n",
    "\n",
    "def portfolio_stats(excessReturnData, portfolio_weights):\n",
    "    # Calculate the mean by multiplying the mean excess returns by the tangency weights and annualizing\n",
    "    mean = excessReturnData.mean() @ portfolio_weights * 12\n",
    "\n",
    "    # Volatility = sqrt(variance), and by class notes: variance = allocation_matrix * covariance_matrix * allocation_matrix\n",
    "    # Annualize the result with sqrt(12)\n",
    "    vol = np.sqrt(portfolio_weights @ excessReturnData.cov() @ portfolio_weights) * np.sqrt(12)\n",
    "\n",
    "    # Sharpe Ratio is mean / vol\n",
    "    sharpe_ratio = mean / vol\n",
    "\n",
    "    # Format for easy reading\n",
    "    return round(pd.DataFrame(data = [mean, vol, sharpe_ratio], \n",
    "        index = ['Mean', 'Volatility', 'mean-to-vol'], \n",
    "        columns = ['Portfolio Stats']), 4)\n",
    "\n",
    "vol = portfolio_stats(data, optimized_portfolio)\n",
    "print(vol)\n",
    "\n",
    "print(f\"The volatility of the optimized portfolio is 0.0182\")"
   ]
  },
  {
   "cell_type": "markdown",
   "metadata": {},
   "source": [
    "#### 2.3 Suppose we re-did this problem assuming the existence of a risk-free rate. Would the solution with mean return of 0.20 be guaranteed to have less than or equal volatility as the solution above, where we did not have a risk-free rate? Why?\n",
    "\n",
    "Yes. By introducing a risk free rate, you get a better risk return tradeoff than with the parabola (which does not have the risk free return rate). If you keep your target return the same, your risk (volatility) will go down with the inclusion of the risk free rate- or at least remain the same.\n"
   ]
  },
  {
   "cell_type": "markdown",
   "metadata": {},
   "source": [
    "### 3 Hedging & Replication\n",
    "\n",
    "#### 3.1 Report the last five values of the timeseries of alpha and beta estimates."
   ]
  },
  {
   "cell_type": "code",
   "execution_count": 172,
   "metadata": {},
   "outputs": [
    {
     "data": {
      "text/html": [
       "<div>\n",
       "<style scoped>\n",
       "    .dataframe tbody tr th:only-of-type {\n",
       "        vertical-align: middle;\n",
       "    }\n",
       "\n",
       "    .dataframe tbody tr th {\n",
       "        vertical-align: top;\n",
       "    }\n",
       "\n",
       "    .dataframe thead th {\n",
       "        text-align: right;\n",
       "    }\n",
       "</style>\n",
       "<table border=\"1\" class=\"dataframe\">\n",
       "  <thead>\n",
       "    <tr style=\"text-align: right;\">\n",
       "      <th></th>\n",
       "      <th>const</th>\n",
       "      <th>BP1</th>\n",
       "    </tr>\n",
       "    <tr>\n",
       "      <th>date</th>\n",
       "      <th></th>\n",
       "      <th></th>\n",
       "    </tr>\n",
       "  </thead>\n",
       "  <tbody>\n",
       "    <tr>\n",
       "      <th>2022-02-28</th>\n",
       "      <td>0.0137</td>\n",
       "      <td>1.1789</td>\n",
       "    </tr>\n",
       "    <tr>\n",
       "      <th>2022-03-31</th>\n",
       "      <td>0.0144</td>\n",
       "      <td>1.1442</td>\n",
       "    </tr>\n",
       "    <tr>\n",
       "      <th>2022-04-30</th>\n",
       "      <td>0.0123</td>\n",
       "      <td>1.2476</td>\n",
       "    </tr>\n",
       "    <tr>\n",
       "      <th>2022-05-31</th>\n",
       "      <td>0.0130</td>\n",
       "      <td>1.1866</td>\n",
       "    </tr>\n",
       "    <tr>\n",
       "      <th>2022-06-30</th>\n",
       "      <td>0.0102</td>\n",
       "      <td>1.2518</td>\n",
       "    </tr>\n",
       "  </tbody>\n",
       "</table>\n",
       "</div>"
      ],
      "text/plain": [
       "             const     BP1\n",
       "date                      \n",
       "2022-02-28  0.0137  1.1789\n",
       "2022-03-31  0.0144  1.1442\n",
       "2022-04-30  0.0123  1.2476\n",
       "2022-05-31  0.0130  1.1866\n",
       "2022-06-30  0.0102  1.2518"
      ]
     },
     "execution_count": 172,
     "metadata": {},
     "output_type": "execute_result"
    }
   ],
   "source": [
    "y = data['ES1']\n",
    "X = sm.add_constant(data['BP1'])\n",
    "\n",
    "rolling_model = RollingOLS(y, X, window=36)\n",
    "rolling_betas = rolling_model.fit().params.copy()\n",
    "rolling_betas.tail(5)"
   ]
  },
  {
   "cell_type": "markdown",
   "metadata": {},
   "source": [
    "#### 3.2 Report the last five values of the timeseries, r∗\n"
   ]
  },
  {
   "cell_type": "code",
   "execution_count": 173,
   "metadata": {},
   "outputs": [
    {
     "data": {
      "text/plain": [
       "date\n",
       "2022-02-28    0.0102\n",
       "2022-03-31   -0.0098\n",
       "2022-04-30   -0.0383\n",
       "2022-05-31    0.0136\n",
       "2022-06-30   -0.0301\n",
       "dtype: float64"
      ]
     },
     "execution_count": 173,
     "metadata": {},
     "output_type": "execute_result"
    }
   ],
   "source": [
    "r_star = (rolling_betas * X).sum(axis=1,skipna=False)\n",
    "r_star.tail(5)"
   ]
  },
  {
   "cell_type": "markdown",
   "metadata": {},
   "source": [
    "#### 3.3 Report the mean, volatility and mean-to-vol ratio of this replicated position, r∗. Annualize the statistics."
   ]
  },
  {
   "cell_type": "code",
   "execution_count": 174,
   "metadata": {},
   "outputs": [
    {
     "data": {
      "text/html": [
       "<div>\n",
       "<style scoped>\n",
       "    .dataframe tbody tr th:only-of-type {\n",
       "        vertical-align: middle;\n",
       "    }\n",
       "\n",
       "    .dataframe tbody tr th {\n",
       "        vertical-align: top;\n",
       "    }\n",
       "\n",
       "    .dataframe thead th {\n",
       "        text-align: right;\n",
       "    }\n",
       "</style>\n",
       "<table border=\"1\" class=\"dataframe\">\n",
       "  <thead>\n",
       "    <tr style=\"text-align: right;\">\n",
       "      <th></th>\n",
       "      <th>0</th>\n",
       "    </tr>\n",
       "  </thead>\n",
       "  <tbody>\n",
       "    <tr>\n",
       "      <th>Mean</th>\n",
       "      <td>0.1263</td>\n",
       "    </tr>\n",
       "    <tr>\n",
       "      <th>Volatility</th>\n",
       "      <td>0.0625</td>\n",
       "    </tr>\n",
       "    <tr>\n",
       "      <th>mean-to-vol</th>\n",
       "      <td>2.0198</td>\n",
       "    </tr>\n",
       "  </tbody>\n",
       "</table>\n",
       "</div>"
      ],
      "text/plain": [
       "                  0\n",
       "Mean         0.1263\n",
       "Volatility   0.0625\n",
       "mean-to-vol  2.0198"
      ]
     },
     "execution_count": 174,
     "metadata": {},
     "output_type": "execute_result"
    }
   ],
   "source": [
    "def portfolio_stats_2(data):\n",
    "    # Calculate the mean and annualize\n",
    "    mean = data.mean() * 12\n",
    "\n",
    "    # Volatility = standard deviation\n",
    "    # Annualize the result with sqrt(12)\n",
    "    vol = data.std() * np.sqrt(12)\n",
    "\n",
    "    # Sharpe Ratio is mean / vol\n",
    "    sharpe_ratio = mean / vol\n",
    "\n",
    "    # Format for easy reading\n",
    "    return round(pd.DataFrame(data = [mean, vol, sharpe_ratio], \n",
    "        index = ['Mean', 'Volatility', 'mean-to-vol']), 4)\n",
    "    \n",
    "portfolio_stats_2(r_star)"
   ]
  },
  {
   "cell_type": "markdown",
   "metadata": {},
   "source": [
    "#### 3.4  How correlated is this replicated position, r∗, to ES1?"
   ]
  },
  {
   "cell_type": "code",
   "execution_count": 175,
   "metadata": {},
   "outputs": [
    {
     "name": "stdout",
     "output_type": "stream",
     "text": [
      "When looking at the correlation between ES1 and r*, we find that they are only correlated with a value of 0.52104. This seems like a rather low correlation, considering other cases we've seen in class.\n"
     ]
    }
   ],
   "source": [
    "data['R Star'] = r_star\n",
    "print(f\"When looking at the correlation between ES1 and r*, we find that they are only correlated with a value of {round(data.corr().loc['ES1', 'R Star'], 5)}. This seems like a rather low correlation, considering other cases we've seen in class.\")"
   ]
  },
  {
   "cell_type": "markdown",
   "metadata": {},
   "source": [
    "### 4 Modeling Risk\n",
    "#### 4.1 Compare the performance statistics between ES1, GC1, and the 50/50 portfolio. Annualize mean and volatility."
   ]
  },
  {
   "cell_type": "code",
   "execution_count": 176,
   "metadata": {},
   "outputs": [
    {
     "data": {
      "text/html": [
       "<div>\n",
       "<style scoped>\n",
       "    .dataframe tbody tr th:only-of-type {\n",
       "        vertical-align: middle;\n",
       "    }\n",
       "\n",
       "    .dataframe tbody tr th {\n",
       "        vertical-align: top;\n",
       "    }\n",
       "\n",
       "    .dataframe thead th {\n",
       "        text-align: right;\n",
       "    }\n",
       "</style>\n",
       "<table border=\"1\" class=\"dataframe\">\n",
       "  <thead>\n",
       "    <tr style=\"text-align: right;\">\n",
       "      <th></th>\n",
       "      <th>GC1</th>\n",
       "      <th>ES1</th>\n",
       "      <th>50/50</th>\n",
       "    </tr>\n",
       "    <tr>\n",
       "      <th>date</th>\n",
       "      <th></th>\n",
       "      <th></th>\n",
       "      <th></th>\n",
       "    </tr>\n",
       "  </thead>\n",
       "  <tbody>\n",
       "    <tr>\n",
       "      <th>2009-01-31</th>\n",
       "      <td>0.0486</td>\n",
       "      <td>-0.0861</td>\n",
       "      <td>-0.0187</td>\n",
       "    </tr>\n",
       "    <tr>\n",
       "      <th>2009-02-28</th>\n",
       "      <td>0.0152</td>\n",
       "      <td>-0.1073</td>\n",
       "      <td>-0.0461</td>\n",
       "    </tr>\n",
       "    <tr>\n",
       "      <th>2009-03-31</th>\n",
       "      <td>-0.0211</td>\n",
       "      <td>0.0872</td>\n",
       "      <td>0.0330</td>\n",
       "    </tr>\n",
       "    <tr>\n",
       "      <th>2009-04-30</th>\n",
       "      <td>-0.0365</td>\n",
       "      <td>0.0947</td>\n",
       "      <td>0.0291</td>\n",
       "    </tr>\n",
       "    <tr>\n",
       "      <th>2009-05-31</th>\n",
       "      <td>0.0983</td>\n",
       "      <td>0.0552</td>\n",
       "      <td>0.0767</td>\n",
       "    </tr>\n",
       "  </tbody>\n",
       "</table>\n",
       "</div>"
      ],
      "text/plain": [
       "               GC1     ES1   50/50\n",
       "date                              \n",
       "2009-01-31  0.0486 -0.0861 -0.0187\n",
       "2009-02-28  0.0152 -0.1073 -0.0461\n",
       "2009-03-31 -0.0211  0.0872  0.0330\n",
       "2009-04-30 -0.0365  0.0947  0.0291\n",
       "2009-05-31  0.0983  0.0552  0.0767"
      ]
     },
     "execution_count": 176,
     "metadata": {},
     "output_type": "execute_result"
    }
   ],
   "source": [
    "risk_data = data.copy()\n",
    "risk_data = risk_data.drop(columns=['CL1', 'KC1', 'BP1', 'R Star'])\n",
    "risk_data['50/50'] = (risk_data['ES1']) * .5 + (risk_data['GC1'])*.5\n",
    "risk_data.head()"
   ]
  },
  {
   "cell_type": "code",
   "execution_count": 177,
   "metadata": {},
   "outputs": [
    {
     "data": {
      "text/html": [
       "<div>\n",
       "<style scoped>\n",
       "    .dataframe tbody tr th:only-of-type {\n",
       "        vertical-align: middle;\n",
       "    }\n",
       "\n",
       "    .dataframe tbody tr th {\n",
       "        vertical-align: top;\n",
       "    }\n",
       "\n",
       "    .dataframe thead th {\n",
       "        text-align: right;\n",
       "    }\n",
       "</style>\n",
       "<table border=\"1\" class=\"dataframe\">\n",
       "  <thead>\n",
       "    <tr style=\"text-align: right;\">\n",
       "      <th></th>\n",
       "      <th>GC1</th>\n",
       "      <th>ES1</th>\n",
       "      <th>50/50</th>\n",
       "    </tr>\n",
       "  </thead>\n",
       "  <tbody>\n",
       "    <tr>\n",
       "      <th>Mean</th>\n",
       "      <td>0.0540</td>\n",
       "      <td>0.1291</td>\n",
       "      <td>0.0916</td>\n",
       "    </tr>\n",
       "    <tr>\n",
       "      <th>Volatility</th>\n",
       "      <td>0.1601</td>\n",
       "      <td>0.1511</td>\n",
       "      <td>0.1141</td>\n",
       "    </tr>\n",
       "    <tr>\n",
       "      <th>mean-to-vol</th>\n",
       "      <td>0.3373</td>\n",
       "      <td>0.8547</td>\n",
       "      <td>0.8026</td>\n",
       "    </tr>\n",
       "  </tbody>\n",
       "</table>\n",
       "</div>"
      ],
      "text/plain": [
       "                GC1     ES1   50/50\n",
       "Mean         0.0540  0.1291  0.0916\n",
       "Volatility   0.1601  0.1511  0.1141\n",
       "mean-to-vol  0.3373  0.8547  0.8026"
      ]
     },
     "execution_count": 177,
     "metadata": {},
     "output_type": "execute_result"
    }
   ],
   "source": [
    "def maximumDrawdown(returns):\n",
    "        cum_returns = (1 + returns).cumprod()\n",
    "        rolling_max = cum_returns.cummax()\n",
    "        drawdown = (cum_returns - rolling_max) / rolling_max\n",
    "\n",
    "        max_drawdown = drawdown.min()\n",
    "        end_date = drawdown.idxmin()\n",
    "        summary = pd.DataFrame({'Max Drawdown': max_drawdown, 'Bottom': end_date})\n",
    "\n",
    "        for col in drawdown:\n",
    "            summary.loc[col,'Peak'] = (rolling_max.loc[:end_date[col],col]).idxmax()\n",
    "            recovery = (drawdown.loc[end_date[col]:,col])\n",
    "            try:\n",
    "                summary.loc[col,'Recover'] = pd.to_datetime(recovery[recovery >= 0].index[0])\n",
    "            except:\n",
    "                summary.loc[col,'Recover'] = pd.to_datetime(None)\n",
    "\n",
    "            summary['Peak'] = pd.to_datetime(summary['Peak'])\n",
    "            try:\n",
    "                summary['Duration (to Recover)'] = (summary['Recover'] - summary['Peak'])\n",
    "            except:\n",
    "                summary['Duration (to Recover)'] = None\n",
    "\n",
    "            summary = summary[['Max Drawdown','Peak','Bottom','Recover','Duration (to Recover)']]\n",
    "\n",
    "        return summary  \n",
    "\n",
    "def portfolio_stats(data):\n",
    "    # Calculate the mean and annualize\n",
    "    mean = data.mean() * 12\n",
    "\n",
    "    # Volatility = standard deviation\n",
    "    # Annualize the result with sqrt(12)\n",
    "    vol = data.std() * np.sqrt(12)\n",
    "\n",
    "    # Sharpe Ratio is mean / vol\n",
    "    sharpe_ratio = mean / vol\n",
    "\n",
    "    # Format for easy reading\n",
    "    return round(pd.DataFrame(data = [mean, vol, sharpe_ratio], \n",
    "        index = ['Mean', 'Volatility', 'mean-to-vol']), 4)\n",
    "\n",
    "portfolio_stats(risk_data)"
   ]
  },
  {
   "cell_type": "code",
   "execution_count": 178,
   "metadata": {},
   "outputs": [
    {
     "data": {
      "text/html": [
       "<div>\n",
       "<style scoped>\n",
       "    .dataframe tbody tr th:only-of-type {\n",
       "        vertical-align: middle;\n",
       "    }\n",
       "\n",
       "    .dataframe tbody tr th {\n",
       "        vertical-align: top;\n",
       "    }\n",
       "\n",
       "    .dataframe thead th {\n",
       "        text-align: right;\n",
       "    }\n",
       "</style>\n",
       "<table border=\"1\" class=\"dataframe\">\n",
       "  <thead>\n",
       "    <tr style=\"text-align: right;\">\n",
       "      <th></th>\n",
       "      <th>Max Drawdown</th>\n",
       "      <th>Peak</th>\n",
       "      <th>Bottom</th>\n",
       "      <th>Recover</th>\n",
       "      <th>Duration (to Recover)</th>\n",
       "    </tr>\n",
       "  </thead>\n",
       "  <tbody>\n",
       "    <tr>\n",
       "      <th>GC1</th>\n",
       "      <td>-0.4296</td>\n",
       "      <td>2011-08-31</td>\n",
       "      <td>2015-12-31</td>\n",
       "      <td>NaN</td>\n",
       "      <td>None</td>\n",
       "    </tr>\n",
       "    <tr>\n",
       "      <th>ES1</th>\n",
       "      <td>-0.2032</td>\n",
       "      <td>2019-12-31</td>\n",
       "      <td>2020-03-31</td>\n",
       "      <td>2020-07-31 00:00:00</td>\n",
       "      <td>None</td>\n",
       "    </tr>\n",
       "    <tr>\n",
       "      <th>50/50</th>\n",
       "      <td>-0.1210</td>\n",
       "      <td>2022-03-31</td>\n",
       "      <td>2022-06-30</td>\n",
       "      <td>None</td>\n",
       "      <td>None</td>\n",
       "    </tr>\n",
       "  </tbody>\n",
       "</table>\n",
       "</div>"
      ],
      "text/plain": [
       "       Max Drawdown       Peak     Bottom              Recover  \\\n",
       "GC1         -0.4296 2011-08-31 2015-12-31                  NaN   \n",
       "ES1         -0.2032 2019-12-31 2020-03-31  2020-07-31 00:00:00   \n",
       "50/50       -0.1210 2022-03-31 2022-06-30                 None   \n",
       "\n",
       "      Duration (to Recover)  \n",
       "GC1                    None  \n",
       "ES1                    None  \n",
       "50/50                  None  "
      ]
     },
     "execution_count": 178,
     "metadata": {},
     "output_type": "execute_result"
    }
   ],
   "source": [
    "maximumDrawdown(risk_data)"
   ]
  },
  {
   "cell_type": "code",
   "execution_count": 179,
   "metadata": {},
   "outputs": [
    {
     "data": {
      "text/plain": [
       "<AxesSubplot: >"
      ]
     },
     "execution_count": 179,
     "metadata": {},
     "output_type": "execute_result"
    },
    {
     "data": {
      "image/png": "[encoded data removed]",
      "text/plain": [
       "<Figure size 432x288 with 2 Axes>"
      ]
     },
     "metadata": {
      "needs_background": "light"
     },
     "output_type": "display_data"
    }
   ],
   "source": [
    "corrmat = risk_data.corr()\n",
    "sns.heatmap(corrmat,annot=True)"
   ]
  },
  {
   "cell_type": "markdown",
   "metadata": {},
   "source": [
    "#### 4.2 How does the 50/50 portfolio compare to the individual components in terms of volatility, maximum drawdown, and mean-to-vol ratio? Is this as we would expect from the portfolio theory?\n",
    "\n",
    "In terms of volatility, the 50/50 portfolio is less volatile than either GC1 or ES1. It's maximum drawdown is also less, while it's Mean to Vol Ratio falls somewhere in the middle of the other two. This is not unexpected, given there is a low correlation between GC1 and ES1. By combining two relatively uncorrelated assets, we've reduced the risk of the third portfolio. Correspondingly, the maximum drawdown (or maximum loss) of the combined portfolio is less. Because the mean (return) of the 50/50 portfolio lies between the returns of the assets that make it up, it is also not a surprise that its Mean to Vol ratio also lies in the middle."
   ]
  },
  {
   "cell_type": "markdown",
   "metadata": {},
   "source": [
    "#### 4.3 Calculate the 1-period, 1% CVaR of the 50/50 portfolio analytically.\n",
    "\n"
   ]
  },
  {
   "cell_type": "code",
   "execution_count": 180,
   "metadata": {},
   "outputs": [
    {
     "data": {
      "text/html": [
       "<div>\n",
       "<style scoped>\n",
       "    .dataframe tbody tr th:only-of-type {\n",
       "        vertical-align: middle;\n",
       "    }\n",
       "\n",
       "    .dataframe tbody tr th {\n",
       "        vertical-align: top;\n",
       "    }\n",
       "\n",
       "    .dataframe thead th {\n",
       "        text-align: right;\n",
       "    }\n",
       "</style>\n",
       "<table border=\"1\" class=\"dataframe\">\n",
       "  <thead>\n",
       "    <tr style=\"text-align: right;\">\n",
       "      <th></th>\n",
       "      <th>GC1</th>\n",
       "      <th>ES1</th>\n",
       "      <th>50/50</th>\n",
       "      <th>Expanding CVaR</th>\n",
       "      <th>Rolling CVaR</th>\n",
       "    </tr>\n",
       "    <tr>\n",
       "      <th>date</th>\n",
       "      <th></th>\n",
       "      <th></th>\n",
       "      <th></th>\n",
       "      <th></th>\n",
       "      <th></th>\n",
       "    </tr>\n",
       "  </thead>\n",
       "  <tbody>\n",
       "    <tr>\n",
       "      <th>2009-01-31</th>\n",
       "      <td>0.0486</td>\n",
       "      <td>-0.0861</td>\n",
       "      <td>-0.0187</td>\n",
       "      <td>NaN</td>\n",
       "      <td>NaN</td>\n",
       "    </tr>\n",
       "    <tr>\n",
       "      <th>2009-02-28</th>\n",
       "      <td>0.0152</td>\n",
       "      <td>-0.1073</td>\n",
       "      <td>-0.0461</td>\n",
       "      <td>-0.0193</td>\n",
       "      <td>NaN</td>\n",
       "    </tr>\n",
       "    <tr>\n",
       "      <th>2009-03-31</th>\n",
       "      <td>-0.0211</td>\n",
       "      <td>0.0872</td>\n",
       "      <td>0.0330</td>\n",
       "      <td>-0.0402</td>\n",
       "      <td>NaN</td>\n",
       "    </tr>\n",
       "    <tr>\n",
       "      <th>2009-04-30</th>\n",
       "      <td>-0.0365</td>\n",
       "      <td>0.0947</td>\n",
       "      <td>0.0291</td>\n",
       "      <td>-0.0383</td>\n",
       "      <td>NaN</td>\n",
       "    </tr>\n",
       "    <tr>\n",
       "      <th>2009-05-31</th>\n",
       "      <td>0.0983</td>\n",
       "      <td>0.0552</td>\n",
       "      <td>0.0767</td>\n",
       "      <td>-0.0480</td>\n",
       "      <td>NaN</td>\n",
       "    </tr>\n",
       "    <tr>\n",
       "      <th>...</th>\n",
       "      <td>...</td>\n",
       "      <td>...</td>\n",
       "      <td>...</td>\n",
       "      <td>...</td>\n",
       "      <td>...</td>\n",
       "    </tr>\n",
       "    <tr>\n",
       "      <th>2022-02-28</th>\n",
       "      <td>0.0581</td>\n",
       "      <td>-0.0302</td>\n",
       "      <td>0.0139</td>\n",
       "      <td>-0.0325</td>\n",
       "      <td>-0.0385</td>\n",
       "    </tr>\n",
       "    <tr>\n",
       "      <th>2022-03-31</th>\n",
       "      <td>0.0255</td>\n",
       "      <td>0.0392</td>\n",
       "      <td>0.0323</td>\n",
       "      <td>-0.0324</td>\n",
       "      <td>-0.0355</td>\n",
       "    </tr>\n",
       "    <tr>\n",
       "      <th>2022-04-30</th>\n",
       "      <td>-0.0216</td>\n",
       "      <td>-0.0890</td>\n",
       "      <td>-0.0553</td>\n",
       "      <td>-0.0327</td>\n",
       "      <td>-0.0344</td>\n",
       "    </tr>\n",
       "    <tr>\n",
       "      <th>2022-05-31</th>\n",
       "      <td>-0.0361</td>\n",
       "      <td>0.0009</td>\n",
       "      <td>-0.0176</td>\n",
       "      <td>-0.0327</td>\n",
       "      <td>-0.0344</td>\n",
       "    </tr>\n",
       "    <tr>\n",
       "      <th>2022-06-30</th>\n",
       "      <td>-0.0222</td>\n",
       "      <td>-0.0834</td>\n",
       "      <td>-0.0528</td>\n",
       "      <td>-0.0329</td>\n",
       "      <td>-0.0364</td>\n",
       "    </tr>\n",
       "  </tbody>\n",
       "</table>\n",
       "<p>162 rows × 5 columns</p>\n",
       "</div>"
      ],
      "text/plain": [
       "               GC1     ES1   50/50  Expanding CVaR  Rolling CVaR\n",
       "date                                                            \n",
       "2009-01-31  0.0486 -0.0861 -0.0187             NaN           NaN\n",
       "2009-02-28  0.0152 -0.1073 -0.0461         -0.0193           NaN\n",
       "2009-03-31 -0.0211  0.0872  0.0330         -0.0402           NaN\n",
       "2009-04-30 -0.0365  0.0947  0.0291         -0.0383           NaN\n",
       "2009-05-31  0.0983  0.0552  0.0767         -0.0480           NaN\n",
       "...            ...     ...     ...             ...           ...\n",
       "2022-02-28  0.0581 -0.0302  0.0139         -0.0325       -0.0385\n",
       "2022-03-31  0.0255  0.0392  0.0323         -0.0324       -0.0355\n",
       "2022-04-30 -0.0216 -0.0890 -0.0553         -0.0327       -0.0344\n",
       "2022-05-31 -0.0361  0.0009 -0.0176         -0.0327       -0.0344\n",
       "2022-06-30 -0.0222 -0.0834 -0.0528         -0.0329       -0.0364\n",
       "\n",
       "[162 rows x 5 columns]"
      ]
     },
     "execution_count": 180,
     "metadata": {},
     "output_type": "execute_result"
    }
   ],
   "source": [
    "# a) Volatility (Expanding Series)\n",
    "sigma_expanding = risk_data['50/50'].expanding().std()\n",
    "\n",
    "# b) Volatility (Rolling Series)\n",
    "sigma_rolling = risk_data['50/50'].rolling(24).std()\n",
    "\n",
    "q = 0.01\n",
    "z = scipy.stats.norm.ppf(q)\n",
    "coef_CVaR = -scipy.stats.norm().cdf(z)/q\n",
    "CVaR_data = pd.DataFrame()\n",
    "risk_data['Expanding CVaR'] = sigma_expanding*coef_CVaR\n",
    "risk_data['Rolling CVaR'] = sigma_rolling*coef_CVaR\n",
    "risk_data\n"
   ]
  },
  {
   "cell_type": "markdown",
   "metadata": {},
   "source": [
    "#### 4.4 What is the probability that over the next 10 years, ES1 underperforms the 50/50 portfolio?"
   ]
  },
  {
   "cell_type": "code",
   "execution_count": 181,
   "metadata": {},
   "outputs": [
    {
     "name": "stdout",
     "output_type": "stream",
     "text": [
      "    Probability\n",
      "h              \n",
      "10       0.1684\n",
      "The probability that ES1 underperforms the 50/50 portfolio is 16.84%\n"
     ]
    }
   ],
   "source": [
    "# Mu calculation\n",
    "log_risk_data = np.log(1 + risk_data)\n",
    "mu = (log_risk_data['ES1'].mean()-log_risk_data['50/50'].mean()) *12\n",
    "var = (log_risk_data['ES1']-log_risk_data['50/50']).std() *np.sqrt(12)\n",
    "\n",
    "def prob_calc(h, tilde_mu, tilde_sigma):\n",
    "    return scipy.stats.norm.cdf((- np.sqrt(h) * tilde_mu) / tilde_sigma)\n",
    "\n",
    "def prob(h, tilde_mu, tilde_sigma):\n",
    "    prob_df = pd.DataFrame(data = h, columns = ['h'])\n",
    "    \n",
    "    prob_df['Probability'] = prob_calc(prob_df['h'], tilde_mu, tilde_sigma)\n",
    "    \n",
    "    prob_df = prob_df.set_index('h')\n",
    "    \n",
    "    return prob_df\n",
    "\n",
    "print(prob([10], mu, var))\n",
    "\n",
    "print(f\"The probability that ES1 underperforms the 50/50 portfolio is 16.84%\")\n"
   ]
  }
 ],
 "metadata": {
  "kernelspec": {
   "display_name": "Python 3.10.7 64-bit (microsoft store)",
   "language": "python",
   "name": "python3"
  },
  "language_info": {
   "codemirror_mode": {
    "name": "ipython",
    "version": 3
   },
   "file_extension": ".py",
   "mimetype": "text/x-python",
   "name": "python",
   "nbconvert_exporter": "python",
   "pygments_lexer": "ipython3",
   "version": "3.10.8"
  },
  "orig_nbformat": 4,
  "vscode": {
   "interpreter": {
    "hash": "28c29896733cd258a7e144e5cfe10ab10fb1ed1767adc491e37af3f909fe0b53"
   }
  }
 },
 "nbformat": 4,
 "nbformat_minor": 2
}
