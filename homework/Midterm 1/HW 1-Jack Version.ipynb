{
 "cells": [
  {
   "cell_type": "markdown",
   "metadata": {},
   "source": [
    "1. Summary Statistics\n",
    "<br/>(a) Calculate and display the mean and volatility of each asset’s excess return. (Recall we use\n",
    "volatility to refer to standard deviation.)\n",
    "<br/>(b) Which assets have the best and worst Sharpe ratios4?"
   ]
  },
  {
   "cell_type": "code",
   "execution_count": 121,
   "metadata": {},
   "outputs": [
    {
     "data": {
      "text/html": [
       "<div>\n",
       "<style scoped>\n",
       "    .dataframe tbody tr th:only-of-type {\n",
       "        vertical-align: middle;\n",
       "    }\n",
       "\n",
       "    .dataframe tbody tr th {\n",
       "        vertical-align: top;\n",
       "    }\n",
       "\n",
       "    .dataframe thead th {\n",
       "        text-align: right;\n",
       "    }\n",
       "</style>\n",
       "<table border=\"1\" class=\"dataframe\">\n",
       "  <thead>\n",
       "    <tr style=\"text-align: right;\">\n",
       "      <th></th>\n",
       "      <th>BWX</th>\n",
       "      <th>DBC</th>\n",
       "      <th>EEM</th>\n",
       "      <th>EFA</th>\n",
       "      <th>HYG</th>\n",
       "      <th>IEF</th>\n",
       "      <th>IYR</th>\n",
       "      <th>PSP</th>\n",
       "      <th>QAI</th>\n",
       "      <th>SPY</th>\n",
       "      <th>TIP</th>\n",
       "    </tr>\n",
       "    <tr>\n",
       "      <th>Date</th>\n",
       "      <th></th>\n",
       "      <th></th>\n",
       "      <th></th>\n",
       "      <th></th>\n",
       "      <th></th>\n",
       "      <th></th>\n",
       "      <th></th>\n",
       "      <th></th>\n",
       "      <th></th>\n",
       "      <th></th>\n",
       "      <th></th>\n",
       "    </tr>\n",
       "  </thead>\n",
       "  <tbody>\n",
       "    <tr>\n",
       "      <th>2009-04-30</th>\n",
       "      <td>0.008993</td>\n",
       "      <td>-0.001000</td>\n",
       "      <td>0.155582</td>\n",
       "      <td>0.115190</td>\n",
       "      <td>0.138460</td>\n",
       "      <td>-0.027452</td>\n",
       "      <td>0.296151</td>\n",
       "      <td>0.230202</td>\n",
       "      <td>0.022882</td>\n",
       "      <td>0.099346</td>\n",
       "      <td>-0.017952</td>\n",
       "    </tr>\n",
       "    <tr>\n",
       "      <th>2009-05-31</th>\n",
       "      <td>0.053672</td>\n",
       "      <td>0.162663</td>\n",
       "      <td>0.159400</td>\n",
       "      <td>0.131918</td>\n",
       "      <td>0.028555</td>\n",
       "      <td>-0.020773</td>\n",
       "      <td>0.022727</td>\n",
       "      <td>0.053892</td>\n",
       "      <td>0.027865</td>\n",
       "      <td>0.058454</td>\n",
       "      <td>0.019967</td>\n",
       "    </tr>\n",
       "    <tr>\n",
       "      <th>2009-06-30</th>\n",
       "      <td>0.005149</td>\n",
       "      <td>-0.026259</td>\n",
       "      <td>-0.022495</td>\n",
       "      <td>-0.014050</td>\n",
       "      <td>0.033516</td>\n",
       "      <td>-0.005572</td>\n",
       "      <td>-0.024863</td>\n",
       "      <td>0.045449</td>\n",
       "      <td>-0.003436</td>\n",
       "      <td>-0.000655</td>\n",
       "      <td>0.001982</td>\n",
       "    </tr>\n",
       "    <tr>\n",
       "      <th>2009-07-31</th>\n",
       "      <td>0.031284</td>\n",
       "      <td>0.018568</td>\n",
       "      <td>0.110146</td>\n",
       "      <td>0.100415</td>\n",
       "      <td>0.069191</td>\n",
       "      <td>0.008317</td>\n",
       "      <td>0.105799</td>\n",
       "      <td>0.143247</td>\n",
       "      <td>0.015326</td>\n",
       "      <td>0.074606</td>\n",
       "      <td>0.000879</td>\n",
       "    </tr>\n",
       "    <tr>\n",
       "      <th>2009-08-31</th>\n",
       "      <td>0.007628</td>\n",
       "      <td>-0.040365</td>\n",
       "      <td>-0.013136</td>\n",
       "      <td>0.045031</td>\n",
       "      <td>-0.016969</td>\n",
       "      <td>0.007635</td>\n",
       "      <td>0.131939</td>\n",
       "      <td>0.033413</td>\n",
       "      <td>-0.004151</td>\n",
       "      <td>0.036939</td>\n",
       "      <td>0.008413</td>\n",
       "    </tr>\n",
       "  </tbody>\n",
       "</table>\n",
       "</div>"
      ],
      "text/plain": [
       "                 BWX       DBC       EEM       EFA       HYG       IEF  \\\n",
       "Date                                                                     \n",
       "2009-04-30  0.008993 -0.001000  0.155582  0.115190  0.138460 -0.027452   \n",
       "2009-05-31  0.053672  0.162663  0.159400  0.131918  0.028555 -0.020773   \n",
       "2009-06-30  0.005149 -0.026259 -0.022495 -0.014050  0.033516 -0.005572   \n",
       "2009-07-31  0.031284  0.018568  0.110146  0.100415  0.069191  0.008317   \n",
       "2009-08-31  0.007628 -0.040365 -0.013136  0.045031 -0.016969  0.007635   \n",
       "\n",
       "                 IYR       PSP       QAI       SPY       TIP  \n",
       "Date                                                          \n",
       "2009-04-30  0.296151  0.230202  0.022882  0.099346 -0.017952  \n",
       "2009-05-31  0.022727  0.053892  0.027865  0.058454  0.019967  \n",
       "2009-06-30 -0.024863  0.045449 -0.003436 -0.000655  0.001982  \n",
       "2009-07-31  0.105799  0.143247  0.015326  0.074606  0.000879  \n",
       "2009-08-31  0.131939  0.033413 -0.004151  0.036939  0.008413  "
      ]
     },
     "execution_count": 121,
     "metadata": {},
     "output_type": "execute_result"
    }
   ],
   "source": [
    "# Import pandas, numpy\n",
    "import pandas as pd\n",
    "import numpy as np\n",
    "# Read excel file, sheet total returns\n",
    "totalReturnData = pd.read_excel('../data/multi_asset_etf_data.xlsx', 'total returns')\n",
    "# Set the index to Data (rather than default 0 indexing)\n",
    "totalReturnData = totalReturnData.drop(columns=['SHV'])\n",
    "totalReturnData = totalReturnData.set_index('Date')\n",
    "# Display top rows for validation\n",
    "totalReturnData.head()"
   ]
  },
  {
   "cell_type": "code",
   "execution_count": 122,
   "metadata": {},
   "outputs": [
    {
     "data": {
      "text/html": [
       "<div>\n",
       "<style scoped>\n",
       "    .dataframe tbody tr th:only-of-type {\n",
       "        vertical-align: middle;\n",
       "    }\n",
       "\n",
       "    .dataframe tbody tr th {\n",
       "        vertical-align: top;\n",
       "    }\n",
       "\n",
       "    .dataframe thead th {\n",
       "        text-align: right;\n",
       "    }\n",
       "</style>\n",
       "<table border=\"1\" class=\"dataframe\">\n",
       "  <thead>\n",
       "    <tr style=\"text-align: right;\">\n",
       "      <th></th>\n",
       "      <th>Mean</th>\n",
       "      <th>Volatility</th>\n",
       "      <th>Sharpe</th>\n",
       "    </tr>\n",
       "  </thead>\n",
       "  <tbody>\n",
       "    <tr>\n",
       "      <th>BWX</th>\n",
       "      <td>0.004653</td>\n",
       "      <td>0.078535</td>\n",
       "      <td>0.059248</td>\n",
       "    </tr>\n",
       "    <tr>\n",
       "      <th>DBC</th>\n",
       "      <td>0.038846</td>\n",
       "      <td>0.180186</td>\n",
       "      <td>0.215590</td>\n",
       "    </tr>\n",
       "    <tr>\n",
       "      <th>EEM</th>\n",
       "      <td>0.072621</td>\n",
       "      <td>0.191787</td>\n",
       "      <td>0.378655</td>\n",
       "    </tr>\n",
       "    <tr>\n",
       "      <th>EFA</th>\n",
       "      <td>0.081124</td>\n",
       "      <td>0.161885</td>\n",
       "      <td>0.501125</td>\n",
       "    </tr>\n",
       "    <tr>\n",
       "      <th>HYG</th>\n",
       "      <td>0.071588</td>\n",
       "      <td>0.089403</td>\n",
       "      <td>0.800730</td>\n",
       "    </tr>\n",
       "    <tr>\n",
       "      <th>IEF</th>\n",
       "      <td>0.025833</td>\n",
       "      <td>0.060077</td>\n",
       "      <td>0.429996</td>\n",
       "    </tr>\n",
       "    <tr>\n",
       "      <th>IYR</th>\n",
       "      <td>0.150128</td>\n",
       "      <td>0.184407</td>\n",
       "      <td>0.814113</td>\n",
       "    </tr>\n",
       "    <tr>\n",
       "      <th>PSP</th>\n",
       "      <td>0.133272</td>\n",
       "      <td>0.221299</td>\n",
       "      <td>0.602227</td>\n",
       "    </tr>\n",
       "    <tr>\n",
       "      <th>QAI</th>\n",
       "      <td>0.022862</td>\n",
       "      <td>0.048879</td>\n",
       "      <td>0.467723</td>\n",
       "    </tr>\n",
       "    <tr>\n",
       "      <th>SPY</th>\n",
       "      <td>0.150293</td>\n",
       "      <td>0.144811</td>\n",
       "      <td>1.037857</td>\n",
       "    </tr>\n",
       "    <tr>\n",
       "      <th>TIP</th>\n",
       "      <td>0.034967</td>\n",
       "      <td>0.047833</td>\n",
       "      <td>0.731032</td>\n",
       "    </tr>\n",
       "  </tbody>\n",
       "</table>\n",
       "</div>"
      ],
      "text/plain": [
       "         Mean  Volatility    Sharpe\n",
       "BWX  0.004653    0.078535  0.059248\n",
       "DBC  0.038846    0.180186  0.215590\n",
       "EEM  0.072621    0.191787  0.378655\n",
       "EFA  0.081124    0.161885  0.501125\n",
       "HYG  0.071588    0.089403  0.800730\n",
       "IEF  0.025833    0.060077  0.429996\n",
       "IYR  0.150128    0.184407  0.814113\n",
       "PSP  0.133272    0.221299  0.602227\n",
       "QAI  0.022862    0.048879  0.467723\n",
       "SPY  0.150293    0.144811  1.037857\n",
       "TIP  0.034967    0.047833  0.731032"
      ]
     },
     "execution_count": 122,
     "metadata": {},
     "output_type": "execute_result"
    }
   ],
   "source": [
    "# Summary Statistics- 1(a)\n",
    "# Calculate the mean of the data * 12 for annualization (don't want monthly data)\n",
    "# Defaults to Axis=0 (columns)\n",
    "summaryStatistics = (totalReturnData.mean() * 12).to_frame('Mean')\n",
    "\n",
    "# Add in column for volatility\n",
    "# Volatility is standard deviation, annualized with sqrt(12)\n",
    "summaryStatistics['Volatility'] = totalReturnData.std() * np.sqrt(12)\n",
    "\n",
    "# Calculate Sharpe Ratios (Sharpe = mean/volatility). Higher = Better\n",
    "summaryStatistics['Sharpe'] = summaryStatistics['Mean']/summaryStatistics['Volatility']\n",
    "\n",
    "# Display result\n",
    "summaryStatistics"
   ]
  },
  {
   "cell_type": "code",
   "execution_count": 123,
   "metadata": {},
   "outputs": [
    {
     "data": {
      "text/html": [
       "<div>\n",
       "<style scoped>\n",
       "    .dataframe tbody tr th:only-of-type {\n",
       "        vertical-align: middle;\n",
       "    }\n",
       "\n",
       "    .dataframe tbody tr th {\n",
       "        vertical-align: top;\n",
       "    }\n",
       "\n",
       "    .dataframe thead th {\n",
       "        text-align: right;\n",
       "    }\n",
       "</style>\n",
       "<table border=\"1\" class=\"dataframe\">\n",
       "  <thead>\n",
       "    <tr style=\"text-align: right;\">\n",
       "      <th></th>\n",
       "      <th>Mean</th>\n",
       "      <th>Volatility</th>\n",
       "      <th>Sharpe</th>\n",
       "    </tr>\n",
       "  </thead>\n",
       "  <tbody>\n",
       "    <tr>\n",
       "      <th>SPY</th>\n",
       "      <td>0.150293</td>\n",
       "      <td>0.144811</td>\n",
       "      <td>1.037857</td>\n",
       "    </tr>\n",
       "  </tbody>\n",
       "</table>\n",
       "</div>"
      ],
      "text/plain": [
       "         Mean  Volatility    Sharpe\n",
       "SPY  0.150293    0.144811  1.037857"
      ]
     },
     "execution_count": 123,
     "metadata": {},
     "output_type": "execute_result"
    }
   ],
   "source": [
    "# Best Sharpe Ratio\n",
    "summaryStatistics.nlargest(1, 'Sharpe')"
   ]
  },
  {
   "cell_type": "code",
   "execution_count": 124,
   "metadata": {},
   "outputs": [
    {
     "data": {
      "text/html": [
       "<div>\n",
       "<style scoped>\n",
       "    .dataframe tbody tr th:only-of-type {\n",
       "        vertical-align: middle;\n",
       "    }\n",
       "\n",
       "    .dataframe tbody tr th {\n",
       "        vertical-align: top;\n",
       "    }\n",
       "\n",
       "    .dataframe thead th {\n",
       "        text-align: right;\n",
       "    }\n",
       "</style>\n",
       "<table border=\"1\" class=\"dataframe\">\n",
       "  <thead>\n",
       "    <tr style=\"text-align: right;\">\n",
       "      <th></th>\n",
       "      <th>Mean</th>\n",
       "      <th>Volatility</th>\n",
       "      <th>Sharpe</th>\n",
       "    </tr>\n",
       "  </thead>\n",
       "  <tbody>\n",
       "    <tr>\n",
       "      <th>BWX</th>\n",
       "      <td>0.004653</td>\n",
       "      <td>0.078535</td>\n",
       "      <td>0.059248</td>\n",
       "    </tr>\n",
       "  </tbody>\n",
       "</table>\n",
       "</div>"
      ],
      "text/plain": [
       "         Mean  Volatility    Sharpe\n",
       "BWX  0.004653    0.078535  0.059248"
      ]
     },
     "execution_count": 124,
     "metadata": {},
     "output_type": "execute_result"
    }
   ],
   "source": [
    "# Worst Sharpe Ratio\n",
    "summaryStatistics.nsmallest(1, 'Sharpe')"
   ]
  },
  {
   "cell_type": "markdown",
   "metadata": {},
   "source": [
    "Based on the calculations above, we can see that the asset class with the worst Sharpe ratio is BWX (SPDR Bloomberg International Tr), with a ratio of 0.059248. The asset class with the best Sharpe ratio is SPY (SPDR S&P 500), with a ratio of 1.037857."
   ]
  },
  {
   "cell_type": "markdown",
   "metadata": {},
   "source": [
    "2. Descriptive Analysis\n",
    "<br/>(a) Calculate the correlation matrix of the returns. Which pair has the highest correlation?\n",
    "And the lowest?\n",
    "<br/>(b) How well have TIPS done in our sample? Have they outperformed domestic bonds? Foreign\n",
    "bonds?\n",
    "<br/>(c) Based on the data, do TIPS seem to expand the investment opportunity set, implying that\n",
    "Harvard should consider them as a separate asset?"
   ]
  },
  {
   "cell_type": "code",
   "execution_count": 125,
   "metadata": {},
   "outputs": [
    {
     "data": {
      "image/png": "[encoded data removed]",
      "text/plain": [
       "<Figure size 864x432 with 2 Axes>"
      ]
     },
     "metadata": {
      "needs_background": "light"
     },
     "output_type": "display_data"
    }
   ],
   "source": [
    "# Improvement 1\n",
    "import seaborn as sns\n",
    "import matplotlib.pyplot as plt\n",
    "%matplotlib inline\n",
    "plt.rcParams['figure.figsize'] = (12,6)\n",
    "plt.rcParams['font.size'] = 15\n",
    "plt.rcParams['legend.fontsize'] = 13\n",
    "\n",
    "from matplotlib.ticker import (MultipleLocator,\n",
    "                               FormatStrFormatter,\n",
    "                               AutoMinorLocator)\n",
    "correlationMatrix = round(totalReturnData.corr(), 4)\n",
    "sns.heatmap(correlationMatrix,annot=True);\n",
    "plt.title('Correlation across Assets');"
   ]
  },
  {
   "cell_type": "code",
   "execution_count": 126,
   "metadata": {},
   "outputs": [
    {
     "name": "stdout",
     "output_type": "stream",
     "text": [
      "MIN Correlation pair is ('IEF', 'DBC')\n",
      "MAX Correlation pair is ('EFA', 'PSP')\n"
     ]
    }
   ],
   "source": [
    "# Make the diagonals NaN so we can find the highest and lowest pairwise correlations\n",
    "correlationMatrix[correlationMatrix == 1] = None\n",
    "\n",
    "corr_rank = correlationMatrix.unstack().sort_values().dropna()\n",
    "pair_max = corr_rank.index[-1]\n",
    "pair_min = corr_rank.index[0]\n",
    "\n",
    "print(f'MIN Correlation pair is {pair_min}')\n",
    "print(f'MAX Correlation pair is {pair_max}')\n"
   ]
  },
  {
   "cell_type": "code",
   "execution_count": 127,
   "metadata": {},
   "outputs": [
    {
     "name": "stdout",
     "output_type": "stream",
     "text": [
      "MIN Correlation pair is ('IYR', 'IEF'):0.0186\n",
      "MAX Correlation pair is ('EFA', 'PSP'):0.9087\n"
     ]
    }
   ],
   "source": [
    "# Difference 1\n",
    "abs_corr_rank = abs(corr_rank).sort_values()\n",
    "abs_pair_max = abs_corr_rank.index[-1]\n",
    "abs_pair_min = abs_corr_rank.index[0]\n",
    "\n",
    "print(f'MIN Correlation pair is {abs_pair_min}:{abs_corr_rank[0]}')\n",
    "print(f'MAX Correlation pair is {abs_pair_max}:{abs_corr_rank[-1]}')"
   ]
  },
  {
   "cell_type": "markdown",
   "metadata": {},
   "source": [
    "2(a) The pair of asset classes with the lowest correlation is IEF (iShares 7-10 Year Treasury Bond) and DBC (Invesco DB Commodity Index Trac). The pair of asset classes with the highest correlation is EFA (iShares MSCI EAFE ETF) and PSP (Invesco Global Listed Private E)."
   ]
  },
  {
   "cell_type": "code",
   "execution_count": 128,
   "metadata": {},
   "outputs": [
    {
     "data": {
      "text/html": [
       "<div>\n",
       "<style scoped>\n",
       "    .dataframe tbody tr th:only-of-type {\n",
       "        vertical-align: middle;\n",
       "    }\n",
       "\n",
       "    .dataframe tbody tr th {\n",
       "        vertical-align: top;\n",
       "    }\n",
       "\n",
       "    .dataframe thead th {\n",
       "        text-align: right;\n",
       "    }\n",
       "</style>\n",
       "<table border=\"1\" class=\"dataframe\">\n",
       "  <thead>\n",
       "    <tr style=\"text-align: right;\">\n",
       "      <th></th>\n",
       "      <th>Mean</th>\n",
       "      <th>Volatility</th>\n",
       "      <th>Sharpe</th>\n",
       "    </tr>\n",
       "  </thead>\n",
       "  <tbody>\n",
       "    <tr>\n",
       "      <th>TIP</th>\n",
       "      <td>0.034967</td>\n",
       "      <td>0.047833</td>\n",
       "      <td>0.731032</td>\n",
       "    </tr>\n",
       "    <tr>\n",
       "      <th>IEF</th>\n",
       "      <td>0.025833</td>\n",
       "      <td>0.060077</td>\n",
       "      <td>0.429996</td>\n",
       "    </tr>\n",
       "    <tr>\n",
       "      <th>BWX</th>\n",
       "      <td>0.004653</td>\n",
       "      <td>0.078535</td>\n",
       "      <td>0.059248</td>\n",
       "    </tr>\n",
       "  </tbody>\n",
       "</table>\n",
       "</div>"
      ],
      "text/plain": [
       "         Mean  Volatility    Sharpe\n",
       "TIP  0.034967    0.047833  0.731032\n",
       "IEF  0.025833    0.060077  0.429996\n",
       "BWX  0.004653    0.078535  0.059248"
      ]
     },
     "execution_count": 128,
     "metadata": {},
     "output_type": "execute_result"
    }
   ],
   "source": [
    "# Compare TIPS to domestic bonds (IEF) and foreign bonds (BWX)\n",
    "summaryStatistics.loc[['TIP', 'IEF', 'BWX']]"
   ]
  },
  {
   "cell_type": "markdown",
   "metadata": {},
   "source": [
    "2(b) Remembering that Mean = Returns, TIPS outperformed both the domestic and foreign bonds in returns. Additionally, TIPS had a lower Volatility than either of the other asset classes, so its overall Sharpe Ratio was better."
   ]
  },
  {
   "cell_type": "markdown",
   "metadata": {},
   "source": [
    "2(c) TIP is not very highly correlated to any other asset classes. Only IEF and BWX have a cross-correlation with TIP > 0.5. Given that TIP outperformed both of the asset classes it is most closely correlated with, TIP is worth adding to the portfolio."
   ]
  },
  {
   "cell_type": "markdown",
   "metadata": {},
   "source": [
    "3. The MV frontier.\n",
    "<br/> (a) Compute and display the weights of the tangency portfolios: wt.\n",
    "<br/> (b) Compute the mean, volatility, and Sharpe ratio for the tangency portfolio corresponding to\n",
    "wt."
   ]
  },
  {
   "cell_type": "code",
   "execution_count": 129,
   "metadata": {},
   "outputs": [
    {
     "data": {
      "text/html": [
       "<div>\n",
       "<style scoped>\n",
       "    .dataframe tbody tr th:only-of-type {\n",
       "        vertical-align: middle;\n",
       "    }\n",
       "\n",
       "    .dataframe tbody tr th {\n",
       "        vertical-align: top;\n",
       "    }\n",
       "\n",
       "    .dataframe thead th {\n",
       "        text-align: right;\n",
       "    }\n",
       "</style>\n",
       "<table border=\"1\" class=\"dataframe\">\n",
       "  <thead>\n",
       "    <tr style=\"text-align: right;\">\n",
       "      <th></th>\n",
       "      <th>Tangency Weights</th>\n",
       "    </tr>\n",
       "  </thead>\n",
       "  <tbody>\n",
       "    <tr>\n",
       "      <th>BWX</th>\n",
       "      <td>-1.335168</td>\n",
       "    </tr>\n",
       "    <tr>\n",
       "      <th>DBC</th>\n",
       "      <td>0.239151</td>\n",
       "    </tr>\n",
       "    <tr>\n",
       "      <th>EEM</th>\n",
       "      <td>0.339786</td>\n",
       "    </tr>\n",
       "    <tr>\n",
       "      <th>EFA</th>\n",
       "      <td>-0.117068</td>\n",
       "    </tr>\n",
       "    <tr>\n",
       "      <th>HYG</th>\n",
       "      <td>1.070489</td>\n",
       "    </tr>\n",
       "    <tr>\n",
       "      <th>IEF</th>\n",
       "      <td>2.457952</td>\n",
       "    </tr>\n",
       "    <tr>\n",
       "      <th>IYR</th>\n",
       "      <td>-0.307783</td>\n",
       "    </tr>\n",
       "    <tr>\n",
       "      <th>PSP</th>\n",
       "      <td>-0.513078</td>\n",
       "    </tr>\n",
       "    <tr>\n",
       "      <th>QAI</th>\n",
       "      <td>-3.955222</td>\n",
       "    </tr>\n",
       "    <tr>\n",
       "      <th>SPY</th>\n",
       "      <td>2.430623</td>\n",
       "    </tr>\n",
       "    <tr>\n",
       "      <th>TIP</th>\n",
       "      <td>0.690317</td>\n",
       "    </tr>\n",
       "  </tbody>\n",
       "</table>\n",
       "</div>"
      ],
      "text/plain": [
       "     Tangency Weights\n",
       "BWX         -1.335168\n",
       "DBC          0.239151\n",
       "EEM          0.339786\n",
       "EFA         -0.117068\n",
       "HYG          1.070489\n",
       "IEF          2.457952\n",
       "IYR         -0.307783\n",
       "PSP         -0.513078\n",
       "QAI         -3.955222\n",
       "SPY          2.430623\n",
       "TIP          0.690317"
      ]
     },
     "execution_count": 129,
     "metadata": {},
     "output_type": "execute_result"
    }
   ],
   "source": [
    "# Remember tangency portfolio = ( 1 / 1' * (Sigma^-1) * mu) * (Sigma^-1) * mu\n",
    "# Where Sigma^-1 is the inverse of the covariance matrix\n",
    "# mu is the vector of mean excess returns\n",
    "# Write method compute_tangency to return weights of the tangency portfolio, given matrix of excess returns\n",
    "\n",
    "\n",
    "def compute_tangency(totalReturnMatrix):\n",
    "    # Get the covariance matrix based on excess returns\n",
    "    sigma = totalReturnMatrix.cov()\n",
    "    \n",
    "    # Get the number of asset classes (in this example should be 11)\n",
    "    n = sigma.shape[0]\n",
    "    \n",
    "    # Get the vector of mean excess returns\n",
    "    mu = totalReturnMatrix.mean()\n",
    "    \n",
    "    # Get sigma inverse\n",
    "    sigma_inv = np.linalg.inv(sigma)\n",
    "    \n",
    "    # Now we have all the pieces, do the calculation\n",
    "    weights = (sigma_inv @ mu) / (np.ones(n) @ sigma_inv @ mu)\n",
    "    \n",
    "    # Convert back to a Series for convenience\n",
    "    return pd.Series(weights, index=mu.index)\n",
    "\n",
    "tangency_weights = compute_tangency(totalReturnData)\n",
    "tangency_weights.to_frame('Tangency Weights')"
   ]
  },
  {
   "cell_type": "markdown",
   "metadata": {},
   "source": [
    "(b) Compute the mean, volatility, and Sharpe ratio for the tangency portfolio corresponding to the tangency portfolio."
   ]
  },
  {
   "cell_type": "code",
   "execution_count": 130,
   "metadata": {},
   "outputs": [
    {
     "data": {
      "text/html": [
       "<div>\n",
       "<style scoped>\n",
       "    .dataframe tbody tr th:only-of-type {\n",
       "        vertical-align: middle;\n",
       "    }\n",
       "\n",
       "    .dataframe tbody tr th {\n",
       "        vertical-align: top;\n",
       "    }\n",
       "\n",
       "    .dataframe thead th {\n",
       "        text-align: right;\n",
       "    }\n",
       "</style>\n",
       "<table border=\"1\" class=\"dataframe\">\n",
       "  <thead>\n",
       "    <tr style=\"text-align: right;\">\n",
       "      <th></th>\n",
       "      <th>Portfolio Stats</th>\n",
       "    </tr>\n",
       "  </thead>\n",
       "  <tbody>\n",
       "    <tr>\n",
       "      <th>Mean</th>\n",
       "      <td>0.3428</td>\n",
       "    </tr>\n",
       "    <tr>\n",
       "      <th>Volatility</th>\n",
       "      <td>0.1759</td>\n",
       "    </tr>\n",
       "    <tr>\n",
       "      <th>Sharpe</th>\n",
       "      <td>1.9493</td>\n",
       "    </tr>\n",
       "  </tbody>\n",
       "</table>\n",
       "</div>"
      ],
      "text/plain": [
       "            Portfolio Stats\n",
       "Mean                 0.3428\n",
       "Volatility           0.1759\n",
       "Sharpe               1.9493"
      ]
     },
     "execution_count": 130,
     "metadata": {},
     "output_type": "execute_result"
    }
   ],
   "source": [
    "# Difference 2 / But same results\n",
    "def portfolio_stats(totalReturnData, portfolio_weights):\n",
    "    # Calculate the mean by multiplying the mean excess returns by the tangency weights and annualizing\n",
    "    # TODO: double check where these formulas came from (class notes?)\n",
    "    mean = totalReturnData.mean() @ portfolio_weights * 12\n",
    "\n",
    "    # Volatility = sqrt(variance), and by class notes: variance = allocation_matrix * covariance_matrix * allocation_matrix\n",
    "    # Annualize the result with sqrt(12)\n",
    "    vol = (totalReturnData @ portfolio_weights).std()*np.sqrt(12)\n",
    "\n",
    "    # Sharpe Ratio is mean / vol\n",
    "    sharpe_ratio = mean / vol\n",
    "\n",
    "    # Format for easy reading\n",
    "    return round(pd.DataFrame(data = [mean, vol, sharpe_ratio], \n",
    "        index = ['Mean', 'Volatility', 'Sharpe'], \n",
    "        columns = ['Portfolio Stats']), 4)\n",
    "    \n",
    "portfolio_stats(totalReturnData, tangency_weights)"
   ]
  },
  {
   "cell_type": "markdown",
   "metadata": {},
   "source": [
    "4. The allocation.\n",
    "    <br/>(a) Compute and display the weights of MV portfolios with target returns of μp = .015.\n",
    "    <br/>(b) What is the mean, volatility, and Sharpe ratio for wp?\n",
    "    <br/>(c) Discuss the allocation. In which assets is the portfolio most long? And short?\n",
    "    <br/>(d) Does this line up with which assets have the strongest Sharpe ratios?"
   ]
  },
  {
   "cell_type": "code",
   "execution_count": 131,
   "metadata": {},
   "outputs": [
    {
     "data": {
      "text/plain": [
       "BWX   -0.743896\n",
       "DBC    0.125074\n",
       "EEM    0.140120\n",
       "EFA   -0.043110\n",
       "HYG    0.606047\n",
       "IEF    1.303991\n",
       "IYR   -0.163098\n",
       "PSP   -0.316038\n",
       "QAI   -1.545644\n",
       "SPY    1.210202\n",
       "TIP    0.426352\n",
       "dtype: float64"
      ]
     },
     "execution_count": 131,
     "metadata": {},
     "output_type": "execute_result"
    }
   ],
   "source": [
    "# Compute weights for return of 0.015\n",
    "def compute_weights(totalReturnData, tangency_weights, target_return):\n",
    "    mu = totalReturnData.mean()\n",
    "    sigma = totalReturnData.cov()\n",
    "    sigma_inv = np.linalg.inv(sigma)\n",
    "    n = sigma.shape[0]\n",
    "    weight_v = pd.Series((sigma_inv @ np.ones(n)) / (np.ones(n) @ sigma_inv @ np.ones(n)), index=mu.index)\n",
    "    weight_t = tangency_weights\n",
    "    coeffienct = (target_return-mu.T@weight_v)/(mu.T@weight_t-mu.T@weight_v)  \n",
    "    \n",
    "    return coeffienct*weight_t+(1-coeffienct)*weight_v\n",
    "\n",
    "optimized_portfolio = compute_weights(totalReturnData, tangency_weights, 0.015)\n",
    "optimized_portfolio"
   ]
  },
  {
   "cell_type": "code",
   "execution_count": 132,
   "metadata": {},
   "outputs": [
    {
     "data": {
      "text/plain": [
       "1.000000000000001"
      ]
     },
     "execution_count": 132,
     "metadata": {},
     "output_type": "execute_result"
    }
   ],
   "source": [
    "sum(optimized_portfolio)"
   ]
  },
  {
   "cell_type": "code",
   "execution_count": 133,
   "metadata": {},
   "outputs": [
    {
     "data": {
      "text/html": [
       "<div>\n",
       "<style scoped>\n",
       "    .dataframe tbody tr th:only-of-type {\n",
       "        vertical-align: middle;\n",
       "    }\n",
       "\n",
       "    .dataframe tbody tr th {\n",
       "        vertical-align: top;\n",
       "    }\n",
       "\n",
       "    .dataframe thead th {\n",
       "        text-align: right;\n",
       "    }\n",
       "</style>\n",
       "<table border=\"1\" class=\"dataframe\">\n",
       "  <thead>\n",
       "    <tr style=\"text-align: right;\">\n",
       "      <th></th>\n",
       "      <th>Portfolio Stats</th>\n",
       "    </tr>\n",
       "  </thead>\n",
       "  <tbody>\n",
       "    <tr>\n",
       "      <th>Mean</th>\n",
       "      <td>0.1800</td>\n",
       "    </tr>\n",
       "    <tr>\n",
       "      <th>Volatility</th>\n",
       "      <td>0.0934</td>\n",
       "    </tr>\n",
       "    <tr>\n",
       "      <th>Sharpe</th>\n",
       "      <td>1.9271</td>\n",
       "    </tr>\n",
       "  </tbody>\n",
       "</table>\n",
       "</div>"
      ],
      "text/plain": [
       "            Portfolio Stats\n",
       "Mean                 0.1800\n",
       "Volatility           0.0934\n",
       "Sharpe               1.9271"
      ]
     },
     "execution_count": 133,
     "metadata": {},
     "output_type": "execute_result"
    }
   ],
   "source": [
    "portfolio_stats(totalReturnData, optimized_portfolio)"
   ]
  },
  {
   "cell_type": "code",
   "execution_count": 134,
   "metadata": {},
   "outputs": [
    {
     "data": {
      "text/plain": [
       "QAI   -1.545644\n",
       "BWX   -0.743896\n",
       "PSP   -0.316038\n",
       "IYR   -0.163098\n",
       "EFA   -0.043110\n",
       "DBC    0.125074\n",
       "EEM    0.140120\n",
       "TIP    0.426352\n",
       "HYG    0.606047\n",
       "SPY    1.210202\n",
       "IEF    1.303991\n",
       "dtype: float64"
      ]
     },
     "execution_count": 134,
     "metadata": {},
     "output_type": "execute_result"
    }
   ],
   "source": [
    "# (c) Discuss the allocation. In which assets is the portfolio most long? And short?\n",
    "\n",
    "optimized_portfolio.sort_values() "
   ]
  },
  {
   "cell_type": "markdown",
   "metadata": {},
   "source": [
    "Based on the sorting above, we can see the the portfolio is most long on IEF. It is also almost identically long on SPY. It is most short on QAI. It is also short a few other assets, but not nearly to the extent of QAI."
   ]
  },
  {
   "cell_type": "code",
   "execution_count": 135,
   "metadata": {},
   "outputs": [
    {
     "data": {
      "text/html": [
       "<div>\n",
       "<style scoped>\n",
       "    .dataframe tbody tr th:only-of-type {\n",
       "        vertical-align: middle;\n",
       "    }\n",
       "\n",
       "    .dataframe tbody tr th {\n",
       "        vertical-align: top;\n",
       "    }\n",
       "\n",
       "    .dataframe thead th {\n",
       "        text-align: right;\n",
       "    }\n",
       "</style>\n",
       "<table border=\"1\" class=\"dataframe\">\n",
       "  <thead>\n",
       "    <tr style=\"text-align: right;\">\n",
       "      <th></th>\n",
       "      <th>Mean</th>\n",
       "      <th>Volatility</th>\n",
       "      <th>Sharpe</th>\n",
       "    </tr>\n",
       "  </thead>\n",
       "  <tbody>\n",
       "    <tr>\n",
       "      <th>BWX</th>\n",
       "      <td>0.004653</td>\n",
       "      <td>0.078535</td>\n",
       "      <td>0.059248</td>\n",
       "    </tr>\n",
       "    <tr>\n",
       "      <th>DBC</th>\n",
       "      <td>0.038846</td>\n",
       "      <td>0.180186</td>\n",
       "      <td>0.215590</td>\n",
       "    </tr>\n",
       "    <tr>\n",
       "      <th>EEM</th>\n",
       "      <td>0.072621</td>\n",
       "      <td>0.191787</td>\n",
       "      <td>0.378655</td>\n",
       "    </tr>\n",
       "    <tr>\n",
       "      <th>IEF</th>\n",
       "      <td>0.025833</td>\n",
       "      <td>0.060077</td>\n",
       "      <td>0.429996</td>\n",
       "    </tr>\n",
       "    <tr>\n",
       "      <th>QAI</th>\n",
       "      <td>0.022862</td>\n",
       "      <td>0.048879</td>\n",
       "      <td>0.467723</td>\n",
       "    </tr>\n",
       "    <tr>\n",
       "      <th>EFA</th>\n",
       "      <td>0.081124</td>\n",
       "      <td>0.161885</td>\n",
       "      <td>0.501125</td>\n",
       "    </tr>\n",
       "    <tr>\n",
       "      <th>PSP</th>\n",
       "      <td>0.133272</td>\n",
       "      <td>0.221299</td>\n",
       "      <td>0.602227</td>\n",
       "    </tr>\n",
       "    <tr>\n",
       "      <th>TIP</th>\n",
       "      <td>0.034967</td>\n",
       "      <td>0.047833</td>\n",
       "      <td>0.731032</td>\n",
       "    </tr>\n",
       "    <tr>\n",
       "      <th>HYG</th>\n",
       "      <td>0.071588</td>\n",
       "      <td>0.089403</td>\n",
       "      <td>0.800730</td>\n",
       "    </tr>\n",
       "    <tr>\n",
       "      <th>IYR</th>\n",
       "      <td>0.150128</td>\n",
       "      <td>0.184407</td>\n",
       "      <td>0.814113</td>\n",
       "    </tr>\n",
       "    <tr>\n",
       "      <th>SPY</th>\n",
       "      <td>0.150293</td>\n",
       "      <td>0.144811</td>\n",
       "      <td>1.037857</td>\n",
       "    </tr>\n",
       "  </tbody>\n",
       "</table>\n",
       "</div>"
      ],
      "text/plain": [
       "         Mean  Volatility    Sharpe\n",
       "BWX  0.004653    0.078535  0.059248\n",
       "DBC  0.038846    0.180186  0.215590\n",
       "EEM  0.072621    0.191787  0.378655\n",
       "IEF  0.025833    0.060077  0.429996\n",
       "QAI  0.022862    0.048879  0.467723\n",
       "EFA  0.081124    0.161885  0.501125\n",
       "PSP  0.133272    0.221299  0.602227\n",
       "TIP  0.034967    0.047833  0.731032\n",
       "HYG  0.071588    0.089403  0.800730\n",
       "IYR  0.150128    0.184407  0.814113\n",
       "SPY  0.150293    0.144811  1.037857"
      ]
     },
     "execution_count": 135,
     "metadata": {},
     "output_type": "execute_result"
    }
   ],
   "source": [
    "# Does this line up with which assets have the strongest Sharpe ratios?\n",
    "summaryStatistics.sort_values('Sharpe')"
   ]
  },
  {
   "cell_type": "code",
   "execution_count": 136,
   "metadata": {},
   "outputs": [
    {
     "name": "stdout",
     "output_type": "stream",
     "text": [
      "Correlation between Sharpe Rank and Weight Rank is 0.309090909090909.\n"
     ]
    },
    {
     "data": {
      "text/html": [
       "<div>\n",
       "<style scoped>\n",
       "    .dataframe tbody tr th:only-of-type {\n",
       "        vertical-align: middle;\n",
       "    }\n",
       "\n",
       "    .dataframe tbody tr th {\n",
       "        vertical-align: top;\n",
       "    }\n",
       "\n",
       "    .dataframe thead th {\n",
       "        text-align: right;\n",
       "    }\n",
       "</style>\n",
       "<table border=\"1\" class=\"dataframe\">\n",
       "  <thead>\n",
       "    <tr style=\"text-align: right;\">\n",
       "      <th></th>\n",
       "      <th>Sharpe_Rank</th>\n",
       "      <th>Weight_Rank</th>\n",
       "    </tr>\n",
       "  </thead>\n",
       "  <tbody>\n",
       "    <tr>\n",
       "      <th>SPY</th>\n",
       "      <td>1.0</td>\n",
       "      <td>2.0</td>\n",
       "    </tr>\n",
       "    <tr>\n",
       "      <th>IYR</th>\n",
       "      <td>2.0</td>\n",
       "      <td>8.0</td>\n",
       "    </tr>\n",
       "    <tr>\n",
       "      <th>HYG</th>\n",
       "      <td>3.0</td>\n",
       "      <td>3.0</td>\n",
       "    </tr>\n",
       "    <tr>\n",
       "      <th>TIP</th>\n",
       "      <td>4.0</td>\n",
       "      <td>4.0</td>\n",
       "    </tr>\n",
       "    <tr>\n",
       "      <th>PSP</th>\n",
       "      <td>5.0</td>\n",
       "      <td>9.0</td>\n",
       "    </tr>\n",
       "    <tr>\n",
       "      <th>EFA</th>\n",
       "      <td>6.0</td>\n",
       "      <td>7.0</td>\n",
       "    </tr>\n",
       "    <tr>\n",
       "      <th>QAI</th>\n",
       "      <td>7.0</td>\n",
       "      <td>11.0</td>\n",
       "    </tr>\n",
       "    <tr>\n",
       "      <th>IEF</th>\n",
       "      <td>8.0</td>\n",
       "      <td>1.0</td>\n",
       "    </tr>\n",
       "    <tr>\n",
       "      <th>EEM</th>\n",
       "      <td>9.0</td>\n",
       "      <td>5.0</td>\n",
       "    </tr>\n",
       "    <tr>\n",
       "      <th>DBC</th>\n",
       "      <td>10.0</td>\n",
       "      <td>6.0</td>\n",
       "    </tr>\n",
       "    <tr>\n",
       "      <th>BWX</th>\n",
       "      <td>11.0</td>\n",
       "      <td>10.0</td>\n",
       "    </tr>\n",
       "  </tbody>\n",
       "</table>\n",
       "</div>"
      ],
      "text/plain": [
       "     Sharpe_Rank  Weight_Rank\n",
       "SPY          1.0          2.0\n",
       "IYR          2.0          8.0\n",
       "HYG          3.0          3.0\n",
       "TIP          4.0          4.0\n",
       "PSP          5.0          9.0\n",
       "EFA          6.0          7.0\n",
       "QAI          7.0         11.0\n",
       "IEF          8.0          1.0\n",
       "EEM          9.0          5.0\n",
       "DBC         10.0          6.0\n",
       "BWX         11.0         10.0"
      ]
     },
     "execution_count": 136,
     "metadata": {},
     "output_type": "execute_result"
    }
   ],
   "source": [
    "# Difference 3\n",
    "# Does this line up with which assets have the strongest Sharpe ratios?\n",
    "rank_df = pd.DataFrame(columns=['Sharpe_Rank','Weight_Rank'])\n",
    "rank_df['Sharpe_Rank']=summaryStatistics['Sharpe'].rank(ascending=False)\n",
    "rank_df['Weight_Rank']=optimized_portfolio.rank(ascending=False)\n",
    "print('Correlation between Sharpe Rank and Weight Rank is {}.'.format(rank_df.corr()['Sharpe_Rank']['Weight_Rank']))\n",
    "rank_df.sort_values('Sharpe_Rank')"
   ]
  },
  {
   "cell_type": "markdown",
   "metadata": {},
   "source": [
    "No, it does not. While SPY does have the highest Sharpe ratio, IEF's Sharpe ratio is actually smaller than QAI's. And the correlation between these two ranks is quite small."
   ]
  },
  {
   "cell_type": "markdown",
   "metadata": {},
   "source": [
    "5. Simple Portfolios\n",
    "<br/>(a) Calculate the performance of the equally-weighted portfolio over the sample. Rescale the\n",
    "entire weighting vector to have target mean μp = .015. Report its mean, volatility, and\n",
    "Sharpe ratio.\n",
    "<br/>(b) Calculate the performance of the “risk-parity” portfolio over the sample. Risk-parity is a\n",
    "term used in a variety of ways, but here we have in mind setting the weight of the portfolio\n",
    "to be proportional to the inverse of its full-sample volatility estimate.\n",
    "wi = 1/σi\n",
    "This will give the weight vector, w, but you will need to rescale it to have a target mean\n",
    "of μp = .015.\n",
    "<br/>(c) How does these compare to the MV portfolio from problem 2.4?"
   ]
  },
  {
   "cell_type": "code",
   "execution_count": 137,
   "metadata": {},
   "outputs": [
    {
     "data": {
      "text/html": [
       "<div>\n",
       "<style scoped>\n",
       "    .dataframe tbody tr th:only-of-type {\n",
       "        vertical-align: middle;\n",
       "    }\n",
       "\n",
       "    .dataframe tbody tr th {\n",
       "        vertical-align: top;\n",
       "    }\n",
       "\n",
       "    .dataframe thead th {\n",
       "        text-align: right;\n",
       "    }\n",
       "</style>\n",
       "<table border=\"1\" class=\"dataframe\">\n",
       "  <thead>\n",
       "    <tr style=\"text-align: right;\">\n",
       "      <th></th>\n",
       "      <th>Portfolio Stats</th>\n",
       "    </tr>\n",
       "  </thead>\n",
       "  <tbody>\n",
       "    <tr>\n",
       "      <th>Mean</th>\n",
       "      <td>0.1800</td>\n",
       "    </tr>\n",
       "    <tr>\n",
       "      <th>Volatility</th>\n",
       "      <td>0.2517</td>\n",
       "    </tr>\n",
       "    <tr>\n",
       "      <th>Sharpe</th>\n",
       "      <td>0.7152</td>\n",
       "    </tr>\n",
       "  </tbody>\n",
       "</table>\n",
       "</div>"
      ],
      "text/plain": [
       "            Portfolio Stats\n",
       "Mean                 0.1800\n",
       "Volatility           0.2517\n",
       "Sharpe               0.7152"
      ]
     },
     "execution_count": 137,
     "metadata": {},
     "output_type": "execute_result"
    }
   ],
   "source": [
    "# First get the equally weighted portfolio\n",
    "# Create a vector of the same length as the tangency_weights (11 in this example)\n",
    "# Then, anywhere the weight is 1, set it equal to 1/n (1/11 in this example)\n",
    "equal_weights = np.ones(len(tangency_weights))\n",
    "equal_weights[equal_weights==1] = 1/len(tangency_weights)\n",
    "\n",
    "target_mean = 0.015\n",
    "\n",
    "# Scale for target return\n",
    "equal_weights = equal_weights * target_mean / (totalReturnData.mean().sum()/11)\n",
    "portfolio_stats(totalReturnData, equal_weights)"
   ]
  },
  {
   "cell_type": "code",
   "execution_count": 138,
   "metadata": {},
   "outputs": [
    {
     "data": {
      "text/html": [
       "<div>\n",
       "<style scoped>\n",
       "    .dataframe tbody tr th:only-of-type {\n",
       "        vertical-align: middle;\n",
       "    }\n",
       "\n",
       "    .dataframe tbody tr th {\n",
       "        vertical-align: top;\n",
       "    }\n",
       "\n",
       "    .dataframe thead th {\n",
       "        text-align: right;\n",
       "    }\n",
       "</style>\n",
       "<table border=\"1\" class=\"dataframe\">\n",
       "  <thead>\n",
       "    <tr style=\"text-align: right;\">\n",
       "      <th></th>\n",
       "      <th>Weights</th>\n",
       "    </tr>\n",
       "  </thead>\n",
       "  <tbody>\n",
       "    <tr>\n",
       "      <th>BWX</th>\n",
       "      <td>0.379571</td>\n",
       "    </tr>\n",
       "    <tr>\n",
       "      <th>DBC</th>\n",
       "      <td>0.165439</td>\n",
       "    </tr>\n",
       "    <tr>\n",
       "      <th>EEM</th>\n",
       "      <td>0.155431</td>\n",
       "    </tr>\n",
       "    <tr>\n",
       "      <th>EFA</th>\n",
       "      <td>0.184142</td>\n",
       "    </tr>\n",
       "    <tr>\n",
       "      <th>HYG</th>\n",
       "      <td>0.333430</td>\n",
       "    </tr>\n",
       "    <tr>\n",
       "      <th>IEF</th>\n",
       "      <td>0.496193</td>\n",
       "    </tr>\n",
       "    <tr>\n",
       "      <th>IYR</th>\n",
       "      <td>0.161652</td>\n",
       "    </tr>\n",
       "    <tr>\n",
       "      <th>PSP</th>\n",
       "      <td>0.134704</td>\n",
       "    </tr>\n",
       "    <tr>\n",
       "      <th>QAI</th>\n",
       "      <td>0.609866</td>\n",
       "    </tr>\n",
       "    <tr>\n",
       "      <th>SPY</th>\n",
       "      <td>0.205852</td>\n",
       "    </tr>\n",
       "    <tr>\n",
       "      <th>TIP</th>\n",
       "      <td>0.623205</td>\n",
       "    </tr>\n",
       "  </tbody>\n",
       "</table>\n",
       "</div>"
      ],
      "text/plain": [
       "      Weights\n",
       "BWX  0.379571\n",
       "DBC  0.165439\n",
       "EEM  0.155431\n",
       "EFA  0.184142\n",
       "HYG  0.333430\n",
       "IEF  0.496193\n",
       "IYR  0.161652\n",
       "PSP  0.134704\n",
       "QAI  0.609866\n",
       "SPY  0.205852\n",
       "TIP  0.623205"
      ]
     },
     "execution_count": 138,
     "metadata": {},
     "output_type": "execute_result"
    }
   ],
   "source": [
    "# First get weights, 1/vol (Remember volatility = standard deviation)\n",
    "weights = 1/totalReturnData.std()\n",
    "\n",
    "target_return = 0.015\n",
    "weights = weights * target_return / (weights @ totalReturnData.mean())\n",
    "weights.to_frame('Weights')"
   ]
  },
  {
   "cell_type": "code",
   "execution_count": 139,
   "metadata": {},
   "outputs": [
    {
     "data": {
      "text/html": [
       "<div>\n",
       "<style scoped>\n",
       "    .dataframe tbody tr th:only-of-type {\n",
       "        vertical-align: middle;\n",
       "    }\n",
       "\n",
       "    .dataframe tbody tr th {\n",
       "        vertical-align: top;\n",
       "    }\n",
       "\n",
       "    .dataframe thead th {\n",
       "        text-align: right;\n",
       "    }\n",
       "</style>\n",
       "<table border=\"1\" class=\"dataframe\">\n",
       "  <thead>\n",
       "    <tr style=\"text-align: right;\">\n",
       "      <th></th>\n",
       "      <th>Portfolio Stats</th>\n",
       "    </tr>\n",
       "  </thead>\n",
       "  <tbody>\n",
       "    <tr>\n",
       "      <th>Mean</th>\n",
       "      <td>0.1800</td>\n",
       "    </tr>\n",
       "    <tr>\n",
       "      <th>Volatility</th>\n",
       "      <td>0.2356</td>\n",
       "    </tr>\n",
       "    <tr>\n",
       "      <th>Sharpe</th>\n",
       "      <td>0.7640</td>\n",
       "    </tr>\n",
       "  </tbody>\n",
       "</table>\n",
       "</div>"
      ],
      "text/plain": [
       "            Portfolio Stats\n",
       "Mean                 0.1800\n",
       "Volatility           0.2356\n",
       "Sharpe               0.7640"
      ]
     },
     "execution_count": 139,
     "metadata": {},
     "output_type": "execute_result"
    }
   ],
   "source": [
    "portfolio_stats(totalReturnData, weights)"
   ]
  },
  {
   "cell_type": "markdown",
   "metadata": {},
   "source": [
    "How does these compare to the MV portfolio from problem 2.4?\n",
    "<br/> In this Risk Parity example, the Volatility is significantly higher, and Sharpe is much lower. However, the Risk Parity portfolio doesn't have any short positions and is not nearly as extreme in its holdings as the MV Portfolio."
   ]
  },
  {
   "cell_type": "code",
   "execution_count": 140,
   "metadata": {},
   "outputs": [
    {
     "data": {
      "text/html": [
       "<div>\n",
       "<style scoped>\n",
       "    .dataframe tbody tr th:only-of-type {\n",
       "        vertical-align: middle;\n",
       "    }\n",
       "\n",
       "    .dataframe tbody tr th {\n",
       "        vertical-align: top;\n",
       "    }\n",
       "\n",
       "    .dataframe thead th {\n",
       "        text-align: right;\n",
       "    }\n",
       "</style>\n",
       "<table border=\"1\" class=\"dataframe\">\n",
       "  <thead>\n",
       "    <tr style=\"text-align: right;\">\n",
       "      <th></th>\n",
       "      <th>Portfolio Stats</th>\n",
       "    </tr>\n",
       "  </thead>\n",
       "  <tbody>\n",
       "    <tr>\n",
       "      <th>Mean</th>\n",
       "      <td>0.1800</td>\n",
       "    </tr>\n",
       "    <tr>\n",
       "      <th>Volatility</th>\n",
       "      <td>0.0941</td>\n",
       "    </tr>\n",
       "    <tr>\n",
       "      <th>Sharpe</th>\n",
       "      <td>1.9131</td>\n",
       "    </tr>\n",
       "  </tbody>\n",
       "</table>\n",
       "</div>"
      ],
      "text/plain": [
       "            Portfolio Stats\n",
       "Mean                 0.1800\n",
       "Volatility           0.0941\n",
       "Sharpe               1.9131"
      ]
     },
     "execution_count": 140,
     "metadata": {},
     "output_type": "execute_result"
    }
   ],
   "source": [
    "# 6. Assess how much the Sharpe Ratio goes down if we drop TIPS from the investment set, (and\n",
    "# just have a 10-asset problem.) See how much it decreases the performance statistics in 2.4. And\n",
    "# how much worse is the performance in 3.3?\n",
    "\n",
    "# Drop TIPS\n",
    "totalReturnDataWithoutTips = totalReturnData.drop(columns=['TIP'])\n",
    "tangency_weights_without_tips = compute_tangency(totalReturnDataWithoutTips)\n",
    "optimized_portfolio_without_tips = compute_weights(totalReturnDataWithoutTips, tangency_weights_without_tips, 0.015)\n",
    "portfolio_stats(totalReturnDataWithoutTips, optimized_portfolio_without_tips)"
   ]
  },
  {
   "cell_type": "markdown",
   "metadata": {},
   "source": [
    "We see a very slight increase in Volatility (0.0004) and a minimal decrease in the Sharpe Ratio (.0082). There is almost no difference in the performance statistics when TIPS is excluded."
   ]
  },
  {
   "cell_type": "markdown",
   "metadata": {},
   "source": [
    "7. Out-of-Sample Performance\n",
    "<br/>Let’s divide the sample to both compute a portfolio and then check its performance out of\n",
    "sample.\n",
    "<br/>(a) Using only data through the end of 2021, compute wp for μp = .015, allocating to all 11\n",
    "assets.\n",
    "<br/>(b) Using those weights, calculate the portfolio’s Sharpe ratio within that sample, through the\n",
    "end of 2021.\n",
    "<br/>(c) Again using those weights, (derived using data through 2021,) calculate the portfolio’s\n",
    "Sharpe ratio based on performance in 2022."
   ]
  },
  {
   "cell_type": "code",
   "execution_count": 141,
   "metadata": {},
   "outputs": [
    {
     "data": {
      "text/plain": [
       "BWX   -0.260550\n",
       "DBC   -0.013134\n",
       "EEM    0.003842\n",
       "EFA   -0.058326\n",
       "HYG    0.665042\n",
       "IEF    1.186294\n",
       "IYR   -0.257773\n",
       "PSP   -0.087996\n",
       "QAI   -1.587112\n",
       "SPY    1.109137\n",
       "TIP    0.300576\n",
       "dtype: float64"
      ]
     },
     "execution_count": 141,
     "metadata": {},
     "output_type": "execute_result"
    }
   ],
   "source": [
    "# First just get data through 2021\n",
    "totalReturnData2021 = totalReturnData.loc[:'2021']\n",
    "\n",
    "# Compute tangency weights\n",
    "tangency_weights_2021 = compute_tangency(totalReturnData2021)\n",
    "\n",
    "# Get optimized portfolio\n",
    "optimized_portfolio_2021 = compute_weights(totalReturnData2021, tangency_weights_2021, 0.015)\n",
    "optimized_portfolio_2021"
   ]
  },
  {
   "cell_type": "code",
   "execution_count": 142,
   "metadata": {},
   "outputs": [
    {
     "data": {
      "text/html": [
       "<div>\n",
       "<style scoped>\n",
       "    .dataframe tbody tr th:only-of-type {\n",
       "        vertical-align: middle;\n",
       "    }\n",
       "\n",
       "    .dataframe tbody tr th {\n",
       "        vertical-align: top;\n",
       "    }\n",
       "\n",
       "    .dataframe thead th {\n",
       "        text-align: right;\n",
       "    }\n",
       "</style>\n",
       "<table border=\"1\" class=\"dataframe\">\n",
       "  <thead>\n",
       "    <tr style=\"text-align: right;\">\n",
       "      <th></th>\n",
       "      <th>Portfolio Stats</th>\n",
       "    </tr>\n",
       "  </thead>\n",
       "  <tbody>\n",
       "    <tr>\n",
       "      <th>Mean</th>\n",
       "      <td>0.180</td>\n",
       "    </tr>\n",
       "    <tr>\n",
       "      <th>Volatility</th>\n",
       "      <td>0.078</td>\n",
       "    </tr>\n",
       "    <tr>\n",
       "      <th>Sharpe</th>\n",
       "      <td>2.308</td>\n",
       "    </tr>\n",
       "  </tbody>\n",
       "</table>\n",
       "</div>"
      ],
      "text/plain": [
       "            Portfolio Stats\n",
       "Mean                  0.180\n",
       "Volatility            0.078\n",
       "Sharpe                2.308"
      ]
     },
     "execution_count": 142,
     "metadata": {},
     "output_type": "execute_result"
    }
   ],
   "source": [
    "# Calculate sharpe ratio for 2021 portfolio\n",
    "portfolio_stats(totalReturnData2021, optimized_portfolio_2021)"
   ]
  },
  {
   "cell_type": "code",
   "execution_count": 143,
   "metadata": {},
   "outputs": [
    {
     "data": {
      "text/html": [
       "<div>\n",
       "<style scoped>\n",
       "    .dataframe tbody tr th:only-of-type {\n",
       "        vertical-align: middle;\n",
       "    }\n",
       "\n",
       "    .dataframe tbody tr th {\n",
       "        vertical-align: top;\n",
       "    }\n",
       "\n",
       "    .dataframe thead th {\n",
       "        text-align: right;\n",
       "    }\n",
       "</style>\n",
       "<table border=\"1\" class=\"dataframe\">\n",
       "  <thead>\n",
       "    <tr style=\"text-align: right;\">\n",
       "      <th></th>\n",
       "      <th>Portfolio Stats</th>\n",
       "    </tr>\n",
       "  </thead>\n",
       "  <tbody>\n",
       "    <tr>\n",
       "      <th>Mean</th>\n",
       "      <td>-0.1707</td>\n",
       "    </tr>\n",
       "    <tr>\n",
       "      <th>Volatility</th>\n",
       "      <td>0.2299</td>\n",
       "    </tr>\n",
       "    <tr>\n",
       "      <th>Sharpe</th>\n",
       "      <td>-0.7423</td>\n",
       "    </tr>\n",
       "  </tbody>\n",
       "</table>\n",
       "</div>"
      ],
      "text/plain": [
       "            Portfolio Stats\n",
       "Mean                -0.1707\n",
       "Volatility           0.2299\n",
       "Sharpe              -0.7423"
      ]
     },
     "execution_count": 143,
     "metadata": {},
     "output_type": "execute_result"
    }
   ],
   "source": [
    "# Calculate Sharpe ratio for 2022 data using 2021 weights\n",
    "totalReturnData2022 = totalReturnData.loc['2022':]\n",
    "\n",
    "portfolio_stats(totalReturnData2022, optimized_portfolio_2021)"
   ]
  }
 ],
 "metadata": {
  "kernelspec": {
   "display_name": "Python 3 (ipykernel)",
   "language": "python",
   "name": "python3"
  },
  "language_info": {
   "codemirror_mode": {
    "name": "ipython",
    "version": 3
   },
   "file_extension": ".py",
   "mimetype": "text/x-python",
   "name": "python",
   "nbconvert_exporter": "python",
   "pygments_lexer": "ipython3",
   "version": "3.9.12"
  },
  "vscode": {
   "interpreter": {
    "hash": "28c29896733cd258a7e144e5cfe10ab10fb1ed1767adc491e37af3f909fe0b53"
   }
  }
 },
 "nbformat": 4,
 "nbformat_minor": 2
}
