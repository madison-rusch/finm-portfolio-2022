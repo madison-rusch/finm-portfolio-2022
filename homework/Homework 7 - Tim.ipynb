{
 "cells": [
  {
   "cell_type": "markdown",
   "id": "08c77601",
   "metadata": {},
   "source": [
    "# Homework 7 - Risk Premia\n",
    "#### Group C 26 - Juan Ramirez, Madison Rusch, Tim Taylor, Vidhan Ajmera "
   ]
  },
  {
   "cell_type": "markdown",
   "id": "b42fa795",
   "metadata": {},
   "source": [
    "## Question 1 - GMO\n",
    "\n",
    "1. **GMO’s approach.**\n",
    "\n",
    "(a) *Why does GMO believe they can more easily predict long-run than short-run asset class performance?*\n",
    "\n",
    "GMO believes that in the long run, asset classes revert to their fundamental value. In the short term, GMO argues that the market is a 'voting machine' that cares more about the popularity of a certain asset rather than its inherent value.\n",
    "\n",
    "(b) *What predicting variables does the case mention are used by GMO? Does this fit with the goal of long-run forecasts?*\n",
    "\n",
    "Return is decomposed into dividend yield, change in P/E ratio, change in profit margin, change in sales. They supplement this data with US macro data on inflation, recessions, GDP, and corporate profits. They look for differences in fundamental value between their view and the market's. This is a very long-term view, because in the short-run returns can occur without reflecting this fundamental value.\n",
    "\n",
    "(c) *How has this approach led to contrarian positions?*\n",
    "\n",
    "Sometimes assets can be mispriced for long periods of time, meaning that GMO may sacrifice short-term returns for long-term gains when the market eventually reverts back to pricing based on asset's fundamental value.\n",
    "\n",
    "(d) *How does this approach raise business risk and managerial career risk?*\n",
    "\n",
    "Investors are impatient. If they believe that the manager is wrong, or are deeply uncomfortable with short-term losses, then they will withdraw their money and move their business elsewhere. Because it may take years for the market to correct, GMO risks angering investors and losing clients due to low immediate returns.\n",
    "\n",
    "2. **The market environment.**\n",
    "\n",
    "(a) *We often estimate the market risk premium by looking at a large sample of historic data. What reasons does the case give to be skeptical that the market risk premium will be as high in the future as it has been over the past 50 years?*\n",
    "\n",
    "GMO believes that companies will struggle to generate the massive profits of the pre-2009 period, leading to lower valuations. Additionally, in the 2002-2011 period, stocks underperformed short-term bonds, suggesting that companies are struggling to return previous profits.\n",
    "\n",
    "(b) *In 2007, GMO forecasts real excess equity returns will be negative. What are the biggest drivers of their pessimistic conditional forecast relative to the unconditional forecast. (See Exhibit 9.)*\n",
    "\n",
    "A falling P/E ratio and lower profit margin. This is likely driven by either lower share prices or earnings stemming from weaker price growth.\n",
    "\n",
    "(c) *In the 2011 forecast, what components has GMO revised most relative to 2007? Now how does their conditional forecast compare to the unconditional? (See Exhibit 10.)*\n",
    "\n",
    "P/E ratio growth was said to be zero rather than negative. The 2011 predictions of conditional and unconditional are more similar, but short-run returns are still much lower.\n",
    "\n",
    "3. **Consider the asset class forecasts in Exhibit 1.**\n",
    "\n",
    "(a) *Which asset class did GMO estimate to have a negative 10-year return over 2002-2011?*\n",
    "\n",
    "U.S. Equities\n",
    "\n",
    "(b) *Which asset classes substantially outperformed GMO’s estimate over that time period?*\n",
    "\n",
    "\n",
    "Foreign government bonds, emerging market equities, TIPS.\n",
    "\n",
    "(c) *Which asset classes substantially underperformed GMO’s estimate over that time period?*\n",
    "\n",
    "US Real Estate Investment Trusts, US Treasury Bills.\n",
    "\n",
    "4. **Fund Performance.**\n",
    "\n",
    "(a) *In which asset class was GMWAX most heavily allocated throughout the majority of 1997-2011?*\n",
    "\n",
    "US Fixed Income.\n",
    "\n",
    "(b) *Comment on the performance of GMWAX versus its benchmark. (No calculation needed; simply comment on the comparison in the exhibits.)*\n",
    "\n",
    "GWMAX seemed to earn similar positive returns while staving off a lot of the losses incurred by the benchmark.\n"
   ]
  },
  {
   "cell_type": "code",
   "execution_count": 1,
   "id": "99cf6d3c",
   "metadata": {},
   "outputs": [],
   "source": [
    "import pandas as pd\n",
    "import numpy as np\n",
    "import seaborn as sns\n",
    "import matplotlib.pylab as plt\n",
    "import scipy\n",
    "import statsmodels.api as sm\n",
    "import scipy.stats as stats\n",
    "from statsmodels.regression.rolling import RollingOLS\n",
    "import warnings\n",
    "warnings.filterwarnings(\"ignore\")\n",
    "\n",
    "file = \"gmo_analysis_data.xlsx\"\n",
    "file.lower()\n",
    "df = pd.read_excel(file)\n",
    "\n",
    "signals = pd.read_excel(file, sheet_name='signals',index_col=0)\n",
    "returns = pd.read_excel(file, sheet_name='returns (total)',index_col=0)\n",
    "rf = pd.read_excel(file, sheet_name='risk-free rate',index_col=0)"
   ]
  },
  {
   "cell_type": "code",
   "execution_count": 2,
   "id": "35f19327",
   "metadata": {},
   "outputs": [],
   "source": [
    "spy = pd.read_excel(file, sheet_name='returns (total)',index_col=0)"
   ]
  },
  {
   "cell_type": "markdown",
   "id": "0879008f",
   "metadata": {},
   "source": [
    "## Question 2 - Analysing GMO"
   ]
  },
  {
   "cell_type": "markdown",
   "id": "56c1a74c",
   "metadata": {},
   "source": [
    "1. Calculate the mean, volatility, and Sharpe ratio for GMWAX. Do this for three samples:\n",
    "- from inception through 2011\n",
    "- 2012-present\n",
    "- inception - present\n",
    "\n",
    "Has the mean, vol, and Sharpe changed much since the case?"
   ]
  },
  {
   "cell_type": "code",
   "execution_count": 3,
   "id": "5f2f6f01",
   "metadata": {},
   "outputs": [],
   "source": [
    "returns = returns.subtract(rf['US3M'], axis=0).dropna()"
   ]
  },
  {
   "cell_type": "code",
   "execution_count": 4,
   "id": "b972b70f",
   "metadata": {},
   "outputs": [],
   "source": [
    "def summStats(data, ann = 12):\n",
    "    summary_stats = pd.DataFrame(data = None)\n",
    "    summary_stats['Mean'] = data.mean()*ann\n",
    "    summary_stats['Volatility'] = data.std(skipna=True)*(ann**(1/2))\n",
    "    summary_stats['Sharpe'] = summary_stats['Mean']/summary_stats['Volatility']\n",
    "    return summary_stats"
   ]
  },
  {
   "cell_type": "code",
   "execution_count": 5,
   "id": "75813405",
   "metadata": {
    "scrolled": true
   },
   "outputs": [
    {
     "data": {
      "text/html": [
       "<div>\n",
       "<style scoped>\n",
       "    .dataframe tbody tr th:only-of-type {\n",
       "        vertical-align: middle;\n",
       "    }\n",
       "\n",
       "    .dataframe tbody tr th {\n",
       "        vertical-align: top;\n",
       "    }\n",
       "\n",
       "    .dataframe thead th {\n",
       "        text-align: right;\n",
       "    }\n",
       "</style>\n",
       "<table border=\"1\" class=\"dataframe\">\n",
       "  <thead>\n",
       "    <tr style=\"text-align: right;\">\n",
       "      <th></th>\n",
       "      <th>Mean</th>\n",
       "      <th>Volatility</th>\n",
       "      <th>Sharpe</th>\n",
       "    </tr>\n",
       "  </thead>\n",
       "  <tbody>\n",
       "    <tr>\n",
       "      <th>GMWAX</th>\n",
       "      <td>0.015827</td>\n",
       "      <td>0.125011</td>\n",
       "      <td>0.126603</td>\n",
       "    </tr>\n",
       "  </tbody>\n",
       "</table>\n",
       "</div>"
      ],
      "text/plain": [
       "           Mean  Volatility    Sharpe\n",
       "GMWAX  0.015827    0.125011  0.126603"
      ]
     },
     "execution_count": 5,
     "metadata": {},
     "output_type": "execute_result"
    }
   ],
   "source": [
    "summStats(returns[['GMWAX']][:'2011'])"
   ]
  },
  {
   "cell_type": "code",
   "execution_count": 6,
   "id": "2c78e4db",
   "metadata": {},
   "outputs": [
    {
     "data": {
      "text/html": [
       "<div>\n",
       "<style scoped>\n",
       "    .dataframe tbody tr th:only-of-type {\n",
       "        vertical-align: middle;\n",
       "    }\n",
       "\n",
       "    .dataframe tbody tr th {\n",
       "        vertical-align: top;\n",
       "    }\n",
       "\n",
       "    .dataframe thead th {\n",
       "        text-align: right;\n",
       "    }\n",
       "</style>\n",
       "<table border=\"1\" class=\"dataframe\">\n",
       "  <thead>\n",
       "    <tr style=\"text-align: right;\">\n",
       "      <th></th>\n",
       "      <th>Mean</th>\n",
       "      <th>Volatility</th>\n",
       "      <th>Sharpe</th>\n",
       "    </tr>\n",
       "  </thead>\n",
       "  <tbody>\n",
       "    <tr>\n",
       "      <th>GMWAX</th>\n",
       "      <td>0.036635</td>\n",
       "      <td>0.091996</td>\n",
       "      <td>0.398229</td>\n",
       "    </tr>\n",
       "  </tbody>\n",
       "</table>\n",
       "</div>"
      ],
      "text/plain": [
       "           Mean  Volatility    Sharpe\n",
       "GMWAX  0.036635    0.091996  0.398229"
      ]
     },
     "execution_count": 6,
     "metadata": {},
     "output_type": "execute_result"
    }
   ],
   "source": [
    "summStats(returns[['GMWAX']]['2012':])"
   ]
  },
  {
   "cell_type": "code",
   "execution_count": 7,
   "id": "9b9844dd",
   "metadata": {
    "scrolled": true
   },
   "outputs": [
    {
     "data": {
      "text/html": [
       "<div>\n",
       "<style scoped>\n",
       "    .dataframe tbody tr th:only-of-type {\n",
       "        vertical-align: middle;\n",
       "    }\n",
       "\n",
       "    .dataframe tbody tr th {\n",
       "        vertical-align: top;\n",
       "    }\n",
       "\n",
       "    .dataframe thead th {\n",
       "        text-align: right;\n",
       "    }\n",
       "</style>\n",
       "<table border=\"1\" class=\"dataframe\">\n",
       "  <thead>\n",
       "    <tr style=\"text-align: right;\">\n",
       "      <th></th>\n",
       "      <th>Mean</th>\n",
       "      <th>Volatility</th>\n",
       "      <th>Sharpe</th>\n",
       "    </tr>\n",
       "  </thead>\n",
       "  <tbody>\n",
       "    <tr>\n",
       "      <th>GMWAX</th>\n",
       "      <td>0.024497</td>\n",
       "      <td>0.112314</td>\n",
       "      <td>0.218112</td>\n",
       "    </tr>\n",
       "  </tbody>\n",
       "</table>\n",
       "</div>"
      ],
      "text/plain": [
       "           Mean  Volatility    Sharpe\n",
       "GMWAX  0.024497    0.112314  0.218112"
      ]
     },
     "execution_count": 7,
     "metadata": {},
     "output_type": "execute_result"
    }
   ],
   "source": [
    "summStats(returns[['GMWAX']])"
   ]
  },
  {
   "cell_type": "markdown",
   "id": "a9073c93",
   "metadata": {},
   "source": [
    "2. **GMO believes a risk premium is compensation for a security’s tendency to lose money at “bad times”. For all three samples, analyze extreme scenarios by looking at**\n",
    "- Min return\n",
    "- 5th percentile (VaR-5th)\n",
    "- Maximum drawdown"
   ]
  },
  {
   "cell_type": "code",
   "execution_count": 8,
   "id": "4a02f345",
   "metadata": {},
   "outputs": [],
   "source": [
    "def maximumDrawdown(returns):\n",
    "        cum_returns = (1 + returns).cumprod()\n",
    "        rolling_max = cum_returns.cummax()\n",
    "        drawdown = (cum_returns - rolling_max) / rolling_max\n",
    "\n",
    "        max_drawdown = drawdown.min()\n",
    "        end_date = drawdown.idxmin()\n",
    "        summary = pd.DataFrame({'Max Drawdown': max_drawdown, 'Bottom': end_date})\n",
    "\n",
    "        for col in drawdown:\n",
    "            summary.loc[col,'Peak'] = (rolling_max.loc[:end_date[col],col]).idxmax()\n",
    "            recovery = (drawdown.loc[end_date[col]:,col])\n",
    "            try:\n",
    "                summary.loc[col,'Recover'] = pd.to_datetime(recovery[recovery >= 0].index[0])\n",
    "            except:\n",
    "                summary.loc[col,'Recover'] = pd.to_datetime(None)\n",
    "\n",
    "            summary['Peak'] = pd.to_datetime(summary['Peak'])\n",
    "            try:\n",
    "                summary['Duration (to Recover)'] = (summary['Recover'] - summary['Peak'])\n",
    "            except:\n",
    "                summary['Duration (to Recover)'] = None\n",
    "\n",
    "            summary = summary[['Max Drawdown','Peak','Bottom','Recover','Duration (to Recover)']]\n",
    "\n",
    "        return summary  \n",
    "    \n",
    "def riskSummary(returns):\n",
    "    summary = maximumDrawdown(returns)\n",
    "    summary['Minimum Return'] = returns.min()\n",
    "    summary['VaR-5th'] = returns.quantile(.05)\n",
    "    return summary"
   ]
  },
  {
   "cell_type": "code",
   "execution_count": 9,
   "id": "b57f1cd8",
   "metadata": {},
   "outputs": [
    {
     "data": {
      "text/html": [
       "<div>\n",
       "<style scoped>\n",
       "    .dataframe tbody tr th:only-of-type {\n",
       "        vertical-align: middle;\n",
       "    }\n",
       "\n",
       "    .dataframe tbody tr th {\n",
       "        vertical-align: top;\n",
       "    }\n",
       "\n",
       "    .dataframe thead th {\n",
       "        text-align: right;\n",
       "    }\n",
       "</style>\n",
       "<table border=\"1\" class=\"dataframe\">\n",
       "  <thead>\n",
       "    <tr style=\"text-align: right;\">\n",
       "      <th></th>\n",
       "      <th>Max Drawdown</th>\n",
       "      <th>Peak</th>\n",
       "      <th>Bottom</th>\n",
       "      <th>Recover</th>\n",
       "      <th>Duration (to Recover)</th>\n",
       "      <th>Minimum Return</th>\n",
       "      <th>VaR-5th</th>\n",
       "    </tr>\n",
       "  </thead>\n",
       "  <tbody>\n",
       "    <tr>\n",
       "      <th>GMWAX</th>\n",
       "      <td>-0.472946</td>\n",
       "      <td>1997-09-30</td>\n",
       "      <td>2001-09-30</td>\n",
       "      <td>2011-04-30</td>\n",
       "      <td>4960 days</td>\n",
       "      <td>-0.149179</td>\n",
       "      <td>-0.059806</td>\n",
       "    </tr>\n",
       "  </tbody>\n",
       "</table>\n",
       "</div>"
      ],
      "text/plain": [
       "       Max Drawdown       Peak     Bottom    Recover Duration (to Recover)  \\\n",
       "GMWAX     -0.472946 1997-09-30 2001-09-30 2011-04-30             4960 days   \n",
       "\n",
       "       Minimum Return   VaR-5th  \n",
       "GMWAX       -0.149179 -0.059806  "
      ]
     },
     "execution_count": 9,
     "metadata": {},
     "output_type": "execute_result"
    }
   ],
   "source": [
    "riskSummary(returns[['GMWAX']][:'2011'])"
   ]
  },
  {
   "cell_type": "code",
   "execution_count": 10,
   "id": "abab267a",
   "metadata": {},
   "outputs": [
    {
     "data": {
      "text/html": [
       "<div>\n",
       "<style scoped>\n",
       "    .dataframe tbody tr th:only-of-type {\n",
       "        vertical-align: middle;\n",
       "    }\n",
       "\n",
       "    .dataframe tbody tr th {\n",
       "        vertical-align: top;\n",
       "    }\n",
       "\n",
       "    .dataframe thead th {\n",
       "        text-align: right;\n",
       "    }\n",
       "</style>\n",
       "<table border=\"1\" class=\"dataframe\">\n",
       "  <thead>\n",
       "    <tr style=\"text-align: right;\">\n",
       "      <th></th>\n",
       "      <th>Max Drawdown</th>\n",
       "      <th>Peak</th>\n",
       "      <th>Bottom</th>\n",
       "      <th>Recover</th>\n",
       "      <th>Duration (to Recover)</th>\n",
       "      <th>Minimum Return</th>\n",
       "      <th>VaR-5th</th>\n",
       "    </tr>\n",
       "  </thead>\n",
       "  <tbody>\n",
       "    <tr>\n",
       "      <th>GMWAX</th>\n",
       "      <td>-0.226046</td>\n",
       "      <td>2021-05-31</td>\n",
       "      <td>2022-09-30</td>\n",
       "      <td>NaN</td>\n",
       "      <td>None</td>\n",
       "      <td>-0.11865</td>\n",
       "      <td>-0.039686</td>\n",
       "    </tr>\n",
       "  </tbody>\n",
       "</table>\n",
       "</div>"
      ],
      "text/plain": [
       "       Max Drawdown       Peak     Bottom  Recover Duration (to Recover)  \\\n",
       "GMWAX     -0.226046 2021-05-31 2022-09-30      NaN                  None   \n",
       "\n",
       "       Minimum Return   VaR-5th  \n",
       "GMWAX        -0.11865 -0.039686  "
      ]
     },
     "execution_count": 10,
     "metadata": {},
     "output_type": "execute_result"
    }
   ],
   "source": [
    "riskSummary(returns[['GMWAX']]['2012':])"
   ]
  },
  {
   "cell_type": "code",
   "execution_count": 11,
   "id": "210eead2",
   "metadata": {
    "scrolled": false
   },
   "outputs": [
    {
     "data": {
      "text/html": [
       "<div>\n",
       "<style scoped>\n",
       "    .dataframe tbody tr th:only-of-type {\n",
       "        vertical-align: middle;\n",
       "    }\n",
       "\n",
       "    .dataframe tbody tr th {\n",
       "        vertical-align: top;\n",
       "    }\n",
       "\n",
       "    .dataframe thead th {\n",
       "        text-align: right;\n",
       "    }\n",
       "</style>\n",
       "<table border=\"1\" class=\"dataframe\">\n",
       "  <thead>\n",
       "    <tr style=\"text-align: right;\">\n",
       "      <th></th>\n",
       "      <th>Max Drawdown</th>\n",
       "      <th>Peak</th>\n",
       "      <th>Bottom</th>\n",
       "      <th>Recover</th>\n",
       "      <th>Duration (to Recover)</th>\n",
       "      <th>Minimum Return</th>\n",
       "      <th>VaR-5th</th>\n",
       "    </tr>\n",
       "  </thead>\n",
       "  <tbody>\n",
       "    <tr>\n",
       "      <th>GMWAX</th>\n",
       "      <td>-0.472946</td>\n",
       "      <td>1997-09-30</td>\n",
       "      <td>2001-09-30</td>\n",
       "      <td>2011-04-30</td>\n",
       "      <td>4960 days</td>\n",
       "      <td>-0.149179</td>\n",
       "      <td>-0.048293</td>\n",
       "    </tr>\n",
       "  </tbody>\n",
       "</table>\n",
       "</div>"
      ],
      "text/plain": [
       "       Max Drawdown       Peak     Bottom    Recover Duration (to Recover)  \\\n",
       "GMWAX     -0.472946 1997-09-30 2001-09-30 2011-04-30             4960 days   \n",
       "\n",
       "       Minimum Return   VaR-5th  \n",
       "GMWAX       -0.149179 -0.048293  "
      ]
     },
     "execution_count": 11,
     "metadata": {},
     "output_type": "execute_result"
    }
   ],
   "source": [
    "riskSummary(returns[['GMWAX']])"
   ]
  },
  {
   "cell_type": "code",
   "execution_count": 12,
   "id": "0b8944d9",
   "metadata": {},
   "outputs": [
    {
     "data": {
      "text/html": [
       "<div>\n",
       "<style scoped>\n",
       "    .dataframe tbody tr th:only-of-type {\n",
       "        vertical-align: middle;\n",
       "    }\n",
       "\n",
       "    .dataframe tbody tr th {\n",
       "        vertical-align: top;\n",
       "    }\n",
       "\n",
       "    .dataframe thead th {\n",
       "        text-align: right;\n",
       "    }\n",
       "</style>\n",
       "<table border=\"1\" class=\"dataframe\">\n",
       "  <thead>\n",
       "    <tr style=\"text-align: right;\">\n",
       "      <th></th>\n",
       "      <th>Max Drawdown</th>\n",
       "      <th>Peak</th>\n",
       "      <th>Bottom</th>\n",
       "      <th>Recover</th>\n",
       "      <th>Duration (to Recover)</th>\n",
       "      <th>Minimum Return</th>\n",
       "      <th>VaR-5th</th>\n",
       "    </tr>\n",
       "  </thead>\n",
       "  <tbody>\n",
       "    <tr>\n",
       "      <th>SPY</th>\n",
       "      <td>-0.560012</td>\n",
       "      <td>2000-03-31</td>\n",
       "      <td>2009-02-28</td>\n",
       "      <td>NaN</td>\n",
       "      <td>None</td>\n",
       "      <td>-0.16557</td>\n",
       "      <td>-0.080224</td>\n",
       "    </tr>\n",
       "  </tbody>\n",
       "</table>\n",
       "</div>"
      ],
      "text/plain": [
       "     Max Drawdown       Peak     Bottom  Recover Duration (to Recover)  \\\n",
       "SPY     -0.560012 2000-03-31 2009-02-28      NaN                  None   \n",
       "\n",
       "     Minimum Return   VaR-5th  \n",
       "SPY        -0.16557 -0.080224  "
      ]
     },
     "execution_count": 12,
     "metadata": {},
     "output_type": "execute_result"
    }
   ],
   "source": [
    "riskSummary(returns[['SPY']][:'2011'])"
   ]
  },
  {
   "cell_type": "code",
   "execution_count": 13,
   "id": "1d7e32ab",
   "metadata": {},
   "outputs": [
    {
     "data": {
      "text/html": [
       "<div>\n",
       "<style scoped>\n",
       "    .dataframe tbody tr th:only-of-type {\n",
       "        vertical-align: middle;\n",
       "    }\n",
       "\n",
       "    .dataframe tbody tr th {\n",
       "        vertical-align: top;\n",
       "    }\n",
       "\n",
       "    .dataframe thead th {\n",
       "        text-align: right;\n",
       "    }\n",
       "</style>\n",
       "<table border=\"1\" class=\"dataframe\">\n",
       "  <thead>\n",
       "    <tr style=\"text-align: right;\">\n",
       "      <th></th>\n",
       "      <th>Max Drawdown</th>\n",
       "      <th>Peak</th>\n",
       "      <th>Bottom</th>\n",
       "      <th>Recover</th>\n",
       "      <th>Duration (to Recover)</th>\n",
       "      <th>Minimum Return</th>\n",
       "      <th>VaR-5th</th>\n",
       "    </tr>\n",
       "  </thead>\n",
       "  <tbody>\n",
       "    <tr>\n",
       "      <th>SPY</th>\n",
       "      <td>-0.248125</td>\n",
       "      <td>2021-12-31</td>\n",
       "      <td>2022-09-30</td>\n",
       "      <td>NaN</td>\n",
       "      <td>None</td>\n",
       "      <td>-0.124734</td>\n",
       "      <td>-0.068658</td>\n",
       "    </tr>\n",
       "  </tbody>\n",
       "</table>\n",
       "</div>"
      ],
      "text/plain": [
       "     Max Drawdown       Peak     Bottom  Recover Duration (to Recover)  \\\n",
       "SPY     -0.248125 2021-12-31 2022-09-30      NaN                  None   \n",
       "\n",
       "     Minimum Return   VaR-5th  \n",
       "SPY       -0.124734 -0.068658  "
      ]
     },
     "execution_count": 13,
     "metadata": {},
     "output_type": "execute_result"
    }
   ],
   "source": [
    "riskSummary(returns[['SPY']]['2012':])"
   ]
  },
  {
   "cell_type": "code",
   "execution_count": 14,
   "id": "6db6b15b",
   "metadata": {},
   "outputs": [
    {
     "data": {
      "text/html": [
       "<div>\n",
       "<style scoped>\n",
       "    .dataframe tbody tr th:only-of-type {\n",
       "        vertical-align: middle;\n",
       "    }\n",
       "\n",
       "    .dataframe tbody tr th {\n",
       "        vertical-align: top;\n",
       "    }\n",
       "\n",
       "    .dataframe thead th {\n",
       "        text-align: right;\n",
       "    }\n",
       "</style>\n",
       "<table border=\"1\" class=\"dataframe\">\n",
       "  <thead>\n",
       "    <tr style=\"text-align: right;\">\n",
       "      <th></th>\n",
       "      <th>Max Drawdown</th>\n",
       "      <th>Peak</th>\n",
       "      <th>Bottom</th>\n",
       "      <th>Recover</th>\n",
       "      <th>Duration (to Recover)</th>\n",
       "      <th>Minimum Return</th>\n",
       "      <th>VaR-5th</th>\n",
       "    </tr>\n",
       "  </thead>\n",
       "  <tbody>\n",
       "    <tr>\n",
       "      <th>SPY</th>\n",
       "      <td>-0.560012</td>\n",
       "      <td>2000-03-31</td>\n",
       "      <td>2009-02-28</td>\n",
       "      <td>2013-03-31</td>\n",
       "      <td>4748 days</td>\n",
       "      <td>-0.16557</td>\n",
       "      <td>-0.080006</td>\n",
       "    </tr>\n",
       "  </tbody>\n",
       "</table>\n",
       "</div>"
      ],
      "text/plain": [
       "     Max Drawdown       Peak     Bottom    Recover Duration (to Recover)  \\\n",
       "SPY     -0.560012 2000-03-31 2009-02-28 2013-03-31             4748 days   \n",
       "\n",
       "     Minimum Return   VaR-5th  \n",
       "SPY        -0.16557 -0.080006  "
      ]
     },
     "execution_count": 14,
     "metadata": {},
     "output_type": "execute_result"
    }
   ],
   "source": [
    "riskSummary(returns[['SPY']])"
   ]
  },
  {
   "cell_type": "markdown",
   "id": "35db5731",
   "metadata": {},
   "source": [
    "(a) *Does GMWAX have high or low tail-risk as seen by these stats?*\n",
    "\n",
    "Compared to SPY, GMWAX has lower tail risks overall, with a smaller Max Drawdown, Minimum Return, and VaR.\n",
    "\n",
    "(b) *Does that vary much across the two subsamples?*\n",
    "\n",
    "In the 2nd sample, GWMAX's tail risks have improved in VaR terms, but worsened in terms of the Max Drawdown.\n"
   ]
  },
  {
   "cell_type": "markdown",
   "id": "95ec0f94",
   "metadata": {},
   "source": [
    "3. **For all three samples, regress excess returns of GMWAX on excess returns of SPY.**\n",
    "\n",
    "(a) Report the estimated alpha, beta, and r-squared.\n"
   ]
  },
  {
   "cell_type": "code",
   "execution_count": 15,
   "id": "c80e88ef",
   "metadata": {},
   "outputs": [],
   "source": [
    "def regression(data, Y_name, X_name, intercept = True, ann = 12):\n",
    "    y = data[Y_name]\n",
    "    if intercept == True:\n",
    "        x = sm.add_constant(data[X_name])\n",
    "    else:\n",
    "        x = data[X_name]\n",
    "    \n",
    "    regression = sm.OLS(y, x, missing = 'drop').fit()\n",
    "    df = regression.params.to_frame('Result')\n",
    "    df.loc[r'$R^{2}$'] = regression.rsquared\n",
    "    \n",
    "    if intercept == True:\n",
    "        df.loc['const'] *= ann\n",
    "    return df"
   ]
  },
  {
   "cell_type": "code",
   "execution_count": 16,
   "id": "cf0b2738",
   "metadata": {},
   "outputs": [
    {
     "data": {
      "text/html": [
       "<div>\n",
       "<style scoped>\n",
       "    .dataframe tbody tr th:only-of-type {\n",
       "        vertical-align: middle;\n",
       "    }\n",
       "\n",
       "    .dataframe tbody tr th {\n",
       "        vertical-align: top;\n",
       "    }\n",
       "\n",
       "    .dataframe thead th {\n",
       "        text-align: right;\n",
       "    }\n",
       "</style>\n",
       "<table border=\"1\" class=\"dataframe\">\n",
       "  <thead>\n",
       "    <tr style=\"text-align: right;\">\n",
       "      <th></th>\n",
       "      <th>Result</th>\n",
       "    </tr>\n",
       "  </thead>\n",
       "  <tbody>\n",
       "    <tr>\n",
       "      <th>const</th>\n",
       "      <td>-0.030099</td>\n",
       "    </tr>\n",
       "    <tr>\n",
       "      <th>SPY</th>\n",
       "      <td>0.553141</td>\n",
       "    </tr>\n",
       "    <tr>\n",
       "      <th>$R^{2}$</th>\n",
       "      <td>0.767202</td>\n",
       "    </tr>\n",
       "  </tbody>\n",
       "</table>\n",
       "</div>"
      ],
      "text/plain": [
       "           Result\n",
       "const   -0.030099\n",
       "SPY      0.553141\n",
       "$R^{2}$  0.767202"
      ]
     },
     "execution_count": 16,
     "metadata": {},
     "output_type": "execute_result"
    }
   ],
   "source": [
    "regression(returns['2011':], 'GMWAX', 'SPY')"
   ]
  },
  {
   "cell_type": "code",
   "execution_count": 17,
   "id": "8c7ddb38",
   "metadata": {},
   "outputs": [
    {
     "data": {
      "text/html": [
       "<div>\n",
       "<style scoped>\n",
       "    .dataframe tbody tr th:only-of-type {\n",
       "        vertical-align: middle;\n",
       "    }\n",
       "\n",
       "    .dataframe tbody tr th {\n",
       "        vertical-align: top;\n",
       "    }\n",
       "\n",
       "    .dataframe thead th {\n",
       "        text-align: right;\n",
       "    }\n",
       "</style>\n",
       "<table border=\"1\" class=\"dataframe\">\n",
       "  <thead>\n",
       "    <tr style=\"text-align: right;\">\n",
       "      <th></th>\n",
       "      <th>Result</th>\n",
       "    </tr>\n",
       "  </thead>\n",
       "  <tbody>\n",
       "    <tr>\n",
       "      <th>const</th>\n",
       "      <td>-0.004424</td>\n",
       "    </tr>\n",
       "    <tr>\n",
       "      <th>SPY</th>\n",
       "      <td>0.542852</td>\n",
       "    </tr>\n",
       "    <tr>\n",
       "      <th>$R^{2}$</th>\n",
       "      <td>0.515254</td>\n",
       "    </tr>\n",
       "  </tbody>\n",
       "</table>\n",
       "</div>"
      ],
      "text/plain": [
       "           Result\n",
       "const   -0.004424\n",
       "SPY      0.542852\n",
       "$R^{2}$  0.515254"
      ]
     },
     "execution_count": 17,
     "metadata": {},
     "output_type": "execute_result"
    }
   ],
   "source": [
    "regression(returns[:'2012'], 'GMWAX', 'SPY')"
   ]
  },
  {
   "cell_type": "code",
   "execution_count": 18,
   "id": "f331aca0",
   "metadata": {
    "scrolled": true
   },
   "outputs": [
    {
     "data": {
      "text/html": [
       "<div>\n",
       "<style scoped>\n",
       "    .dataframe tbody tr th:only-of-type {\n",
       "        vertical-align: middle;\n",
       "    }\n",
       "\n",
       "    .dataframe tbody tr th {\n",
       "        vertical-align: top;\n",
       "    }\n",
       "\n",
       "    .dataframe thead th {\n",
       "        text-align: right;\n",
       "    }\n",
       "</style>\n",
       "<table border=\"1\" class=\"dataframe\">\n",
       "  <thead>\n",
       "    <tr style=\"text-align: right;\">\n",
       "      <th></th>\n",
       "      <th>Result</th>\n",
       "    </tr>\n",
       "  </thead>\n",
       "  <tbody>\n",
       "    <tr>\n",
       "      <th>const</th>\n",
       "      <td>-0.016989</td>\n",
       "    </tr>\n",
       "    <tr>\n",
       "      <th>SPY</th>\n",
       "      <td>0.545600</td>\n",
       "    </tr>\n",
       "    <tr>\n",
       "      <th>$R^{2}$</th>\n",
       "      <td>0.577744</td>\n",
       "    </tr>\n",
       "  </tbody>\n",
       "</table>\n",
       "</div>"
      ],
      "text/plain": [
       "           Result\n",
       "const   -0.016989\n",
       "SPY      0.545600\n",
       "$R^{2}$  0.577744"
      ]
     },
     "execution_count": 18,
     "metadata": {},
     "output_type": "execute_result"
    }
   ],
   "source": [
    "regression(returns, 'GMWAX', 'SPY')"
   ]
  },
  {
   "cell_type": "markdown",
   "id": "dea68b0b",
   "metadata": {},
   "source": [
    "(b) Is GMWAX a low-beta strategy? Has that changed since the case?\n",
    "\n",
    "Yes, and no it hasn't.\n",
    "\n",
    "(c) Does GMWAX provide alpha? Has that changed across the subsamples?\n",
    "\n",
    "No, there seems to be an alpha that is very close to zero."
   ]
  },
  {
   "cell_type": "markdown",
   "id": "36c14df6",
   "metadata": {},
   "source": [
    "# Question 3 - Forecast Regressions"
   ]
  },
  {
   "cell_type": "markdown",
   "id": "599edf80",
   "metadata": {},
   "source": [
    "1. Consider the lagged regression, where the regressor, (X,) is a period behind the target, ($r^{SPY}$)."
   ]
  },
  {
   "cell_type": "code",
   "execution_count": 19,
   "id": "bd047561",
   "metadata": {},
   "outputs": [],
   "source": [
    "signals = signals.shift()\n",
    "signals['SPY'] = spy['SPY']"
   ]
  },
  {
   "cell_type": "code",
   "execution_count": 20,
   "id": "9923a0b1",
   "metadata": {},
   "outputs": [
    {
     "data": {
      "text/plain": [
       "Index(['DP', 'EP', 'US10Y', 'SPY'], dtype='object')"
      ]
     },
     "execution_count": 20,
     "metadata": {},
     "output_type": "execute_result"
    }
   ],
   "source": [
    "signals.columns"
   ]
  },
  {
   "cell_type": "code",
   "execution_count": 21,
   "id": "da066da2",
   "metadata": {},
   "outputs": [
    {
     "data": {
      "text/html": [
       "<div>\n",
       "<style scoped>\n",
       "    .dataframe tbody tr th:only-of-type {\n",
       "        vertical-align: middle;\n",
       "    }\n",
       "\n",
       "    .dataframe tbody tr th {\n",
       "        vertical-align: top;\n",
       "    }\n",
       "\n",
       "    .dataframe thead th {\n",
       "        text-align: right;\n",
       "    }\n",
       "</style>\n",
       "<table border=\"1\" class=\"dataframe\">\n",
       "  <thead>\n",
       "    <tr style=\"text-align: right;\">\n",
       "      <th></th>\n",
       "      <th>Result</th>\n",
       "    </tr>\n",
       "  </thead>\n",
       "  <tbody>\n",
       "    <tr>\n",
       "      <th>const</th>\n",
       "      <td>-0.112859</td>\n",
       "    </tr>\n",
       "    <tr>\n",
       "      <th>DP</th>\n",
       "      <td>0.009430</td>\n",
       "    </tr>\n",
       "    <tr>\n",
       "      <th>$R^{2}$</th>\n",
       "      <td>0.009355</td>\n",
       "    </tr>\n",
       "  </tbody>\n",
       "</table>\n",
       "</div>"
      ],
      "text/plain": [
       "           Result\n",
       "const   -0.112859\n",
       "DP       0.009430\n",
       "$R^{2}$  0.009355"
      ]
     },
     "execution_count": 21,
     "metadata": {},
     "output_type": "execute_result"
    }
   ],
   "source": [
    "# Dividend Price Ratio\n",
    "div_price = regression(signals, 'SPY', 'DP')\n",
    "div_price"
   ]
  },
  {
   "cell_type": "code",
   "execution_count": 22,
   "id": "d57b9d9b",
   "metadata": {},
   "outputs": [
    {
     "data": {
      "text/html": [
       "<div>\n",
       "<style scoped>\n",
       "    .dataframe tbody tr th:only-of-type {\n",
       "        vertical-align: middle;\n",
       "    }\n",
       "\n",
       "    .dataframe tbody tr th {\n",
       "        vertical-align: top;\n",
       "    }\n",
       "\n",
       "    .dataframe thead th {\n",
       "        text-align: right;\n",
       "    }\n",
       "</style>\n",
       "<table border=\"1\" class=\"dataframe\">\n",
       "  <thead>\n",
       "    <tr style=\"text-align: right;\">\n",
       "      <th></th>\n",
       "      <th>Result</th>\n",
       "    </tr>\n",
       "  </thead>\n",
       "  <tbody>\n",
       "    <tr>\n",
       "      <th>const</th>\n",
       "      <td>-0.112859</td>\n",
       "    </tr>\n",
       "    <tr>\n",
       "      <th>DP</th>\n",
       "      <td>0.009430</td>\n",
       "    </tr>\n",
       "    <tr>\n",
       "      <th>$R^{2}$</th>\n",
       "      <td>0.009355</td>\n",
       "    </tr>\n",
       "  </tbody>\n",
       "</table>\n",
       "</div>"
      ],
      "text/plain": [
       "           Result\n",
       "const   -0.112859\n",
       "DP       0.009430\n",
       "$R^{2}$  0.009355"
      ]
     },
     "execution_count": 22,
     "metadata": {},
     "output_type": "execute_result"
    }
   ],
   "source": [
    "# Earnings Price Ratio\n",
    "earnings_price = regression(signals, 'SPY', 'EP')\n",
    "div_price"
   ]
  },
  {
   "cell_type": "code",
   "execution_count": 23,
   "id": "d7d6b37c",
   "metadata": {
    "scrolled": true
   },
   "outputs": [
    {
     "data": {
      "text/html": [
       "<div>\n",
       "<style scoped>\n",
       "    .dataframe tbody tr th:only-of-type {\n",
       "        vertical-align: middle;\n",
       "    }\n",
       "\n",
       "    .dataframe tbody tr th {\n",
       "        vertical-align: top;\n",
       "    }\n",
       "\n",
       "    .dataframe thead th {\n",
       "        text-align: right;\n",
       "    }\n",
       "</style>\n",
       "<table border=\"1\" class=\"dataframe\">\n",
       "  <thead>\n",
       "    <tr style=\"text-align: right;\">\n",
       "      <th></th>\n",
       "      <th>Result</th>\n",
       "    </tr>\n",
       "  </thead>\n",
       "  <tbody>\n",
       "    <tr>\n",
       "      <th>const</th>\n",
       "      <td>-0.179199</td>\n",
       "    </tr>\n",
       "    <tr>\n",
       "      <th>DP</th>\n",
       "      <td>0.007979</td>\n",
       "    </tr>\n",
       "    <tr>\n",
       "      <th>EP</th>\n",
       "      <td>0.002651</td>\n",
       "    </tr>\n",
       "    <tr>\n",
       "      <th>US10Y</th>\n",
       "      <td>-0.000968</td>\n",
       "    </tr>\n",
       "    <tr>\n",
       "      <th>$R^{2}$</th>\n",
       "      <td>0.016333</td>\n",
       "    </tr>\n",
       "  </tbody>\n",
       "</table>\n",
       "</div>"
      ],
      "text/plain": [
       "           Result\n",
       "const   -0.179199\n",
       "DP       0.007979\n",
       "EP       0.002651\n",
       "US10Y   -0.000968\n",
       "$R^{2}$  0.016333"
      ]
     },
     "execution_count": 23,
     "metadata": {},
     "output_type": "execute_result"
    }
   ],
   "source": [
    "# 3 Regressors\n",
    "div_earnings_10y = regression(signals, 'SPY', ['DP', 'EP', 'US10Y'])\n",
    "div_earnings_10y"
   ]
  },
  {
   "cell_type": "markdown",
   "id": "37e1277f",
   "metadata": {},
   "source": [
    "2. For each of the three regressions, let’s try to utilize the resulting forecast in a trading strategy.\n",
    "\n",
    "For each strategy estimate:\n",
    "- mean, volatility, Sharpe\n",
    "- max-drawdown\n",
    "- market alpha\n",
    "- market beta\n",
    "- market Information ratio"
   ]
  },
  {
   "cell_type": "code",
   "execution_count": 24,
   "id": "cd83037b",
   "metadata": {},
   "outputs": [],
   "source": [
    "# Div-Price Strategy\n",
    "wt_div = 100*(div_price.loc['const'][0]/12 + div_price.loc['DP'][0] * signals['DP'])\n",
    "rt_div = wt_div *  signals['SPY']\n",
    "\n",
    "# Earnings-Price Strategy\n",
    "wt_earnings = 100*(earnings_price.loc['const'][0]/12 + earnings_price.loc['EP'][0] * signals['EP'])\n",
    "rt_earnings = wt_earnings *  signals['SPY']\n",
    "\n",
    "# 3 Regressor Strategy\n",
    "wt_3reg = 100*(div_earnings_10y.loc['const'][0]/12 + div_earnings_10y.loc['EP'][0] * signals['EP'] \\\n",
    "               + div_earnings_10y.loc['DP'][0] * signals['DP'] + div_earnings_10y.loc['US10Y'][0] * signals['US10Y'])\n",
    "rt_3reg = wt_3reg *  signals['SPY']"
   ]
  },
  {
   "cell_type": "code",
   "execution_count": 41,
   "id": "f4312d90",
   "metadata": {},
   "outputs": [],
   "source": [
    "def summStats_reg(data_Y, data_X, ann = 12):\n",
    "    stats = pd.DataFrame(data = None, index = ['Summary Stats'])\n",
    "    stats['Mean'] = data_Y.mean()*ann\n",
    "    stats['Vol'] = data_Y.std() * (12**0.5)\n",
    "    stats['Sharpe'] = stats['Mean'] / stats['Vol']\n",
    "    \n",
    "    y = data_Y\n",
    "    x = sm.add_constant(data_X.loc[data_Y.index])\n",
    "    reg = sm.OLS(y,x,missing = 'drop').fit()\n",
    "    params = reg.params\n",
    "    \n",
    "    cum_ret = (1 + data_Y).cumprod()\n",
    "    rolling_max = cum_ret.cummax()\n",
    "    drawdown = (cum_ret - rolling_max) / rolling_max\n",
    "    stats['Max Drawdown'] = drawdown.min()\n",
    "    \n",
    "    stats['alpha'] = params[0] * ann\n",
    "    stats['beta'] = params[1]\n",
    "    stats['Info Ratio'] = params[0] * ann / reg.resid.std()*np.sqrt(12)\n",
    "    return stats"
   ]
  },
  {
   "cell_type": "code",
   "execution_count": 42,
   "id": "7d4de58a",
   "metadata": {},
   "outputs": [
    {
     "data": {
      "text/html": [
       "<div>\n",
       "<style scoped>\n",
       "    .dataframe tbody tr th:only-of-type {\n",
       "        vertical-align: middle;\n",
       "    }\n",
       "\n",
       "    .dataframe tbody tr th {\n",
       "        vertical-align: top;\n",
       "    }\n",
       "\n",
       "    .dataframe thead th {\n",
       "        text-align: right;\n",
       "    }\n",
       "</style>\n",
       "<table border=\"1\" class=\"dataframe\">\n",
       "  <thead>\n",
       "    <tr style=\"text-align: right;\">\n",
       "      <th></th>\n",
       "      <th>Mean</th>\n",
       "      <th>Vol</th>\n",
       "      <th>Sharpe</th>\n",
       "      <th>Max Drawdown</th>\n",
       "      <th>alpha</th>\n",
       "      <th>beta</th>\n",
       "      <th>Info Ratio</th>\n",
       "    </tr>\n",
       "  </thead>\n",
       "  <tbody>\n",
       "    <tr>\n",
       "      <th>Summary Stats</th>\n",
       "      <td>0.109454</td>\n",
       "      <td>0.148951</td>\n",
       "      <td>0.734833</td>\n",
       "      <td>-0.653026</td>\n",
       "      <td>0.02067</td>\n",
       "      <td>0.861052</td>\n",
       "      <td>3.310622</td>\n",
       "    </tr>\n",
       "  </tbody>\n",
       "</table>\n",
       "</div>"
      ],
      "text/plain": [
       "                   Mean       Vol    Sharpe  Max Drawdown    alpha      beta  \\\n",
       "Summary Stats  0.109454  0.148951  0.734833     -0.653026  0.02067  0.861052   \n",
       "\n",
       "               Info Ratio  \n",
       "Summary Stats    3.310622  "
      ]
     },
     "execution_count": 42,
     "metadata": {},
     "output_type": "execute_result"
    }
   ],
   "source": [
    "summStats_reg(rt_div, signals['SPY'])"
   ]
  },
  {
   "cell_type": "code",
   "execution_count": 43,
   "id": "65974a29",
   "metadata": {},
   "outputs": [
    {
     "data": {
      "text/html": [
       "<div>\n",
       "<style scoped>\n",
       "    .dataframe tbody tr th:only-of-type {\n",
       "        vertical-align: middle;\n",
       "    }\n",
       "\n",
       "    .dataframe tbody tr th {\n",
       "        vertical-align: top;\n",
       "    }\n",
       "\n",
       "    .dataframe thead th {\n",
       "        text-align: right;\n",
       "    }\n",
       "</style>\n",
       "<table border=\"1\" class=\"dataframe\">\n",
       "  <thead>\n",
       "    <tr style=\"text-align: right;\">\n",
       "      <th></th>\n",
       "      <th>Mean</th>\n",
       "      <th>Vol</th>\n",
       "      <th>Sharpe</th>\n",
       "      <th>Max Drawdown</th>\n",
       "      <th>alpha</th>\n",
       "      <th>beta</th>\n",
       "      <th>Info Ratio</th>\n",
       "    </tr>\n",
       "  </thead>\n",
       "  <tbody>\n",
       "    <tr>\n",
       "      <th>Summary Stats</th>\n",
       "      <td>0.1078</td>\n",
       "      <td>0.128587</td>\n",
       "      <td>0.83834</td>\n",
       "      <td>-0.382255</td>\n",
       "      <td>0.032247</td>\n",
       "      <td>0.732726</td>\n",
       "      <td>5.747357</td>\n",
       "    </tr>\n",
       "  </tbody>\n",
       "</table>\n",
       "</div>"
      ],
      "text/plain": [
       "                 Mean       Vol   Sharpe  Max Drawdown     alpha      beta  \\\n",
       "Summary Stats  0.1078  0.128587  0.83834     -0.382255  0.032247  0.732726   \n",
       "\n",
       "               Info Ratio  \n",
       "Summary Stats    5.747357  "
      ]
     },
     "execution_count": 43,
     "metadata": {},
     "output_type": "execute_result"
    }
   ],
   "source": [
    "summStats_reg(rt_earnings, signals['SPY'])"
   ]
  },
  {
   "cell_type": "code",
   "execution_count": 44,
   "id": "23160596",
   "metadata": {
    "scrolled": true
   },
   "outputs": [
    {
     "data": {
      "text/html": [
       "<div>\n",
       "<style scoped>\n",
       "    .dataframe tbody tr th:only-of-type {\n",
       "        vertical-align: middle;\n",
       "    }\n",
       "\n",
       "    .dataframe tbody tr th {\n",
       "        vertical-align: top;\n",
       "    }\n",
       "\n",
       "    .dataframe thead th {\n",
       "        text-align: right;\n",
       "    }\n",
       "</style>\n",
       "<table border=\"1\" class=\"dataframe\">\n",
       "  <thead>\n",
       "    <tr style=\"text-align: right;\">\n",
       "      <th></th>\n",
       "      <th>Mean</th>\n",
       "      <th>Vol</th>\n",
       "      <th>Sharpe</th>\n",
       "      <th>Max Drawdown</th>\n",
       "      <th>alpha</th>\n",
       "      <th>beta</th>\n",
       "      <th>Info Ratio</th>\n",
       "    </tr>\n",
       "  </thead>\n",
       "  <tbody>\n",
       "    <tr>\n",
       "      <th>Summary Stats</th>\n",
       "      <td>0.125009</td>\n",
       "      <td>0.145568</td>\n",
       "      <td>0.858768</td>\n",
       "      <td>-0.522125</td>\n",
       "      <td>0.045096</td>\n",
       "      <td>0.775013</td>\n",
       "      <td>6.141798</td>\n",
       "    </tr>\n",
       "  </tbody>\n",
       "</table>\n",
       "</div>"
      ],
      "text/plain": [
       "                   Mean       Vol    Sharpe  Max Drawdown     alpha      beta  \\\n",
       "Summary Stats  0.125009  0.145568  0.858768     -0.522125  0.045096  0.775013   \n",
       "\n",
       "               Info Ratio  \n",
       "Summary Stats    6.141798  "
      ]
     },
     "execution_count": 44,
     "metadata": {},
     "output_type": "execute_result"
    }
   ],
   "source": [
    "summStats_reg(rt_3reg, signals['SPY'])"
   ]
  },
  {
   "cell_type": "markdown",
   "id": "3a2bbce4",
   "metadata": {},
   "source": [
    "3. GMO believes a risk premium is compensation for a security’s tendency to lose money at “bad times”. Let’s consider risk characteristics.\n",
    "\n",
    "(a) For both strategies, the market, and GMO, calculate the monthly VaR for π = .05. Just use the quantile of the historic data for this VaR calculation.\n"
   ]
  },
  {
   "cell_type": "code",
   "execution_count": 49,
   "id": "af650e4e",
   "metadata": {},
   "outputs": [
    {
     "data": {
      "text/html": [
       "<div>\n",
       "<style scoped>\n",
       "    .dataframe tbody tr th:only-of-type {\n",
       "        vertical-align: middle;\n",
       "    }\n",
       "\n",
       "    .dataframe tbody tr th {\n",
       "        vertical-align: top;\n",
       "    }\n",
       "\n",
       "    .dataframe thead th {\n",
       "        text-align: right;\n",
       "    }\n",
       "</style>\n",
       "<table border=\"1\" class=\"dataframe\">\n",
       "  <thead>\n",
       "    <tr style=\"text-align: right;\">\n",
       "      <th></th>\n",
       "      <th>5% VaR</th>\n",
       "    </tr>\n",
       "  </thead>\n",
       "  <tbody>\n",
       "    <tr>\n",
       "      <th>DP Strat</th>\n",
       "      <td>-0.052255</td>\n",
       "    </tr>\n",
       "    <tr>\n",
       "      <th>EP Strat</th>\n",
       "      <td>-0.054130</td>\n",
       "    </tr>\n",
       "    <tr>\n",
       "      <th>3-factor Strat</th>\n",
       "      <td>-0.064156</td>\n",
       "    </tr>\n",
       "    <tr>\n",
       "      <th>SPY</th>\n",
       "      <td>-0.073936</td>\n",
       "    </tr>\n",
       "    <tr>\n",
       "      <th>GMO</th>\n",
       "      <td>-0.047306</td>\n",
       "    </tr>\n",
       "  </tbody>\n",
       "</table>\n",
       "</div>"
      ],
      "text/plain": [
       "                  5% VaR\n",
       "DP Strat       -0.052255\n",
       "EP Strat       -0.054130\n",
       "3-factor Strat -0.064156\n",
       "SPY            -0.073936\n",
       "GMO            -0.047306"
      ]
     },
     "execution_count": 49,
     "metadata": {},
     "output_type": "execute_result"
    }
   ],
   "source": [
    "VaR = pd.DataFrame([rt_div.quantile(.05), rt_earnings.quantile(.05), rt_3reg.quantile(.05), \n",
    "                    signals['SPY'].quantile(.05), \n",
    "                    spy['GMWAX'].dropna().quantile(.05)],\n",
    "                   index = ['DP Strat','EP Strat','3-factor Strat','SPY','GMO'], \n",
    "                   columns = ['5% VaR'])\n",
    "VaR"
   ]
  },
  {
   "cell_type": "markdown",
   "id": "f78e9336",
   "metadata": {},
   "source": [
    "(b) The GMO case mentions that stocks under-performed short-term bonds from 2000-2011. Does the dynamic portfolio above under-perform the risk-free rate over this time?"
   ]
  },
  {
   "cell_type": "code",
   "execution_count": 82,
   "id": "f2170648",
   "metadata": {},
   "outputs": [
    {
     "data": {
      "text/html": [
       "<div>\n",
       "<style scoped>\n",
       "    .dataframe tbody tr th:only-of-type {\n",
       "        vertical-align: middle;\n",
       "    }\n",
       "\n",
       "    .dataframe tbody tr th {\n",
       "        vertical-align: top;\n",
       "    }\n",
       "\n",
       "    .dataframe thead th {\n",
       "        text-align: right;\n",
       "    }\n",
       "</style>\n",
       "<table border=\"1\" class=\"dataframe\">\n",
       "  <thead>\n",
       "    <tr style=\"text-align: right;\">\n",
       "      <th></th>\n",
       "      <th>Mean</th>\n",
       "      <th>Volatility</th>\n",
       "      <th>Sharpe</th>\n",
       "    </tr>\n",
       "  </thead>\n",
       "  <tbody>\n",
       "    <tr>\n",
       "      <th>Div-Price</th>\n",
       "      <td>0.039333</td>\n",
       "      <td>0.184209</td>\n",
       "      <td>0.213525</td>\n",
       "    </tr>\n",
       "  </tbody>\n",
       "</table>\n",
       "</div>"
      ],
      "text/plain": [
       "               Mean  Volatility    Sharpe\n",
       "Div-Price  0.039333    0.184209  0.213525"
      ]
     },
     "execution_count": 82,
     "metadata": {},
     "output_type": "execute_result"
    }
   ],
   "source": [
    "summStats(rt_div.to_frame('Div-Price')[['Div-Price']]['2000':'2011'])"
   ]
  },
  {
   "cell_type": "code",
   "execution_count": 83,
   "id": "6b65632d",
   "metadata": {},
   "outputs": [
    {
     "data": {
      "text/html": [
       "<div>\n",
       "<style scoped>\n",
       "    .dataframe tbody tr th:only-of-type {\n",
       "        vertical-align: middle;\n",
       "    }\n",
       "\n",
       "    .dataframe tbody tr th {\n",
       "        vertical-align: top;\n",
       "    }\n",
       "\n",
       "    .dataframe thead th {\n",
       "        text-align: right;\n",
       "    }\n",
       "</style>\n",
       "<table border=\"1\" class=\"dataframe\">\n",
       "  <thead>\n",
       "    <tr style=\"text-align: right;\">\n",
       "      <th></th>\n",
       "      <th>Mean</th>\n",
       "      <th>Volatility</th>\n",
       "      <th>Sharpe</th>\n",
       "    </tr>\n",
       "  </thead>\n",
       "  <tbody>\n",
       "    <tr>\n",
       "      <th>Earnings-Price</th>\n",
       "      <td>0.037271</td>\n",
       "      <td>0.133899</td>\n",
       "      <td>0.278353</td>\n",
       "    </tr>\n",
       "  </tbody>\n",
       "</table>\n",
       "</div>"
      ],
      "text/plain": [
       "                    Mean  Volatility    Sharpe\n",
       "Earnings-Price  0.037271    0.133899  0.278353"
      ]
     },
     "execution_count": 83,
     "metadata": {},
     "output_type": "execute_result"
    }
   ],
   "source": [
    "summStats(rt_earnings.to_frame('Earnings-Price')[['Earnings-Price']]['2000':'2011'])"
   ]
  },
  {
   "cell_type": "code",
   "execution_count": 84,
   "id": "a02db03d",
   "metadata": {},
   "outputs": [
    {
     "data": {
      "text/html": [
       "<div>\n",
       "<style scoped>\n",
       "    .dataframe tbody tr th:only-of-type {\n",
       "        vertical-align: middle;\n",
       "    }\n",
       "\n",
       "    .dataframe tbody tr th {\n",
       "        vertical-align: top;\n",
       "    }\n",
       "\n",
       "    .dataframe thead th {\n",
       "        text-align: right;\n",
       "    }\n",
       "</style>\n",
       "<table border=\"1\" class=\"dataframe\">\n",
       "  <thead>\n",
       "    <tr style=\"text-align: right;\">\n",
       "      <th></th>\n",
       "      <th>Mean</th>\n",
       "      <th>Volatility</th>\n",
       "      <th>Sharpe</th>\n",
       "    </tr>\n",
       "  </thead>\n",
       "  <tbody>\n",
       "    <tr>\n",
       "      <th>3 Factor</th>\n",
       "      <td>0.060801</td>\n",
       "      <td>0.157393</td>\n",
       "      <td>0.386303</td>\n",
       "    </tr>\n",
       "  </tbody>\n",
       "</table>\n",
       "</div>"
      ],
      "text/plain": [
       "              Mean  Volatility    Sharpe\n",
       "3 Factor  0.060801    0.157393  0.386303"
      ]
     },
     "execution_count": 84,
     "metadata": {},
     "output_type": "execute_result"
    }
   ],
   "source": [
    "summStats(rt_3reg.to_frame('3 Factor')[['3 Factor']]['2000':'2011'])"
   ]
  },
  {
   "cell_type": "code",
   "execution_count": 85,
   "id": "a09db2de",
   "metadata": {},
   "outputs": [
    {
     "data": {
      "text/html": [
       "<div>\n",
       "<style scoped>\n",
       "    .dataframe tbody tr th:only-of-type {\n",
       "        vertical-align: middle;\n",
       "    }\n",
       "\n",
       "    .dataframe tbody tr th {\n",
       "        vertical-align: top;\n",
       "    }\n",
       "\n",
       "    .dataframe thead th {\n",
       "        text-align: right;\n",
       "    }\n",
       "</style>\n",
       "<table border=\"1\" class=\"dataframe\">\n",
       "  <thead>\n",
       "    <tr style=\"text-align: right;\">\n",
       "      <th></th>\n",
       "      <th>Mean</th>\n",
       "      <th>Volatility</th>\n",
       "      <th>Sharpe</th>\n",
       "    </tr>\n",
       "  </thead>\n",
       "  <tbody>\n",
       "    <tr>\n",
       "      <th>US3M</th>\n",
       "      <td>0.023062</td>\n",
       "      <td>0.005785</td>\n",
       "      <td>3.986632</td>\n",
       "    </tr>\n",
       "  </tbody>\n",
       "</table>\n",
       "</div>"
      ],
      "text/plain": [
       "          Mean  Volatility    Sharpe\n",
       "US3M  0.023062    0.005785  3.986632"
      ]
     },
     "execution_count": 85,
     "metadata": {},
     "output_type": "execute_result"
    }
   ],
   "source": [
    "summStats(rf['2000':'2011'])"
   ]
  },
  {
   "cell_type": "markdown",
   "id": "076bd244",
   "metadata": {},
   "source": [
    "(c) Based on the regression estimates, in how many periods do we estimate a negative risk premium?\n"
   ]
  },
  {
   "cell_type": "code",
   "execution_count": 87,
   "id": "52b25b4e",
   "metadata": {
    "scrolled": true
   },
   "outputs": [
    {
     "data": {
      "text/html": [
       "<div>\n",
       "<style scoped>\n",
       "    .dataframe tbody tr th:only-of-type {\n",
       "        vertical-align: middle;\n",
       "    }\n",
       "\n",
       "    .dataframe tbody tr th {\n",
       "        vertical-align: top;\n",
       "    }\n",
       "\n",
       "    .dataframe thead th {\n",
       "        text-align: right;\n",
       "    }\n",
       "</style>\n",
       "<table border=\"1\" class=\"dataframe\">\n",
       "  <thead>\n",
       "    <tr style=\"text-align: right;\">\n",
       "      <th></th>\n",
       "      <th>3-factor Strat</th>\n",
       "      <th>DP Strat</th>\n",
       "      <th>EP Strat</th>\n",
       "    </tr>\n",
       "  </thead>\n",
       "  <tbody>\n",
       "    <tr>\n",
       "      <th>% of periods underperforming $r^{f}$</th>\n",
       "      <td>36.97479</td>\n",
       "      <td>37.254902</td>\n",
       "      <td>37.254902</td>\n",
       "    </tr>\n",
       "  </tbody>\n",
       "</table>\n",
       "</div>"
      ],
      "text/plain": [
       "                                      3-factor Strat   DP Strat   EP Strat\n",
       "% of periods underperforming $r^{f}$        36.97479  37.254902  37.254902"
      ]
     },
     "execution_count": 87,
     "metadata": {},
     "output_type": "execute_result"
    }
   ],
   "source": [
    "r_df = rt_3reg.to_frame('3-factor Strat')\n",
    "r_df['DP Strat'] = rt_div\n",
    "r_df['EP Strat'] = rt_earnings\n",
    "r_df['rf'] = rf['US3M']\n",
    "\n",
    "df_riskprem = pd.DataFrame(data=None, index=[r'% of periods underperforming $r^{f}$'])\n",
    "for col in r_df.columns[:3]:\n",
    "    df_riskprem[col] = len(r_df[r_df[col] < r_df['rf']])/len(r_df) * 100\n",
    "    \n",
    "df_riskprem"
   ]
  },
  {
   "cell_type": "markdown",
   "id": "ae519385",
   "metadata": {},
   "source": [
    "(d) Do you believe the dynamic strategy takes on extra risk?\n",
    "\n",
    "From the results seen so far, it does not seem like the strategies take on extra risk. Overall, we see that their risk, measured by their vol and tail risk stats, are similar to the market's and so not esepcially risky. "
   ]
  },
  {
   "cell_type": "markdown",
   "id": "f74fa9e6",
   "metadata": {},
   "source": [
    "# Question 4 - Out-of-Sample Forecasting"
   ]
  },
  {
   "cell_type": "markdown",
   "id": "eeb8460e",
   "metadata": {},
   "source": [
    "Reconsider the problem above, of estimating (1) for x. The reported $R^{2}$ was the in-sample $R^{2}$ -- it examined how well the forecasts fit in the sample from which the parameters were estimated.\n",
    "\n",
    "**In particular, focus on the case of using both dividend-price and earnings-price as signals.**\n",
    "\n",
    "1. Report the out-of-sample $R^{2}$. Did this forecasting strategy produce a positive OOS r-squared?"
   ]
  },
  {
   "cell_type": "code",
   "execution_count": 98,
   "id": "a68db3d3",
   "metadata": {},
   "outputs": [],
   "source": [
    "def OOS_R2(data, Y_name, X_column_names, start):\n",
    "    y = data[Y_name]\n",
    "    X = sm.add_constant(data[X_column_names])\n",
    "\n",
    "    forecast_err, null_err = [], []\n",
    "\n",
    "    for i,j in enumerate(data.index):\n",
    "        if i >= start:\n",
    "            currX = X.iloc[:i]\n",
    "            currY = y.iloc[:i]\n",
    "            reg = sm.OLS(currY, currX, missing = 'drop').fit()\n",
    "            null_forecast = currY.mean()\n",
    "            reg_predict = reg.predict(X.iloc[[i]])\n",
    "            actual = y.iloc[[i]]\n",
    "            forecast_err.append(reg_predict - actual)\n",
    "            null_err.append(null_forecast - actual)\n",
    "            \n",
    "    TS_OOS_error_x = (np.array(forecast_err)**2).sum()\n",
    "    TS_OOS_error_O = (np.array(null_err)**2).sum()\n",
    "    return 1 - TS_OOS_error_x/TS_OOS_error_O"
   ]
  },
  {
   "cell_type": "code",
   "execution_count": 102,
   "id": "60c07ea0",
   "metadata": {},
   "outputs": [
    {
     "name": "stdout",
     "output_type": "stream",
     "text": [
      "The Dividend-Price OOS R2 is -0.2424%\n"
     ]
    }
   ],
   "source": [
    "div_OOS_R2 = OOS_R2(signals, 'SPY', ['DP'], 60)\n",
    "print(f'The Dividend-Price OOS R2 is {round(div_OOS_R2*100,4)}%')"
   ]
  },
  {
   "cell_type": "code",
   "execution_count": 103,
   "id": "8264738e",
   "metadata": {
    "scrolled": true
   },
   "outputs": [
    {
     "name": "stdout",
     "output_type": "stream",
     "text": [
      "The Earnings-Price OOS R2 is -0.6966%\n"
     ]
    }
   ],
   "source": [
    "earnings_OOS_R2 = OOS_R2(signals, 'SPY', ['EP'], 60)\n",
    "print(f'The Earnings-Price OOS R2 is {round(earnings_OOS_R2*100,4)}%')"
   ]
  },
  {
   "cell_type": "code",
   "execution_count": 116,
   "id": "921322e0",
   "metadata": {},
   "outputs": [
    {
     "name": "stdout",
     "output_type": "stream",
     "text": [
      "The Earnings-Price OOS R2 is -3.2191%\n"
     ]
    }
   ],
   "source": [
    "three_fac_OOS_R2 = OOS_R2(signals, 'SPY', ['DP', 'EP', 'US10Y'], 60)\n",
    "print(f'The Earnings-Price OOS R2 is {round(three_fac_OOS_R2*100,4)}%')"
   ]
  },
  {
   "cell_type": "markdown",
   "id": "2ffaa6af",
   "metadata": {},
   "source": [
    "Neither forecasting strategy produced a positive $R^{2}$"
   ]
  },
  {
   "cell_type": "markdown",
   "id": "45cad441",
   "metadata": {},
   "source": [
    "2. Re-do problem 3.2 using this OOS forecast. How much better/worse is the OOS strategy compared to the in-sample version of 3.2?"
   ]
  },
  {
   "cell_type": "code",
   "execution_count": 106,
   "id": "e6539167",
   "metadata": {},
   "outputs": [],
   "source": [
    "def OOS_strat(data, Y_name, X_column_names, start, weight):\n",
    "    returns = []\n",
    "    y = data[Y_name]\n",
    "    X = sm.add_constant(data[X_column_names])\n",
    "\n",
    "    for i,j in enumerate(data.index):\n",
    "        if i >= start:\n",
    "            currX = X.iloc[:i]\n",
    "            currY = y.iloc[:i]\n",
    "            reg = sm.OLS(currY, currX, missing = 'drop').fit()\n",
    "            pred = reg.predict(X.iloc[[i]])\n",
    "            w = pred * weight\n",
    "            returns.append((data.iloc[i][Y_name] * w)[0])\n",
    "\n",
    "    df_strat = pd.DataFrame(data = returns, index = data.iloc[-(len(returns)):].index, columns = ['Strategy Return'])\n",
    "    return df_strat"
   ]
  },
  {
   "cell_type": "code",
   "execution_count": 110,
   "id": "d14223bc",
   "metadata": {},
   "outputs": [],
   "source": [
    "OOS_earnings = OOS_strat(signals, 'SPY', ['EP'], 60, 100)"
   ]
  },
  {
   "cell_type": "code",
   "execution_count": 111,
   "id": "4be089da",
   "metadata": {},
   "outputs": [
    {
     "data": {
      "text/html": [
       "<div>\n",
       "<style scoped>\n",
       "    .dataframe tbody tr th:only-of-type {\n",
       "        vertical-align: middle;\n",
       "    }\n",
       "\n",
       "    .dataframe tbody tr th {\n",
       "        vertical-align: top;\n",
       "    }\n",
       "\n",
       "    .dataframe thead th {\n",
       "        text-align: right;\n",
       "    }\n",
       "</style>\n",
       "<table border=\"1\" class=\"dataframe\">\n",
       "  <thead>\n",
       "    <tr style=\"text-align: right;\">\n",
       "      <th></th>\n",
       "      <th>Mean</th>\n",
       "      <th>Vol</th>\n",
       "      <th>Sharpe</th>\n",
       "      <th>Max Drawdown</th>\n",
       "      <th>alpha</th>\n",
       "      <th>beta</th>\n",
       "      <th>Info Ratio</th>\n",
       "    </tr>\n",
       "  </thead>\n",
       "  <tbody>\n",
       "    <tr>\n",
       "      <th>Summary Stats</th>\n",
       "      <td>0.081898</td>\n",
       "      <td>0.165352</td>\n",
       "      <td>0.495294</td>\n",
       "      <td>-0.583693</td>\n",
       "      <td>0.035321</td>\n",
       "      <td>0.543527</td>\n",
       "      <td>2.98765</td>\n",
       "    </tr>\n",
       "  </tbody>\n",
       "</table>\n",
       "</div>"
      ],
      "text/plain": [
       "                   Mean       Vol    Sharpe  Max Drawdown     alpha      beta  \\\n",
       "Summary Stats  0.081898  0.165352  0.495294     -0.583693  0.035321  0.543527   \n",
       "\n",
       "               Info Ratio  \n",
       "Summary Stats     2.98765  "
      ]
     },
     "execution_count": 111,
     "metadata": {},
     "output_type": "execute_result"
    }
   ],
   "source": [
    "summStats_reg(OOS_earnings['Strategy Return'], signals['SPY'])"
   ]
  },
  {
   "cell_type": "code",
   "execution_count": 112,
   "id": "0fbffc2b",
   "metadata": {},
   "outputs": [],
   "source": [
    "OOS_div = OOS_strat(signals, 'SPY', ['DP'], 60, 100)"
   ]
  },
  {
   "cell_type": "code",
   "execution_count": 113,
   "id": "99705ef0",
   "metadata": {},
   "outputs": [
    {
     "data": {
      "text/html": [
       "<div>\n",
       "<style scoped>\n",
       "    .dataframe tbody tr th:only-of-type {\n",
       "        vertical-align: middle;\n",
       "    }\n",
       "\n",
       "    .dataframe tbody tr th {\n",
       "        vertical-align: top;\n",
       "    }\n",
       "\n",
       "    .dataframe thead th {\n",
       "        text-align: right;\n",
       "    }\n",
       "</style>\n",
       "<table border=\"1\" class=\"dataframe\">\n",
       "  <thead>\n",
       "    <tr style=\"text-align: right;\">\n",
       "      <th></th>\n",
       "      <th>Mean</th>\n",
       "      <th>Vol</th>\n",
       "      <th>Sharpe</th>\n",
       "      <th>Max Drawdown</th>\n",
       "      <th>alpha</th>\n",
       "      <th>beta</th>\n",
       "      <th>Info Ratio</th>\n",
       "    </tr>\n",
       "  </thead>\n",
       "  <tbody>\n",
       "    <tr>\n",
       "      <th>Summary Stats</th>\n",
       "      <td>0.079751</td>\n",
       "      <td>0.176263</td>\n",
       "      <td>0.452454</td>\n",
       "      <td>-0.551925</td>\n",
       "      <td>-0.006881</td>\n",
       "      <td>1.010945</td>\n",
       "      <td>-1.056455</td>\n",
       "    </tr>\n",
       "  </tbody>\n",
       "</table>\n",
       "</div>"
      ],
      "text/plain": [
       "                   Mean       Vol    Sharpe  Max Drawdown     alpha      beta  \\\n",
       "Summary Stats  0.079751  0.176263  0.452454     -0.551925 -0.006881  1.010945   \n",
       "\n",
       "               Info Ratio  \n",
       "Summary Stats   -1.056455  "
      ]
     },
     "execution_count": 113,
     "metadata": {},
     "output_type": "execute_result"
    }
   ],
   "source": [
    "summStats_reg(OOS_div['Strategy Return'], signals['SPY'])"
   ]
  },
  {
   "cell_type": "code",
   "execution_count": 117,
   "id": "7dcf3902",
   "metadata": {},
   "outputs": [],
   "source": [
    "OOS_3fac = OOS_strat(signals, 'SPY', ['DP', 'EP', 'US10Y'], 60, 100)"
   ]
  },
  {
   "cell_type": "code",
   "execution_count": 118,
   "id": "5e08a63d",
   "metadata": {},
   "outputs": [
    {
     "data": {
      "text/html": [
       "<div>\n",
       "<style scoped>\n",
       "    .dataframe tbody tr th:only-of-type {\n",
       "        vertical-align: middle;\n",
       "    }\n",
       "\n",
       "    .dataframe tbody tr th {\n",
       "        vertical-align: top;\n",
       "    }\n",
       "\n",
       "    .dataframe thead th {\n",
       "        text-align: right;\n",
       "    }\n",
       "</style>\n",
       "<table border=\"1\" class=\"dataframe\">\n",
       "  <thead>\n",
       "    <tr style=\"text-align: right;\">\n",
       "      <th></th>\n",
       "      <th>Mean</th>\n",
       "      <th>Vol</th>\n",
       "      <th>Sharpe</th>\n",
       "      <th>Max Drawdown</th>\n",
       "      <th>alpha</th>\n",
       "      <th>beta</th>\n",
       "      <th>Info Ratio</th>\n",
       "    </tr>\n",
       "  </thead>\n",
       "  <tbody>\n",
       "    <tr>\n",
       "      <th>Summary Stats</th>\n",
       "      <td>0.113149</td>\n",
       "      <td>0.252174</td>\n",
       "      <td>0.448693</td>\n",
       "      <td>-0.804959</td>\n",
       "      <td>0.071358</td>\n",
       "      <td>0.487678</td>\n",
       "      <td>3.562222</td>\n",
       "    </tr>\n",
       "  </tbody>\n",
       "</table>\n",
       "</div>"
      ],
      "text/plain": [
       "                   Mean       Vol    Sharpe  Max Drawdown     alpha      beta  \\\n",
       "Summary Stats  0.113149  0.252174  0.448693     -0.804959  0.071358  0.487678   \n",
       "\n",
       "               Info Ratio  \n",
       "Summary Stats    3.562222  "
      ]
     },
     "execution_count": 118,
     "metadata": {},
     "output_type": "execute_result"
    }
   ],
   "source": [
    "summStats_reg(OOS_3fac['Strategy Return'], signals['SPY'])"
   ]
  },
  {
   "cell_type": "markdown",
   "id": "1657052e",
   "metadata": {},
   "source": [
    "3. Re-do problem 3.3 using this OOS forecast. Is the point-in-time version of the strategy riskier?"
   ]
  },
  {
   "cell_type": "code",
   "execution_count": 121,
   "id": "7e53ab5c",
   "metadata": {},
   "outputs": [
    {
     "data": {
      "text/html": [
       "<div>\n",
       "<style scoped>\n",
       "    .dataframe tbody tr th:only-of-type {\n",
       "        vertical-align: middle;\n",
       "    }\n",
       "\n",
       "    .dataframe tbody tr th {\n",
       "        vertical-align: top;\n",
       "    }\n",
       "\n",
       "    .dataframe thead th {\n",
       "        text-align: right;\n",
       "    }\n",
       "</style>\n",
       "<table border=\"1\" class=\"dataframe\">\n",
       "  <thead>\n",
       "    <tr style=\"text-align: right;\">\n",
       "      <th></th>\n",
       "      <th>5% VaR</th>\n",
       "    </tr>\n",
       "  </thead>\n",
       "  <tbody>\n",
       "    <tr>\n",
       "      <th>Earnings Strat</th>\n",
       "      <td>-0.070971</td>\n",
       "    </tr>\n",
       "    <tr>\n",
       "      <th>Dividend Strat</th>\n",
       "      <td>-0.072559</td>\n",
       "    </tr>\n",
       "    <tr>\n",
       "      <th>3 Factor Strat</th>\n",
       "      <td>-0.073484</td>\n",
       "    </tr>\n",
       "    <tr>\n",
       "      <th>SPY</th>\n",
       "      <td>-0.073936</td>\n",
       "    </tr>\n",
       "    <tr>\n",
       "      <th>GMO</th>\n",
       "      <td>-0.048293</td>\n",
       "    </tr>\n",
       "  </tbody>\n",
       "</table>\n",
       "</div>"
      ],
      "text/plain": [
       "                  5% VaR\n",
       "Earnings Strat -0.070971\n",
       "Dividend Strat -0.072559\n",
       "3 Factor Strat -0.073484\n",
       "SPY            -0.073936\n",
       "GMO            -0.048293"
      ]
     },
     "execution_count": 121,
     "metadata": {},
     "output_type": "execute_result"
    }
   ],
   "source": [
    "VaR_OOS = pd.DataFrame([OOS_earnings['Strategy Return'].quantile(.05), OOS_div['Strategy Return'].quantile(.05), \n",
    "                        OOS_3fac['Strategy Return'].quantile(.05),\n",
    "                    signals['SPY'].quantile(.05), \n",
    "                    returns['GMWAX'].quantile(.05)],\n",
    "                   index = ['Earnings Strat', 'Dividend Strat','3 Factor Strat','SPY','GMO'], \n",
    "                   columns = ['5% VaR'])\n",
    "\n",
    "VaR_OOS"
   ]
  },
  {
   "cell_type": "code",
   "execution_count": 123,
   "id": "b9f4115c",
   "metadata": {},
   "outputs": [
    {
     "data": {
      "text/html": [
       "<div>\n",
       "<style scoped>\n",
       "    .dataframe tbody tr th:only-of-type {\n",
       "        vertical-align: middle;\n",
       "    }\n",
       "\n",
       "    .dataframe tbody tr th {\n",
       "        vertical-align: top;\n",
       "    }\n",
       "\n",
       "    .dataframe thead th {\n",
       "        text-align: right;\n",
       "    }\n",
       "</style>\n",
       "<table border=\"1\" class=\"dataframe\">\n",
       "  <thead>\n",
       "    <tr style=\"text-align: right;\">\n",
       "      <th></th>\n",
       "      <th>Mean</th>\n",
       "      <th>Volatility</th>\n",
       "      <th>Sharpe</th>\n",
       "    </tr>\n",
       "  </thead>\n",
       "  <tbody>\n",
       "    <tr>\n",
       "      <th>Strategy Return</th>\n",
       "      <td>0.038768</td>\n",
       "      <td>0.195919</td>\n",
       "      <td>0.197877</td>\n",
       "    </tr>\n",
       "  </tbody>\n",
       "</table>\n",
       "</div>"
      ],
      "text/plain": [
       "                     Mean  Volatility    Sharpe\n",
       "Strategy Return  0.038768    0.195919  0.197877"
      ]
     },
     "execution_count": 123,
     "metadata": {},
     "output_type": "execute_result"
    }
   ],
   "source": [
    "summStats(OOS_earnings[['Strategy Return']]['2000':'2011'])"
   ]
  },
  {
   "cell_type": "code",
   "execution_count": 124,
   "id": "e3451d1b",
   "metadata": {},
   "outputs": [
    {
     "data": {
      "text/html": [
       "<div>\n",
       "<style scoped>\n",
       "    .dataframe tbody tr th:only-of-type {\n",
       "        vertical-align: middle;\n",
       "    }\n",
       "\n",
       "    .dataframe tbody tr th {\n",
       "        vertical-align: top;\n",
       "    }\n",
       "\n",
       "    .dataframe thead th {\n",
       "        text-align: right;\n",
       "    }\n",
       "</style>\n",
       "<table border=\"1\" class=\"dataframe\">\n",
       "  <thead>\n",
       "    <tr style=\"text-align: right;\">\n",
       "      <th></th>\n",
       "      <th>Mean</th>\n",
       "      <th>Volatility</th>\n",
       "      <th>Sharpe</th>\n",
       "    </tr>\n",
       "  </thead>\n",
       "  <tbody>\n",
       "    <tr>\n",
       "      <th>Strategy Return</th>\n",
       "      <td>-0.010895</td>\n",
       "      <td>0.163221</td>\n",
       "      <td>-0.066749</td>\n",
       "    </tr>\n",
       "  </tbody>\n",
       "</table>\n",
       "</div>"
      ],
      "text/plain": [
       "                     Mean  Volatility    Sharpe\n",
       "Strategy Return -0.010895    0.163221 -0.066749"
      ]
     },
     "execution_count": 124,
     "metadata": {},
     "output_type": "execute_result"
    }
   ],
   "source": [
    "summStats(OOS_div[['Strategy Return']]['2000':'2011'])"
   ]
  },
  {
   "cell_type": "code",
   "execution_count": 125,
   "id": "36352a43",
   "metadata": {},
   "outputs": [
    {
     "data": {
      "text/html": [
       "<div>\n",
       "<style scoped>\n",
       "    .dataframe tbody tr th:only-of-type {\n",
       "        vertical-align: middle;\n",
       "    }\n",
       "\n",
       "    .dataframe tbody tr th {\n",
       "        vertical-align: top;\n",
       "    }\n",
       "\n",
       "    .dataframe thead th {\n",
       "        text-align: right;\n",
       "    }\n",
       "</style>\n",
       "<table border=\"1\" class=\"dataframe\">\n",
       "  <thead>\n",
       "    <tr style=\"text-align: right;\">\n",
       "      <th></th>\n",
       "      <th>Mean</th>\n",
       "      <th>Volatility</th>\n",
       "      <th>Sharpe</th>\n",
       "    </tr>\n",
       "  </thead>\n",
       "  <tbody>\n",
       "    <tr>\n",
       "      <th>Strategy Return</th>\n",
       "      <td>0.084077</td>\n",
       "      <td>0.328892</td>\n",
       "      <td>0.255636</td>\n",
       "    </tr>\n",
       "  </tbody>\n",
       "</table>\n",
       "</div>"
      ],
      "text/plain": [
       "                     Mean  Volatility    Sharpe\n",
       "Strategy Return  0.084077    0.328892  0.255636"
      ]
     },
     "execution_count": 125,
     "metadata": {},
     "output_type": "execute_result"
    }
   ],
   "source": [
    "summStats(OOS_3fac[['Strategy Return']]['2000':'2011'])"
   ]
  },
  {
   "cell_type": "code",
   "execution_count": 126,
   "id": "c192bc2f",
   "metadata": {
    "scrolled": true
   },
   "outputs": [
    {
     "data": {
      "text/html": [
       "<div>\n",
       "<style scoped>\n",
       "    .dataframe tbody tr th:only-of-type {\n",
       "        vertical-align: middle;\n",
       "    }\n",
       "\n",
       "    .dataframe tbody tr th {\n",
       "        vertical-align: top;\n",
       "    }\n",
       "\n",
       "    .dataframe thead th {\n",
       "        text-align: right;\n",
       "    }\n",
       "</style>\n",
       "<table border=\"1\" class=\"dataframe\">\n",
       "  <thead>\n",
       "    <tr style=\"text-align: right;\">\n",
       "      <th></th>\n",
       "      <th>Mean</th>\n",
       "      <th>Volatility</th>\n",
       "      <th>Sharpe</th>\n",
       "    </tr>\n",
       "  </thead>\n",
       "  <tbody>\n",
       "    <tr>\n",
       "      <th>US3M</th>\n",
       "      <td>0.023062</td>\n",
       "      <td>0.005785</td>\n",
       "      <td>3.986632</td>\n",
       "    </tr>\n",
       "  </tbody>\n",
       "</table>\n",
       "</div>"
      ],
      "text/plain": [
       "          Mean  Volatility    Sharpe\n",
       "US3M  0.023062    0.005785  3.986632"
      ]
     },
     "execution_count": 126,
     "metadata": {},
     "output_type": "execute_result"
    }
   ],
   "source": [
    "summStats(rf.loc['2000':'2011'])"
   ]
  },
  {
   "cell_type": "markdown",
   "id": "8b90def2",
   "metadata": {},
   "source": [
    "Only the earnings and 3 factor strategy outperforms the risk free rate, while the dividend strategy generates a negative return."
   ]
  },
  {
   "cell_type": "code",
   "execution_count": 135,
   "id": "2747ae9b",
   "metadata": {},
   "outputs": [],
   "source": [
    "r_OOS_df = OOS_earnings.rename(columns={\"Strategy Return\": \"Earnings Strategy\"})\n",
    "r_OOS_df['Dividend Strategy'] = OOS_div[['Strategy Return']]\n",
    "r_OOS_df['3 factor Strategy'] = OOS_3fac[['Strategy Return']]\n",
    "r_OOS_df['SPY'] = returns[['SPY']]\n",
    "r_OOS_df['rf'] = rf['US3M']"
   ]
  },
  {
   "cell_type": "code",
   "execution_count": 136,
   "id": "b4a3c3d8",
   "metadata": {},
   "outputs": [
    {
     "data": {
      "text/html": [
       "<div>\n",
       "<style scoped>\n",
       "    .dataframe tbody tr th:only-of-type {\n",
       "        vertical-align: middle;\n",
       "    }\n",
       "\n",
       "    .dataframe tbody tr th {\n",
       "        vertical-align: top;\n",
       "    }\n",
       "\n",
       "    .dataframe thead th {\n",
       "        text-align: right;\n",
       "    }\n",
       "</style>\n",
       "<table border=\"1\" class=\"dataframe\">\n",
       "  <thead>\n",
       "    <tr style=\"text-align: right;\">\n",
       "      <th></th>\n",
       "      <th>Earnings Strategy</th>\n",
       "      <th>Dividend Strategy</th>\n",
       "      <th>3 factor Strategy</th>\n",
       "      <th>SPY</th>\n",
       "    </tr>\n",
       "  </thead>\n",
       "  <tbody>\n",
       "    <tr>\n",
       "      <th>% of periods underperforming $r^{f}$</th>\n",
       "      <td>38.383838</td>\n",
       "      <td>39.057239</td>\n",
       "      <td>37.373737</td>\n",
       "      <td>40.06734</td>\n",
       "    </tr>\n",
       "  </tbody>\n",
       "</table>\n",
       "</div>"
      ],
      "text/plain": [
       "                                      Earnings Strategy  Dividend Strategy  \\\n",
       "% of periods underperforming $r^{f}$          38.383838          39.057239   \n",
       "\n",
       "                                      3 factor Strategy       SPY  \n",
       "% of periods underperforming $r^{f}$          37.373737  40.06734  "
      ]
     },
     "execution_count": 136,
     "metadata": {},
     "output_type": "execute_result"
    }
   ],
   "source": [
    "df_riskprem_OOS = pd.DataFrame(data=None, index=[r'% of periods underperforming $r^{f}$'])\n",
    "for col in r_OOS_df.columns[:4]:\n",
    "    df_riskprem_OOS[col] = len(r_OOS_df[r_OOS_df[col] < r_OOS_df['rf']])/len(r_OOS_df) * 100\n",
    "    \n",
    "df_riskprem_OOS"
   ]
  },
  {
   "cell_type": "markdown",
   "id": "d2245a1c",
   "metadata": {},
   "source": [
    "Overall, we can see that the strategies underperform the risk free rate at about the same rate as SPY, with the 3-factor strategy performing the best overall in terms underperformance. The VaR of all 3 strategies out of sample are better than SPY, if only marginally."
   ]
  }
 ],
 "metadata": {
  "kernelspec": {
   "display_name": "Python 3.10.8 64-bit (microsoft store)",
   "language": "python",
   "name": "python3"
  },
  "language_info": {
   "codemirror_mode": {
    "name": "ipython",
    "version": 3
   },
   "file_extension": ".py",
   "mimetype": "text/x-python",
   "name": "python",
   "nbconvert_exporter": "python",
   "pygments_lexer": "ipython3",
   "version": "3.10.8"
  },
  "vscode": {
   "interpreter": {
    "hash": "28c29896733cd258a7e144e5cfe10ab10fb1ed1767adc491e37af3f909fe0b53"
   }
  }
 },
 "nbformat": 4,
 "nbformat_minor": 5
}
