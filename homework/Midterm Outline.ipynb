{
 "cells": [
  {
   "cell_type": "markdown",
   "metadata": {},
   "source": [
    "<div style=\"text-align: right\"> Madison Rusch </div>\n",
    "\n",
    "<left>FINM 36700</left> \n",
    "<br>\n",
    "<left>Autumn 2022</left>\n",
    "\n",
    "<h2><center>Midterm #1 </center></h2>"
   ]
  },
  {
   "cell_type": "markdown",
   "metadata": {},
   "source": [
    "### 1 True / False\n",
    "\n",
    "1. Question\n",
    "\n",
    "    - <p>My answer here</p>\n",
    "\n",
    "2. Question\n",
    "\n",
    "    - <p>My answer here</p>"
   ]
  },
  {
   "cell_type": "markdown",
   "metadata": {},
   "source": [
    "### 2 Short Answer\n",
    "\n",
    "1. Question\n",
    "\n",
    "    - <p>My answer here</p>\n",
    "\n",
    "2. Question\n",
    "\n",
    "    - <p>My answer here</p>"
   ]
  },
  {
   "cell_type": "markdown",
   "metadata": {},
   "source": [
    "### 3 Question 3\n",
    "\n",
    "1. Question\n",
    "2. Question"
   ]
  },
  {
   "cell_type": "code",
   "execution_count": 3,
   "metadata": {},
   "outputs": [
    {
     "data": {
      "text/html": [
       "<div>\n",
       "<style scoped>\n",
       "    .dataframe tbody tr th:only-of-type {\n",
       "        vertical-align: middle;\n",
       "    }\n",
       "\n",
       "    .dataframe tbody tr th {\n",
       "        vertical-align: top;\n",
       "    }\n",
       "\n",
       "    .dataframe thead th {\n",
       "        text-align: right;\n",
       "    }\n",
       "</style>\n",
       "<table border=\"1\" class=\"dataframe\">\n",
       "  <thead>\n",
       "    <tr style=\"text-align: right;\">\n",
       "      <th></th>\n",
       "      <th>Unnamed: 0</th>\n",
       "      <th>SPY US Equity</th>\n",
       "      <th>USGG3M Index</th>\n",
       "      <th>EEM US Equity</th>\n",
       "      <th>EFA US Equity</th>\n",
       "      <th>EUO US Equity</th>\n",
       "      <th>IWM US Equity</th>\n",
       "    </tr>\n",
       "  </thead>\n",
       "  <tbody>\n",
       "    <tr>\n",
       "      <th>0</th>\n",
       "      <td>2011-08-31</td>\n",
       "      <td>-0.0550</td>\n",
       "      <td>8.5000e-06</td>\n",
       "      <td>-0.0925</td>\n",
       "      <td>-0.0875</td>\n",
       "      <td>-0.0059</td>\n",
       "      <td>-0.0889</td>\n",
       "    </tr>\n",
       "    <tr>\n",
       "      <th>1</th>\n",
       "      <td>2011-09-30</td>\n",
       "      <td>-0.0694</td>\n",
       "      <td>1.6917e-05</td>\n",
       "      <td>-0.1791</td>\n",
       "      <td>-0.1081</td>\n",
       "      <td>0.1422</td>\n",
       "      <td>-0.1115</td>\n",
       "    </tr>\n",
       "    <tr>\n",
       "      <th>2</th>\n",
       "      <td>2011-10-31</td>\n",
       "      <td>0.1091</td>\n",
       "      <td>-1.2667e-05</td>\n",
       "      <td>0.1630</td>\n",
       "      <td>0.0963</td>\n",
       "      <td>-0.0695</td>\n",
       "      <td>0.1510</td>\n",
       "    </tr>\n",
       "    <tr>\n",
       "      <th>3</th>\n",
       "      <td>2011-11-30</td>\n",
       "      <td>-0.0041</td>\n",
       "      <td>0.0000e+00</td>\n",
       "      <td>-0.0197</td>\n",
       "      <td>-0.0218</td>\n",
       "      <td>0.0546</td>\n",
       "      <td>-0.0038</td>\n",
       "    </tr>\n",
       "    <tr>\n",
       "      <th>4</th>\n",
       "      <td>2011-12-31</td>\n",
       "      <td>0.0104</td>\n",
       "      <td>8.5000e-06</td>\n",
       "      <td>-0.0426</td>\n",
       "      <td>-0.0217</td>\n",
       "      <td>0.0756</td>\n",
       "      <td>0.0051</td>\n",
       "    </tr>\n",
       "  </tbody>\n",
       "</table>\n",
       "</div>"
      ],
      "text/plain": [
       "  Unnamed: 0  SPY US Equity  USGG3M Index  EEM US Equity  EFA US Equity  \\\n",
       "0 2011-08-31        -0.0550    8.5000e-06        -0.0925        -0.0875   \n",
       "1 2011-09-30        -0.0694    1.6917e-05        -0.1791        -0.1081   \n",
       "2 2011-10-31         0.1091   -1.2667e-05         0.1630         0.0963   \n",
       "3 2011-11-30        -0.0041    0.0000e+00        -0.0197        -0.0218   \n",
       "4 2011-12-31         0.0104    8.5000e-06        -0.0426        -0.0217   \n",
       "\n",
       "   EUO US Equity  IWM US Equity  \n",
       "0        -0.0059        -0.0889  \n",
       "1         0.1422        -0.1115  \n",
       "2        -0.0695         0.1510  \n",
       "3         0.0546        -0.0038  \n",
       "4         0.0756         0.0051  "
      ]
     },
     "execution_count": 3,
     "metadata": {},
     "output_type": "execute_result"
    }
   ],
   "source": [
    "# Some Python Code for importing packages/data\n",
    "import pandas as pd\n",
    "import numpy as np\n",
    "import statsmodels.api as sm\n",
    "import seaborn as sns\n",
    "import warnings\n",
    "warnings.filterwarnings('ignore')\n",
    "pd.set_option(\"display.precision\", 4)\n",
    "\n",
    "\n",
    "# Read excel file, sheet\n",
    "data = pd.read_excel('../data/proshares_analysis_data.xlsx', 'merrill_factors')\n",
    "data.head()\n",
    "# Set the index to Date (rather than default 0 indexing)\n",
    "# data.rename(columns={'Unnamed: 0':'Date'}, inplace=True)\n",
    "# data = data.set_index('Date')"
   ]
  },
  {
   "cell_type": "markdown",
   "metadata": {},
   "source": [
    "#### 3.1 Question\n"
   ]
  },
  {
   "cell_type": "code",
   "execution_count": 4,
   "metadata": {},
   "outputs": [],
   "source": [
    "# Some python code to answer 3.1"
   ]
  },
  {
   "cell_type": "markdown",
   "metadata": {},
   "source": [
    "#### 3.2 Question\n"
   ]
  },
  {
   "cell_type": "code",
   "execution_count": 5,
   "metadata": {},
   "outputs": [],
   "source": [
    "# Some python code to answer 3.2"
   ]
  },
  {
   "cell_type": "markdown",
   "metadata": {},
   "source": [
    "#### 3.3 Question\n"
   ]
  },
  {
   "cell_type": "code",
   "execution_count": null,
   "metadata": {},
   "outputs": [],
   "source": [
    "# Python 3.3"
   ]
  },
  {
   "cell_type": "markdown",
   "metadata": {},
   "source": [
    "### 4 Question 4\n",
    "\n",
    "1. Question\n",
    "2. Question"
   ]
  },
  {
   "cell_type": "code",
   "execution_count": null,
   "metadata": {},
   "outputs": [],
   "source": [
    "# Get the data for question 4\n",
    "\n",
    "# Read excel file, sheet\n",
    "data_q4 = pd.read_excel('../data/proshares_analysis_data.xlsx', 'merrill_factors')\n",
    "data_q4.head()\n",
    "# Set the index to Date (rather than default 0 indexing)\n",
    "# data.rename(columns={'Unnamed: 0':'Date'}, inplace=True)\n",
    "# data = data.set_index('Date')"
   ]
  },
  {
   "cell_type": "markdown",
   "metadata": {},
   "source": [
    "#### 4.1 Question\n"
   ]
  },
  {
   "cell_type": "code",
   "execution_count": null,
   "metadata": {},
   "outputs": [],
   "source": [
    "# Python for question 4.1"
   ]
  }
 ],
 "metadata": {
  "kernelspec": {
   "display_name": "Python 3.10.7 64-bit (microsoft store)",
   "language": "python",
   "name": "python3"
  },
  "language_info": {
   "codemirror_mode": {
    "name": "ipython",
    "version": 3
   },
   "file_extension": ".py",
   "mimetype": "text/x-python",
   "name": "python",
   "nbconvert_exporter": "python",
   "pygments_lexer": "ipython3",
   "version": "3.10.8"
  },
  "orig_nbformat": 4,
  "vscode": {
   "interpreter": {
    "hash": "28c29896733cd258a7e144e5cfe10ab10fb1ed1767adc491e37af3f909fe0b53"
   }
  }
 },
 "nbformat": 4,
 "nbformat_minor": 2
}
