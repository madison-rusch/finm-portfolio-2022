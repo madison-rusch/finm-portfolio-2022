{
 "cells": [
  {
   "cell_type": "markdown",
   "metadata": {},
   "source": [
    "### 1 Short Answer\n",
    "#### 1. Suppose the Fama-French 3-factor model works perfectly for pricing. Then the three Fama-French factors have the three highest Sharpe ratios of all assets.\n",
    "\n",
    "False. If the Fama-French model works perfectly, all that means is that it spans the tangency. Spanning the tangency means that the portfolio has the highest Sharpe, but it says nothing about the individual factors.\n",
    "\n",
    "#### 2. The Fama-French 5-Factor model indicates that, all else equal, a stock with higher investment beta has higher expected returns.\n",
    "\n",
    "False. The Fama-French Investment factor finds that companies with a high re-investment should actually be shorted in the investment factor to boost mean returns. \n",
    "\n",
    "#### 3. Suppose you show DFA that Size and Value have had Sharpe Ratios near 0 since the end of the case. Do you think they would give up on Size and Value factor strategies? Why?\n",
    "\n",
    "No. Size and Value factors may be useful still in their low correlations to the market, even if their mean returns are low, they could act as a hedge in the portfolio. So DFA should not give up on these strategies.\n",
    "\n",
    "#### 4. Suppose a stock is uncorrelated to each asset and to each Fama-French factor. Suppose this stock has a relatively high book-to-market ratio. What would the Fama-French 3-factor model predict about the mean return of this stock?\n",
    "\n",
    "Nothing. Fama-French is not used as a predictive tool for mean returns. Rather, it only predicts how the asset's beta impacts returns. And zero correlation to the other factors means beta = 0, and so its expected return in the model equals zero.\n",
    "\n",
    "#### 5. In constructing the momentum factor, how do we ensure that the factor does not take too much idiosyncratic risk? How do we ensure it does not have too much turnover?\n",
    "\n",
    "We use only the very extremes of the universe of assets- the biggest winners and losers. We long the winners and short the losers. We can then reduce turnover by using rolling 12 month momentum, and trade a small slice of the assets in our portfolio on a monthly basis. \n",
    "\n",
    "#### 6. Is a long-only momentum fund an attractive investment strategy? Be specific.\n",
    "\n",
    "No. When investigating a long only momentum fund, we found that the portfolio was highly correlated to the market and was essentially losing all the benefits of a Fama-French style momentum factor. Using a long-short construction was much more effective (even if it requires more trading). \n",
    "\n",
    "#### 7. Suppose the CAPM is true, and we test n assets. For these n assets, what do we know about their:\n",
    "#####       - time-series r-squared metrics?\n",
    "We know nothing about their time-series r-squared metrics, other than that they are likely to be low. CAPM is not designed to replicate a portfolio, it is used for pricing, so it does not tend to have high r-squared values.\n",
    "\n",
    "#####       - Treynor Ratios?\n",
    "If CAPM is true, we should have Treynor Ratios equal to the market return, for all assets\n",
    "\n",
    "#####       - Information Ratios?\n",
    "If CAPM is true, all the information ratios should be 0\n",
    "\n",
    "#### 8. Which of the following do you think Barnstable should be confident about, and which do you think they should reconsider. . .\n",
    "Over 100 years,<br/>\n",
    "• The average Market return will outperform the average risk-free rate.<br/>\n",
    "• The 100-year Market Sharpe Ratio will outperform the 1-year Market Sharpe Ratio.<br/>\n",
    "• The volatility of the 100-year cumulative Market return is smaller than volatility of the\n",
    "1-year cumulative Market return.\n",
    "\n",
    "Barnstable can be confident about the fact that in the long run, the market return will outperform the risk-free rate. The data supported this. \n",
    "\n",
    "They can also be confident about the 100 year Sharpe Ratio outperforming the 1 year Sharpe Ratio. We found that Sharpe Ratios grow at roughly the square root of the time horizon, making the 100 year Sharpe ten times that of the 1 year Sharpe.\n",
    "\n",
    "This statement is false. The volatility grows with cumulative returns (shrinks with average). "
   ]
  },
  {
   "cell_type": "markdown",
   "metadata": {},
   "source": [
    "### 2 Pricing Model: Time-Series Test"
   ]
  },
  {
   "cell_type": "code",
   "execution_count": 2,
   "metadata": {},
   "outputs": [
    {
     "data": {
      "text/html": [
       "<div>\n",
       "<style scoped>\n",
       "    .dataframe tbody tr th:only-of-type {\n",
       "        vertical-align: middle;\n",
       "    }\n",
       "\n",
       "    .dataframe tbody tr th {\n",
       "        vertical-align: top;\n",
       "    }\n",
       "\n",
       "    .dataframe thead th {\n",
       "        text-align: right;\n",
       "    }\n",
       "</style>\n",
       "<table border=\"1\" class=\"dataframe\">\n",
       "  <thead>\n",
       "    <tr style=\"text-align: right;\">\n",
       "      <th></th>\n",
       "      <th>alpha</th>\n",
       "      <th>MKT Beta</th>\n",
       "      <th>CL1 Beta</th>\n",
       "    </tr>\n",
       "  </thead>\n",
       "  <tbody>\n",
       "    <tr>\n",
       "      <th>NG1</th>\n",
       "      <td>0.119455</td>\n",
       "      <td>-0.037687</td>\n",
       "      <td>0.250161</td>\n",
       "    </tr>\n",
       "    <tr>\n",
       "      <th>KC1</th>\n",
       "      <td>0.020321</td>\n",
       "      <td>0.299161</td>\n",
       "      <td>0.03211</td>\n",
       "    </tr>\n",
       "    <tr>\n",
       "      <th>CC1</th>\n",
       "      <td>0.063213</td>\n",
       "      <td>0.113898</td>\n",
       "      <td>0.124338</td>\n",
       "    </tr>\n",
       "    <tr>\n",
       "      <th>LB1</th>\n",
       "      <td>0.055498</td>\n",
       "      <td>0.779146</td>\n",
       "      <td>0.1874</td>\n",
       "    </tr>\n",
       "    <tr>\n",
       "      <th>CT1</th>\n",
       "      <td>0.013018</td>\n",
       "      <td>0.529072</td>\n",
       "      <td>0.06292</td>\n",
       "    </tr>\n",
       "    <tr>\n",
       "      <th>SB1</th>\n",
       "      <td>0.069568</td>\n",
       "      <td>0.057906</td>\n",
       "      <td>0.162752</td>\n",
       "    </tr>\n",
       "    <tr>\n",
       "      <th>LC1</th>\n",
       "      <td>0.016274</td>\n",
       "      <td>0.106781</td>\n",
       "      <td>0.052885</td>\n",
       "    </tr>\n",
       "    <tr>\n",
       "      <th>W1</th>\n",
       "      <td>0.055759</td>\n",
       "      <td>0.291154</td>\n",
       "      <td>-0.002553</td>\n",
       "    </tr>\n",
       "    <tr>\n",
       "      <th>S1</th>\n",
       "      <td>0.042099</td>\n",
       "      <td>0.353274</td>\n",
       "      <td>0.038602</td>\n",
       "    </tr>\n",
       "    <tr>\n",
       "      <th>C1</th>\n",
       "      <td>0.060939</td>\n",
       "      <td>0.255092</td>\n",
       "      <td>0.065222</td>\n",
       "    </tr>\n",
       "    <tr>\n",
       "      <th>GC1</th>\n",
       "      <td>0.075002</td>\n",
       "      <td>0.008942</td>\n",
       "      <td>0.063394</td>\n",
       "    </tr>\n",
       "    <tr>\n",
       "      <th>SI1</th>\n",
       "      <td>0.062936</td>\n",
       "      <td>0.260368</td>\n",
       "      <td>0.211792</td>\n",
       "    </tr>\n",
       "    <tr>\n",
       "      <th>HG1</th>\n",
       "      <td>0.033273</td>\n",
       "      <td>0.609937</td>\n",
       "      <td>0.162388</td>\n",
       "    </tr>\n",
       "    <tr>\n",
       "      <th>PA1</th>\n",
       "      <td>0.081764</td>\n",
       "      <td>0.471045</td>\n",
       "      <td>0.131221</td>\n",
       "    </tr>\n",
       "  </tbody>\n",
       "</table>\n",
       "</div>"
      ],
      "text/plain": [
       "        alpha  MKT Beta  CL1 Beta\n",
       "NG1  0.119455 -0.037687  0.250161\n",
       "KC1  0.020321  0.299161   0.03211\n",
       "CC1  0.063213  0.113898  0.124338\n",
       "LB1  0.055498  0.779146    0.1874\n",
       "CT1  0.013018  0.529072   0.06292\n",
       "SB1  0.069568  0.057906  0.162752\n",
       "LC1  0.016274  0.106781  0.052885\n",
       "W1   0.055759  0.291154 -0.002553\n",
       "S1   0.042099  0.353274  0.038602\n",
       "C1   0.060939  0.255092  0.065222\n",
       "GC1  0.075002  0.008942  0.063394\n",
       "SI1  0.062936  0.260368  0.211792\n",
       "HG1  0.033273  0.609937  0.162388\n",
       "PA1  0.081764  0.471045  0.131221"
      ]
     },
     "metadata": {},
     "output_type": "display_data"
    }
   ],
   "source": [
    "# Import data\n",
    "import pandas as pd\n",
    "import numpy as np\n",
    "import scipy.stats as stats\n",
    "import matplotlib.pyplot as plt\n",
    "import seaborn as sns\n",
    "import statsmodels.api as sm\n",
    "commodities_df = pd.read_excel('../data/midterm_2_data_pricing.xlsx', sheet_name='assets (excess returns)')\n",
    "commodities_df = commodities_df.set_index('Date')\n",
    "factor_data = pd.read_excel('../data/midterm_2_data_pricing.xlsx', sheet_name='factors (excess returns)')\n",
    "factor_data = factor_data.set_index('Date')\n",
    "factor_data.tail()\n",
    "\n",
    "def time_series_test_2(df, factor_df, factors, annualization=12):\n",
    "    columns = ['alpha']\n",
    "    for factor in factors:\n",
    "        columns.append(f'{factor} Beta')\n",
    "        \n",
    "    ts_test = pd.DataFrame(data = None, index = df.columns, columns = columns)\n",
    "\n",
    "        \n",
    "    for asset in ts_test.index:\n",
    "        y = df[asset]\n",
    "        X = sm.add_constant(factor_df[factors])\n",
    "\n",
    "        reg = sm.OLS(y, X).fit().params\n",
    "        ts_test.loc[asset] = [reg[0] * 12, reg[1], reg[2]]\n",
    "    \n",
    "    return ts_test\n",
    "ts_test = time_series_test_2(commodities_df, factor_data, ['MKT', 'CL1'])\n",
    "display(ts_test)\n"
   ]
  },
  {
   "cell_type": "markdown",
   "metadata": {},
   "source": [
    "#### 2.1 For the asset NG1, report the alpha and betas of the regression."
   ]
  },
  {
   "cell_type": "code",
   "execution_count": 3,
   "metadata": {},
   "outputs": [
    {
     "data": {
      "text/plain": [
       "alpha       0.119455\n",
       "MKT Beta   -0.037687\n",
       "CL1 Beta    0.250161\n",
       "Name: NG1, dtype: object"
      ]
     },
     "execution_count": 3,
     "metadata": {},
     "output_type": "execute_result"
    }
   ],
   "source": [
    "ts_test.loc['NG1']"
   ]
  },
  {
   "cell_type": "markdown",
   "metadata": {},
   "source": [
    "#### 2.2 Report the two factor premia implied by the time-series test. Annualize them."
   ]
  },
  {
   "cell_type": "code",
   "execution_count": 4,
   "metadata": {},
   "outputs": [
    {
     "data": {
      "text/html": [
       "<div>\n",
       "<style scoped>\n",
       "    .dataframe tbody tr th:only-of-type {\n",
       "        vertical-align: middle;\n",
       "    }\n",
       "\n",
       "    .dataframe tbody tr th {\n",
       "        vertical-align: top;\n",
       "    }\n",
       "\n",
       "    .dataframe thead th {\n",
       "        text-align: right;\n",
       "    }\n",
       "</style>\n",
       "<table border=\"1\" class=\"dataframe\">\n",
       "  <thead>\n",
       "    <tr style=\"text-align: right;\">\n",
       "      <th></th>\n",
       "      <th>Factor Premia</th>\n",
       "    </tr>\n",
       "  </thead>\n",
       "  <tbody>\n",
       "    <tr>\n",
       "      <th>MKT</th>\n",
       "      <td>0.070670</td>\n",
       "    </tr>\n",
       "    <tr>\n",
       "      <th>CL1</th>\n",
       "      <td>0.108693</td>\n",
       "    </tr>\n",
       "  </tbody>\n",
       "</table>\n",
       "</div>"
      ],
      "text/plain": [
       "     Factor Premia\n",
       "MKT       0.070670\n",
       "CL1       0.108693"
      ]
     },
     "execution_count": 4,
     "metadata": {},
     "output_type": "execute_result"
    }
   ],
   "source": [
    "(factor_data.mean() * 12).to_frame('Factor Premia')"
   ]
  },
  {
   "cell_type": "markdown",
   "metadata": {},
   "source": [
    "#### 2.3 Report the Mean Absolute Pricing Error (MAE) of the model. Annualize it."
   ]
  },
  {
   "cell_type": "code",
   "execution_count": 5,
   "metadata": {},
   "outputs": [
    {
     "name": "stdout",
     "output_type": "stream",
     "text": [
      "MAE: 0.0549\n"
     ]
    }
   ],
   "source": [
    "print('MAE: ' + str(round(ts_test['alpha'].abs().mean(), 4)))"
   ]
  },
  {
   "cell_type": "markdown",
   "metadata": {},
   "source": [
    "#### 2.4 Report the the largest predicted premium from the model, and note which asset it is."
   ]
  },
  {
   "cell_type": "code",
   "execution_count": 6,
   "metadata": {},
   "outputs": [
    {
     "data": {
      "text/html": [
       "<div>\n",
       "<style scoped>\n",
       "    .dataframe tbody tr th:only-of-type {\n",
       "        vertical-align: middle;\n",
       "    }\n",
       "\n",
       "    .dataframe tbody tr th {\n",
       "        vertical-align: top;\n",
       "    }\n",
       "\n",
       "    .dataframe thead th {\n",
       "        text-align: right;\n",
       "    }\n",
       "</style>\n",
       "<table border=\"1\" class=\"dataframe\">\n",
       "  <thead>\n",
       "    <tr style=\"text-align: right;\">\n",
       "      <th></th>\n",
       "      <th>Predicted Premium</th>\n",
       "    </tr>\n",
       "  </thead>\n",
       "  <tbody>\n",
       "    <tr>\n",
       "      <th>LB1</th>\n",
       "      <td>0.075431</td>\n",
       "    </tr>\n",
       "  </tbody>\n",
       "</table>\n",
       "</div>"
      ],
      "text/plain": [
       "     Predicted Premium\n",
       "LB1           0.075431"
      ]
     },
     "execution_count": 6,
     "metadata": {},
     "output_type": "execute_result"
    }
   ],
   "source": [
    "ts_test = ts_test.rename(columns={'MKT Beta': 'MKT', 'CL1 Beta': 'CL1'})\n",
    "# NOTE: for the following code to to work, the column names have to align!!!!\n",
    "(factor_data.mean() * 12 * ts_test[['MKT','CL1']]).sum(axis = 1).to_frame('Predicted Premium').nlargest(1, 'Predicted Premium')"
   ]
  },
  {
   "cell_type": "markdown",
   "metadata": {},
   "source": [
    "### 3 Pricing Model: Cross-Sectional Test\n",
    "\n",
    "#### 3.1 For the cross-sectional regression, report the R-squared and Intercept. Annualize this number."
   ]
  },
  {
   "cell_type": "code",
   "execution_count": 7,
   "metadata": {},
   "outputs": [
    {
     "name": "stderr",
     "output_type": "stream",
     "text": [
      "C:\\Users\\madrs\\AppData\\Local\\Packages\\PythonSoftwareFoundation.Python.3.10_qbz5n2kfra8p0\\LocalCache\\local-packages\\Python310\\site-packages\\scipy\\stats\\_stats_py.py:1769: UserWarning: kurtosistest only valid for n>=20 ... continuing anyway, n=14\n",
      "  warnings.warn(\"kurtosistest only valid for n>=20 ... continuing \"\n"
     ]
    },
    {
     "data": {
      "text/html": [
       "<table class=\"simpletable\">\n",
       "<caption>OLS Regression Results</caption>\n",
       "<tr>\n",
       "  <th>Dep. Variable:</th>            <td>y</td>        <th>  R-squared:         </th> <td>   0.631</td>\n",
       "</tr>\n",
       "<tr>\n",
       "  <th>Model:</th>                   <td>OLS</td>       <th>  Adj. R-squared:    </th> <td>   0.564</td>\n",
       "</tr>\n",
       "<tr>\n",
       "  <th>Method:</th>             <td>Least Squares</td>  <th>  F-statistic:       </th> <td>   9.417</td>\n",
       "</tr>\n",
       "<tr>\n",
       "  <th>Date:</th>             <td>Mon, 07 Nov 2022</td> <th>  Prob (F-statistic):</th>  <td>0.00414</td>\n",
       "</tr>\n",
       "<tr>\n",
       "  <th>Time:</th>                 <td>12:55:24</td>     <th>  Log-Likelihood:    </th> <td>  70.426</td>\n",
       "</tr>\n",
       "<tr>\n",
       "  <th>No. Observations:</th>      <td>    14</td>      <th>  AIC:               </th> <td>  -134.9</td>\n",
       "</tr>\n",
       "<tr>\n",
       "  <th>Df Residuals:</th>          <td>    11</td>      <th>  BIC:               </th> <td>  -132.9</td>\n",
       "</tr>\n",
       "<tr>\n",
       "  <th>Df Model:</th>              <td>     2</td>      <th>                     </th>     <td> </td>   \n",
       "</tr>\n",
       "<tr>\n",
       "  <th>Covariance Type:</th>      <td>nonrobust</td>    <th>                     </th>     <td> </td>   \n",
       "</tr>\n",
       "</table>\n",
       "<table class=\"simpletable\">\n",
       "<tr>\n",
       "    <td></td>       <th>coef</th>     <th>std err</th>      <th>t</th>      <th>P>|t|</th>  <th>[0.025</th>    <th>0.975]</th>  \n",
       "</tr>\n",
       "<tr>\n",
       "  <th>const</th> <td>    0.0038</td> <td>    0.001</td> <td>    3.632</td> <td> 0.004</td> <td>    0.001</td> <td>    0.006</td>\n",
       "</tr>\n",
       "<tr>\n",
       "  <th>MKT</th>   <td>    0.0015</td> <td>    0.002</td> <td>    0.748</td> <td> 0.470</td> <td>   -0.003</td> <td>    0.006</td>\n",
       "</tr>\n",
       "<tr>\n",
       "  <th>CL1</th>   <td>    0.0277</td> <td>    0.006</td> <td>    4.264</td> <td> 0.001</td> <td>    0.013</td> <td>    0.042</td>\n",
       "</tr>\n",
       "</table>\n",
       "<table class=\"simpletable\">\n",
       "<tr>\n",
       "  <th>Omnibus:</th>       <td> 0.783</td> <th>  Durbin-Watson:     </th> <td>   2.090</td>\n",
       "</tr>\n",
       "<tr>\n",
       "  <th>Prob(Omnibus):</th> <td> 0.676</td> <th>  Jarque-Bera (JB):  </th> <td>   0.636</td>\n",
       "</tr>\n",
       "<tr>\n",
       "  <th>Skew:</th>          <td>-0.068</td> <th>  Prob(JB):          </th> <td>   0.728</td>\n",
       "</tr>\n",
       "<tr>\n",
       "  <th>Kurtosis:</th>      <td> 1.965</td> <th>  Cond. No.          </th> <td>    14.4</td>\n",
       "</tr>\n",
       "</table><br/><br/>Notes:<br/>[1] Standard Errors assume that the covariance matrix of the errors is correctly specified."
      ],
      "text/plain": [
       "<class 'statsmodels.iolib.summary.Summary'>\n",
       "\"\"\"\n",
       "                            OLS Regression Results                            \n",
       "==============================================================================\n",
       "Dep. Variable:                      y   R-squared:                       0.631\n",
       "Model:                            OLS   Adj. R-squared:                  0.564\n",
       "Method:                 Least Squares   F-statistic:                     9.417\n",
       "Date:                Mon, 07 Nov 2022   Prob (F-statistic):            0.00414\n",
       "Time:                        12:55:24   Log-Likelihood:                 70.426\n",
       "No. Observations:                  14   AIC:                            -134.9\n",
       "Df Residuals:                      11   BIC:                            -132.9\n",
       "Df Model:                           2                                         \n",
       "Covariance Type:            nonrobust                                         \n",
       "==============================================================================\n",
       "                 coef    std err          t      P>|t|      [0.025      0.975]\n",
       "------------------------------------------------------------------------------\n",
       "const          0.0038      0.001      3.632      0.004       0.001       0.006\n",
       "MKT            0.0015      0.002      0.748      0.470      -0.003       0.006\n",
       "CL1            0.0277      0.006      4.264      0.001       0.013       0.042\n",
       "==============================================================================\n",
       "Omnibus:                        0.783   Durbin-Watson:                   2.090\n",
       "Prob(Omnibus):                  0.676   Jarque-Bera (JB):                0.636\n",
       "Skew:                          -0.068   Prob(JB):                        0.728\n",
       "Kurtosis:                       1.965   Cond. No.                         14.4\n",
       "==============================================================================\n",
       "\n",
       "Notes:\n",
       "[1] Standard Errors assume that the covariance matrix of the errors is correctly specified.\n",
       "\"\"\""
      ]
     },
     "metadata": {},
     "output_type": "display_data"
    },
    {
     "name": "stdout",
     "output_type": "stream",
     "text": [
      "R-squared: 0.6313\n",
      "Alpha: 0.0456\n"
     ]
    }
   ],
   "source": [
    "y = commodities_df.mean()\n",
    "X = sm.add_constant(ts_test[['MKT','CL1']].astype(float))\n",
    "\n",
    "cross_sect = sm.OLS(y, X).fit()\n",
    "display(cross_sect.summary())\n",
    "\n",
    "print('R-squared: ' + str(round(cross_sect.rsquared, 4)))\n",
    "print('Alpha: ' + str(round(cross_sect.params[0] * 12, 4)))"
   ]
  },
  {
   "cell_type": "markdown",
   "metadata": {},
   "source": [
    "#### 3.2 Are either, neither, or both of these estimated metrics evidence against the model?\n",
    "\n",
    "Both are evidence against the model. For the Cross-Sectional Estimate, we would expect the R-squared to be 1 and the alpha to be 0\n",
    "\n",
    "#### 3.3 Report the estimated factor premia. (i.e. the two cross-sectional regression slopes). Annualize this number."
   ]
  },
  {
   "cell_type": "code",
   "execution_count": 8,
   "metadata": {},
   "outputs": [
    {
     "data": {
      "text/html": [
       "<div>\n",
       "<style scoped>\n",
       "    .dataframe tbody tr th:only-of-type {\n",
       "        vertical-align: middle;\n",
       "    }\n",
       "\n",
       "    .dataframe tbody tr th {\n",
       "        vertical-align: top;\n",
       "    }\n",
       "\n",
       "    .dataframe thead th {\n",
       "        text-align: right;\n",
       "    }\n",
       "</style>\n",
       "<table border=\"1\" class=\"dataframe\">\n",
       "  <thead>\n",
       "    <tr style=\"text-align: right;\">\n",
       "      <th></th>\n",
       "      <th>Estimated Factor Premia</th>\n",
       "    </tr>\n",
       "  </thead>\n",
       "  <tbody>\n",
       "    <tr>\n",
       "      <th>MKT</th>\n",
       "      <td>0.018582</td>\n",
       "    </tr>\n",
       "    <tr>\n",
       "      <th>CL1</th>\n",
       "      <td>0.331945</td>\n",
       "    </tr>\n",
       "  </tbody>\n",
       "</table>\n",
       "</div>"
      ],
      "text/plain": [
       "     Estimated Factor Premia\n",
       "MKT                 0.018582\n",
       "CL1                 0.331945"
      ]
     },
     "metadata": {},
     "output_type": "display_data"
    }
   ],
   "source": [
    "display((cross_sect.params[1:] * 12).to_frame('Estimated Factor Premia'))\n"
   ]
  },
  {
   "cell_type": "markdown",
   "metadata": {},
   "source": [
    "#### 3.4 Report the Mean Absolute Pricing Error (MAE) of the model. Annualize it."
   ]
  },
  {
   "cell_type": "code",
   "execution_count": 9,
   "metadata": {},
   "outputs": [
    {
     "name": "stdout",
     "output_type": "stream",
     "text": [
      "MAE: 0.0169\n"
     ]
    }
   ],
   "source": [
    "MAE_cs = cross_sect.resid.abs().mean() * 12\n",
    "\n",
    "print('MAE: ' + str(round(MAE_cs, 4)))"
   ]
  },
  {
   "cell_type": "markdown",
   "metadata": {},
   "source": [
    "#### 3.5 Report the the largest predicted premium from the model, and note which asset it is."
   ]
  },
  {
   "cell_type": "code",
   "execution_count": 10,
   "metadata": {},
   "outputs": [
    {
     "name": "stdout",
     "output_type": "stream",
     "text": [
      "const    0.003799\n",
      "MKT      0.001549\n",
      "CL1      0.027662\n",
      "dtype: float64\n"
     ]
    },
    {
     "data": {
      "text/html": [
       "<div>\n",
       "<style scoped>\n",
       "    .dataframe tbody tr th:only-of-type {\n",
       "        vertical-align: middle;\n",
       "    }\n",
       "\n",
       "    .dataframe tbody tr th {\n",
       "        vertical-align: top;\n",
       "    }\n",
       "\n",
       "    .dataframe thead th {\n",
       "        text-align: right;\n",
       "    }\n",
       "</style>\n",
       "<table border=\"1\" class=\"dataframe\">\n",
       "  <thead>\n",
       "    <tr style=\"text-align: right;\">\n",
       "      <th></th>\n",
       "      <th>Predicted Premium</th>\n",
       "    </tr>\n",
       "  </thead>\n",
       "  <tbody>\n",
       "    <tr>\n",
       "      <th>NG1</th>\n",
       "      <td>0.127924</td>\n",
       "    </tr>\n",
       "  </tbody>\n",
       "</table>\n",
       "</div>"
      ],
      "text/plain": [
       "     Predicted Premium\n",
       "NG1           0.127924"
      ]
     },
     "execution_count": 10,
     "metadata": {},
     "output_type": "execute_result"
    }
   ],
   "source": [
    "# To calculate cross-sectional predicted premia\n",
    "print(cross_sect.params)\n",
    "predicted = cross_sect.params[0] + (ts_test[['MKT','CL1']] * cross_sect.params[1:]).sum(axis=1)\n",
    "(predicted * 12).nlargest(1).to_frame('Predicted Premium')"
   ]
  },
  {
   "cell_type": "markdown",
   "metadata": {},
   "source": [
    "### 4 Pricing Model: Conceptual Questions\n",
    "\n",
    "#### 1. Which is more useful in assessing the model’s fit for pricing: the r-squared of the time-series regressions, the r-squared of the cross-sectional regression, or neither?\n",
    "The r-squared of the cross-sectional regression. We generally expect a poor r-squared for the time-series regression, and care only about the alphas. However, we expect an r-squared value of one in the cross-sectional regression, otherwise the pricing model is not completely explaining all the premia.\n",
    "\n",
    "#### 2. We calculated the MAE from the time-series estimation and from the cross-sectional (with intercept) estimation. Is one always bigger than the other? Why or why not?\n",
    "We would expect the MAE from the time-series estimation to be higher than that of the cross-sectional. The cross-sectional is given an additional degree of freedom and allowed to pick it's intercept. This leads to a lower mean absolute error.\n",
    "\n",
    "#### 3. If we add another factor, will the time-series MAE decrease? And how about the cross-sectional MAE? Explain.\n",
    "It is unclear if the MAE of the time-series would increase or decrease. In the cross-sectional, the fit must improve, so we would expect the MAE to decrease.\n",
    "\n",
    "#### 4. Suppose we built a tangency portfolio using only the factors."
   ]
  },
  {
   "cell_type": "code",
   "execution_count": 11,
   "metadata": {},
   "outputs": [
    {
     "data": {
      "text/html": [
       "<div>\n",
       "<style scoped>\n",
       "    .dataframe tbody tr th:only-of-type {\n",
       "        vertical-align: middle;\n",
       "    }\n",
       "\n",
       "    .dataframe tbody tr th {\n",
       "        vertical-align: top;\n",
       "    }\n",
       "\n",
       "    .dataframe thead th {\n",
       "        text-align: right;\n",
       "    }\n",
       "</style>\n",
       "<table border=\"1\" class=\"dataframe\">\n",
       "  <thead>\n",
       "    <tr style=\"text-align: right;\">\n",
       "      <th></th>\n",
       "      <th>tangency weights</th>\n",
       "    </tr>\n",
       "  </thead>\n",
       "  <tbody>\n",
       "    <tr>\n",
       "      <th>MKT</th>\n",
       "      <td>0.881089</td>\n",
       "    </tr>\n",
       "    <tr>\n",
       "      <th>CL1</th>\n",
       "      <td>0.118911</td>\n",
       "    </tr>\n",
       "  </tbody>\n",
       "</table>\n",
       "</div>"
      ],
      "text/plain": [
       "     tangency weights\n",
       "MKT          0.881089\n",
       "CL1          0.118911"
      ]
     },
     "metadata": {},
     "output_type": "display_data"
    }
   ],
   "source": [
    "def tangency_weights(returns,dropna=True,scale_cov=1):\n",
    "    if dropna:\n",
    "        returns = returns.dropna()\n",
    "\n",
    "    covmat_full = returns.cov()\n",
    "    covmat_diag = np.diag(np.diag(covmat_full))\n",
    "    covmat = scale_cov * covmat_full + (1-scale_cov) * covmat_diag\n",
    "\n",
    "    weights = np.linalg.solve(covmat,returns.mean())\n",
    "    weights = weights / weights.sum()\n",
    "\n",
    "    return pd.DataFrame(weights, index=returns.columns,columns=['tangency weights'])\n",
    "\n",
    "display(tangency_weights(factor_data))"
   ]
  },
  {
   "cell_type": "markdown",
   "metadata": {},
   "source": [
    "#### 4.a Does CL1 have much weight in this factor-tangency portfolio?\n",
    "It isn't huge, but it does have a decent weight at ~12%\n",
    "\n",
    "#### 4.b Conceptually, does this seem like evidence that CL1 is a useful pricing factor? Why?\n",
    "While it is not nearly as important as the MKT factor, it does seem like CL1 is mildly useful (at least in this model). It would be more useful if its tangency weight was higher"
   ]
  }
 ],
 "metadata": {
  "kernelspec": {
   "display_name": "Python 3.10.8 64-bit (microsoft store)",
   "language": "python",
   "name": "python3"
  },
  "language_info": {
   "codemirror_mode": {
    "name": "ipython",
    "version": 3
   },
   "file_extension": ".py",
   "mimetype": "text/x-python",
   "name": "python",
   "nbconvert_exporter": "python",
   "pygments_lexer": "ipython3",
   "version": "3.10.8"
  },
  "orig_nbformat": 4,
  "vscode": {
   "interpreter": {
    "hash": "28c29896733cd258a7e144e5cfe10ab10fb1ed1767adc491e37af3f909fe0b53"
   }
  }
 },
 "nbformat": 4,
 "nbformat_minor": 2
}
