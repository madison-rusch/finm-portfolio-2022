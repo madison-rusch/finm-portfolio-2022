{
 "cells": [
  {
   "cell_type": "markdown",
   "id": "c7a37ba9",
   "metadata": {},
   "source": [
    "<div style=\"text-align: right\"> Mark Hendricks </div>\n",
    "\n",
    "<left>FINM 36700 - Portfolio Theory and Risk Management</left> \n",
    "<br>\n",
    "<left>Fall 2022</left>\n",
    "\n",
    "<h2><center> Midterm #1 </center></h2>\n",
    "\n",
    "<center>Monday, Oct 17</center>\n",
    "\n",
    "<h3><span style=\"color:#00008B\">TA Solution</span></h3>\n"
   ]
  },
  {
   "cell_type": "markdown",
   "id": "4719433b",
   "metadata": {},
   "source": [
    "### Please note the following:\n",
    "- #### The exam is 100 points.\n",
    "- #### You have 120 minutes to complete the exam.\n",
    "- #### For every minute late you submit the exam, you will lose one point.\n",
    "- #### You will upload your solution to the Midterm #1 assignment on Canvas, where you downloaded this.\n",
    "- #### Your submission should be readable, (the graders can understand your answers,) and it should include all code used in your analysis.\n",
    "- #### The exam is open-material, closed-communication.\n",
    "- #### If you find any question to be unclear, state your interpretation and proceed. We will only answer questions of interpretation if there is a typo, error, etc.\n",
    "- #### The exam will be graded for partial credit.\n",
    "\n",
    "#### Sections 2-4 of the exam rely on the data midterm 1.xlsx, which gives total returns for 5 futures. You do not need to know anything about futures per se–just consider these to be valid return series on 5 assets.\n",
    "#### This data file may be found in the class github repo, in the data folder. For your convenience, it is also posted on Canvas, in the Midterm exam."
   ]
  },
  {
   "cell_type": "markdown",
   "id": "e495fb58",
   "metadata": {},
   "source": [
    "# 1. Short Answer (30 pts)\n",
    "\n",
    "#### No calculations or data analysis in this section; conceptual answers will suffice.\n",
    "\n",
    "1. <b>(5 pts) Suppose an endowment is optimizing across multiple asset classes: equities, bonds, commodities, and currencies. They are considering whether to add cryptocurrencies as a new asset class for their mean-variance optimization. Do you think it is reasonable to make this decision based on whether the Sharpe ratio of crypto is higher than the Sharpe ratios of their current asset classes? Explain.</b><br><br>\n",
    "\n",
    "<span style=\"color:#00008B\"> **Solution:** While a higher sharpe ratio should definitely be a consideration for adding crypto to the endowment portfolio, a higher priority should be to make this decision based on the correlation of crypto with other asset classes. If crypto has lower correlations with other asset classes, even with lower sharpe ratio crypto could boost the overall sharpe ratio of the endowment.<br><br> The question might be interpreted as, conditional on adding crypto, should it be added as a new asset class or as part of the traditional currencies portfolio. This is a reasonable interpretation of the question, and the answer would be the same as the answer listed above for the more obvious interpretation. (Namely, the Sharpe ratio would be a poor guide to whether it should be included in currencies or put in a new asset class. Rather, the covariance matrix of cryptocurrencies to the other asset classes is much more relevant.)</span>\n",
    "    \n",
    "2. <b>(5 pts) True or False. (And explain your reason.)<br><br>\n",
    "    We found that small changes in estimated mean returns have large impacts on the mean-variance frontier. (By “frontier”, we mean the set of achievable means and variances.)</b><br><br>\n",
    "\n",
    "<span style=\"color:#00008B\"> **Solution: <u>False</u>** The changes in estimated mean returns only have large impact <u> only on the weights of the mean-variance optimized portfolio and not on the frontier itself.</u> The MV solution (and not the frontier) is linear combination of the tangency portfolio and a riskless asset (GMV or risk-free rate). The reason for the sensitivity to the means is only partly about the means themselves and the tangency portfolio weights are sensitive to changes in mean return due to the nature of the inverted covariance matrix.</span>\n",
    "    \n",
    "3. <b> (5 pts) One might estimate the Value-at-Risk directly from the historic data, (the empirical cdf,)\n",
    "or from using an approximation based on the normal distribution.<br><br>\n",
    "    Which did we find performed better in actual data? How did we judge which performed better?</b><br><br>\n",
    "\n",
    "<span style=\"color:#00008B\"> **Solution:**  We found that the VaR ( at 5%) calculated using the approximation based on the normal distribution performed much better as it was able to provide the VaR estimate by frequency of days below the VaR value close to 5%. By definition of VaR, the number returns beyond the estimated VaR (5%) should be occuring with a frequency close to 5%. The notebook from Class Session 3 found that for many assets, the empirical CDF estimate of VaR led to a less accurate \"hit ratio\".</span>\n",
    "\n",
    "4. <b> (5 pts) What approach does Harvard take to getting more realistic weights? What is a problem with this approach?</b><br><br>\n",
    "\n",
    "<span style=\"color:#00008B\"> **Solution:** Harvard places bounds on the portfolio allocation rather than implementing whatever numbers come out of the MV optimization problem along with a long only constraint on non-cash assets. The solution is numerical (rather than an explicit formula,) due to the inequality constraints. While the solution is computationally easy, it leads to the need for many boundary parameters, which greatly influence the solution. Thus, the solution may be overparameterized with little guide on how to set the parameters, or the motive to parameterize the problem to achieve a certain solution.</span>\n",
    "\n",
    "5. <b> What aspect of tools such as Ridge regression and LASSO regression are useful in mean-variance optimization? That is, what problem in the classic MV solution are they addressing? </b><br><br>\n",
    "    \n",
    "<span style=\"color:#00008B\"> **Solution:**  <span style=\"color:00008B\">Both these tools limit positions from being too large, without specifying security-specific boundaries, and might prove better for out-of-sample performance by implementing a Bayesian approach to Mean-Variance optimization. Ridge and LASSO address the extereme weights produced by the mean-variance optimization by penalizing the objective function, (equivalently by regularizing the covariance matrix, which improves the stability of its inverse.) </span>\n",
    "\n",
    "6. <b> 5pts) Consider three series: HFRIFWI, MLEIFCTR, and HDG. <br> Explain how they differ. That is, why were we interested in all three with regard to hedge-fund replication? </b><br><br>\n",
    "\n",
    "<span style=\"color:#00008B\"> **Solution:** \n",
    "\n",
    "<span style=\"color:#00008B\"> MLEIFCTR attempts to replicate the HFRIFWI using a set of basic asset benchmarks, similar to what we did with our replicating regressions. HDG tracks a modified version of the ML Factor Model, but as a traded fund rather than a theoretical index. That is, it trades liquid securities suggested by the Factor Model, (slightly modified from MLEIFCTR.) Key to this question is demonstrating an understanding of survey, index, and traded fund.</span>\n",
    "    \n",
    "- <span style=\"color:#00008B\"> **HFRIFWI** - Hedge fund Index Series. Index of surveyed hedge funds (2000 Holdings) designed to track the performance of the hedge market as a whole. Monthly returns based on surveys. <br><br></span>\n",
    "\n",
    "- <span style=\"color:#00008B\"> **MLEIFCTR** - Index Series created by Merrill Lynch, to replicate the performance of HFRI. Its a linear factor decomposition of the HFRI returns into 6 assets. This is not an asset and not an ETF. <br><br></span>\n",
    "\n",
    "- <span style=\"color:#00008B\"> **HDG** - Actual tradaeble asset trying to track the exchange series similar to MLEIFCTR, by actually trading on some liquid assets. HDG do not strictly adhere to the replication and would deviate from positions if they can get additional returns or reduce transaction cost. <br><br> </span>"
   ]
  },
  {
   "cell_type": "markdown",
   "id": "6d20662e",
   "metadata": {},
   "source": [
    "# Imports"
   ]
  },
  {
   "cell_type": "code",
   "execution_count": 1,
   "id": "9d46728f",
   "metadata": {},
   "outputs": [],
   "source": [
    "import pandas as pd\n",
    "import numpy as np\n",
    "from scipy.stats import kurtosis, skew\n",
    "from scipy.stats import norm\n",
    "import seaborn as sns\n",
    "import statsmodels.api as sm\n",
    "from statsmodels.regression.rolling import RollingOLS\n",
    "import warnings\n",
    "warnings.filterwarnings(\"ignore\")\n",
    "\n",
    "%matplotlib inline\n",
    "\n",
    "import matplotlib.pyplot as plt\n",
    "plt.rcParams[\"figure.figsize\"] = (16,6)"
   ]
  },
  {
   "cell_type": "markdown",
   "id": "2dc0277f",
   "metadata": {},
   "source": [
    "# Helper Functions"
   ]
  },
  {
   "cell_type": "code",
   "execution_count": 2,
   "id": "306873fa",
   "metadata": {},
   "outputs": [],
   "source": [
    "def performance_summary(return_data, annualization = 12):\n",
    "    \"\"\" \n",
    "        Returns the Performance Stats for given set of returns\n",
    "        Inputs: \n",
    "            return_data - DataFrame with Date index and Monthly Returns for different assets/strategies.\n",
    "        Output:\n",
    "            summary_stats - DataFrame with annualized mean return, vol, sharpe ratio. Skewness, Excess Kurtosis, Var (0.5) and\n",
    "                            CVaR (0.5) and drawdown based on monthly returns. \n",
    "    \"\"\"\n",
    "    summary_stats = return_data.mean().to_frame('Mean').apply(lambda x: x*annualization)\n",
    "    summary_stats['Volatility'] = return_data.std().apply(lambda x: x*np.sqrt(annualization))\n",
    "    summary_stats['Sharpe Ratio'] = summary_stats['Mean']/summary_stats['Volatility']\n",
    "\n",
    "    summary_stats['Skewness'] = return_data.skew()\n",
    "    summary_stats['Excess Kurtosis'] = return_data.kurtosis()\n",
    "    summary_stats['VaR (0.05)'] = return_data.quantile(.05, axis = 0)\n",
    "    summary_stats['CVaR (0.05)'] = return_data[return_data <= return_data.quantile(.05, axis = 0)].mean()\n",
    "    \n",
    "    wealth_index = 1000*(1+return_data).cumprod()\n",
    "    previous_peaks = wealth_index.cummax()\n",
    "    drawdowns = (wealth_index - previous_peaks)/previous_peaks\n",
    "\n",
    "    summary_stats['Max Drawdown'] = drawdowns.min()\n",
    "    summary_stats['Peak'] = [previous_peaks[col][:drawdowns[col].idxmin()].idxmax() for col in previous_peaks.columns]\n",
    "    summary_stats['Bottom'] = drawdowns.idxmin()\n",
    "    \n",
    "    recovery_date = []\n",
    "    for col in wealth_index.columns:\n",
    "        prev_max = previous_peaks[col][:drawdowns[col].idxmin()].max()\n",
    "        recovery_wealth = pd.DataFrame([wealth_index[col][drawdowns[col].idxmin():]]).T\n",
    "        recovery_date.append(recovery_wealth[recovery_wealth[col] >= prev_max].index.min())\n",
    "    summary_stats['Recovery'] = recovery_date\n",
    "    \n",
    "    return summary_stats"
   ]
  },
  {
   "cell_type": "code",
   "execution_count": 3,
   "id": "cba34e79",
   "metadata": {},
   "outputs": [],
   "source": [
    "def mvo_performance_stats(asset_returns,cov_matrix,port_weights, port_type,period):\n",
    "    \"\"\" \n",
    "        Returns the Annualized Performance Stats for given asset returns, portfolio weights and covariance matrix\n",
    "        Inputs: \n",
    "            asset_return - Excess return over the risk free rate for each asset (n x 1) Vector\n",
    "            cov_matrix = nxn covariance matrix for the assets\n",
    "            port_weights = weights of the assets in the portfolio (1 x n) Vector\n",
    "            port_type = Type of Portfolio | Eg - Tangency or Mean-Variance Portfolio\n",
    "            period = Monthly frequency\n",
    "    \"\"\"\n",
    "    \n",
    "    ret = np.dot(port_weights,asset_returns)\n",
    "    vol = np.sqrt(port_weights @ cov_matrix @ port_weights.T)*np.sqrt(period)\n",
    "    sharpe = ret/vol\n",
    "\n",
    "    stats = pd.DataFrame([[ret,vol,sharpe]],columns= [\"Annualized Return\",\"Annualized Volatility\",\"Annualized Sharpe Ratio\"], index = [port_type])\n",
    "    return stats"
   ]
  },
  {
   "cell_type": "code",
   "execution_count": 4,
   "id": "1ae52168",
   "metadata": {},
   "outputs": [],
   "source": [
    "def tangency_portfolio_rfr(asset_return,cov_matrix, cov_diagnolize = False):\n",
    "    \"\"\" \n",
    "        Returns the tangency portfolio weights in a (1 x n) vector\n",
    "        Inputs: \n",
    "            asset_return - return for each asset (n x 1) Vector\n",
    "            cov_matrix = nxn covariance matrix for the assets\n",
    "    \"\"\"\n",
    "    if cov_diagnolize:\n",
    "        asset_cov = np.diag(np.diag(cov_matrix))\n",
    "    else:\n",
    "        asset_cov = np.array(cov_matrix)\n",
    "    inverted_cov= np.linalg.inv(asset_cov)\n",
    "    one_vector = np.ones(len(cov_matrix.index))\n",
    "    \n",
    "    den = (one_vector @ inverted_cov) @ (asset_return)\n",
    "    num =  inverted_cov @ asset_return\n",
    "    return (1/den) * num"
   ]
  },
  {
   "cell_type": "code",
   "execution_count": 5,
   "id": "534b2c56",
   "metadata": {},
   "outputs": [],
   "source": [
    "def mv_portfolio_rfr(asset_return,cov_matrix,target_ret,tangency_port):\n",
    "    \"\"\" \n",
    "        Returns the Mean-Variance portfolio weights in a (1 x n) vector when a riskless assset is available\n",
    "        Inputs: \n",
    "            asset_return - Excess return over the risk free rate for each asset (n x 1) Vector\n",
    "            cov_matrix = nxn covariance matrix for the assets\n",
    "            target_ret = Target Return (Annualized)\n",
    "            tangency_port = Tangency portfolio when a riskless assset is available\n",
    "    \"\"\"\n",
    "    asset_cov = np.array(cov_matrix)\n",
    "    inverted_cov= np.linalg.inv(asset_cov)\n",
    "    one_vector = np.ones(len(cov_matrix.index))\n",
    "    \n",
    "    delta_den = (asset_return.T @ inverted_cov) @ (asset_return)\n",
    "    delta_num = (one_vector @ inverted_cov) @ (asset_return)\n",
    "    delta_tilde = (delta_num/delta_den) * target_ret\n",
    "    return (delta_tilde * tangency_port)"
   ]
  },
  {
   "cell_type": "code",
   "execution_count": 6,
   "id": "3354cbb3",
   "metadata": {},
   "outputs": [],
   "source": [
    "def gmv_portfolio(asset_return,cov_matrix):\n",
    "    \"\"\" \n",
    "        Returns the Global Minimum Variance portfolio weights in a (1 x n) vector\n",
    "        Inputs: \n",
    "            asset_return - return for each asset (n x 1) Vector\n",
    "            cov_matrix = nxn covariance matrix for the assets\n",
    "    \"\"\"\n",
    "    asset_cov = np.array(cov_matrix)\n",
    "    inverted_cov= np.linalg.inv(asset_cov)\n",
    "    one_vector = np.ones(len(cov_matrix.index))\n",
    "    \n",
    "    den = (one_vector @ inverted_cov) @ (one_vector)\n",
    "    num =  inverted_cov @ one_vector\n",
    "    return (1/den) * num"
   ]
  },
  {
   "cell_type": "code",
   "execution_count": 7,
   "id": "e1a2429d",
   "metadata": {},
   "outputs": [],
   "source": [
    "def mv_portfolio(asset_return,cov_matrix,target_ret,tangency_port):\n",
    "    \"\"\" \n",
    "        Returns the Mean-Variance portfolio weights in a (1 x n) vector when no riskless assset is available\n",
    "        Inputs: \n",
    "            asset_return - total return for each asset (n x 1) Vector\n",
    "            cov_matrix = nxn covariance matrix for the assets\n",
    "            target_ret = Target Return (Not-Annualized)\n",
    "            tangency_port = Tangency portfolio\n",
    "    \"\"\"\n",
    "    omega_tan = tangency_portfolio_rfr(asset_return.mean(),cov_matrix)\n",
    "    omega_gmv = gmv_portfolio(asset_return,cov_matrix) \n",
    "    \n",
    "    mu_tan = asset_return.mean() @ omega_tan\n",
    "    mu_gmv = asset_return.mean() @ omega_gmv\n",
    "    \n",
    "    delta = (target_ret - mu_gmv)/(mu_tan - mu_gmv)\n",
    "    mv_weights = delta * omega_tan + (1-delta)*omega_gmv\n",
    "    return mv_weights"
   ]
  },
  {
   "cell_type": "code",
   "execution_count": 8,
   "id": "e657d890",
   "metadata": {},
   "outputs": [],
   "source": [
    "def regression_based_performance(factor,fund_ret,rf,constant = True):\n",
    "    \"\"\" \n",
    "        Returns the Regression based performance Stats for given set of returns and factors\n",
    "        Inputs:\n",
    "            factor - Dataframe containing monthly returns of the regressors\n",
    "            fund_ret - Dataframe containing monthly excess returns of the regressand fund\n",
    "            rf - Monthly risk free rate of return\n",
    "        Output:\n",
    "            summary_stats - (Beta of regression, treynor ratio, information ratio, alpha). \n",
    "    \"\"\"\n",
    "    if constant:\n",
    "        X = sm.tools.add_constant(factor)\n",
    "    else:\n",
    "        X = factor\n",
    "    y=fund_ret\n",
    "    model = sm.OLS(y,X,missing='drop').fit()\n",
    "    \n",
    "    if constant:\n",
    "        beta = model.params[1:]\n",
    "        alpha = round(float(model.params['const']),6)\n",
    "        \n",
    "    else:\n",
    "        beta = model.params\n",
    "    treynor_ratio = ((fund_ret.values-rf.values).mean()*12)/beta[0]\n",
    "    tracking_error = (model.resid.std()*np.sqrt(12))\n",
    "    if constant:        \n",
    "        information_ratio = model.params[0]*12/tracking_error\n",
    "    r_squared = model.rsquared\n",
    "    if constant:\n",
    "        return (beta,treynor_ratio,information_ratio,alpha,r_squared,tracking_error)\n",
    "    else:\n",
    "        return (beta,treynor_ratio,r_squared,tracking_error)"
   ]
  },
  {
   "cell_type": "code",
   "execution_count": 9,
   "id": "c54000ac",
   "metadata": {},
   "outputs": [],
   "source": [
    "def rolling_regression_param(factor,fund_ret,roll_window = 60):\n",
    "    \"\"\" \n",
    "        Returns the Rolling Regression parameters for given set of returns and factors\n",
    "        Inputs:\n",
    "            factor - Dataframe containing monthly returns of the regressors\n",
    "            fund_ret - Dataframe containing monthly excess returns of the regressand fund\n",
    "            roll_window = rolling window for regression\n",
    "        Output:\n",
    "            params - Dataframe with time-t as the index and constant and Betas as columns\n",
    "    \"\"\"\n",
    "    X = sm.add_constant(factor)\n",
    "    y= fund_ret\n",
    "    rols = RollingOLS(y, X, window=roll_window)\n",
    "    rres = rols.fit()\n",
    "    params = rres.params.copy()\n",
    "    params.index = np.arange(1, params.shape[0] + 1)\n",
    "    return params\n",
    "    "
   ]
  },
  {
   "cell_type": "code",
   "execution_count": 10,
   "id": "f2118623",
   "metadata": {},
   "outputs": [],
   "source": [
    "def calc_probability_lowret(num_years,mean_ret_check,mean_ret,vol):\n",
    "        \"\"\" \n",
    "        Returns the Probability that the cumulative market return will fall short of the cumulative\n",
    "        risk-free return for each period\n",
    "        Inputs: \n",
    "            mean - annualized mean returns of market for a period.\n",
    "            vol - annualized volatility of returns for a period\n",
    "            num_years - Number of years to calculate\n",
    "        Output:\n",
    "            probability - DataFrame with probability for each period (step = 1)\n",
    "        \"\"\"\n",
    "        lst = []\n",
    "        for n in range (0,num_years+1,1):\n",
    "            norm_val = np.sqrt(n)*(mean_ret_check - mean_ret)/(vol)\n",
    "            prob = (norm.cdf(norm_val))*100\n",
    "            lst.append(pd.DataFrame([[n,prob]],columns=['Time','Probability(%)']))\n",
    "        probability = pd.concat(lst)\n",
    "        return probability"
   ]
  },
  {
   "cell_type": "markdown",
   "id": "a3cf825a",
   "metadata": {},
   "source": [
    "# Reading Data"
   ]
  },
  {
   "cell_type": "code",
   "execution_count": 11,
   "id": "23b32827",
   "metadata": {},
   "outputs": [
    {
     "data": {
      "text/html": [
       "<div>\n",
       "<style scoped>\n",
       "    .dataframe tbody tr th:only-of-type {\n",
       "        vertical-align: middle;\n",
       "    }\n",
       "\n",
       "    .dataframe tbody tr th {\n",
       "        vertical-align: top;\n",
       "    }\n",
       "\n",
       "    .dataframe thead th {\n",
       "        text-align: right;\n",
       "    }\n",
       "</style>\n",
       "<table border=\"1\" class=\"dataframe\">\n",
       "  <thead>\n",
       "    <tr style=\"text-align: right;\">\n",
       "      <th></th>\n",
       "      <th>CL1</th>\n",
       "      <th>GC1</th>\n",
       "      <th>KC1</th>\n",
       "      <th>ES1</th>\n",
       "      <th>BP1</th>\n",
       "    </tr>\n",
       "    <tr>\n",
       "      <th>date</th>\n",
       "      <th></th>\n",
       "      <th></th>\n",
       "      <th></th>\n",
       "      <th></th>\n",
       "      <th></th>\n",
       "    </tr>\n",
       "  </thead>\n",
       "  <tbody>\n",
       "    <tr>\n",
       "      <th>2009-01-31</th>\n",
       "      <td>-0.113532</td>\n",
       "      <td>0.048627</td>\n",
       "      <td>0.061111</td>\n",
       "      <td>-0.086109</td>\n",
       "      <td>-0.007831</td>\n",
       "    </tr>\n",
       "    <tr>\n",
       "      <th>2009-02-28</th>\n",
       "      <td>0.044680</td>\n",
       "      <td>0.015187</td>\n",
       "      <td>-0.079479</td>\n",
       "      <td>-0.107294</td>\n",
       "      <td>-0.008309</td>\n",
       "    </tr>\n",
       "    <tr>\n",
       "      <th>2009-03-31</th>\n",
       "      <td>0.087892</td>\n",
       "      <td>-0.021111</td>\n",
       "      <td>0.034402</td>\n",
       "      <td>0.087209</td>\n",
       "      <td>0.001745</td>\n",
       "    </tr>\n",
       "    <tr>\n",
       "      <th>2009-04-30</th>\n",
       "      <td>-0.013826</td>\n",
       "      <td>-0.036543</td>\n",
       "      <td>-0.006491</td>\n",
       "      <td>0.094679</td>\n",
       "      <td>0.032897</td>\n",
       "    </tr>\n",
       "    <tr>\n",
       "      <th>2009-05-31</th>\n",
       "      <td>0.287437</td>\n",
       "      <td>0.098300</td>\n",
       "      <td>0.185518</td>\n",
       "      <td>0.055172</td>\n",
       "      <td>0.088934</td>\n",
       "    </tr>\n",
       "  </tbody>\n",
       "</table>\n",
       "</div>"
      ],
      "text/plain": [
       "                 CL1       GC1       KC1       ES1       BP1\n",
       "date                                                        \n",
       "2009-01-31 -0.113532  0.048627  0.061111 -0.086109 -0.007831\n",
       "2009-02-28  0.044680  0.015187 -0.079479 -0.107294 -0.008309\n",
       "2009-03-31  0.087892 -0.021111  0.034402  0.087209  0.001745\n",
       "2009-04-30 -0.013826 -0.036543 -0.006491  0.094679  0.032897\n",
       "2009-05-31  0.287437  0.098300  0.185518  0.055172  0.088934"
      ]
     },
     "execution_count": 11,
     "metadata": {},
     "output_type": "execute_result"
    }
   ],
   "source": [
    "total_ret = pd.read_excel(r'C:\\Users\\piyus\\Documents\\Python Scripts\\data\\midterm_1.xlsx',sheet_name = 'total returns', index_col = 'date')\n",
    "total_ret.head()"
   ]
  },
  {
   "cell_type": "markdown",
   "id": "f457c0c6",
   "metadata": {},
   "source": [
    "## 2. Allocation (15 pts)\n",
    "\n",
    "#### Consider mean-variance optimization using total returns. (That is, you are NOT analyzing excess returns. No need to subtract or otherwise consider a risk-free rate.)"
   ]
  },
  {
   "cell_type": "markdown",
   "id": "08acc7e0",
   "metadata": {},
   "source": [
    "### 2.1 (5pts) Report the weights of the Global Minimum Variance (GMV) portfolio, $ω^{v}$, and the weights of the Tangency portfolio, $ω^{t}$."
   ]
  },
  {
   "cell_type": "code",
   "execution_count": 12,
   "id": "f1d60dec",
   "metadata": {},
   "outputs": [
    {
     "data": {
      "text/html": [
       "<div>\n",
       "<style scoped>\n",
       "    .dataframe tbody tr th:only-of-type {\n",
       "        vertical-align: middle;\n",
       "    }\n",
       "\n",
       "    .dataframe tbody tr th {\n",
       "        vertical-align: top;\n",
       "    }\n",
       "\n",
       "    .dataframe thead th {\n",
       "        text-align: right;\n",
       "    }\n",
       "</style>\n",
       "<table border=\"1\" class=\"dataframe\">\n",
       "  <thead>\n",
       "    <tr style=\"text-align: right;\">\n",
       "      <th></th>\n",
       "      <th>Tangency Portfolio Weight</th>\n",
       "      <th>GMV Portfolio Weight</th>\n",
       "    </tr>\n",
       "  </thead>\n",
       "  <tbody>\n",
       "    <tr>\n",
       "      <th>CL1</th>\n",
       "      <td>-0.128124</td>\n",
       "      <td>-0.030674</td>\n",
       "    </tr>\n",
       "    <tr>\n",
       "      <th>GC1</th>\n",
       "      <td>1.191087</td>\n",
       "      <td>0.179111</td>\n",
       "    </tr>\n",
       "    <tr>\n",
       "      <th>KC1</th>\n",
       "      <td>0.097813</td>\n",
       "      <td>-0.010639</td>\n",
       "    </tr>\n",
       "    <tr>\n",
       "      <th>ES1</th>\n",
       "      <td>4.220019</td>\n",
       "      <td>0.092154</td>\n",
       "    </tr>\n",
       "    <tr>\n",
       "      <th>BP1</th>\n",
       "      <td>-4.380796</td>\n",
       "      <td>0.770048</td>\n",
       "    </tr>\n",
       "  </tbody>\n",
       "</table>\n",
       "</div>"
      ],
      "text/plain": [
       "     Tangency Portfolio Weight  GMV Portfolio Weight\n",
       "CL1                  -0.128124             -0.030674\n",
       "GC1                   1.191087              0.179111\n",
       "KC1                   0.097813             -0.010639\n",
       "ES1                   4.220019              0.092154\n",
       "BP1                  -4.380796              0.770048"
      ]
     },
     "execution_count": 12,
     "metadata": {},
     "output_type": "execute_result"
    }
   ],
   "source": [
    "tr_performance = performance_summary(total_ret)\n",
    "mean_total_ret =  np.array(tr_performance['Mean'])\n",
    "\n",
    "tangency_port = tangency_portfolio_rfr(mean_total_ret,total_ret.cov())\n",
    "gmv_port = gmv_portfolio(total_ret,total_ret.cov())\n",
    "TangencyPort_df = pd.DataFrame(tangency_port,columns= [\"Tangency Portfolio Weight\"],index=tr_performance.index)\n",
    "GMVPort_df = pd.DataFrame(gmv_port,columns= [\"GMV Portfolio Weight\"],index=total_ret.columns)\n",
    "pd.concat([TangencyPort_df.T,GMVPort_df.T]).T"
   ]
  },
  {
   "cell_type": "markdown",
   "id": "634da6f4",
   "metadata": {},
   "source": [
    "### 2.2 (5pts) What are the weights of the optimal portfolio, $ω^{∗}$, with a targeted total mean return of 0.20 annualized, (0.20/12 per month)?\n",
    "### What is the volatility of this portfolio allocation?"
   ]
  },
  {
   "cell_type": "code",
   "execution_count": 27,
   "id": "eca13d95",
   "metadata": {},
   "outputs": [
    {
     "data": {
      "text/html": [
       "<div>\n",
       "<style scoped>\n",
       "    .dataframe tbody tr th:only-of-type {\n",
       "        vertical-align: middle;\n",
       "    }\n",
       "\n",
       "    .dataframe tbody tr th {\n",
       "        vertical-align: top;\n",
       "    }\n",
       "\n",
       "    .dataframe thead th {\n",
       "        text-align: right;\n",
       "    }\n",
       "</style>\n",
       "<table border=\"1\" class=\"dataframe\">\n",
       "  <thead>\n",
       "    <tr style=\"text-align: right;\">\n",
       "      <th></th>\n",
       "      <th>Mean-Variance Portfolio Weight</th>\n",
       "    </tr>\n",
       "  </thead>\n",
       "  <tbody>\n",
       "    <tr>\n",
       "      <th>CL1</th>\n",
       "      <td>-0.059678</td>\n",
       "    </tr>\n",
       "    <tr>\n",
       "      <th>GC1</th>\n",
       "      <td>0.480307</td>\n",
       "    </tr>\n",
       "    <tr>\n",
       "      <th>KC1</th>\n",
       "      <td>0.021639</td>\n",
       "    </tr>\n",
       "    <tr>\n",
       "      <th>ES1</th>\n",
       "      <td>1.320735</td>\n",
       "    </tr>\n",
       "    <tr>\n",
       "      <th>BP1</th>\n",
       "      <td>-0.763003</td>\n",
       "    </tr>\n",
       "  </tbody>\n",
       "</table>\n",
       "</div>"
      ],
      "text/plain": [
       "     Mean-Variance Portfolio Weight\n",
       "CL1                       -0.059678\n",
       "GC1                        0.480307\n",
       "KC1                        0.021639\n",
       "ES1                        1.320735\n",
       "BP1                       -0.763003"
      ]
     },
     "execution_count": 27,
     "metadata": {},
     "output_type": "execute_result"
    }
   ],
   "source": [
    "target_ret = 0.20/12\n",
    "mv_port= mv_portfolio(total_ret,total_ret.cov(),target_ret,tangency_port)\n",
    "\n",
    "MVPort_df = pd.DataFrame(mv_port,columns= [\"Mean-Variance Portfolio Weight\"],index=tr_performance.index)\n",
    "MVPort_df"
   ]
  },
  {
   "cell_type": "code",
   "execution_count": 14,
   "id": "1c04c011",
   "metadata": {},
   "outputs": [
    {
     "data": {
      "text/html": [
       "<div>\n",
       "<style scoped>\n",
       "    .dataframe tbody tr th:only-of-type {\n",
       "        vertical-align: middle;\n",
       "    }\n",
       "\n",
       "    .dataframe tbody tr th {\n",
       "        vertical-align: top;\n",
       "    }\n",
       "\n",
       "    .dataframe thead th {\n",
       "        text-align: right;\n",
       "    }\n",
       "</style>\n",
       "<table border=\"1\" class=\"dataframe\">\n",
       "  <thead>\n",
       "    <tr style=\"text-align: right;\">\n",
       "      <th></th>\n",
       "      <th>Annualized Return</th>\n",
       "      <th>Annualized Volatility</th>\n",
       "      <th>Annualized Sharpe Ratio</th>\n",
       "    </tr>\n",
       "  </thead>\n",
       "  <tbody>\n",
       "    <tr>\n",
       "      <th>Mean-Variance Portfolio</th>\n",
       "      <td>0.2</td>\n",
       "      <td>0.190461</td>\n",
       "      <td>1.050082</td>\n",
       "    </tr>\n",
       "  </tbody>\n",
       "</table>\n",
       "</div>"
      ],
      "text/plain": [
       "                         Annualized Return  Annualized Volatility  \\\n",
       "Mean-Variance Portfolio                0.2               0.190461   \n",
       "\n",
       "                         Annualized Sharpe Ratio  \n",
       "Mean-Variance Portfolio                 1.050082  "
      ]
     },
     "execution_count": 14,
     "metadata": {},
     "output_type": "execute_result"
    }
   ],
   "source": [
    "mv_port_stats = mvo_performance_stats(mean_total_ret,total_ret.cov(),mv_port,'Mean-Variance Portfolio',12)\n",
    "mv_port_stats"
   ]
  },
  {
   "cell_type": "markdown",
   "id": "e176143a",
   "metadata": {},
   "source": [
    "<span style=\"color:#00008B\">where **Sharpe** ratio in the table above and elsewhere is being used loosely given that we have total, not excess, returns.</span>"
   ]
  },
  {
   "cell_type": "markdown",
   "id": "09b23805",
   "metadata": {},
   "source": [
    "### 2.3 (5pts) Suppose we re-did this problem assuming the existence of a risk-free rate. Would the solution with mean return of 0.20 be guaranteed to have less than or equal volatility as the solution above, where we did not have a risk-free rate? Why?"
   ]
  },
  {
   "cell_type": "markdown",
   "id": "02c281de",
   "metadata": {},
   "source": [
    "<span style=\"color:#00008B\"> **Solution:** The MVO portfolio with mean return of 0.20 be guaranteed will have **lower volatility with a risk-free return included** compared to the solution with no risk free rate. The MVO solution with no risk free rate combines GMV portfolio with tangency portfolio. Since, the risk free rate will always have lower volatility compared to GMV (which is formed by some combination of risky assets), the MVO solution with risk free rate will always have lower volatility. <br><br>\n",
    "Conceptually, adding another asset to the menu, (the risk-free asset,) can only improve the available investment opportunities, (the MV frontier.)</span>"
   ]
  },
  {
   "cell_type": "markdown",
   "id": "46881595",
   "metadata": {},
   "source": [
    "## 3. Hedging & Replication (20pts)\n",
    "\n",
    "#### Consider replicating ES1 with BP1.\n",
    "- #### include an intercept.\n",
    "- #### estimate the hedge ratio over a rolling, 36-month window.\n",
    "- #### For each month, you should have the optimal replicating position, which allows you to properly invest in BP1 (and a constant) to replicate ES1.\n",
    "- #### Then calculate the return of that investment, which is the fitted regression value\n",
    "\n",
    "#### Thus, you should have a time-series of the replication results. Call this series, $r^{∗}$."
   ]
  },
  {
   "cell_type": "code",
   "execution_count": 15,
   "id": "6875efe1",
   "metadata": {},
   "outputs": [],
   "source": [
    "factor =  pd.DataFrame(total_ret['BP1'].copy())\n",
    "fund_ret = pd.DataFrame(total_ret['ES1'].copy())\n",
    "rolling_reg = rolling_regression_param(factor,fund_ret,roll_window = 36)\n",
    "rolling_reg.index = factor.index\n",
    "factor_ret = factor.loc[rolling_reg.dropna().index]\n",
    "one_df = pd.DataFrame(np.ones(factor_ret.shape[0])).T\n",
    "one_df.columns = factor_ret.index\n",
    "factor_ret = pd.concat([one_df,pd.DataFrame(factor_ret).T])\n",
    "rolling_reg_replication = pd.DataFrame(np.diag(pd.DataFrame(np.array(rolling_reg[rolling_reg.dropna().index.min():]) @ np.array(factor_ret))),index = factor_ret.columns,columns = ['ES1'])"
   ]
  },
  {
   "cell_type": "markdown",
   "id": "0a210d2e",
   "metadata": {},
   "source": [
    "### 3.1 (5pts) Report the last five values of the timeseries of alpha and beta estimates."
   ]
  },
  {
   "cell_type": "code",
   "execution_count": 17,
   "id": "3a9caa3b",
   "metadata": {},
   "outputs": [
    {
     "data": {
      "text/html": [
       "<div>\n",
       "<style scoped>\n",
       "    .dataframe tbody tr th:only-of-type {\n",
       "        vertical-align: middle;\n",
       "    }\n",
       "\n",
       "    .dataframe tbody tr th {\n",
       "        vertical-align: top;\n",
       "    }\n",
       "\n",
       "    .dataframe thead th {\n",
       "        text-align: right;\n",
       "    }\n",
       "</style>\n",
       "<table border=\"1\" class=\"dataframe\">\n",
       "  <thead>\n",
       "    <tr style=\"text-align: right;\">\n",
       "      <th></th>\n",
       "      <th>const</th>\n",
       "      <th>BP1</th>\n",
       "    </tr>\n",
       "    <tr>\n",
       "      <th>date</th>\n",
       "      <th></th>\n",
       "      <th></th>\n",
       "    </tr>\n",
       "  </thead>\n",
       "  <tbody>\n",
       "    <tr>\n",
       "      <th>2022-02-28</th>\n",
       "      <td>0.013660</td>\n",
       "      <td>1.178892</td>\n",
       "    </tr>\n",
       "    <tr>\n",
       "      <th>2022-03-31</th>\n",
       "      <td>0.014433</td>\n",
       "      <td>1.144168</td>\n",
       "    </tr>\n",
       "    <tr>\n",
       "      <th>2022-04-30</th>\n",
       "      <td>0.012270</td>\n",
       "      <td>1.247557</td>\n",
       "    </tr>\n",
       "    <tr>\n",
       "      <th>2022-05-31</th>\n",
       "      <td>0.013008</td>\n",
       "      <td>1.186588</td>\n",
       "    </tr>\n",
       "    <tr>\n",
       "      <th>2022-06-30</th>\n",
       "      <td>0.010191</td>\n",
       "      <td>1.251756</td>\n",
       "    </tr>\n",
       "  </tbody>\n",
       "</table>\n",
       "</div>"
      ],
      "text/plain": [
       "               const       BP1\n",
       "date                          \n",
       "2022-02-28  0.013660  1.178892\n",
       "2022-03-31  0.014433  1.144168\n",
       "2022-04-30  0.012270  1.247557\n",
       "2022-05-31  0.013008  1.186588\n",
       "2022-06-30  0.010191  1.251756"
      ]
     },
     "execution_count": 17,
     "metadata": {},
     "output_type": "execute_result"
    }
   ],
   "source": [
    "rolling_reg_params = rolling_reg.copy()\n",
    "rolling_reg_params.index = total_ret.index\n",
    "rolling_reg_params.tail(5)"
   ]
  },
  {
   "cell_type": "markdown",
   "id": "f3972b43",
   "metadata": {},
   "source": [
    "### 3.2 (5pts) Report the last five values of the timeseries, $r^{∗}$."
   ]
  },
  {
   "cell_type": "code",
   "execution_count": 67,
   "id": "c32be700",
   "metadata": {},
   "outputs": [
    {
     "data": {
      "text/html": [
       "<div>\n",
       "<style scoped>\n",
       "    .dataframe tbody tr th:only-of-type {\n",
       "        vertical-align: middle;\n",
       "    }\n",
       "\n",
       "    .dataframe tbody tr th {\n",
       "        vertical-align: top;\n",
       "    }\n",
       "\n",
       "    .dataframe thead th {\n",
       "        text-align: right;\n",
       "    }\n",
       "</style>\n",
       "<table border=\"1\" class=\"dataframe\">\n",
       "  <thead>\n",
       "    <tr style=\"text-align: right;\">\n",
       "      <th></th>\n",
       "      <th>In-Sample $r^{*}$</th>\n",
       "    </tr>\n",
       "    <tr>\n",
       "      <th>date</th>\n",
       "      <th></th>\n",
       "    </tr>\n",
       "  </thead>\n",
       "  <tbody>\n",
       "    <tr>\n",
       "      <th>2022-02-28</th>\n",
       "      <td>0.010155</td>\n",
       "    </tr>\n",
       "    <tr>\n",
       "      <th>2022-03-31</th>\n",
       "      <td>-0.009789</td>\n",
       "    </tr>\n",
       "    <tr>\n",
       "      <th>2022-04-30</th>\n",
       "      <td>-0.038274</td>\n",
       "    </tr>\n",
       "    <tr>\n",
       "      <th>2022-05-31</th>\n",
       "      <td>0.013573</td>\n",
       "    </tr>\n",
       "    <tr>\n",
       "      <th>2022-06-30</th>\n",
       "      <td>-0.030127</td>\n",
       "    </tr>\n",
       "  </tbody>\n",
       "</table>\n",
       "</div>"
      ],
      "text/plain": [
       "            In-Sample $r^{*}$\n",
       "date                         \n",
       "2022-02-28           0.010155\n",
       "2022-03-31          -0.009789\n",
       "2022-04-30          -0.038274\n",
       "2022-05-31           0.013573\n",
       "2022-06-30          -0.030127"
      ]
     },
     "execution_count": 67,
     "metadata": {},
     "output_type": "execute_result"
    }
   ],
   "source": [
    "rolling_reg_replication.rename(columns = {'ES1':'In-Sample $r^{*}$'}).tail(5)"
   ]
  },
  {
   "cell_type": "markdown",
   "id": "ac5bfe51",
   "metadata": {},
   "source": [
    "#### In case the question was interpreted as getting Out of sample returns"
   ]
  },
  {
   "cell_type": "code",
   "execution_count": 68,
   "id": "db1ca3ed",
   "metadata": {},
   "outputs": [
    {
     "data": {
      "text/html": [
       "<div>\n",
       "<style scoped>\n",
       "    .dataframe tbody tr th:only-of-type {\n",
       "        vertical-align: middle;\n",
       "    }\n",
       "\n",
       "    .dataframe tbody tr th {\n",
       "        vertical-align: top;\n",
       "    }\n",
       "\n",
       "    .dataframe thead th {\n",
       "        text-align: right;\n",
       "    }\n",
       "</style>\n",
       "<table border=\"1\" class=\"dataframe\">\n",
       "  <thead>\n",
       "    <tr style=\"text-align: right;\">\n",
       "      <th></th>\n",
       "      <th>Out-Of-Sample $r^{*}$</th>\n",
       "    </tr>\n",
       "    <tr>\n",
       "      <th>date</th>\n",
       "      <th></th>\n",
       "    </tr>\n",
       "  </thead>\n",
       "  <tbody>\n",
       "    <tr>\n",
       "      <th>2022-02-28</th>\n",
       "      <td>0.011405</td>\n",
       "    </tr>\n",
       "    <tr>\n",
       "      <th>2022-03-31</th>\n",
       "      <td>-0.011298</td>\n",
       "    </tr>\n",
       "    <tr>\n",
       "      <th>2022-04-30</th>\n",
       "      <td>-0.031923</td>\n",
       "    </tr>\n",
       "    <tr>\n",
       "      <th>2022-05-31</th>\n",
       "      <td>0.012864</td>\n",
       "    </tr>\n",
       "    <tr>\n",
       "      <th>2022-06-30</th>\n",
       "      <td>-0.025211</td>\n",
       "    </tr>\n",
       "  </tbody>\n",
       "</table>\n",
       "</div>"
      ],
      "text/plain": [
       "            Out-Of-Sample $r^{*}$\n",
       "date                             \n",
       "2022-02-28               0.011405\n",
       "2022-03-31              -0.011298\n",
       "2022-04-30              -0.031923\n",
       "2022-05-31               0.012864\n",
       "2022-06-30              -0.025211"
      ]
     },
     "execution_count": 68,
     "metadata": {},
     "output_type": "execute_result"
    }
   ],
   "source": [
    "oos_returns = pd.DataFrame(np.diag(pd.DataFrame(np.array(rolling_reg[rolling_reg.dropna().index.min():].shift()) @ np.array(factor_ret))),index = factor_ret.columns,columns = ['ES1'])\n",
    "oos_returns.dropna().rename(columns = {'ES1':'Out-Of-Sample $r^{*}$'}).tail(5)"
   ]
  },
  {
   "cell_type": "markdown",
   "id": "ea299a4f",
   "metadata": {},
   "source": [
    "### 3.3 (5pts) Report the mean, volatility and mean-to-vol ratio of this replicated position, $r^{∗}$. Annualize the statistics."
   ]
  },
  {
   "cell_type": "code",
   "execution_count": 69,
   "id": "3f7e1d90",
   "metadata": {
    "scrolled": true
   },
   "outputs": [
    {
     "data": {
      "text/html": [
       "<div>\n",
       "<style scoped>\n",
       "    .dataframe tbody tr th:only-of-type {\n",
       "        vertical-align: middle;\n",
       "    }\n",
       "\n",
       "    .dataframe tbody tr th {\n",
       "        vertical-align: top;\n",
       "    }\n",
       "\n",
       "    .dataframe thead th {\n",
       "        text-align: right;\n",
       "    }\n",
       "</style>\n",
       "<table border=\"1\" class=\"dataframe\">\n",
       "  <thead>\n",
       "    <tr style=\"text-align: right;\">\n",
       "      <th></th>\n",
       "      <th>Mean</th>\n",
       "      <th>Volatility</th>\n",
       "      <th>Sharpe Ratio</th>\n",
       "      <th>Skewness</th>\n",
       "      <th>Excess Kurtosis</th>\n",
       "      <th>VaR (0.05)</th>\n",
       "      <th>CVaR (0.05)</th>\n",
       "      <th>Max Drawdown</th>\n",
       "      <th>Peak</th>\n",
       "      <th>Bottom</th>\n",
       "      <th>Recovery</th>\n",
       "    </tr>\n",
       "  </thead>\n",
       "  <tbody>\n",
       "    <tr>\n",
       "      <th>In-Sample $r^{*}$</th>\n",
       "      <td>0.126333</td>\n",
       "      <td>0.062546</td>\n",
       "      <td>2.019829</td>\n",
       "      <td>-0.35217</td>\n",
       "      <td>0.515144</td>\n",
       "      <td>-0.023069</td>\n",
       "      <td>-0.031456</td>\n",
       "      <td>-0.063843</td>\n",
       "      <td>2022-02-28</td>\n",
       "      <td>2022-06-30</td>\n",
       "      <td>NaT</td>\n",
       "    </tr>\n",
       "  </tbody>\n",
       "</table>\n",
       "</div>"
      ],
      "text/plain": [
       "                       Mean  Volatility  Sharpe Ratio  Skewness  \\\n",
       "In-Sample $r^{*}$  0.126333    0.062546      2.019829  -0.35217   \n",
       "\n",
       "                   Excess Kurtosis  VaR (0.05)  CVaR (0.05)  Max Drawdown  \\\n",
       "In-Sample $r^{*}$         0.515144   -0.023069    -0.031456     -0.063843   \n",
       "\n",
       "                        Peak     Bottom Recovery  \n",
       "In-Sample $r^{*}$ 2022-02-28 2022-06-30      NaT  "
      ]
     },
     "execution_count": 69,
     "metadata": {},
     "output_type": "execute_result"
    }
   ],
   "source": [
    "rolling_reg_performance = performance_summary(rolling_reg_replication.rename(columns = {'ES1':'In-Sample $r^{*}$'}))\n",
    "rolling_reg_performance"
   ]
  },
  {
   "cell_type": "code",
   "execution_count": 70,
   "id": "c4db6aa0",
   "metadata": {},
   "outputs": [
    {
     "data": {
      "text/html": [
       "<div>\n",
       "<style scoped>\n",
       "    .dataframe tbody tr th:only-of-type {\n",
       "        vertical-align: middle;\n",
       "    }\n",
       "\n",
       "    .dataframe tbody tr th {\n",
       "        vertical-align: top;\n",
       "    }\n",
       "\n",
       "    .dataframe thead th {\n",
       "        text-align: right;\n",
       "    }\n",
       "</style>\n",
       "<table border=\"1\" class=\"dataframe\">\n",
       "  <thead>\n",
       "    <tr style=\"text-align: right;\">\n",
       "      <th></th>\n",
       "      <th>Mean</th>\n",
       "      <th>Volatility</th>\n",
       "      <th>Sharpe Ratio</th>\n",
       "      <th>Skewness</th>\n",
       "      <th>Excess Kurtosis</th>\n",
       "      <th>VaR (0.05)</th>\n",
       "      <th>CVaR (0.05)</th>\n",
       "      <th>Max Drawdown</th>\n",
       "      <th>Peak</th>\n",
       "      <th>Bottom</th>\n",
       "      <th>Recovery</th>\n",
       "    </tr>\n",
       "  </thead>\n",
       "  <tbody>\n",
       "    <tr>\n",
       "      <th>Out-Of-Sample $r^{*}$</th>\n",
       "      <td>0.128111</td>\n",
       "      <td>0.062769</td>\n",
       "      <td>2.040989</td>\n",
       "      <td>-0.405036</td>\n",
       "      <td>1.163322</td>\n",
       "      <td>-0.022947</td>\n",
       "      <td>-0.030451</td>\n",
       "      <td>-0.054995</td>\n",
       "      <td>2016-05-31</td>\n",
       "      <td>2016-10-31</td>\n",
       "      <td>2017-03-31</td>\n",
       "    </tr>\n",
       "  </tbody>\n",
       "</table>\n",
       "</div>"
      ],
      "text/plain": [
       "                           Mean  Volatility  Sharpe Ratio  Skewness  \\\n",
       "Out-Of-Sample $r^{*}$  0.128111    0.062769      2.040989 -0.405036   \n",
       "\n",
       "                       Excess Kurtosis  VaR (0.05)  CVaR (0.05)  Max Drawdown  \\\n",
       "Out-Of-Sample $r^{*}$         1.163322   -0.022947    -0.030451     -0.054995   \n",
       "\n",
       "                            Peak     Bottom   Recovery  \n",
       "Out-Of-Sample $r^{*}$ 2016-05-31 2016-10-31 2017-03-31  "
      ]
     },
     "execution_count": 70,
     "metadata": {},
     "output_type": "execute_result"
    }
   ],
   "source": [
    "oos_rolling_reg_performance = performance_summary(oos_returns.rename(columns = {'ES1':'Out-Of-Sample $r^{*}$'}))\n",
    "oos_rolling_reg_performance"
   ]
  },
  {
   "cell_type": "markdown",
   "id": "dfeb1960",
   "metadata": {},
   "source": [
    "### 3.4 (5pts) How correlated is this replicated position, $r^{∗}$, to ES1?"
   ]
  },
  {
   "cell_type": "code",
   "execution_count": 71,
   "id": "0d8b768a",
   "metadata": {},
   "outputs": [
    {
     "name": "stdout",
     "output_type": "stream",
     "text": [
      "Correlation of In-Sample Rolling Regression Fitted Returns with Actual Returns : 0.52104\n",
      "\n",
      "\n",
      "Correlation of OOS Rolling Regression Fitted Returns with Actual Returns : 0.4159\n"
     ]
    }
   ],
   "source": [
    "print('Correlation of In-Sample Rolling Regression Fitted Returns with Actual Returns : ' + str(np.round(np.corrcoef(total_ret.loc[rolling_reg.dropna().index]['ES1'], rolling_reg_replication['ES1'])[0,1],5))+'\\n\\n')\n",
    "print('Correlation of OOS Rolling Regression Fitted Returns with Actual Returns : ' + str(np.round(np.corrcoef(total_ret.loc[oos_returns.dropna().index]['ES1'], oos_returns['ES1'].dropna())[0,1],5)))\n"
   ]
  },
  {
   "cell_type": "markdown",
   "id": "95d0ba7a",
   "metadata": {},
   "source": [
    "## 4. Modeling Risk (35pts)\n",
    "\n",
    "####  Consider the return series of a portfolio invested 50% in ES1 (stocks) and 50% in GC1 (gold).\n",
    "- #### Build a return stream with weights of 0.5 in EC1 and 0.5 in GC1.\n",
    "- #### We will consider total returns—no need to subtract a risk-free rate."
   ]
  },
  {
   "cell_type": "code",
   "execution_count": 21,
   "id": "1e347ef6",
   "metadata": {},
   "outputs": [],
   "source": [
    "ES1_GC1_returns = (0.5 * total_ret['ES1'] + 0.5 * total_ret['GC1'] ).to_frame('ES1-GC1 50-50 Returns')"
   ]
  },
  {
   "cell_type": "markdown",
   "id": "131be0e5",
   "metadata": {},
   "source": [
    "### 4.1 (10pts) Compare the performance statistics between ES1, GC1, and the 50/50 portfolio. Annualize mean and volatility.\n",
    "- ### Mean\n",
    "- ### Volatility\n",
    "- ### Mean divided by volatility.\n",
    "- ### Maximum Drawdown"
   ]
  },
  {
   "cell_type": "code",
   "execution_count": 22,
   "id": "41806797",
   "metadata": {},
   "outputs": [
    {
     "data": {
      "text/html": [
       "<div>\n",
       "<style scoped>\n",
       "    .dataframe tbody tr th:only-of-type {\n",
       "        vertical-align: middle;\n",
       "    }\n",
       "\n",
       "    .dataframe tbody tr th {\n",
       "        vertical-align: top;\n",
       "    }\n",
       "\n",
       "    .dataframe thead th {\n",
       "        text-align: right;\n",
       "    }\n",
       "</style>\n",
       "<table border=\"1\" class=\"dataframe\">\n",
       "  <thead>\n",
       "    <tr style=\"text-align: right;\">\n",
       "      <th></th>\n",
       "      <th>Mean</th>\n",
       "      <th>Volatility</th>\n",
       "      <th>Sharpe Ratio</th>\n",
       "      <th>Skewness</th>\n",
       "      <th>Excess Kurtosis</th>\n",
       "      <th>VaR (0.05)</th>\n",
       "      <th>CVaR (0.05)</th>\n",
       "      <th>Max Drawdown</th>\n",
       "      <th>Peak</th>\n",
       "      <th>Bottom</th>\n",
       "      <th>Recovery</th>\n",
       "    </tr>\n",
       "  </thead>\n",
       "  <tbody>\n",
       "    <tr>\n",
       "      <th>ES1</th>\n",
       "      <td>0.129117</td>\n",
       "      <td>0.151067</td>\n",
       "      <td>0.854698</td>\n",
       "      <td>-0.439491</td>\n",
       "      <td>0.723828</td>\n",
       "      <td>-0.071244</td>\n",
       "      <td>-0.091453</td>\n",
       "      <td>-0.203174</td>\n",
       "      <td>2019-12-31</td>\n",
       "      <td>2020-03-31</td>\n",
       "      <td>2020-07-31</td>\n",
       "    </tr>\n",
       "    <tr>\n",
       "      <th>GC1</th>\n",
       "      <td>0.054008</td>\n",
       "      <td>0.160134</td>\n",
       "      <td>0.337267</td>\n",
       "      <td>0.113357</td>\n",
       "      <td>0.142579</td>\n",
       "      <td>-0.065664</td>\n",
       "      <td>-0.085920</td>\n",
       "      <td>-0.429597</td>\n",
       "      <td>2011-08-31</td>\n",
       "      <td>2015-12-31</td>\n",
       "      <td>NaT</td>\n",
       "    </tr>\n",
       "    <tr>\n",
       "      <th>ES1-GC1 50-50 Returns</th>\n",
       "      <td>0.091562</td>\n",
       "      <td>0.114079</td>\n",
       "      <td>0.802619</td>\n",
       "      <td>0.109368</td>\n",
       "      <td>0.253804</td>\n",
       "      <td>-0.045782</td>\n",
       "      <td>-0.058951</td>\n",
       "      <td>-0.120982</td>\n",
       "      <td>2022-03-31</td>\n",
       "      <td>2022-06-30</td>\n",
       "      <td>NaT</td>\n",
       "    </tr>\n",
       "  </tbody>\n",
       "</table>\n",
       "</div>"
      ],
      "text/plain": [
       "                           Mean  Volatility  Sharpe Ratio  Skewness  \\\n",
       "ES1                    0.129117    0.151067      0.854698 -0.439491   \n",
       "GC1                    0.054008    0.160134      0.337267  0.113357   \n",
       "ES1-GC1 50-50 Returns  0.091562    0.114079      0.802619  0.109368   \n",
       "\n",
       "                       Excess Kurtosis  VaR (0.05)  CVaR (0.05)  Max Drawdown  \\\n",
       "ES1                           0.723828   -0.071244    -0.091453     -0.203174   \n",
       "GC1                           0.142579   -0.065664    -0.085920     -0.429597   \n",
       "ES1-GC1 50-50 Returns         0.253804   -0.045782    -0.058951     -0.120982   \n",
       "\n",
       "                            Peak     Bottom   Recovery  \n",
       "ES1                   2019-12-31 2020-03-31 2020-07-31  \n",
       "GC1                   2011-08-31 2015-12-31        NaT  \n",
       "ES1-GC1 50-50 Returns 2022-03-31 2022-06-30        NaT  "
      ]
     },
     "execution_count": 22,
     "metadata": {},
     "output_type": "execute_result"
    }
   ],
   "source": [
    "combined = pd.concat([total_ret.loc[:,['ES1']].T,total_ret.loc[:,['GC1']].T,ES1_GC1_returns.T]).T\n",
    "perf_summary = performance_summary(combined)\n",
    "perf_summary"
   ]
  },
  {
   "cell_type": "markdown",
   "id": "d18c6a39",
   "metadata": {},
   "source": [
    "### 4.2 (5pts) How does the 50/50 portfolio compare to the individual components in terms of\n",
    "- ### volatility\n",
    "- ### maximum drawdown\n",
    "- ### mean-to-vol ratio\n",
    "### Is this as we would expect from the portfolio theory?"
   ]
  },
  {
   "cell_type": "markdown",
   "id": "42d3cced",
   "metadata": {},
   "source": [
    "<span style=\"color:#00008B\"> **Solution:** The 50-50 combined portfolio has lower volatility and Max Drawdown and higher Mean-to-Vol ratio (Sharpe Ratio). Portfolio Theory dictates that combining assets with less than perfect correlation the portfolio risk goes down. This **diversification** is what the theory suggests: volatility is less than the sum of its parts, and mean-vol ratio increases. The Maximum Drawdown shows a similar diversification, which is not guaranteed by theory but is typical empirically. Thus, this result is expected.</span>"
   ]
  },
  {
   "cell_type": "markdown",
   "id": "667b2e04",
   "metadata": {},
   "source": [
    "### 4.3 (10pts) Calculate the 1-period, 1% CVaR of the 50/50 portfolio analytically.\n",
    "\n",
    "- ### Use the normality formula.\n",
    "- ### Ignore the mean in the formula—set it to 0.\n",
    "\n",
    "### Calculate the CVaR in two different ways:"
   ]
  },
  {
   "cell_type": "markdown",
   "id": "0bf7529b",
   "metadata": {},
   "source": [
    "### 4.3.a) Use the full-sample volatility estimate."
   ]
  },
  {
   "cell_type": "code",
   "execution_count": 23,
   "id": "5821b81d",
   "metadata": {},
   "outputs": [
    {
     "data": {
      "text/html": [
       "<div>\n",
       "<style scoped>\n",
       "    .dataframe tbody tr th:only-of-type {\n",
       "        vertical-align: middle;\n",
       "    }\n",
       "\n",
       "    .dataframe tbody tr th {\n",
       "        vertical-align: top;\n",
       "    }\n",
       "\n",
       "    .dataframe thead th {\n",
       "        text-align: right;\n",
       "    }\n",
       "</style>\n",
       "<table border=\"1\" class=\"dataframe\">\n",
       "  <thead>\n",
       "    <tr style=\"text-align: right;\">\n",
       "      <th></th>\n",
       "      <th>Full Sample CVar</th>\n",
       "    </tr>\n",
       "  </thead>\n",
       "  <tbody>\n",
       "    <tr>\n",
       "      <th>ES1-GC1 50-50 Returns</th>\n",
       "      <td>-0.087027</td>\n",
       "    </tr>\n",
       "  </tbody>\n",
       "</table>\n",
       "</div>"
      ],
      "text/plain": [
       "                       Full Sample CVar\n",
       "ES1-GC1 50-50 Returns         -0.087027"
      ]
     },
     "execution_count": 23,
     "metadata": {},
     "output_type": "execute_result"
    }
   ],
   "source": [
    "CVaR_full_sample = -(norm.pdf(2.33)/0.01  * ES1_GC1_returns.std())\n",
    "CVaR_full_sample.to_frame('Full Sample CVar')           "
   ]
  },
  {
   "cell_type": "markdown",
   "id": "d8c321a6",
   "metadata": {},
   "source": [
    "### 4.3.b)  Use the latest value from the rolling 24-month volatility."
   ]
  },
  {
   "cell_type": "code",
   "execution_count": 24,
   "id": "27fd8888",
   "metadata": {},
   "outputs": [
    {
     "data": {
      "text/html": [
       "<div>\n",
       "<style scoped>\n",
       "    .dataframe tbody tr th:only-of-type {\n",
       "        vertical-align: middle;\n",
       "    }\n",
       "\n",
       "    .dataframe tbody tr th {\n",
       "        vertical-align: top;\n",
       "    }\n",
       "\n",
       "    .dataframe thead th {\n",
       "        text-align: right;\n",
       "    }\n",
       "</style>\n",
       "<table border=\"1\" class=\"dataframe\">\n",
       "  <thead>\n",
       "    <tr style=\"text-align: right;\">\n",
       "      <th></th>\n",
       "      <th>Rolling CVaR</th>\n",
       "    </tr>\n",
       "    <tr>\n",
       "      <th>date</th>\n",
       "      <th></th>\n",
       "    </tr>\n",
       "  </thead>\n",
       "  <tbody>\n",
       "    <tr>\n",
       "      <th>2022-06-30</th>\n",
       "      <td>-0.090833</td>\n",
       "    </tr>\n",
       "  </tbody>\n",
       "</table>\n",
       "</div>"
      ],
      "text/plain": [
       "            Rolling CVaR\n",
       "date                    \n",
       "2022-06-30     -0.090833"
      ]
     },
     "execution_count": 24,
     "metadata": {},
     "output_type": "execute_result"
    }
   ],
   "source": [
    "sigma_rolling = ES1_GC1_returns.shift(1).rolling(24).std().dropna()\n",
    "rolling_cvar = -(norm.pdf(2.33)/0.01 * sigma_rolling)\n",
    "rolling_cvar.rename(columns={'ES1-GC1 50-50 Returns':'Rolling CVaR'},inplace =True)\n",
    "rolling_cvar.tail(1)"
   ]
  },
  {
   "cell_type": "markdown",
   "id": "c4da151c",
   "metadata": {},
   "source": [
    "### 4.4 (10pts) What is the probability that over the next 10 years, ES1 underperforms the 50/50 portfolio?\n",
    "\n",
    "### To answer the question,\n",
    "- ### use statistical estimates of the returns over the full sample.\n",
    "- ### Assume that log returns for both assets are normally distributed."
   ]
  },
  {
   "cell_type": "code",
   "execution_count": 80,
   "id": "4146c080",
   "metadata": {},
   "outputs": [
    {
     "data": {
      "text/html": [
       "<div>\n",
       "<style scoped>\n",
       "    .dataframe tbody tr th:only-of-type {\n",
       "        vertical-align: middle;\n",
       "    }\n",
       "\n",
       "    .dataframe tbody tr th {\n",
       "        vertical-align: top;\n",
       "    }\n",
       "\n",
       "    .dataframe thead th {\n",
       "        text-align: right;\n",
       "    }\n",
       "</style>\n",
       "<table border=\"1\" class=\"dataframe\">\n",
       "  <thead>\n",
       "    <tr style=\"text-align: right;\">\n",
       "      <th></th>\n",
       "      <th>Probability(%)</th>\n",
       "    </tr>\n",
       "    <tr>\n",
       "      <th>Time</th>\n",
       "      <th></th>\n",
       "    </tr>\n",
       "  </thead>\n",
       "  <tbody>\n",
       "    <tr>\n",
       "      <th>0</th>\n",
       "      <td>50.000000</td>\n",
       "    </tr>\n",
       "    <tr>\n",
       "      <th>1</th>\n",
       "      <td>38.064680</td>\n",
       "    </tr>\n",
       "    <tr>\n",
       "      <th>2</th>\n",
       "      <td>33.373847</td>\n",
       "    </tr>\n",
       "    <tr>\n",
       "      <th>3</th>\n",
       "      <td>29.938619</td>\n",
       "    </tr>\n",
       "    <tr>\n",
       "      <th>4</th>\n",
       "      <td>27.173801</td>\n",
       "    </tr>\n",
       "    <tr>\n",
       "      <th>5</th>\n",
       "      <td>24.848077</td>\n",
       "    </tr>\n",
       "    <tr>\n",
       "      <th>6</th>\n",
       "      <td>22.840433</td>\n",
       "    </tr>\n",
       "    <tr>\n",
       "      <th>7</th>\n",
       "      <td>21.077561</td>\n",
       "    </tr>\n",
       "    <tr>\n",
       "      <th>8</th>\n",
       "      <td>19.510774</td>\n",
       "    </tr>\n",
       "    <tr>\n",
       "      <th>9</th>\n",
       "      <td>18.105615</td>\n",
       "    </tr>\n",
       "    <tr>\n",
       "      <th>10</th>\n",
       "      <td>16.836545</td>\n",
       "    </tr>\n",
       "  </tbody>\n",
       "</table>\n",
       "</div>"
      ],
      "text/plain": [
       "      Probability(%)\n",
       "Time                \n",
       "0          50.000000\n",
       "1          38.064680\n",
       "2          33.373847\n",
       "3          29.938619\n",
       "4          27.173801\n",
       "5          24.848077\n",
       "6          22.840433\n",
       "7          21.077561\n",
       "8          19.510774\n",
       "9          18.105615\n",
       "10         16.836545"
      ]
     },
     "execution_count": 80,
     "metadata": {},
     "output_type": "execute_result"
    }
   ],
   "source": [
    "ES1_mean = np.log(1 + combined.ES1).mean() * 12\n",
    "Port1_mean = np.log(1 + combined['ES1-GC1 50-50 Returns']).mean() * 12\n",
    "sigma = (np.log(1 + combined.ES1) - np.log(1 + combined['ES1-GC1 50-50 Returns'])).std() * np.sqrt(12)\n",
    "mu = ES1_mean - Port1_mean\n",
    "\n",
    "probability = calc_probability_lowret(10,0,mu,sigma)\n",
    "probability = probability.set_index('Time')\n",
    "probability"
   ]
  }
 ],
 "metadata": {
  "hide_input": false,
  "kernelspec": {
   "display_name": "Python 3",
   "language": "python",
   "name": "python3"
  },
  "language_info": {
   "codemirror_mode": {
    "name": "ipython",
    "version": 3
   },
   "file_extension": ".py",
   "mimetype": "text/x-python",
   "name": "python",
   "nbconvert_exporter": "python",
   "pygments_lexer": "ipython3",
   "version": "3.8.8"
  }
 },
 "nbformat": 4,
 "nbformat_minor": 5
}
