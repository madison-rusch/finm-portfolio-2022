{
 "cells": [
  {
   "cell_type": "code",
   "execution_count": 1,
   "id": "2e367bf8",
   "metadata": {},
   "outputs": [],
   "source": [
    "import numpy as np\n",
    "import pandas as pd\n",
    "import statsmodels.api as sm\n",
    "import seaborn as sns\n",
    "import matplotlib.pyplot as plt\n",
    "from statsmodels.regression.rolling import RollingOLS\n",
    "\n",
    "%matplotlib inline\n",
    "plt.rcParams[\"figure.figsize\"] = [15,6]"
   ]
  },
  {
   "cell_type": "markdown",
   "id": "aa965da5",
   "metadata": {},
   "source": [
    "# 2 The Factors"
   ]
  },
  {
   "cell_type": "code",
   "execution_count": 2,
   "id": "33a3772e",
   "metadata": {},
   "outputs": [
    {
     "data": {
      "text/html": [
       "<div>\n",
       "<style scoped>\n",
       "    .dataframe tbody tr th:only-of-type {\n",
       "        vertical-align: middle;\n",
       "    }\n",
       "\n",
       "    .dataframe tbody tr th {\n",
       "        vertical-align: top;\n",
       "    }\n",
       "\n",
       "    .dataframe thead th {\n",
       "        text-align: right;\n",
       "    }\n",
       "</style>\n",
       "<table border=\"1\" class=\"dataframe\">\n",
       "  <thead>\n",
       "    <tr style=\"text-align: right;\">\n",
       "      <th></th>\n",
       "      <th>MKT</th>\n",
       "      <th>SMB</th>\n",
       "      <th>HML</th>\n",
       "      <th>RMW</th>\n",
       "      <th>CMA</th>\n",
       "      <th>UMD</th>\n",
       "    </tr>\n",
       "    <tr>\n",
       "      <th>Date</th>\n",
       "      <th></th>\n",
       "      <th></th>\n",
       "      <th></th>\n",
       "      <th></th>\n",
       "      <th></th>\n",
       "      <th></th>\n",
       "    </tr>\n",
       "  </thead>\n",
       "  <tbody>\n",
       "    <tr>\n",
       "      <th>2022-04-30</th>\n",
       "      <td>-0.0946</td>\n",
       "      <td>-0.0040</td>\n",
       "      <td>0.0619</td>\n",
       "      <td>0.0363</td>\n",
       "      <td>0.0592</td>\n",
       "      <td>0.0489</td>\n",
       "    </tr>\n",
       "    <tr>\n",
       "      <th>2022-05-31</th>\n",
       "      <td>-0.0034</td>\n",
       "      <td>-0.0006</td>\n",
       "      <td>0.0841</td>\n",
       "      <td>0.0144</td>\n",
       "      <td>0.0398</td>\n",
       "      <td>0.0248</td>\n",
       "    </tr>\n",
       "    <tr>\n",
       "      <th>2022-06-30</th>\n",
       "      <td>-0.0843</td>\n",
       "      <td>0.0130</td>\n",
       "      <td>-0.0597</td>\n",
       "      <td>0.0185</td>\n",
       "      <td>-0.0470</td>\n",
       "      <td>0.0079</td>\n",
       "    </tr>\n",
       "    <tr>\n",
       "      <th>2022-07-31</th>\n",
       "      <td>0.0957</td>\n",
       "      <td>0.0187</td>\n",
       "      <td>-0.0410</td>\n",
       "      <td>0.0068</td>\n",
       "      <td>-0.0694</td>\n",
       "      <td>-0.0396</td>\n",
       "    </tr>\n",
       "    <tr>\n",
       "      <th>2022-08-31</th>\n",
       "      <td>-0.0378</td>\n",
       "      <td>0.0151</td>\n",
       "      <td>0.0031</td>\n",
       "      <td>-0.0480</td>\n",
       "      <td>0.0131</td>\n",
       "      <td>0.0209</td>\n",
       "    </tr>\n",
       "  </tbody>\n",
       "</table>\n",
       "</div>"
      ],
      "text/plain": [
       "               MKT     SMB     HML     RMW     CMA     UMD\n",
       "Date                                                      \n",
       "2022-04-30 -0.0946 -0.0040  0.0619  0.0363  0.0592  0.0489\n",
       "2022-05-31 -0.0034 -0.0006  0.0841  0.0144  0.0398  0.0248\n",
       "2022-06-30 -0.0843  0.0130 -0.0597  0.0185 -0.0470  0.0079\n",
       "2022-07-31  0.0957  0.0187 -0.0410  0.0068 -0.0694 -0.0396\n",
       "2022-08-31 -0.0378  0.0151  0.0031 -0.0480  0.0131  0.0209"
      ]
     },
     "execution_count": 2,
     "metadata": {},
     "output_type": "execute_result"
    }
   ],
   "source": [
    "factors = pd.read_excel('factor_pricing_data.xlsx',sheet_name='descriptions',index_col='Unnamed: 0')\n",
    "factors = pd.read_excel('factor_pricing_data.xlsx',sheet_name='factors (excess returns)',index_col='Date')\n",
    "factors.tail()"
   ]
  },
  {
   "cell_type": "markdown",
   "id": "b173065d",
   "metadata": {},
   "source": [
    "## 2.1 \n",
    "### Analyze the factors, similar to how you analyzed the three Fama-French factors in Homework 4. You now have three additional factors, so let’s compare there univariate statistics.<br> • mean <br>• volatility <br> • Sharpe\n"
   ]
  },
  {
   "cell_type": "code",
   "execution_count": 3,
   "id": "3e469890",
   "metadata": {
    "scrolled": true
   },
   "outputs": [],
   "source": [
    "def summaryStats(df):\n",
    "    \n",
    "    summary = pd.DataFrame(index = df.columns)\n",
    "    \n",
    "    summary['Mean'] = df.mean()*12\n",
    "    summary['Volatility'] = df.std()*np.sqrt(12)\n",
    "    summary['Sharpe Ratio'] = summary['Mean']/summary['Volatility']    \n",
    "        \n",
    "    return summary"
   ]
  },
  {
   "cell_type": "markdown",
   "id": "686b5f6c",
   "metadata": {},
   "source": [
    "#### Beginning - 1980"
   ]
  },
  {
   "cell_type": "code",
   "execution_count": 4,
   "id": "afc1bbc5",
   "metadata": {},
   "outputs": [
    {
     "data": {
      "text/html": [
       "<div>\n",
       "<style scoped>\n",
       "    .dataframe tbody tr th:only-of-type {\n",
       "        vertical-align: middle;\n",
       "    }\n",
       "\n",
       "    .dataframe tbody tr th {\n",
       "        vertical-align: top;\n",
       "    }\n",
       "\n",
       "    .dataframe thead th {\n",
       "        text-align: right;\n",
       "    }\n",
       "</style>\n",
       "<table border=\"1\" class=\"dataframe\">\n",
       "  <thead>\n",
       "    <tr style=\"text-align: right;\">\n",
       "      <th></th>\n",
       "      <th>Mean</th>\n",
       "      <th>Volatility</th>\n",
       "      <th>Sharpe Ratio</th>\n",
       "    </tr>\n",
       "  </thead>\n",
       "  <tbody>\n",
       "    <tr>\n",
       "      <th>MKT</th>\n",
       "      <td>0.2029</td>\n",
       "      <td>0.203717</td>\n",
       "      <td>0.995990</td>\n",
       "    </tr>\n",
       "    <tr>\n",
       "      <th>SMB</th>\n",
       "      <td>0.0537</td>\n",
       "      <td>0.108821</td>\n",
       "      <td>0.493472</td>\n",
       "    </tr>\n",
       "    <tr>\n",
       "      <th>HML</th>\n",
       "      <td>-0.1987</td>\n",
       "      <td>0.117754</td>\n",
       "      <td>-1.687412</td>\n",
       "    </tr>\n",
       "    <tr>\n",
       "      <th>RMW</th>\n",
       "      <td>0.1078</td>\n",
       "      <td>0.073037</td>\n",
       "      <td>1.475957</td>\n",
       "    </tr>\n",
       "    <tr>\n",
       "      <th>CMA</th>\n",
       "      <td>-0.0977</td>\n",
       "      <td>0.076936</td>\n",
       "      <td>-1.269882</td>\n",
       "    </tr>\n",
       "    <tr>\n",
       "      <th>UMD</th>\n",
       "      <td>0.3078</td>\n",
       "      <td>0.234594</td>\n",
       "      <td>1.312054</td>\n",
       "    </tr>\n",
       "  </tbody>\n",
       "</table>\n",
       "</div>"
      ],
      "text/plain": [
       "       Mean  Volatility  Sharpe Ratio\n",
       "MKT  0.2029    0.203717      0.995990\n",
       "SMB  0.0537    0.108821      0.493472\n",
       "HML -0.1987    0.117754     -1.687412\n",
       "RMW  0.1078    0.073037      1.475957\n",
       "CMA -0.0977    0.076936     -1.269882\n",
       "UMD  0.3078    0.234594      1.312054"
      ]
     },
     "execution_count": 4,
     "metadata": {},
     "output_type": "execute_result"
    }
   ],
   "source": [
    "summaryStats(factors[:'1980'])"
   ]
  },
  {
   "cell_type": "markdown",
   "id": "e663ec19",
   "metadata": {},
   "source": [
    "#### 1981 - 2001"
   ]
  },
  {
   "cell_type": "code",
   "execution_count": 5,
   "id": "55a3de62",
   "metadata": {},
   "outputs": [
    {
     "data": {
      "text/html": [
       "<div>\n",
       "<style scoped>\n",
       "    .dataframe tbody tr th:only-of-type {\n",
       "        vertical-align: middle;\n",
       "    }\n",
       "\n",
       "    .dataframe tbody tr th {\n",
       "        vertical-align: top;\n",
       "    }\n",
       "\n",
       "    .dataframe thead th {\n",
       "        text-align: right;\n",
       "    }\n",
       "</style>\n",
       "<table border=\"1\" class=\"dataframe\">\n",
       "  <thead>\n",
       "    <tr style=\"text-align: right;\">\n",
       "      <th></th>\n",
       "      <th>Mean</th>\n",
       "      <th>Volatility</th>\n",
       "      <th>Sharpe Ratio</th>\n",
       "    </tr>\n",
       "  </thead>\n",
       "  <tbody>\n",
       "    <tr>\n",
       "      <th>MKT</th>\n",
       "      <td>0.077257</td>\n",
       "      <td>0.157396</td>\n",
       "      <td>0.490847</td>\n",
       "    </tr>\n",
       "    <tr>\n",
       "      <th>SMB</th>\n",
       "      <td>0.001433</td>\n",
       "      <td>0.109694</td>\n",
       "      <td>0.013067</td>\n",
       "    </tr>\n",
       "    <tr>\n",
       "      <th>HML</th>\n",
       "      <td>0.063729</td>\n",
       "      <td>0.111276</td>\n",
       "      <td>0.572706</td>\n",
       "    </tr>\n",
       "    <tr>\n",
       "      <th>RMW</th>\n",
       "      <td>0.046910</td>\n",
       "      <td>0.091743</td>\n",
       "      <td>0.511312</td>\n",
       "    </tr>\n",
       "    <tr>\n",
       "      <th>CMA</th>\n",
       "      <td>0.053114</td>\n",
       "      <td>0.077273</td>\n",
       "      <td>0.687356</td>\n",
       "    </tr>\n",
       "    <tr>\n",
       "      <th>UMD</th>\n",
       "      <td>0.101686</td>\n",
       "      <td>0.145105</td>\n",
       "      <td>0.700775</td>\n",
       "    </tr>\n",
       "  </tbody>\n",
       "</table>\n",
       "</div>"
      ],
      "text/plain": [
       "         Mean  Volatility  Sharpe Ratio\n",
       "MKT  0.077257    0.157396      0.490847\n",
       "SMB  0.001433    0.109694      0.013067\n",
       "HML  0.063729    0.111276      0.572706\n",
       "RMW  0.046910    0.091743      0.511312\n",
       "CMA  0.053114    0.077273      0.687356\n",
       "UMD  0.101686    0.145105      0.700775"
      ]
     },
     "execution_count": 5,
     "metadata": {},
     "output_type": "execute_result"
    }
   ],
   "source": [
    "summaryStats(factors['1981':'2001'])"
   ]
  },
  {
   "cell_type": "markdown",
   "id": "127afed1",
   "metadata": {},
   "source": [
    "#### 2002 - End"
   ]
  },
  {
   "cell_type": "code",
   "execution_count": 6,
   "id": "d1905226",
   "metadata": {},
   "outputs": [
    {
     "data": {
      "text/html": [
       "<div>\n",
       "<style scoped>\n",
       "    .dataframe tbody tr th:only-of-type {\n",
       "        vertical-align: middle;\n",
       "    }\n",
       "\n",
       "    .dataframe tbody tr th {\n",
       "        vertical-align: top;\n",
       "    }\n",
       "\n",
       "    .dataframe thead th {\n",
       "        text-align: right;\n",
       "    }\n",
       "</style>\n",
       "<table border=\"1\" class=\"dataframe\">\n",
       "  <thead>\n",
       "    <tr style=\"text-align: right;\">\n",
       "      <th></th>\n",
       "      <th>Mean</th>\n",
       "      <th>Volatility</th>\n",
       "      <th>Sharpe Ratio</th>\n",
       "    </tr>\n",
       "  </thead>\n",
       "  <tbody>\n",
       "    <tr>\n",
       "      <th>MKT</th>\n",
       "      <td>0.083289</td>\n",
       "      <td>0.153972</td>\n",
       "      <td>0.540933</td>\n",
       "    </tr>\n",
       "    <tr>\n",
       "      <th>SMB</th>\n",
       "      <td>0.021068</td>\n",
       "      <td>0.090137</td>\n",
       "      <td>0.233731</td>\n",
       "    </tr>\n",
       "    <tr>\n",
       "      <th>HML</th>\n",
       "      <td>0.001679</td>\n",
       "      <td>0.104507</td>\n",
       "      <td>0.016066</td>\n",
       "    </tr>\n",
       "    <tr>\n",
       "      <th>RMW</th>\n",
       "      <td>0.039702</td>\n",
       "      <td>0.074726</td>\n",
       "      <td>0.531296</td>\n",
       "    </tr>\n",
       "    <tr>\n",
       "      <th>CMA</th>\n",
       "      <td>0.019423</td>\n",
       "      <td>0.064240</td>\n",
       "      <td>0.302346</td>\n",
       "    </tr>\n",
       "    <tr>\n",
       "      <th>UMD</th>\n",
       "      <td>0.017032</td>\n",
       "      <td>0.158055</td>\n",
       "      <td>0.107762</td>\n",
       "    </tr>\n",
       "  </tbody>\n",
       "</table>\n",
       "</div>"
      ],
      "text/plain": [
       "         Mean  Volatility  Sharpe Ratio\n",
       "MKT  0.083289    0.153972      0.540933\n",
       "SMB  0.021068    0.090137      0.233731\n",
       "HML  0.001679    0.104507      0.016066\n",
       "RMW  0.039702    0.074726      0.531296\n",
       "CMA  0.019423    0.064240      0.302346\n",
       "UMD  0.017032    0.158055      0.107762"
      ]
     },
     "execution_count": 6,
     "metadata": {},
     "output_type": "execute_result"
    }
   ],
   "source": [
    "summaryStats(factors['2002':])"
   ]
  },
  {
   "cell_type": "markdown",
   "id": "711b3490",
   "metadata": {},
   "source": [
    "## 2.2\n",
    "### Based on the factor statistics above, answer the following. <br><br> (a) Does each factor have a positive risk premium (positive expected excess return)?"
   ]
  },
  {
   "cell_type": "markdown",
   "id": "dbbe20df",
   "metadata": {},
   "source": [
    "Since 1981, each factor displays a positive risk premium. Up to 1980, two factors (HML and CMA) had negative risk premia while the other factors had positive risk premia."
   ]
  },
  {
   "cell_type": "markdown",
   "id": "be29fb2e",
   "metadata": {},
   "source": [
    "### (b) How have the factors performed since the time of the case, (2015-present)?\n"
   ]
  },
  {
   "cell_type": "markdown",
   "id": "615239f8",
   "metadata": {},
   "source": [
    "Market factor (MKT) continues to be the dominant factor with highest annualized returns.  Profitability (RMW) is the next best factor generating healthy mean returns. Other factors have not performed so well but have all been positive. Value (HML) factor returns have been negligible. "
   ]
  },
  {
   "cell_type": "markdown",
   "id": "f1b42298",
   "metadata": {},
   "source": [
    "## 2.3\n",
    "### Report the correlation matrix across the six factors."
   ]
  },
  {
   "cell_type": "code",
   "execution_count": 7,
   "id": "2bfb615e",
   "metadata": {},
   "outputs": [
    {
     "data": {
      "text/plain": [
       "<AxesSubplot:>"
      ]
     },
     "execution_count": 7,
     "metadata": {},
     "output_type": "execute_result"
    },
    {
     "data": {
      "image/png": "[encoded data removed]",
      "text/plain": [
       "<Figure size 1080x432 with 2 Axes>"
      ]
     },
     "metadata": {
      "needs_background": "light"
     },
     "output_type": "display_data"
    }
   ],
   "source": [
    "corr = factors.corr()\n",
    "sns.heatmap(corr,annot=True)"
   ]
  },
  {
   "cell_type": "markdown",
   "id": "f08e30c5",
   "metadata": {},
   "source": [
    "### (a) Does the construction method succeed in keeping correlations small?"
   ]
  },
  {
   "cell_type": "markdown",
   "id": "16220751",
   "metadata": {},
   "source": [
    "In general, yes the construction method does succeed in keeping correlations small.\n",
    "\n",
    "Notably, the correlations between MKT (Market) and CMA (Investment) factors, HML (value) and UMD (Momentum) factors, and between SMB (size) and RMW (Profitability) factors has been negatve which looks attractive from a risk minimization perspective.\n",
    "\n",
    "The correlation between HML (value) and CMA (Investment) is quite high. CMA is part of Fama French's 5 factor model but not the 3 factor model."
   ]
  },
  {
   "cell_type": "markdown",
   "id": "57425a8d",
   "metadata": {},
   "source": [
    "### (b) Fama and French say that HML is somewhat redundant in their 5-factor model. Does this seem to be the case?"
   ]
  },
  {
   "cell_type": "markdown",
   "id": "39f87cd0",
   "metadata": {},
   "source": [
    "We note high correlation of HML with CMA and a moderate correlation of HML with RMW. This is despite a relatively low correlation between CMA and RMW. Thus we could suspect that HML is somewhat redundant in the 5 factor model."
   ]
  },
  {
   "cell_type": "markdown",
   "id": "42a0a51d",
   "metadata": {},
   "source": [
    "## 2.4\n",
    "### Report the tangency weights for a portfolio of these 6 factors."
   ]
  },
  {
   "cell_type": "code",
   "execution_count": 8,
   "id": "be512b04",
   "metadata": {},
   "outputs": [],
   "source": [
    "def computeTangencyPortfolio(df):\n",
    "    \"\"\" Assuming monthly input data and annualized outputs\"\"\"\n",
    "\n",
    "    mean = df.mean()*12\n",
    "    sigma = df.std() * np.sqrt(12)\n",
    "    cov = df.cov()*12\n",
    "    cov_inv = np.linalg.inv(cov)\n",
    "    \n",
    "    w_t = pd.Series(cov_inv@mean,index=mean.index,name=\"TangencyPortfolio\")\n",
    "    w_t = w_t/sum(w_t)\n",
    "    \n",
    "    tangencyMean = w_t@mean\n",
    "    tangencyVol = np.sqrt(w_t.T@cov@w_t)\n",
    "    tangencySharpe = tangencyMean/tangencyVol\n",
    "    \n",
    "    return w_t,tangencyMean,tangencyVol,tangencySharpe\n",
    "\n",
    "tangencyWt,tangencyMean,tangencyVol, tangencySharpe = computeTangencyPortfolio(factors)"
   ]
  },
  {
   "cell_type": "code",
   "execution_count": 9,
   "id": "3dc03118",
   "metadata": {},
   "outputs": [
    {
     "name": "stdout",
     "output_type": "stream",
     "text": [
      "Weights of Tangency Portfolio:\n"
     ]
    },
    {
     "data": {
      "text/html": [
       "<div>\n",
       "<style scoped>\n",
       "    .dataframe tbody tr th:only-of-type {\n",
       "        vertical-align: middle;\n",
       "    }\n",
       "\n",
       "    .dataframe tbody tr th {\n",
       "        vertical-align: top;\n",
       "    }\n",
       "\n",
       "    .dataframe thead th {\n",
       "        text-align: right;\n",
       "    }\n",
       "</style>\n",
       "<table border=\"1\" class=\"dataframe\">\n",
       "  <thead>\n",
       "    <tr style=\"text-align: right;\">\n",
       "      <th></th>\n",
       "      <th>Tangency Weights</th>\n",
       "    </tr>\n",
       "  </thead>\n",
       "  <tbody>\n",
       "    <tr>\n",
       "      <th>CMA</th>\n",
       "      <td>0.377449</td>\n",
       "    </tr>\n",
       "    <tr>\n",
       "      <th>RMW</th>\n",
       "      <td>0.288377</td>\n",
       "    </tr>\n",
       "    <tr>\n",
       "      <th>MKT</th>\n",
       "      <td>0.201062</td>\n",
       "    </tr>\n",
       "    <tr>\n",
       "      <th>UMD</th>\n",
       "      <td>0.098597</td>\n",
       "    </tr>\n",
       "    <tr>\n",
       "      <th>SMB</th>\n",
       "      <td>0.081551</td>\n",
       "    </tr>\n",
       "    <tr>\n",
       "      <th>HML</th>\n",
       "      <td>-0.047037</td>\n",
       "    </tr>\n",
       "  </tbody>\n",
       "</table>\n",
       "</div>"
      ],
      "text/plain": [
       "     Tangency Weights\n",
       "CMA          0.377449\n",
       "RMW          0.288377\n",
       "MKT          0.201062\n",
       "UMD          0.098597\n",
       "SMB          0.081551\n",
       "HML         -0.047037"
      ]
     },
     "execution_count": 9,
     "metadata": {},
     "output_type": "execute_result"
    }
   ],
   "source": [
    "print(\"Weights of Tangency Portfolio:\")\n",
    "tangencyWt.to_frame(\"Tangency Weights\").sort_values('Tangency Weights',ascending = False)"
   ]
  },
  {
   "cell_type": "markdown",
   "id": "534c6935",
   "metadata": {},
   "source": [
    "### (a) Which factors seem most important? And Least?\n",
    "\n",
    "CMA (Investment), RMW (Profitability) and MKT (Market Factors) are most important with more than 85% of the Tangency portfolio weights.\n",
    "\n",
    "HML (Value) is the least important with negative weight in the portfolio."
   ]
  },
  {
   "cell_type": "markdown",
   "id": "c7610118",
   "metadata": {},
   "source": [
    "### (b) Are the factors with low mean returns still useful?"
   ]
  },
  {
   "cell_type": "code",
   "execution_count": 10,
   "id": "c684d4c9",
   "metadata": {},
   "outputs": [
    {
     "data": {
      "text/html": [
       "<div>\n",
       "<style scoped>\n",
       "    .dataframe tbody tr th:only-of-type {\n",
       "        vertical-align: middle;\n",
       "    }\n",
       "\n",
       "    .dataframe tbody tr th {\n",
       "        vertical-align: top;\n",
       "    }\n",
       "\n",
       "    .dataframe thead th {\n",
       "        text-align: right;\n",
       "    }\n",
       "</style>\n",
       "<table border=\"1\" class=\"dataframe\">\n",
       "  <thead>\n",
       "    <tr style=\"text-align: right;\">\n",
       "      <th></th>\n",
       "      <th>Mean</th>\n",
       "      <th>TangencyPortfolio</th>\n",
       "    </tr>\n",
       "  </thead>\n",
       "  <tbody>\n",
       "    <tr>\n",
       "      <th>SMB</th>\n",
       "      <td>0.012169</td>\n",
       "      <td>0.081551</td>\n",
       "    </tr>\n",
       "    <tr>\n",
       "      <th>HML</th>\n",
       "      <td>0.027523</td>\n",
       "      <td>-0.047037</td>\n",
       "    </tr>\n",
       "    <tr>\n",
       "      <th>CMA</th>\n",
       "      <td>0.033260</td>\n",
       "      <td>0.377449</td>\n",
       "    </tr>\n",
       "    <tr>\n",
       "      <th>RMW</th>\n",
       "      <td>0.044845</td>\n",
       "      <td>0.288377</td>\n",
       "    </tr>\n",
       "    <tr>\n",
       "      <th>UMD</th>\n",
       "      <td>0.065513</td>\n",
       "      <td>0.098597</td>\n",
       "    </tr>\n",
       "    <tr>\n",
       "      <th>MKT</th>\n",
       "      <td>0.083123</td>\n",
       "      <td>0.201062</td>\n",
       "    </tr>\n",
       "  </tbody>\n",
       "</table>\n",
       "</div>"
      ],
      "text/plain": [
       "         Mean  TangencyPortfolio\n",
       "SMB  0.012169           0.081551\n",
       "HML  0.027523          -0.047037\n",
       "CMA  0.033260           0.377449\n",
       "RMW  0.044845           0.288377\n",
       "UMD  0.065513           0.098597\n",
       "MKT  0.083123           0.201062"
      ]
     },
     "execution_count": 10,
     "metadata": {},
     "output_type": "execute_result"
    }
   ],
   "source": [
    "pd.concat([summaryStats(factors)['Mean'],tangencyWt],axis =1).sort_values('Mean')"
   ]
  },
  {
   "cell_type": "markdown",
   "id": "cb1c3cb4",
   "metadata": {},
   "source": [
    "SMB and HML have low returns and low weights in the tangency portfolio. \n",
    "However, CMA and RMW with moderate returns the highest of the weights in the portfolio."
   ]
  },
  {
   "cell_type": "markdown",
   "id": "839d3ffc",
   "metadata": {},
   "source": [
    "### (c)\n",
    "#### Re-do the tangency portfolio, but this time only include MKT, SMB, HML, and UMD. Which factors get high/low tangency weights now?"
   ]
  },
  {
   "cell_type": "code",
   "execution_count": 11,
   "id": "31d315c9",
   "metadata": {},
   "outputs": [],
   "source": [
    "tangencyWt,tangencyMean,tangencyVol, tangencySharpe = computeTangencyPortfolio(factors[['MKT','SMB','HML','UMD']])"
   ]
  },
  {
   "cell_type": "code",
   "execution_count": 12,
   "id": "cce857f9",
   "metadata": {},
   "outputs": [
    {
     "name": "stdout",
     "output_type": "stream",
     "text": [
      "Weights of Tangency Portfolio:\n"
     ]
    },
    {
     "data": {
      "text/html": [
       "<div>\n",
       "<style scoped>\n",
       "    .dataframe tbody tr th:only-of-type {\n",
       "        vertical-align: middle;\n",
       "    }\n",
       "\n",
       "    .dataframe tbody tr th {\n",
       "        vertical-align: top;\n",
       "    }\n",
       "\n",
       "    .dataframe thead th {\n",
       "        text-align: right;\n",
       "    }\n",
       "</style>\n",
       "<table border=\"1\" class=\"dataframe\">\n",
       "  <thead>\n",
       "    <tr style=\"text-align: right;\">\n",
       "      <th></th>\n",
       "      <th>Tangency Weights</th>\n",
       "    </tr>\n",
       "  </thead>\n",
       "  <tbody>\n",
       "    <tr>\n",
       "      <th>HML</th>\n",
       "      <td>0.362221</td>\n",
       "    </tr>\n",
       "    <tr>\n",
       "      <th>MKT</th>\n",
       "      <td>0.331433</td>\n",
       "    </tr>\n",
       "    <tr>\n",
       "      <th>UMD</th>\n",
       "      <td>0.300295</td>\n",
       "    </tr>\n",
       "    <tr>\n",
       "      <th>SMB</th>\n",
       "      <td>0.006051</td>\n",
       "    </tr>\n",
       "  </tbody>\n",
       "</table>\n",
       "</div>"
      ],
      "text/plain": [
       "     Tangency Weights\n",
       "HML          0.362221\n",
       "MKT          0.331433\n",
       "UMD          0.300295\n",
       "SMB          0.006051"
      ]
     },
     "execution_count": 12,
     "metadata": {},
     "output_type": "execute_result"
    }
   ],
   "source": [
    "print(\"Weights of Tangency Portfolio:\")\n",
    "tangencyWt.to_frame(\"Tangency Weights\").sort_values('Tangency Weights',ascending = False)"
   ]
  },
  {
   "cell_type": "code",
   "execution_count": 13,
   "id": "c74d441d",
   "metadata": {},
   "outputs": [
    {
     "data": {
      "text/html": [
       "<div>\n",
       "<style scoped>\n",
       "    .dataframe tbody tr th:only-of-type {\n",
       "        vertical-align: middle;\n",
       "    }\n",
       "\n",
       "    .dataframe tbody tr th {\n",
       "        vertical-align: top;\n",
       "    }\n",
       "\n",
       "    .dataframe thead th {\n",
       "        text-align: right;\n",
       "    }\n",
       "</style>\n",
       "<table border=\"1\" class=\"dataframe\">\n",
       "  <thead>\n",
       "    <tr style=\"text-align: right;\">\n",
       "      <th></th>\n",
       "      <th>Mean</th>\n",
       "      <th>TangencyPortfolio</th>\n",
       "    </tr>\n",
       "  </thead>\n",
       "  <tbody>\n",
       "    <tr>\n",
       "      <th>SMB</th>\n",
       "      <td>0.012169</td>\n",
       "      <td>0.006051</td>\n",
       "    </tr>\n",
       "    <tr>\n",
       "      <th>HML</th>\n",
       "      <td>0.027523</td>\n",
       "      <td>0.362221</td>\n",
       "    </tr>\n",
       "    <tr>\n",
       "      <th>UMD</th>\n",
       "      <td>0.065513</td>\n",
       "      <td>0.300295</td>\n",
       "    </tr>\n",
       "    <tr>\n",
       "      <th>MKT</th>\n",
       "      <td>0.083123</td>\n",
       "      <td>0.331433</td>\n",
       "    </tr>\n",
       "  </tbody>\n",
       "</table>\n",
       "</div>"
      ],
      "text/plain": [
       "         Mean  TangencyPortfolio\n",
       "SMB  0.012169           0.006051\n",
       "HML  0.027523           0.362221\n",
       "UMD  0.065513           0.300295\n",
       "MKT  0.083123           0.331433"
      ]
     },
     "execution_count": 13,
     "metadata": {},
     "output_type": "execute_result"
    }
   ],
   "source": [
    "pd.concat([summaryStats(factors)['Mean'],tangencyWt],axis =1).dropna().sort_values('Mean')"
   ]
  },
  {
   "cell_type": "markdown",
   "id": "568ddb3c",
   "metadata": {},
   "source": [
    "Upon removing CMA and RMW, we notice that the factor weights for HML increased substantially dispite its low mean returns. "
   ]
  },
  {
   "cell_type": "markdown",
   "id": "84842c63",
   "metadata": {},
   "source": [
    "### What do you conclude about the importance or unimportance of these styles?\n",
    "\n",
    "We noted positive risk premium for each of the factors since 1981. The relative importance of the factors changes over time but the factors have in general maintained a positive return premium. The construction of the factors keeps the correlations among them genrally low. However, higher correlation among HML and CMA makes one of the factor somewhat redundant."
   ]
  },
  {
   "cell_type": "markdown",
   "id": "e8e11eb1",
   "metadata": {},
   "source": [
    "# 3 Testing Modern LPMs"
   ]
  },
  {
   "cell_type": "markdown",
   "id": "f4c156c0",
   "metadata": {},
   "source": [
    "## 1. Test the AQR 4-Factor Model using the time-series test. (We are not doing the cross-sectional regression tests.)"
   ]
  },
  {
   "cell_type": "code",
   "execution_count": 14,
   "id": "fefa1823",
   "metadata": {},
   "outputs": [],
   "source": [
    "portfolios = pd.read_excel('factor_pricing_data.xlsx',sheet_name='portfolios (excess returns)',index_col='Date')"
   ]
  },
  {
   "cell_type": "code",
   "execution_count": 15,
   "id": "e2cba0ca",
   "metadata": {},
   "outputs": [],
   "source": [
    "def linearRegression(seriesY,seriesX):\n",
    "    \n",
    "    mean =seriesY.mean()*12\n",
    "    sharpe = mean/(seriesY.std()*(12**0.5))\n",
    "    model = sm.OLS(seriesY,sm.add_constant(seriesX)).fit()\n",
    "    rsq = model.rsquared\n",
    "    \n",
    "    beta = pd.DataFrame(index= [seriesY.name])\n",
    "    \n",
    "    for i,x in enumerate(seriesX):\n",
    "         beta[x] = model.params[i+1]\n",
    "    \n",
    "    betaCols = [i+'Beta' for i in seriesX]\n",
    "    beta = beta.rename(columns = dict(zip(beta.columns,betaCols)))\n",
    "    \n",
    "    treynor = mean/beta[beta.columns[0]]\n",
    "    alpha = model.params[0]*12\n",
    "    information = alpha/(model.resid.std()*np.sqrt(12))\n",
    "    \n",
    "    RegressionStats = pd.DataFrame({'Mean Return':mean,'Sharpe Ratio':sharpe,'R Squared':rsq,\\\n",
    "                         'Alpha':alpha, 'Information Ratio':information, 'Treynor':treynor},index= [seriesY.name])\n",
    "    \n",
    "    return pd.concat([RegressionStats,beta], axis =1)"
   ]
  },
  {
   "cell_type": "markdown",
   "id": "dcc5cb83",
   "metadata": {},
   "source": [
    "## 3.1 AQR 4-factor model"
   ]
  },
  {
   "cell_type": "code",
   "execution_count": 16,
   "id": "49af20cd",
   "metadata": {},
   "outputs": [],
   "source": [
    "aqr = factors[['MKT', 'HML', 'RMW', 'UMD']]"
   ]
  },
  {
   "cell_type": "markdown",
   "id": "01293dd9",
   "metadata": {},
   "source": [
    "### (a) For each regression, report the estimated α and r-squared."
   ]
  },
  {
   "cell_type": "code",
   "execution_count": 17,
   "id": "55ed2212",
   "metadata": {},
   "outputs": [
    {
     "data": {
      "text/html": [
       "<div>\n",
       "<style scoped>\n",
       "    .dataframe tbody tr th:only-of-type {\n",
       "        vertical-align: middle;\n",
       "    }\n",
       "\n",
       "    .dataframe tbody tr th {\n",
       "        vertical-align: top;\n",
       "    }\n",
       "\n",
       "    .dataframe thead th {\n",
       "        text-align: right;\n",
       "    }\n",
       "</style>\n",
       "<table border=\"1\" class=\"dataframe\">\n",
       "  <thead>\n",
       "    <tr style=\"text-align: right;\">\n",
       "      <th></th>\n",
       "      <th>Agric</th>\n",
       "      <th>Food</th>\n",
       "      <th>Soda</th>\n",
       "      <th>Beer</th>\n",
       "      <th>Smoke</th>\n",
       "      <th>Toys</th>\n",
       "      <th>Fun</th>\n",
       "      <th>Books</th>\n",
       "      <th>Hshld</th>\n",
       "      <th>Clths</th>\n",
       "      <th>...</th>\n",
       "      <th>Boxes</th>\n",
       "      <th>Trans</th>\n",
       "      <th>Whlsl</th>\n",
       "      <th>Rtail</th>\n",
       "      <th>Meals</th>\n",
       "      <th>Banks</th>\n",
       "      <th>Insur</th>\n",
       "      <th>RlEst</th>\n",
       "      <th>Fin</th>\n",
       "      <th>Other</th>\n",
       "    </tr>\n",
       "  </thead>\n",
       "  <tbody>\n",
       "    <tr>\n",
       "      <th>Mean Return</th>\n",
       "      <td>0.092855</td>\n",
       "      <td>0.102267</td>\n",
       "      <td>0.110805</td>\n",
       "      <td>0.119684</td>\n",
       "      <td>0.132612</td>\n",
       "      <td>0.065130</td>\n",
       "      <td>0.111820</td>\n",
       "      <td>0.073202</td>\n",
       "      <td>0.082650</td>\n",
       "      <td>0.101620</td>\n",
       "      <td>...</td>\n",
       "      <td>0.093909</td>\n",
       "      <td>0.088495</td>\n",
       "      <td>0.083391</td>\n",
       "      <td>0.111579</td>\n",
       "      <td>0.100580</td>\n",
       "      <td>0.090851</td>\n",
       "      <td>0.097554</td>\n",
       "      <td>0.046793</td>\n",
       "      <td>0.109896</td>\n",
       "      <td>0.047960</td>\n",
       "    </tr>\n",
       "    <tr>\n",
       "      <th>Sharpe Ratio</th>\n",
       "      <td>0.429031</td>\n",
       "      <td>0.678847</td>\n",
       "      <td>0.502660</td>\n",
       "      <td>0.702567</td>\n",
       "      <td>0.592540</td>\n",
       "      <td>0.262814</td>\n",
       "      <td>0.429670</td>\n",
       "      <td>0.357755</td>\n",
       "      <td>0.542156</td>\n",
       "      <td>0.458644</td>\n",
       "      <td>...</td>\n",
       "      <td>0.474825</td>\n",
       "      <td>0.451369</td>\n",
       "      <td>0.464848</td>\n",
       "      <td>0.596237</td>\n",
       "      <td>0.554224</td>\n",
       "      <td>0.428054</td>\n",
       "      <td>0.535386</td>\n",
       "      <td>0.187397</td>\n",
       "      <td>0.494363</td>\n",
       "      <td>0.218043</td>\n",
       "    </tr>\n",
       "    <tr>\n",
       "      <th>R Squared</th>\n",
       "      <td>0.330166</td>\n",
       "      <td>0.468121</td>\n",
       "      <td>0.309781</td>\n",
       "      <td>0.424796</td>\n",
       "      <td>0.257474</td>\n",
       "      <td>0.503276</td>\n",
       "      <td>0.615578</td>\n",
       "      <td>0.688613</td>\n",
       "      <td>0.568142</td>\n",
       "      <td>0.618474</td>\n",
       "      <td>...</td>\n",
       "      <td>0.576622</td>\n",
       "      <td>0.697906</td>\n",
       "      <td>0.752236</td>\n",
       "      <td>0.683078</td>\n",
       "      <td>0.639291</td>\n",
       "      <td>0.769269</td>\n",
       "      <td>0.688400</td>\n",
       "      <td>0.599222</td>\n",
       "      <td>0.813069</td>\n",
       "      <td>0.605280</td>\n",
       "    </tr>\n",
       "    <tr>\n",
       "      <th>Alpha</th>\n",
       "      <td>0.015617</td>\n",
       "      <td>0.015205</td>\n",
       "      <td>0.023801</td>\n",
       "      <td>0.026757</td>\n",
       "      <td>0.039908</td>\n",
       "      <td>-0.027704</td>\n",
       "      <td>0.027091</td>\n",
       "      <td>-0.029218</td>\n",
       "      <td>-0.000890</td>\n",
       "      <td>-0.001364</td>\n",
       "      <td>...</td>\n",
       "      <td>0.006617</td>\n",
       "      <td>-0.016657</td>\n",
       "      <td>-0.013198</td>\n",
       "      <td>0.019410</td>\n",
       "      <td>0.001084</td>\n",
       "      <td>-0.020959</td>\n",
       "      <td>-0.005893</td>\n",
       "      <td>-0.057630</td>\n",
       "      <td>0.020535</td>\n",
       "      <td>-0.050578</td>\n",
       "    </tr>\n",
       "    <tr>\n",
       "      <th>Information Ratio</th>\n",
       "      <td>0.088166</td>\n",
       "      <td>0.138390</td>\n",
       "      <td>0.129964</td>\n",
       "      <td>0.207100</td>\n",
       "      <td>0.206939</td>\n",
       "      <td>-0.158619</td>\n",
       "      <td>0.167892</td>\n",
       "      <td>-0.255891</td>\n",
       "      <td>-0.008886</td>\n",
       "      <td>-0.009968</td>\n",
       "      <td>...</td>\n",
       "      <td>0.051417</td>\n",
       "      <td>-0.154571</td>\n",
       "      <td>-0.147801</td>\n",
       "      <td>0.184239</td>\n",
       "      <td>0.009948</td>\n",
       "      <td>-0.205580</td>\n",
       "      <td>-0.057937</td>\n",
       "      <td>-0.364571</td>\n",
       "      <td>0.213658</td>\n",
       "      <td>-0.365995</td>\n",
       "    </tr>\n",
       "    <tr>\n",
       "      <th>Treynor</th>\n",
       "      <td>0.113107</td>\n",
       "      <td>0.149813</td>\n",
       "      <td>0.140064</td>\n",
       "      <td>0.164574</td>\n",
       "      <td>0.183493</td>\n",
       "      <td>0.058617</td>\n",
       "      <td>0.090303</td>\n",
       "      <td>0.066017</td>\n",
       "      <td>0.109486</td>\n",
       "      <td>0.092490</td>\n",
       "      <td>...</td>\n",
       "      <td>0.096956</td>\n",
       "      <td>0.082252</td>\n",
       "      <td>0.081268</td>\n",
       "      <td>0.112589</td>\n",
       "      <td>0.105663</td>\n",
       "      <td>0.078279</td>\n",
       "      <td>0.098450</td>\n",
       "      <td>0.038696</td>\n",
       "      <td>0.089186</td>\n",
       "      <td>0.043080</td>\n",
       "    </tr>\n",
       "    <tr>\n",
       "      <th>MKTBeta</th>\n",
       "      <td>0.820943</td>\n",
       "      <td>0.682631</td>\n",
       "      <td>0.791106</td>\n",
       "      <td>0.727232</td>\n",
       "      <td>0.722708</td>\n",
       "      <td>1.111128</td>\n",
       "      <td>1.238281</td>\n",
       "      <td>1.108846</td>\n",
       "      <td>0.754888</td>\n",
       "      <td>1.098715</td>\n",
       "      <td>...</td>\n",
       "      <td>0.968576</td>\n",
       "      <td>1.075905</td>\n",
       "      <td>1.026113</td>\n",
       "      <td>0.991030</td>\n",
       "      <td>0.951890</td>\n",
       "      <td>1.160609</td>\n",
       "      <td>0.990894</td>\n",
       "      <td>1.209244</td>\n",
       "      <td>1.232212</td>\n",
       "      <td>1.113274</td>\n",
       "    </tr>\n",
       "    <tr>\n",
       "      <th>HMLBeta</th>\n",
       "      <td>0.155745</td>\n",
       "      <td>0.163392</td>\n",
       "      <td>0.207350</td>\n",
       "      <td>0.012689</td>\n",
       "      <td>0.211976</td>\n",
       "      <td>-0.053864</td>\n",
       "      <td>0.002059</td>\n",
       "      <td>0.270452</td>\n",
       "      <td>-0.014491</td>\n",
       "      <td>0.010749</td>\n",
       "      <td>...</td>\n",
       "      <td>0.103197</td>\n",
       "      <td>0.181693</td>\n",
       "      <td>0.095363</td>\n",
       "      <td>-0.127435</td>\n",
       "      <td>0.083356</td>\n",
       "      <td>0.693341</td>\n",
       "      <td>0.463319</td>\n",
       "      <td>0.497448</td>\n",
       "      <td>0.296410</td>\n",
       "      <td>0.148359</td>\n",
       "    </tr>\n",
       "    <tr>\n",
       "      <th>RMWBeta</th>\n",
       "      <td>-0.022301</td>\n",
       "      <td>0.525506</td>\n",
       "      <td>0.488692</td>\n",
       "      <td>0.604952</td>\n",
       "      <td>0.656358</td>\n",
       "      <td>0.243604</td>\n",
       "      <td>-0.111293</td>\n",
       "      <td>0.168472</td>\n",
       "      <td>0.469358</td>\n",
       "      <td>0.559958</td>\n",
       "      <td>...</td>\n",
       "      <td>0.253809</td>\n",
       "      <td>0.354797</td>\n",
       "      <td>0.183310</td>\n",
       "      <td>0.363296</td>\n",
       "      <td>0.499440</td>\n",
       "      <td>0.116431</td>\n",
       "      <td>0.234333</td>\n",
       "      <td>0.056072</td>\n",
       "      <td>-0.400307</td>\n",
       "      <td>0.110281</td>\n",
       "    </tr>\n",
       "    <tr>\n",
       "      <th>UMDBeta</th>\n",
       "      <td>0.087183</td>\n",
       "      <td>0.034443</td>\n",
       "      <td>-0.097353</td>\n",
       "      <td>0.076292</td>\n",
       "      <td>-0.040284</td>\n",
       "      <td>-0.136889</td>\n",
       "      <td>-0.202500</td>\n",
       "      <td>-0.072504</td>\n",
       "      <td>0.002162</td>\n",
       "      <td>-0.209911</td>\n",
       "      <td>...</td>\n",
       "      <td>-0.113583</td>\n",
       "      <td>-0.079262</td>\n",
       "      <td>0.006857</td>\n",
       "      <td>-0.045692</td>\n",
       "      <td>-0.065952</td>\n",
       "      <td>-0.136895</td>\n",
       "      <td>-0.033280</td>\n",
       "      <td>-0.187733</td>\n",
       "      <td>-0.049926</td>\n",
       "      <td>-0.046254</td>\n",
       "    </tr>\n",
       "  </tbody>\n",
       "</table>\n",
       "<p>10 rows × 49 columns</p>\n",
       "</div>"
      ],
      "text/plain": [
       "                      Agric     Food      Soda      Beer      Smoke     Toys   \\\n",
       "Mean Return        0.092855  0.102267  0.110805  0.119684  0.132612  0.065130   \n",
       "Sharpe Ratio       0.429031  0.678847  0.502660  0.702567  0.592540  0.262814   \n",
       "R Squared          0.330166  0.468121  0.309781  0.424796  0.257474  0.503276   \n",
       "Alpha              0.015617  0.015205  0.023801  0.026757  0.039908 -0.027704   \n",
       "Information Ratio  0.088166  0.138390  0.129964  0.207100  0.206939 -0.158619   \n",
       "Treynor            0.113107  0.149813  0.140064  0.164574  0.183493  0.058617   \n",
       "MKTBeta            0.820943  0.682631  0.791106  0.727232  0.722708  1.111128   \n",
       "HMLBeta            0.155745  0.163392  0.207350  0.012689  0.211976 -0.053864   \n",
       "RMWBeta           -0.022301  0.525506  0.488692  0.604952  0.656358  0.243604   \n",
       "UMDBeta            0.087183  0.034443 -0.097353  0.076292 -0.040284 -0.136889   \n",
       "\n",
       "                      Fun       Books     Hshld     Clths  ...     Boxes  \\\n",
       "Mean Return        0.111820  0.073202  0.082650  0.101620  ...  0.093909   \n",
       "Sharpe Ratio       0.429670  0.357755  0.542156  0.458644  ...  0.474825   \n",
       "R Squared          0.615578  0.688613  0.568142  0.618474  ...  0.576622   \n",
       "Alpha              0.027091 -0.029218 -0.000890 -0.001364  ...  0.006617   \n",
       "Information Ratio  0.167892 -0.255891 -0.008886 -0.009968  ...  0.051417   \n",
       "Treynor            0.090303  0.066017  0.109486  0.092490  ...  0.096956   \n",
       "MKTBeta            1.238281  1.108846  0.754888  1.098715  ...  0.968576   \n",
       "HMLBeta            0.002059  0.270452 -0.014491  0.010749  ...  0.103197   \n",
       "RMWBeta           -0.111293  0.168472  0.469358  0.559958  ...  0.253809   \n",
       "UMDBeta           -0.202500 -0.072504  0.002162 -0.209911  ... -0.113583   \n",
       "\n",
       "                      Trans     Whlsl     Rtail     Meals     Banks     Insur  \\\n",
       "Mean Return        0.088495  0.083391  0.111579  0.100580  0.090851  0.097554   \n",
       "Sharpe Ratio       0.451369  0.464848  0.596237  0.554224  0.428054  0.535386   \n",
       "R Squared          0.697906  0.752236  0.683078  0.639291  0.769269  0.688400   \n",
       "Alpha             -0.016657 -0.013198  0.019410  0.001084 -0.020959 -0.005893   \n",
       "Information Ratio -0.154571 -0.147801  0.184239  0.009948 -0.205580 -0.057937   \n",
       "Treynor            0.082252  0.081268  0.112589  0.105663  0.078279  0.098450   \n",
       "MKTBeta            1.075905  1.026113  0.991030  0.951890  1.160609  0.990894   \n",
       "HMLBeta            0.181693  0.095363 -0.127435  0.083356  0.693341  0.463319   \n",
       "RMWBeta            0.354797  0.183310  0.363296  0.499440  0.116431  0.234333   \n",
       "UMDBeta           -0.079262  0.006857 -0.045692 -0.065952 -0.136895 -0.033280   \n",
       "\n",
       "                      RlEst     Fin       Other  \n",
       "Mean Return        0.046793  0.109896  0.047960  \n",
       "Sharpe Ratio       0.187397  0.494363  0.218043  \n",
       "R Squared          0.599222  0.813069  0.605280  \n",
       "Alpha             -0.057630  0.020535 -0.050578  \n",
       "Information Ratio -0.364571  0.213658 -0.365995  \n",
       "Treynor            0.038696  0.089186  0.043080  \n",
       "MKTBeta            1.209244  1.232212  1.113274  \n",
       "HMLBeta            0.497448  0.296410  0.148359  \n",
       "RMWBeta            0.056072 -0.400307  0.110281  \n",
       "UMDBeta           -0.187733 -0.049926 -0.046254  \n",
       "\n",
       "[10 rows x 49 columns]"
      ]
     },
     "execution_count": 17,
     "metadata": {},
     "output_type": "execute_result"
    }
   ],
   "source": [
    "frames = []\n",
    "for col in portfolios:\n",
    "    p = linearRegression(portfolios[col],aqr)\n",
    "    frames.append(p) \n",
    "AQRRegression = pd.concat(frames)\n",
    "AQRRegression.T"
   ]
  },
  {
   "cell_type": "markdown",
   "id": "3330b3a8",
   "metadata": {},
   "source": [
    "### Calculate the mean-absolute-error of the estimated alphas, (one for each security, ˜ri.)"
   ]
  },
  {
   "cell_type": "code",
   "execution_count": 18,
   "id": "ded0e208",
   "metadata": {},
   "outputs": [
    {
     "name": "stdout",
     "output_type": "stream",
     "text": [
      "Mean Absolute Error for AQR factors: 0.02347\n"
     ]
    }
   ],
   "source": [
    "AQR_MAE = round(abs(AQRRegression['Alpha']).mean(),6)\n",
    "print(f'Mean Absolute Error for AQR factors: {AQR_MAE}')"
   ]
  },
  {
   "cell_type": "markdown",
   "id": "18b734e4",
   "metadata": {},
   "source": [
    "### If the pricing model worked, should these alpha estimates be large or small? Why? Based on your MAE stat, does this seem to support the pricing model or not?"
   ]
  },
  {
   "cell_type": "markdown",
   "id": "cafec6bb",
   "metadata": {},
   "source": [
    "If the pricing model worked, the alpha estimate should be very small, close to zero. This is because we would assume that the factors would be sufficient to explain most of the variation in excess portfolio return.\n",
    "\n",
    "We observe an MAE stat of 2.37% which might be considered relatively small as compared to the actual portfolio returns in the period. Thus the factors have explained most part of the returns and support the pricing model."
   ]
  },
  {
   "cell_type": "markdown",
   "id": "0a5bbc26",
   "metadata": {},
   "source": [
    "## 3.2\n",
    "### Test the CAPM, FF 3-Factor Model and the the FF 5-Factor Model. Report the MAE statistic for each of these models and compare it with the AQR Model MAE. Which model fits best?"
   ]
  },
  {
   "cell_type": "code",
   "execution_count": 19,
   "id": "2e936af8",
   "metadata": {},
   "outputs": [],
   "source": [
    "ff3 = factors[['MKT', 'SMB', 'HML']]\n",
    "\n",
    "frames = []\n",
    "for col in portfolios:\n",
    "    p = linearRegression(portfolios[col],ff3)\n",
    "    frames.append(p) \n",
    "FF3Regression = pd.concat(frames)"
   ]
  },
  {
   "cell_type": "code",
   "execution_count": 20,
   "id": "67ae3849",
   "metadata": {},
   "outputs": [
    {
     "name": "stdout",
     "output_type": "stream",
     "text": [
      "Mean Absolute Error for FF-3 Factor Model: 0.025355\n"
     ]
    }
   ],
   "source": [
    "FF3_MAE = round(abs(FF3Regression['Alpha']).mean(),6)\n",
    "print(f'Mean Absolute Error for FF-3 Factor Model: {FF3_MAE}')"
   ]
  },
  {
   "cell_type": "code",
   "execution_count": 21,
   "id": "72c97dc2",
   "metadata": {},
   "outputs": [],
   "source": [
    "ff5 = factors[['MKT', 'SMB', 'HML', 'RMW', 'CMA']]\n",
    "frames = []\n",
    "for col in portfolios:\n",
    "    p = linearRegression(portfolios[col],ff5)\n",
    "    frames.append(p) \n",
    "FF5Regression = pd.concat(frames)\n",
    "FF5_MAE = abs(FF3Regression['Alpha']).mean()"
   ]
  },
  {
   "cell_type": "code",
   "execution_count": 22,
   "id": "f41fde33",
   "metadata": {},
   "outputs": [
    {
     "name": "stdout",
     "output_type": "stream",
     "text": [
      "Mean Absolute Error for FF-5 Factor Model: 0.032525\n"
     ]
    }
   ],
   "source": [
    "FF5_MAE = round(abs(FF5Regression['Alpha']).mean(),6)\n",
    "print(f'Mean Absolute Error for FF-5 Factor Model: {FF5_MAE}')"
   ]
  },
  {
   "cell_type": "code",
   "execution_count": 23,
   "id": "1acf6746",
   "metadata": {},
   "outputs": [
    {
     "data": {
      "text/html": [
       "<div>\n",
       "<style scoped>\n",
       "    .dataframe tbody tr th:only-of-type {\n",
       "        vertical-align: middle;\n",
       "    }\n",
       "\n",
       "    .dataframe tbody tr th {\n",
       "        vertical-align: top;\n",
       "    }\n",
       "\n",
       "    .dataframe thead th {\n",
       "        text-align: right;\n",
       "    }\n",
       "</style>\n",
       "<table border=\"1\" class=\"dataframe\">\n",
       "  <thead>\n",
       "    <tr style=\"text-align: right;\">\n",
       "      <th></th>\n",
       "      <th>MAE</th>\n",
       "    </tr>\n",
       "  </thead>\n",
       "  <tbody>\n",
       "    <tr>\n",
       "      <th>AQR</th>\n",
       "      <td>0.023470</td>\n",
       "    </tr>\n",
       "    <tr>\n",
       "      <th>FF-3</th>\n",
       "      <td>0.025355</td>\n",
       "    </tr>\n",
       "    <tr>\n",
       "      <th>FF-5</th>\n",
       "      <td>0.032525</td>\n",
       "    </tr>\n",
       "  </tbody>\n",
       "</table>\n",
       "</div>"
      ],
      "text/plain": [
       "           MAE\n",
       "AQR   0.023470\n",
       "FF-3  0.025355\n",
       "FF-5  0.032525"
      ]
     },
     "execution_count": 23,
     "metadata": {},
     "output_type": "execute_result"
    }
   ],
   "source": [
    "MAE_TS = pd.DataFrame({'MAE':[AQR_MAE,FF3_MAE,FF5_MAE]}, index = [\"AQR\",\"FF-3\",\"FF-5\"])\n",
    "MAE_TS"
   ]
  },
  {
   "cell_type": "markdown",
   "id": "c1824c32",
   "metadata": {},
   "source": [
    "We note that that the AQR Factor model fits the best with the smallest MAE."
   ]
  },
  {
   "cell_type": "markdown",
   "id": "3473e946",
   "metadata": {},
   "source": [
    "## 3.3\n",
    "### Does any particular factor seem especially important or unimportant for pricing? Do you think Fama and French should use the Momentum Factor?"
   ]
  },
  {
   "cell_type": "markdown",
   "id": "6ff79f3d",
   "metadata": {},
   "source": [
    "We again note that the MAE worsens by including additional factors in the FF-5 factor model as compared to the FF-3 factor model. This again points us back to the probability that HML is not an especially important factor, especially CMA is included as a factor.\n",
    "\n",
    "UMD (Momentum) seems to be an especially important factor and that could further be seen from low MAE of AQR Factors. Therefore, \n",
    "it seems Fama and French should use the Momentum Factor."
   ]
  },
  {
   "cell_type": "markdown",
   "id": "5044036d",
   "metadata": {},
   "source": [
    "## 3.4\n",
    "### This does not matter for pricing, but report the average (across n estimations) of the time-series regression r-squared statistics. Do this for each of the three models you tested. Do these models lead to high time-series r-squared stats? That is, would these factors be good in a Linear Factor Decomposition of the assets?\n"
   ]
  },
  {
   "cell_type": "code",
   "execution_count": 24,
   "id": "9b82371a",
   "metadata": {},
   "outputs": [],
   "source": [
    "AQR_RSq = AQRRegression['R Squared'].mean()\n",
    "FF3_RSq = FF3Regression['R Squared'].mean()\n",
    "FF5_RSq = FF5Regression['R Squared'].mean()"
   ]
  },
  {
   "cell_type": "code",
   "execution_count": 25,
   "id": "a997a704",
   "metadata": {},
   "outputs": [
    {
     "data": {
      "text/html": [
       "<div>\n",
       "<style scoped>\n",
       "    .dataframe tbody tr th:only-of-type {\n",
       "        vertical-align: middle;\n",
       "    }\n",
       "\n",
       "    .dataframe tbody tr th {\n",
       "        vertical-align: top;\n",
       "    }\n",
       "\n",
       "    .dataframe thead th {\n",
       "        text-align: right;\n",
       "    }\n",
       "</style>\n",
       "<table border=\"1\" class=\"dataframe\">\n",
       "  <thead>\n",
       "    <tr style=\"text-align: right;\">\n",
       "      <th></th>\n",
       "      <th>Average R Squared</th>\n",
       "    </tr>\n",
       "  </thead>\n",
       "  <tbody>\n",
       "    <tr>\n",
       "      <th>AQR</th>\n",
       "      <td>0.575712</td>\n",
       "    </tr>\n",
       "    <tr>\n",
       "      <th>FF3</th>\n",
       "      <td>0.571061</td>\n",
       "    </tr>\n",
       "    <tr>\n",
       "      <th>FF5</th>\n",
       "      <td>0.596360</td>\n",
       "    </tr>\n",
       "  </tbody>\n",
       "</table>\n",
       "</div>"
      ],
      "text/plain": [
       "     Average R Squared\n",
       "AQR           0.575712\n",
       "FF3           0.571061\n",
       "FF5           0.596360"
      ]
     },
     "execution_count": 25,
     "metadata": {},
     "output_type": "execute_result"
    }
   ],
   "source": [
    "Average_R_Squared = pd.Series({'AQR':AQR_RSq,'FF3':FF3_RSq,'FF5':FF5_RSq})\n",
    "Average_R_Squared.to_frame(\"Average R Squared\")"
   ]
  },
  {
   "cell_type": "markdown",
   "id": "7d648e23",
   "metadata": {},
   "source": [
    "We observe similar R squared for all three models in 57% to 60% range. This indicates moderately low explainability of excess returns by decomposition on different factor models. Thus the factors may not be considered good in a Linear Factor Decomposition of the assets."
   ]
  },
  {
   "cell_type": "markdown",
   "id": "15210b54",
   "metadata": {},
   "source": [
    "## 3.5\n",
    "### We tested three models using the time-series tests (focusing on the time-series alphas.) Re-test these models, but this time use the cross-sectional test."
   ]
  },
  {
   "cell_type": "code",
   "execution_count": 26,
   "id": "79e0a67a",
   "metadata": {},
   "outputs": [
    {
     "data": {
      "text/html": [
       "<div>\n",
       "<style scoped>\n",
       "    .dataframe tbody tr th:only-of-type {\n",
       "        vertical-align: middle;\n",
       "    }\n",
       "\n",
       "    .dataframe tbody tr th {\n",
       "        vertical-align: top;\n",
       "    }\n",
       "\n",
       "    .dataframe thead th {\n",
       "        text-align: right;\n",
       "    }\n",
       "</style>\n",
       "<table border=\"1\" class=\"dataframe\">\n",
       "  <thead>\n",
       "    <tr style=\"text-align: right;\">\n",
       "      <th></th>\n",
       "      <th>Time Series Premia</th>\n",
       "    </tr>\n",
       "  </thead>\n",
       "  <tbody>\n",
       "    <tr>\n",
       "      <th>MKTBeta</th>\n",
       "      <td>0.083123</td>\n",
       "    </tr>\n",
       "    <tr>\n",
       "      <th>SMBBeta</th>\n",
       "      <td>0.012169</td>\n",
       "    </tr>\n",
       "    <tr>\n",
       "      <th>HMLBeta</th>\n",
       "      <td>0.027523</td>\n",
       "    </tr>\n",
       "    <tr>\n",
       "      <th>RMWBeta</th>\n",
       "      <td>0.044845</td>\n",
       "    </tr>\n",
       "    <tr>\n",
       "      <th>CMABeta</th>\n",
       "      <td>0.033260</td>\n",
       "    </tr>\n",
       "    <tr>\n",
       "      <th>UMDBeta</th>\n",
       "      <td>0.065513</td>\n",
       "    </tr>\n",
       "  </tbody>\n",
       "</table>\n",
       "</div>"
      ],
      "text/plain": [
       "         Time Series Premia\n",
       "MKTBeta            0.083123\n",
       "SMBBeta            0.012169\n",
       "HMLBeta            0.027523\n",
       "RMWBeta            0.044845\n",
       "CMABeta            0.033260\n",
       "UMDBeta            0.065513"
      ]
     },
     "execution_count": 26,
     "metadata": {},
     "output_type": "execute_result"
    }
   ],
   "source": [
    "time_series_premia = (factors.mean()*12).to_frame('Time Series Premia')\n",
    "time_series_premia.index = [x+\"Beta\" for x in time_series_premia.index]\n",
    "time_series_premia"
   ]
  },
  {
   "cell_type": "markdown",
   "id": "34e8b489",
   "metadata": {},
   "source": [
    "#### AQR Model"
   ]
  },
  {
   "cell_type": "code",
   "execution_count": 27,
   "id": "c7d055a2",
   "metadata": {},
   "outputs": [
    {
     "data": {
      "text/html": [
       "<div>\n",
       "<style scoped>\n",
       "    .dataframe tbody tr th:only-of-type {\n",
       "        vertical-align: middle;\n",
       "    }\n",
       "\n",
       "    .dataframe tbody tr th {\n",
       "        vertical-align: top;\n",
       "    }\n",
       "\n",
       "    .dataframe thead th {\n",
       "        text-align: right;\n",
       "    }\n",
       "</style>\n",
       "<table border=\"1\" class=\"dataframe\">\n",
       "  <thead>\n",
       "    <tr style=\"text-align: right;\">\n",
       "      <th></th>\n",
       "      <th>AQR CS Premia</th>\n",
       "    </tr>\n",
       "  </thead>\n",
       "  <tbody>\n",
       "    <tr>\n",
       "      <th>MKTBeta</th>\n",
       "      <td>0.086563</td>\n",
       "    </tr>\n",
       "    <tr>\n",
       "      <th>HMLBeta</th>\n",
       "      <td>-0.040885</td>\n",
       "    </tr>\n",
       "    <tr>\n",
       "      <th>RMWBeta</th>\n",
       "      <td>0.045500</td>\n",
       "    </tr>\n",
       "    <tr>\n",
       "      <th>UMDBeta</th>\n",
       "      <td>0.055284</td>\n",
       "    </tr>\n",
       "  </tbody>\n",
       "</table>\n",
       "</div>"
      ],
      "text/plain": [
       "         AQR CS Premia\n",
       "MKTBeta       0.086563\n",
       "HMLBeta      -0.040885\n",
       "RMWBeta       0.045500\n",
       "UMDBeta       0.055284"
      ]
     },
     "execution_count": 27,
     "metadata": {},
     "output_type": "execute_result"
    }
   ],
   "source": [
    "y = AQRRegression['Mean Return']\n",
    "x = AQRRegression[['MKTBeta','HMLBeta','RMWBeta','UMDBeta']]\n",
    "AQRRegressionCS = sm.OLS(y,x,missing='drop').fit()\n",
    "AQR_CS_MAE = abs(AQRRegressionCS.resid).mean()\n",
    "AQR_CS_premia = AQRRegressionCS.params.to_frame(\"AQR CS Premia\")\n",
    "AQR_CS_premia"
   ]
  },
  {
   "cell_type": "markdown",
   "id": "fd88d4b2",
   "metadata": {},
   "source": [
    "#### Fama French 3 Model"
   ]
  },
  {
   "cell_type": "code",
   "execution_count": 28,
   "id": "fe5d4f71",
   "metadata": {},
   "outputs": [
    {
     "data": {
      "text/html": [
       "<div>\n",
       "<style scoped>\n",
       "    .dataframe tbody tr th:only-of-type {\n",
       "        vertical-align: middle;\n",
       "    }\n",
       "\n",
       "    .dataframe tbody tr th {\n",
       "        vertical-align: top;\n",
       "    }\n",
       "\n",
       "    .dataframe thead th {\n",
       "        text-align: right;\n",
       "    }\n",
       "</style>\n",
       "<table border=\"1\" class=\"dataframe\">\n",
       "  <thead>\n",
       "    <tr style=\"text-align: right;\">\n",
       "      <th></th>\n",
       "      <th>FF3 CS Premia</th>\n",
       "    </tr>\n",
       "  </thead>\n",
       "  <tbody>\n",
       "    <tr>\n",
       "      <th>MKTBeta</th>\n",
       "      <td>0.101003</td>\n",
       "    </tr>\n",
       "    <tr>\n",
       "      <th>SMBBeta</th>\n",
       "      <td>-0.065920</td>\n",
       "    </tr>\n",
       "    <tr>\n",
       "      <th>HMLBeta</th>\n",
       "      <td>-0.017297</td>\n",
       "    </tr>\n",
       "  </tbody>\n",
       "</table>\n",
       "</div>"
      ],
      "text/plain": [
       "         FF3 CS Premia\n",
       "MKTBeta       0.101003\n",
       "SMBBeta      -0.065920\n",
       "HMLBeta      -0.017297"
      ]
     },
     "execution_count": 28,
     "metadata": {},
     "output_type": "execute_result"
    }
   ],
   "source": [
    "y = FF3Regression['Mean Return']\n",
    "x = FF3Regression[['MKTBeta','SMBBeta','HMLBeta']]\n",
    "FF3RegressionCS = sm.OLS(y,x,missing='drop').fit()\n",
    "FF3_CS_MAE = abs(FF3RegressionCS.resid).mean()\n",
    "FF3_CS_Premia = FF3RegressionCS.params.to_frame(\"FF3 CS Premia\")\n",
    "FF3_CS_Premia"
   ]
  },
  {
   "cell_type": "code",
   "execution_count": 29,
   "id": "4dbb30ca",
   "metadata": {},
   "outputs": [
    {
     "data": {
      "text/html": [
       "<div>\n",
       "<style scoped>\n",
       "    .dataframe tbody tr th:only-of-type {\n",
       "        vertical-align: middle;\n",
       "    }\n",
       "\n",
       "    .dataframe tbody tr th {\n",
       "        vertical-align: top;\n",
       "    }\n",
       "\n",
       "    .dataframe thead th {\n",
       "        text-align: right;\n",
       "    }\n",
       "</style>\n",
       "<table border=\"1\" class=\"dataframe\">\n",
       "  <thead>\n",
       "    <tr style=\"text-align: right;\">\n",
       "      <th></th>\n",
       "      <th>FF5 CS Premia</th>\n",
       "    </tr>\n",
       "  </thead>\n",
       "  <tbody>\n",
       "    <tr>\n",
       "      <th>MKTBeta</th>\n",
       "      <td>0.094775</td>\n",
       "    </tr>\n",
       "    <tr>\n",
       "      <th>SMBBeta</th>\n",
       "      <td>-0.058725</td>\n",
       "    </tr>\n",
       "    <tr>\n",
       "      <th>HMLBeta</th>\n",
       "      <td>-0.035406</td>\n",
       "    </tr>\n",
       "    <tr>\n",
       "      <th>RMWBeta</th>\n",
       "      <td>0.036789</td>\n",
       "    </tr>\n",
       "    <tr>\n",
       "      <th>CMABeta</th>\n",
       "      <td>-0.015450</td>\n",
       "    </tr>\n",
       "  </tbody>\n",
       "</table>\n",
       "</div>"
      ],
      "text/plain": [
       "         FF5 CS Premia\n",
       "MKTBeta       0.094775\n",
       "SMBBeta      -0.058725\n",
       "HMLBeta      -0.035406\n",
       "RMWBeta       0.036789\n",
       "CMABeta      -0.015450"
      ]
     },
     "execution_count": 29,
     "metadata": {},
     "output_type": "execute_result"
    }
   ],
   "source": [
    "y = FF5Regression['Mean Return']\n",
    "x = FF5Regression[['MKTBeta','SMBBeta','HMLBeta','RMWBeta','CMABeta']]\n",
    "FF5RegressionCS = sm.OLS(y,x,missing='drop').fit()\n",
    "FF5_CS_MAE = abs(FF5RegressionCS.resid).mean()\n",
    "FF5_CS_Premia = FF5RegressionCS.params.to_frame(\"FF5 CS Premia\")\n",
    "FF5_CS_Premia"
   ]
  },
  {
   "cell_type": "markdown",
   "id": "500912f8",
   "metadata": {},
   "source": [
    "### (a) Report the time-series premia of the factors (just their sample averages,) and compare to the cross-sectionally estimated premia of the factors. Do they differ substantially?"
   ]
  },
  {
   "cell_type": "code",
   "execution_count": 30,
   "id": "fb05efaf",
   "metadata": {},
   "outputs": [
    {
     "data": {
      "text/html": [
       "<div>\n",
       "<style scoped>\n",
       "    .dataframe tbody tr th:only-of-type {\n",
       "        vertical-align: middle;\n",
       "    }\n",
       "\n",
       "    .dataframe tbody tr th {\n",
       "        vertical-align: top;\n",
       "    }\n",
       "\n",
       "    .dataframe thead th {\n",
       "        text-align: right;\n",
       "    }\n",
       "</style>\n",
       "<table border=\"1\" class=\"dataframe\">\n",
       "  <thead>\n",
       "    <tr style=\"text-align: right;\">\n",
       "      <th></th>\n",
       "      <th>Time Series Premia</th>\n",
       "      <th>AQR CS Premia</th>\n",
       "      <th>FF3 CS Premia</th>\n",
       "      <th>FF5 CS Premia</th>\n",
       "    </tr>\n",
       "  </thead>\n",
       "  <tbody>\n",
       "    <tr>\n",
       "      <th>MKTBeta</th>\n",
       "      <td>0.083123</td>\n",
       "      <td>0.086563</td>\n",
       "      <td>0.101003</td>\n",
       "      <td>0.094775</td>\n",
       "    </tr>\n",
       "    <tr>\n",
       "      <th>SMBBeta</th>\n",
       "      <td>0.012169</td>\n",
       "      <td></td>\n",
       "      <td>-0.06592</td>\n",
       "      <td>-0.058725</td>\n",
       "    </tr>\n",
       "    <tr>\n",
       "      <th>HMLBeta</th>\n",
       "      <td>0.027523</td>\n",
       "      <td>-0.040885</td>\n",
       "      <td>-0.017297</td>\n",
       "      <td>-0.035406</td>\n",
       "    </tr>\n",
       "    <tr>\n",
       "      <th>RMWBeta</th>\n",
       "      <td>0.044845</td>\n",
       "      <td>0.0455</td>\n",
       "      <td></td>\n",
       "      <td>0.036789</td>\n",
       "    </tr>\n",
       "    <tr>\n",
       "      <th>CMABeta</th>\n",
       "      <td>0.033260</td>\n",
       "      <td></td>\n",
       "      <td></td>\n",
       "      <td>-0.01545</td>\n",
       "    </tr>\n",
       "    <tr>\n",
       "      <th>UMDBeta</th>\n",
       "      <td>0.065513</td>\n",
       "      <td>0.055284</td>\n",
       "      <td></td>\n",
       "      <td></td>\n",
       "    </tr>\n",
       "  </tbody>\n",
       "</table>\n",
       "</div>"
      ],
      "text/plain": [
       "         Time Series Premia AQR CS Premia FF3 CS Premia FF5 CS Premia\n",
       "MKTBeta            0.083123      0.086563      0.101003      0.094775\n",
       "SMBBeta            0.012169                    -0.06592     -0.058725\n",
       "HMLBeta            0.027523     -0.040885     -0.017297     -0.035406\n",
       "RMWBeta            0.044845        0.0455                    0.036789\n",
       "CMABeta            0.033260                                  -0.01545\n",
       "UMDBeta            0.065513      0.055284                            "
      ]
     },
     "execution_count": 30,
     "metadata": {},
     "output_type": "execute_result"
    }
   ],
   "source": [
    "pd.concat([time_series_premia,AQR_CS_premia,FF3_CS_Premia,FF5_CS_Premia],axis = 1).fillna('')"
   ]
  },
  {
   "cell_type": "markdown",
   "id": "26616183",
   "metadata": {},
   "source": [
    "We notice that the differences in the Time Series and Cross Section premiums is generally not extremely large though there are some exception pairs."
   ]
  },
  {
   "cell_type": "markdown",
   "id": "846abc5b",
   "metadata": {},
   "source": [
    "### (b) Report the MAE of the cross-sectional regression residuals for each of the four models, (the υi.) How do they compare to the MAE of the time-series alphas?"
   ]
  },
  {
   "cell_type": "code",
   "execution_count": 31,
   "id": "2633abfe",
   "metadata": {
    "scrolled": false
   },
   "outputs": [
    {
     "data": {
      "text/html": [
       "<div>\n",
       "<style scoped>\n",
       "    .dataframe tbody tr th:only-of-type {\n",
       "        vertical-align: middle;\n",
       "    }\n",
       "\n",
       "    .dataframe tbody tr th {\n",
       "        vertical-align: top;\n",
       "    }\n",
       "\n",
       "    .dataframe thead th {\n",
       "        text-align: right;\n",
       "    }\n",
       "</style>\n",
       "<table border=\"1\" class=\"dataframe\">\n",
       "  <thead>\n",
       "    <tr style=\"text-align: right;\">\n",
       "      <th></th>\n",
       "      <th>Time Series MAE</th>\n",
       "      <th>Cross Section MAE</th>\n",
       "    </tr>\n",
       "  </thead>\n",
       "  <tbody>\n",
       "    <tr>\n",
       "      <th>AQR</th>\n",
       "      <td>0.023470</td>\n",
       "      <td>0.017168</td>\n",
       "    </tr>\n",
       "    <tr>\n",
       "      <th>FF-3</th>\n",
       "      <td>0.025355</td>\n",
       "      <td>0.016072</td>\n",
       "    </tr>\n",
       "    <tr>\n",
       "      <th>FF-5</th>\n",
       "      <td>0.032525</td>\n",
       "      <td>0.013594</td>\n",
       "    </tr>\n",
       "  </tbody>\n",
       "</table>\n",
       "</div>"
      ],
      "text/plain": [
       "      Time Series MAE  Cross Section MAE\n",
       "AQR          0.023470           0.017168\n",
       "FF-3         0.025355           0.016072\n",
       "FF-5         0.032525           0.013594"
      ]
     },
     "execution_count": 31,
     "metadata": {},
     "output_type": "execute_result"
    }
   ],
   "source": [
    "MAE_CS = pd.Series([AQR_CS_MAE,FF3_CS_MAE, FF5_CS_MAE], index = MAE_TS.index)\n",
    "MAE = pd.concat([MAE_TS,MAE_CS],axis = 1)\n",
    "MAE.columns = ['Time Series MAE', 'Cross Section MAE']\n",
    "MAE"
   ]
  },
  {
   "cell_type": "markdown",
   "id": "a85e8b19",
   "metadata": {},
   "source": [
    "The MAE of Cross Section regression is in general lower than the MAE of Time Series Regression"
   ]
  }
 ],
 "metadata": {
  "kernelspec": {
   "display_name": "Python 3 (ipykernel)",
   "language": "python",
   "name": "python3"
  },
  "language_info": {
   "codemirror_mode": {
    "name": "ipython",
    "version": 3
   },
   "file_extension": ".py",
   "mimetype": "text/x-python",
   "name": "python",
   "nbconvert_exporter": "python",
   "pygments_lexer": "ipython3",
   "version": "3.8.8"
  }
 },
 "nbformat": 4,
 "nbformat_minor": 5
}
