{
 "cells": [
  {
   "cell_type": "code",
   "execution_count": 95,
   "metadata": {},
   "outputs": [
    {
     "data": {
      "text/html": [
       "<div>\n",
       "<style scoped>\n",
       "    .dataframe tbody tr th:only-of-type {\n",
       "        vertical-align: middle;\n",
       "    }\n",
       "\n",
       "    .dataframe tbody tr th {\n",
       "        vertical-align: top;\n",
       "    }\n",
       "\n",
       "    .dataframe thead th {\n",
       "        text-align: right;\n",
       "    }\n",
       "</style>\n",
       "<table border=\"1\" class=\"dataframe\">\n",
       "  <thead>\n",
       "    <tr style=\"text-align: right;\">\n",
       "      <th></th>\n",
       "      <th>Mkt-RF</th>\n",
       "      <th>SMB</th>\n",
       "      <th>HML</th>\n",
       "    </tr>\n",
       "    <tr>\n",
       "      <th>Date</th>\n",
       "      <th></th>\n",
       "      <th></th>\n",
       "      <th></th>\n",
       "    </tr>\n",
       "  </thead>\n",
       "  <tbody>\n",
       "    <tr>\n",
       "      <th>2022-04-30</th>\n",
       "      <td>-0.0946</td>\n",
       "      <td>-0.0141</td>\n",
       "      <td>0.0619</td>\n",
       "    </tr>\n",
       "    <tr>\n",
       "      <th>2022-05-31</th>\n",
       "      <td>-0.0034</td>\n",
       "      <td>-0.0185</td>\n",
       "      <td>0.0841</td>\n",
       "    </tr>\n",
       "    <tr>\n",
       "      <th>2022-06-30</th>\n",
       "      <td>-0.0843</td>\n",
       "      <td>0.0209</td>\n",
       "      <td>-0.0597</td>\n",
       "    </tr>\n",
       "    <tr>\n",
       "      <th>2022-07-31</th>\n",
       "      <td>0.0957</td>\n",
       "      <td>0.0281</td>\n",
       "      <td>-0.0410</td>\n",
       "    </tr>\n",
       "    <tr>\n",
       "      <th>2022-08-31</th>\n",
       "      <td>-0.0378</td>\n",
       "      <td>0.0139</td>\n",
       "      <td>0.0031</td>\n",
       "    </tr>\n",
       "  </tbody>\n",
       "</table>\n",
       "</div>"
      ],
      "text/plain": [
       "            Mkt-RF     SMB     HML\n",
       "Date                              \n",
       "2022-04-30 -0.0946 -0.0141  0.0619\n",
       "2022-05-31 -0.0034 -0.0185  0.0841\n",
       "2022-06-30 -0.0843  0.0209 -0.0597\n",
       "2022-07-31  0.0957  0.0281 -0.0410\n",
       "2022-08-31 -0.0378  0.0139  0.0031"
      ]
     },
     "execution_count": 95,
     "metadata": {},
     "output_type": "execute_result"
    }
   ],
   "source": [
    "# Import data\n",
    "import pandas as pd\n",
    "import numpy as np\n",
    "import scipy.stats as stats\n",
    "import matplotlib.pyplot as plt\n",
    "import seaborn as sns\n",
    "import statsmodels.api as sm\n",
    "df = pd.read_excel('../data/dfa_analysis_data.xlsx', sheet_name='factors')\n",
    "df = df.set_index('Date')\n",
    "df = df.drop(columns=['RF'])\n",
    "df.tail()\n",
    "\n"
   ]
  },
  {
   "cell_type": "markdown",
   "metadata": {},
   "source": [
    "#### 2 The Factors\n",
    "##### 1. Calculate their univariate performance statistics: mean, volatility, Sharpe, and VaR"
   ]
  },
  {
   "cell_type": "code",
   "execution_count": 96,
   "metadata": {},
   "outputs": [
    {
     "name": "stdout",
     "output_type": "stream",
     "text": [
      "Beginning-1980\n"
     ]
    },
    {
     "data": {
      "text/html": [
       "<div>\n",
       "<style scoped>\n",
       "    .dataframe tbody tr th:only-of-type {\n",
       "        vertical-align: middle;\n",
       "    }\n",
       "\n",
       "    .dataframe tbody tr th {\n",
       "        vertical-align: top;\n",
       "    }\n",
       "\n",
       "    .dataframe thead th {\n",
       "        text-align: right;\n",
       "    }\n",
       "</style>\n",
       "<table border=\"1\" class=\"dataframe\">\n",
       "  <thead>\n",
       "    <tr style=\"text-align: right;\">\n",
       "      <th></th>\n",
       "      <th>Mkt-RF</th>\n",
       "      <th>SMB</th>\n",
       "      <th>HML</th>\n",
       "    </tr>\n",
       "  </thead>\n",
       "  <tbody>\n",
       "    <tr>\n",
       "      <th>Mean</th>\n",
       "      <td>0.0811</td>\n",
       "      <td>0.0340</td>\n",
       "      <td>0.0495</td>\n",
       "    </tr>\n",
       "    <tr>\n",
       "      <th>Volatility</th>\n",
       "      <td>0.2051</td>\n",
       "      <td>0.1146</td>\n",
       "      <td>0.1338</td>\n",
       "    </tr>\n",
       "    <tr>\n",
       "      <th>Sharpe</th>\n",
       "      <td>0.3957</td>\n",
       "      <td>0.2966</td>\n",
       "      <td>0.3697</td>\n",
       "    </tr>\n",
       "    <tr>\n",
       "      <th>VaR (0.05)</th>\n",
       "      <td>-0.0840</td>\n",
       "      <td>-0.0434</td>\n",
       "      <td>-0.0429</td>\n",
       "    </tr>\n",
       "  </tbody>\n",
       "</table>\n",
       "</div>"
      ],
      "text/plain": [
       "            Mkt-RF     SMB     HML\n",
       "Mean        0.0811  0.0340  0.0495\n",
       "Volatility  0.2051  0.1146  0.1338\n",
       "Sharpe      0.3957  0.2966  0.3697\n",
       "VaR (0.05) -0.0840 -0.0434 -0.0429"
      ]
     },
     "metadata": {},
     "output_type": "display_data"
    },
    {
     "name": "stdout",
     "output_type": "stream",
     "text": [
      "1981-2001\n"
     ]
    },
    {
     "data": {
      "text/html": [
       "<div>\n",
       "<style scoped>\n",
       "    .dataframe tbody tr th:only-of-type {\n",
       "        vertical-align: middle;\n",
       "    }\n",
       "\n",
       "    .dataframe tbody tr th {\n",
       "        vertical-align: top;\n",
       "    }\n",
       "\n",
       "    .dataframe thead th {\n",
       "        text-align: right;\n",
       "    }\n",
       "</style>\n",
       "<table border=\"1\" class=\"dataframe\">\n",
       "  <thead>\n",
       "    <tr style=\"text-align: right;\">\n",
       "      <th></th>\n",
       "      <th>Mkt-RF</th>\n",
       "      <th>SMB</th>\n",
       "      <th>HML</th>\n",
       "    </tr>\n",
       "  </thead>\n",
       "  <tbody>\n",
       "    <tr>\n",
       "      <th>Mean</th>\n",
       "      <td>0.0773</td>\n",
       "      <td>-0.0009</td>\n",
       "      <td>0.0637</td>\n",
       "    </tr>\n",
       "    <tr>\n",
       "      <th>Volatility</th>\n",
       "      <td>0.1574</td>\n",
       "      <td>0.1184</td>\n",
       "      <td>0.1113</td>\n",
       "    </tr>\n",
       "    <tr>\n",
       "      <th>Sharpe</th>\n",
       "      <td>0.4908</td>\n",
       "      <td>-0.0074</td>\n",
       "      <td>0.5727</td>\n",
       "    </tr>\n",
       "    <tr>\n",
       "      <th>VaR (0.05)</th>\n",
       "      <td>-0.0645</td>\n",
       "      <td>-0.0466</td>\n",
       "      <td>-0.0418</td>\n",
       "    </tr>\n",
       "  </tbody>\n",
       "</table>\n",
       "</div>"
      ],
      "text/plain": [
       "            Mkt-RF     SMB     HML\n",
       "Mean        0.0773 -0.0009  0.0637\n",
       "Volatility  0.1574  0.1184  0.1113\n",
       "Sharpe      0.4908 -0.0074  0.5727\n",
       "VaR (0.05) -0.0645 -0.0466 -0.0418"
      ]
     },
     "metadata": {},
     "output_type": "display_data"
    },
    {
     "name": "stdout",
     "output_type": "stream",
     "text": [
      "2002-End\n"
     ]
    },
    {
     "data": {
      "text/html": [
       "<div>\n",
       "<style scoped>\n",
       "    .dataframe tbody tr th:only-of-type {\n",
       "        vertical-align: middle;\n",
       "    }\n",
       "\n",
       "    .dataframe tbody tr th {\n",
       "        vertical-align: top;\n",
       "    }\n",
       "\n",
       "    .dataframe thead th {\n",
       "        text-align: right;\n",
       "    }\n",
       "</style>\n",
       "<table border=\"1\" class=\"dataframe\">\n",
       "  <thead>\n",
       "    <tr style=\"text-align: right;\">\n",
       "      <th></th>\n",
       "      <th>Mkt-RF</th>\n",
       "      <th>SMB</th>\n",
       "      <th>HML</th>\n",
       "    </tr>\n",
       "  </thead>\n",
       "  <tbody>\n",
       "    <tr>\n",
       "      <th>Mean</th>\n",
       "      <td>0.0833</td>\n",
       "      <td>0.0196</td>\n",
       "      <td>0.0017</td>\n",
       "    </tr>\n",
       "    <tr>\n",
       "      <th>Volatility</th>\n",
       "      <td>0.1540</td>\n",
       "      <td>0.0858</td>\n",
       "      <td>0.1045</td>\n",
       "    </tr>\n",
       "    <tr>\n",
       "      <th>Sharpe</th>\n",
       "      <td>0.5409</td>\n",
       "      <td>0.2288</td>\n",
       "      <td>0.0161</td>\n",
       "    </tr>\n",
       "    <tr>\n",
       "      <th>VaR (0.05)</th>\n",
       "      <td>-0.0788</td>\n",
       "      <td>-0.0378</td>\n",
       "      <td>-0.0410</td>\n",
       "    </tr>\n",
       "  </tbody>\n",
       "</table>\n",
       "</div>"
      ],
      "text/plain": [
       "            Mkt-RF     SMB     HML\n",
       "Mean        0.0833  0.0196  0.0017\n",
       "Volatility  0.1540  0.0858  0.1045\n",
       "Sharpe      0.5409  0.2288  0.0161\n",
       "VaR (0.05) -0.0788 -0.0378 -0.0410"
      ]
     },
     "metadata": {},
     "output_type": "display_data"
    }
   ],
   "source": [
    "def portfolio_stats(data):\n",
    "    # Calculate the mean and annualize\n",
    "    mean = data.mean() * 12\n",
    "\n",
    "    # Volatility = standard deviation\n",
    "    # Annualize the result with sqrt(12)\n",
    "    vol = data.std() * np.sqrt(12)\n",
    "\n",
    "    # Sharpe Ratio is mean / vol\n",
    "    sharpe_ratio = mean / vol\n",
    "    \n",
    "    # VaR\n",
    "    var = data.quantile(0.05)\n",
    "\n",
    "    # Format for easy reading\n",
    "    return round(pd.DataFrame(data = [mean, vol, sharpe_ratio, var], \n",
    "        index = ['Mean', 'Volatility', 'Sharpe', 'VaR (0.05)']), 4)\n",
    "\n",
    "print(\"Beginning-1980\")\n",
    "pre1980 = df.copy().loc[:'1980']\n",
    "display(portfolio_stats(pre1980))\n",
    "\n",
    "print(\"1981-2001\")\n",
    "midPortfolio = df.copy().loc['1981':'2001']\n",
    "display(portfolio_stats(midPortfolio))\n",
    "\n",
    "print(\"2002-End\")\n",
    "presentPortfolio = df.copy().loc['2002':]\n",
    "display(portfolio_stats(presentPortfolio))"
   ]
  },
  {
   "cell_type": "markdown",
   "metadata": {},
   "source": [
    "##### 2.2 Based on the factors, answer the following:\n",
    "a. Does each factor have a premium (positive expected excess return) in each subsample?\n",
    "<br/>b. Does the premium to the size factor get smaller after 1980?\n",
    "<br/>c. Does the premium to the value factor get smaller during the 1990s?\n",
    "<br/>d. How have the factors performed since the time of the case (2002-Present)?"
   ]
  },
  {
   "cell_type": "markdown",
   "metadata": {},
   "source": [
    "a) No, SMB (the size factor) had a negative expected return in the period 1981-2001.\n",
    "<br/>\n",
    "b) Recalling that premium is the expected excess return, we can see that the size factor does get smaller after 1980, and in fact goes negative, but then returns positive after 2002.\n",
    "<br/>\n",
    "c) Yes, we can see that the Mean of HML (the value factor) drops from 0.0637 to 0.0017 after 2002\n",
    "<br/>\n",
    "d) We see that the market has improved premium post-2002, as has the size factor, but the value factor premium has decreased. The Sharpe ratios have also varied significantly for the size and value factors, increasing for SMB and decreasing for HML. However, the market outperformed both post-2002."
   ]
  },
  {
   "cell_type": "markdown",
   "metadata": {},
   "source": [
    "#### 2.3 Report the correlation matrix accross the three factors. Does the construction method succeed in keeping the correlations small? Does it achieve this in each subsample?"
   ]
  },
  {
   "cell_type": "code",
   "execution_count": 97,
   "metadata": {},
   "outputs": [
    {
     "name": "stdout",
     "output_type": "stream",
     "text": [
      "Whole Sample Correlations\n"
     ]
    },
    {
     "data": {
      "text/plain": [
       "<AxesSubplot: >"
      ]
     },
     "metadata": {},
     "output_type": "display_data"
    },
    {
     "data": {
      "image/png": "[encoded data removed]",
      "text/plain": [
       "<Figure size 432x288 with 2 Axes>"
      ]
     },
     "metadata": {
      "needs_background": "light"
     },
     "output_type": "display_data"
    }
   ],
   "source": [
    "corrmat = df.corr()\n",
    "#ignore self-correlation\n",
    "print(\"Whole Sample Correlations\")\n",
    "display(sns.heatmap(corrmat,annot=True))"
   ]
  },
  {
   "cell_type": "code",
   "execution_count": 98,
   "metadata": {},
   "outputs": [
    {
     "name": "stdout",
     "output_type": "stream",
     "text": [
      "Pre-1980 Correlations\n"
     ]
    },
    {
     "data": {
      "text/plain": [
       "<AxesSubplot: >"
      ]
     },
     "metadata": {},
     "output_type": "display_data"
    },
    {
     "data": {
      "image/png": "[encoded data removed]",
      "text/plain": [
       "<Figure size 432x288 with 2 Axes>"
      ]
     },
     "metadata": {
      "needs_background": "light"
     },
     "output_type": "display_data"
    }
   ],
   "source": [
    "print(\"Pre-1980 Correlations\")\n",
    "display(sns.heatmap(pre1980.corr(),annot=True))"
   ]
  },
  {
   "cell_type": "code",
   "execution_count": 99,
   "metadata": {},
   "outputs": [
    {
     "name": "stdout",
     "output_type": "stream",
     "text": [
      "1981-2001 Correlations\n"
     ]
    },
    {
     "data": {
      "text/plain": [
       "<AxesSubplot: >"
      ]
     },
     "metadata": {},
     "output_type": "display_data"
    },
    {
     "data": {
      "image/png": "[encoded data removed]",
      "text/plain": [
       "<Figure size 432x288 with 2 Axes>"
      ]
     },
     "metadata": {
      "needs_background": "light"
     },
     "output_type": "display_data"
    }
   ],
   "source": [
    "print(\"1981-2001 Correlations\")\n",
    "display(sns.heatmap(midPortfolio.corr(),annot=True))"
   ]
  },
  {
   "cell_type": "code",
   "execution_count": 100,
   "metadata": {},
   "outputs": [
    {
     "name": "stdout",
     "output_type": "stream",
     "text": [
      "Post-2001 Correlations\n"
     ]
    },
    {
     "data": {
      "text/plain": [
       "<AxesSubplot: >"
      ]
     },
     "metadata": {},
     "output_type": "display_data"
    },
    {
     "data": {
      "image/png": "[encoded data removed]",
      "text/plain": [
       "<Figure size 432x288 with 2 Axes>"
      ]
     },
     "metadata": {
      "needs_background": "light"
     },
     "output_type": "display_data"
    }
   ],
   "source": [
    "print(\"Post-2001 Correlations\")\n",
    "display(sns.heatmap(presentPortfolio.corr(),annot=True))"
   ]
  },
  {
   "cell_type": "markdown",
   "metadata": {},
   "source": [
    "The correlations do appear to be relatively small for the sample, and the construction method is in fact most successful at keeping the correlations small in the post-2001 data. The largest correlation we see is a negative correlation of -0.53 between the value factor and the market between 1981 and 2001."
   ]
  },
  {
   "cell_type": "markdown",
   "metadata": {},
   "source": [
    "#### 2.4 Plot the cumulative returns of the three factors. Create plots for the 1981-2001 subsample as well as the 2002-Present subsample."
   ]
  },
  {
   "cell_type": "code",
   "execution_count": 101,
   "metadata": {},
   "outputs": [
    {
     "data": {
      "text/plain": [
       "<AxesSubplot: title={'center': 'Full-sample'}, xlabel='Date'>"
      ]
     },
     "execution_count": 101,
     "metadata": {},
     "output_type": "execute_result"
    },
    {
     "data": {
      "image/png": "[encoded data removed]",
      "text/plain": [
       "<Figure size 432x288 with 1 Axes>"
      ]
     },
     "metadata": {
      "needs_background": "light"
     },
     "output_type": "display_data"
    }
   ],
   "source": [
    "((df + 1).cumprod() - 1).plot(title = \"Full-sample\")"
   ]
  },
  {
   "cell_type": "code",
   "execution_count": 102,
   "metadata": {},
   "outputs": [
    {
     "data": {
      "text/plain": [
       "<AxesSubplot: title={'center': 'Full-sample'}, xlabel='Date'>"
      ]
     },
     "execution_count": 102,
     "metadata": {},
     "output_type": "execute_result"
    },
    {
     "data": {
      "image/png": "[encoded data removed]",
      "text/plain": [
       "<Figure size 432x288 with 1 Axes>"
      ]
     },
     "metadata": {
      "needs_background": "light"
     },
     "output_type": "display_data"
    }
   ],
   "source": [
    "((midPortfolio + 1).cumprod() - 1).plot(title = \"Full-sample\")"
   ]
  },
  {
   "cell_type": "code",
   "execution_count": 103,
   "metadata": {},
   "outputs": [
    {
     "data": {
      "text/plain": [
       "<AxesSubplot: title={'center': 'Full-sample'}, xlabel='Date'>"
      ]
     },
     "execution_count": 103,
     "metadata": {},
     "output_type": "execute_result"
    },
    {
     "data": {
      "image/png": "[encoded data removed]",
      "text/plain": [
       "<Figure size 432x288 with 1 Axes>"
      ]
     },
     "metadata": {
      "needs_background": "light"
     },
     "output_type": "display_data"
    }
   ],
   "source": [
    "((presentPortfolio + 1).cumprod() - 1).plot(title = \"Full-sample\")"
   ]
  },
  {
   "cell_type": "markdown",
   "metadata": {},
   "source": [
    "#### 2.5 Does it appear that all three factors were valuable in 1981-2001? And post-2001? Would you advise DFA to continue emphasizing all three factors?\n",
    "\n",
    "No, in 1981-2001 the size factor in fact had a negative premium, and so all three factors were not valuable during this time. Additionally, post-2001, though all three factors had postive mean returns, both the size and value factors' means were significantly smaller than the market. The effects of this are made very obvious when looking at the cumulative returns of the three factors over this period. However, the factors may still provide some value to DFA in their small correlations to the market."
   ]
  },
  {
   "cell_type": "markdown",
   "metadata": {},
   "source": [
    "### 3 CAPM\n",
    "#### 1. Summary Stats: Calculate the annualized univariate statistics from 2.1. Can the difference in mean excess returns of the portfolios be explained by differences in their volatilities?"
   ]
  },
  {
   "cell_type": "code",
   "execution_count": 111,
   "metadata": {},
   "outputs": [
    {
     "data": {
      "text/html": [
       "<div>\n",
       "<style scoped>\n",
       "    .dataframe tbody tr th:only-of-type {\n",
       "        vertical-align: middle;\n",
       "    }\n",
       "\n",
       "    .dataframe tbody tr th {\n",
       "        vertical-align: top;\n",
       "    }\n",
       "\n",
       "    .dataframe thead th {\n",
       "        text-align: right;\n",
       "    }\n",
       "</style>\n",
       "<table border=\"1\" class=\"dataframe\">\n",
       "  <thead>\n",
       "    <tr style=\"text-align: right;\">\n",
       "      <th></th>\n",
       "      <th>SMALL LoBM</th>\n",
       "      <th>ME1 BM2</th>\n",
       "      <th>ME1 BM3</th>\n",
       "      <th>ME1 BM4</th>\n",
       "      <th>SMALL HiBM</th>\n",
       "      <th>ME2 BM1</th>\n",
       "      <th>ME2 BM2</th>\n",
       "      <th>ME2 BM3</th>\n",
       "      <th>ME2 BM4</th>\n",
       "      <th>ME2 BM5</th>\n",
       "      <th>...</th>\n",
       "      <th>ME4 BM1</th>\n",
       "      <th>ME4 BM2</th>\n",
       "      <th>ME4 BM3</th>\n",
       "      <th>ME4 BM4</th>\n",
       "      <th>ME4 BM5</th>\n",
       "      <th>BIG LoBM</th>\n",
       "      <th>ME5 BM2</th>\n",
       "      <th>ME5 BM3</th>\n",
       "      <th>ME5 BM4</th>\n",
       "      <th>BIG HiBM</th>\n",
       "    </tr>\n",
       "    <tr>\n",
       "      <th>Date</th>\n",
       "      <th></th>\n",
       "      <th></th>\n",
       "      <th></th>\n",
       "      <th></th>\n",
       "      <th></th>\n",
       "      <th></th>\n",
       "      <th></th>\n",
       "      <th></th>\n",
       "      <th></th>\n",
       "      <th></th>\n",
       "      <th></th>\n",
       "      <th></th>\n",
       "      <th></th>\n",
       "      <th></th>\n",
       "      <th></th>\n",
       "      <th></th>\n",
       "      <th></th>\n",
       "      <th></th>\n",
       "      <th></th>\n",
       "      <th></th>\n",
       "      <th></th>\n",
       "    </tr>\n",
       "  </thead>\n",
       "  <tbody>\n",
       "    <tr>\n",
       "      <th>1981-01-31</th>\n",
       "      <td>-0.054941</td>\n",
       "      <td>-0.014888</td>\n",
       "      <td>0.009909</td>\n",
       "      <td>0.005911</td>\n",
       "      <td>0.021085</td>\n",
       "      <td>-0.059733</td>\n",
       "      <td>-0.010738</td>\n",
       "      <td>-0.012684</td>\n",
       "      <td>0.007626</td>\n",
       "      <td>0.020623</td>\n",
       "      <td>...</td>\n",
       "      <td>-0.077022</td>\n",
       "      <td>-0.044926</td>\n",
       "      <td>-0.012942</td>\n",
       "      <td>-0.005534</td>\n",
       "      <td>0.003924</td>\n",
       "      <td>-0.071746</td>\n",
       "      <td>-0.083592</td>\n",
       "      <td>-0.074265</td>\n",
       "      <td>-0.010037</td>\n",
       "      <td>0.009464</td>\n",
       "    </tr>\n",
       "    <tr>\n",
       "      <th>1981-02-28</th>\n",
       "      <td>-0.044745</td>\n",
       "      <td>-0.010535</td>\n",
       "      <td>0.001444</td>\n",
       "      <td>0.009240</td>\n",
       "      <td>0.014398</td>\n",
       "      <td>-0.014473</td>\n",
       "      <td>0.005102</td>\n",
       "      <td>0.017420</td>\n",
       "      <td>0.024361</td>\n",
       "      <td>0.027939</td>\n",
       "      <td>...</td>\n",
       "      <td>0.002600</td>\n",
       "      <td>0.014707</td>\n",
       "      <td>0.034695</td>\n",
       "      <td>0.002673</td>\n",
       "      <td>0.027240</td>\n",
       "      <td>0.021950</td>\n",
       "      <td>0.009415</td>\n",
       "      <td>-0.016450</td>\n",
       "      <td>0.020446</td>\n",
       "      <td>-0.016853</td>\n",
       "    </tr>\n",
       "    <tr>\n",
       "      <th>1981-03-31</th>\n",
       "      <td>0.060718</td>\n",
       "      <td>0.082395</td>\n",
       "      <td>0.073568</td>\n",
       "      <td>0.077655</td>\n",
       "      <td>0.061040</td>\n",
       "      <td>0.068082</td>\n",
       "      <td>0.071500</td>\n",
       "      <td>0.066319</td>\n",
       "      <td>0.066325</td>\n",
       "      <td>0.063175</td>\n",
       "      <td>...</td>\n",
       "      <td>0.080443</td>\n",
       "      <td>0.055672</td>\n",
       "      <td>0.073222</td>\n",
       "      <td>0.061934</td>\n",
       "      <td>0.064868</td>\n",
       "      <td>0.017353</td>\n",
       "      <td>0.019940</td>\n",
       "      <td>-0.008875</td>\n",
       "      <td>0.022230</td>\n",
       "      <td>0.069573</td>\n",
       "    </tr>\n",
       "    <tr>\n",
       "      <th>1981-04-30</th>\n",
       "      <td>0.018141</td>\n",
       "      <td>0.035914</td>\n",
       "      <td>0.024600</td>\n",
       "      <td>0.036523</td>\n",
       "      <td>0.044090</td>\n",
       "      <td>0.006012</td>\n",
       "      <td>0.024744</td>\n",
       "      <td>0.026586</td>\n",
       "      <td>0.026781</td>\n",
       "      <td>0.029442</td>\n",
       "      <td>...</td>\n",
       "      <td>-0.010849</td>\n",
       "      <td>-0.019081</td>\n",
       "      <td>-0.006016</td>\n",
       "      <td>-0.007801</td>\n",
       "      <td>0.006253</td>\n",
       "      <td>-0.038311</td>\n",
       "      <td>-0.053508</td>\n",
       "      <td>-0.038006</td>\n",
       "      <td>0.010439</td>\n",
       "      <td>-0.040374</td>\n",
       "    </tr>\n",
       "    <tr>\n",
       "      <th>1981-05-31</th>\n",
       "      <td>0.038153</td>\n",
       "      <td>0.037824</td>\n",
       "      <td>0.032399</td>\n",
       "      <td>0.013389</td>\n",
       "      <td>0.016837</td>\n",
       "      <td>0.050452</td>\n",
       "      <td>0.010304</td>\n",
       "      <td>0.016889</td>\n",
       "      <td>-0.008609</td>\n",
       "      <td>0.013558</td>\n",
       "      <td>...</td>\n",
       "      <td>0.023970</td>\n",
       "      <td>0.010245</td>\n",
       "      <td>0.007640</td>\n",
       "      <td>-0.000759</td>\n",
       "      <td>0.021978</td>\n",
       "      <td>0.004288</td>\n",
       "      <td>-0.032791</td>\n",
       "      <td>-0.031355</td>\n",
       "      <td>0.026669</td>\n",
       "      <td>-0.005979</td>\n",
       "    </tr>\n",
       "  </tbody>\n",
       "</table>\n",
       "<p>5 rows × 25 columns</p>\n",
       "</div>"
      ],
      "text/plain": [
       "            SMALL LoBM   ME1 BM2   ME1 BM3   ME1 BM4  SMALL HiBM   ME2 BM1  \\\n",
       "Date                                                                         \n",
       "1981-01-31   -0.054941 -0.014888  0.009909  0.005911    0.021085 -0.059733   \n",
       "1981-02-28   -0.044745 -0.010535  0.001444  0.009240    0.014398 -0.014473   \n",
       "1981-03-31    0.060718  0.082395  0.073568  0.077655    0.061040  0.068082   \n",
       "1981-04-30    0.018141  0.035914  0.024600  0.036523    0.044090  0.006012   \n",
       "1981-05-31    0.038153  0.037824  0.032399  0.013389    0.016837  0.050452   \n",
       "\n",
       "             ME2 BM2   ME2 BM3   ME2 BM4   ME2 BM5  ...   ME4 BM1   ME4 BM2  \\\n",
       "Date                                                ...                       \n",
       "1981-01-31 -0.010738 -0.012684  0.007626  0.020623  ... -0.077022 -0.044926   \n",
       "1981-02-28  0.005102  0.017420  0.024361  0.027939  ...  0.002600  0.014707   \n",
       "1981-03-31  0.071500  0.066319  0.066325  0.063175  ...  0.080443  0.055672   \n",
       "1981-04-30  0.024744  0.026586  0.026781  0.029442  ... -0.010849 -0.019081   \n",
       "1981-05-31  0.010304  0.016889 -0.008609  0.013558  ...  0.023970  0.010245   \n",
       "\n",
       "             ME4 BM3   ME4 BM4   ME4 BM5  BIG LoBM   ME5 BM2   ME5 BM3  \\\n",
       "Date                                                                     \n",
       "1981-01-31 -0.012942 -0.005534  0.003924 -0.071746 -0.083592 -0.074265   \n",
       "1981-02-28  0.034695  0.002673  0.027240  0.021950  0.009415 -0.016450   \n",
       "1981-03-31  0.073222  0.061934  0.064868  0.017353  0.019940 -0.008875   \n",
       "1981-04-30 -0.006016 -0.007801  0.006253 -0.038311 -0.053508 -0.038006   \n",
       "1981-05-31  0.007640 -0.000759  0.021978  0.004288 -0.032791 -0.031355   \n",
       "\n",
       "             ME5 BM4  BIG HiBM  \n",
       "Date                            \n",
       "1981-01-31 -0.010037  0.009464  \n",
       "1981-02-28  0.020446 -0.016853  \n",
       "1981-03-31  0.022230  0.069573  \n",
       "1981-04-30  0.010439 -0.040374  \n",
       "1981-05-31  0.026669 -0.005979  \n",
       "\n",
       "[5 rows x 25 columns]"
      ]
     },
     "metadata": {},
     "output_type": "display_data"
    }
   ],
   "source": [
    "df = pd.read_excel('../data/dfa_analysis_data.xlsx', sheet_name='factors')\n",
    "df = df.set_index('Date')\n",
    "riskFreeRate = df.drop(columns=['SMB', 'HML']).loc['1981':]\n",
    "\n",
    "portfolioData = pd.read_excel('../data/dfa_analysis_data.xlsx', sheet_name='portfolios (total returns)')\n",
    "portfolioData = portfolioData.set_index('Date')\n",
    "portfolioData = portfolioData.loc['1981':]\n",
    "\n",
    "portfolioData_excessReturns = portfolioData.sub(riskFreeRate['RF'], axis=0)\n",
    "display(portfolioData_excessReturns.head())"
   ]
  },
  {
   "cell_type": "code",
   "execution_count": 112,
   "metadata": {},
   "outputs": [
    {
     "data": {
      "text/html": [
       "<div>\n",
       "<style scoped>\n",
       "    .dataframe tbody tr th:only-of-type {\n",
       "        vertical-align: middle;\n",
       "    }\n",
       "\n",
       "    .dataframe tbody tr th {\n",
       "        vertical-align: top;\n",
       "    }\n",
       "\n",
       "    .dataframe thead th {\n",
       "        text-align: right;\n",
       "    }\n",
       "</style>\n",
       "<table border=\"1\" class=\"dataframe\">\n",
       "  <thead>\n",
       "    <tr style=\"text-align: right;\">\n",
       "      <th></th>\n",
       "      <th>SMALL LoBM</th>\n",
       "      <th>ME1 BM2</th>\n",
       "      <th>ME1 BM3</th>\n",
       "      <th>ME1 BM4</th>\n",
       "      <th>SMALL HiBM</th>\n",
       "      <th>ME2 BM1</th>\n",
       "      <th>ME2 BM2</th>\n",
       "      <th>ME2 BM3</th>\n",
       "      <th>ME2 BM4</th>\n",
       "      <th>ME2 BM5</th>\n",
       "      <th>...</th>\n",
       "      <th>ME4 BM1</th>\n",
       "      <th>ME4 BM2</th>\n",
       "      <th>ME4 BM3</th>\n",
       "      <th>ME4 BM4</th>\n",
       "      <th>ME4 BM5</th>\n",
       "      <th>BIG LoBM</th>\n",
       "      <th>ME5 BM2</th>\n",
       "      <th>ME5 BM3</th>\n",
       "      <th>ME5 BM4</th>\n",
       "      <th>BIG HiBM</th>\n",
       "    </tr>\n",
       "  </thead>\n",
       "  <tbody>\n",
       "    <tr>\n",
       "      <th>Mean</th>\n",
       "      <td>0.0105</td>\n",
       "      <td>0.0957</td>\n",
       "      <td>0.0929</td>\n",
       "      <td>0.1200</td>\n",
       "      <td>0.1321</td>\n",
       "      <td>0.0603</td>\n",
       "      <td>0.1006</td>\n",
       "      <td>0.1066</td>\n",
       "      <td>0.1077</td>\n",
       "      <td>0.1181</td>\n",
       "      <td>...</td>\n",
       "      <td>0.0927</td>\n",
       "      <td>0.0945</td>\n",
       "      <td>0.0936</td>\n",
       "      <td>0.0998</td>\n",
       "      <td>0.1120</td>\n",
       "      <td>0.0889</td>\n",
       "      <td>0.0816</td>\n",
       "      <td>0.0811</td>\n",
       "      <td>0.0671</td>\n",
       "      <td>0.0963</td>\n",
       "    </tr>\n",
       "    <tr>\n",
       "      <th>Volatility</th>\n",
       "      <td>0.2724</td>\n",
       "      <td>0.2359</td>\n",
       "      <td>0.1972</td>\n",
       "      <td>0.1914</td>\n",
       "      <td>0.2077</td>\n",
       "      <td>0.2457</td>\n",
       "      <td>0.2032</td>\n",
       "      <td>0.1831</td>\n",
       "      <td>0.1792</td>\n",
       "      <td>0.2120</td>\n",
       "      <td>...</td>\n",
       "      <td>0.2036</td>\n",
       "      <td>0.1770</td>\n",
       "      <td>0.1733</td>\n",
       "      <td>0.1733</td>\n",
       "      <td>0.1968</td>\n",
       "      <td>0.1632</td>\n",
       "      <td>0.1549</td>\n",
       "      <td>0.1523</td>\n",
       "      <td>0.1703</td>\n",
       "      <td>0.2058</td>\n",
       "    </tr>\n",
       "    <tr>\n",
       "      <th>Sharpe</th>\n",
       "      <td>0.0384</td>\n",
       "      <td>0.4058</td>\n",
       "      <td>0.4711</td>\n",
       "      <td>0.6270</td>\n",
       "      <td>0.6361</td>\n",
       "      <td>0.2453</td>\n",
       "      <td>0.4953</td>\n",
       "      <td>0.5824</td>\n",
       "      <td>0.6012</td>\n",
       "      <td>0.5571</td>\n",
       "      <td>...</td>\n",
       "      <td>0.4551</td>\n",
       "      <td>0.5341</td>\n",
       "      <td>0.5402</td>\n",
       "      <td>0.5756</td>\n",
       "      <td>0.5693</td>\n",
       "      <td>0.5447</td>\n",
       "      <td>0.5271</td>\n",
       "      <td>0.5324</td>\n",
       "      <td>0.3943</td>\n",
       "      <td>0.4681</td>\n",
       "    </tr>\n",
       "    <tr>\n",
       "      <th>VaR (0.05)</th>\n",
       "      <td>-0.1165</td>\n",
       "      <td>-0.0976</td>\n",
       "      <td>-0.0864</td>\n",
       "      <td>-0.0752</td>\n",
       "      <td>-0.0883</td>\n",
       "      <td>-0.1046</td>\n",
       "      <td>-0.0840</td>\n",
       "      <td>-0.0787</td>\n",
       "      <td>-0.0764</td>\n",
       "      <td>-0.0942</td>\n",
       "      <td>...</td>\n",
       "      <td>-0.0839</td>\n",
       "      <td>-0.0734</td>\n",
       "      <td>-0.0756</td>\n",
       "      <td>-0.0693</td>\n",
       "      <td>-0.0833</td>\n",
       "      <td>-0.0753</td>\n",
       "      <td>-0.0656</td>\n",
       "      <td>-0.0704</td>\n",
       "      <td>-0.0756</td>\n",
       "      <td>-0.0985</td>\n",
       "    </tr>\n",
       "  </tbody>\n",
       "</table>\n",
       "<p>4 rows × 25 columns</p>\n",
       "</div>"
      ],
      "text/plain": [
       "            SMALL LoBM  ME1 BM2  ME1 BM3  ME1 BM4  SMALL HiBM  ME2 BM1  \\\n",
       "Mean            0.0105   0.0957   0.0929   0.1200      0.1321   0.0603   \n",
       "Volatility      0.2724   0.2359   0.1972   0.1914      0.2077   0.2457   \n",
       "Sharpe          0.0384   0.4058   0.4711   0.6270      0.6361   0.2453   \n",
       "VaR (0.05)     -0.1165  -0.0976  -0.0864  -0.0752     -0.0883  -0.1046   \n",
       "\n",
       "            ME2 BM2  ME2 BM3  ME2 BM4  ME2 BM5  ...  ME4 BM1  ME4 BM2  \\\n",
       "Mean         0.1006   0.1066   0.1077   0.1181  ...   0.0927   0.0945   \n",
       "Volatility   0.2032   0.1831   0.1792   0.2120  ...   0.2036   0.1770   \n",
       "Sharpe       0.4953   0.5824   0.6012   0.5571  ...   0.4551   0.5341   \n",
       "VaR (0.05)  -0.0840  -0.0787  -0.0764  -0.0942  ...  -0.0839  -0.0734   \n",
       "\n",
       "            ME4 BM3  ME4 BM4  ME4 BM5  BIG LoBM  ME5 BM2  ME5 BM3  ME5 BM4  \\\n",
       "Mean         0.0936   0.0998   0.1120    0.0889   0.0816   0.0811   0.0671   \n",
       "Volatility   0.1733   0.1733   0.1968    0.1632   0.1549   0.1523   0.1703   \n",
       "Sharpe       0.5402   0.5756   0.5693    0.5447   0.5271   0.5324   0.3943   \n",
       "VaR (0.05)  -0.0756  -0.0693  -0.0833   -0.0753  -0.0656  -0.0704  -0.0756   \n",
       "\n",
       "            BIG HiBM  \n",
       "Mean          0.0963  \n",
       "Volatility    0.2058  \n",
       "Sharpe        0.4681  \n",
       "VaR (0.05)   -0.0985  \n",
       "\n",
       "[4 rows x 25 columns]"
      ]
     },
     "metadata": {},
     "output_type": "display_data"
    }
   ],
   "source": [
    "uniStats = portfolio_stats(portfolioData_excessReturns)\n",
    "display(uniStats)"
   ]
  },
  {
   "cell_type": "code",
   "execution_count": 113,
   "metadata": {},
   "outputs": [
    {
     "data": {
      "text/plain": [
       "<AxesSubplot: title={'center': 'Volatility vs. Mean'}, xlabel='Volatility'>"
      ]
     },
     "execution_count": 113,
     "metadata": {},
     "output_type": "execute_result"
    },
    {
     "data": {
      "image/png": "[encoded data removed]",
      "text/plain": [
       "<Figure size 432x288 with 1 Axes>"
      ]
     },
     "metadata": {
      "needs_background": "light"
     },
     "output_type": "display_data"
    }
   ],
   "source": [
    "uniStats_pivoted = uniStats.transpose()\n",
    "uniStats_pivoted.plot(x = 'Volatility', y = 'Mean', style='o', title='Volatility vs. Mean')"
   ]
  },
  {
   "cell_type": "code",
   "execution_count": 114,
   "metadata": {},
   "outputs": [
    {
     "data": {
      "text/plain": [
       "<AxesSubplot: title={'center': 'VaR vs. Mean'}, xlabel='VaR (0.05)'>"
      ]
     },
     "execution_count": 114,
     "metadata": {},
     "output_type": "execute_result"
    },
    {
     "data": {
      "image/png": "[encoded data removed]",
      "text/plain": [
       "<Figure size 432x288 with 1 Axes>"
      ]
     },
     "metadata": {
      "needs_background": "light"
     },
     "output_type": "display_data"
    }
   ],
   "source": [
    "uniStats_pivoted.plot(x = 'VaR (0.05)', y = 'Mean', style='o', title='VaR vs. Mean')"
   ]
  },
  {
   "cell_type": "markdown",
   "metadata": {},
   "source": [
    "Looking at the scatter plots above, it is fairly clear that there is little to no relationship between the Volatility/VaR and the excess returns of these portfolios."
   ]
  },
  {
   "cell_type": "markdown",
   "metadata": {},
   "source": [
    "#### 3.2 CAPM\n",
    "\n",
    "a) For each of the 25 test portfolios, run the CAPM time-series regression\n",
    "<br/> b) Report the estimated beta, Treynor Ratio, alpha, and Information Ratio\n",
    "<br/> c) If CAPM were true, what would be true of the Treynor Ratios, alphas, and Information Ratios?"
   ]
  },
  {
   "cell_type": "code",
   "execution_count": 119,
   "metadata": {},
   "outputs": [
    {
     "data": {
      "text/html": [
       "<div>\n",
       "<style scoped>\n",
       "    .dataframe tbody tr th:only-of-type {\n",
       "        vertical-align: middle;\n",
       "    }\n",
       "\n",
       "    .dataframe tbody tr th {\n",
       "        vertical-align: top;\n",
       "    }\n",
       "\n",
       "    .dataframe thead th {\n",
       "        text-align: right;\n",
       "    }\n",
       "</style>\n",
       "<table border=\"1\" class=\"dataframe\">\n",
       "  <thead>\n",
       "    <tr style=\"text-align: right;\">\n",
       "      <th></th>\n",
       "      <th>alpha</th>\n",
       "      <th>beta</th>\n",
       "      <th>Information Ratio</th>\n",
       "      <th>Treynor Ratio</th>\n",
       "    </tr>\n",
       "  </thead>\n",
       "  <tbody>\n",
       "    <tr>\n",
       "      <th>SMALL LoBM</th>\n",
       "      <td>-0.098679</td>\n",
       "      <td>1.360046</td>\n",
       "      <td>-0.574986</td>\n",
       "      <td>0.007693</td>\n",
       "    </tr>\n",
       "    <tr>\n",
       "      <th>ME1 BM2</th>\n",
       "      <td>0.001824</td>\n",
       "      <td>1.170212</td>\n",
       "      <td>0.012154</td>\n",
       "      <td>0.081807</td>\n",
       "    </tr>\n",
       "    <tr>\n",
       "      <th>ME1 BM3</th>\n",
       "      <td>0.009736</td>\n",
       "      <td>1.036480</td>\n",
       "      <td>0.085739</td>\n",
       "      <td>0.089642</td>\n",
       "    </tr>\n",
       "    <tr>\n",
       "      <th>ME1 BM4</th>\n",
       "      <td>0.042537</td>\n",
       "      <td>0.965225</td>\n",
       "      <td>0.358477</td>\n",
       "      <td>0.124319</td>\n",
       "    </tr>\n",
       "    <tr>\n",
       "      <th>SMALL HiBM</th>\n",
       "      <td>0.052594</td>\n",
       "      <td>0.990693</td>\n",
       "      <td>0.377783</td>\n",
       "      <td>0.133336</td>\n",
       "    </tr>\n",
       "    <tr>\n",
       "      <th>ME2 BM1</th>\n",
       "      <td>-0.047520</td>\n",
       "      <td>1.343338</td>\n",
       "      <td>-0.367683</td>\n",
       "      <td>0.044874</td>\n",
       "    </tr>\n",
       "    <tr>\n",
       "      <th>ME2 BM2</th>\n",
       "      <td>0.010060</td>\n",
       "      <td>1.128609</td>\n",
       "      <td>0.098400</td>\n",
       "      <td>0.089162</td>\n",
       "    </tr>\n",
       "    <tr>\n",
       "      <th>ME2 BM3</th>\n",
       "      <td>0.024815</td>\n",
       "      <td>1.019328</td>\n",
       "      <td>0.271190</td>\n",
       "      <td>0.104593</td>\n",
       "    </tr>\n",
       "    <tr>\n",
       "      <th>ME2 BM4</th>\n",
       "      <td>0.030268</td>\n",
       "      <td>0.965384</td>\n",
       "      <td>0.309418</td>\n",
       "      <td>0.111602</td>\n",
       "    </tr>\n",
       "    <tr>\n",
       "      <th>ME2 BM5</th>\n",
       "      <td>0.029163</td>\n",
       "      <td>1.108553</td>\n",
       "      <td>0.236327</td>\n",
       "      <td>0.106556</td>\n",
       "    </tr>\n",
       "    <tr>\n",
       "      <th>ME3 BM1</th>\n",
       "      <td>-0.031632</td>\n",
       "      <td>1.276658</td>\n",
       "      <td>-0.293595</td>\n",
       "      <td>0.055472</td>\n",
       "    </tr>\n",
       "    <tr>\n",
       "      <th>ME3 BM2</th>\n",
       "      <td>0.020386</td>\n",
       "      <td>1.089637</td>\n",
       "      <td>0.254867</td>\n",
       "      <td>0.098958</td>\n",
       "    </tr>\n",
       "    <tr>\n",
       "      <th>ME3 BM3</th>\n",
       "      <td>0.013600</td>\n",
       "      <td>0.974341</td>\n",
       "      <td>0.175427</td>\n",
       "      <td>0.094207</td>\n",
       "    </tr>\n",
       "    <tr>\n",
       "      <th>ME3 BM4</th>\n",
       "      <td>0.029375</td>\n",
       "      <td>0.979685</td>\n",
       "      <td>0.325294</td>\n",
       "      <td>0.110233</td>\n",
       "    </tr>\n",
       "    <tr>\n",
       "      <th>ME3 BM5</th>\n",
       "      <td>0.041346</td>\n",
       "      <td>1.040695</td>\n",
       "      <td>0.358604</td>\n",
       "      <td>0.119978</td>\n",
       "    </tr>\n",
       "    <tr>\n",
       "      <th>ME4 BM1</th>\n",
       "      <td>-0.002971</td>\n",
       "      <td>1.191902</td>\n",
       "      <td>-0.035273</td>\n",
       "      <td>0.077756</td>\n",
       "    </tr>\n",
       "    <tr>\n",
       "      <th>ME4 BM2</th>\n",
       "      <td>0.009323</td>\n",
       "      <td>1.061515</td>\n",
       "      <td>0.146475</td>\n",
       "      <td>0.089031</td>\n",
       "    </tr>\n",
       "    <tr>\n",
       "      <th>ME4 BM3</th>\n",
       "      <td>0.013451</td>\n",
       "      <td>0.998882</td>\n",
       "      <td>0.175252</td>\n",
       "      <td>0.093715</td>\n",
       "    </tr>\n",
       "    <tr>\n",
       "      <th>ME4 BM4</th>\n",
       "      <td>0.021541</td>\n",
       "      <td>0.974851</td>\n",
       "      <td>0.256645</td>\n",
       "      <td>0.102346</td>\n",
       "    </tr>\n",
       "    <tr>\n",
       "      <th>ME4 BM5</th>\n",
       "      <td>0.028504</td>\n",
       "      <td>1.040993</td>\n",
       "      <td>0.254778</td>\n",
       "      <td>0.107630</td>\n",
       "    </tr>\n",
       "    <tr>\n",
       "      <th>BIG LoBM</th>\n",
       "      <td>0.009187</td>\n",
       "      <td>0.993371</td>\n",
       "      <td>0.174843</td>\n",
       "      <td>0.089497</td>\n",
       "    </tr>\n",
       "    <tr>\n",
       "      <th>ME5 BM2</th>\n",
       "      <td>0.007074</td>\n",
       "      <td>0.928890</td>\n",
       "      <td>0.127028</td>\n",
       "      <td>0.087865</td>\n",
       "    </tr>\n",
       "    <tr>\n",
       "      <th>ME5 BM3</th>\n",
       "      <td>0.011174</td>\n",
       "      <td>0.871221</td>\n",
       "      <td>0.160696</td>\n",
       "      <td>0.093074</td>\n",
       "    </tr>\n",
       "    <tr>\n",
       "      <th>ME5 BM4</th>\n",
       "      <td>-0.005153</td>\n",
       "      <td>0.900981</td>\n",
       "      <td>-0.053262</td>\n",
       "      <td>0.074529</td>\n",
       "    </tr>\n",
       "    <tr>\n",
       "      <th>BIG HiBM</th>\n",
       "      <td>0.014869</td>\n",
       "      <td>1.014960</td>\n",
       "      <td>0.112658</td>\n",
       "      <td>0.094899</td>\n",
       "    </tr>\n",
       "  </tbody>\n",
       "</table>\n",
       "</div>"
      ],
      "text/plain": [
       "               alpha      beta  Information Ratio  Treynor Ratio\n",
       "SMALL LoBM -0.098679  1.360046          -0.574986       0.007693\n",
       "ME1 BM2     0.001824  1.170212           0.012154       0.081807\n",
       "ME1 BM3     0.009736  1.036480           0.085739       0.089642\n",
       "ME1 BM4     0.042537  0.965225           0.358477       0.124319\n",
       "SMALL HiBM  0.052594  0.990693           0.377783       0.133336\n",
       "ME2 BM1    -0.047520  1.343338          -0.367683       0.044874\n",
       "ME2 BM2     0.010060  1.128609           0.098400       0.089162\n",
       "ME2 BM3     0.024815  1.019328           0.271190       0.104593\n",
       "ME2 BM4     0.030268  0.965384           0.309418       0.111602\n",
       "ME2 BM5     0.029163  1.108553           0.236327       0.106556\n",
       "ME3 BM1    -0.031632  1.276658          -0.293595       0.055472\n",
       "ME3 BM2     0.020386  1.089637           0.254867       0.098958\n",
       "ME3 BM3     0.013600  0.974341           0.175427       0.094207\n",
       "ME3 BM4     0.029375  0.979685           0.325294       0.110233\n",
       "ME3 BM5     0.041346  1.040695           0.358604       0.119978\n",
       "ME4 BM1    -0.002971  1.191902          -0.035273       0.077756\n",
       "ME4 BM2     0.009323  1.061515           0.146475       0.089031\n",
       "ME4 BM3     0.013451  0.998882           0.175252       0.093715\n",
       "ME4 BM4     0.021541  0.974851           0.256645       0.102346\n",
       "ME4 BM5     0.028504  1.040993           0.254778       0.107630\n",
       "BIG LoBM    0.009187  0.993371           0.174843       0.089497\n",
       "ME5 BM2     0.007074  0.928890           0.127028       0.087865\n",
       "ME5 BM3     0.011174  0.871221           0.160696       0.093074\n",
       "ME5 BM4    -0.005153  0.900981          -0.053262       0.074529\n",
       "BIG HiBM    0.014869  1.014960           0.112658       0.094899"
      ]
     },
     "metadata": {},
     "output_type": "display_data"
    }
   ],
   "source": [
    "capm_data = portfolioData_excessReturns.join(riskFreeRate)\n",
    "capm_report = pd.DataFrame(index=portfolioData_excessReturns.columns)\n",
    "riskFreeRegressor = sm.add_constant(capm_data['Mkt-RF'])\n",
    "bm_residuals = pd.DataFrame(columns=portfolioData_excessReturns.columns)\n",
    "t_p_values = pd.DataFrame()\n",
    "\n",
    "for portf in portfolioData_excessReturns.columns:\n",
    "    lhs = capm_data[portf]\n",
    "    res = sm.OLS(lhs, riskFreeRegressor, missing='drop').fit()\n",
    "    capm_report.loc[portf, 'alpha'] = res.params['const'] * 12\n",
    "    capm_report.loc[portf, 'beta'] = res.params['Mkt-RF']\n",
    "    capm_report.loc[portf, 'Information Ratio'] = np.sqrt(12) * res.params['const'] / res.resid.std()\n",
    "    capm_report.loc[portf, 'Treynor Ratio'] = 12 * capm_data[portf].mean() / res.params['Mkt-RF']\n",
    "    bm_residuals[portf] = res.resid\n",
    "    t_p_values.loc[portf, 't-value'] = res.params['const']\n",
    "    t_p_values.loc[portf, 't-value'] = res.tvalues['const']\n",
    "    t_p_values.loc[portf, 'p-value'] = round(res.pvalues['const'], 4)\n",
    "    \n",
    "display(capm_report)"
   ]
  },
  {
   "cell_type": "markdown",
   "metadata": {},
   "source": [
    "3.2c) If CAPM were true, we would see alphas of all zero's, and as a byproduct the Information Ratio should also be zero. We would expect the Treynor Ratio to equal the mean excess market return."
   ]
  },
  {
   "cell_type": "markdown",
   "metadata": {},
   "source": [
    "#### 3.3 Cross-Sectional Estimation"
   ]
  },
  {
   "cell_type": "code",
   "execution_count": 121,
   "metadata": {},
   "outputs": [
    {
     "data": {
      "text/html": [
       "<table class=\"simpletable\">\n",
       "<caption>OLS Regression Results</caption>\n",
       "<tr>\n",
       "  <th>Dep. Variable:</th>            <td>y</td>        <th>  R-squared:         </th> <td>   0.258</td>\n",
       "</tr>\n",
       "<tr>\n",
       "  <th>Model:</th>                   <td>OLS</td>       <th>  Adj. R-squared:    </th> <td>   0.226</td>\n",
       "</tr>\n",
       "<tr>\n",
       "  <th>Method:</th>             <td>Least Squares</td>  <th>  F-statistic:       </th> <td>   8.008</td>\n",
       "</tr>\n",
       "<tr>\n",
       "  <th>Date:</th>             <td>Wed, 19 Oct 2022</td> <th>  Prob (F-statistic):</th>  <td>0.00950</td>\n",
       "</tr>\n",
       "<tr>\n",
       "  <th>Time:</th>                 <td>15:23:50</td>     <th>  Log-Likelihood:    </th> <td>  123.51</td>\n",
       "</tr>\n",
       "<tr>\n",
       "  <th>No. Observations:</th>      <td>    25</td>      <th>  AIC:               </th> <td>  -243.0</td>\n",
       "</tr>\n",
       "<tr>\n",
       "  <th>Df Residuals:</th>          <td>    23</td>      <th>  BIC:               </th> <td>  -240.6</td>\n",
       "</tr>\n",
       "<tr>\n",
       "  <th>Df Model:</th>              <td>     1</td>      <th>                     </th>     <td> </td>   \n",
       "</tr>\n",
       "<tr>\n",
       "  <th>Covariance Type:</th>      <td>nonrobust</td>    <th>                     </th>     <td> </td>   \n",
       "</tr>\n",
       "</table>\n",
       "<table class=\"simpletable\">\n",
       "<tr>\n",
       "    <td></td>       <th>coef</th>     <th>std err</th>      <th>t</th>      <th>P>|t|</th>  <th>[0.025</th>    <th>0.975]</th>  \n",
       "</tr>\n",
       "<tr>\n",
       "  <th>const</th> <td>    0.0165</td> <td>    0.003</td> <td>    5.362</td> <td> 0.000</td> <td>    0.010</td> <td>    0.023</td>\n",
       "</tr>\n",
       "<tr>\n",
       "  <th>beta</th>  <td>   -0.0082</td> <td>    0.003</td> <td>   -2.830</td> <td> 0.009</td> <td>   -0.014</td> <td>   -0.002</td>\n",
       "</tr>\n",
       "</table>\n",
       "<table class=\"simpletable\">\n",
       "<tr>\n",
       "  <th>Omnibus:</th>       <td> 4.531</td> <th>  Durbin-Watson:     </th> <td>   1.311</td>\n",
       "</tr>\n",
       "<tr>\n",
       "  <th>Prob(Omnibus):</th> <td> 0.104</td> <th>  Jarque-Bera (JB):  </th> <td>   2.975</td>\n",
       "</tr>\n",
       "<tr>\n",
       "  <th>Skew:</th>          <td>-0.820</td> <th>  Prob(JB):          </th> <td>   0.226</td>\n",
       "</tr>\n",
       "<tr>\n",
       "  <th>Kurtosis:</th>      <td> 3.408</td> <th>  Cond. No.          </th> <td>    17.0</td>\n",
       "</tr>\n",
       "</table><br/><br/>Notes:<br/>[1] Standard Errors assume that the covariance matrix of the errors is correctly specified."
      ],
      "text/plain": [
       "<class 'statsmodels.iolib.summary.Summary'>\n",
       "\"\"\"\n",
       "                            OLS Regression Results                            \n",
       "==============================================================================\n",
       "Dep. Variable:                      y   R-squared:                       0.258\n",
       "Model:                            OLS   Adj. R-squared:                  0.226\n",
       "Method:                 Least Squares   F-statistic:                     8.008\n",
       "Date:                Wed, 19 Oct 2022   Prob (F-statistic):            0.00950\n",
       "Time:                        15:23:50   Log-Likelihood:                 123.51\n",
       "No. Observations:                  25   AIC:                            -243.0\n",
       "Df Residuals:                      23   BIC:                            -240.6\n",
       "Df Model:                           1                                         \n",
       "Covariance Type:            nonrobust                                         \n",
       "==============================================================================\n",
       "                 coef    std err          t      P>|t|      [0.025      0.975]\n",
       "------------------------------------------------------------------------------\n",
       "const          0.0165      0.003      5.362      0.000       0.010       0.023\n",
       "beta          -0.0082      0.003     -2.830      0.009      -0.014      -0.002\n",
       "==============================================================================\n",
       "Omnibus:                        4.531   Durbin-Watson:                   1.311\n",
       "Prob(Omnibus):                  0.104   Jarque-Bera (JB):                2.975\n",
       "Skew:                          -0.820   Prob(JB):                        0.226\n",
       "Kurtosis:                       3.408   Cond. No.                         17.0\n",
       "==============================================================================\n",
       "\n",
       "Notes:\n",
       "[1] Standard Errors assume that the covariance matrix of the errors is correctly specified.\n",
       "\"\"\""
      ]
     },
     "execution_count": 121,
     "metadata": {},
     "output_type": "execute_result"
    }
   ],
   "source": [
    "# The dependent variable, (y): mean excess returns from each of the n = 25 portfolios.\n",
    "y = portfolioData_excessReturns.mean()\n",
    "\n",
    "# The regressor, (x): the market beta from each of the n = 25 time-series regressions.\n",
    "X = sm.add_constant(capm_report['beta'])\n",
    "\n",
    "res = sm.OLS(y,X,missing='drop').fit()\n",
    "res.summary()"
   ]
  },
  {
   "cell_type": "code",
   "execution_count": 123,
   "metadata": {},
   "outputs": [
    {
     "name": "stdout",
     "output_type": "stream",
     "text": [
      "0.19798077049490942\n",
      "-0.09815760379979302\n"
     ]
    }
   ],
   "source": [
    "#3(b) Get the intercept\n",
    "print(res.params[0] * 12)\n",
    "\n",
    "#3(c) Report the regression coefficient\n",
    "print(res.params[1] * 12)"
   ]
  },
  {
   "cell_type": "markdown",
   "metadata": {},
   "source": [
    "3.3 a) The R-squared of this regression is 0.258.\n",
    "<br/>\n",
    "3.3 b) The intercept is 0.198.\n",
    "<br/>\n",
    "3.4 c) The regression coefficient is -0.098"
   ]
  },
  {
   "cell_type": "markdown",
   "metadata": {},
   "source": [
    "If CAPM were true, we would expect the R-squared to be 1, the intercept to be 0, and the regression coefficient should be the mean excess market return."
   ]
  },
  {
   "cell_type": "markdown",
   "metadata": {},
   "source": [
    "#### 3.4 Broadly speaking, do these results support DFA's belief in size and value portfolios containing premia unrelated to the CAPM?\n",
    "\n",
    "The results support DFA's belief that risks beyond market beta matter, but do not support their emphasis on size and value factors."
   ]
  }
 ],
 "metadata": {
  "kernelspec": {
   "display_name": "Python 3.10.8 64-bit (microsoft store)",
   "language": "python",
   "name": "python3"
  },
  "language_info": {
   "codemirror_mode": {
    "name": "ipython",
    "version": 3
   },
   "file_extension": ".py",
   "mimetype": "text/x-python",
   "name": "python",
   "nbconvert_exporter": "python",
   "pygments_lexer": "ipython3",
   "version": "3.10.8"
  },
  "orig_nbformat": 4,
  "vscode": {
   "interpreter": {
    "hash": "28c29896733cd258a7e144e5cfe10ab10fb1ed1767adc491e37af3f909fe0b53"
   }
  }
 },
 "nbformat": 4,
 "nbformat_minor": 2
}
