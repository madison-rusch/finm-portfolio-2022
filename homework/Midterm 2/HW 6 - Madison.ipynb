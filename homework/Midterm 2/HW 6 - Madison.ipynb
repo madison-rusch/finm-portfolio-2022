{
 "cells": [
  {
   "cell_type": "code",
   "execution_count": 35,
   "metadata": {},
   "outputs": [
    {
     "data": {
      "text/html": [
       "<div>\n",
       "<style scoped>\n",
       "    .dataframe tbody tr th:only-of-type {\n",
       "        vertical-align: middle;\n",
       "    }\n",
       "\n",
       "    .dataframe tbody tr th {\n",
       "        vertical-align: top;\n",
       "    }\n",
       "\n",
       "    .dataframe thead th {\n",
       "        text-align: right;\n",
       "    }\n",
       "</style>\n",
       "<table border=\"1\" class=\"dataframe\">\n",
       "  <thead>\n",
       "    <tr style=\"text-align: right;\">\n",
       "      <th></th>\n",
       "      <th>UMD</th>\n",
       "    </tr>\n",
       "    <tr>\n",
       "      <th>Date</th>\n",
       "      <th></th>\n",
       "    </tr>\n",
       "  </thead>\n",
       "  <tbody>\n",
       "    <tr>\n",
       "      <th>2022-05-31</th>\n",
       "      <td>0.0248</td>\n",
       "    </tr>\n",
       "    <tr>\n",
       "      <th>2022-06-30</th>\n",
       "      <td>0.0079</td>\n",
       "    </tr>\n",
       "    <tr>\n",
       "      <th>2022-07-31</th>\n",
       "      <td>-0.0396</td>\n",
       "    </tr>\n",
       "    <tr>\n",
       "      <th>2022-08-31</th>\n",
       "      <td>0.0210</td>\n",
       "    </tr>\n",
       "    <tr>\n",
       "      <th>2022-09-30</th>\n",
       "      <td>0.0354</td>\n",
       "    </tr>\n",
       "  </tbody>\n",
       "</table>\n",
       "</div>"
      ],
      "text/plain": [
       "               UMD\n",
       "Date              \n",
       "2022-05-31  0.0248\n",
       "2022-06-30  0.0079\n",
       "2022-07-31 -0.0396\n",
       "2022-08-31  0.0210\n",
       "2022-09-30  0.0354"
      ]
     },
     "execution_count": 35,
     "metadata": {},
     "output_type": "execute_result"
    }
   ],
   "source": [
    "# Import data\n",
    "import pandas as pd\n",
    "import numpy as np\n",
    "import scipy.stats as stats\n",
    "import matplotlib.pyplot as plt\n",
    "import seaborn as sns\n",
    "import statsmodels.api as sm\n",
    "momentum_size_data = pd.read_excel('../data/momentum_data.xlsx', sheet_name='size_sorts (total returns)')\n",
    "momentum_size_data = momentum_size_data.set_index('Date')\n",
    "momentum_size_data.tail()\n",
    "\n",
    "other_factor_data = pd.read_excel('../data/momentum_data.xlsx', sheet_name='factors (excess returns)')\n",
    "other_factor_data = other_factor_data.set_index('Date')\n",
    "momentum_size_data = momentum_size_data.join(other_factor_data)\n",
    "\n",
    "risk_free_rate_data = pd.read_excel('../data/momentum_data.xlsx', sheet_name='risk-free rate').set_index('Date')\n",
    "momentum_size_data = momentum_size_data.join(risk_free_rate_data)\n",
    "\n",
    "decile_data = pd.read_excel('../data/momentum_data.xlsx', sheet_name='deciles (total returns)').set_index('Date')\n",
    "momentum_size_data = momentum_size_data.join(decile_data)\n",
    "\n",
    "momentum_excess_returns = pd.read_excel('../data/momentum_data.xlsx', sheet_name='momentum (excess returns)')\n",
    "momentum_excess_returns = momentum_excess_returns.set_index('Date')\n",
    "momentum_excess_returns.tail()"
   ]
  },
  {
   "cell_type": "markdown",
   "metadata": {},
   "source": [
    "#### 1. Is momentum still profitable?"
   ]
  },
  {
   "cell_type": "code",
   "execution_count": 36,
   "metadata": {},
   "outputs": [
    {
     "data": {
      "text/plain": [
       "Date\n",
       "1927-01-31    0.00360\n",
       "1927-02-28   -0.02150\n",
       "1927-03-31    0.03615\n",
       "1927-04-30    0.04300\n",
       "1927-05-31    0.03005\n",
       "Name: rx_mom_FF, dtype: float64"
      ]
     },
     "metadata": {},
     "output_type": "display_data"
    }
   ],
   "source": [
    "# Calculate the FF momentum return, with \n",
    "#   1/2(total returns of big stocks that are up + total returns of small stocks that are up) - \n",
    "#   1/2(total returns of big stocks that are down + total returns of small stocks that are down)\n",
    "momentum_size_data['rx_mom_FF'] = (1/2 *(momentum_size_data['BIG HiPRIOR'] + momentum_size_data['SMALL HiPRIOR']) -\n",
    "  1/2 * (momentum_size_data['BIG LoPRIOR'] + momentum_size_data['SMALL LoPRIOR'])) # same as UMD\n",
    "\n",
    "display(momentum_size_data['rx_mom_FF'].head())"
   ]
  },
  {
   "cell_type": "code",
   "execution_count": 37,
   "metadata": {},
   "outputs": [
    {
     "data": {
      "text/html": [
       "<div>\n",
       "<style scoped>\n",
       "    .dataframe tbody tr th:only-of-type {\n",
       "        vertical-align: middle;\n",
       "    }\n",
       "\n",
       "    .dataframe tbody tr th {\n",
       "        vertical-align: top;\n",
       "    }\n",
       "\n",
       "    .dataframe thead th {\n",
       "        text-align: right;\n",
       "    }\n",
       "</style>\n",
       "<table border=\"1\" class=\"dataframe\">\n",
       "  <thead>\n",
       "    <tr style=\"text-align: right;\">\n",
       "      <th></th>\n",
       "      <th>mean</th>\n",
       "      <th>vol</th>\n",
       "      <th>sharpe_ratio</th>\n",
       "      <th>skew</th>\n",
       "      <th>corr_to_mkt</th>\n",
       "      <th>corr_to_value</th>\n",
       "    </tr>\n",
       "  </thead>\n",
       "  <tbody>\n",
       "    <tr>\n",
       "      <th>1927-2022</th>\n",
       "      <td>0.077621</td>\n",
       "      <td>0.163386</td>\n",
       "      <td>0.47508</td>\n",
       "      <td>-3.024767</td>\n",
       "      <td>-0.344988</td>\n",
       "      <td>-0.423097</td>\n",
       "    </tr>\n",
       "    <tr>\n",
       "      <th>1927-1993</th>\n",
       "      <td>0.090075</td>\n",
       "      <td>0.159987</td>\n",
       "      <td>0.563018</td>\n",
       "      <td>-3.809269</td>\n",
       "      <td>-0.362513</td>\n",
       "      <td>-0.494935</td>\n",
       "    </tr>\n",
       "    <tr>\n",
       "      <th>1994-2008</th>\n",
       "      <td>0.104327</td>\n",
       "      <td>0.175548</td>\n",
       "      <td>0.594291</td>\n",
       "      <td>-0.582412</td>\n",
       "      <td>-0.234513</td>\n",
       "      <td>-0.130661</td>\n",
       "    </tr>\n",
       "    <tr>\n",
       "      <th>2009-2022</th>\n",
       "      <td>-0.025296</td>\n",
       "      <td>0.164452</td>\n",
       "      <td>-0.153819</td>\n",
       "      <td>-2.854653</td>\n",
       "      <td>-0.381562</td>\n",
       "      <td>-0.460104</td>\n",
       "    </tr>\n",
       "  </tbody>\n",
       "</table>\n",
       "</div>"
      ],
      "text/plain": [
       "              mean       vol  sharpe_ratio      skew  corr_to_mkt   \\\n",
       "1927-2022  0.077621  0.163386       0.47508 -3.024767    -0.344988   \n",
       "1927-1993  0.090075  0.159987      0.563018 -3.809269    -0.362513   \n",
       "1994-2008  0.104327  0.175548      0.594291 -0.582412    -0.234513   \n",
       "2009-2022 -0.025296  0.164452     -0.153819 -2.854653    -0.381562   \n",
       "\n",
       "          corr_to_value  \n",
       "1927-2022     -0.423097  \n",
       "1927-1993     -0.494935  \n",
       "1994-2008     -0.130661  \n",
       "2009-2022     -0.460104  "
      ]
     },
     "execution_count": 37,
     "metadata": {},
     "output_type": "execute_result"
    }
   ],
   "source": [
    "# Question 1a) fill in the data for the table\n",
    "def table_row(df, portfolio, annualize_factor=12):\n",
    "    mean = df[portfolio].mean() * annualize_factor\n",
    "    vol = df[portfolio].std() * np.sqrt(annualize_factor)\n",
    "    sharpe_ratio = mean/vol\n",
    "    skew = df[portfolio].skew() #unscaled\n",
    "    corr = df[[portfolio, 'MKT', 'HML']].corr()\n",
    "    corr_to_mkt = corr.loc[portfolio, 'MKT']\n",
    "    corr_to_value = corr.loc[portfolio, 'HML']\n",
    "    return [mean, vol, sharpe_ratio, skew, corr_to_mkt, corr_to_value]\n",
    "\n",
    "table1 = pd.DataFrame(index=['1927-2022', '1927-1993', '1994-2008', '2009-2022'],\n",
    "    columns=['mean ', 'vol ', 'sharpe_ratio ', 'skew ', 'corr_to_mkt ', 'corr_to_value', ])\n",
    "\n",
    "table1.loc['1927-2022', :] = table_row(momentum_size_data.loc['1927':'2020'], portfolio='rx_mom_FF')\n",
    "table1.loc['1927-1993', :] = table_row(momentum_size_data.loc['1927':'1993'], portfolio='rx_mom_FF')\n",
    "table1.loc['1994-2008', :] = table_row(momentum_size_data.loc['1994':'2008'], portfolio='rx_mom_FF')\n",
    "table1.loc['2009-2022', :] = table_row(momentum_size_data.loc['2009':'2020'], portfolio='rx_mom_FF')\n",
    "# table1.style.set_caption('Solution Table 1: Momentum performance over time.')\n",
    "table1"
   ]
  },
  {
   "cell_type": "markdown",
   "metadata": {},
   "source": [
    "#### 1.b Has momentum changed much over time, as seen through these subsample statistics?\n",
    "\n",
    "Until 2008, momentum was relatively stable. The means were all around 8-10%, the vols were between 0.15-0.17, and the Sharpe Ratios were pretty good. Starting in 2009, we see a steep drop in returns and the sharpe_ratio. We also see strong performance in 1994-2008, with the highest Sharpe Ratio and correlation outliers.\n",
    "\n",
    "#### 1.c Does this data support AQR's argument that momentum is an important piece of the ideal portfolio? What if returns were close to zero due to transaction costs? Would momentum still be valuable?\n",
    "\n",
    "I would argue that momentum is an important piece of a portfolio. Regardless of what the returns are doing, the portfolios are valuable because of their negative correlation to the market and value factors. i.e. it's a great hedge/diversifier."
   ]
  },
  {
   "cell_type": "markdown",
   "metadata": {},
   "source": [
    "#### 2 Construct your own long-only portfolio, using r = 1/2(returns of Big, Up stocks + returns of Small, Up stocks) - risk-free-rate"
   ]
  },
  {
   "cell_type": "code",
   "execution_count": 38,
   "metadata": {},
   "outputs": [
    {
     "data": {
      "text/html": [
       "<div>\n",
       "<style scoped>\n",
       "    .dataframe tbody tr th:only-of-type {\n",
       "        vertical-align: middle;\n",
       "    }\n",
       "\n",
       "    .dataframe tbody tr th {\n",
       "        vertical-align: top;\n",
       "    }\n",
       "\n",
       "    .dataframe thead th {\n",
       "        text-align: right;\n",
       "    }\n",
       "</style>\n",
       "<table border=\"1\" class=\"dataframe\">\n",
       "  <thead>\n",
       "    <tr style=\"text-align: right;\">\n",
       "      <th></th>\n",
       "      <th>mean</th>\n",
       "      <th>vol</th>\n",
       "      <th>sharpe_ratio</th>\n",
       "      <th>skew</th>\n",
       "      <th>corr_to_mkt</th>\n",
       "      <th>corr_to_value</th>\n",
       "    </tr>\n",
       "  </thead>\n",
       "  <tbody>\n",
       "    <tr>\n",
       "      <th>long_short</th>\n",
       "      <td>0.047329</td>\n",
       "      <td>0.168603</td>\n",
       "      <td>0.280711</td>\n",
       "      <td>-1.433724</td>\n",
       "      <td>-0.306118</td>\n",
       "      <td>-0.238548</td>\n",
       "    </tr>\n",
       "    <tr>\n",
       "      <th>long_only</th>\n",
       "      <td>0.112783</td>\n",
       "      <td>0.178903</td>\n",
       "      <td>0.630411</td>\n",
       "      <td>-0.482872</td>\n",
       "      <td>0.903499</td>\n",
       "      <td>-0.154667</td>\n",
       "    </tr>\n",
       "  </tbody>\n",
       "</table>\n",
       "</div>"
      ],
      "text/plain": [
       "               mean       vol  sharpe_ratio      skew  corr_to_mkt   \\\n",
       "long_short  0.047329  0.168603      0.280711 -1.433724    -0.306118   \n",
       "long_only   0.112783  0.178903      0.630411 -0.482872     0.903499   \n",
       "\n",
       "           corr_to_value  \n",
       "long_short     -0.238548  \n",
       "long_only      -0.154667  "
      ]
     },
     "execution_count": 38,
     "metadata": {},
     "output_type": "execute_result"
    }
   ],
   "source": [
    "# Construct long only portfolio returns\n",
    "momentum_size_data['rx_mom_U_FF'] = (1/2 * (momentum_size_data['BIG HiPRIOR'] + momentum_size_data['SMALL HiPRIOR']) -\n",
    "    momentum_size_data['RF'])\n",
    "\n",
    "# Fill out the same table as above\n",
    "table2 = pd.DataFrame(index=['long_short', 'long_only'],\n",
    "    columns=['mean ', 'vol ', 'sharpe_ratio ', 'skew ', 'corr_to_mkt ', 'corr_to_value', ])\n",
    "\n",
    "table2.loc['long_short', :] = table_row(momentum_size_data['1994':], portfolio='rx_mom_FF')\n",
    "table2.loc['long_only', :] = table_row(momentum_size_data['1994':], portfolio='rx_mom_U_FF')\n",
    "table2"
   ]
  },
  {
   "cell_type": "markdown",
   "metadata": {},
   "source": [
    "#### 2.b Is long only momentum as attractive as long-short momentum with respect to mean, volatility, and Sharpe ratio?\n",
    "\n",
    "The long only portfolio is actually more attractive- it has higher mean, only slightly higher vol, and a much better Sharpe ratio.\n",
    "\n",
    "#### 2.c Is long only momentum as diversifying as long-short momentum with respect to market and value premia?\n",
    "\n",
    "It is not nearly as diversifying with respect to the market and is in fact highly correlated to the market premia. However it is still negatively correlated to the value factor.\n",
    "\n",
    "#### 2.d Show a plot of the cumulative product of (1 + FF momentum) and (1 + long-only FF momentum) over 1994-2022 sample\n"
   ]
  },
  {
   "cell_type": "code",
   "execution_count": 39,
   "metadata": {},
   "outputs": [
    {
     "data": {
      "image/png": "[encoded data removed]",
      "text/plain": [
       "<Figure size 1152x288 with 1 Axes>"
      ]
     },
     "metadata": {},
     "output_type": "display_data"
    }
   ],
   "source": [
    "sns.set_style(\"whitegrid\")\n",
    "(momentum_size_data.loc['1994':'2022', 'rx_mom_FF'] + 1).cumprod().plot(figsize=(16,4))\n",
    "(momentum_size_data.loc['1994':'2022', 'rx_mom_U_FF'] + 1).cumprod().plot(figsize=(16,4))\n",
    "plt.title('Figure 1: Cumulative excess return on baseline momentum and long-only momentum strategies.')\n",
    "plt.legend();"
   ]
  },
  {
   "cell_type": "markdown",
   "metadata": {},
   "source": [
    "#### 3. Is momentum just data mining, or is it a robust strategy?\n",
    "\n",
    "#### a) Compare all three constructions by filling out the stats in the table for 1994-2022.\n"
   ]
  },
  {
   "cell_type": "code",
   "execution_count": 41,
   "metadata": {},
   "outputs": [
    {
     "data": {
      "text/html": [
       "<div>\n",
       "<style scoped>\n",
       "    .dataframe tbody tr th:only-of-type {\n",
       "        vertical-align: middle;\n",
       "    }\n",
       "\n",
       "    .dataframe tbody tr th {\n",
       "        vertical-align: top;\n",
       "    }\n",
       "\n",
       "    .dataframe thead th {\n",
       "        text-align: right;\n",
       "    }\n",
       "</style>\n",
       "<table border=\"1\" class=\"dataframe\">\n",
       "  <thead>\n",
       "    <tr style=\"text-align: right;\">\n",
       "      <th></th>\n",
       "      <th>mean</th>\n",
       "      <th>vol</th>\n",
       "      <th>sharpe_ratio</th>\n",
       "      <th>skew</th>\n",
       "      <th>corr_to_mkt</th>\n",
       "      <th>corr_to_value</th>\n",
       "    </tr>\n",
       "  </thead>\n",
       "  <tbody>\n",
       "    <tr>\n",
       "      <th>rx_mom_D1</th>\n",
       "      <td>0.079409</td>\n",
       "      <td>0.297952</td>\n",
       "      <td>0.266515</td>\n",
       "      <td>-1.323613</td>\n",
       "      <td>-0.335574</td>\n",
       "      <td>-0.236392</td>\n",
       "    </tr>\n",
       "    <tr>\n",
       "      <th>rx_mom_D3</th>\n",
       "      <td>0.034203</td>\n",
       "      <td>0.192568</td>\n",
       "      <td>0.177615</td>\n",
       "      <td>-1.35538</td>\n",
       "      <td>-0.365386</td>\n",
       "      <td>-0.229882</td>\n",
       "    </tr>\n",
       "    <tr>\n",
       "      <th>rx_mom_D5</th>\n",
       "      <td>0.018031</td>\n",
       "      <td>0.134026</td>\n",
       "      <td>0.134536</td>\n",
       "      <td>-1.435409</td>\n",
       "      <td>-0.357936</td>\n",
       "      <td>-0.227501</td>\n",
       "    </tr>\n",
       "  </tbody>\n",
       "</table>\n",
       "</div>"
      ],
      "text/plain": [
       "              mean       vol  sharpe_ratio      skew  corr_to_mkt   \\\n",
       "rx_mom_D1  0.079409  0.297952      0.266515 -1.323613    -0.335574   \n",
       "rx_mom_D3  0.034203  0.192568      0.177615  -1.35538    -0.365386   \n",
       "rx_mom_D5  0.018031  0.134026      0.134536 -1.435409    -0.357936   \n",
       "\n",
       "          corr_to_value  \n",
       "rx_mom_D1     -0.236392  \n",
       "rx_mom_D3     -0.229882  \n",
       "rx_mom_D5     -0.227501  "
      ]
     },
     "execution_count": 41,
     "metadata": {},
     "output_type": "execute_result"
    }
   ],
   "source": [
    "# Long top 1 decile and short bottom 1 decile\n",
    "momentum_size_data['rx_mom_D1'] = momentum_size_data['Hi PRIOR'] - momentum_size_data['Lo PRIOR']\n",
    "table3 = pd.DataFrame(columns=['mean ', 'vol ', 'sharpe_ratio ', 'skew ', 'corr_to_mkt ', 'corr_to_value', ])\n",
    "\n",
    "df = momentum_size_data.join(momentum_size_data, rsuffix='momentum_')\n",
    "# long top 3 deciles and short bottom 3 deciles\n",
    "df['rx_mom_D3'] = (1/3 * (df['PRIOR 8'] + df['PRIOR 9'] + df['Hi PRIOR']) -\\\n",
    "                1/3 * (df['Lo PRIOR'] + df['PRIOR 2'] + df['PRIOR 3']))\n",
    "\n",
    "# long top 5 deciles and short bottom 5 deciles\n",
    "df['rx_mom_D5'] = (1/5 * (df['PRIOR 6'] + df['PRIOR 7'] + df['PRIOR 8'] + df['PRIOR 9'] + df['Hi PRIOR']) -\\\n",
    "                1/5 * (df['Lo PRIOR'] + df['PRIOR 2'] + df['PRIOR 3'] + df['PRIOR 4'] + df['PRIOR 5']))\n",
    "table3.loc['rx_mom_D1', :] = table_row(df['1994':], portfolio='rx_mom_D1')\n",
    "table3.loc['rx_mom_D3', :] = table_row(df['1994':], portfolio='rx_mom_D3')\n",
    "table3.loc['rx_mom_D5', :] = table_row(df['1994':], portfolio='rx_mom_D5')\n",
    "\n",
    "table3"
   ]
  },
  {
   "cell_type": "markdown",
   "metadata": {},
   "source": [
    "#### 3.b Do the tradeoffs between 1-decile, 3-decile, and 5-decile constructions line up with the theoretical tradeoffs we discussed in the lecture?\n",
    "\n",
    "During lecture, we discussed how the more extreme the cutoff for the 'winners', the higher we expect the means to be, at the cost of higher volatility. This is consistent with what we see in the above table.\n",
    "\n",
    "#### 3.c Should AQR consider a 1-decile or 5-decile construction?\n",
    "\n",
    "If they can accept the higher volatility, they should use a 1-decile construction. They will have more assets in the 5-decile construction, with correspondingly higher trading costs, but their vol is lower. I would argue for the 1-decile over the 5-decile if they had to pick, given how high the Sharpe ratio is for 1-decile vs. the Sharpe for 5-decile.\n",
    "\n",
    "#### 3.d Does the D3 momentum have similar stats to French-Fama?"
   ]
  },
  {
   "cell_type": "code",
   "execution_count": 42,
   "metadata": {},
   "outputs": [
    {
     "data": {
      "text/html": [
       "<div>\n",
       "<style scoped>\n",
       "    .dataframe tbody tr th:only-of-type {\n",
       "        vertical-align: middle;\n",
       "    }\n",
       "\n",
       "    .dataframe tbody tr th {\n",
       "        vertical-align: top;\n",
       "    }\n",
       "\n",
       "    .dataframe thead th {\n",
       "        text-align: right;\n",
       "    }\n",
       "</style>\n",
       "<table border=\"1\" class=\"dataframe\">\n",
       "  <thead>\n",
       "    <tr style=\"text-align: right;\">\n",
       "      <th></th>\n",
       "      <th>mean</th>\n",
       "      <th>vol</th>\n",
       "      <th>sharpe_ratio</th>\n",
       "      <th>skew</th>\n",
       "      <th>corr_to_mkt</th>\n",
       "      <th>corr_to_value</th>\n",
       "    </tr>\n",
       "  </thead>\n",
       "  <tbody>\n",
       "    <tr>\n",
       "      <th>long_short</th>\n",
       "      <td>0.047329</td>\n",
       "      <td>0.168603</td>\n",
       "      <td>0.280711</td>\n",
       "      <td>-1.433724</td>\n",
       "      <td>-0.306118</td>\n",
       "      <td>-0.238548</td>\n",
       "    </tr>\n",
       "    <tr>\n",
       "      <th>long_only</th>\n",
       "      <td>0.112783</td>\n",
       "      <td>0.178903</td>\n",
       "      <td>0.630411</td>\n",
       "      <td>-0.482872</td>\n",
       "      <td>0.903499</td>\n",
       "      <td>-0.154667</td>\n",
       "    </tr>\n",
       "  </tbody>\n",
       "</table>\n",
       "</div>"
      ],
      "text/plain": [
       "               mean       vol  sharpe_ratio      skew  corr_to_mkt   \\\n",
       "long_short  0.047329  0.168603      0.280711 -1.433724    -0.306118   \n",
       "long_only   0.112783  0.178903      0.630411 -0.482872     0.903499   \n",
       "\n",
       "           corr_to_value  \n",
       "long_short     -0.238548  \n",
       "long_only      -0.154667  "
      ]
     },
     "execution_count": 42,
     "metadata": {},
     "output_type": "execute_result"
    }
   ],
   "source": [
    "table2"
   ]
  },
  {
   "cell_type": "markdown",
   "metadata": {},
   "source": [
    "It appears that French-Fama has slightly higher means and slightly lower vol, leading to a better Sharpe (0.28 vs. 0.18). They are both skewed roughly the same, with correlations to the market and value factors that are also very close. Overall, yes, the stats are similar, with the possible implication that segmentation by size does have better performance."
   ]
  },
  {
   "cell_type": "markdown",
   "metadata": {},
   "source": [
    "#### 4. Does implementing momentum require trading lots of small stocks- thus causing even larger trading costs?\n",
    "Construct a small stock and large stock momentum portfolio."
   ]
  },
  {
   "cell_type": "code",
   "execution_count": 44,
   "metadata": {},
   "outputs": [
    {
     "data": {
      "text/html": [
       "<div>\n",
       "<style scoped>\n",
       "    .dataframe tbody tr th:only-of-type {\n",
       "        vertical-align: middle;\n",
       "    }\n",
       "\n",
       "    .dataframe tbody tr th {\n",
       "        vertical-align: top;\n",
       "    }\n",
       "\n",
       "    .dataframe thead th {\n",
       "        text-align: right;\n",
       "    }\n",
       "</style>\n",
       "<table border=\"1\" class=\"dataframe\">\n",
       "  <thead>\n",
       "    <tr style=\"text-align: right;\">\n",
       "      <th></th>\n",
       "      <th>mean</th>\n",
       "      <th>vol</th>\n",
       "      <th>sharpe_ratio</th>\n",
       "      <th>skew</th>\n",
       "      <th>corr_to_mkt</th>\n",
       "      <th>corr_to_v</th>\n",
       "    </tr>\n",
       "  </thead>\n",
       "  <tbody>\n",
       "    <tr>\n",
       "      <th>All Stocks</th>\n",
       "      <td>0.047329</td>\n",
       "      <td>0.168603</td>\n",
       "      <td>0.280711</td>\n",
       "      <td>-1.433724</td>\n",
       "      <td>-0.306118</td>\n",
       "      <td>-0.238548</td>\n",
       "    </tr>\n",
       "    <tr>\n",
       "      <th>Small stocks</th>\n",
       "      <td>0.062737</td>\n",
       "      <td>0.171615</td>\n",
       "      <td>0.365571</td>\n",
       "      <td>-1.750109</td>\n",
       "      <td>-0.306908</td>\n",
       "      <td>-0.164672</td>\n",
       "    </tr>\n",
       "    <tr>\n",
       "      <th>Large Stocks</th>\n",
       "      <td>0.03192</td>\n",
       "      <td>0.181863</td>\n",
       "      <td>0.175517</td>\n",
       "      <td>-0.857615</td>\n",
       "      <td>-0.277984</td>\n",
       "      <td>-0.286919</td>\n",
       "    </tr>\n",
       "  </tbody>\n",
       "</table>\n",
       "</div>"
      ],
      "text/plain": [
       "                 mean       vol  sharpe_ratio      skew  corr_to_mkt   \\\n",
       "All Stocks    0.047329  0.168603      0.280711 -1.433724    -0.306118   \n",
       "Small stocks  0.062737  0.171615      0.365571 -1.750109    -0.306908   \n",
       "Large Stocks   0.03192  0.181863      0.175517 -0.857615    -0.277984   \n",
       "\n",
       "             corr_to_v  \n",
       "All Stocks   -0.238548  \n",
       "Small stocks -0.164672  \n",
       "Large Stocks -0.286919  "
      ]
     },
     "execution_count": 44,
     "metadata": {},
     "output_type": "execute_result"
    }
   ],
   "source": [
    "# Construct the small stock momentum portfolio (small up - small down)\n",
    "df['rx_mom_S'] = df['SMALL HiPRIOR'] - df['SMALL LoPRIOR']\n",
    "\n",
    "# Construct the large stock momentum portfolio (large up - small down)\n",
    "df['rx_mom_B'] = df['BIG HiPRIOR'] - df['BIG LoPRIOR']\n",
    "\n",
    "# Create Table 4\n",
    "table4 = pd.DataFrame(columns=['mean ', 'vol ', 'sharpe_ratio ', 'skew ', 'corr_to_mkt ','corr_to_v'])\n",
    "table4.loc['All Stocks', :] = table_row(df['1994':], portfolio='rx_mom_FF')\n",
    "table4.loc['Small stocks', :] = table_row(df['1994':], portfolio='rx_mom_S')\n",
    "table4.loc['Large Stocks', :] = table_row(df['1994':], portfolio='rx_mom_B')\n",
    "table4"
   ]
  },
  {
   "cell_type": "markdown",
   "metadata": {},
   "source": [
    "#### 4.b Is the attractiveness of the momentum strategy mostly driven by small stocks? That is, does a momentum strategy in large stocks still deliver excess returns at comparable risk?\n",
    "\n",
    "Based on the table above, small stocks do deliver higher returns, but only 6% compared to large stocks' 3%, and their volatility is about the same. It seems like a portfolio of large stocks may be worth the lower returns in exchange for lower trading costs/frequency.\n",
    "\n",
    "#### 5. What is your assessment of the AQR retail product? Is it capturing the most important features of French Fama? Would you suggest any modifications?\n",
    "\n",
    "I would say that AQR's product is a good one. It doesn't really match what we typically refer to as momentum, as it goes long only, and is therefore mostly getting its returns from market premium. However, it is more practical to implement than French Fama's momentum strategy."
   ]
  }
 ],
 "metadata": {
  "kernelspec": {
   "display_name": "Python 3.10.8 64-bit (microsoft store)",
   "language": "python",
   "name": "python3"
  },
  "language_info": {
   "codemirror_mode": {
    "name": "ipython",
    "version": 3
   },
   "file_extension": ".py",
   "mimetype": "text/x-python",
   "name": "python",
   "nbconvert_exporter": "python",
   "pygments_lexer": "ipython3",
   "version": "3.10.8"
  },
  "orig_nbformat": 4,
  "vscode": {
   "interpreter": {
    "hash": "28c29896733cd258a7e144e5cfe10ab10fb1ed1767adc491e37af3f909fe0b53"
   }
  }
 },
 "nbformat": 4,
 "nbformat_minor": 2
}
