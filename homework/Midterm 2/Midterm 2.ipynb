{
 "cells": [
  {
   "cell_type": "markdown",
   "metadata": {},
   "source": [
    "<div style=\"text-align: right\"> Madison Rusch </div>\n",
    "\n",
    "<left>FINM 36700</left> \n",
    "<br>\n",
    "<left>Autumn 2022</left>\n",
    "\n",
    "<h2><center>Midterm #2 </center></h2>"
   ]
  },
  {
   "cell_type": "markdown",
   "metadata": {},
   "source": [
    "### 1 Short Answer\n",
    "#### 1.1 What is done in the construction of the value factor, HML, to reduce its correlation to MKT? SMB?\n",
    "The HML, or value factor, is constructed by going long value stocks, and shorting growth stocks. By only using a certain decile at the top and bottom of the scale, we are able to reduce correlation to both MKT (market factor), and SMB (size factor). Additionally, the values used to sort the scale of the value and size factors are relatively orthogonal to each other, which also reduces correlation.\n",
    "\n",
    "#### 1.2 The Value factor underperformed in the time since the DFA-case. What might DFA say in defense of value as a good investment, notwithstanding these statistics?\n",
    "The value factor (HML) is lowly correlated to the Market and Size factors, which makes it a good diversifier for DFA, in spite of its low returns.\n",
    "\n",
    "\n",
    "#### 1.3 We found these tangency portfolio weights for the 4 factor model considered by AQR. What might we conclude from this about this “AQR” pricing model?\n",
    "We can see based on weighting of the factors that Market (MKT), Value (HML), and Momentum (UMD) factors are all roughly equal in importance in AQR's pricing model. However, the size factor (SMB) has such a low weighting in the tangency portfolio that it has very little impact in the model. \n",
    "\n",
    "#### 1.4 If the CAPM model worked perfectly, then the MKT factor would have the highest Sharpe ratio and highest Treynor ratio of all assets.\n",
    "True. If the CAPM worked perfectly, then the market portfolio would be the tangency portfolio, and would therefore have the highest Sharpe ratio (by definition of the tangency portfolio). Additionally, the Treynor Ratio would equal the market returns (because the beta would = 1).\n",
    "\n",
    "#### 1.5 What is the biggest difference in performance between long-only momentum and long-short momentum?\n",
    "Though in general we saw higher means in the long-only momentum, it was due to that fact that the long-only portfolio was highly correlated to the market. The long-short momentum portfolio was negatively correlated to the market factor, and was much more diversifying when combined with the other factors.\n",
    "\n",
    "#### 1.6 Do you think we could operate an effective momentum strategy given just BTC? Explain and be specific.\n",
    "No. In order for a momentum strategy to be effective, it is required for there to be a large universe of assets to pick from, where we could take extreme winners and losers and construct a long-short portfolio. \n",
    "\n",
    "#### 1.7 In the factor model using MKT, SMB, HML, UMD, (the “AQR model”,) which factors can the entire market have a positive net exposure, and which must the market must have net 0 exposure?\n",
    "The market is able to have positive net exposure for MKT, SMB, and UMD factors. However, not all investors can be exposed to the value (HML) factor, otherwise it would be reflected in the market premium. HML must therefore have net 0 exposure.\n",
    "\n",
    "#### 1.8 The APT says that a ”perfect” Linear Factor Decomposition (LFD) will work as a perfect Linear Factor Pricing Model (LFPM). What must the factors achieve as an LFD to meet the APT’s condition?\n",
    "In order to meet APT's condition, the LFD must have a \"perfect\" R-squared = 1.\n",
    "\n",
    "#### 1.9 Is it possible for a factor model to fit perfectly as an LFPM yet to fit imperfectly as an LFD?\n",
    "Yes. With Linear Factor Pricing Models, we are not trying to replicate portfolios. It's possible for our LFPM to have alphas of zeros, but an R-squared value less than one. This LFPM would therefore not be a perfect LFD, but would fit perfectly as an LFPM.\n"
   ]
  },
  {
   "cell_type": "markdown",
   "metadata": {},
   "source": [
    "### 2 Pricing Model"
   ]
  },
  {
   "cell_type": "code",
   "execution_count": 77,
   "metadata": {},
   "outputs": [],
   "source": [
    "# Some Python Code for importing packages/data\n",
    "import pandas as pd\n",
    "import numpy as np\n",
    "import statsmodels.api as sm\n",
    "import seaborn as sns\n",
    "from statsmodels.regression.rolling import RollingOLS\n",
    "import scipy\n",
    "import warnings\n",
    "warnings.filterwarnings('ignore')\n",
    "pd.set_option(\"display.precision\", 4)\n",
    "\n",
    "# Read excel file, sheet\n",
    "factor_data = pd.read_excel('../data/midterm_2.xlsx', 'factors (excess returns)')\n",
    "factor_data = factor_data.set_index('Date')\n",
    "\n",
    "returns_data = pd.read_excel('../data/midterm_2.xlsx', 'assets (excess returns)')\n",
    "returns_data = returns_data.set_index('Date')\n",
    "\n",
    "def time_series_test(df, factor_df, factors, annualization=12):\n",
    "    columns = ['alpha']\n",
    "    for factor in factors:\n",
    "        columns.append(f'{factor} Beta')\n",
    "    columns.append('R-squared')\n",
    "        \n",
    "    ts_test = pd.DataFrame(data = None, index = df.columns, columns = columns)\n",
    "\n",
    "        \n",
    "    for asset in ts_test.index:\n",
    "        y = df[asset]\n",
    "        X = sm.add_constant(factor_df[factors])\n",
    "\n",
    "        reg = sm.OLS(y, X).fit()\n",
    "        regParams = reg.params\n",
    "        ts_test.loc[asset] = [regParams[0] * annualization, regParams[1], regParams[2], reg.rsquared]\n",
    "    \n",
    "    return ts_test\n",
    "\n",
    "ts_test = time_series_test(returns_data, factor_data, ['MKT', 'RMW'])\n",
    "\n",
    "\n"
   ]
  },
  {
   "cell_type": "markdown",
   "metadata": {},
   "source": [
    "#### 2.1 a) Report (for each asset) annualized alpha, beta, and r-squared."
   ]
  },
  {
   "cell_type": "code",
   "execution_count": 78,
   "metadata": {},
   "outputs": [
    {
     "data": {
      "text/html": [
       "<div>\n",
       "<style scoped>\n",
       "    .dataframe tbody tr th:only-of-type {\n",
       "        vertical-align: middle;\n",
       "    }\n",
       "\n",
       "    .dataframe tbody tr th {\n",
       "        vertical-align: top;\n",
       "    }\n",
       "\n",
       "    .dataframe thead th {\n",
       "        text-align: right;\n",
       "    }\n",
       "</style>\n",
       "<table border=\"1\" class=\"dataframe\">\n",
       "  <thead>\n",
       "    <tr style=\"text-align: right;\">\n",
       "      <th></th>\n",
       "      <th>alpha</th>\n",
       "      <th>MKT Beta</th>\n",
       "      <th>RMW Beta</th>\n",
       "      <th>R-squared</th>\n",
       "    </tr>\n",
       "  </thead>\n",
       "  <tbody>\n",
       "    <tr>\n",
       "      <th>BWX</th>\n",
       "      <td>-0.0406</td>\n",
       "      <td>0.2363</td>\n",
       "      <td>0.1024</td>\n",
       "      <td>0.2047</td>\n",
       "    </tr>\n",
       "    <tr>\n",
       "      <th>DBC</th>\n",
       "      <td>-0.052</td>\n",
       "      <td>0.5932</td>\n",
       "      <td>-0.1086</td>\n",
       "      <td>0.2568</td>\n",
       "    </tr>\n",
       "    <tr>\n",
       "      <th>EEM</th>\n",
       "      <td>-0.0689</td>\n",
       "      <td>0.9436</td>\n",
       "      <td>-0.0948</td>\n",
       "      <td>0.5601</td>\n",
       "    </tr>\n",
       "    <tr>\n",
       "      <th>EFA</th>\n",
       "      <td>-0.0582</td>\n",
       "      <td>0.9313</td>\n",
       "      <td>-0.0775</td>\n",
       "      <td>0.7622</td>\n",
       "    </tr>\n",
       "    <tr>\n",
       "      <th>HYG</th>\n",
       "      <td>-0.0004</td>\n",
       "      <td>0.4532</td>\n",
       "      <td>0.0362</td>\n",
       "      <td>0.5886</td>\n",
       "    </tr>\n",
       "    <tr>\n",
       "      <th>IEF</th>\n",
       "      <td>0.024</td>\n",
       "      <td>-0.0818</td>\n",
       "      <td>0.1693</td>\n",
       "      <td>0.082</td>\n",
       "    </tr>\n",
       "    <tr>\n",
       "      <th>IYR</th>\n",
       "      <td>0.001</td>\n",
       "      <td>0.9134</td>\n",
       "      <td>0.2731</td>\n",
       "      <td>0.5514</td>\n",
       "    </tr>\n",
       "    <tr>\n",
       "      <th>PSP</th>\n",
       "      <td>-0.0659</td>\n",
       "      <td>1.3408</td>\n",
       "      <td>-0.1098</td>\n",
       "      <td>0.8393</td>\n",
       "    </tr>\n",
       "    <tr>\n",
       "      <th>QAI</th>\n",
       "      <td>-0.0237</td>\n",
       "      <td>0.2782</td>\n",
       "      <td>0.0028</td>\n",
       "      <td>0.7174</td>\n",
       "    </tr>\n",
       "    <tr>\n",
       "      <th>SPY</th>\n",
       "      <td>0.0006</td>\n",
       "      <td>0.9629</td>\n",
       "      <td>0.1259</td>\n",
       "      <td>0.9924</td>\n",
       "    </tr>\n",
       "    <tr>\n",
       "      <th>TIP</th>\n",
       "      <td>0.0069</td>\n",
       "      <td>0.093</td>\n",
       "      <td>0.1756</td>\n",
       "      <td>0.1158</td>\n",
       "    </tr>\n",
       "  </tbody>\n",
       "</table>\n",
       "</div>"
      ],
      "text/plain": [
       "      alpha MKT Beta RMW Beta R-squared\n",
       "BWX -0.0406   0.2363   0.1024    0.2047\n",
       "DBC  -0.052   0.5932  -0.1086    0.2568\n",
       "EEM -0.0689   0.9436  -0.0948    0.5601\n",
       "EFA -0.0582   0.9313  -0.0775    0.7622\n",
       "HYG -0.0004   0.4532   0.0362    0.5886\n",
       "IEF   0.024  -0.0818   0.1693     0.082\n",
       "IYR   0.001   0.9134   0.2731    0.5514\n",
       "PSP -0.0659   1.3408  -0.1098    0.8393\n",
       "QAI -0.0237   0.2782   0.0028    0.7174\n",
       "SPY  0.0006   0.9629   0.1259    0.9924\n",
       "TIP  0.0069    0.093   0.1756    0.1158"
      ]
     },
     "metadata": {},
     "output_type": "display_data"
    }
   ],
   "source": [
    "display(ts_test)"
   ]
  },
  {
   "cell_type": "markdown",
   "metadata": {},
   "source": [
    "#### 2.1 a) Report annualized MAE of the time-series alphas"
   ]
  },
  {
   "cell_type": "code",
   "execution_count": 79,
   "metadata": {},
   "outputs": [
    {
     "name": "stdout",
     "output_type": "stream",
     "text": [
      "MAE: 0.0311\n"
     ]
    }
   ],
   "source": [
    "print('MAE: ' + str(round(ts_test['alpha'].abs().mean(), 4)))"
   ]
  },
  {
   "cell_type": "markdown",
   "metadata": {},
   "source": [
    "#### 2.1 a) Report mean of the r-squared statistics."
   ]
  },
  {
   "cell_type": "code",
   "execution_count": 80,
   "metadata": {},
   "outputs": [
    {
     "name": "stdout",
     "output_type": "stream",
     "text": [
      "Mean of R-Squared: 0.5155\n"
     ]
    }
   ],
   "source": [
    "print('Mean of R-Squared: ' + str(round(ts_test['R-squared'].mean(), 4)))"
   ]
  },
  {
   "cell_type": "markdown",
   "metadata": {},
   "source": [
    "#### 2.1 b) If the pricing model worked perfectly, what would these statistics be?\n",
    "If the pricing model worked perfectly, we would expect the Mean Absolute Error to equal 0, but we would have no expectation for R-squared.\n",
    "\n",
    "#### 2.1 c) What do you conclude from the time-series test of this model? That is, give some interpretation as to how well it prices the assets, and be specific.\n",
    "This model seems to price the assets fairly well. We expect alphas to be zero if the pricing model worked perfectly, but given we're computing this on a sample, it's not suprising that we don't have alphas equal to zero. However, the alphas are generally close to zero, expecially for HYG and SPY. It seems this prices overall fairly well.\n",
    "\n",
    "#### 2.2 Estimate the cross-sectional test of the pricing model. Include an intercept in the cross-sectional regression.\n",
    "#### 2.2 a) Report the annualized intercept, annualized factor premia, r-squared, annualized mean-absolute error."
   ]
  },
  {
   "cell_type": "code",
   "execution_count": 81,
   "metadata": {},
   "outputs": [
    {
     "name": "stdout",
     "output_type": "stream",
     "text": [
      "Annualized Intercept: -0.0214\n"
     ]
    },
    {
     "data": {
      "text/html": [
       "<div>\n",
       "<style scoped>\n",
       "    .dataframe tbody tr th:only-of-type {\n",
       "        vertical-align: middle;\n",
       "    }\n",
       "\n",
       "    .dataframe tbody tr th {\n",
       "        vertical-align: top;\n",
       "    }\n",
       "\n",
       "    .dataframe thead th {\n",
       "        text-align: right;\n",
       "    }\n",
       "</style>\n",
       "<table border=\"1\" class=\"dataframe\">\n",
       "  <thead>\n",
       "    <tr style=\"text-align: right;\">\n",
       "      <th></th>\n",
       "      <th>Annualized Factor Premia</th>\n",
       "    </tr>\n",
       "  </thead>\n",
       "  <tbody>\n",
       "    <tr>\n",
       "      <th>MKT</th>\n",
       "      <td>0.1186</td>\n",
       "    </tr>\n",
       "    <tr>\n",
       "      <th>RMW</th>\n",
       "      <td>0.2101</td>\n",
       "    </tr>\n",
       "  </tbody>\n",
       "</table>\n",
       "</div>"
      ],
      "text/plain": [
       "     Annualized Factor Premia\n",
       "MKT                    0.1186\n",
       "RMW                    0.2101"
      ]
     },
     "metadata": {},
     "output_type": "display_data"
    },
    {
     "name": "stdout",
     "output_type": "stream",
     "text": [
      "R-squared: 0.9055\n",
      "Annualized MAE: 0.0109\n"
     ]
    }
   ],
   "source": [
    "ts_test = ts_test.rename(columns={'MKT Beta': 'MKT', 'RMW Beta': 'RMW'})\n",
    "\n",
    "y = returns_data.mean()\n",
    "X = sm.add_constant(ts_test[['MKT','RMW']].astype(float))\n",
    "\n",
    "cross_sect = sm.OLS(y, X).fit()\n",
    "# display(cross_sect.summary())\n",
    "\n",
    "print('Annualized Intercept: ' + str(round(cross_sect.params[0] * 12, 4)))\n",
    "display((cross_sect.params[1:] * 12).to_frame('Annualized Factor Premia'))\n",
    "print('R-squared: ' + str(round(cross_sect.rsquared, 4)))\n",
    "print('Annualized MAE: ' + str(round(cross_sect.resid.abs().mean() * 12, 4)))"
   ]
  },
  {
   "cell_type": "markdown",
   "metadata": {},
   "source": [
    "#### 2.2 b) If the pricing model worked perfectly, what would these statistics be?\n",
    "If the pricing model worked perfectly, we would expect the R-squared of the cross-sectional test to equal 1 and the alpha to equal 0. We would have no expectations for the betas.\n",
    "\n",
    "#### 2.2 c) What do you conclude from the cross-sectional test of this model? That is, give some interpretation as to how well it prices the assets, and be specific.\n",
    "The cross-sectional seems to support our earlier argument that this pricing model is good not great. We have an alpha and MAE close to zero (-0.02 and 0.01 respectively). We also have an R-squared in the cross-sectional of 0.91. Given that we want the R-squared to equal 1, this model seems to do a pretty good job.\n",
    "\n",
    "#### 2.3 Is the RMW factor more lucrative according to the cross-sectional or time-series estimates?\n",
    "RMW seems to be more profitable according to the cross-sectional. It has a premia of 0.21 in the cross-sectional, and only one portfolio in the entire time-series results has a beta higher than that. In the time series results, RMW even has betas that go negative.\n",
    "\n",
    "#### 2.4 Make a chart showing the annualized 11 asset premia, (that is, expected excess returns) as implied by the sample average, time-series, and cross-sectional."
   ]
  },
  {
   "cell_type": "code",
   "execution_count": 82,
   "metadata": {},
   "outputs": [
    {
     "data": {
      "text/html": [
       "<div>\n",
       "<style scoped>\n",
       "    .dataframe tbody tr th:only-of-type {\n",
       "        vertical-align: middle;\n",
       "    }\n",
       "\n",
       "    .dataframe tbody tr th {\n",
       "        vertical-align: top;\n",
       "    }\n",
       "\n",
       "    .dataframe thead th {\n",
       "        text-align: right;\n",
       "    }\n",
       "</style>\n",
       "<table border=\"1\" class=\"dataframe\">\n",
       "  <thead>\n",
       "    <tr style=\"text-align: right;\">\n",
       "      <th></th>\n",
       "      <th>Sample Average</th>\n",
       "      <th>Time Series Expected Returns</th>\n",
       "      <th>Cross Sectional Expected Returns</th>\n",
       "    </tr>\n",
       "  </thead>\n",
       "  <tbody>\n",
       "    <tr>\n",
       "      <th>BWX</th>\n",
       "      <td>-0.0051</td>\n",
       "      <td>0.0355</td>\n",
       "      <td>0.0281</td>\n",
       "    </tr>\n",
       "    <tr>\n",
       "      <th>DBC</th>\n",
       "      <td>0.0272</td>\n",
       "      <td>0.0792</td>\n",
       "      <td>0.0261</td>\n",
       "    </tr>\n",
       "    <tr>\n",
       "      <th>EEM</th>\n",
       "      <td>0.0592</td>\n",
       "      <td>0.1281</td>\n",
       "      <td>0.0706</td>\n",
       "    </tr>\n",
       "    <tr>\n",
       "      <th>EFA</th>\n",
       "      <td>0.0687</td>\n",
       "      <td>0.1269</td>\n",
       "      <td>0.0728</td>\n",
       "    </tr>\n",
       "    <tr>\n",
       "      <th>HYG</th>\n",
       "      <td>0.0633</td>\n",
       "      <td>0.0637</td>\n",
       "      <td>0.0399</td>\n",
       "    </tr>\n",
       "    <tr>\n",
       "      <th>IEF</th>\n",
       "      <td>0.0172</td>\n",
       "      <td>-0.0068</td>\n",
       "      <td>0.0044</td>\n",
       "    </tr>\n",
       "    <tr>\n",
       "      <th>IYR</th>\n",
       "      <td>0.1349</td>\n",
       "      <td>0.1339</td>\n",
       "      <td>0.1443</td>\n",
       "    </tr>\n",
       "    <tr>\n",
       "      <th>PSP</th>\n",
       "      <td>0.1168</td>\n",
       "      <td>0.1827</td>\n",
       "      <td>0.1146</td>\n",
       "    </tr>\n",
       "    <tr>\n",
       "      <th>QAI</th>\n",
       "      <td>0.0149</td>\n",
       "      <td>0.0386</td>\n",
       "      <td>0.0122</td>\n",
       "    </tr>\n",
       "    <tr>\n",
       "      <th>SPY</th>\n",
       "      <td>0.1373</td>\n",
       "      <td>0.1367</td>\n",
       "      <td>0.1193</td>\n",
       "    </tr>\n",
       "    <tr>\n",
       "      <th>TIP</th>\n",
       "      <td>0.0245</td>\n",
       "      <td>0.0176</td>\n",
       "      <td>0.0265</td>\n",
       "    </tr>\n",
       "  </tbody>\n",
       "</table>\n",
       "</div>"
      ],
      "text/plain": [
       "     Sample Average  Time Series Expected Returns  \\\n",
       "BWX         -0.0051                        0.0355   \n",
       "DBC          0.0272                        0.0792   \n",
       "EEM          0.0592                        0.1281   \n",
       "EFA          0.0687                        0.1269   \n",
       "HYG          0.0633                        0.0637   \n",
       "IEF          0.0172                       -0.0068   \n",
       "IYR          0.1349                        0.1339   \n",
       "PSP          0.1168                        0.1827   \n",
       "QAI          0.0149                        0.0386   \n",
       "SPY          0.1373                        0.1367   \n",
       "TIP          0.0245                        0.0176   \n",
       "\n",
       "     Cross Sectional Expected Returns  \n",
       "BWX                            0.0281  \n",
       "DBC                            0.0261  \n",
       "EEM                            0.0706  \n",
       "EFA                            0.0728  \n",
       "HYG                            0.0399  \n",
       "IEF                            0.0044  \n",
       "IYR                            0.1443  \n",
       "PSP                            0.1146  \n",
       "QAI                            0.0122  \n",
       "SPY                            0.1193  \n",
       "TIP                            0.0265  "
      ]
     },
     "metadata": {},
     "output_type": "display_data"
    }
   ],
   "source": [
    "premia_df = (returns_data.mean()*12).to_frame('Sample Average')\n",
    "\n",
    "premia_df['Time Series Expected Returns'] = (factor_data.mean() * 12 * ts_test[['MKT','RMW']]).sum(axis = 1)\n",
    "\n",
    "premia_df['Cross Sectional Expected Returns'] = (cross_sect.params[0] + (ts_test[['MKT','RMW']] * cross_sect.params[1:]).sum(axis=1)) * 12\n",
    "display(premia_df)"
   ]
  },
  {
   "cell_type": "markdown",
   "metadata": {},
   "source": [
    "### 3 Applications to Previously Seen Topics\n",
    "\n",
    "#### 3.1 Calculate the tangency portfolio of the 11 excess return assets based on sample data. Report the tangency weights and sharpe ratio."
   ]
  },
  {
   "cell_type": "code",
   "execution_count": 83,
   "metadata": {},
   "outputs": [
    {
     "data": {
      "text/html": [
       "<div>\n",
       "<style scoped>\n",
       "    .dataframe tbody tr th:only-of-type {\n",
       "        vertical-align: middle;\n",
       "    }\n",
       "\n",
       "    .dataframe tbody tr th {\n",
       "        vertical-align: top;\n",
       "    }\n",
       "\n",
       "    .dataframe thead th {\n",
       "        text-align: right;\n",
       "    }\n",
       "</style>\n",
       "<table border=\"1\" class=\"dataframe\">\n",
       "  <thead>\n",
       "    <tr style=\"text-align: right;\">\n",
       "      <th></th>\n",
       "      <th>Tangency Weights</th>\n",
       "    </tr>\n",
       "  </thead>\n",
       "  <tbody>\n",
       "    <tr>\n",
       "      <th>BWX</th>\n",
       "      <td>-16.6834</td>\n",
       "    </tr>\n",
       "    <tr>\n",
       "      <th>DBC</th>\n",
       "      <td>2.6617</td>\n",
       "    </tr>\n",
       "    <tr>\n",
       "      <th>EEM</th>\n",
       "      <td>5.0023</td>\n",
       "    </tr>\n",
       "    <tr>\n",
       "      <th>EFA</th>\n",
       "      <td>-1.6528</td>\n",
       "    </tr>\n",
       "    <tr>\n",
       "      <th>HYG</th>\n",
       "      <td>15.8455</td>\n",
       "    </tr>\n",
       "    <tr>\n",
       "      <th>IEF</th>\n",
       "      <td>31.6714</td>\n",
       "    </tr>\n",
       "    <tr>\n",
       "      <th>IYR</th>\n",
       "      <td>-4.2510</td>\n",
       "    </tr>\n",
       "    <tr>\n",
       "      <th>PSP</th>\n",
       "      <td>-6.9802</td>\n",
       "    </tr>\n",
       "    <tr>\n",
       "      <th>QAI</th>\n",
       "      <td>-60.2653</td>\n",
       "    </tr>\n",
       "    <tr>\n",
       "      <th>SPY</th>\n",
       "      <td>33.1711</td>\n",
       "    </tr>\n",
       "    <tr>\n",
       "      <th>TIP</th>\n",
       "      <td>2.4806</td>\n",
       "    </tr>\n",
       "  </tbody>\n",
       "</table>\n",
       "</div>"
      ],
      "text/plain": [
       "     Tangency Weights\n",
       "BWX          -16.6834\n",
       "DBC            2.6617\n",
       "EEM            5.0023\n",
       "EFA           -1.6528\n",
       "HYG           15.8455\n",
       "IEF           31.6714\n",
       "IYR           -4.2510\n",
       "PSP           -6.9802\n",
       "QAI          -60.2653\n",
       "SPY           33.1711\n",
       "TIP            2.4806"
      ]
     },
     "execution_count": 83,
     "metadata": {},
     "output_type": "execute_result"
    }
   ],
   "source": [
    "def compute_tangency(excessReturnMatrix):\n",
    "    # Get the covariance matrix based on excess returns\n",
    "    sigma = excessReturnMatrix.cov()\n",
    "    \n",
    "    # Get the number of asset classes (in this example should be 11)\n",
    "    n = sigma.shape[0]\n",
    "    \n",
    "    # Get the vector of mean excess returns\n",
    "    mu = excessReturnMatrix.mean()\n",
    "    \n",
    "    # Get sigma inverse\n",
    "    sigma_inv = np.linalg.inv(sigma)\n",
    "    \n",
    "    # Now we have all the pieces, do the calculation\n",
    "    weights = (sigma_inv @ mu) / (np.ones(n) @ sigma_inv @ mu)\n",
    "    \n",
    "    # Convert back to a Series for convenience\n",
    "    return pd.Series(weights, index=mu.index)\n",
    "\n",
    "tangency_portfolio = compute_tangency(returns_data)\n",
    "tangency_portfolio.to_frame('Tangency Weights')"
   ]
  },
  {
   "cell_type": "code",
   "execution_count": 84,
   "metadata": {},
   "outputs": [
    {
     "data": {
      "text/html": [
       "<div>\n",
       "<style scoped>\n",
       "    .dataframe tbody tr th:only-of-type {\n",
       "        vertical-align: middle;\n",
       "    }\n",
       "\n",
       "    .dataframe tbody tr th {\n",
       "        vertical-align: top;\n",
       "    }\n",
       "\n",
       "    .dataframe thead th {\n",
       "        text-align: right;\n",
       "    }\n",
       "</style>\n",
       "<table border=\"1\" class=\"dataframe\">\n",
       "  <thead>\n",
       "    <tr style=\"text-align: right;\">\n",
       "      <th></th>\n",
       "      <th>Portfolio Stats</th>\n",
       "    </tr>\n",
       "  </thead>\n",
       "  <tbody>\n",
       "    <tr>\n",
       "      <th>Sharpe</th>\n",
       "      <td>1.8413</td>\n",
       "    </tr>\n",
       "  </tbody>\n",
       "</table>\n",
       "</div>"
      ],
      "text/plain": [
       "        Portfolio Stats\n",
       "Sharpe           1.8413"
      ]
     },
     "metadata": {},
     "output_type": "display_data"
    }
   ],
   "source": [
    "def portfolio_stats(excessReturnData, portfolio_weights):\n",
    "    # Calculate the mean by multiplying the mean excess returns by the tangency weights and annualizing\n",
    "    mean = excessReturnData.mean() @ portfolio_weights * 12\n",
    "\n",
    "    # Volatility = sqrt(variance), and by class notes: variance = allocation_matrix * covariance_matrix * allocation_matrix\n",
    "    # Annualize the result with sqrt(12)\n",
    "    vol = np.sqrt(portfolio_weights @ excessReturnData.cov() @ portfolio_weights) * np.sqrt(12)\n",
    "\n",
    "    # Sharpe Ratio is mean / vol\n",
    "    sharpe_ratio = mean / vol\n",
    "\n",
    "    # Format for easy reading\n",
    "    return round(pd.DataFrame(data = [sharpe_ratio], \n",
    "        index = ['Sharpe'], \n",
    "        columns = ['Portfolio Stats']), 4)\n",
    "    \n",
    "display(portfolio_stats(returns_data, tangency_portfolio))"
   ]
  },
  {
   "cell_type": "markdown",
   "metadata": {},
   "source": [
    "#### 3.2 Re-do the previous question regarding the tangency portfolio. But this time, utilize the expected returns as implied by the cross-sectional estimation of the pricing model in the tangency portfolio estimation."
   ]
  },
  {
   "cell_type": "code",
   "execution_count": 85,
   "metadata": {},
   "outputs": [
    {
     "data": {
      "text/html": [
       "<div>\n",
       "<style scoped>\n",
       "    .dataframe tbody tr th:only-of-type {\n",
       "        vertical-align: middle;\n",
       "    }\n",
       "\n",
       "    .dataframe tbody tr th {\n",
       "        vertical-align: top;\n",
       "    }\n",
       "\n",
       "    .dataframe thead th {\n",
       "        text-align: right;\n",
       "    }\n",
       "</style>\n",
       "<table border=\"1\" class=\"dataframe\">\n",
       "  <thead>\n",
       "    <tr style=\"text-align: right;\">\n",
       "      <th></th>\n",
       "      <th>Cross-Sectional Tangency Weights</th>\n",
       "    </tr>\n",
       "  </thead>\n",
       "  <tbody>\n",
       "    <tr>\n",
       "      <th>BWX</th>\n",
       "      <td>-0.2453</td>\n",
       "    </tr>\n",
       "    <tr>\n",
       "      <th>DBC</th>\n",
       "      <td>0.0421</td>\n",
       "    </tr>\n",
       "    <tr>\n",
       "      <th>EEM</th>\n",
       "      <td>0.0293</td>\n",
       "    </tr>\n",
       "    <tr>\n",
       "      <th>EFA</th>\n",
       "      <td>-0.0094</td>\n",
       "    </tr>\n",
       "    <tr>\n",
       "      <th>HYG</th>\n",
       "      <td>0.1640</td>\n",
       "    </tr>\n",
       "    <tr>\n",
       "      <th>IEF</th>\n",
       "      <td>2.9472</td>\n",
       "    </tr>\n",
       "    <tr>\n",
       "      <th>IYR</th>\n",
       "      <td>-0.0122</td>\n",
       "    </tr>\n",
       "    <tr>\n",
       "      <th>PSP</th>\n",
       "      <td>-0.0252</td>\n",
       "    </tr>\n",
       "    <tr>\n",
       "      <th>QAI</th>\n",
       "      <td>-2.0442</td>\n",
       "    </tr>\n",
       "    <tr>\n",
       "      <th>SPY</th>\n",
       "      <td>0.1150</td>\n",
       "    </tr>\n",
       "    <tr>\n",
       "      <th>TIP</th>\n",
       "      <td>0.0387</td>\n",
       "    </tr>\n",
       "  </tbody>\n",
       "</table>\n",
       "</div>"
      ],
      "text/plain": [
       "     Cross-Sectional Tangency Weights\n",
       "BWX                           -0.2453\n",
       "DBC                            0.0421\n",
       "EEM                            0.0293\n",
       "EFA                           -0.0094\n",
       "HYG                            0.1640\n",
       "IEF                            2.9472\n",
       "IYR                           -0.0122\n",
       "PSP                           -0.0252\n",
       "QAI                           -2.0442\n",
       "SPY                            0.1150\n",
       "TIP                            0.0387"
      ]
     },
     "execution_count": 85,
     "metadata": {},
     "output_type": "execute_result"
    }
   ],
   "source": [
    "# cross_sectional_estimation = premia_df['Cross Sectional Expected Returns'].to_frame('Returns')\n",
    "# cross_sectional_estimation.head()\n",
    "# cross_sectional_tangency = compute_tangency(cross_sectional_estimation)\n",
    "# display(cross_sectional_tangency)\n",
    "cross_sectional_estimation = premia_df['Cross Sectional Expected Returns'] * returns_data * 12\n",
    "cross_sectional_estimation.head()\n",
    "cs_tangency = compute_tangency(cross_sectional_estimation)\n",
    "cs_tangency.to_frame(\"Cross-Sectional Tangency Weights\")\n"
   ]
  },
  {
   "cell_type": "code",
   "execution_count": 86,
   "metadata": {},
   "outputs": [
    {
     "data": {
      "text/html": [
       "<div>\n",
       "<style scoped>\n",
       "    .dataframe tbody tr th:only-of-type {\n",
       "        vertical-align: middle;\n",
       "    }\n",
       "\n",
       "    .dataframe tbody tr th {\n",
       "        vertical-align: top;\n",
       "    }\n",
       "\n",
       "    .dataframe thead th {\n",
       "        text-align: right;\n",
       "    }\n",
       "</style>\n",
       "<table border=\"1\" class=\"dataframe\">\n",
       "  <thead>\n",
       "    <tr style=\"text-align: right;\">\n",
       "      <th></th>\n",
       "      <th>Portfolio Stats</th>\n",
       "    </tr>\n",
       "  </thead>\n",
       "  <tbody>\n",
       "    <tr>\n",
       "      <th>Sharpe</th>\n",
       "      <td>0.2459</td>\n",
       "    </tr>\n",
       "  </tbody>\n",
       "</table>\n",
       "</div>"
      ],
      "text/plain": [
       "        Portfolio Stats\n",
       "Sharpe           0.2459"
      ]
     },
     "metadata": {},
     "output_type": "display_data"
    }
   ],
   "source": [
    "display(portfolio_stats(returns_data, cs_tangency))"
   ]
  },
  {
   "cell_type": "markdown",
   "metadata": {},
   "source": [
    "#### 3.3 Assume lognormal, iid returns. Suppose for this question that, (in log returns,) the expected excess return of RMW is 3% with a 7% volatility. What is the probability that RMW will have positive excess returns over the next 5 years?"
   ]
  },
  {
   "cell_type": "code",
   "execution_count": 87,
   "metadata": {},
   "outputs": [
    {
     "name": "stdout",
     "output_type": "stream",
     "text": [
      "The probability that RMW will have positive excess returns is 83.1%\n"
     ]
    }
   ],
   "source": [
    "# Mu calculation\n",
    "mu = 0.03\n",
    "var = 0.07\n",
    "\n",
    "def prob_calc(h, tilde_mu, tilde_sigma):\n",
    "    return scipy.stats.norm.cdf((- np.sqrt(h) * tilde_mu) / tilde_sigma)\n",
    "\n",
    "def prob(h, tilde_mu, tilde_sigma):\n",
    "    prob_df = pd.DataFrame(data = h, columns = ['h'])\n",
    "    \n",
    "    prob_df['Probability'] = prob_calc(prob_df['h'], tilde_mu, tilde_sigma)\n",
    "    \n",
    "    prob_df = prob_df.set_index('h')\n",
    "    \n",
    "    return prob_df\n",
    "\n",
    "# print(prob_calc([5], mu, var))\n",
    "probability = 1 - prob_calc([5], mu, var)[0]\n",
    "\n",
    "print(f\"The probability that RMW will have positive excess returns is {round(100* probability, 2)}%\")"
   ]
  }
 ],
 "metadata": {
  "kernelspec": {
   "display_name": "Python 3.10.8 64-bit (microsoft store)",
   "language": "python",
   "name": "python3"
  },
  "language_info": {
   "codemirror_mode": {
    "name": "ipython",
    "version": 3
   },
   "file_extension": ".py",
   "mimetype": "text/x-python",
   "name": "python",
   "nbconvert_exporter": "python",
   "pygments_lexer": "ipython3",
   "version": "3.10.8"
  },
  "orig_nbformat": 4,
  "vscode": {
   "interpreter": {
    "hash": "28c29896733cd258a7e144e5cfe10ab10fb1ed1767adc491e37af3f909fe0b53"
   }
  }
 },
 "nbformat": 4,
 "nbformat_minor": 2
}
