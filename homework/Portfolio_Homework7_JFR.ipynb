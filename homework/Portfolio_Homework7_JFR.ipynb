{
 "cells": [
  {
   "cell_type": "markdown",
   "id": "f481ce16",
   "metadata": {},
   "source": [
    "## Homework 7"
   ]
  },
  {
   "cell_type": "code",
   "execution_count": 1,
   "id": "fedf7feb",
   "metadata": {},
   "outputs": [],
   "source": [
    "import pandas as pd\n",
    "import numpy as np\n",
    "import matplotlib.pyplot as plt\n",
    "import math\n",
    "import scipy.stats as stats\n",
    "import seaborn as sns\n",
    "import statsmodels.api as sm\n",
    "from statsmodels.regression.rolling import RollingOLS\n",
    "from sklearn.linear_model import LinearRegression"
   ]
  },
  {
   "cell_type": "code",
   "execution_count": 2,
   "id": "52cf642a",
   "metadata": {},
   "outputs": [
    {
     "data": {
      "text/html": [
       "<div>\n",
       "<style scoped>\n",
       "    .dataframe tbody tr th:only-of-type {\n",
       "        vertical-align: middle;\n",
       "    }\n",
       "\n",
       "    .dataframe tbody tr th {\n",
       "        vertical-align: top;\n",
       "    }\n",
       "\n",
       "    .dataframe thead th {\n",
       "        text-align: right;\n",
       "    }\n",
       "</style>\n",
       "<table border=\"1\" class=\"dataframe\">\n",
       "  <thead>\n",
       "    <tr style=\"text-align: right;\">\n",
       "      <th></th>\n",
       "      <th>SPY</th>\n",
       "      <th>GMWAX</th>\n",
       "    </tr>\n",
       "    <tr>\n",
       "      <th>date</th>\n",
       "      <th></th>\n",
       "      <th></th>\n",
       "    </tr>\n",
       "  </thead>\n",
       "  <tbody>\n",
       "    <tr>\n",
       "      <th>1996-11-30</th>\n",
       "      <td>0.068729</td>\n",
       "      <td>0.040906</td>\n",
       "    </tr>\n",
       "    <tr>\n",
       "      <th>1996-12-31</th>\n",
       "      <td>-0.028150</td>\n",
       "      <td>-0.015631</td>\n",
       "    </tr>\n",
       "    <tr>\n",
       "      <th>1997-01-31</th>\n",
       "      <td>0.057494</td>\n",
       "      <td>0.010443</td>\n",
       "    </tr>\n",
       "    <tr>\n",
       "      <th>1997-02-28</th>\n",
       "      <td>0.005216</td>\n",
       "      <td>0.017915</td>\n",
       "    </tr>\n",
       "    <tr>\n",
       "      <th>1997-03-31</th>\n",
       "      <td>-0.048597</td>\n",
       "      <td>-0.019610</td>\n",
       "    </tr>\n",
       "    <tr>\n",
       "      <th>...</th>\n",
       "      <td>...</td>\n",
       "      <td>...</td>\n",
       "    </tr>\n",
       "    <tr>\n",
       "      <th>2022-06-30</th>\n",
       "      <td>-0.083903</td>\n",
       "      <td>-0.065589</td>\n",
       "    </tr>\n",
       "    <tr>\n",
       "      <th>2022-07-31</th>\n",
       "      <td>0.090079</td>\n",
       "      <td>0.032416</td>\n",
       "    </tr>\n",
       "    <tr>\n",
       "      <th>2022-08-31</th>\n",
       "      <td>-0.043269</td>\n",
       "      <td>-0.028286</td>\n",
       "    </tr>\n",
       "    <tr>\n",
       "      <th>2022-09-30</th>\n",
       "      <td>-0.095192</td>\n",
       "      <td>-0.071412</td>\n",
       "    </tr>\n",
       "    <tr>\n",
       "      <th>2022-10-31</th>\n",
       "      <td>0.077759</td>\n",
       "      <td>0.035155</td>\n",
       "    </tr>\n",
       "  </tbody>\n",
       "</table>\n",
       "<p>312 rows × 2 columns</p>\n",
       "</div>"
      ],
      "text/plain": [
       "                 SPY     GMWAX\n",
       "date                          \n",
       "1996-11-30  0.068729  0.040906\n",
       "1996-12-31 -0.028150 -0.015631\n",
       "1997-01-31  0.057494  0.010443\n",
       "1997-02-28  0.005216  0.017915\n",
       "1997-03-31 -0.048597 -0.019610\n",
       "...              ...       ...\n",
       "2022-06-30 -0.083903 -0.065589\n",
       "2022-07-31  0.090079  0.032416\n",
       "2022-08-31 -0.043269 -0.028286\n",
       "2022-09-30 -0.095192 -0.071412\n",
       "2022-10-31  0.077759  0.035155\n",
       "\n",
       "[312 rows x 2 columns]"
      ]
     },
     "execution_count": 2,
     "metadata": {},
     "output_type": "execute_result"
    }
   ],
   "source": [
    "dataname = '../data/gmo_analysis_data.xlsx'\n",
    "signals = pd.read_excel(dataname,sheet_name = 'signals')\n",
    "returns = pd.read_excel(dataname,sheet_name = 'returns (total)')\n",
    "rf = pd.read_excel(dataname,sheet_name = 'risk-free rate')\n",
    "signals = signals.rename(columns={'Unnamed: 0':'date'}).set_index('date')\n",
    "returns = returns.rename(columns={'Unnamed: 0':'date'}).set_index('date')\n",
    "rf = rf.rename(columns={'Unnamed: 0':'date'}).set_index('date')\n",
    "exe = returns.dropna().subtract(rf['US3M'],axis=0).dropna()\n",
    "exe"
   ]
  },
  {
   "cell_type": "code",
   "execution_count": 3,
   "id": "99b21df1",
   "metadata": {},
   "outputs": [],
   "source": [
    "exe11 = exe[:'2011']\n",
    "exe22 = exe['2012':]"
   ]
  },
  {
   "cell_type": "markdown",
   "id": "38566284",
   "metadata": {},
   "source": [
    "### Part 2 - Analyzing GMO"
   ]
  },
  {
   "cell_type": "markdown",
   "id": "53bba000",
   "metadata": {},
   "source": [
    "#### Question 1 and Question 2"
   ]
  },
  {
   "cell_type": "code",
   "execution_count": 4,
   "id": "719cf909",
   "metadata": {},
   "outputs": [],
   "source": [
    "def simplemetrics(mid, freq=12):\n",
    "    metrics = pd.DataFrame(index=mid.columns)\n",
    "    metrics['mean'] = mid.mean() * freq\n",
    "    metrics['vol'] = mid.std() * np.sqrt(freq)\n",
    "    metrics['sharpe'] = metrics['mean'] / metrics['vol']\n",
    "#     metrics['skewness'] = mid.skew()\n",
    "#     metrics['kustosis'] = mid.kurtosis() \n",
    "    metrics['VaR'] = mid.quantile(.05) \n",
    "#     metrics['CVaR'] = mid[mid < metrics['VaR']].mean()\n",
    "    cummulative_returns = (1 + mid).cumprod()\n",
    "    rolling_max = cummulative_returns.cummax()\n",
    "    drawdown = (cummulative_returns - rolling_max)/rolling_max\n",
    "    metrics['max drawdown'] = drawdown.min()\n",
    "#     metrics['max'] = mid.max()\n",
    "    metrics['min'] = mid.min()\n",
    "    return metrics"
   ]
  },
  {
   "cell_type": "code",
   "execution_count": 5,
   "id": "7f977bea",
   "metadata": {},
   "outputs": [
    {
     "data": {
      "text/html": [
       "<div>\n",
       "<style scoped>\n",
       "    .dataframe tbody tr th:only-of-type {\n",
       "        vertical-align: middle;\n",
       "    }\n",
       "\n",
       "    .dataframe tbody tr th {\n",
       "        vertical-align: top;\n",
       "    }\n",
       "\n",
       "    .dataframe thead th {\n",
       "        text-align: right;\n",
       "    }\n",
       "</style>\n",
       "<table border=\"1\" class=\"dataframe\">\n",
       "  <thead>\n",
       "    <tr style=\"text-align: right;\">\n",
       "      <th></th>\n",
       "      <th>mean</th>\n",
       "      <th>vol</th>\n",
       "      <th>sharpe</th>\n",
       "      <th>VaR</th>\n",
       "      <th>max drawdown</th>\n",
       "      <th>min</th>\n",
       "    </tr>\n",
       "  </thead>\n",
       "  <tbody>\n",
       "    <tr>\n",
       "      <th>SPY</th>\n",
       "      <td>0.039987</td>\n",
       "      <td>0.164976</td>\n",
       "      <td>0.242383</td>\n",
       "      <td>-0.080224</td>\n",
       "      <td>-0.560012</td>\n",
       "      <td>-0.165570</td>\n",
       "    </tr>\n",
       "    <tr>\n",
       "      <th>GMWAX</th>\n",
       "      <td>0.015827</td>\n",
       "      <td>0.125011</td>\n",
       "      <td>0.126603</td>\n",
       "      <td>-0.059806</td>\n",
       "      <td>-0.472946</td>\n",
       "      <td>-0.149179</td>\n",
       "    </tr>\n",
       "  </tbody>\n",
       "</table>\n",
       "</div>"
      ],
      "text/plain": [
       "           mean       vol    sharpe       VaR  max drawdown       min\n",
       "SPY    0.039987  0.164976  0.242383 -0.080224     -0.560012 -0.165570\n",
       "GMWAX  0.015827  0.125011  0.126603 -0.059806     -0.472946 -0.149179"
      ]
     },
     "execution_count": 5,
     "metadata": {},
     "output_type": "execute_result"
    }
   ],
   "source": [
    "simplemetrics(exe11)"
   ]
  },
  {
   "cell_type": "code",
   "execution_count": 6,
   "id": "3616b4b1",
   "metadata": {},
   "outputs": [
    {
     "data": {
      "text/html": [
       "<div>\n",
       "<style scoped>\n",
       "    .dataframe tbody tr th:only-of-type {\n",
       "        vertical-align: middle;\n",
       "    }\n",
       "\n",
       "    .dataframe tbody tr th {\n",
       "        vertical-align: top;\n",
       "    }\n",
       "\n",
       "    .dataframe thead th {\n",
       "        text-align: right;\n",
       "    }\n",
       "</style>\n",
       "<table border=\"1\" class=\"dataframe\">\n",
       "  <thead>\n",
       "    <tr style=\"text-align: right;\">\n",
       "      <th></th>\n",
       "      <th>mean</th>\n",
       "      <th>vol</th>\n",
       "      <th>sharpe</th>\n",
       "      <th>VaR</th>\n",
       "      <th>max drawdown</th>\n",
       "      <th>min</th>\n",
       "    </tr>\n",
       "  </thead>\n",
       "  <tbody>\n",
       "    <tr>\n",
       "      <th>SPY</th>\n",
       "      <td>0.126509</td>\n",
       "      <td>0.143068</td>\n",
       "      <td>0.884254</td>\n",
       "      <td>-0.068658</td>\n",
       "      <td>-0.248125</td>\n",
       "      <td>-0.124734</td>\n",
       "    </tr>\n",
       "    <tr>\n",
       "      <th>GMWAX</th>\n",
       "      <td>0.036635</td>\n",
       "      <td>0.091996</td>\n",
       "      <td>0.398229</td>\n",
       "      <td>-0.039686</td>\n",
       "      <td>-0.226046</td>\n",
       "      <td>-0.118650</td>\n",
       "    </tr>\n",
       "  </tbody>\n",
       "</table>\n",
       "</div>"
      ],
      "text/plain": [
       "           mean       vol    sharpe       VaR  max drawdown       min\n",
       "SPY    0.126509  0.143068  0.884254 -0.068658     -0.248125 -0.124734\n",
       "GMWAX  0.036635  0.091996  0.398229 -0.039686     -0.226046 -0.118650"
      ]
     },
     "execution_count": 6,
     "metadata": {},
     "output_type": "execute_result"
    }
   ],
   "source": [
    "simplemetrics(exe22)"
   ]
  },
  {
   "cell_type": "code",
   "execution_count": 7,
   "id": "99390541",
   "metadata": {},
   "outputs": [
    {
     "data": {
      "text/html": [
       "<div>\n",
       "<style scoped>\n",
       "    .dataframe tbody tr th:only-of-type {\n",
       "        vertical-align: middle;\n",
       "    }\n",
       "\n",
       "    .dataframe tbody tr th {\n",
       "        vertical-align: top;\n",
       "    }\n",
       "\n",
       "    .dataframe thead th {\n",
       "        text-align: right;\n",
       "    }\n",
       "</style>\n",
       "<table border=\"1\" class=\"dataframe\">\n",
       "  <thead>\n",
       "    <tr style=\"text-align: right;\">\n",
       "      <th></th>\n",
       "      <th>mean</th>\n",
       "      <th>vol</th>\n",
       "      <th>sharpe</th>\n",
       "      <th>VaR</th>\n",
       "      <th>max drawdown</th>\n",
       "      <th>min</th>\n",
       "    </tr>\n",
       "  </thead>\n",
       "  <tbody>\n",
       "    <tr>\n",
       "      <th>SPY</th>\n",
       "      <td>0.076038</td>\n",
       "      <td>0.156469</td>\n",
       "      <td>0.485962</td>\n",
       "      <td>-0.080006</td>\n",
       "      <td>-0.560012</td>\n",
       "      <td>-0.165570</td>\n",
       "    </tr>\n",
       "    <tr>\n",
       "      <th>GMWAX</th>\n",
       "      <td>0.024497</td>\n",
       "      <td>0.112314</td>\n",
       "      <td>0.218112</td>\n",
       "      <td>-0.048293</td>\n",
       "      <td>-0.472946</td>\n",
       "      <td>-0.149179</td>\n",
       "    </tr>\n",
       "  </tbody>\n",
       "</table>\n",
       "</div>"
      ],
      "text/plain": [
       "           mean       vol    sharpe       VaR  max drawdown       min\n",
       "SPY    0.076038  0.156469  0.485962 -0.080006     -0.560012 -0.165570\n",
       "GMWAX  0.024497  0.112314  0.218112 -0.048293     -0.472946 -0.149179"
      ]
     },
     "execution_count": 7,
     "metadata": {},
     "output_type": "execute_result"
    }
   ],
   "source": [
    "simplemetrics(exe)"
   ]
  },
  {
   "cell_type": "markdown",
   "id": "7cf06443",
   "metadata": {},
   "source": [
    "Q2 a)"
   ]
  },
  {
   "cell_type": "markdown",
   "id": "0c24be57",
   "metadata": {},
   "source": [
    "Q2 b)"
   ]
  },
  {
   "cell_type": "markdown",
   "id": "a1f570ea",
   "metadata": {},
   "source": [
    "#### Question 3"
   ]
  },
  {
   "cell_type": "code",
   "execution_count": 8,
   "id": "6849841f",
   "metadata": {},
   "outputs": [
    {
     "data": {
      "text/html": [
       "<div>\n",
       "<style scoped>\n",
       "    .dataframe tbody tr th:only-of-type {\n",
       "        vertical-align: middle;\n",
       "    }\n",
       "\n",
       "    .dataframe tbody tr th {\n",
       "        vertical-align: top;\n",
       "    }\n",
       "\n",
       "    .dataframe thead th {\n",
       "        text-align: right;\n",
       "    }\n",
       "</style>\n",
       "<table border=\"1\" class=\"dataframe\">\n",
       "  <thead>\n",
       "    <tr style=\"text-align: right;\">\n",
       "      <th></th>\n",
       "      <th>Regression Results</th>\n",
       "    </tr>\n",
       "  </thead>\n",
       "  <tbody>\n",
       "    <tr>\n",
       "      <th>alpha</th>\n",
       "      <td>-0.000479</td>\n",
       "    </tr>\n",
       "    <tr>\n",
       "      <th>SPY</th>\n",
       "      <td>0.539616</td>\n",
       "    </tr>\n",
       "    <tr>\n",
       "      <th>$R^{2}$</th>\n",
       "      <td>0.507129</td>\n",
       "    </tr>\n",
       "  </tbody>\n",
       "</table>\n",
       "</div>"
      ],
      "text/plain": [
       "         Regression Results\n",
       "alpha             -0.000479\n",
       "SPY                0.539616\n",
       "$R^{2}$            0.507129"
      ]
     },
     "execution_count": 8,
     "metadata": {},
     "output_type": "execute_result"
    }
   ],
   "source": [
    "y = exe11['GMWAX']\n",
    "x = sm.add_constant(exe11['SPY'])\n",
    "reg = sm.OLS(y,x, missing = 'drop').fit()\n",
    "params_df = reg.params.to_frame('Regression Results')\n",
    "params_df = params_df.rename(index={'const':'alpha'})\n",
    "params_df.loc[r'$R^{2}$'] = reg.rsquared\n",
    "params_df"
   ]
  },
  {
   "cell_type": "code",
   "execution_count": 9,
   "id": "bb8b34ee",
   "metadata": {},
   "outputs": [
    {
     "data": {
      "text/html": [
       "<div>\n",
       "<style scoped>\n",
       "    .dataframe tbody tr th:only-of-type {\n",
       "        vertical-align: middle;\n",
       "    }\n",
       "\n",
       "    .dataframe tbody tr th {\n",
       "        vertical-align: top;\n",
       "    }\n",
       "\n",
       "    .dataframe thead th {\n",
       "        text-align: right;\n",
       "    }\n",
       "</style>\n",
       "<table border=\"1\" class=\"dataframe\">\n",
       "  <thead>\n",
       "    <tr style=\"text-align: right;\">\n",
       "      <th></th>\n",
       "      <th>Regression Results</th>\n",
       "    </tr>\n",
       "  </thead>\n",
       "  <tbody>\n",
       "    <tr>\n",
       "      <th>alpha</th>\n",
       "      <td>-0.002874</td>\n",
       "    </tr>\n",
       "    <tr>\n",
       "      <th>SPY</th>\n",
       "      <td>0.562232</td>\n",
       "    </tr>\n",
       "    <tr>\n",
       "      <th>$R^{2}$</th>\n",
       "      <td>0.764506</td>\n",
       "    </tr>\n",
       "  </tbody>\n",
       "</table>\n",
       "</div>"
      ],
      "text/plain": [
       "         Regression Results\n",
       "alpha             -0.002874\n",
       "SPY                0.562232\n",
       "$R^{2}$            0.764506"
      ]
     },
     "execution_count": 9,
     "metadata": {},
     "output_type": "execute_result"
    }
   ],
   "source": [
    "y = exe22['GMWAX']\n",
    "x = sm.add_constant(exe22['SPY'])\n",
    "reg = sm.OLS(y,x, missing = 'drop').fit()\n",
    "params_df = reg.params.to_frame('Regression Results')\n",
    "params_df = params_df.rename(index={'const':'alpha'})\n",
    "params_df.loc[r'$R^{2}$'] = reg.rsquared\n",
    "params_df"
   ]
  },
  {
   "cell_type": "code",
   "execution_count": 10,
   "id": "f6c6b807",
   "metadata": {},
   "outputs": [
    {
     "data": {
      "text/html": [
       "<div>\n",
       "<style scoped>\n",
       "    .dataframe tbody tr th:only-of-type {\n",
       "        vertical-align: middle;\n",
       "    }\n",
       "\n",
       "    .dataframe tbody tr th {\n",
       "        vertical-align: top;\n",
       "    }\n",
       "\n",
       "    .dataframe thead th {\n",
       "        text-align: right;\n",
       "    }\n",
       "</style>\n",
       "<table border=\"1\" class=\"dataframe\">\n",
       "  <thead>\n",
       "    <tr style=\"text-align: right;\">\n",
       "      <th></th>\n",
       "      <th>Regression Results</th>\n",
       "    </tr>\n",
       "  </thead>\n",
       "  <tbody>\n",
       "    <tr>\n",
       "      <th>alpha</th>\n",
       "      <td>-0.001416</td>\n",
       "    </tr>\n",
       "    <tr>\n",
       "      <th>SPY</th>\n",
       "      <td>0.545600</td>\n",
       "    </tr>\n",
       "    <tr>\n",
       "      <th>$R^{2}$</th>\n",
       "      <td>0.577744</td>\n",
       "    </tr>\n",
       "  </tbody>\n",
       "</table>\n",
       "</div>"
      ],
      "text/plain": [
       "         Regression Results\n",
       "alpha             -0.001416\n",
       "SPY                0.545600\n",
       "$R^{2}$            0.577744"
      ]
     },
     "execution_count": 10,
     "metadata": {},
     "output_type": "execute_result"
    }
   ],
   "source": [
    "y = exe['GMWAX']\n",
    "x = sm.add_constant(exe['SPY'])\n",
    "reg = sm.OLS(y,x, missing = 'drop').fit()\n",
    "params_df = reg.params.to_frame('Regression Results')\n",
    "params_df = params_df.rename(index={'const':'alpha'})\n",
    "params_df.loc[r'$R^{2}$'] = reg.rsquared\n",
    "params_df"
   ]
  },
  {
   "cell_type": "markdown",
   "id": "5d8cc38c",
   "metadata": {},
   "source": [
    "a)"
   ]
  },
  {
   "cell_type": "markdown",
   "id": "0362c470",
   "metadata": {},
   "source": [
    "b)"
   ]
  },
  {
   "cell_type": "markdown",
   "id": "ecc902ee",
   "metadata": {},
   "source": [
    "### Part  - Forecast Regressions"
   ]
  },
  {
   "cell_type": "markdown",
   "id": "80cd41df",
   "metadata": {},
   "source": [
    "#### Question 1"
   ]
  },
  {
   "cell_type": "code",
   "execution_count": 11,
   "id": "c54a0b1f",
   "metadata": {},
   "outputs": [
    {
     "data": {
      "text/html": [
       "<div>\n",
       "<style scoped>\n",
       "    .dataframe tbody tr th:only-of-type {\n",
       "        vertical-align: middle;\n",
       "    }\n",
       "\n",
       "    .dataframe tbody tr th {\n",
       "        vertical-align: top;\n",
       "    }\n",
       "\n",
       "    .dataframe thead th {\n",
       "        text-align: right;\n",
       "    }\n",
       "</style>\n",
       "<table border=\"1\" class=\"dataframe\">\n",
       "  <thead>\n",
       "    <tr style=\"text-align: right;\">\n",
       "      <th></th>\n",
       "      <th>DP</th>\n",
       "      <th>EP</th>\n",
       "      <th>US10Y</th>\n",
       "      <th>SPY</th>\n",
       "    </tr>\n",
       "    <tr>\n",
       "      <th>date</th>\n",
       "      <th></th>\n",
       "      <th></th>\n",
       "      <th></th>\n",
       "      <th></th>\n",
       "    </tr>\n",
       "  </thead>\n",
       "  <tbody>\n",
       "    <tr>\n",
       "      <th>1993-02-28</th>\n",
       "      <td>NaN</td>\n",
       "      <td>NaN</td>\n",
       "      <td>NaN</td>\n",
       "      <td>0.010667</td>\n",
       "    </tr>\n",
       "    <tr>\n",
       "      <th>1993-03-31</th>\n",
       "      <td>2.82</td>\n",
       "      <td>4.44</td>\n",
       "      <td>6.03</td>\n",
       "      <td>0.022408</td>\n",
       "    </tr>\n",
       "    <tr>\n",
       "      <th>1993-04-30</th>\n",
       "      <td>2.77</td>\n",
       "      <td>4.41</td>\n",
       "      <td>6.03</td>\n",
       "      <td>-0.025589</td>\n",
       "    </tr>\n",
       "    <tr>\n",
       "      <th>1993-05-31</th>\n",
       "      <td>2.82</td>\n",
       "      <td>4.44</td>\n",
       "      <td>6.05</td>\n",
       "      <td>0.026970</td>\n",
       "    </tr>\n",
       "    <tr>\n",
       "      <th>1993-06-30</th>\n",
       "      <td>2.81</td>\n",
       "      <td>4.38</td>\n",
       "      <td>6.16</td>\n",
       "      <td>0.003667</td>\n",
       "    </tr>\n",
       "    <tr>\n",
       "      <th>...</th>\n",
       "      <td>...</td>\n",
       "      <td>...</td>\n",
       "      <td>...</td>\n",
       "      <td>...</td>\n",
       "    </tr>\n",
       "    <tr>\n",
       "      <th>2022-06-30</th>\n",
       "      <td>1.57</td>\n",
       "      <td>4.79</td>\n",
       "      <td>2.85</td>\n",
       "      <td>-0.082469</td>\n",
       "    </tr>\n",
       "    <tr>\n",
       "      <th>2022-07-31</th>\n",
       "      <td>1.64</td>\n",
       "      <td>5.23</td>\n",
       "      <td>2.98</td>\n",
       "      <td>0.092087</td>\n",
       "    </tr>\n",
       "    <tr>\n",
       "      <th>2022-08-31</th>\n",
       "      <td>1.65</td>\n",
       "      <td>4.91</td>\n",
       "      <td>2.67</td>\n",
       "      <td>-0.040802</td>\n",
       "    </tr>\n",
       "    <tr>\n",
       "      <th>2022-09-30</th>\n",
       "      <td>1.56</td>\n",
       "      <td>5.00</td>\n",
       "      <td>3.15</td>\n",
       "      <td>-0.092417</td>\n",
       "    </tr>\n",
       "    <tr>\n",
       "      <th>2022-10-31</th>\n",
       "      <td>1.70</td>\n",
       "      <td>5.52</td>\n",
       "      <td>3.83</td>\n",
       "      <td>0.081276</td>\n",
       "    </tr>\n",
       "  </tbody>\n",
       "</table>\n",
       "<p>357 rows × 4 columns</p>\n",
       "</div>"
      ],
      "text/plain": [
       "              DP    EP  US10Y       SPY\n",
       "date                                   \n",
       "1993-02-28   NaN   NaN    NaN  0.010667\n",
       "1993-03-31  2.82  4.44   6.03  0.022408\n",
       "1993-04-30  2.77  4.41   6.03 -0.025589\n",
       "1993-05-31  2.82  4.44   6.05  0.026970\n",
       "1993-06-30  2.81  4.38   6.16  0.003667\n",
       "...          ...   ...    ...       ...\n",
       "2022-06-30  1.57  4.79   2.85 -0.082469\n",
       "2022-07-31  1.64  5.23   2.98  0.092087\n",
       "2022-08-31  1.65  4.91   2.67 -0.040802\n",
       "2022-09-30  1.56  5.00   3.15 -0.092417\n",
       "2022-10-31  1.70  5.52   3.83  0.081276\n",
       "\n",
       "[357 rows x 4 columns]"
      ]
     },
     "execution_count": 11,
     "metadata": {},
     "output_type": "execute_result"
    }
   ],
   "source": [
    "shift = signals.shift()\n",
    "shift['SPY'] = returns['SPY']\n",
    "shift"
   ]
  },
  {
   "cell_type": "code",
   "execution_count": 12,
   "id": "f52691c0",
   "metadata": {},
   "outputs": [
    {
     "data": {
      "text/html": [
       "<div>\n",
       "<style scoped>\n",
       "    .dataframe tbody tr th:only-of-type {\n",
       "        vertical-align: middle;\n",
       "    }\n",
       "\n",
       "    .dataframe tbody tr th {\n",
       "        vertical-align: top;\n",
       "    }\n",
       "\n",
       "    .dataframe thead th {\n",
       "        text-align: right;\n",
       "    }\n",
       "</style>\n",
       "<table border=\"1\" class=\"dataframe\">\n",
       "  <thead>\n",
       "    <tr style=\"text-align: right;\">\n",
       "      <th></th>\n",
       "      <th>Regression Results</th>\n",
       "    </tr>\n",
       "  </thead>\n",
       "  <tbody>\n",
       "    <tr>\n",
       "      <th>alpha</th>\n",
       "      <td>-0.009405</td>\n",
       "    </tr>\n",
       "    <tr>\n",
       "      <th>DP</th>\n",
       "      <td>0.009430</td>\n",
       "    </tr>\n",
       "    <tr>\n",
       "      <th>$R^{2}$</th>\n",
       "      <td>0.009355</td>\n",
       "    </tr>\n",
       "  </tbody>\n",
       "</table>\n",
       "</div>"
      ],
      "text/plain": [
       "         Regression Results\n",
       "alpha             -0.009405\n",
       "DP                 0.009430\n",
       "$R^{2}$            0.009355"
      ]
     },
     "execution_count": 12,
     "metadata": {},
     "output_type": "execute_result"
    }
   ],
   "source": [
    "y = shift['SPY']\n",
    "x = sm.add_constant(shift['DP'])\n",
    "reg = sm.OLS(y,x, missing = 'drop').fit()\n",
    "params_df = reg.params.to_frame('Regression Results')\n",
    "params_df = params_df.rename(index={'const':'alpha'})\n",
    "params_df.loc[r'$R^{2}$'] = reg.rsquared\n",
    "w_DP = 100 * (params_df.loc['alpha'][0]/12 + params_df.loc['DP'][0] * shift['DP'])\n",
    "r_DP = (w_DP * shift['SPY']).dropna()\n",
    "params_df"
   ]
  },
  {
   "cell_type": "code",
   "execution_count": 13,
   "id": "9a657d8e",
   "metadata": {},
   "outputs": [
    {
     "data": {
      "text/html": [
       "<div>\n",
       "<style scoped>\n",
       "    .dataframe tbody tr th:only-of-type {\n",
       "        vertical-align: middle;\n",
       "    }\n",
       "\n",
       "    .dataframe tbody tr th {\n",
       "        vertical-align: top;\n",
       "    }\n",
       "\n",
       "    .dataframe thead th {\n",
       "        text-align: right;\n",
       "    }\n",
       "</style>\n",
       "<table border=\"1\" class=\"dataframe\">\n",
       "  <thead>\n",
       "    <tr style=\"text-align: right;\">\n",
       "      <th></th>\n",
       "      <th>Regression Results</th>\n",
       "    </tr>\n",
       "  </thead>\n",
       "  <tbody>\n",
       "    <tr>\n",
       "      <th>alpha</th>\n",
       "      <td>-0.005934</td>\n",
       "    </tr>\n",
       "    <tr>\n",
       "      <th>EP</th>\n",
       "      <td>0.003196</td>\n",
       "    </tr>\n",
       "    <tr>\n",
       "      <th>$R^{2}$</th>\n",
       "      <td>0.008613</td>\n",
       "    </tr>\n",
       "  </tbody>\n",
       "</table>\n",
       "</div>"
      ],
      "text/plain": [
       "         Regression Results\n",
       "alpha             -0.005934\n",
       "EP                 0.003196\n",
       "$R^{2}$            0.008613"
      ]
     },
     "execution_count": 13,
     "metadata": {},
     "output_type": "execute_result"
    }
   ],
   "source": [
    "y = shift['SPY']\n",
    "x = sm.add_constant(shift['EP'])\n",
    "reg = sm.OLS(y,x, missing = 'drop').fit()\n",
    "params_df = reg.params.to_frame('Regression Results')\n",
    "params_df = params_df.rename(index={'const':'alpha'})\n",
    "params_df.loc[r'$R^{2}$'] = reg.rsquared\n",
    "w_EP = 100 * (params_df.loc['alpha'][0]/12 + params_df.loc['EP'][0] * shift['EP'])\n",
    "r_EP = (w_EP * shift['SPY']).dropna()\n",
    "params_df"
   ]
  },
  {
   "cell_type": "code",
   "execution_count": 14,
   "id": "27475233",
   "metadata": {},
   "outputs": [
    {
     "data": {
      "text/html": [
       "<div>\n",
       "<style scoped>\n",
       "    .dataframe tbody tr th:only-of-type {\n",
       "        vertical-align: middle;\n",
       "    }\n",
       "\n",
       "    .dataframe tbody tr th {\n",
       "        vertical-align: top;\n",
       "    }\n",
       "\n",
       "    .dataframe thead th {\n",
       "        text-align: right;\n",
       "    }\n",
       "</style>\n",
       "<table border=\"1\" class=\"dataframe\">\n",
       "  <thead>\n",
       "    <tr style=\"text-align: right;\">\n",
       "      <th></th>\n",
       "      <th>Regression Results</th>\n",
       "    </tr>\n",
       "  </thead>\n",
       "  <tbody>\n",
       "    <tr>\n",
       "      <th>alpha</th>\n",
       "      <td>-0.014933</td>\n",
       "    </tr>\n",
       "    <tr>\n",
       "      <th>EP</th>\n",
       "      <td>0.002651</td>\n",
       "    </tr>\n",
       "    <tr>\n",
       "      <th>DP</th>\n",
       "      <td>0.007979</td>\n",
       "    </tr>\n",
       "    <tr>\n",
       "      <th>US10Y</th>\n",
       "      <td>-0.000968</td>\n",
       "    </tr>\n",
       "    <tr>\n",
       "      <th>$R^{2}$</th>\n",
       "      <td>0.016333</td>\n",
       "    </tr>\n",
       "  </tbody>\n",
       "</table>\n",
       "</div>"
      ],
      "text/plain": [
       "         Regression Results\n",
       "alpha             -0.014933\n",
       "EP                 0.002651\n",
       "DP                 0.007979\n",
       "US10Y             -0.000968\n",
       "$R^{2}$            0.016333"
      ]
     },
     "execution_count": 14,
     "metadata": {},
     "output_type": "execute_result"
    }
   ],
   "source": [
    "y = shift['SPY']\n",
    "x = sm.add_constant(shift[['EP','DP','US10Y']])\n",
    "reg = sm.OLS(y,x, missing = 'drop').fit()\n",
    "params_df = reg.params.to_frame('Regression Results')\n",
    "params_df = params_df.rename(index={'const':'alpha'})\n",
    "params_df.loc[r'$R^{2}$'] = reg.rsquared\n",
    "w_3f = 100 * (params_df.loc['alpha'][0]/12 + params_df.loc['EP'][0] * shift['EP']\\\n",
    "                                           + params_df.loc['DP'][0] * shift['DP']\\\n",
    "                                           + params_df.loc['US10Y'][0] * shift['US10Y'])\n",
    "r_3f = (w_3f * shift['SPY']).dropna()\n",
    "params_df"
   ]
  },
  {
   "cell_type": "markdown",
   "id": "26c80e3d",
   "metadata": {},
   "source": [
    "#### Question 2"
   ]
  },
  {
   "cell_type": "code",
   "execution_count": 15,
   "id": "206b95d1",
   "metadata": {},
   "outputs": [],
   "source": [
    "def metricsandreg(mid, sec,freq=12):\n",
    "    metrics = pd.DataFrame(index=['Summary Stats'])\n",
    "    metrics['mean'] = mid.mean() * freq\n",
    "    metrics['vol'] = mid.std() * np.sqrt(freq)\n",
    "    metrics['sharpe'] = metrics['mean'] / metrics['vol']\n",
    "    cummulative_returns = (1 + mid).cumprod()\n",
    "    rolling_max = cummulative_returns.cummax()\n",
    "    drawdown = (cummulative_returns - rolling_max)/rolling_max\n",
    "    metrics['max drawdown'] = drawdown.min()\n",
    "    \n",
    "    y=mid\n",
    "    x=sm.add_constant(sec.loc[mid.index])\n",
    "    reg = sm.OLS(y,x,missing = 'drop').fit().params\n",
    "    metrics[r'$\\alpha$'] = reg[0] * freq\n",
    "    metrics[r'$\\beta$'] = reg[1]\n",
    "    return metrics"
   ]
  },
  {
   "cell_type": "code",
   "execution_count": 16,
   "id": "4c3e9fa8",
   "metadata": {},
   "outputs": [
    {
     "data": {
      "text/html": [
       "<div>\n",
       "<style scoped>\n",
       "    .dataframe tbody tr th:only-of-type {\n",
       "        vertical-align: middle;\n",
       "    }\n",
       "\n",
       "    .dataframe tbody tr th {\n",
       "        vertical-align: top;\n",
       "    }\n",
       "\n",
       "    .dataframe thead th {\n",
       "        text-align: right;\n",
       "    }\n",
       "</style>\n",
       "<table border=\"1\" class=\"dataframe\">\n",
       "  <thead>\n",
       "    <tr style=\"text-align: right;\">\n",
       "      <th></th>\n",
       "      <th>mean</th>\n",
       "      <th>vol</th>\n",
       "      <th>sharpe</th>\n",
       "      <th>max drawdown</th>\n",
       "      <th>$\\alpha$</th>\n",
       "      <th>$\\beta$</th>\n",
       "    </tr>\n",
       "  </thead>\n",
       "  <tbody>\n",
       "    <tr>\n",
       "      <th>Summary Stats</th>\n",
       "      <td>0.198349</td>\n",
       "      <td>0.268307</td>\n",
       "      <td>0.739262</td>\n",
       "      <td>-0.833442</td>\n",
       "      <td>0.02067</td>\n",
       "      <td>1.723167</td>\n",
       "    </tr>\n",
       "  </tbody>\n",
       "</table>\n",
       "</div>"
      ],
      "text/plain": [
       "                   mean       vol    sharpe  max drawdown  $\\alpha$   $\\beta$\n",
       "Summary Stats  0.198349  0.268307  0.739262     -0.833442   0.02067  1.723167"
      ]
     },
     "execution_count": 16,
     "metadata": {},
     "output_type": "execute_result"
    }
   ],
   "source": [
    "metricsandreg(r_DP,shift[['SPY']])"
   ]
  },
  {
   "cell_type": "code",
   "execution_count": 17,
   "id": "5a569d43",
   "metadata": {},
   "outputs": [
    {
     "data": {
      "text/html": [
       "<div>\n",
       "<style scoped>\n",
       "    .dataframe tbody tr th:only-of-type {\n",
       "        vertical-align: middle;\n",
       "    }\n",
       "\n",
       "    .dataframe tbody tr th {\n",
       "        vertical-align: top;\n",
       "    }\n",
       "\n",
       "    .dataframe thead th {\n",
       "        text-align: right;\n",
       "    }\n",
       "</style>\n",
       "<table border=\"1\" class=\"dataframe\">\n",
       "  <thead>\n",
       "    <tr style=\"text-align: right;\">\n",
       "      <th></th>\n",
       "      <th>mean</th>\n",
       "      <th>vol</th>\n",
       "      <th>sharpe</th>\n",
       "      <th>max drawdown</th>\n",
       "      <th>$\\alpha$</th>\n",
       "      <th>$\\beta$</th>\n",
       "    </tr>\n",
       "  </thead>\n",
       "  <tbody>\n",
       "    <tr>\n",
       "      <th>Summary Stats</th>\n",
       "      <td>0.163885</td>\n",
       "      <td>0.202401</td>\n",
       "      <td>0.809703</td>\n",
       "      <td>-0.50917</td>\n",
       "      <td>0.032247</td>\n",
       "      <td>1.276654</td>\n",
       "    </tr>\n",
       "  </tbody>\n",
       "</table>\n",
       "</div>"
      ],
      "text/plain": [
       "                   mean       vol    sharpe  max drawdown  $\\alpha$   $\\beta$\n",
       "Summary Stats  0.163885  0.202401  0.809703      -0.50917  0.032247  1.276654"
      ]
     },
     "execution_count": 17,
     "metadata": {},
     "output_type": "execute_result"
    }
   ],
   "source": [
    "metricsandreg(r_EP,shift[['SPY']])"
   ]
  },
  {
   "cell_type": "code",
   "execution_count": 18,
   "id": "2a403991",
   "metadata": {},
   "outputs": [
    {
     "data": {
      "text/html": [
       "<div>\n",
       "<style scoped>\n",
       "    .dataframe tbody tr th:only-of-type {\n",
       "        vertical-align: middle;\n",
       "    }\n",
       "\n",
       "    .dataframe tbody tr th {\n",
       "        vertical-align: top;\n",
       "    }\n",
       "\n",
       "    .dataframe thead th {\n",
       "        text-align: right;\n",
       "    }\n",
       "</style>\n",
       "<table border=\"1\" class=\"dataframe\">\n",
       "  <thead>\n",
       "    <tr style=\"text-align: right;\">\n",
       "      <th></th>\n",
       "      <th>mean</th>\n",
       "      <th>vol</th>\n",
       "      <th>sharpe</th>\n",
       "      <th>max drawdown</th>\n",
       "      <th>$\\alpha$</th>\n",
       "      <th>$\\beta$</th>\n",
       "    </tr>\n",
       "  </thead>\n",
       "  <tbody>\n",
       "    <tr>\n",
       "      <th>Summary Stats</th>\n",
       "      <td>0.266157</td>\n",
       "      <td>0.332426</td>\n",
       "      <td>0.800648</td>\n",
       "      <td>-0.847623</td>\n",
       "      <td>0.045096</td>\n",
       "      <td>2.14389</td>\n",
       "    </tr>\n",
       "  </tbody>\n",
       "</table>\n",
       "</div>"
      ],
      "text/plain": [
       "                   mean       vol    sharpe  max drawdown  $\\alpha$  $\\beta$\n",
       "Summary Stats  0.266157  0.332426  0.800648     -0.847623  0.045096  2.14389"
      ]
     },
     "execution_count": 18,
     "metadata": {},
     "output_type": "execute_result"
    }
   ],
   "source": [
    "metricsandreg(r_3f,shift[['SPY']])"
   ]
  },
  {
   "cell_type": "markdown",
   "id": "9db9465d",
   "metadata": {},
   "source": [
    "#### Question 3"
   ]
  },
  {
   "cell_type": "code",
   "execution_count": 19,
   "id": "940045bd",
   "metadata": {},
   "outputs": [
    {
     "data": {
      "text/html": [
       "<div>\n",
       "<style scoped>\n",
       "    .dataframe tbody tr th:only-of-type {\n",
       "        vertical-align: middle;\n",
       "    }\n",
       "\n",
       "    .dataframe tbody tr th {\n",
       "        vertical-align: top;\n",
       "    }\n",
       "\n",
       "    .dataframe thead th {\n",
       "        text-align: right;\n",
       "    }\n",
       "</style>\n",
       "<table border=\"1\" class=\"dataframe\">\n",
       "  <thead>\n",
       "    <tr style=\"text-align: right;\">\n",
       "      <th></th>\n",
       "      <th>5% VaR</th>\n",
       "    </tr>\n",
       "  </thead>\n",
       "  <tbody>\n",
       "    <tr>\n",
       "      <th>DP Strat</th>\n",
       "      <td>-0.110054</td>\n",
       "    </tr>\n",
       "    <tr>\n",
       "      <th>EP Strat</th>\n",
       "      <td>-0.091809</td>\n",
       "    </tr>\n",
       "    <tr>\n",
       "      <th>3-factor Strat</th>\n",
       "      <td>-0.152674</td>\n",
       "    </tr>\n",
       "    <tr>\n",
       "      <th>SPY</th>\n",
       "      <td>-0.073936</td>\n",
       "    </tr>\n",
       "    <tr>\n",
       "      <th>GMO</th>\n",
       "      <td>-0.048293</td>\n",
       "    </tr>\n",
       "  </tbody>\n",
       "</table>\n",
       "</div>"
      ],
      "text/plain": [
       "                  5% VaR\n",
       "DP Strat       -0.110054\n",
       "EP Strat       -0.091809\n",
       "3-factor Strat -0.152674\n",
       "SPY            -0.073936\n",
       "GMO            -0.048293"
      ]
     },
     "execution_count": 19,
     "metadata": {},
     "output_type": "execute_result"
    }
   ],
   "source": [
    "VaR = pd.DataFrame([r_DP.quantile(.05), r_EP.quantile(.05), r_3f.quantile(.05), \n",
    "                    shift['SPY'].quantile(.05), \n",
    "                    exe['GMWAX'].quantile(.05)],\n",
    "                   index = ['DP Strat','EP Strat','3-factor Strat','SPY','GMO'], \n",
    "                   columns = ['5% VaR'])\n",
    "\n",
    "VaR"
   ]
  },
  {
   "cell_type": "markdown",
   "id": "91b8d544",
   "metadata": {},
   "source": [
    "#### Question 3B"
   ]
  },
  {
   "cell_type": "code",
   "execution_count": 20,
   "id": "5a18af6f",
   "metadata": {},
   "outputs": [
    {
     "data": {
      "text/html": [
       "<div>\n",
       "<style scoped>\n",
       "    .dataframe tbody tr th:only-of-type {\n",
       "        vertical-align: middle;\n",
       "    }\n",
       "\n",
       "    .dataframe tbody tr th {\n",
       "        vertical-align: top;\n",
       "    }\n",
       "\n",
       "    .dataframe thead th {\n",
       "        text-align: right;\n",
       "    }\n",
       "</style>\n",
       "<table border=\"1\" class=\"dataframe\">\n",
       "  <thead>\n",
       "    <tr style=\"text-align: right;\">\n",
       "      <th></th>\n",
       "      <th>mean</th>\n",
       "      <th>vol</th>\n",
       "      <th>sharpe</th>\n",
       "      <th>VaR</th>\n",
       "      <th>max drawdown</th>\n",
       "      <th>min</th>\n",
       "    </tr>\n",
       "  </thead>\n",
       "  <tbody>\n",
       "    <tr>\n",
       "      <th>DP Strat</th>\n",
       "      <td>0.054988</td>\n",
       "      <td>0.311868</td>\n",
       "      <td>0.176319</td>\n",
       "      <td>-0.131907</td>\n",
       "      <td>-0.833442</td>\n",
       "      <td>-0.356232</td>\n",
       "    </tr>\n",
       "  </tbody>\n",
       "</table>\n",
       "</div>"
      ],
      "text/plain": [
       "              mean       vol    sharpe       VaR  max drawdown       min\n",
       "DP Strat  0.054988  0.311868  0.176319 -0.131907     -0.833442 -0.356232"
      ]
     },
     "execution_count": 20,
     "metadata": {},
     "output_type": "execute_result"
    }
   ],
   "source": [
    "simplemetrics(r_DP.to_frame('DP Strat').loc['2000':'2011'])"
   ]
  },
  {
   "cell_type": "code",
   "execution_count": 21,
   "id": "a85a1092",
   "metadata": {},
   "outputs": [
    {
     "data": {
      "text/html": [
       "<div>\n",
       "<style scoped>\n",
       "    .dataframe tbody tr th:only-of-type {\n",
       "        vertical-align: middle;\n",
       "    }\n",
       "\n",
       "    .dataframe tbody tr th {\n",
       "        vertical-align: top;\n",
       "    }\n",
       "\n",
       "    .dataframe thead th {\n",
       "        text-align: right;\n",
       "    }\n",
       "</style>\n",
       "<table border=\"1\" class=\"dataframe\">\n",
       "  <thead>\n",
       "    <tr style=\"text-align: right;\">\n",
       "      <th></th>\n",
       "      <th>mean</th>\n",
       "      <th>vol</th>\n",
       "      <th>sharpe</th>\n",
       "      <th>VaR</th>\n",
       "      <th>max drawdown</th>\n",
       "      <th>min</th>\n",
       "    </tr>\n",
       "  </thead>\n",
       "  <tbody>\n",
       "    <tr>\n",
       "      <th>DP Strat</th>\n",
       "      <td>0.047148</td>\n",
       "      <td>0.209122</td>\n",
       "      <td>0.225458</td>\n",
       "      <td>-0.098446</td>\n",
       "      <td>-0.50917</td>\n",
       "      <td>-0.191369</td>\n",
       "    </tr>\n",
       "  </tbody>\n",
       "</table>\n",
       "</div>"
      ],
      "text/plain": [
       "              mean       vol    sharpe       VaR  max drawdown       min\n",
       "DP Strat  0.047148  0.209122  0.225458 -0.098446      -0.50917 -0.191369"
      ]
     },
     "execution_count": 21,
     "metadata": {},
     "output_type": "execute_result"
    }
   ],
   "source": [
    "simplemetrics(r_EP.to_frame('DP Strat').loc['2000':'2011'])"
   ]
  },
  {
   "cell_type": "code",
   "execution_count": 22,
   "id": "a741223d",
   "metadata": {},
   "outputs": [
    {
     "data": {
      "text/html": [
       "<div>\n",
       "<style scoped>\n",
       "    .dataframe tbody tr th:only-of-type {\n",
       "        vertical-align: middle;\n",
       "    }\n",
       "\n",
       "    .dataframe tbody tr th {\n",
       "        vertical-align: top;\n",
       "    }\n",
       "\n",
       "    .dataframe thead th {\n",
       "        text-align: right;\n",
       "    }\n",
       "</style>\n",
       "<table border=\"1\" class=\"dataframe\">\n",
       "  <thead>\n",
       "    <tr style=\"text-align: right;\">\n",
       "      <th></th>\n",
       "      <th>mean</th>\n",
       "      <th>vol</th>\n",
       "      <th>sharpe</th>\n",
       "      <th>VaR</th>\n",
       "      <th>max drawdown</th>\n",
       "      <th>min</th>\n",
       "    </tr>\n",
       "  </thead>\n",
       "  <tbody>\n",
       "    <tr>\n",
       "      <th>DP Strat</th>\n",
       "      <td>0.085658</td>\n",
       "      <td>0.357436</td>\n",
       "      <td>0.239647</td>\n",
       "      <td>-0.17863</td>\n",
       "      <td>-0.847623</td>\n",
       "      <td>-0.395808</td>\n",
       "    </tr>\n",
       "  </tbody>\n",
       "</table>\n",
       "</div>"
      ],
      "text/plain": [
       "              mean       vol    sharpe      VaR  max drawdown       min\n",
       "DP Strat  0.085658  0.357436  0.239647 -0.17863     -0.847623 -0.395808"
      ]
     },
     "execution_count": 22,
     "metadata": {},
     "output_type": "execute_result"
    }
   ],
   "source": [
    "simplemetrics(r_3f.to_frame('DP Strat').loc['2000':'2011'])"
   ]
  },
  {
   "cell_type": "code",
   "execution_count": 23,
   "id": "da556910",
   "metadata": {},
   "outputs": [
    {
     "data": {
      "text/html": [
       "<div>\n",
       "<style scoped>\n",
       "    .dataframe tbody tr th:only-of-type {\n",
       "        vertical-align: middle;\n",
       "    }\n",
       "\n",
       "    .dataframe tbody tr th {\n",
       "        vertical-align: top;\n",
       "    }\n",
       "\n",
       "    .dataframe thead th {\n",
       "        text-align: right;\n",
       "    }\n",
       "</style>\n",
       "<table border=\"1\" class=\"dataframe\">\n",
       "  <thead>\n",
       "    <tr style=\"text-align: right;\">\n",
       "      <th></th>\n",
       "      <th>mean</th>\n",
       "      <th>vol</th>\n",
       "      <th>sharpe</th>\n",
       "      <th>VaR</th>\n",
       "      <th>max drawdown</th>\n",
       "      <th>min</th>\n",
       "    </tr>\n",
       "  </thead>\n",
       "  <tbody>\n",
       "    <tr>\n",
       "      <th>US3M</th>\n",
       "      <td>0.023062</td>\n",
       "      <td>0.005785</td>\n",
       "      <td>3.986632</td>\n",
       "      <td>0.000035</td>\n",
       "      <td>0.0</td>\n",
       "      <td>0.000008</td>\n",
       "    </tr>\n",
       "  </tbody>\n",
       "</table>\n",
       "</div>"
      ],
      "text/plain": [
       "          mean       vol    sharpe       VaR  max drawdown       min\n",
       "US3M  0.023062  0.005785  3.986632  0.000035           0.0  0.000008"
      ]
     },
     "execution_count": 23,
     "metadata": {},
     "output_type": "execute_result"
    }
   ],
   "source": [
    "simplemetrics(rf.loc['2000':'2011'])"
   ]
  },
  {
   "cell_type": "markdown",
   "id": "6e26fd2e",
   "metadata": {},
   "source": [
    "#### Question 3C"
   ]
  },
  {
   "cell_type": "code",
   "execution_count": 24,
   "id": "8857ce59",
   "metadata": {},
   "outputs": [
    {
     "data": {
      "text/html": [
       "<div>\n",
       "<style scoped>\n",
       "    .dataframe tbody tr th:only-of-type {\n",
       "        vertical-align: middle;\n",
       "    }\n",
       "\n",
       "    .dataframe tbody tr th {\n",
       "        vertical-align: top;\n",
       "    }\n",
       "\n",
       "    .dataframe thead th {\n",
       "        text-align: right;\n",
       "    }\n",
       "</style>\n",
       "<table border=\"1\" class=\"dataframe\">\n",
       "  <thead>\n",
       "    <tr style=\"text-align: right;\">\n",
       "      <th></th>\n",
       "      <th>3-factor Strat</th>\n",
       "      <th>DP Strat</th>\n",
       "      <th>EP Strat</th>\n",
       "    </tr>\n",
       "  </thead>\n",
       "  <tbody>\n",
       "    <tr>\n",
       "      <th>% of periods underperforming $r^{f}$</th>\n",
       "      <td>35.674157</td>\n",
       "      <td>35.955056</td>\n",
       "      <td>35.955056</td>\n",
       "    </tr>\n",
       "  </tbody>\n",
       "</table>\n",
       "</div>"
      ],
      "text/plain": [
       "                                      3-factor Strat   DP Strat   EP Strat\n",
       "% of periods underperforming $r^{f}$       35.674157  35.955056  35.955056"
      ]
     },
     "execution_count": 24,
     "metadata": {},
     "output_type": "execute_result"
    }
   ],
   "source": [
    "r_df = r_3f.to_frame('3-factor Strat')\n",
    "r_df['DP Strat'] = r_DP\n",
    "r_df['EP Strat'] = r_EP\n",
    "r_df['rf'] = rf['US3M']\n",
    "\n",
    "df_riskprem = pd.DataFrame(data=None, index=[r'% of periods underperforming $r^{f}$'])\n",
    "for col in r_df.columns[:3]:\n",
    "    df_riskprem[col] = len(r_df[r_df[col] < r_df['rf']])/len(r_df) * 100\n",
    "    \n",
    "df_riskprem"
   ]
  },
  {
   "cell_type": "markdown",
   "id": "f5c274a6",
   "metadata": {},
   "source": [
    "### Part 4 - Out-of-Sample Forecasting"
   ]
  },
  {
   "cell_type": "code",
   "execution_count": 25,
   "id": "5dc60b3e",
   "metadata": {},
   "outputs": [
    {
     "data": {
      "text/plain": [
       "-0.00696611303774386"
      ]
     },
     "execution_count": 25,
     "metadata": {},
     "output_type": "execute_result"
    }
   ],
   "source": [
    "def OOS(df,cl,factors, start):\n",
    "    y = df[cl]\n",
    "    x = sm.add_constant(df[factors])\n",
    "    err,nerr = [],[]\n",
    "    \n",
    "    for i,j in enumerate(df.index):\n",
    "        if i>=start:\n",
    "            currx = x.iloc[:i]\n",
    "            curry = y.iloc[:i]\n",
    "            reg = sm.OLS(curry,currx,missing='drop').fit()\n",
    "            null_forecast = curry.mean()\n",
    "            reg_predict = reg.predict(x.iloc[[i]])\n",
    "            actual = y.iloc[[i]]\n",
    "            err.append(reg_predict - actual)\n",
    "            nerr.append(null_forecast - actual)\n",
    "    RSS = (np.array(err)**2).sum()\n",
    "    TSS = (np.array(nerr)**2).sum()\n",
    "    \n",
    "    return 1 - (RSS/TSS)\n",
    "OOS(shift,'SPY',['EP'], 60)"
   ]
  },
  {
   "cell_type": "code",
   "execution_count": 26,
   "id": "1563fecd",
   "metadata": {},
   "outputs": [
    {
     "name": "stdout",
     "output_type": "stream",
     "text": [
      "EP OOS R-squared is -0.00697\n"
     ]
    }
   ],
   "source": [
    "print('EP OOS R-squared is ' + str(round(OOS(shift,'SPY',['EP'], 60),5)))"
   ]
  },
  {
   "cell_type": "code",
   "execution_count": 27,
   "id": "3eaed4f2",
   "metadata": {},
   "outputs": [],
   "source": [
    "def OOS_strat(df,cl,factors, start,weight):\n",
    "    y = df[cl]\n",
    "    x = sm.add_constant(df[factors])\n",
    "    r = []\n",
    "    \n",
    "    for i,j in enumerate(df.index):\n",
    "        if i>=start:\n",
    "            currx = x.iloc[:i]\n",
    "            curry = y.iloc[:i]\n",
    "            reg = sm.OLS(curry,currx,missing='drop').fit()\n",
    "            pred = reg.predict(x.iloc[[i]])\n",
    "            w = pred * weight\n",
    "            r.append((df.iloc[i][cl] * w)[0])\n",
    "    df_strat = pd.DataFrame(data = r,index = df.iloc[-(len(r)):].index,columns = ['Strat Returns']) \n",
    "    return df_strat"
   ]
  },
  {
   "cell_type": "code",
   "execution_count": 28,
   "id": "e86ea8bc",
   "metadata": {},
   "outputs": [
    {
     "data": {
      "text/html": [
       "<div>\n",
       "<style scoped>\n",
       "    .dataframe tbody tr th:only-of-type {\n",
       "        vertical-align: middle;\n",
       "    }\n",
       "\n",
       "    .dataframe tbody tr th {\n",
       "        vertical-align: top;\n",
       "    }\n",
       "\n",
       "    .dataframe thead th {\n",
       "        text-align: right;\n",
       "    }\n",
       "</style>\n",
       "<table border=\"1\" class=\"dataframe\">\n",
       "  <thead>\n",
       "    <tr style=\"text-align: right;\">\n",
       "      <th></th>\n",
       "      <th>Strat Returns</th>\n",
       "    </tr>\n",
       "    <tr>\n",
       "      <th>date</th>\n",
       "      <th></th>\n",
       "    </tr>\n",
       "  </thead>\n",
       "  <tbody>\n",
       "    <tr>\n",
       "      <th>1998-02-28</th>\n",
       "      <td>0.051217</td>\n",
       "    </tr>\n",
       "    <tr>\n",
       "      <th>1998-03-31</th>\n",
       "      <td>0.045644</td>\n",
       "    </tr>\n",
       "    <tr>\n",
       "      <th>1998-04-30</th>\n",
       "      <td>0.014350</td>\n",
       "    </tr>\n",
       "    <tr>\n",
       "      <th>1998-05-31</th>\n",
       "      <td>-0.022508</td>\n",
       "    </tr>\n",
       "    <tr>\n",
       "      <th>1998-06-30</th>\n",
       "      <td>0.035103</td>\n",
       "    </tr>\n",
       "    <tr>\n",
       "      <th>...</th>\n",
       "      <td>...</td>\n",
       "    </tr>\n",
       "    <tr>\n",
       "      <th>2022-06-30</th>\n",
       "      <td>-0.079378</td>\n",
       "    </tr>\n",
       "    <tr>\n",
       "      <th>2022-07-31</th>\n",
       "      <td>0.098652</td>\n",
       "    </tr>\n",
       "    <tr>\n",
       "      <th>2022-08-31</th>\n",
       "      <td>-0.040768</td>\n",
       "    </tr>\n",
       "    <tr>\n",
       "      <th>2022-09-30</th>\n",
       "      <td>-0.093526</td>\n",
       "    </tr>\n",
       "    <tr>\n",
       "      <th>2022-10-31</th>\n",
       "      <td>0.092580</td>\n",
       "    </tr>\n",
       "  </tbody>\n",
       "</table>\n",
       "<p>297 rows × 1 columns</p>\n",
       "</div>"
      ],
      "text/plain": [
       "            Strat Returns\n",
       "date                     \n",
       "1998-02-28       0.051217\n",
       "1998-03-31       0.045644\n",
       "1998-04-30       0.014350\n",
       "1998-05-31      -0.022508\n",
       "1998-06-30       0.035103\n",
       "...                   ...\n",
       "2022-06-30      -0.079378\n",
       "2022-07-31       0.098652\n",
       "2022-08-31      -0.040768\n",
       "2022-09-30      -0.093526\n",
       "2022-10-31       0.092580\n",
       "\n",
       "[297 rows x 1 columns]"
      ]
     },
     "execution_count": 28,
     "metadata": {},
     "output_type": "execute_result"
    }
   ],
   "source": [
    "OOS_EP = OOS_strat(shift,'SPY',['EP'],60,100)\n",
    "OOS_EP"
   ]
  },
  {
   "cell_type": "code",
   "execution_count": 29,
   "id": "1de51032",
   "metadata": {},
   "outputs": [
    {
     "data": {
      "text/html": [
       "<div>\n",
       "<style scoped>\n",
       "    .dataframe tbody tr th:only-of-type {\n",
       "        vertical-align: middle;\n",
       "    }\n",
       "\n",
       "    .dataframe tbody tr th {\n",
       "        vertical-align: top;\n",
       "    }\n",
       "\n",
       "    .dataframe thead th {\n",
       "        text-align: right;\n",
       "    }\n",
       "</style>\n",
       "<table border=\"1\" class=\"dataframe\">\n",
       "  <thead>\n",
       "    <tr style=\"text-align: right;\">\n",
       "      <th></th>\n",
       "      <th>mean</th>\n",
       "      <th>vol</th>\n",
       "      <th>sharpe</th>\n",
       "      <th>max drawdown</th>\n",
       "      <th>$\\alpha$</th>\n",
       "      <th>$\\beta$</th>\n",
       "    </tr>\n",
       "  </thead>\n",
       "  <tbody>\n",
       "    <tr>\n",
       "      <th>Summary Stats</th>\n",
       "      <td>0.081898</td>\n",
       "      <td>0.165352</td>\n",
       "      <td>0.495294</td>\n",
       "      <td>-0.583693</td>\n",
       "      <td>0.035321</td>\n",
       "      <td>0.543527</td>\n",
       "    </tr>\n",
       "  </tbody>\n",
       "</table>\n",
       "</div>"
      ],
      "text/plain": [
       "                   mean       vol    sharpe  max drawdown  $\\alpha$   $\\beta$\n",
       "Summary Stats  0.081898  0.165352  0.495294     -0.583693  0.035321  0.543527"
      ]
     },
     "execution_count": 29,
     "metadata": {},
     "output_type": "execute_result"
    }
   ],
   "source": [
    "metricsandreg(OOS_EP['Strat Returns'],shift[['SPY']])"
   ]
  },
  {
   "cell_type": "code",
   "execution_count": 30,
   "id": "07887da4",
   "metadata": {},
   "outputs": [
    {
     "data": {
      "text/html": [
       "<div>\n",
       "<style scoped>\n",
       "    .dataframe tbody tr th:only-of-type {\n",
       "        vertical-align: middle;\n",
       "    }\n",
       "\n",
       "    .dataframe tbody tr th {\n",
       "        vertical-align: top;\n",
       "    }\n",
       "\n",
       "    .dataframe thead th {\n",
       "        text-align: right;\n",
       "    }\n",
       "</style>\n",
       "<table border=\"1\" class=\"dataframe\">\n",
       "  <thead>\n",
       "    <tr style=\"text-align: right;\">\n",
       "      <th></th>\n",
       "      <th>5% VaR</th>\n",
       "    </tr>\n",
       "  </thead>\n",
       "  <tbody>\n",
       "    <tr>\n",
       "      <th>Strt Returns</th>\n",
       "      <td>-0.070971</td>\n",
       "    </tr>\n",
       "    <tr>\n",
       "      <th>SPY</th>\n",
       "      <td>-0.073936</td>\n",
       "    </tr>\n",
       "    <tr>\n",
       "      <th>GMO</th>\n",
       "      <td>-0.048293</td>\n",
       "    </tr>\n",
       "  </tbody>\n",
       "</table>\n",
       "</div>"
      ],
      "text/plain": [
       "                5% VaR\n",
       "Strt Returns -0.070971\n",
       "SPY          -0.073936\n",
       "GMO          -0.048293"
      ]
     },
     "execution_count": 30,
     "metadata": {},
     "output_type": "execute_result"
    }
   ],
   "source": [
    "VaR_oos = pd.DataFrame([OOS_EP['Strat Returns'].quantile(.05), \n",
    "                    shift['SPY'].quantile(.05), \n",
    "                    exe['GMWAX'].quantile(.05)],\n",
    "                   index = ['Strt Returns','SPY','GMO'], \n",
    "                   columns = ['5% VaR'])\n",
    "\n",
    "VaR_oos"
   ]
  },
  {
   "cell_type": "code",
   "execution_count": 31,
   "id": "8f574611",
   "metadata": {},
   "outputs": [
    {
     "data": {
      "text/html": [
       "<div>\n",
       "<style scoped>\n",
       "    .dataframe tbody tr th:only-of-type {\n",
       "        vertical-align: middle;\n",
       "    }\n",
       "\n",
       "    .dataframe tbody tr th {\n",
       "        vertical-align: top;\n",
       "    }\n",
       "\n",
       "    .dataframe thead th {\n",
       "        text-align: right;\n",
       "    }\n",
       "</style>\n",
       "<table border=\"1\" class=\"dataframe\">\n",
       "  <thead>\n",
       "    <tr style=\"text-align: right;\">\n",
       "      <th></th>\n",
       "      <th>mean</th>\n",
       "      <th>vol</th>\n",
       "      <th>sharpe</th>\n",
       "      <th>max drawdown</th>\n",
       "      <th>$\\alpha$</th>\n",
       "      <th>$\\beta$</th>\n",
       "    </tr>\n",
       "  </thead>\n",
       "  <tbody>\n",
       "    <tr>\n",
       "      <th>Summary Stats</th>\n",
       "      <td>0.038768</td>\n",
       "      <td>0.195919</td>\n",
       "      <td>0.197877</td>\n",
       "      <td>-0.583693</td>\n",
       "      <td>0.033332</td>\n",
       "      <td>0.299368</td>\n",
       "    </tr>\n",
       "  </tbody>\n",
       "</table>\n",
       "</div>"
      ],
      "text/plain": [
       "                   mean       vol    sharpe  max drawdown  $\\alpha$   $\\beta$\n",
       "Summary Stats  0.038768  0.195919  0.197877     -0.583693  0.033332  0.299368"
      ]
     },
     "execution_count": 31,
     "metadata": {},
     "output_type": "execute_result"
    }
   ],
   "source": [
    "metricsandreg(OOS_EP['2000':'2011']['Strat Returns'],shift[['SPY']])"
   ]
  },
  {
   "cell_type": "code",
   "execution_count": 32,
   "id": "312baa21",
   "metadata": {},
   "outputs": [
    {
     "data": {
      "text/html": [
       "<div>\n",
       "<style scoped>\n",
       "    .dataframe tbody tr th:only-of-type {\n",
       "        vertical-align: middle;\n",
       "    }\n",
       "\n",
       "    .dataframe tbody tr th {\n",
       "        vertical-align: top;\n",
       "    }\n",
       "\n",
       "    .dataframe thead th {\n",
       "        text-align: right;\n",
       "    }\n",
       "</style>\n",
       "<table border=\"1\" class=\"dataframe\">\n",
       "  <thead>\n",
       "    <tr style=\"text-align: right;\">\n",
       "      <th></th>\n",
       "      <th>mean</th>\n",
       "      <th>vol</th>\n",
       "      <th>sharpe</th>\n",
       "      <th>VaR</th>\n",
       "      <th>max drawdown</th>\n",
       "      <th>min</th>\n",
       "    </tr>\n",
       "  </thead>\n",
       "  <tbody>\n",
       "    <tr>\n",
       "      <th>US3M</th>\n",
       "      <td>0.046787</td>\n",
       "      <td>0.00454</td>\n",
       "      <td>10.305323</td>\n",
       "      <td>0.001517</td>\n",
       "      <td>0.0</td>\n",
       "      <td>0.00145</td>\n",
       "    </tr>\n",
       "  </tbody>\n",
       "</table>\n",
       "</div>"
      ],
      "text/plain": [
       "          mean      vol     sharpe       VaR  max drawdown      min\n",
       "US3M  0.046787  0.00454  10.305323  0.001517           0.0  0.00145"
      ]
     },
     "execution_count": 32,
     "metadata": {},
     "output_type": "execute_result"
    }
   ],
   "source": [
    "simplemetrics(rf.loc['2000':'2001'])"
   ]
  },
  {
   "cell_type": "code",
   "execution_count": 33,
   "id": "552928aa",
   "metadata": {},
   "outputs": [
    {
     "data": {
      "text/html": [
       "<div>\n",
       "<style scoped>\n",
       "    .dataframe tbody tr th:only-of-type {\n",
       "        vertical-align: middle;\n",
       "    }\n",
       "\n",
       "    .dataframe tbody tr th {\n",
       "        vertical-align: top;\n",
       "    }\n",
       "\n",
       "    .dataframe thead th {\n",
       "        text-align: right;\n",
       "    }\n",
       "</style>\n",
       "<table border=\"1\" class=\"dataframe\">\n",
       "  <thead>\n",
       "    <tr style=\"text-align: right;\">\n",
       "      <th></th>\n",
       "      <th>EP Strat</th>\n",
       "      <th>rf</th>\n",
       "    </tr>\n",
       "  </thead>\n",
       "  <tbody>\n",
       "    <tr>\n",
       "      <th>% of periods underperforming $r^{f}$</th>\n",
       "      <td>38.383838</td>\n",
       "      <td>0.0</td>\n",
       "    </tr>\n",
       "  </tbody>\n",
       "</table>\n",
       "</div>"
      ],
      "text/plain": [
       "                                       EP Strat   rf\n",
       "% of periods underperforming $r^{f}$  38.383838  0.0"
      ]
     },
     "execution_count": 33,
     "metadata": {},
     "output_type": "execute_result"
    }
   ],
   "source": [
    "r_df = OOS_EP.rename(columns={\"Strat Returns\": \"EP Strat\"})\n",
    "r_df['rf'] = rf['US3M']\n",
    "\n",
    "df_riskprem = pd.DataFrame(data=None, index=[r'% of periods underperforming $r^{f}$'])\n",
    "for col in r_df.columns[:3]:\n",
    "    df_riskprem[col] = len(r_df[r_df[col] < r_df['rf']])/len(r_df) * 100\n",
    "    \n",
    "df_riskprem"
   ]
  },
  {
   "cell_type": "markdown",
   "id": "e872f291",
   "metadata": {},
   "source": [
    "D)"
   ]
  }
 ],
 "metadata": {
  "kernelspec": {
   "display_name": "Python 3.10.8 64-bit (microsoft store)",
   "language": "python",
   "name": "python3"
  },
  "language_info": {
   "codemirror_mode": {
    "name": "ipython",
    "version": 3
   },
   "file_extension": ".py",
   "mimetype": "text/x-python",
   "name": "python",
   "nbconvert_exporter": "python",
   "pygments_lexer": "ipython3",
   "version": "3.10.8"
  },
  "vscode": {
   "interpreter": {
    "hash": "28c29896733cd258a7e144e5cfe10ab10fb1ed1767adc491e37af3f909fe0b53"
   }
  }
 },
 "nbformat": 4,
 "nbformat_minor": 5
}
