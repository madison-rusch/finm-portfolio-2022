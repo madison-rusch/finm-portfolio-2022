{
 "cells": [
  {
   "cell_type": "markdown",
   "id": "7aa60970",
   "metadata": {},
   "source": [
    "<div style=\"text-align: right\"> Mark Hendricks </div>\n",
    "\n",
    "<left>FINM 36700 - Portfolio Theory and Risk Management</left> \n",
    "<br>\n",
    "<left>Fall 2022</left>\n",
    "\n",
    "<h2><center> Homework 6 - AQR's Momentum Funds. </center></h2>\n",
    "\n",
    "<center>Due on Monday, Nov 7</center>\n",
    "\n",
    "<h3><span style=\"color:#00008B\">Solution - Piyush Kontu</span></h3>\n",
    "\n",
    "<h3><span style=\"color:#00008B\">Email - pkontu@uchicago.edu</span></h3>"
   ]
  },
  {
   "cell_type": "markdown",
   "id": "46a405f4",
   "metadata": {},
   "source": [
    "### Case: AQR's Momentum Funds (A) [9-211-025]."
   ]
  },
  {
   "cell_type": "markdown",
   "id": "e15389c4",
   "metadata": {},
   "source": [
    "## 1. The Momentum Product\n",
    "\n",
    "#### <i> This section is not graded, and you do not need to submit your answers. But you are expected to consider these issues and be ready to discuss them.</i>"
   ]
  },
  {
   "cell_type": "markdown",
   "id": "8010a305",
   "metadata": {},
   "source": [
    "#### 1.1 What is novel about the AQR Momentum product under construction compared to the various momentum investment products already offered?\n",
    "\n",
    "- The new product is a open-end momentum mutual fund, and thus it will be available to retail investors rather than just those able to invest in hedge-funds. <br><br>\n",
    "- To satisfy regulatory requirements, this implementation of momentum will be restricted to long-only and to large stocks.<br><br>\n",
    "- AQR planned to distribute the mutual fund through the financial advisor channel \n",
    "\n",
    "#### 1.2 Name three reasons the momentum investment product will not exactly track the momentum index, (i.e. why the strategy will have tracking error.)\n",
    "\n",
    "- Index would be long-short, whereas AQR's fund would be long-only. <br><br>\n",
    "- The index was rebalanced monthly and would need enormous amount of trading to replicate. <br><br>\n",
    "- The index used all listed stocks, whereas AQR's fund would only use stocks with reasonable market capitalization and liquidity.\n",
    "\n",
    "\n",
    "#### 1.3 When constructing the momentum portfolio, AQR ranks stocks on their returns from month $t − 12$ through $t − 2$. Why don’t they include the $t − 1$ return in this ranking?\n",
    "\n",
    "- It was common to skip  $t − 1$ as there was evidence of short term price reversal i.e. stocks with high returns last month tend to reverse in the following month."
   ]
  },
  {
   "cell_type": "markdown",
   "id": "2eebfa09",
   "metadata": {},
   "source": [
    "# Imports"
   ]
  },
  {
   "cell_type": "code",
   "execution_count": 1,
   "id": "a9309a2e",
   "metadata": {},
   "outputs": [],
   "source": [
    "import pandas as pd\n",
    "import numpy as np\n",
    "import scipy.stats as stats\n",
    "from scipy.stats import kurtosis, skew\n",
    "from scipy.stats import norm\n",
    "import seaborn as sns\n",
    "import statsmodels.api as sm\n",
    "from statsmodels.regression.rolling import RollingOLS\n",
    "import pandas_datareader as dr\n",
    "\n",
    "import warnings\n",
    "warnings.filterwarnings(\"ignore\")\n",
    "\n",
    "%matplotlib inline\n",
    "\n",
    "\n",
    "import matplotlib.pyplot as plt\n",
    "plt.rcParams['figure.figsize']=[15, 6]\n",
    "import matplotlib.cm as cm"
   ]
  },
  {
   "cell_type": "markdown",
   "id": "45ffbef6",
   "metadata": {},
   "source": [
    "# Helper Functions"
   ]
  },
  {
   "cell_type": "code",
   "execution_count": 2,
   "id": "5ba5b729",
   "metadata": {},
   "outputs": [],
   "source": [
    "def performance_summary(return_data):\n",
    "    \"\"\" \n",
    "        Returns the Performance Stats for given set of returns\n",
    "        Inputs: \n",
    "            return_data - DataFrame with Date index and Monthly Returns for different assets/strategies.\n",
    "        Output:\n",
    "            summary_stats - DataFrame with annualized mean return, vol, sharpe ratio. Skewness, Excess Kurtosis, Var (0.5) and\n",
    "                            CVaR (0.5) and drawdown based on monthly returns. \n",
    "    \"\"\"\n",
    "    summary_stats = return_data.mean().to_frame('Mean').apply(lambda x: x*12)\n",
    "    summary_stats['Volatility'] = return_data.std().apply(lambda x: x*np.sqrt(12))\n",
    "    summary_stats['Sharpe Ratio'] = summary_stats['Mean']/summary_stats['Volatility']\n",
    "    \n",
    "    summary_stats['Skewness'] = return_data.skew()\n",
    "    summary_stats['Excess Kurtosis'] = return_data.kurtosis()\n",
    "    summary_stats['VaR (0.5)'] = return_data.quantile(.05, axis = 0)\n",
    "    summary_stats['CVaR (0.5)'] = return_data[return_data <= return_data.quantile(.05, axis = 0)].mean()\n",
    "    \n",
    "    wealth_index = 1000*(1+return_data).cumprod()\n",
    "    previous_peaks = wealth_index.cummax()\n",
    "    drawdowns = (wealth_index - previous_peaks)/previous_peaks\n",
    "\n",
    "    summary_stats['Max Drawdown'] = drawdowns.min()\n",
    "    summary_stats['Peak'] = [previous_peaks[col][:drawdowns[col].idxmin()].idxmax() for col in previous_peaks.columns]\n",
    "    summary_stats['Bottom'] = drawdowns.idxmin()\n",
    "    \n",
    "    recovery_date = []\n",
    "    for col in wealth_index.columns:\n",
    "        prev_max = previous_peaks[col][:drawdowns[col].idxmin()].max()\n",
    "        recovery_wealth = pd.DataFrame([wealth_index[col][drawdowns[col].idxmin():]]).T\n",
    "        recovery_date.append(recovery_wealth[recovery_wealth[col] >= prev_max].index.min())\n",
    "    summary_stats['Recovery'] = recovery_date\n",
    "    \n",
    "    return summary_stats"
   ]
  },
  {
   "cell_type": "code",
   "execution_count": 3,
   "id": "d093176a",
   "metadata": {},
   "outputs": [],
   "source": [
    "def regression_based_performance(factor,fund_ret,rf,constant = True):\n",
    "    \"\"\" \n",
    "        Returns the Regression based performance Stats for given set of returns and factors\n",
    "        Inputs:\n",
    "            factor - Dataframe containing monthly returns of the regressors\n",
    "            fund_ret - Dataframe containing monthly excess returns of the regressand fund\n",
    "            rf - Monthly risk free rate of return\n",
    "        Output:\n",
    "            summary_stats - (Beta of regression, treynor ratio, information ratio, alpha). \n",
    "    \"\"\"\n",
    "    if constant:\n",
    "        X = sm.tools.add_constant(factor)\n",
    "    else:\n",
    "        X = factor\n",
    "    y=fund_ret\n",
    "    model = sm.OLS(y,X,missing='drop').fit()\n",
    "    \n",
    "    if constant:\n",
    "        beta = model.params[1:]\n",
    "        alpha = round(float(model.params['const']),6) *12\n",
    "\n",
    "        \n",
    "    else:\n",
    "        beta = model.params\n",
    "    treynor_ratio = ((fund_ret - rf).mean()*12)/beta[0]\n",
    "    tracking_error = (model.resid.std()*np.sqrt(12))\n",
    "    if constant:        \n",
    "        information_ratio = model.params[0]*12/tracking_error\n",
    "    r_squared = model.rsquared\n",
    "    if constant:\n",
    "        return (beta,treynor_ratio,information_ratio,alpha,r_squared,tracking_error,model.resid)\n",
    "    else:\n",
    "        return (beta,treynor_ratio,r_squared,tracking_error,model.resid)"
   ]
  },
  {
   "cell_type": "code",
   "execution_count": 4,
   "id": "3285ddda",
   "metadata": {},
   "outputs": [],
   "source": [
    "def tangency_portfolio_rfr(asset_return,cov_matrix):\n",
    "    \"\"\" \n",
    "        Returns the tangency portfolio weights in a (1 x n) vector when a riskless assset is available\n",
    "        Inputs: \n",
    "            asset_return - Excess return over the risk free rate for each asset (n x 1) Vector\n",
    "            cov_matrix = nxn covariance matrix for the assets\n",
    "    \"\"\"\n",
    "    asset_cov = np.array(cov_matrix)\n",
    "    inverted_cov= np.linalg.inv(asset_cov)\n",
    "    one_vector = np.ones(len(cov_matrix.index))\n",
    "    \n",
    "    den = (one_vector @ inverted_cov) @ (asset_return)\n",
    "    num =  inverted_cov @ asset_return\n",
    "    return (1/den) * num"
   ]
  },
  {
   "cell_type": "markdown",
   "id": "62da8d64",
   "metadata": {},
   "source": [
    "# Reading Data"
   ]
  },
  {
   "cell_type": "code",
   "execution_count": 5,
   "id": "0645e083",
   "metadata": {},
   "outputs": [],
   "source": [
    "ff_factors = pd.read_excel(r'C:\\Users\\piyus\\Documents\\Repos\\finm-portfolio-2022\\data\\momentum_data.xlsx',sheet_name = 'factors (excess returns)')\n",
    "ff_factors = ff_factors.set_index('Date')"
   ]
  },
  {
   "cell_type": "code",
   "execution_count": 6,
   "id": "20c28205",
   "metadata": {},
   "outputs": [],
   "source": [
    "size_ports = pd.read_excel(r'C:\\Users\\piyus\\Documents\\Repos\\finm-portfolio-2022\\data\\momentum_data.xlsx',sheet_name = 'size_sorts (total returns)')\n",
    "size_ports = size_ports.set_index('Date')"
   ]
  },
  {
   "cell_type": "code",
   "execution_count": 7,
   "id": "81530bbb",
   "metadata": {},
   "outputs": [],
   "source": [
    "rf = pd.read_excel(r'C:\\Users\\piyus\\Documents\\Repos\\finm-portfolio-2022\\data\\momentum_data.xlsx',sheet_name = 'risk-free rate')\n",
    "rf = rf.set_index('Date')"
   ]
  },
  {
   "cell_type": "code",
   "execution_count": 8,
   "id": "db0fde1b",
   "metadata": {},
   "outputs": [],
   "source": [
    "mom_deciles = pd.read_excel(r'C:\\Users\\piyus\\Documents\\Repos\\finm-portfolio-2022\\data\\momentum_data.xlsx',sheet_name = 'deciles (total returns)')\n",
    "mom_deciles = mom_deciles.set_index('Date')"
   ]
  },
  {
   "cell_type": "code",
   "execution_count": 9,
   "id": "f6ac168a",
   "metadata": {},
   "outputs": [],
   "source": [
    "momentum = pd.read_excel(r'C:\\Users\\piyus\\Documents\\Repos\\finm-portfolio-2022\\data\\momentum_data.xlsx',sheet_name = 'momentum (excess returns)')\n",
    "momentum = momentum.set_index('Date')\n",
    "\n",
    "ff_factors['UMD'] = momentum['UMD']"
   ]
  },
  {
   "cell_type": "markdown",
   "id": "028a975f",
   "metadata": {},
   "source": [
    "## 2) Investigating Momentum\n",
    "\n",
    "#### In this section, we empirically investigate some concerns regarding AQR’s new momentum product.\n",
    "\n",
    "#### On GitHub, find the data file, “momentum data.xlsx”.\n",
    "\n",
    "\n",
    "- #### The third tab contains the momentum factor as an excess return: $\\tilde{r}^{mom}$\n",
    "\n",
    "\n",
    "- #### The fourth tab contains returns on portfolios corresponding to scored momentum deciles.\n",
    "    - #### $\\tilde{r}^{mom(1)}$ denotes the portfolio of stocks in the lowest momentum decile, the “losers” with the lowest past returns.\n",
    "    - #### $\\tilde{r}^{mom(10)}$ denotes the portfolio of stocks in the highest momentum decile.\n",
    "\n",
    "\n",
    "- #### The fifth tab gives portfolios sorted by momentum and size.\n",
    "    - #### $\\tilde{r}^{momSU}$ denotes the portfolio of small stocks in the top 3 deciles of momentum scores.\n",
    "    - #### $\\tilde{r}^{momBD}$ denotes the portfolio of big-stocks in the bottom 3 deciles of momentum scores.\n",
    "\n",
    "\n",
    "#### Note that the Fama-French momentum return, $\\tilde{r}^{mom:FF}$, given in the third tab, is constructed by FF as,\n",
    "\n",
    "\n",
    "#### $$\\tilde{r}^{mom:FF} = \\frac{1}{2} (\\tilde{r}^{momBU} + \\tilde{r}^{momSU}) − \\frac{1}{2} (\\tilde{r}^{momBD} + \\tilde{r}^{momSD}) $$"
   ]
  },
  {
   "cell_type": "markdown",
   "id": "df431c47",
   "metadata": {},
   "source": [
    "### 2.1.a) Is momentum still profitable?\n",
    "\n",
    "The excess returns of lucrative trading strategies often disappear once the strategy is well-known. The first widely-cited paper on momentum was published in 1993. Have momentum returns or risk changed since then? The AQR case takes place at the end of 2008. Have momentum returns changed in 2009-2021?\n",
    "\n",
    "\n",
    "Investigate by filling out the summary statistics below for the full-sample and three sub-samples.\n",
    "\n",
    "(a) Using the data provided, fill in Table 1 with the appropriate stats for $\\tilde{r}^{mom:FF}$\n",
    "\n",
    "|<caption>Table 1: Momentum performance over time.</caption>|Subsample|mean|vol|Sharpe|Skewness|corr. to $\\tilde{r}^m$|corr. to $\\tilde{r}^v$|\n",
    "|------------------------:|------------------------:|-----------------------:|------------------------:|-----------------------:|------------------------:|-----------------------:|-----------------------:|\n",
    "|1927 - 2022|||||||||\n",
    "|1927 - 1993|||||||||\n",
    "|1994 - 2008|||||||||\n",
    "|2009 - 2022|||||||||\n"
   ]
  },
  {
   "cell_type": "code",
   "execution_count": 10,
   "id": "1a0a499e",
   "metadata": {},
   "outputs": [
    {
     "data": {
      "text/html": [
       "<div>\n",
       "<style scoped>\n",
       "    .dataframe tbody tr th:only-of-type {\n",
       "        vertical-align: middle;\n",
       "    }\n",
       "\n",
       "    .dataframe tbody tr th {\n",
       "        vertical-align: top;\n",
       "    }\n",
       "\n",
       "    .dataframe thead th {\n",
       "        text-align: right;\n",
       "    }\n",
       "</style>\n",
       "<table border=\"1\" class=\"dataframe\">\n",
       "  <thead>\n",
       "    <tr style=\"text-align: right;\">\n",
       "      <th></th>\n",
       "      <th>Mean</th>\n",
       "      <th>Volatility</th>\n",
       "      <th>Sharpe Ratio</th>\n",
       "      <th>Skewness</th>\n",
       "      <th>Corr Mkt</th>\n",
       "      <th>Corr Val</th>\n",
       "    </tr>\n",
       "  </thead>\n",
       "  <tbody>\n",
       "    <tr>\n",
       "      <th>1927-2022</th>\n",
       "      <td>0.077274</td>\n",
       "      <td>0.162650</td>\n",
       "      <td>0.475096</td>\n",
       "      <td>-3.015478</td>\n",
       "      <td>-0.344803</td>\n",
       "      <td>-0.417622</td>\n",
       "    </tr>\n",
       "    <tr>\n",
       "      <th>1927-1993</th>\n",
       "      <td>0.090113</td>\n",
       "      <td>0.159991</td>\n",
       "      <td>0.563242</td>\n",
       "      <td>-3.808977</td>\n",
       "      <td>-0.362537</td>\n",
       "      <td>-0.494960</td>\n",
       "    </tr>\n",
       "    <tr>\n",
       "      <th>1994-2008</th>\n",
       "      <td>0.104373</td>\n",
       "      <td>0.175551</td>\n",
       "      <td>0.594548</td>\n",
       "      <td>-0.582038</td>\n",
       "      <td>-0.234519</td>\n",
       "      <td>-0.130707</td>\n",
       "    </tr>\n",
       "    <tr>\n",
       "      <th>2009-2022</th>\n",
       "      <td>-0.014851</td>\n",
       "      <td>0.159280</td>\n",
       "      <td>-0.093238</td>\n",
       "      <td>-2.811558</td>\n",
       "      <td>-0.377934</td>\n",
       "      <td>-0.385203</td>\n",
       "    </tr>\n",
       "  </tbody>\n",
       "</table>\n",
       "</div>"
      ],
      "text/plain": [
       "               Mean  Volatility  Sharpe Ratio  Skewness  Corr Mkt  Corr Val\n",
       "1927-2022  0.077274    0.162650      0.475096 -3.015478 -0.344803 -0.417622\n",
       "1927-1993  0.090113    0.159991      0.563242 -3.808977 -0.362537 -0.494960\n",
       "1994-2008  0.104373    0.175551      0.594548 -0.582038 -0.234519 -0.130707\n",
       "2009-2022 -0.014851    0.159280     -0.093238 -2.811558 -0.377934 -0.385203"
      ]
     },
     "execution_count": 10,
     "metadata": {},
     "output_type": "execute_result"
    }
   ],
   "source": [
    "sub_samples = {\n",
    "              '1927-2022' : ['1927','2022'],\n",
    "              '1927-1993' : ['1927','1993'],\n",
    "              '1994-2008' : ['1994','2008'],\n",
    "              '2009-2022' : ['2009','2022']\n",
    "              }\n",
    "\n",
    "mom_sum = []\n",
    "for k,v in sub_samples.items():\n",
    "    sub_mom = momentum.loc[sub_samples[k][0]:sub_samples[k][1]]\n",
    "    sub_ff = ff_factors.loc[sub_samples[k][0]:sub_samples[k][1]]\n",
    "    mom_summary = performance_summary(sub_mom)\n",
    "    mom_summary = mom_summary.loc[:,['Mean','Volatility','Sharpe Ratio','Skewness']]\n",
    "    mom_summary['Corr Mkt'] = sub_ff.corr().loc['MKT',['UMD']]\n",
    "    mom_summary['Corr Val'] = sub_ff.corr().loc['HML',['UMD']]\n",
    "    mom_summary.index = [k]\n",
    "    mom_sum.append(mom_summary)\n",
    "\n",
    "mom_summary = pd.concat(mom_sum)\n",
    "mom_summary"
   ]
  },
  {
   "cell_type": "markdown",
   "id": "6f5d652c",
   "metadata": {},
   "source": [
    "### 2.1.b) Has momentum changed much over time, as seen through these subsample statistics?\n",
    "\n",
    "Yes, Momentum posted significantly positive mean annual returns for from 1927-2008, but has since posted negative returns for the sub sample of 2009-2022. This might be a result of the heavy drawdowns suffered by stocks during the financial crisis and 2020 covid crash.\n",
    "\n",
    "The negative correlation of Momentum with Value and Market, still make it an attractive factor to be included for diversification purposes."
   ]
  },
  {
   "cell_type": "markdown",
   "id": "6debcc4e",
   "metadata": {},
   "source": [
    "### 2.1.c) Does this data support AQR's argument that momentum is an important piece of the ideal portfolio? What if mean returns to momentum are in actuality near zero due to transaction costs - would there still be evidence here that momentum is valuable?\n",
    "\n",
    "The positive mean returns for Momentum do indicate that it should be a priced risk in a portfolio. Even if these mean returns are near zero after accounting for transaction costs and other fees, the significant negative correlation of Momentum with other factors like Market and Value could prove useful in terms of diversification"
   ]
  },
  {
   "cell_type": "markdown",
   "id": "3e90877f",
   "metadata": {},
   "source": [
    "### 2.2) The case is about whether a long-only implementation of momentum is valuable.\n",
    "\n",
    "#### Construct your own long-only implementation:\n",
    "\n",
    "#### $$\\tilde{r}^{momU:FF} = \\frac{1}{2} (\\tilde{r}^{momBU} + \\tilde{r}^{momSU}) − r^f $$\n",
    "\n",
    "#### Note that this is following the FF approach of treating big and small stocks separately. This would be very similar to a scaled version of,\n",
    "\n",
    "#### $$\\tilde{r}^{momU} = \\frac{1}{3} (\\tilde{r}^{mom(8)} + \\tilde{r}^{mom(9)} + \\tilde{r}^{mom(10)}) − r^f $$\n",
    "\n",
    "\n",
    "#### For the question below, use the FF-style $\\tilde{r}^{momU:FF}_t$\n",
    "\n",
    "\n",
    "### 2.2.a) Fill out Table 2 for the data in the period 1994-2022.\n",
    "\n",
    "\n",
    "|<caption>Table 2: Long-only momentum performance.</caption>|1994-2022|mean|vol|Sharpe|Skewness|corr. to $\\tilde{r}^m$|corr. to $\\tilde{r}^v$|\n",
    "|------------------------:|-----------------------:|------------------------:|-----------------------:|------------------------:|-----------------------:|-----------------------:|-----------------------:|\n",
    "|Long-and-short, $\\tilde{r}^{mom:FF}$|||||||||\n",
    "|Long only, $\\tilde{r}^{momU:FF}$|||||||||\n"
   ]
  },
  {
   "cell_type": "code",
   "execution_count": 11,
   "id": "751b9eeb",
   "metadata": {},
   "outputs": [],
   "source": [
    "mom_rtn_long = pd.DataFrame(((1/2*(size_ports['BIG HiPRIOR'] + size_ports['SMALL HiPRIOR']))-rf['RF']),columns = ['UMD'])\n",
    "\n",
    "ff_long = ff_factors.copy()\n",
    "ff_long['UMD'] = mom_rtn_long['UMD']\n",
    "mom_rtn_long_summary = performance_summary(mom_rtn_long['1994':])\n",
    "mom_rtn_long_summary = mom_rtn_long_summary.loc[:,['Mean','Volatility','Sharpe Ratio','Skewness']]\n",
    "mom_rtn_long_summary['Corr Mkt'] = ff_long.loc['1994':].corr().loc['MKT',['UMD']]\n",
    "mom_rtn_long_summary['Corr Val'] = ff_long.loc['1994':].corr().loc['HML',['UMD']]\n",
    "mom_rtn_long_summary.index = ['Long Only']\n",
    "\n"
   ]
  },
  {
   "cell_type": "code",
   "execution_count": 12,
   "id": "761f093f",
   "metadata": {},
   "outputs": [],
   "source": [
    "mom_rtn_long_short = pd.DataFrame((1/2*((size_ports['BIG HiPRIOR'] + size_ports['SMALL HiPRIOR']) \n",
    "                              - (size_ports['BIG LoPRIOR'] + size_ports['SMALL LoPRIOR']))),columns = ['UMD'])\n",
    "ff_long_short = ff_factors.copy()\n",
    "ff_long_short['UMD'] = mom_rtn_long_short['UMD']\n",
    "mom_rtn_long_short_summary = performance_summary(mom_rtn_long_short['1994':])\n",
    "mom_rtn_long_short_summary = mom_rtn_long_short_summary.loc[:,['Mean','Volatility','Sharpe Ratio','Skewness']]\n",
    "mom_rtn_long_short_summary['Corr Mkt'] = ff_long_short.loc['1994':].corr().loc['MKT',['UMD']]\n",
    "mom_rtn_long_short_summary['Corr Val'] = ff_long_short.loc['1994':].corr().loc['HML',['UMD']]\n",
    "mom_rtn_long_short_summary.index = ['Long and Short']"
   ]
  },
  {
   "cell_type": "code",
   "execution_count": 13,
   "id": "1e429660",
   "metadata": {},
   "outputs": [
    {
     "data": {
      "text/html": [
       "<div>\n",
       "<style scoped>\n",
       "    .dataframe tbody tr th:only-of-type {\n",
       "        vertical-align: middle;\n",
       "    }\n",
       "\n",
       "    .dataframe tbody tr th {\n",
       "        vertical-align: top;\n",
       "    }\n",
       "\n",
       "    .dataframe thead th {\n",
       "        text-align: right;\n",
       "    }\n",
       "</style>\n",
       "<table border=\"1\" class=\"dataframe\">\n",
       "  <thead>\n",
       "    <tr style=\"text-align: right;\">\n",
       "      <th></th>\n",
       "      <th>Mean</th>\n",
       "      <th>Volatility</th>\n",
       "      <th>Sharpe Ratio</th>\n",
       "      <th>Skewness</th>\n",
       "      <th>Corr Mkt</th>\n",
       "      <th>Corr Val</th>\n",
       "    </tr>\n",
       "  </thead>\n",
       "  <tbody>\n",
       "    <tr>\n",
       "      <th>Long and Short</th>\n",
       "      <td>0.047329</td>\n",
       "      <td>0.168603</td>\n",
       "      <td>0.280711</td>\n",
       "      <td>-1.433724</td>\n",
       "      <td>-0.306118</td>\n",
       "      <td>-0.238548</td>\n",
       "    </tr>\n",
       "    <tr>\n",
       "      <th>Long Only</th>\n",
       "      <td>0.112783</td>\n",
       "      <td>0.178903</td>\n",
       "      <td>0.630411</td>\n",
       "      <td>-0.482872</td>\n",
       "      <td>0.903499</td>\n",
       "      <td>-0.154667</td>\n",
       "    </tr>\n",
       "  </tbody>\n",
       "</table>\n",
       "</div>"
      ],
      "text/plain": [
       "                    Mean  Volatility  Sharpe Ratio  Skewness  Corr Mkt  \\\n",
       "Long and Short  0.047329    0.168603      0.280711 -1.433724 -0.306118   \n",
       "Long Only       0.112783    0.178903      0.630411 -0.482872  0.903499   \n",
       "\n",
       "                Corr Val  \n",
       "Long and Short -0.238548  \n",
       "Long Only      -0.154667  "
      ]
     },
     "execution_count": 13,
     "metadata": {},
     "output_type": "execute_result"
    }
   ],
   "source": [
    "\n",
    "pdList = [mom_rtn_long_short_summary,mom_rtn_long_summary]\n",
    "mom_comparison = pd.concat(pdList)\n",
    "mom_comparison"
   ]
  },
  {
   "cell_type": "markdown",
   "id": "6c8b8979",
   "metadata": {},
   "source": [
    "### 2.2.b) Is long-only momentum as attractive as long-short momentum with respect to mean, volatility, and Sharpe Ratio?\n",
    "\n",
    "The Long only momentum is much more attractive compared to the long-short momentum, as it has almost 3 times the mean returns with similar volatility. However, the main point to note here is that it has 90% correlation with the Market Factor, and thus the mean returns could be driven by the Market factor itself."
   ]
  },
  {
   "cell_type": "markdown",
   "id": "e9496f2e",
   "metadata": {},
   "source": [
    "### 2.2.c) Is long-only momentum as diversifying as long-short momentum with respect to market and value premia?\n",
    "\n",
    "Given the high correlation of the Long-Only Momentum with Market Factor (90%), it does not do a good job for diversification as compared to the long-short where the correltions to Market and Value still remain negative. "
   ]
  },
  {
   "cell_type": "markdown",
   "id": "5c2339ab",
   "metadata": {},
   "source": [
    "### 2.2.d) Show a plot of the cumulative product of 1 + $\\tilde{r}^{mom:FF}$ and 1 + $\\tilde{r}^{momU:FF}$  over the 1994-2022 subsample."
   ]
  },
  {
   "cell_type": "code",
   "execution_count": 14,
   "id": "42e22afb",
   "metadata": {},
   "outputs": [
    {
     "data": {
      "text/plain": [
       "<AxesSubplot:xlabel='Date'>"
      ]
     },
     "execution_count": 14,
     "metadata": {},
     "output_type": "execute_result"
    },
    {
     "data": {
      "image/png": "[encoded data removed]",
      "text/plain": [
       "<Figure size 1080x432 with 1 Axes>"
      ]
     },
     "metadata": {
      "needs_background": "light"
     },
     "output_type": "display_data"
    }
   ],
   "source": [
    "mom_plot = pd.DataFrame(((1/2*(size_ports['BIG HiPRIOR'] + size_ports['SMALL HiPRIOR']))-rf['RF']),columns = ['Long-Only'])\n",
    "mom_plot['Long-Short'] = 0.5*((size_ports['BIG HiPRIOR'] + size_ports['SMALL HiPRIOR']) \n",
    "                              - (size_ports['BIG LoPRIOR'] + size_ports['SMALL LoPRIOR']))\n",
    "(1+mom_plot['1994':]).cumprod().plot()"
   ]
  },
  {
   "cell_type": "markdown",
   "id": "eb21b24d",
   "metadata": {},
   "source": [
    "### 3) Is momentum just data mining, or is it a robust strategy?\n",
    "\n",
    "#### Assess how sensitive the threshold for the “winners” and “losers” is in the results. Specifically, we compare three constructions:\n",
    "\n",
    "\n",
    "- #### long the top 1 decile and short the bottom 1 deciles:\n",
    "\n",
    "#### $$ \\tilde{r}^{momD1} = r^{mom(10)} - r^{mom(1)}$$\n",
    "\n",
    "\n",
    "- #### long the top 3 deciles and short the bottom 3 deciles:\n",
    "\n",
    "\n",
    "#### $$ \\tilde{r}^{momD3} = \\frac{1}{3}(r^{mom(8)} + r^{mom(9)} + r^{mom(10)}) - \\frac{1}{3} (r^{mom(3)} + r^{mom(2)} + r^{mom(1)}) $$\n",
    "\n",
    "#### $$ \\tilde{r}^{momD3} = \\frac{1}{3}\\sum_{k = 8}^{10} r^{mom(k)} - \\frac{1}{3}\\sum_{k = 1}^{3} r^{mom(k)} $$\n",
    "\n",
    "\n",
    "- #### long the top 5 deciles and short the bottom 5 decile:\n",
    "\n",
    "#### $$ \\tilde{r}^{momD5} = \\frac{1}{5}\\sum_{k = 6}^{10} r^{mom(k)} - \\frac{1}{5}\\sum_{k = 1}^{5} r^{mom(k)} $$"
   ]
  },
  {
   "cell_type": "code",
   "execution_count": 15,
   "id": "d6b7c8b4",
   "metadata": {},
   "outputs": [],
   "source": [
    "mom_top1_decile = pd.DataFrame(mom_deciles['Hi PRIOR'] - mom_deciles['Lo PRIOR'],columns = ['UMD'])\n",
    "mom_top3_decile = pd.DataFrame(1/3*((mom_deciles.loc[:,['PRIOR 8','PRIOR 9','Hi PRIOR']].sum(axis = 1))\n",
    "                                    - (mom_deciles.loc[:,['Lo PRIOR','PRIOR 2','PRIOR 3']].sum(axis = 1))),columns = ['UMD'])\n",
    "\n",
    "mom_top5_decile = pd.DataFrame(1/5*((mom_deciles.loc[:,['PRIOR 6','PRIOR 7','PRIOR 8','PRIOR 9','Hi PRIOR']].sum(axis = 1))\n",
    "                                    - (mom_deciles.loc[:,['Lo PRIOR','PRIOR 2','PRIOR 3','PRIOR 4','PRIOR 5']].sum(axis = 1))),columns = ['UMD'])\n"
   ]
  },
  {
   "cell_type": "markdown",
   "id": "3869e3e9",
   "metadata": {},
   "source": [
    "### 2.3.a) Compare all three constructions, (in the full-sample period,) by filling out the stats in the table below for the period 1994-2022.\n",
    "\n",
    "|<caption>Table 3: Robustness of momentum construction.</caption>|1994-2022|mean|vol|Sharpe|Skewness|corr. to $\\tilde{r}^m$|corr. to $\\tilde{r}^v$|\n",
    "|------------------------:|-----------------------:|------------------------:|-----------------------:|------------------------:|-----------------------:|-----------------------:|-----------------------:|\n",
    "|$\\tilde{r}^{momD1}$|||||||||\n",
    "|$\\tilde{r}^{momD3}$|||||||||\n",
    "|$\\tilde{r}^{momD5}$|||||||||"
   ]
  },
  {
   "cell_type": "code",
   "execution_count": 16,
   "id": "4e905462",
   "metadata": {},
   "outputs": [
    {
     "data": {
      "text/html": [
       "<div>\n",
       "<style scoped>\n",
       "    .dataframe tbody tr th:only-of-type {\n",
       "        vertical-align: middle;\n",
       "    }\n",
       "\n",
       "    .dataframe tbody tr th {\n",
       "        vertical-align: top;\n",
       "    }\n",
       "\n",
       "    .dataframe thead th {\n",
       "        text-align: right;\n",
       "    }\n",
       "</style>\n",
       "<table border=\"1\" class=\"dataframe\">\n",
       "  <thead>\n",
       "    <tr style=\"text-align: right;\">\n",
       "      <th></th>\n",
       "      <th>Mean</th>\n",
       "      <th>Volatility</th>\n",
       "      <th>Sharpe Ratio</th>\n",
       "      <th>Skewness</th>\n",
       "      <th>Corr Mkt</th>\n",
       "      <th>Corr Val</th>\n",
       "    </tr>\n",
       "  </thead>\n",
       "  <tbody>\n",
       "    <tr>\n",
       "      <th>Momentum Top 1 Decile</th>\n",
       "      <td>0.079409</td>\n",
       "      <td>0.297952</td>\n",
       "      <td>0.266515</td>\n",
       "      <td>-1.323613</td>\n",
       "      <td>-0.335574</td>\n",
       "      <td>-0.236392</td>\n",
       "    </tr>\n",
       "    <tr>\n",
       "      <th>Momentum Top 3 Decile</th>\n",
       "      <td>0.034203</td>\n",
       "      <td>0.192568</td>\n",
       "      <td>0.177615</td>\n",
       "      <td>-1.355380</td>\n",
       "      <td>-0.365386</td>\n",
       "      <td>-0.229882</td>\n",
       "    </tr>\n",
       "    <tr>\n",
       "      <th>Momentum Top 5 Decile</th>\n",
       "      <td>0.018031</td>\n",
       "      <td>0.134026</td>\n",
       "      <td>0.134536</td>\n",
       "      <td>-1.435409</td>\n",
       "      <td>-0.357936</td>\n",
       "      <td>-0.227501</td>\n",
       "    </tr>\n",
       "  </tbody>\n",
       "</table>\n",
       "</div>"
      ],
      "text/plain": [
       "                           Mean  Volatility  Sharpe Ratio  Skewness  Corr Mkt  \\\n",
       "Momentum Top 1 Decile  0.079409    0.297952      0.266515 -1.323613 -0.335574   \n",
       "Momentum Top 3 Decile  0.034203    0.192568      0.177615 -1.355380 -0.365386   \n",
       "Momentum Top 5 Decile  0.018031    0.134026      0.134536 -1.435409 -0.357936   \n",
       "\n",
       "                       Corr Val  \n",
       "Momentum Top 1 Decile -0.236392  \n",
       "Momentum Top 3 Decile -0.229882  \n",
       "Momentum Top 5 Decile -0.227501  "
      ]
     },
     "execution_count": 16,
     "metadata": {},
     "output_type": "execute_result"
    }
   ],
   "source": [
    "samples = {'Momentum Top 1 Decile':mom_top1_decile\n",
    "          ,'Momentum Top 3 Decile':mom_top3_decile\n",
    "          ,'Momentum Top 5 Decile':mom_top5_decile}\n",
    "\n",
    "mom_deciles = []\n",
    "for k,v in samples.items():\n",
    "    ff = ff_factors.copy()\n",
    "    ff['UMD'] = v['UMD']\n",
    "    mom_decile_summary = performance_summary(v['1994':])\n",
    "    mom_decile_summary = mom_decile_summary.loc[:,['Mean','Volatility','Sharpe Ratio','Skewness']]\n",
    "    mom_decile_summary['Corr Mkt'] = ff.loc['1994':'2022'].corr().loc['MKT',['UMD']]\n",
    "    mom_decile_summary['Corr Val'] = ff.loc['1994':'2022'].corr().loc['HML',['UMD']]\n",
    "    mom_decile_summary.index = [k]\n",
    "    mom_deciles.append(mom_decile_summary)\n",
    "\n",
    "mom_deciles_df = pd.concat(mom_deciles)\n",
    "mom_deciles_df"
   ]
  },
  {
   "cell_type": "markdown",
   "id": "5e12a0ca",
   "metadata": {},
   "source": [
    "### 2.3.b) Do the tradeoffs between the 1-decile, 3-decile, and 5-decile constructions line up with the theoretical tradeoffs we discussed in the lecture?\n",
    "\n",
    "The performance of the 1-decile construction is a stronger, but might lead to concentrated positions and thus more idiosyncratic risk. The lecture implies that the more extreme the cutoff for the \"winners\", the higher the mean return of the momentum portfolio. The downside is that we would expect higher volatility. This is consistent with what we see here. decile1 has the highest vol with 30.18%.\n",
    "\n",
    "For a retail product, the top 3 decile strategy may prove to be optimum for more downside tail risk protection."
   ]
  },
  {
   "cell_type": "markdown",
   "id": "2b57979c",
   "metadata": {},
   "source": [
    "### 2.3.c) Should AQR's retail product consider using a 1-decile or 5-decile construction?\n",
    "\n",
    "With much higher risk adjusted returns, AQR's retail product shoud consider using the 1-decile construction."
   ]
  },
  {
   "cell_type": "markdown",
   "id": "aa49cafe",
   "metadata": {},
   "source": [
    "### 2.3.d) Does $\\tilde{r}^{momD3}$ have similar stats to the Fama-French construction in (1). Recall that construction is also a 3-decile, long-short construction, but it is segmented for small and large stocks. Compare the middle row of Table 3 with the top row of Table 2.\n",
    "\n",
    "Long-Short Construction with Size buckets and with 3 momentum deciles, produce pretty much similar statistics on all metrics, with the Size buckets long-short strategy performing slightly better in terms of reisk adjusted returns and correlations."
   ]
  },
  {
   "cell_type": "code",
   "execution_count": 17,
   "id": "dfd30952",
   "metadata": {},
   "outputs": [
    {
     "data": {
      "text/html": [
       "<div>\n",
       "<style scoped>\n",
       "    .dataframe tbody tr th:only-of-type {\n",
       "        vertical-align: middle;\n",
       "    }\n",
       "\n",
       "    .dataframe tbody tr th {\n",
       "        vertical-align: top;\n",
       "    }\n",
       "\n",
       "    .dataframe thead th {\n",
       "        text-align: right;\n",
       "    }\n",
       "</style>\n",
       "<table border=\"1\" class=\"dataframe\">\n",
       "  <thead>\n",
       "    <tr style=\"text-align: right;\">\n",
       "      <th></th>\n",
       "      <th>Mean</th>\n",
       "      <th>Volatility</th>\n",
       "      <th>Sharpe Ratio</th>\n",
       "      <th>Skewness</th>\n",
       "      <th>Corr Mkt</th>\n",
       "      <th>Corr Val</th>\n",
       "    </tr>\n",
       "  </thead>\n",
       "  <tbody>\n",
       "    <tr>\n",
       "      <th>Long and Short</th>\n",
       "      <td>0.047329</td>\n",
       "      <td>0.168603</td>\n",
       "      <td>0.280711</td>\n",
       "      <td>-1.433724</td>\n",
       "      <td>-0.306118</td>\n",
       "      <td>-0.238548</td>\n",
       "    </tr>\n",
       "    <tr>\n",
       "      <th>Momentum Top 3 Decile</th>\n",
       "      <td>0.034203</td>\n",
       "      <td>0.192568</td>\n",
       "      <td>0.177615</td>\n",
       "      <td>-1.355380</td>\n",
       "      <td>-0.365386</td>\n",
       "      <td>-0.229882</td>\n",
       "    </tr>\n",
       "  </tbody>\n",
       "</table>\n",
       "</div>"
      ],
      "text/plain": [
       "                           Mean  Volatility  Sharpe Ratio  Skewness  Corr Mkt  \\\n",
       "Long and Short         0.047329    0.168603      0.280711 -1.433724 -0.306118   \n",
       "Momentum Top 3 Decile  0.034203    0.192568      0.177615 -1.355380 -0.365386   \n",
       "\n",
       "                       Corr Val  \n",
       "Long and Short        -0.238548  \n",
       "Momentum Top 3 Decile -0.229882  "
      ]
     },
     "execution_count": 17,
     "metadata": {},
     "output_type": "execute_result"
    }
   ],
   "source": [
    "pd.concat([mom_rtn_long_short_summary,mom_deciles_df.loc['Momentum Top 3 Decile'].to_frame().T])"
   ]
  },
  {
   "cell_type": "markdown",
   "id": "cefb30ad",
   "metadata": {},
   "source": [
    "### 4. Does implementing momentum require trading lots of small stocks-- thus causing even larger trading costs?\n",
    "\n",
    "#### For regulatory and liquidity reasons, AQR is particularly interested in using larger stocks for their momentum baskets. (Though they will launch one product that focuses on medium-sized stocks.)\n",
    "#### Use the data provided on both small-stock “winners”, $r^{momSU}$, and small-stock “losers”, $r^{momSD}$, to construct a small-stock momentum portfolio,\n",
    "\n",
    "#### $$ r^{momS}_t = r^{momSU}_t - r^{momSD}_t $$\n",
    "\n",
    "#### Similarly, use the data provided to construct a big-stock momentum portfolio,\n",
    "\n",
    "#### $$ r^{momB}_t = r^{momBU}_t − r^{momBD}_t $$"
   ]
  },
  {
   "cell_type": "markdown",
   "id": "6a2abb77",
   "metadata": {},
   "source": [
    "### 2.4.a) Fill out Table 4 over the sample 1994-2022.\n",
    "\n",
    "\n",
    "|<caption>Table 4: Momentum of small and big stocks.</caption>|1994-2022|mean|vol|Sharpe|Skewness|corr. to $\\tilde{r}^m$|corr. to $\\tilde{r}^v$|\n",
    "|------------------------:|-----------------------:|------------------------:|-----------------------:|------------------------:|-----------------------:|-----------------------:|-----------------------:|\n",
    "|All stocks, $\\tilde{r}^{mom:FF}_t$|||||||||\n",
    "|Small stocks, $\\tilde{r}^{momS}_t$|||||||||\n",
    "|Large stocks, $\\tilde{r}^{momB}_t$|||||||||\n",
    "\n"
   ]
  },
  {
   "cell_type": "code",
   "execution_count": 18,
   "id": "f04ca5a7",
   "metadata": {},
   "outputs": [],
   "source": [
    "mom_small = pd.DataFrame((size_ports['SMALL HiPRIOR'] - size_ports['SMALL LoPRIOR']),columns = ['UMD'])\n",
    "mom_large = pd.DataFrame((size_ports['BIG HiPRIOR'] - size_ports['BIG LoPRIOR']),columns = ['UMD'])"
   ]
  },
  {
   "cell_type": "code",
   "execution_count": 19,
   "id": "19220f39",
   "metadata": {},
   "outputs": [
    {
     "data": {
      "text/html": [
       "<div>\n",
       "<style scoped>\n",
       "    .dataframe tbody tr th:only-of-type {\n",
       "        vertical-align: middle;\n",
       "    }\n",
       "\n",
       "    .dataframe tbody tr th {\n",
       "        vertical-align: top;\n",
       "    }\n",
       "\n",
       "    .dataframe thead th {\n",
       "        text-align: right;\n",
       "    }\n",
       "</style>\n",
       "<table border=\"1\" class=\"dataframe\">\n",
       "  <thead>\n",
       "    <tr style=\"text-align: right;\">\n",
       "      <th></th>\n",
       "      <th>Mean</th>\n",
       "      <th>Volatility</th>\n",
       "      <th>Sharpe Ratio</th>\n",
       "      <th>Skewness</th>\n",
       "      <th>Corr Mkt</th>\n",
       "      <th>Corr Val</th>\n",
       "    </tr>\n",
       "  </thead>\n",
       "  <tbody>\n",
       "    <tr>\n",
       "      <th>Long and Short</th>\n",
       "      <td>0.047329</td>\n",
       "      <td>0.168603</td>\n",
       "      <td>0.280711</td>\n",
       "      <td>-1.433724</td>\n",
       "      <td>-0.306118</td>\n",
       "      <td>-0.238548</td>\n",
       "    </tr>\n",
       "    <tr>\n",
       "      <th>Small Stocks</th>\n",
       "      <td>0.062737</td>\n",
       "      <td>0.171615</td>\n",
       "      <td>0.365571</td>\n",
       "      <td>-1.750109</td>\n",
       "      <td>-0.306908</td>\n",
       "      <td>-0.164672</td>\n",
       "    </tr>\n",
       "    <tr>\n",
       "      <th>Large Stocks</th>\n",
       "      <td>0.031920</td>\n",
       "      <td>0.181863</td>\n",
       "      <td>0.175517</td>\n",
       "      <td>-0.857615</td>\n",
       "      <td>-0.277984</td>\n",
       "      <td>-0.286919</td>\n",
       "    </tr>\n",
       "  </tbody>\n",
       "</table>\n",
       "</div>"
      ],
      "text/plain": [
       "                    Mean  Volatility  Sharpe Ratio  Skewness  Corr Mkt  \\\n",
       "Long and Short  0.047329    0.168603      0.280711 -1.433724 -0.306118   \n",
       "Small Stocks    0.062737    0.171615      0.365571 -1.750109 -0.306908   \n",
       "Large Stocks    0.031920    0.181863      0.175517 -0.857615 -0.277984   \n",
       "\n",
       "                Corr Val  \n",
       "Long and Short -0.238548  \n",
       "Small Stocks   -0.164672  \n",
       "Large Stocks   -0.286919  "
      ]
     },
     "execution_count": 19,
     "metadata": {},
     "output_type": "execute_result"
    }
   ],
   "source": [
    "samples = {'Small Stocks':mom_small\n",
    "          ,'Large Stocks':mom_large}\n",
    "\n",
    "mom_size = []\n",
    "for k,v in samples.items():\n",
    "    ff = ff_factors.copy()\n",
    "    ff['UMD'] = v['UMD']\n",
    "    mom_size_summary = performance_summary(v['1994':])\n",
    "    mom_size_summary = mom_size_summary.loc[:,['Mean','Volatility','Sharpe Ratio','Skewness']]\n",
    "    mom_size_summary['Corr Mkt'] = ff.loc['1994':].corr().loc['MKT',['UMD']]\n",
    "    mom_size_summary['Corr Val'] = ff.loc['1994':].corr().loc['HML',['UMD']]\n",
    "    mom_size_summary.index = [k]\n",
    "    mom_size.append(mom_size_summary)\n",
    "\n",
    "mom_size.insert(0,mom_rtn_long_short_summary)\n",
    "mom_size_df = pd.concat(mom_size)\n",
    "mom_size_df"
   ]
  },
  {
   "cell_type": "markdown",
   "id": "c47167a4",
   "metadata": {},
   "source": [
    "### 2.4.b) Is the attractiveness of the momentum strategy mostly driven by the small stocks? That is, does a momentum strategy in large stocks still deliver excess returns at comparable risk?\n",
    "\n",
    "A momentum strategy in large stocks is able to deliver excess returns with similar volatility to momentum with smaller stocks, and thus still carry a risk premia. However, momentum with small stocks carries almost 2 times the premia of momentum with large stocks and thus might seem more attractive. \n",
    "\n",
    "According to various theories, small cap stocks carry higher risk premia due to their size and illiquidity and thus may have higher expected returns and do well for a momentum strategy. But, they do come with a lot of nuances of higher transaction costs and difficulty in trading them."
   ]
  },
  {
   "cell_type": "markdown",
   "id": "d5d32ef1",
   "metadata": {},
   "source": [
    "## 2.5) In conclusion, what is your assessment of the AQR retail product? Is it capturing the important features of the Fama-French construction of momentum? Would you suggest any modifications?\n",
    "\n",
    "AQR's retail product is able to capture a risk premia similar to that created by Fama-French in their long-short momentum strategy using size buckets. However, AQR's retail product uses a long only approach which leads to a higher correlation with the Market and removes all diversification benefits of the Momentum factor.\n",
    "\n",
    "While understanding the need of the retail product to be long only, AQR should try a different approach to reduce this correlation or launch a product as an ETF which would allow them to create the momentum product in a long-short strategy form."
   ]
  },
  {
   "cell_type": "markdown",
   "id": "be017d58",
   "metadata": {},
   "source": [
    "## 3. Extensions\n",
    "\n",
    "<i> This section is not graded, and you do not need to submit your answers. We may discuss some of these extensions. </i>"
   ]
  },
  {
   "cell_type": "markdown",
   "id": "b3b0ba67",
   "metadata": {},
   "source": [
    "### 3.1 In Section 2 we analyzed whether Momentum changes substantially when we modify the construction of the factor. Let's examine that question for the Value factor.\n",
    "\n",
    "### Re-do Tables 2, 3, and 4 but for the decile and size portfolios of the Value factor. Get this data from Ken French's website.\n",
    "\n"
   ]
  },
  {
   "cell_type": "code",
   "execution_count": 20,
   "id": "11942fe2",
   "metadata": {},
   "outputs": [],
   "source": [
    "#dr.famafrench.get_available_datasets()\n",
    "ff_size_value_portfolios = dr.DataReader(\"6_Portfolios_2x3\",\"famafrench\",start='1926-07-01')[0]/100\n",
    "value_deciles = dr.DataReader(\"Portfolios_Formed_on_BE-ME\",\"famafrench\",start='1926-07-01')[0]/100"
   ]
  },
  {
   "cell_type": "code",
   "execution_count": 21,
   "id": "9e32b905",
   "metadata": {},
   "outputs": [],
   "source": [
    "ff_size_value_portfolios.index = ff_size_value_portfolios.index.to_timestamp('M')\n",
    "value_deciles.index = value_deciles.index.to_timestamp('M')"
   ]
  },
  {
   "cell_type": "code",
   "execution_count": 22,
   "id": "e3e254cb",
   "metadata": {},
   "outputs": [],
   "source": [
    "value_rtn_long = pd.DataFrame(((1/2*(ff_size_value_portfolios['BIG HiBM'] + ff_size_value_portfolios['SMALL HiBM']))-rf['RF']),columns = ['HML'])\n",
    "ff_long = ff_factors.copy()\n",
    "ff_long['HML'] = value_rtn_long['HML']\n",
    "value_rtn_long_summary = performance_summary(value_rtn_long['1994':])\n",
    "value_rtn_long_summary = value_rtn_long_summary.loc[:,['Mean','Volatility','Sharpe Ratio','Skewness']]\n",
    "value_rtn_long_summary['Corr Mkt'] = ff_long.loc['1994':].corr().loc['MKT',['HML']]\n",
    "value_rtn_long_summary['Corr Mom'] = ff_long.loc['1994':].corr().loc['UMD',['HML']]\n",
    "value_rtn_long_summary.index = ['Long Only']\n",
    "\n",
    "value_rtn_long_short = pd.DataFrame((1/2*((ff_size_value_portfolios['BIG HiBM'] + ff_size_value_portfolios['SMALL HiBM']) \n",
    "                              - (ff_size_value_portfolios['BIG LoBM'] + ff_size_value_portfolios['SMALL LoBM']))),columns = ['HML'])\n",
    "ff_long_short = ff_factors.copy()\n",
    "ff_long_short['HML'] = value_rtn_long_short['HML']\n",
    "value_rtn_long_short_summary = performance_summary(value_rtn_long_short['1994':])\n",
    "value_rtn_long_short_summary = value_rtn_long_short_summary.loc[:,['Mean','Volatility','Sharpe Ratio','Skewness']]\n",
    "value_rtn_long_short_summary['Corr Mkt'] = ff_long_short.loc['1994':].corr().loc['MKT',['HML']]\n",
    "value_rtn_long_short_summary['Corr Mom'] = ff_long_short.loc['1994':].corr().loc['UMD',['HML']]\n",
    "value_rtn_long_short_summary.index = ['Long and Short']"
   ]
  },
  {
   "cell_type": "code",
   "execution_count": 23,
   "id": "755bfef1",
   "metadata": {},
   "outputs": [],
   "source": [
    "value_top1_decile = pd.DataFrame(value_deciles['Hi 10'] - value_deciles['Lo 10'],columns = ['HML'])\n",
    "value_top3_decile = pd.DataFrame(1/3*((value_deciles.loc[:,['Dec 8','Dec 9','Hi 10']].sum(axis = 1))\n",
    "                                    - (value_deciles.loc[:,['Lo 10','Dec 2','Dec 3']].sum(axis = 1))),columns = ['HML'])\n",
    "\n",
    "value_top5_decile = pd.DataFrame(1/5*((value_deciles.loc[:,['Dec 6','Dec 7','Dec 8','Dec 9','Hi 10']].sum(axis = 1))\n",
    "                                    - (value_deciles.loc[:,['Lo 10','Dec 2','Dec 3','Dec 4','Dec 5']].sum(axis = 1))),columns = ['HML'])\n"
   ]
  },
  {
   "cell_type": "code",
   "execution_count": 24,
   "id": "ba4f3bc2",
   "metadata": {},
   "outputs": [],
   "source": [
    "samples = {'Value Top 1 Decile':value_top1_decile\n",
    "          ,'Value Top 3 Decile':value_top3_decile\n",
    "          ,'Value Top 5 Decile':value_top5_decile}\n",
    "\n",
    "value_deciles = []\n",
    "for k,v in samples.items():\n",
    "    ff = ff_factors.copy()\n",
    "    ff['HML'] = v['HML']\n",
    "    value_decile_summary = performance_summary(v['1994':])\n",
    "    value_decile_summary = value_decile_summary.loc[:,['Mean','Volatility','Sharpe Ratio','Skewness']]\n",
    "    value_decile_summary['Corr Mkt'] = ff.loc['1994':'2022'].corr().loc['MKT',['HML']]\n",
    "    value_decile_summary['Corr Mom'] = ff.loc['1994':'2022'].corr().loc['UMD',['HML']]\n",
    "    value_decile_summary.index = [k]\n",
    "    value_deciles.append(value_decile_summary)\n",
    "\n",
    "value_deciles_df = pd.concat(value_deciles)"
   ]
  },
  {
   "cell_type": "code",
   "execution_count": 25,
   "id": "22e7fec3",
   "metadata": {},
   "outputs": [],
   "source": [
    "value_small = pd.DataFrame((ff_size_value_portfolios['SMALL HiBM'] - ff_size_value_portfolios['SMALL LoBM']),columns = ['HML'])\n",
    "value_large = pd.DataFrame((ff_size_value_portfolios['BIG HiBM'] - ff_size_value_portfolios['BIG LoBM']),columns = ['HML'])"
   ]
  },
  {
   "cell_type": "code",
   "execution_count": 26,
   "id": "6cc8f17b",
   "metadata": {},
   "outputs": [],
   "source": [
    "samples = {'Small Stocks':value_small\n",
    "          ,'Large Stocks':value_large}\n",
    "\n",
    "value_size = []\n",
    "for k,v in samples.items():\n",
    "    ff = ff_factors.copy()\n",
    "    ff['HML'] = v['HML']\n",
    "    value_size_summary = performance_summary(v['1994':])\n",
    "    value_size_summary = value_size_summary.loc[:,['Mean','Volatility','Sharpe Ratio','Skewness']]\n",
    "    value_size_summary['Corr Mkt'] = ff.loc['1994':].corr().loc['MKT',['HML']]\n",
    "    value_size_summary['Corr Mom'] = ff.loc['1994':].corr().loc['UMD',['HML']]\n",
    "    value_size_summary.index = [k]\n",
    "    value_size.append(value_size_summary)\n",
    "\n",
    "value_size.insert(0,value_rtn_long_short_summary)\n",
    "value_size_df = pd.concat(value_size)"
   ]
  },
  {
   "cell_type": "code",
   "execution_count": 27,
   "id": "8e5812c7",
   "metadata": {},
   "outputs": [
    {
     "data": {
      "text/html": [
       "<div>\n",
       "<style scoped>\n",
       "    .dataframe tbody tr th:only-of-type {\n",
       "        vertical-align: middle;\n",
       "    }\n",
       "\n",
       "    .dataframe tbody tr th {\n",
       "        vertical-align: top;\n",
       "    }\n",
       "\n",
       "    .dataframe thead th {\n",
       "        text-align: right;\n",
       "    }\n",
       "</style>\n",
       "<table border=\"1\" class=\"dataframe\">\n",
       "  <thead>\n",
       "    <tr style=\"text-align: right;\">\n",
       "      <th></th>\n",
       "      <th>Mean</th>\n",
       "      <th>Volatility</th>\n",
       "      <th>Sharpe Ratio</th>\n",
       "      <th>Skewness</th>\n",
       "      <th>Excess Kurtosis</th>\n",
       "      <th>VaR (0.5)</th>\n",
       "      <th>CVaR (0.5)</th>\n",
       "      <th>Max Drawdown</th>\n",
       "      <th>Peak</th>\n",
       "      <th>Bottom</th>\n",
       "      <th>Recovery</th>\n",
       "    </tr>\n",
       "  </thead>\n",
       "  <tbody>\n",
       "    <tr>\n",
       "      <th>Fama-French Value</th>\n",
       "      <td>0.015903</td>\n",
       "      <td>0.114862</td>\n",
       "      <td>0.138449</td>\n",
       "      <td>0.207916</td>\n",
       "      <td>2.558068</td>\n",
       "      <td>-0.0452</td>\n",
       "      <td>-0.070817</td>\n",
       "      <td>-0.58428</td>\n",
       "      <td>2006-12-31</td>\n",
       "      <td>2020-09-30</td>\n",
       "      <td>NaT</td>\n",
       "    </tr>\n",
       "  </tbody>\n",
       "</table>\n",
       "</div>"
      ],
      "text/plain": [
       "                       Mean  Volatility  Sharpe Ratio  Skewness  \\\n",
       "Fama-French Value  0.015903    0.114862      0.138449  0.207916   \n",
       "\n",
       "                   Excess Kurtosis  VaR (0.5)  CVaR (0.5)  Max Drawdown  \\\n",
       "Fama-French Value         2.558068    -0.0452   -0.070817      -0.58428   \n",
       "\n",
       "                        Peak     Bottom Recovery  \n",
       "Fama-French Value 2006-12-31 2020-09-30      NaT  "
      ]
     },
     "execution_count": 27,
     "metadata": {},
     "output_type": "execute_result"
    }
   ],
   "source": [
    "performance_summary(ff_factors.loc['1994':]).loc[['HML']].rename(index = {'HML':'Fama-French Value'})"
   ]
  },
  {
   "cell_type": "markdown",
   "id": "8fdd6268",
   "metadata": {},
   "source": [
    "### Based on these statistics,\n",
    "\n",
    "### 3.1.a) Is the long-only version of Value substantially different?\n",
    "\n",
    "The long-only version of Value has higher returns and volatility than the Fama-French HML. We observe very high correlations between this long-only portfolio with the excess returns of the markets, which is one of the major reasons for its high sharpe ratio."
   ]
  },
  {
   "cell_type": "code",
   "execution_count": 28,
   "id": "a6e91fa3",
   "metadata": {},
   "outputs": [
    {
     "data": {
      "text/html": [
       "<div>\n",
       "<style scoped>\n",
       "    .dataframe tbody tr th:only-of-type {\n",
       "        vertical-align: middle;\n",
       "    }\n",
       "\n",
       "    .dataframe tbody tr th {\n",
       "        vertical-align: top;\n",
       "    }\n",
       "\n",
       "    .dataframe thead th {\n",
       "        text-align: right;\n",
       "    }\n",
       "</style>\n",
       "<table border=\"1\" class=\"dataframe\">\n",
       "  <thead>\n",
       "    <tr style=\"text-align: right;\">\n",
       "      <th></th>\n",
       "      <th>Mean</th>\n",
       "      <th>Volatility</th>\n",
       "      <th>Sharpe Ratio</th>\n",
       "      <th>Skewness</th>\n",
       "      <th>Corr Mkt</th>\n",
       "      <th>Corr Mom</th>\n",
       "    </tr>\n",
       "  </thead>\n",
       "  <tbody>\n",
       "    <tr>\n",
       "      <th>Long and Short</th>\n",
       "      <td>0.01591</td>\n",
       "      <td>0.114864</td>\n",
       "      <td>0.138509</td>\n",
       "      <td>0.207751</td>\n",
       "      <td>-0.102250</td>\n",
       "      <td>-0.238579</td>\n",
       "    </tr>\n",
       "    <tr>\n",
       "      <th>Long Only</th>\n",
       "      <td>0.09834</td>\n",
       "      <td>0.190476</td>\n",
       "      <td>0.516288</td>\n",
       "      <td>-0.874366</td>\n",
       "      <td>0.867919</td>\n",
       "      <td>-0.388768</td>\n",
       "    </tr>\n",
       "  </tbody>\n",
       "</table>\n",
       "</div>"
      ],
      "text/plain": [
       "                   Mean  Volatility  Sharpe Ratio  Skewness  Corr Mkt  \\\n",
       "Long and Short  0.01591    0.114864      0.138509  0.207751 -0.102250   \n",
       "Long Only       0.09834    0.190476      0.516288 -0.874366  0.867919   \n",
       "\n",
       "                Corr Mom  \n",
       "Long and Short -0.238579  \n",
       "Long Only      -0.388768  "
      ]
     },
     "execution_count": 28,
     "metadata": {},
     "output_type": "execute_result"
    }
   ],
   "source": [
    "pdList = [value_rtn_long_short_summary,value_rtn_long_summary]\n",
    "value_comparison = pd.concat(pdList)\n",
    "value_comparison"
   ]
  },
  {
   "cell_type": "markdown",
   "id": "5f4756ce",
   "metadata": {},
   "source": [
    "### 3.1.b) Is the 1 or 5 decile version of Value substantially different?\n",
    "\n",
    "- The 1 decile version has slightly lower returns and much higher volatility than the fama-french HML. It also has higher correlations to market compared to the negative correlations of the FF-Value portfolios.<br><br>\n",
    "\n",
    "- The 5 decile version has much lower returns and slightly higher volatility than the fama-french HML. It also has higher correlations to market compared to the negative correlations of the FF-Value portfolios."
   ]
  },
  {
   "cell_type": "code",
   "execution_count": 29,
   "id": "88359c49",
   "metadata": {},
   "outputs": [
    {
     "data": {
      "text/html": [
       "<div>\n",
       "<style scoped>\n",
       "    .dataframe tbody tr th:only-of-type {\n",
       "        vertical-align: middle;\n",
       "    }\n",
       "\n",
       "    .dataframe tbody tr th {\n",
       "        vertical-align: top;\n",
       "    }\n",
       "\n",
       "    .dataframe thead th {\n",
       "        text-align: right;\n",
       "    }\n",
       "</style>\n",
       "<table border=\"1\" class=\"dataframe\">\n",
       "  <thead>\n",
       "    <tr style=\"text-align: right;\">\n",
       "      <th></th>\n",
       "      <th>Mean</th>\n",
       "      <th>Volatility</th>\n",
       "      <th>Sharpe Ratio</th>\n",
       "      <th>Skewness</th>\n",
       "      <th>Corr Mkt</th>\n",
       "      <th>Corr Mom</th>\n",
       "    </tr>\n",
       "  </thead>\n",
       "  <tbody>\n",
       "    <tr>\n",
       "      <th>Value Top 1 Decile</th>\n",
       "      <td>0.011850</td>\n",
       "      <td>0.176888</td>\n",
       "      <td>0.066994</td>\n",
       "      <td>-0.152904</td>\n",
       "      <td>0.178362</td>\n",
       "      <td>-0.319908</td>\n",
       "    </tr>\n",
       "    <tr>\n",
       "      <th>Value Top 3 Decile</th>\n",
       "      <td>0.005763</td>\n",
       "      <td>0.116075</td>\n",
       "      <td>0.049653</td>\n",
       "      <td>-0.289519</td>\n",
       "      <td>0.174831</td>\n",
       "      <td>-0.322464</td>\n",
       "    </tr>\n",
       "    <tr>\n",
       "      <th>Value Top 5 Decile</th>\n",
       "      <td>0.000176</td>\n",
       "      <td>0.082218</td>\n",
       "      <td>0.002141</td>\n",
       "      <td>-0.039878</td>\n",
       "      <td>0.158168</td>\n",
       "      <td>-0.301238</td>\n",
       "    </tr>\n",
       "  </tbody>\n",
       "</table>\n",
       "</div>"
      ],
      "text/plain": [
       "                        Mean  Volatility  Sharpe Ratio  Skewness  Corr Mkt  \\\n",
       "Value Top 1 Decile  0.011850    0.176888      0.066994 -0.152904  0.178362   \n",
       "Value Top 3 Decile  0.005763    0.116075      0.049653 -0.289519  0.174831   \n",
       "Value Top 5 Decile  0.000176    0.082218      0.002141 -0.039878  0.158168   \n",
       "\n",
       "                    Corr Mom  \n",
       "Value Top 1 Decile -0.319908  \n",
       "Value Top 3 Decile -0.322464  \n",
       "Value Top 5 Decile -0.301238  "
      ]
     },
     "execution_count": 29,
     "metadata": {},
     "output_type": "execute_result"
    }
   ],
   "source": [
    "value_deciles_df"
   ]
  },
  {
   "cell_type": "markdown",
   "id": "f493d5bb",
   "metadata": {},
   "source": [
    "### 3.1.c) Does the 3 decile version of Value look like the Fama-French version?\n",
    "\n",
    "The 3 decile version has much lower returns and similar volatility compared to the fama-french HML. It also has higher correlation to the market returns."
   ]
  },
  {
   "cell_type": "markdown",
   "id": "bd0b4ca6",
   "metadata": {},
   "source": [
    "### 3.1.d) Do the Big Value and Small Value factors look similar?"
   ]
  },
  {
   "cell_type": "code",
   "execution_count": 30,
   "id": "67ac79ba",
   "metadata": {},
   "outputs": [
    {
     "data": {
      "text/html": [
       "<div>\n",
       "<style scoped>\n",
       "    .dataframe tbody tr th:only-of-type {\n",
       "        vertical-align: middle;\n",
       "    }\n",
       "\n",
       "    .dataframe tbody tr th {\n",
       "        vertical-align: top;\n",
       "    }\n",
       "\n",
       "    .dataframe thead th {\n",
       "        text-align: right;\n",
       "    }\n",
       "</style>\n",
       "<table border=\"1\" class=\"dataframe\">\n",
       "  <thead>\n",
       "    <tr style=\"text-align: right;\">\n",
       "      <th></th>\n",
       "      <th>Mean</th>\n",
       "      <th>Volatility</th>\n",
       "      <th>Sharpe Ratio</th>\n",
       "      <th>Skewness</th>\n",
       "      <th>Corr Mkt</th>\n",
       "      <th>Corr Mom</th>\n",
       "    </tr>\n",
       "  </thead>\n",
       "  <tbody>\n",
       "    <tr>\n",
       "      <th>Long and Short</th>\n",
       "      <td>0.015910</td>\n",
       "      <td>0.114864</td>\n",
       "      <td>0.138509</td>\n",
       "      <td>0.207751</td>\n",
       "      <td>-0.102250</td>\n",
       "      <td>-0.238579</td>\n",
       "    </tr>\n",
       "    <tr>\n",
       "      <th>Small Stocks</th>\n",
       "      <td>0.036722</td>\n",
       "      <td>0.129920</td>\n",
       "      <td>0.282651</td>\n",
       "      <td>0.271015</td>\n",
       "      <td>-0.269082</td>\n",
       "      <td>-0.102366</td>\n",
       "    </tr>\n",
       "    <tr>\n",
       "      <th>Large Stocks</th>\n",
       "      <td>-0.004903</td>\n",
       "      <td>0.126153</td>\n",
       "      <td>-0.038862</td>\n",
       "      <td>0.015334</td>\n",
       "      <td>0.090916</td>\n",
       "      <td>-0.329036</td>\n",
       "    </tr>\n",
       "  </tbody>\n",
       "</table>\n",
       "</div>"
      ],
      "text/plain": [
       "                    Mean  Volatility  Sharpe Ratio  Skewness  Corr Mkt  \\\n",
       "Long and Short  0.015910    0.114864      0.138509  0.207751 -0.102250   \n",
       "Small Stocks    0.036722    0.129920      0.282651  0.271015 -0.269082   \n",
       "Large Stocks   -0.004903    0.126153     -0.038862  0.015334  0.090916   \n",
       "\n",
       "                Corr Mom  \n",
       "Long and Short -0.238579  \n",
       "Small Stocks   -0.102366  \n",
       "Large Stocks   -0.329036  "
      ]
     },
     "execution_count": 30,
     "metadata": {},
     "output_type": "execute_result"
    }
   ],
   "source": [
    "value_size_df"
   ]
  }
 ],
 "metadata": {
  "kernelspec": {
   "display_name": "Python 3",
   "language": "python",
   "name": "python3"
  },
  "language_info": {
   "codemirror_mode": {
    "name": "ipython",
    "version": 3
   },
   "file_extension": ".py",
   "mimetype": "text/x-python",
   "name": "python",
   "nbconvert_exporter": "python",
   "pygments_lexer": "ipython3",
   "version": "3.8.8"
  }
 },
 "nbformat": 4,
 "nbformat_minor": 5
}
