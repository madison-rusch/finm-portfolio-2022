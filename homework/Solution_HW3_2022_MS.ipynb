{
 "cells": [
  {
   "cell_type": "markdown",
   "id": "c3ec8c99",
   "metadata": {},
   "source": [
    "<div style=\"text-align: right\"> Mark Hendricks </div>\n",
    "\n",
    "<left>FINM 36700 - Portfolio Theory and Risk Management</left> \n",
    "<br>\n",
    "<left>Autumn 2022</left>\n",
    "\n",
    "<h1><center> Homework 3 </center></h1>\n",
    "<center>Due on Monday, Oct 17</center>\n",
    "\n",
    "<h4>Solution - Maneet Singh</h4>\n",
    "\n",
    "<h4>Email - maneetsingh@uchicago.edu</h4>"
   ]
  },
  {
   "cell_type": "markdown",
   "id": "2c09e906",
   "metadata": {},
   "source": [
    "- Sections 1 and 3 are to be submitted, and they may be tested in Midterm #1.\n",
    "- Sections 2 and 4 are not graded or submitted, and they will NOT be covered by Midterm #1, but rather we will discuss them in the Week 4 Class session."
   ]
  },
  {
   "cell_type": "markdown",
   "id": "e9542c90",
   "metadata": {},
   "source": [
    "## 1. Modeling Volatility and VaR\n",
    "Use the returns on the S&P 500 $(r_M)$ and 1-month T-bills, $(r_f)$ provided in “barnstable analysis data.xlsx”. For the full sample of SPY returns, 1926-2022, calculate the LEVEL, (not log,) excess market returns (against the treasury returns.) We use this level excess return data throughout this section.\n",
    "\n",
    "\n",
    "#### 1. Historic VaR.\n",
    "Starting at t = 61, calculate the historic-based VaR, based on the expanding sample from period 1 (Jan 1926) to $t − 1$. By historic VaR, we mean simply taking the 5th quantile for the historic sample up to time $t − 1$. Of course, a sample size that is not a multiple of 100 will require some interpolation to get a 5th quantile. Your statistical package should handle this fine.\n",
    "\n",
    "Denote this as $\\tilde{r}^{VaR, 0.05}_{t,historic}$ which is the best estimate of the time-t VaR based on data through $t − 1$.\n",
    "\n",
    "- Plot $\\tilde{r}^{VaR, 0.05}_{t,historic}$ historic over time.\n",
    "\n",
    "\n",
    "- Calculate the frequency of periods in which $\\tilde{r} < \\tilde{r}^{VaR, 0.05}_{t,historic}$\n",
    "\n",
    "\n",
    "- What drawbacks do you see in this historic VaR?\n",
    "\n",
    "\n",
    "\n",
    "\n",
    "#### 2. Volatility\n",
    "We will calculate a time-series of volatility estimates using a few different methods. For each, we use σt to denote our estimate of the time-t return volatility, as based on data over periods 1 (Jan 1926) through $t − 1$, but not including $t$ itself.\n",
    "\n",
    "- <b>Expanding Series$^1$</b>\n",
    "\n",
    "$$\n",
    "\\sigma^2_{t,expanding} = \\frac{1}{t-1}\\sum_{\\tau = 1}^{t-1}\\tilde{r}^2_{\\tau}\n",
    "$$\n",
    "\n",
    "Begin the calculation at t = 61, so that the first estimate is based on 60 data points.\n",
    "\n",
    "\n",
    "- <b>Rolling Window</b>\n",
    "\n",
    "$$\n",
    "\\sigma^2_{t,rolling} = \\frac{1}{m}\\sum_{l = 1}^{m}\\tilde{r}^2_{t-l}\n",
    "$$\n",
    "\n",
    "Use m = 60, and begin the calculation at the t = 61, (so that the calculation has a full 60 data points.)\n",
    "\n",
    "\n",
    "- For each of these methods, plot $\\sigma_t$. (Plot the vol, not the variance.)\n",
    "- For each method, calculate the 5th percentile, 1-month-ahead VaR. We use a slight simplification of the normal VaR formula, by dropping µ from that formula, and rounding the normal distribution z-score to -1.65.\n",
    "$$\\tilde{r}^{VaR, 0.05}_{t,vol} = −1.65 \\sigma_t$$\n",
    "- For each of these vol-based VaR estimates, calculate the frequency of periods in which\n",
    "\n",
    "$$\n",
    "\\tilde{r} < \\tilde{r}^{VaR, 0.05}_{t,vol}\n",
    "$$\n",
    "\n",
    "- Compare and contrast your results among each other and relative to the historic method in the previous problem."
   ]
  },
  {
   "cell_type": "markdown",
   "id": "be546bf0",
   "metadata": {},
   "source": [
    "#### 3. CVaR\n",
    "Re-do the previous two problems, but this time calculating CVaR instead of VaR, (still for q = .05.) That is, calculate CVaR for\n",
    "    \n",
    "- the empirical cdf\n",
    "- the normal model, using expanding volatility estimates\n",
    "- the normal model, using rolling volatility estimates"
   ]
  },
  {
   "cell_type": "markdown",
   "id": "02ad87fa",
   "metadata": {},
   "source": [
    "#### 4. Extra\n",
    "We may discuss this after Midterm 1, but it is not part of the Midterm 1 material.\n",
    "\n",
    "For the VaR calculations of Problem 2.2, and 2.3 try using the following models to estimate volatility:\n",
    "- <b> Exponentially Weighted Moving Average (EWMA) </b>\n",
    "\n",
    "    $$\n",
    "    \\sigma^2_{t, EWMA} = \\theta \\sigma^2_{t-1, EWMA} + (1-\\theta)\\tilde{r}^2_{t-1}\n",
    "    $$\n",
    "\n",
    "    Rather than estimating θ, simply use θ = 0.97, and initialize with σ1 = 0.15.\n",
    "\n",
    "\n",
    "\n",
    "- <b> GARCH(1,1) model </b>\n",
    "    To estimate GARCH(1,1), try using the ARCH package in Python. The default estimation implementation is fine. You should be familiar with EWMA and GARCH from the August Review."
   ]
  },
  {
   "cell_type": "markdown",
   "id": "dbd939e2",
   "metadata": {},
   "source": [
    "## 2. Barnstable’s Analysis\n",
    "\n",
    "<b>The Risk of Stocks in the Long-Run: The Barnstable College Endowment [HBS 9-296073].</b>\n",
    "\n",
    "<b>This section is not graded, and you do not need to submit your answers.</b>\n",
    "    \n",
    "- But you are expected to consider these issues and be ready to discuss them.\n",
    "- This section requires no empirical analysis; answer solely based on the material given in the case."
   ]
  },
  {
   "cell_type": "markdown",
   "id": "8f3d5729",
   "metadata": {},
   "source": [
    "#### 1. Barnstable’s Philosophy\n",
    "\n",
    "(a) What has Barnstable’s investment strategy been in the past?\n",
    "\n",
    "(b) Explain the logic behind their view that stocks are safer in the long run.\n",
    "\n",
    "(c) What assumptions underly Barnstable’s belief in the long-run safety of stocks?\n",
    "\n",
    "#### 2. Two Proposals\n",
    "\n",
    "(a) Describe the two proposals Barnstable is considering for how to take advantage of their view regarding the long-run safety of stocks.\n",
    "\n",
    "(b) How is the trust different from simply shorting the risk-free rate to take a levered position in stocks?\n",
    "\n",
    "(c) Do these proposals take the same bet on long-run stock performance? In what outcomes will they have different returns?\n",
    "\n",
    "(d) Do the two proposals differ in their risk?\n",
    "\n",
    "#### 3. Do you recommend a direct investment in the S&P, the trust or the puts?"
   ]
  },
  {
   "cell_type": "markdown",
   "id": "1e50a553",
   "metadata": {},
   "source": [
    "## 3. Estimating Underperformance\n",
    "\n",
    "Use the returns on the S&P 500 $(r^M)$ and 1-month T-bills, $(r^f)$ provided in “barnstable analysis data.xlsx”.\n",
    "\n",
    "\n",
    "Barnstable’s estimates of mean and volatility are based on the subsample of 1965 to 1999. We consider this subsample, as well as 2000-2022, as well as the full sample of 1926-2022. We only have data through August of 2022, but no adjustment is needed for the fact that you have only the partial year–just use what you have."
   ]
  },
  {
   "cell_type": "markdown",
   "id": "8aabf760",
   "metadata": {},
   "source": [
    "#### 1. Summary Statistics\n",
    "\n",
    "(a) Report the following (annualized) statistics."
   ]
  },
  {
   "cell_type": "markdown",
   "id": "333e0655",
   "metadata": {},
   "source": [
    "|||   ('1965-1999', 'mean') |   ('1965-1999', 'vol') |   ('2000-2022', 'mean') |   ('2000-2022', 'vol') |   ('1926-2022', 'mean') |   ('1926-2022', 'vol') |\n",
    "|:-------------------------|:-------------------------|------------------------:|-----------------------:|------------------------:|-----------------------:|------------------------:|-----------------------:|\n",
    "|('levels')|$r^M$|||||||\n",
    "|('levels')|$r^f$|||||||\n",
    "|('levels')|$\\tilde{r}^M$|||||||\n",
    "|('logs')|$𝚛^M$|||||||\n",
    "|('logs')|$𝚛^f$|||||||\n",
    "|('logs')|$\\tilde{𝚛}^M$|||||||"
   ]
  },
  {
   "cell_type": "markdown",
   "id": "4f4b6974",
   "metadata": {},
   "source": [
    "(b) Comment on how the full-sample return stats compare to the sub-sample stats. Comment on how the level stats compare to the log stats."
   ]
  },
  {
   "cell_type": "markdown",
   "id": "2a563a1d",
   "metadata": {},
   "source": [
    "#### 2. Recall the following...\n",
    "\n",
    "- If $x ∼ \\mathcal{N}(\\mu_x, \\sigma^2_x)$, then\n",
    "    $$\n",
    "    Pr [x < l] = \\Phi_\\mathcal{N} (L)\n",
    "    $$\n",
    "\n",
    "    $$\n",
    "    L = \\frac{c − \\mu_x}{\\sigma_x}\n",
    "    $$\n",
    "\n",
    "\n",
    "  where $\\Phi_{\\mathcal{N}}$ denotes the standard normal cdf.\n",
    "\n",
    "\n",
    "\n",
    "- Remember that cumulative log returns are simply the sum of the single-period log returns,\n",
    "\n",
    "$$\n",
    "𝚛^M_{t,t+h} = \\sum^h_{i=1}𝚛^M_{t+i}\n",
    "$$\n",
    "\n",
    "- It will be convenient to use and denote sample averages. We use the following notation for an h-period average ending at time t + h\n",
    "\n",
    "\n",
    "$$\n",
    "\\bar{𝚛}^M_{t,t+h} = \\frac{1}{h} \\sum^h_{i=1}𝚛^M_{t+i}\n",
    "$$\n",
    "\n",
    "\n",
    "Calculate the probability that the cumulative market return will fall short of the cumulative risk-free return.\n",
    "\n",
    "$$Pr[R^M_{t,t+h} < R^f_{t,t+h}]$$ <div style=\"text-align: right\"> (1)</div> \n",
    "\n",
    "\n",
    "To analyze this analytically, convert the probability statement above to a probability statement\n",
    "about mean log returns.\n",
    "\n",
    "\n",
    "\n",
    "(a) Calculate (1) using the subsample 1965-1999.\n",
    "\n",
    "\n",
    "\n",
    "(b) Report the precise probability for h = 15 and h = 30 years.\n",
    "\n",
    "\n",
    "\n",
    "(c) Plot the probability as a function of the investment horizon, h, for 0 < h ≤ 30 years."
   ]
  },
  {
   "cell_type": "markdown",
   "id": "47366763",
   "metadata": {},
   "source": [
    "#### 3. Use the sample 1965-2022 to reconsider the 30-year probability. As of the end of 2022, calculate the probability of the stock return underperforming the risk-free rate over the next 30 years. That is, $R^M_{t,t+h}$ underperforming $R^f_{t,t+h}$ for 0 < h ≤ 30."
   ]
  },
  {
   "cell_type": "markdown",
   "id": "7fa4e83f",
   "metadata": {},
   "source": [
    "#### 4. Let’s consider how things turned out relative to Barnstable’s 1999 expectations.\n",
    "\n",
    "(a) What was the probability (based on the 1999 estimate of $\\mu$,) that the 23-year market return, $R^M_{t,t+23}$, would be smaller than that realized in 2000-2022? Note that we are asking about the market return, not the excess market return. Continue using the 1965-1999 sample standard deviation for $\\sigma$.\n",
    "\n",
    "(b) Suppose Barnstable had implemented the put-option strategy with the growing strike of 6%? Based on the 2000-2022 performance, what is the probability that the 2000-2029 cumulative market return will be low enough to make the puts in the money? For the calculation, update your estimates of $\\mu$, $\\sigma$ to be the estimates based on 1965-2022."
   ]
  },
  {
   "cell_type": "markdown",
   "id": "0dedef2c",
   "metadata": {},
   "source": [
    "## 4. Extensions\n",
    "\n",
    "<b> This section is not graded, and you do not need to submit your answers. We may discuss some of these extensions. </b>"
   ]
  },
  {
   "cell_type": "markdown",
   "id": "5b121fa5",
   "metadata": {},
   "source": [
    "#### 1. Let’s consider how Barnstable would have done if they had positioned the problem in excess returns rather than beating a fixed benchmark based on historic risk-free rates.\n",
    "\n",
    "(a) Based on the end-of-1999 parameters, $\\tilde{\\mu}$ and $\\tilde{\\sigma}$, what was the probability that the log market excess return, $\\tilde{𝚛}^M$ would have a smaller 22-year average than what happened in 2000-2022, based on $\\tilde{\\mu}$ estimated from the 1965-1999 average??\n",
    "\n",
    "$$\n",
    "p(h) = Pr[\\bar{\\tilde{𝚛}}^M_{t,t+21} < \\bar{\\tilde{𝚛}}^M_{2000,2022}]\n",
    "$$\n",
    "\n",
    "\n",
    "(b) Suppose they struck the puts to the realized risk-free rate instead of a fixed 6%. Calculate the probability that the puts will be in the money, given what has already occurred in 2000-2022. As above, calculate this using full-sample parameter estimates of 1965-2022.\n",
    "\n",
    "(c) Explain the risk Barnstable took on the future movements in the risk-free rate."
   ]
  },
  {
   "cell_type": "markdown",
   "id": "581053c1",
   "metadata": {},
   "source": [
    "#### 2. The probability of shortfall calculations for Barnstable presume that we can simply use sample estimates for the probability calculations that involve population parameters for the means and variances of log returns. Let’s consider how this estimation uncertainty leads to uncertainty in the probability of shortfall calculation.\n",
    "\n",
    "\n",
    "(a) Assuming log returns are normally distributed, (or just using the CLT,) calculate the 5th and 95th percentiles for our confidence interval of the mean of excess log returns: $\\tilde{\\mu} = \\mu − \\mu_f$\n",
    "\n",
    "\n",
    "(b) Denote these $\\tilde{\\mu}_{.05}$, $\\tilde{\\mu}_{.95}$, and recalculate the probability of shortfall from (1). Plot the confidence bounds as a function of the investment horizon, $0 < h ≤ 30$.\n",
    "\n",
    "\n",
    "(c) Has $\\tilde{\\mu}$ from 2000-2022 been outside the 5th and 95th percentile estimates derived from the data in 1965-1999?\n",
    "\n",
    "\n",
    "(d) Does uncertainty around $\\tilde{\\mu}$ materially impact the estimates? Does it change your recommendation to Barnstable regarding the trust versus the puts?"
   ]
  },
  {
   "cell_type": "markdown",
   "id": "798d4237",
   "metadata": {},
   "source": [
    "#### 3. Does the analysis change much if we use the pre-1965 data in our estimates of the market return and risk-free rate?"
   ]
  },
  {
   "cell_type": "markdown",
   "id": "06d4d8cd",
   "metadata": {},
   "source": [
    "#### 4. The case assumes stock returns are iid. and lognormally distributed.\n",
    "\n",
    "$$\n",
    "𝚛^M_t \\sim \\mathcal{N}(\\mu, \\sigma^2), \\forall t\n",
    "$$\n",
    "\n",
    "$$\n",
    "r^M_t = exp (𝚛^M_t) − 1\n",
    "$$\n",
    "\n",
    "\n",
    "The following table lists return stats given by the case, Notice that Barnstable’s mean estimate is for the level return, $r^M_t$, while Barnstable’s volatility estimate corresponds to the log-return, $r^M_t$. Here and elsewhere it is at times useful to translate mean and volatility from level to logs—at least for the lognormal case."
   ]
  },
  {
   "cell_type": "markdown",
   "id": "090c9e22",
   "metadata": {},
   "source": [
    "<div style=\"width:100px\"></div>         | mean         | variance\n",
    "------------- | ------------ | -------------\n",
    "<b>level</b> return of stocks | <div style=\"width:290px\"> $\\mathbb{E}[r^M_t] = 0.13$ </div> | <div style=\"width:290px\"> $var[r^M_t] = ?$\n",
    "<b>log</b> return of stocks   | $\\mathbb{E}[𝚛^M_t] = ?$ | $var[𝚛^M_t] = (0.16)^2$\n",
    "<b>log</b> riskless benchmark | $\\mathbb{E}[𝚛^f] = 0.06$ | "
   ]
  },
  {
   "cell_type": "markdown",
   "id": "b60b159b",
   "metadata": {},
   "source": [
    "Use the following formulas to translate log-return means and variances to level-return means and varianaces.\n",
    "\n",
    "$$\n",
    "\\mathbb{E}[r^M_t] = e^{\\mu + \\frac{1}{2}\\sigma^2}-1\n",
    "$$\n",
    "\n",
    "\n",
    "$$\n",
    "var[r^M_t] = e^{2\\mu + \\sigma^2}(e^{\\sigma^2} - 1)\n",
    "$$"
   ]
  },
  {
   "cell_type": "markdown",
   "id": "673b7572",
   "metadata": {},
   "source": [
    " "
   ]
  },
  {
   "cell_type": "markdown",
   "id": "4d758bcf",
   "metadata": {},
   "source": [
    " "
   ]
  },
  {
   "cell_type": "markdown",
   "id": "37fb5983",
   "metadata": {},
   "source": [
    " "
   ]
  },
  {
   "cell_type": "markdown",
   "id": "be25173a",
   "metadata": {},
   "source": [
    " "
   ]
  },
  {
   "cell_type": "markdown",
   "id": "e1b87376",
   "metadata": {},
   "source": [
    " "
   ]
  },
  {
   "cell_type": "markdown",
   "id": "9a7683d6",
   "metadata": {},
   "source": [
    " "
   ]
  },
  {
   "cell_type": "markdown",
   "id": "b9daf16e",
   "metadata": {},
   "source": [
    "<h1><span style=\"color:#00008B\">Solutions</span></h1>"
   ]
  },
  {
   "cell_type": "code",
   "execution_count": 1,
   "id": "69e41065",
   "metadata": {},
   "outputs": [
    {
     "data": {
      "text/html": [
       "<div>\n",
       "<style scoped>\n",
       "    .dataframe tbody tr th:only-of-type {\n",
       "        vertical-align: middle;\n",
       "    }\n",
       "\n",
       "    .dataframe tbody tr th {\n",
       "        vertical-align: top;\n",
       "    }\n",
       "\n",
       "    .dataframe thead th {\n",
       "        text-align: right;\n",
       "    }\n",
       "</style>\n",
       "<table border=\"1\" class=\"dataframe\">\n",
       "  <thead>\n",
       "    <tr style=\"text-align: right;\">\n",
       "      <th></th>\n",
       "      <th>SPX</th>\n",
       "      <th>TB1M</th>\n",
       "      <th>Excess SPY Returns</th>\n",
       "    </tr>\n",
       "    <tr>\n",
       "      <th>date</th>\n",
       "      <th></th>\n",
       "      <th></th>\n",
       "      <th></th>\n",
       "    </tr>\n",
       "  </thead>\n",
       "  <tbody>\n",
       "    <tr>\n",
       "      <th>1926-01-30</th>\n",
       "      <td>-0.001783</td>\n",
       "      <td>0.003061</td>\n",
       "      <td>-0.004844</td>\n",
       "    </tr>\n",
       "    <tr>\n",
       "      <th>1926-02-27</th>\n",
       "      <td>-0.033296</td>\n",
       "      <td>0.002612</td>\n",
       "      <td>-0.035908</td>\n",
       "    </tr>\n",
       "    <tr>\n",
       "      <th>1926-03-31</th>\n",
       "      <td>-0.057708</td>\n",
       "      <td>0.002601</td>\n",
       "      <td>-0.060309</td>\n",
       "    </tr>\n",
       "    <tr>\n",
       "      <th>1926-04-30</th>\n",
       "      <td>0.038522</td>\n",
       "      <td>0.002270</td>\n",
       "      <td>0.036252</td>\n",
       "    </tr>\n",
       "    <tr>\n",
       "      <th>1926-05-28</th>\n",
       "      <td>0.013623</td>\n",
       "      <td>0.002691</td>\n",
       "      <td>0.010932</td>\n",
       "    </tr>\n",
       "  </tbody>\n",
       "</table>\n",
       "</div>"
      ],
      "text/plain": [
       "                 SPX      TB1M  Excess SPY Returns\n",
       "date                                              \n",
       "1926-01-30 -0.001783  0.003061           -0.004844\n",
       "1926-02-27 -0.033296  0.002612           -0.035908\n",
       "1926-03-31 -0.057708  0.002601           -0.060309\n",
       "1926-04-30  0.038522  0.002270            0.036252\n",
       "1926-05-28  0.013623  0.002691            0.010932"
      ]
     },
     "execution_count": 1,
     "metadata": {},
     "output_type": "execute_result"
    }
   ],
   "source": [
    "import os\n",
    "import pandas as pd\n",
    "from scipy.stats import norm\n",
    "import numpy as np\n",
    "import matplotlib.pyplot as plt\n",
    "from arch import arch_model\n",
    "from arch.univariate import GARCH, EWMAVariance\n",
    "import warnings\n",
    "warnings.filterwarnings('ignore')\n",
    "import_path = os.getcwd() + '/finm-portfolio-2022/'\n",
    "\n",
    "\n",
    "rets = pd.read_excel(import_path + '/data/barnstable_analysis_data.xlsx', sheet_name=1)\n",
    "rets.set_index('date', inplace=True)\n",
    "rets.fillna(method='ffill', inplace=True)\n",
    "rets['Excess SPY Returns'] = rets['SPX'] - rets['TB1M'] \n",
    "rets.head()"
   ]
  },
  {
   "cell_type": "markdown",
   "id": "a8c41df0",
   "metadata": {},
   "source": [
    "### 1.1"
   ]
  },
  {
   "cell_type": "code",
   "execution_count": 2,
   "id": "8f912cbb",
   "metadata": {},
   "outputs": [
    {
     "data": {
      "image/png": "[encoded data removed]",
      "text/plain": [
       "<Figure size 432x288 with 1 Axes>"
      ]
     },
     "metadata": {
      "needs_background": "light"
     },
     "output_type": "display_data"
    },
    {
     "name": "stdout",
     "output_type": "stream",
     "text": [
      "5% VaR backtest: 3.09%\n"
     ]
    }
   ],
   "source": [
    "historic_VaR = rets['Excess SPY Returns'].shift().expanding(min_periods = 60).quantile(.05)\n",
    "historic_VaR.plot()\n",
    "\n",
    "\n",
    "plt.title('Historic VaR')\n",
    "plt.ylabel('VaR')\n",
    "plt.xlabel('Date')\n",
    "plt.show()\n",
    "\n",
    "exceed = sum(rets['Excess SPY Returns'] < historic_VaR)/len(historic_VaR.dropna())\n",
    "print('5% VaR backtest: {:,.2%}'.format(exceed))"
   ]
  },
  {
   "cell_type": "markdown",
   "id": "2cebf21f",
   "metadata": {},
   "source": [
    "<b> Drawbacks of Historic VaR </b>\n",
    "\n",
    "1. Backward Looking: Looks at only the historical data while estimating the losses in the future. Availability of sufficient and relevant data becomes a challenge. \n",
    "\n",
    "\n",
    "2. Ghosting Effect: Equal Weights on past observations that may never be relevant again. For example, low returns during 2008 (which may not be relevant anymore) are given the same weight as the most recent observations\n",
    "\n",
    "\n",
    "3. Slow to React: Less Weight on most recent observations. A recent significant loss still does not impact historical VaR because it has the same weight as the other observations"
   ]
  },
  {
   "cell_type": "markdown",
   "id": "a9271693",
   "metadata": {},
   "source": [
    "### 1.2"
   ]
  },
  {
   "cell_type": "code",
   "execution_count": 3,
   "id": "ea3661f0",
   "metadata": {},
   "outputs": [
    {
     "data": {
      "image/png": "[encoded data removed]",
      "text/plain": [
       "<Figure size 432x288 with 1 Axes>"
      ]
     },
     "metadata": {
      "needs_background": "light"
     },
     "output_type": "display_data"
    }
   ],
   "source": [
    "stdev = np.sqrt((rets['Excess SPY Returns']**2).shift(1).expanding(60).mean().to_frame('Expanding Window'))\n",
    "stdev['Rolling Window'] = np.sqrt((rets['Excess SPY Returns']**2).shift(1).rolling(60).mean())\n",
    "stdev.plot()\n",
    "plt.title('Estimating Volatility')\n",
    "plt.ylabel('Volatility Estimates')\n",
    "plt.xlabel('Date')\n",
    "plt.show()"
   ]
  },
  {
   "cell_type": "code",
   "execution_count": 4,
   "id": "dbf4235f",
   "metadata": {},
   "outputs": [
    {
     "data": {
      "image/png": "[encoded data removed]",
      "text/plain": [
       "<Figure size 432x288 with 1 Axes>"
      ]
     },
     "metadata": {
      "needs_background": "light"
     },
     "output_type": "display_data"
    }
   ],
   "source": [
    "VaR = -1.65*stdev\n",
    "VaR['Historic'] = historic_VaR\n",
    "\n",
    "VaR.plot()\n",
    "plt.title('Comparing VaR Estimates')\n",
    "plt.ylabel('5% VaR')\n",
    "plt.xlabel('Date')\n",
    "plt.show()"
   ]
  },
  {
   "cell_type": "code",
   "execution_count": 5,
   "id": "d94f3131",
   "metadata": {},
   "outputs": [
    {
     "data": {
      "text/html": [
       "<style  type=\"text/css\" >\n",
       "</style><table id=\"T_905e0_\" ><thead>    <tr>        <th class=\"blank level0\" ></th>        <th class=\"col_heading level0 col0\" >Expanding Window</th>        <th class=\"col_heading level0 col1\" >Rolling Window</th>        <th class=\"col_heading level0 col2\" >Historic</th>    </tr></thead><tbody>\n",
       "                <tr>\n",
       "                        <th id=\"T_905e0_level0_row0\" class=\"row_heading level0 row0\" >Frequency</th>\n",
       "                        <td id=\"T_905e0_row0_col0\" class=\"data row0 col0\" >1.73%</td>\n",
       "                        <td id=\"T_905e0_row0_col1\" class=\"data row0 col1\" >4.91%</td>\n",
       "                        <td id=\"T_905e0_row0_col2\" class=\"data row0 col2\" >3.09%</td>\n",
       "            </tr>\n",
       "    </tbody></table>"
      ],
      "text/plain": [
       "<pandas.io.formats.style.Styler at 0x7f7e81c6a6d0>"
      ]
     },
     "metadata": {},
     "output_type": "display_data"
    }
   ],
   "source": [
    "freq_df = pd.DataFrame(index = ['Frequency'], columns = VaR.columns)\n",
    "\n",
    "for col in freq_df:\n",
    "    freq_df[col] = len(VaR[rets.loc[VaR.index, 'Excess SPY Returns'] < VaR[col]]) / len(VaR[col].dropna().index)\n",
    "    \n",
    "display(freq_df.style.format('{:,.2%}'))"
   ]
  },
  {
   "cell_type": "markdown",
   "id": "8dcec88d",
   "metadata": {},
   "source": [
    "Clearly, rolling window is a much better estimate because it place more weight on the most recent observations, and hence is quicker to react to high volatilities than other methods."
   ]
  },
  {
   "cell_type": "markdown",
   "id": "1a0e3212",
   "metadata": {},
   "source": [
    "### 1.3"
   ]
  },
  {
   "cell_type": "code",
   "execution_count": 6,
   "id": "032eb2fe",
   "metadata": {},
   "outputs": [
    {
     "data": {
      "image/png": "[encoded data removed]",
      "text/plain": [
       "<Figure size 432x288 with 1 Axes>"
      ]
     },
     "metadata": {
      "needs_background": "light"
     },
     "output_type": "display_data"
    }
   ],
   "source": [
    "historic_CVaR = []\n",
    "\n",
    "for i in range(len(rets)):\n",
    "    if i < 61:\n",
    "        historic_CVaR.append(np.nan)\n",
    "    else:\n",
    "        window = rets[['Excess SPY Returns']][:i-1]\n",
    "        CVaR = window[window < window.quantile(0.05)]['Excess SPY Returns'].mean()\n",
    "        historic_CVaR.append(CVaR)\n",
    "\n",
    "scaling_for_vol = norm.pdf(1.65)/0.05 #trucated normal\n",
    "\n",
    "CVaR = -scaling_for_vol * stdev\n",
    "\n",
    "CVaR['Historic'] = historic_CVaR\n",
    "\n",
    "CVaR.plot()\n",
    "plt.title('Comparing CVaR Estimates')\n",
    "plt.ylabel('5% CVaR')\n",
    "plt.xlabel('Date')\n",
    "plt.show()"
   ]
  },
  {
   "cell_type": "markdown",
   "id": "6ce2ce06",
   "metadata": {},
   "source": [
    "### 1.4"
   ]
  },
  {
   "cell_type": "code",
   "execution_count": 7,
   "id": "182fea47",
   "metadata": {},
   "outputs": [
    {
     "name": "stdout",
     "output_type": "stream",
     "text": [
      "Iteration:      1,   Func. Count:      6,   Neg. LLF: 33656530.82918315\n",
      "Iteration:      2,   Func. Count:     17,   Neg. LLF: 3891762719536.27\n",
      "Iteration:      3,   Func. Count:     27,   Neg. LLF: 27371668.21264346\n",
      "Iteration:      4,   Func. Count:     39,   Neg. LLF: 38313990015.81327\n",
      "Iteration:      5,   Func. Count:     47,   Neg. LLF: 4488.611986492331\n",
      "Iteration:      6,   Func. Count:     56,   Neg. LLF: -1693.2649397522705\n",
      "Iteration:      7,   Func. Count:     64,   Neg. LLF: 156943565852021.97\n",
      "Iteration:      8,   Func. Count:     74,   Neg. LLF: -1932.0501363421276\n",
      "Optimization terminated successfully    (Exit mode 0)\n",
      "            Current function value: -1932.0501398145875\n",
      "            Iterations: 12\n",
      "            Function evaluations: 74\n",
      "            Gradient evaluations: 8\n"
     ]
    },
    {
     "data": {
      "text/plain": [
       "mu          0.007873\n",
       "omega       0.000065\n",
       "alpha[1]    0.103382\n",
       "beta[1]     0.875061\n",
       "Name: params, dtype: float64"
      ]
     },
     "execution_count": 7,
     "metadata": {},
     "output_type": "execute_result"
    }
   ],
   "source": [
    "GARCH = arch_model(rets['Excess SPY Returns'], vol='Garch', p=1, o=0, q=1, dist='Normal')\n",
    "GARCH_model = GARCH.fit()\n",
    "GARCH_model.params"
   ]
  },
  {
   "cell_type": "code",
   "execution_count": 8,
   "id": "68265501",
   "metadata": {},
   "outputs": [
    {
     "data": {
      "image/png": "[encoded data removed]",
      "text/plain": [
       "<Figure size 432x288 with 1 Axes>"
      ]
     },
     "metadata": {
      "needs_background": "light"
     },
     "output_type": "display_data"
    },
    {
     "data": {
      "text/html": [
       "<style  type=\"text/css\" >\n",
       "</style><table id=\"T_c41cf_\" ><thead>    <tr>        <th class=\"blank level0\" ></th>        <th class=\"col_heading level0 col0\" >Expanding Window</th>        <th class=\"col_heading level0 col1\" >Rolling Window</th>        <th class=\"col_heading level0 col2\" >GARCH</th>        <th class=\"col_heading level0 col3\" >EWMA</th>        <th class=\"col_heading level0 col4\" >Historic</th>    </tr></thead><tbody>\n",
       "                <tr>\n",
       "                        <th id=\"T_c41cf_level0_row0\" class=\"row_heading level0 row0\" >Frequency</th>\n",
       "                        <td id=\"T_c41cf_row0_col0\" class=\"data row0 col0\" >1.73%</td>\n",
       "                        <td id=\"T_c41cf_row0_col1\" class=\"data row0 col1\" >4.91%</td>\n",
       "                        <td id=\"T_c41cf_row0_col2\" class=\"data row0 col2\" >4.45%</td>\n",
       "                        <td id=\"T_c41cf_row0_col3\" class=\"data row0 col3\" >4.27%</td>\n",
       "                        <td id=\"T_c41cf_row0_col4\" class=\"data row0 col4\" >3.09%</td>\n",
       "            </tr>\n",
       "    </tbody></table>"
      ],
      "text/plain": [
       "<pandas.io.formats.style.Styler at 0x7f7e854faf70>"
      ]
     },
     "metadata": {},
     "output_type": "display_data"
    }
   ],
   "source": [
    "stdev[['GARCH','EWMA']] = None\n",
    "\n",
    "### Initialize with the given parameter\n",
    "stdev.iloc[0,2:] = 0.15\n",
    "theta = 0.97\n",
    "\n",
    "### Simulate the rest of the period using the initial variance given\n",
    "for i in range(1, len(stdev)):\n",
    "    ### Forecast variance by plugging the GARCH and IGARCH parameters into their respective equations\n",
    "    stdev['EWMA'].iloc[i] = np.sqrt((stdev['EWMA'].iloc[i-1]**2) * theta + (1-theta)*(rets[['Excess SPY Returns']].iloc[i-1,0]**2))\n",
    "    stdev['GARCH'].iloc[i] = np.sqrt(GARCH_model.params['omega'] + (stdev['GARCH'].iloc[i-1]**2) * GARCH_model.params['beta[1]'] + GARCH_model.params['alpha[1]']*(rets[['Excess SPY Returns']].iloc[i-1,0]**2))\n",
    "    \n",
    "stdev.dropna(inplace=True)\n",
    "\n",
    "VaR = -1.65*stdev\n",
    "VaR['Historic'] = historic_VaR\n",
    "\n",
    "VaR.plot()\n",
    "plt.title('Comparing VaR Estimates')\n",
    "plt.ylabel('5% VaR')\n",
    "plt.xlabel('Date')\n",
    "plt.show()\n",
    "\n",
    "freq_df = pd.DataFrame(index = ['Frequency'], columns = VaR.columns)\n",
    "\n",
    "for col in freq_df:\n",
    "    freq_df[col] = len(VaR[rets.loc[VaR.index, 'Excess SPY Returns'] < VaR[col]]) / len(VaR[col].dropna().index)\n",
    "    \n",
    "display(freq_df.style.format('{:,.2%}'))"
   ]
  },
  {
   "cell_type": "markdown",
   "id": "86d9d7f8",
   "metadata": {},
   "source": [
    "### 2.1\n",
    "\n",
    "(a) What has Barnstable’s investment strategy been in the past?\n",
    "\n",
    "Barnstable has foregone diversification to a large extent and has instead focused on equities, primarily U.S. equities.\n",
    "\n",
    "(b) Explain the logic behind their view that stocks are safer in the long run.\n",
    "\n",
    "The logic stems from the idea that if log returns are i.i.d., then the annualized average (log) return will converge to the population mean. Thus, if the population mean of equities is higher than other asset classes, the h-period return is almost certainly larger for equities as gets large. Given that Barnstable is a long-term investor without special need for liquidity, they are willing to maximize the total h-period return even if the one-year returns are riskier.\n",
    "\n",
    "(c) What assumptions underly Barnstable’s belief in the long-run safety of stocks?\n",
    "\n",
    "The model for convergence in the long-run was based on i.i.d.log returns. So to the extent that means and volatilities change over time, the model would need to be adjusted to capture these conditional statistics."
   ]
  },
  {
   "cell_type": "markdown",
   "id": "c9cbba9a",
   "metadata": {},
   "source": [
    "### 2.2\n",
    "\n",
    "(a) Describe the two proposals Barnstable is considering for how to take advantage of their view regarding the long-run safety of stocks.\n",
    "\n",
    "For the trust, Barnstable has exposure to all the upside of the equity market, but is actually insuring against the downside risk as they simply return the asset if it underperforms the 6% strike growth rate. This is a little strange given that Barnstable is confident that the stock will not under-perform. Contrast this with Barnstable's proposed strategy of selling puts. The payoff at maturity of the put is\n",
    "\n",
    "$$\n",
    "\\Gamma^{selling puts}_{30} = -max(e^{0.06 * 30} - r^M_{t, t+30}, 0) \n",
    "$$\n",
    "\n",
    "Selling puts increases Barnstable's downside risk in exchange for collecting the put price. Barnstable believes this downside risk is very unlikely.\n",
    "\n",
    "(b) How is the trust different from simply shorting the risk-free rate to take a levered position in stocks?\n",
    "\n",
    "The trust allows Barnstable to increase their position in the equity market exactly as would be accomplished by borrowing at the risk-free rate and investing it in stocks. But the trust locks the lenders (preferred shares) into a 30-year commitment. This removes Barnstable's liquidity risk, ensuring that they can hold the investment for the long-run.\n",
    "\n",
    "(c) Do these proposals take the same bet on long-run stock performance? In what outcomes will they have different returns?\n",
    "\n",
    "Common shares are identical to buying call options on the stock, with a strike price growing at the  benchmark. The payoff at maturity of the common share is\n",
    "\n",
    "$$\n",
    "\\Gamma^{selling puts}_{30} = -max(r^M_{t, t+30} - e^{0.06 * 30}, 0) \n",
    "$$\n",
    "\n",
    "The preferred shareholders have an exposure identical to being long the cumulative riskless rate of 6% and selling puts on the stock, $r^M_{t, t+30}$. So the payoff is\n",
    "\n",
    "$$\n",
    "\\Gamma^{selling puts}_{30} = e^{0.06 * 30} - max(e^{0.06 * 30} - r^M_{t, t+30}, 0) \n",
    "$$\n",
    "\n",
    "One can verify that the payoff of the preferred and common shares indeed sums to the payoff of $r^M_{t, t+30}$.\n",
    "\n",
    "\n",
    "(d) Do the two proposals differ in their risk?\n",
    "\n",
    "The risk profiles are enormously different. As described above, the put strategy means Barnstable has a huge liability with respect to stock under-performance. The trust strategy does not have any liability, as that is born by the preferred shareholders. There is a risk to long-run under-performance, and the trust neutralizes Barnstable from this risk while the put strategy loads into it."
   ]
  },
  {
   "cell_type": "markdown",
   "id": "e0290c72",
   "metadata": {},
   "source": [
    "### 2.3\n",
    "\n",
    "The trust, it gets rid of Barnstable's liquidity risk when it comes to holding the position, and doesn't have the extreme tail risk that selling the puts does."
   ]
  },
  {
   "cell_type": "markdown",
   "id": "e4fe3c1f",
   "metadata": {},
   "source": [
    "### 3.1"
   ]
  },
  {
   "cell_type": "code",
   "execution_count": 9,
   "id": "46b2095f",
   "metadata": {},
   "outputs": [
    {
     "data": {
      "text/html": [
       "<style  type=\"text/css\" >\n",
       "</style><table id=\"T_b9c40_\" ><thead>    <tr>        <th class=\"blank\" ></th>        <th class=\"blank level0\" ></th>        <th class=\"col_heading level0 col0\" colspan=\"2\">1965-1999</th>        <th class=\"col_heading level0 col2\" colspan=\"2\">2000-2022</th>        <th class=\"col_heading level0 col4\" colspan=\"2\">1926-2022</th>    </tr>    <tr>        <th class=\"blank\" ></th>        <th class=\"blank level1\" ></th>        <th class=\"col_heading level1 col0\" >mean</th>        <th class=\"col_heading level1 col1\" >vol</th>        <th class=\"col_heading level1 col2\" >mean</th>        <th class=\"col_heading level1 col3\" >vol</th>        <th class=\"col_heading level1 col4\" >mean</th>        <th class=\"col_heading level1 col5\" >vol</th>    </tr></thead><tbody>\n",
       "                <tr>\n",
       "                        <th id=\"T_b9c40_level0_row0\" class=\"row_heading level0 row0\" rowspan=\"3\">levels</th>\n",
       "                        <th id=\"T_b9c40_level1_row0\" class=\"row_heading level1 row0\" >SPX</th>\n",
       "                        <td id=\"T_b9c40_row0_col0\" class=\"data row0 col0\" >12.94%</td>\n",
       "                        <td id=\"T_b9c40_row0_col1\" class=\"data row0 col1\" >14.92%</td>\n",
       "                        <td id=\"T_b9c40_row0_col2\" class=\"data row0 col2\" >7.59%</td>\n",
       "                        <td id=\"T_b9c40_row0_col3\" class=\"data row0 col3\" >15.23%</td>\n",
       "                        <td id=\"T_b9c40_row0_col4\" class=\"data row0 col4\" >11.35%</td>\n",
       "                        <td id=\"T_b9c40_row0_col5\" class=\"data row0 col5\" >18.73%</td>\n",
       "            </tr>\n",
       "            <tr>\n",
       "                                <th id=\"T_b9c40_level1_row1\" class=\"row_heading level1 row1\" >RiskFree</th>\n",
       "                        <td id=\"T_b9c40_row1_col0\" class=\"data row1 col0\" >6.15%</td>\n",
       "                        <td id=\"T_b9c40_row1_col1\" class=\"data row1 col1\" >0.72%</td>\n",
       "                        <td id=\"T_b9c40_row1_col2\" class=\"data row1 col2\" >1.43%</td>\n",
       "                        <td id=\"T_b9c40_row1_col3\" class=\"data row1 col3\" >0.50%</td>\n",
       "                        <td id=\"T_b9c40_row1_col4\" class=\"data row1 col4\" >3.14%</td>\n",
       "                        <td id=\"T_b9c40_row1_col5\" class=\"data row1 col5\" >0.85%</td>\n",
       "            </tr>\n",
       "            <tr>\n",
       "                                <th id=\"T_b9c40_level1_row2\" class=\"row_heading level1 row2\" >Excess SPX</th>\n",
       "                        <td id=\"T_b9c40_row2_col0\" class=\"data row2 col0\" >6.79%</td>\n",
       "                        <td id=\"T_b9c40_row2_col1\" class=\"data row2 col1\" >14.99%</td>\n",
       "                        <td id=\"T_b9c40_row2_col2\" class=\"data row2 col2\" >6.16%</td>\n",
       "                        <td id=\"T_b9c40_row2_col3\" class=\"data row2 col3\" >15.28%</td>\n",
       "                        <td id=\"T_b9c40_row2_col4\" class=\"data row2 col4\" >8.21%</td>\n",
       "                        <td id=\"T_b9c40_row2_col5\" class=\"data row2 col5\" >18.76%</td>\n",
       "            </tr>\n",
       "            <tr>\n",
       "                        <th id=\"T_b9c40_level0_row3\" class=\"row_heading level0 row3\" rowspan=\"3\">logs</th>\n",
       "                        <th id=\"T_b9c40_level1_row3\" class=\"row_heading level1 row3\" >SPX</th>\n",
       "                        <td id=\"T_b9c40_row3_col0\" class=\"data row3 col0\" >11.76%</td>\n",
       "                        <td id=\"T_b9c40_row3_col1\" class=\"data row3 col1\" >14.94%</td>\n",
       "                        <td id=\"T_b9c40_row3_col2\" class=\"data row3 col2\" >6.40%</td>\n",
       "                        <td id=\"T_b9c40_row3_col3\" class=\"data row3 col3\" >15.34%</td>\n",
       "                        <td id=\"T_b9c40_row3_col4\" class=\"data row3 col4\" >9.57%</td>\n",
       "                        <td id=\"T_b9c40_row3_col5\" class=\"data row3 col5\" >18.66%</td>\n",
       "            </tr>\n",
       "            <tr>\n",
       "                                <th id=\"T_b9c40_level1_row4\" class=\"row_heading level1 row4\" >RiskFree</th>\n",
       "                        <td id=\"T_b9c40_row4_col0\" class=\"data row4 col0\" >6.13%</td>\n",
       "                        <td id=\"T_b9c40_row4_col1\" class=\"data row4 col1\" >0.71%</td>\n",
       "                        <td id=\"T_b9c40_row4_col2\" class=\"data row4 col2\" >1.43%</td>\n",
       "                        <td id=\"T_b9c40_row4_col3\" class=\"data row4 col3\" >0.50%</td>\n",
       "                        <td id=\"T_b9c40_row4_col4\" class=\"data row4 col4\" >3.13%</td>\n",
       "                        <td id=\"T_b9c40_row4_col5\" class=\"data row4 col5\" >0.85%</td>\n",
       "            </tr>\n",
       "            <tr>\n",
       "                                <th id=\"T_b9c40_level1_row5\" class=\"row_heading level1 row5\" >Excess SPX</th>\n",
       "                        <td id=\"T_b9c40_row5_col0\" class=\"data row5 col0\" >5.64%</td>\n",
       "                        <td id=\"T_b9c40_row5_col1\" class=\"data row5 col1\" >15.09%</td>\n",
       "                        <td id=\"T_b9c40_row5_col2\" class=\"data row5 col2\" >4.97%</td>\n",
       "                        <td id=\"T_b9c40_row5_col3\" class=\"data row5 col3\" >15.41%</td>\n",
       "                        <td id=\"T_b9c40_row5_col4\" class=\"data row5 col4\" >6.44%</td>\n",
       "                        <td id=\"T_b9c40_row5_col5\" class=\"data row5 col5\" >18.72%</td>\n",
       "            </tr>\n",
       "    </tbody></table>"
      ],
      "text/plain": [
       "<pandas.io.formats.style.Styler at 0x7f7e71023880>"
      ]
     },
     "metadata": {},
     "output_type": "display_data"
    }
   ],
   "source": [
    "stats_table = pd.DataFrame(\n",
    "            index = pd.MultiIndex.from_tuples([('levels', 'SPX'),('levels', 'RiskFree'),('levels', 'Excess SPX'),\n",
    "                                              ('logs', 'SPX'),('logs', 'RiskFree'), ('logs', 'Excess SPX')]),\n",
    "            columns = pd.MultiIndex.from_tuples([('1965-1999','mean'),('1965-1999','vol'),\n",
    "                                                ('2000-2022','mean'),('2000-2022','vol'),\n",
    "                                                ('1926-2022','mean'),('1926-2022','vol')]))\n",
    "\n",
    "stats_table[('1965-1999','mean')] = list(np.mean(rets.loc['1965':'1999']) * 12) + list(np.mean(np.log(1+rets.loc['1965':'1999']))*12)\n",
    "stats_table[('1965-1999','vol')] = list(np.std(rets.loc['1965':'1999']) * np.sqrt(12)) + list(np.std(np.log(1+rets.loc['1965':'1999'])) * np.sqrt(12))\n",
    "stats_table[('2000-2022','mean')] = list(np.mean(rets.loc['2000':'2022']) * 12) + list(np.mean(np.log(1+rets.loc['2000':'2022']))*12)\n",
    "stats_table[('2000-2022','vol')] = list(np.std(rets.loc['2000':'2022']) * np.sqrt(12)) + list(np.std(np.log(1+rets.loc['2000':'2022'])) * np.sqrt(12))\n",
    "stats_table[('1926-2022','mean')] = list(np.mean(rets) * 12) + list(np.mean(np.log(1+rets))*12)\n",
    "stats_table[('1926-2022','vol')] = list(np.std(rets) * np.sqrt(12)) + list(np.std(np.log(1+rets)) * np.sqrt(12))\n",
    "\n",
    "display(stats_table.style.format('{:,.2%}'))"
   ]
  },
  {
   "cell_type": "markdown",
   "id": "fb4116ca",
   "metadata": {},
   "source": [
    "Full sample estimates are significantly different for the excess returns, this is because of the low risk-free rate during that period. The log returns show lower mean returns as expected."
   ]
  },
  {
   "cell_type": "markdown",
   "id": "a2200d3a",
   "metadata": {},
   "source": [
    "### 3.2"
   ]
  },
  {
   "cell_type": "code",
   "execution_count": 10,
   "id": "748af3ff",
   "metadata": {},
   "outputs": [
    {
     "name": "stdout",
     "output_type": "stream",
     "text": [
      "Probability of SPX underperforming RF in the next 15 years after 1999: 7.39%\n",
      "Probability of SPX underperforming RF in the next 30 years after 1999: 2.03%\n"
     ]
    }
   ],
   "source": [
    "def prob(mu, sigma, h):\n",
    "    return norm.cdf(-np.sqrt(h)*mu/sigma)\n",
    "\n",
    "mu = stats_table[('1965-1999', 'mean')][('logs', 'Excess SPX')]\n",
    "sigma = stats_table[('1965-1999', 'vol')][('logs', 'Excess SPX')]\n",
    "\n",
    "print('Probability of SPX underperforming RF in the next 15 years after 1999: {:,.2%}'.\n",
    "      format(prob(mu = mu, sigma = sigma, h = 15)))\n",
    "\n",
    "print('Probability of SPX underperforming RF in the next 30 years after 1999: {:,.2%}'.\n",
    "      format(prob(mu = mu, sigma = sigma, h = 30)))"
   ]
  },
  {
   "cell_type": "code",
   "execution_count": 11,
   "id": "7599cff3",
   "metadata": {},
   "outputs": [
    {
     "data": {
      "image/png": "[encoded data removed]",
      "text/plain": [
       "<Figure size 432x288 with 1 Axes>"
      ]
     },
     "metadata": {
      "needs_background": "light"
     },
     "output_type": "display_data"
    }
   ],
   "source": [
    "h = list(range(1, 31))\n",
    "probs = pd.DataFrame([prob(mu, sigma, x) for x in h], columns=['Probability of Underperformance'], index = h)\n",
    "probs.plot()\n",
    "plt.show()"
   ]
  },
  {
   "cell_type": "markdown",
   "id": "59e8c0e6",
   "metadata": {},
   "source": [
    "### 3.3"
   ]
  },
  {
   "cell_type": "code",
   "execution_count": 12,
   "id": "346fe588",
   "metadata": {},
   "outputs": [
    {
     "data": {
      "image/png": "[encoded data removed]",
      "text/plain": [
       "<Figure size 432x288 with 1 Axes>"
      ]
     },
     "metadata": {
      "needs_background": "light"
     },
     "output_type": "display_data"
    }
   ],
   "source": [
    "mu = np.log(1+rets['Excess SPY Returns'].loc['1965':'2022']).mean() * 12\n",
    "sigma = np.log(1+rets['Excess SPY Returns'].loc['1965':'2022']).std() * np.sqrt(12)\n",
    "h = list(range(1, 31))\n",
    "\n",
    "probs = pd.DataFrame([prob(mu, sigma, x) for x in h], columns=['Probability of Underperformance'], index = h)\n",
    "probs.plot()\n",
    "plt.show()"
   ]
  },
  {
   "cell_type": "markdown",
   "id": "578882a6",
   "metadata": {},
   "source": [
    "### 3.4"
   ]
  },
  {
   "cell_type": "code",
   "execution_count": 13,
   "id": "3d97751e",
   "metadata": {},
   "outputs": [
    {
     "name": "stdout",
     "output_type": "stream",
     "text": [
      "Probability of SPX underperforming in the next 23 years after 1999: 4.27%\n"
     ]
    }
   ],
   "source": [
    "mu = stats_table[('1965-1999', 'mean')][('logs', 'SPX')] - stats_table[('2000-2022', 'mean')][('logs', 'SPX')]\n",
    "sigma = stats_table[('1965-1999', 'vol')][('logs', 'SPX')]\n",
    "\n",
    "print('Probability of SPX underperforming in the next 23 years after 1999: {:,.2%}'.\n",
    "      format(prob(mu = mu, sigma = sigma, h = 23)))"
   ]
  },
  {
   "cell_type": "code",
   "execution_count": 16,
   "id": "3f7de3cd",
   "metadata": {},
   "outputs": [
    {
     "name": "stdout",
     "output_type": "stream",
     "text": [
      "Probability of Puts ending in the money: 63.24%\n"
     ]
    }
   ],
   "source": [
    "strike = np.log(1.06)\n",
    "\n",
    "mean_return = np.log(1+rets['SPX'].loc['1965':]).mean() * 12\n",
    "\n",
    "sigma = np.log(1 + rets['SPX'].loc['1965':]).std() * np.sqrt(12)\n",
    "\n",
    "performance = np.log(1+rets['SPX'].loc['2000':]).mean() * 12\n",
    "\n",
    "mu = ((23/7) * (performance - strike)) - (mean_return - strike)\n",
    "\n",
    "print('Probability of Puts ending in the money: {:,.2%}'.\n",
    "      format(prob(mu, sigma, 7)))"
   ]
  },
  {
   "cell_type": "markdown",
   "id": "d0b67953",
   "metadata": {},
   "source": [
    "### 4.1"
   ]
  },
  {
   "cell_type": "code",
   "execution_count": 36,
   "id": "4b16b208",
   "metadata": {},
   "outputs": [
    {
     "name": "stdout",
     "output_type": "stream",
     "text": [
      "Probability of Underperformance compared to realized returns in 2022: 41.75%\n"
     ]
    }
   ],
   "source": [
    "mu_tilde = stats_table[('1965-1999', 'mean')][('logs', 'Excess SPX')]\n",
    "bar_r_tilde = stats_table[('2000-2022', 'mean')][('logs', 'Excess SPX')]\n",
    "sigma_tilde = stats_table[('1965-1999', 'vol')][('logs', 'Excess SPX')]\n",
    "\n",
    "\n",
    "print('Probability of Underperformance compared to realized returns in 2022: {:,.2%}'.\n",
    "      format(prob(mu_tilde - bar_r_tilde, sigma_tilde, 22)))"
   ]
  },
  {
   "cell_type": "code",
   "execution_count": 37,
   "id": "2022a08f",
   "metadata": {},
   "outputs": [
    {
     "name": "stdout",
     "output_type": "stream",
     "text": [
      "Probability of ending in the money: 0.0003%\n"
     ]
    }
   ],
   "source": [
    "mu = 23/7 * (stats_table[('2000-2022', 'mean')][('logs', 'Excess SPX')]) + mean_return\n",
    "\n",
    "\n",
    "print('Probability of ending in the money: {:,.4%}'.\n",
    "      format(prob(mu, sigma, 7)))"
   ]
  },
  {
   "cell_type": "markdown",
   "id": "e2c6b4ba",
   "metadata": {},
   "source": [
    "### 4.2"
   ]
  },
  {
   "cell_type": "code",
   "execution_count": 31,
   "id": "0bd842df",
   "metadata": {},
   "outputs": [
    {
     "name": "stdout",
     "output_type": "stream",
     "text": [
      "Confidence Intervals\n",
      "5%: -19.18%, 95%: 30.46%\n"
     ]
    }
   ],
   "source": [
    "mu_5 = stats_table[('1965-1999', 'mean')][('logs', 'Excess SPX')] + norm.ppf(0.05) * stats_table[('1965-1999', 'vol')][('logs', 'Excess SPX')]\n",
    "\n",
    "mu_95 = stats_table[('1965-1999', 'mean')][('logs', 'Excess SPX')] + norm.ppf(0.95) * stats_table[('1965-1999', 'vol')][('logs', 'Excess SPX')]\n",
    "\n",
    "print('Confidence Intervals')\n",
    "\n",
    "print('5%: {:,.2%}, 95%: {:,.2%}'.format(mu_5, mu_95))"
   ]
  },
  {
   "cell_type": "code",
   "execution_count": 32,
   "id": "a52b7f81",
   "metadata": {},
   "outputs": [
    {
     "data": {
      "image/png": "[encoded data removed]",
      "text/plain": [
       "<Figure size 432x288 with 1 Axes>"
      ]
     },
     "metadata": {
      "needs_background": "light"
     },
     "output_type": "display_data"
    }
   ],
   "source": [
    "h = list(range(1, 31))\n",
    "means = [prob(mu, sigma, x) for x in h]\n",
    "lower = [prob(mu_5, sigma, x) for x in h]\n",
    "upper = [prob(mu_95, sigma, x) for x in h]\n",
    "\n",
    "probs = pd.DataFrame({'5% Percentile': lower, '95% Percentile': upper}, index = h)\n",
    "probs.plot()\n",
    "plt.show()"
   ]
  },
  {
   "cell_type": "code",
   "execution_count": 41,
   "id": "7cef8462",
   "metadata": {},
   "outputs": [
    {
     "data": {
      "text/html": [
       "<style  type=\"text/css\" >\n",
       "</style><table id=\"T_9c426_\" ><thead>    <tr>        <th class=\"blank\" ></th>        <th class=\"blank level0\" ></th>        <th class=\"col_heading level0 col0\" >2000-2022</th>    </tr>    <tr>        <th class=\"blank\" ></th>        <th class=\"blank level1\" ></th>        <th class=\"col_heading level1 col0\" >mean</th>    </tr></thead><tbody>\n",
       "                <tr>\n",
       "                        <th id=\"T_9c426_level0_row0\" class=\"row_heading level0 row0\" rowspan=\"3\">levels</th>\n",
       "                        <th id=\"T_9c426_level1_row0\" class=\"row_heading level1 row0\" >SPX</th>\n",
       "                        <td id=\"T_9c426_row0_col0\" class=\"data row0 col0\" >7.59%</td>\n",
       "            </tr>\n",
       "            <tr>\n",
       "                                <th id=\"T_9c426_level1_row1\" class=\"row_heading level1 row1\" >RiskFree</th>\n",
       "                        <td id=\"T_9c426_row1_col0\" class=\"data row1 col0\" >1.43%</td>\n",
       "            </tr>\n",
       "            <tr>\n",
       "                                <th id=\"T_9c426_level1_row2\" class=\"row_heading level1 row2\" >Excess SPX</th>\n",
       "                        <td id=\"T_9c426_row2_col0\" class=\"data row2 col0\" >6.16%</td>\n",
       "            </tr>\n",
       "            <tr>\n",
       "                        <th id=\"T_9c426_level0_row3\" class=\"row_heading level0 row3\" rowspan=\"3\">logs</th>\n",
       "                        <th id=\"T_9c426_level1_row3\" class=\"row_heading level1 row3\" >SPX</th>\n",
       "                        <td id=\"T_9c426_row3_col0\" class=\"data row3 col0\" >6.40%</td>\n",
       "            </tr>\n",
       "            <tr>\n",
       "                                <th id=\"T_9c426_level1_row4\" class=\"row_heading level1 row4\" >RiskFree</th>\n",
       "                        <td id=\"T_9c426_row4_col0\" class=\"data row4 col0\" >1.43%</td>\n",
       "            </tr>\n",
       "            <tr>\n",
       "                                <th id=\"T_9c426_level1_row5\" class=\"row_heading level1 row5\" >Excess SPX</th>\n",
       "                        <td id=\"T_9c426_row5_col0\" class=\"data row5 col0\" >4.97%</td>\n",
       "            </tr>\n",
       "    </tbody></table>"
      ],
      "text/plain": [
       "<pandas.io.formats.style.Styler at 0x7f7e42159e20>"
      ]
     },
     "metadata": {},
     "output_type": "display_data"
    }
   ],
   "source": [
    "display(pd.DataFrame(stats_table[('2000-2022', 'mean')]).style.format('{:,.2%}'))"
   ]
  },
  {
   "cell_type": "markdown",
   "id": "25ab2b99",
   "metadata": {},
   "source": [
    "No,  from 2000-2022 has not been outside the confidence interval defined by the 1965-1999 data."
   ]
  },
  {
   "cell_type": "markdown",
   "id": "51f1ab3d",
   "metadata": {},
   "source": [
    "From the data we have looked at, it appears that excess return mean is much more stationary than SPY return mean or risk-free rate mean, and we can create better future estimates of excess return mean. Consequently, it makes sense not to enter a contract where a strike (or rate of return paid out, e.g. in the trust) is based off a historical risk-free rate and is set as a constant. Barnstable should find a proposal where their exposure is the risk-free rate."
   ]
  },
  {
   "cell_type": "markdown",
   "id": "fdca964e",
   "metadata": {},
   "source": [
    "### 4.3"
   ]
  },
  {
   "cell_type": "markdown",
   "id": "ecf14dbd",
   "metadata": {},
   "source": [
    "Yes it should change quite a bit, as volatility for stocks is much higher, and excess return is much higher for the period, due to the mean of  being much lower."
   ]
  },
  {
   "cell_type": "code",
   "execution_count": 42,
   "id": "b57df166",
   "metadata": {},
   "outputs": [
    {
     "data": {
      "text/html": [
       "<div>\n",
       "<style scoped>\n",
       "    .dataframe tbody tr th:only-of-type {\n",
       "        vertical-align: middle;\n",
       "    }\n",
       "\n",
       "    .dataframe tbody tr th {\n",
       "        vertical-align: top;\n",
       "    }\n",
       "\n",
       "    .dataframe thead tr th {\n",
       "        text-align: left;\n",
       "    }\n",
       "</style>\n",
       "<table border=\"1\" class=\"dataframe\">\n",
       "  <thead>\n",
       "    <tr>\n",
       "      <th></th>\n",
       "      <th></th>\n",
       "      <th colspan=\"2\" halign=\"left\">1965-1999</th>\n",
       "      <th colspan=\"2\" halign=\"left\">2000-2022</th>\n",
       "      <th colspan=\"2\" halign=\"left\">1926-2022</th>\n",
       "    </tr>\n",
       "    <tr>\n",
       "      <th></th>\n",
       "      <th></th>\n",
       "      <th>mean</th>\n",
       "      <th>vol</th>\n",
       "      <th>mean</th>\n",
       "      <th>vol</th>\n",
       "      <th>mean</th>\n",
       "      <th>vol</th>\n",
       "    </tr>\n",
       "  </thead>\n",
       "  <tbody>\n",
       "    <tr>\n",
       "      <th rowspan=\"3\" valign=\"top\">levels</th>\n",
       "      <th>SPX</th>\n",
       "      <td>0.1294</td>\n",
       "      <td>0.1492</td>\n",
       "      <td>0.0759</td>\n",
       "      <td>0.1523</td>\n",
       "      <td>0.1135</td>\n",
       "      <td>0.1873</td>\n",
       "    </tr>\n",
       "    <tr>\n",
       "      <th>RiskFree</th>\n",
       "      <td>0.0615</td>\n",
       "      <td>0.0072</td>\n",
       "      <td>0.0143</td>\n",
       "      <td>0.0050</td>\n",
       "      <td>0.0314</td>\n",
       "      <td>0.0085</td>\n",
       "    </tr>\n",
       "    <tr>\n",
       "      <th>Excess SPX</th>\n",
       "      <td>0.0679</td>\n",
       "      <td>0.1499</td>\n",
       "      <td>0.0616</td>\n",
       "      <td>0.1528</td>\n",
       "      <td>0.0821</td>\n",
       "      <td>0.1876</td>\n",
       "    </tr>\n",
       "    <tr>\n",
       "      <th rowspan=\"3\" valign=\"top\">logs</th>\n",
       "      <th>SPX</th>\n",
       "      <td>0.1176</td>\n",
       "      <td>0.1494</td>\n",
       "      <td>0.0640</td>\n",
       "      <td>0.1534</td>\n",
       "      <td>0.0957</td>\n",
       "      <td>0.1866</td>\n",
       "    </tr>\n",
       "    <tr>\n",
       "      <th>RiskFree</th>\n",
       "      <td>0.0613</td>\n",
       "      <td>0.0071</td>\n",
       "      <td>0.0143</td>\n",
       "      <td>0.0050</td>\n",
       "      <td>0.0313</td>\n",
       "      <td>0.0085</td>\n",
       "    </tr>\n",
       "    <tr>\n",
       "      <th>Excess SPX</th>\n",
       "      <td>0.0564</td>\n",
       "      <td>0.1509</td>\n",
       "      <td>0.0497</td>\n",
       "      <td>0.1541</td>\n",
       "      <td>0.0644</td>\n",
       "      <td>0.1872</td>\n",
       "    </tr>\n",
       "  </tbody>\n",
       "</table>\n",
       "</div>"
      ],
      "text/plain": [
       "                  1965-1999         2000-2022         1926-2022        \n",
       "                       mean     vol      mean     vol      mean     vol\n",
       "levels SPX           0.1294  0.1492    0.0759  0.1523    0.1135  0.1873\n",
       "       RiskFree      0.0615  0.0072    0.0143  0.0050    0.0314  0.0085\n",
       "       Excess SPX    0.0679  0.1499    0.0616  0.1528    0.0821  0.1876\n",
       "logs   SPX           0.1176  0.1494    0.0640  0.1534    0.0957  0.1866\n",
       "       RiskFree      0.0613  0.0071    0.0143  0.0050    0.0313  0.0085\n",
       "       Excess SPX    0.0564  0.1509    0.0497  0.1541    0.0644  0.1872"
      ]
     },
     "metadata": {},
     "output_type": "display_data"
    }
   ],
   "source": [
    "display(round(stats_table, 4))"
   ]
  },
  {
   "cell_type": "markdown",
   "id": "b2ade4ba",
   "metadata": {},
   "source": [
    "### 4.4"
   ]
  },
  {
   "cell_type": "code",
   "execution_count": 33,
   "id": "b40f1e9b",
   "metadata": {},
   "outputs": [
    {
     "name": "stdout",
     "output_type": "stream",
     "text": [
      "Mean log return of stocks: 0.1094\n"
     ]
    }
   ],
   "source": [
    "def log_mu(level_mu, log_sigma):\n",
    "    return np.log(level_mu + 1) - 0.5 * (log_sigma**2)\n",
    "\n",
    "print('Mean log return of stocks: ' + str(round(log_mu(.13, .16), 4)))"
   ]
  },
  {
   "cell_type": "markdown",
   "id": "37c1322b",
   "metadata": {},
   "source": [
    "No, this is not the same as the 11.72% given in the case."
   ]
  },
  {
   "cell_type": "code",
   "execution_count": 34,
   "id": "26c9e3aa",
   "metadata": {},
   "outputs": [
    {
     "name": "stdout",
     "output_type": "stream",
     "text": [
      "Variance of level return of stocks: 0.0379\n",
      "Standard deviation of level return of stocks: 0.1946\n"
     ]
    }
   ],
   "source": [
    "def level_var(level_mu, log_sigma):\n",
    "    log_mu_ = log_mu(level_mu, log_sigma)\n",
    "    return np.exp(2*log_mu_ + log_sigma) * (np.exp(log_sigma**2) - 1)\n",
    "\n",
    "print('Variance of level return of stocks: ' + str(round(level_var(.13, .16), 4)))\n",
    "print('Standard deviation of level return of stocks: ' + str(round(np.sqrt(level_var(.13, .16)), 4)))"
   ]
  },
  {
   "cell_type": "markdown",
   "id": "1a1f6634",
   "metadata": {},
   "source": [
    "(c) Mean and volatility are larger for level returns."
   ]
  }
 ],
 "metadata": {
  "kernelspec": {
   "display_name": "Python 3 (ipykernel)",
   "language": "python",
   "name": "python3"
  },
  "language_info": {
   "codemirror_mode": {
    "name": "ipython",
    "version": 3
   },
   "file_extension": ".py",
   "mimetype": "text/x-python",
   "name": "python",
   "nbconvert_exporter": "python",
   "pygments_lexer": "ipython3",
   "version": "3.8.8"
  }
 },
 "nbformat": 4,
 "nbformat_minor": 5
}
