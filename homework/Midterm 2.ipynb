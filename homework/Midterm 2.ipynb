{
 "cells": [
  {
   "cell_type": "markdown",
   "metadata": {},
   "source": [
    "<div style=\"text-align: right\"> Madison Rusch </div>\n",
    "\n",
    "<left>FINM 36700</left> \n",
    "<br>\n",
    "<left>Autumn 2022</left>\n",
    "\n",
    "<h2><center>Midterm #2 </center></h2>"
   ]
  },
  {
   "cell_type": "markdown",
   "metadata": {},
   "source": [
    "### 1 Short Answer\n",
    "#### 1.1\n",
    "\n",
    "\n",
    "#### 1.2\n",
    "\n",
    "\n",
    "#### 1.3\n",
    "\n",
    "\n",
    "#### 1.4"
   ]
  },
  {
   "cell_type": "markdown",
   "metadata": {},
   "source": [
    "### 2 Section2"
   ]
  },
  {
   "cell_type": "code",
   "execution_count": 1,
   "metadata": {},
   "outputs": [
    {
     "data": {
      "text/html": [
       "<div>\n",
       "<style scoped>\n",
       "    .dataframe tbody tr th:only-of-type {\n",
       "        vertical-align: middle;\n",
       "    }\n",
       "\n",
       "    .dataframe tbody tr th {\n",
       "        vertical-align: top;\n",
       "    }\n",
       "\n",
       "    .dataframe thead th {\n",
       "        text-align: right;\n",
       "    }\n",
       "</style>\n",
       "<table border=\"1\" class=\"dataframe\">\n",
       "  <thead>\n",
       "    <tr style=\"text-align: right;\">\n",
       "      <th></th>\n",
       "      <th>CL1</th>\n",
       "      <th>GC1</th>\n",
       "      <th>KC1</th>\n",
       "      <th>ES1</th>\n",
       "      <th>BP1</th>\n",
       "    </tr>\n",
       "    <tr>\n",
       "      <th>date</th>\n",
       "      <th></th>\n",
       "      <th></th>\n",
       "      <th></th>\n",
       "      <th></th>\n",
       "      <th></th>\n",
       "    </tr>\n",
       "  </thead>\n",
       "  <tbody>\n",
       "    <tr>\n",
       "      <th>2009-01-31</th>\n",
       "      <td>-0.1135</td>\n",
       "      <td>0.0486</td>\n",
       "      <td>0.0611</td>\n",
       "      <td>-0.0861</td>\n",
       "      <td>-0.0078</td>\n",
       "    </tr>\n",
       "    <tr>\n",
       "      <th>2009-02-28</th>\n",
       "      <td>0.0447</td>\n",
       "      <td>0.0152</td>\n",
       "      <td>-0.0795</td>\n",
       "      <td>-0.1073</td>\n",
       "      <td>-0.0083</td>\n",
       "    </tr>\n",
       "    <tr>\n",
       "      <th>2009-03-31</th>\n",
       "      <td>0.0879</td>\n",
       "      <td>-0.0211</td>\n",
       "      <td>0.0344</td>\n",
       "      <td>0.0872</td>\n",
       "      <td>0.0017</td>\n",
       "    </tr>\n",
       "    <tr>\n",
       "      <th>2009-04-30</th>\n",
       "      <td>-0.0138</td>\n",
       "      <td>-0.0365</td>\n",
       "      <td>-0.0065</td>\n",
       "      <td>0.0947</td>\n",
       "      <td>0.0329</td>\n",
       "    </tr>\n",
       "    <tr>\n",
       "      <th>2009-05-31</th>\n",
       "      <td>0.2874</td>\n",
       "      <td>0.0983</td>\n",
       "      <td>0.1855</td>\n",
       "      <td>0.0552</td>\n",
       "      <td>0.0889</td>\n",
       "    </tr>\n",
       "  </tbody>\n",
       "</table>\n",
       "</div>"
      ],
      "text/plain": [
       "               CL1     GC1     KC1     ES1     BP1\n",
       "date                                              \n",
       "2009-01-31 -0.1135  0.0486  0.0611 -0.0861 -0.0078\n",
       "2009-02-28  0.0447  0.0152 -0.0795 -0.1073 -0.0083\n",
       "2009-03-31  0.0879 -0.0211  0.0344  0.0872  0.0017\n",
       "2009-04-30 -0.0138 -0.0365 -0.0065  0.0947  0.0329\n",
       "2009-05-31  0.2874  0.0983  0.1855  0.0552  0.0889"
      ]
     },
     "execution_count": 1,
     "metadata": {},
     "output_type": "execute_result"
    }
   ],
   "source": [
    "# Some Python Code for importing packages/data\n",
    "import pandas as pd\n",
    "import numpy as np\n",
    "import statsmodels.api as sm\n",
    "import seaborn as sns\n",
    "from statsmodels.regression.rolling import RollingOLS\n",
    "import scipy\n",
    "import warnings\n",
    "warnings.filterwarnings('ignore')\n",
    "pd.set_option(\"display.precision\", 4)\n",
    "\n",
    "# Read excel file, sheet\n",
    "data = pd.read_excel('../data/midterm_1.xlsx', 'total returns')\n",
    "data = data.set_index('date')\n",
    "data.head()"
   ]
  },
  {
   "cell_type": "markdown",
   "metadata": {},
   "source": [
    "#### 2.1 "
   ]
  },
  {
   "cell_type": "markdown",
   "metadata": {},
   "source": [
    "### 3 Section 3"
   ]
  }
 ],
 "metadata": {
  "kernelspec": {
   "display_name": "Python 3.10.8 64-bit (microsoft store)",
   "language": "python",
   "name": "python3"
  },
  "language_info": {
   "codemirror_mode": {
    "name": "ipython",
    "version": 3
   },
   "file_extension": ".py",
   "mimetype": "text/x-python",
   "name": "python",
   "nbconvert_exporter": "python",
   "pygments_lexer": "ipython3",
   "version": "3.10.8"
  },
  "orig_nbformat": 4,
  "vscode": {
   "interpreter": {
    "hash": "28c29896733cd258a7e144e5cfe10ab10fb1ed1767adc491e37af3f909fe0b53"
   }
  }
 },
 "nbformat": 4,
 "nbformat_minor": 2
}
