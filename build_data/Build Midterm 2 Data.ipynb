{
 "cells": [
  {
   "cell_type": "markdown",
   "id": "3150de48",
   "metadata": {},
   "source": [
    "# Download ETF Data"
   ]
  },
  {
   "cell_type": "code",
   "execution_count": 1,
   "id": "cb2d8e76",
   "metadata": {},
   "outputs": [],
   "source": [
    "import pandas as pd\n",
    "import numpy as np\n",
    "\n",
    "import yfinance as yf"
   ]
  },
  {
   "cell_type": "code",
   "execution_count": 2,
   "id": "578d72ee",
   "metadata": {},
   "outputs": [],
   "source": [
    "TICKS = [\n",
    "    'SPY',\n",
    "    'EFA',\n",
    "    'EEM',\n",
    "    'PSP',\n",
    "    'QAI',\n",
    "    'HYG',\n",
    "    'DBC',\n",
    "    'IYR',\n",
    "    'IEF',\n",
    "    'BWX',\n",
    "    'TIP',\n",
    "    'SHV',\n",
    "]\n",
    "\n",
    "FLDS = ['shortName','quoteType','currency','volume','totalAssets','longBusinessSummary']"
   ]
  },
  {
   "cell_type": "code",
   "execution_count": 3,
   "id": "66584dc7",
   "metadata": {},
   "outputs": [],
   "source": [
    "info = pd.DataFrame(index=TICKS,columns=FLDS)\n",
    "info.index.name = 'ticker'\n",
    "for tick in info.index:\n",
    "    temp = yf.Ticker(tick).get_info()\n",
    "\n",
    "    for fld in FLDS:\n",
    "        if fld in temp.keys():\n",
    "            info.loc[tick,fld] = temp[fld]"
   ]
  },
  {
   "cell_type": "code",
   "execution_count": 4,
   "id": "21892abe",
   "metadata": {},
   "outputs": [
    {
     "name": "stdout",
     "output_type": "stream",
     "text": [
      "[*********************100%***********************]  12 of 12 completed\n"
     ]
    }
   ],
   "source": [
    "STARTDATE = '2009-03-31'\n",
    "ENDDATE = '2022-10-31'\n",
    "\n",
    "tickers = list(info.index.values)\n",
    "df = yf.download(tickers, start=STARTDATE, end=ENDDATE)['Adj Close']"
   ]
  },
  {
   "cell_type": "code",
   "execution_count": 5,
   "id": "3944aa9b",
   "metadata": {},
   "outputs": [],
   "source": [
    "prices = df.resample('M').last()\n",
    "\n",
    "rets = prices.pct_change().dropna()\n",
    "\n",
    "# change to excess returns, in excess of short-term treasury\n",
    "retsx = rets.subtract(rets['SHV'], axis=0)\n",
    "retsx = retsx.drop(columns=['SHV'])"
   ]
  },
  {
   "cell_type": "markdown",
   "id": "8f6e1b1e",
   "metadata": {},
   "source": [
    "# Factor Data"
   ]
  },
  {
   "cell_type": "code",
   "execution_count": 6,
   "id": "9dff5f7c",
   "metadata": {},
   "outputs": [],
   "source": [
    "import pandas_datareader.data as web\n",
    "import pandas_datareader as pdreader"
   ]
  },
  {
   "cell_type": "code",
   "execution_count": 7,
   "id": "61093cb8",
   "metadata": {
    "scrolled": true
   },
   "outputs": [],
   "source": [
    "rawdata = web.DataReader('F-F_Research_Data_5_Factors_2x3', data_source='famafrench',start=STARTDATE,end=ENDDATE)\n",
    "facs = rawdata[0] / 100\n",
    "# convert the yyyy-mm to timestamp object. default is to put first of month, but should be end of month\n",
    "facs = facs.to_timestamp().resample('M').last()\n",
    "facs.rename(columns={'Mkt-RF':'MKT'},inplace=True)\n",
    "\n",
    "rawdata = web.DataReader('F-F_Momentum_Factor', data_source='famafrench',start=STARTDATE,end=ENDDATE)\n",
    "umd = rawdata[0] / 100\n",
    "# convert the yyyy-mm to timestamp object. default is to put first of month, but should be end of month\n",
    "umd = umd.to_timestamp().resample('M').last()\n",
    "umd.columns = ['UMD']\n",
    "\n",
    "rf = facs[['RF']]\n",
    "facs = facs.join(umd).drop(columns=['RF'])"
   ]
  },
  {
   "cell_type": "code",
   "execution_count": 8,
   "id": "6b4873cc",
   "metadata": {},
   "outputs": [],
   "source": [
    "facs, retsx = facs.align(retsx, join='inner', axis=0)"
   ]
  },
  {
   "cell_type": "markdown",
   "id": "c4cfbcff",
   "metadata": {},
   "source": [
    "# Save Data"
   ]
  },
  {
   "cell_type": "code",
   "execution_count": 9,
   "id": "b5a7e805",
   "metadata": {},
   "outputs": [],
   "source": [
    "with pd.ExcelWriter('../data/midterm_2_v2.xlsx') as writer:  \n",
    "    retsx.to_excel(writer, sheet_name='assets (excess returns)')\n",
    "    facs.to_excel(writer, sheet_name='factors (excess returns)')"
   ]
  }
 ],
 "metadata": {
  "hide_input": false,
  "kernelspec": {
   "display_name": "Python 3 (ipykernel)",
   "language": "python",
   "name": "python3"
  },
  "language_info": {
   "codemirror_mode": {
    "name": "ipython",
    "version": 3
   },
   "file_extension": ".py",
   "mimetype": "text/x-python",
   "name": "python",
   "nbconvert_exporter": "python",
   "pygments_lexer": "ipython3",
   "version": "3.9.7"
  }
 },
 "nbformat": 4,
 "nbformat_minor": 5
}
