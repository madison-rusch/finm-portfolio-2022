{
 "cells": [
  {
   "cell_type": "markdown",
   "id": "11ffc086",
   "metadata": {},
   "source": [
    "# Discussion - Homework 5"
   ]
  },
  {
   "cell_type": "code",
   "execution_count": 1,
   "id": "557f4504",
   "metadata": {},
   "outputs": [],
   "source": [
    "import numpy as np\n",
    "import pandas as pd\n",
    "pd.options.display.float_format = \"{:,.4f}\".format\n",
    "\n",
    "import matplotlib.pyplot as plt\n",
    "import seaborn as sns\n",
    "\n",
    "import statsmodels.api as sm\n",
    "from sklearn.linear_model import LinearRegression"
   ]
  },
  {
   "cell_type": "markdown",
   "id": "78077406",
   "metadata": {},
   "source": [
    "## This notebook is for illustrative purposes\n",
    "#### You will not be able to run it, as it relies on modules, `factor_pricing.py`, `forecasts.py`"
   ]
  },
  {
   "cell_type": "code",
   "execution_count": 2,
   "id": "55554193",
   "metadata": {},
   "outputs": [],
   "source": [
    "import sys\n",
    "sys.path.insert(0, '../cmds')\n",
    "from portfolio import *\n",
    "from factor_pricing import *\n",
    "from forecasts import *"
   ]
  },
  {
   "cell_type": "markdown",
   "id": "75a0cfc5",
   "metadata": {},
   "source": [
    "## Load Data"
   ]
  },
  {
   "cell_type": "code",
   "execution_count": 3,
   "id": "ff999964",
   "metadata": {},
   "outputs": [],
   "source": [
    "filepath_data = '../data/factor_pricing_data.xlsx'\n",
    "info = pd.read_excel(filepath_data,sheet_name='descriptions')\n",
    "info.rename(columns={'Unnamed: 0':'Symbol'},inplace=True)\n",
    "info.set_index('Symbol',inplace=True)\n",
    "\n",
    "facs = pd.read_excel(filepath_data,sheet_name='factors (excess returns)')\n",
    "facs.set_index('Date',inplace=True)\n",
    "\n",
    "rf = pd.read_excel(filepath_data,sheet_name='risk-free rate')\n",
    "rf.set_index('Date',inplace=True)"
   ]
  },
  {
   "cell_type": "markdown",
   "id": "704679d2",
   "metadata": {},
   "source": [
    "# 2. The Factors\n",
    "\n",
    "## 2.1 and 2.2 Univariate Performance"
   ]
  },
  {
   "cell_type": "code",
   "execution_count": 4,
   "id": "ae8d899c",
   "metadata": {},
   "outputs": [
    {
     "data": {
      "text/html": [
       "<div>\n",
       "<style scoped>\n",
       "    .dataframe tbody tr th:only-of-type {\n",
       "        vertical-align: middle;\n",
       "    }\n",
       "\n",
       "    .dataframe tbody tr th {\n",
       "        vertical-align: top;\n",
       "    }\n",
       "\n",
       "    .dataframe thead th {\n",
       "        text-align: right;\n",
       "    }\n",
       "</style>\n",
       "<table border=\"1\" class=\"dataframe\">\n",
       "  <thead>\n",
       "    <tr style=\"text-align: right;\">\n",
       "      <th></th>\n",
       "      <th>Mean</th>\n",
       "      <th>Vol</th>\n",
       "      <th>Sharpe</th>\n",
       "      <th>Min</th>\n",
       "      <th>Max</th>\n",
       "    </tr>\n",
       "  </thead>\n",
       "  <tbody>\n",
       "    <tr>\n",
       "      <th>MKT</th>\n",
       "      <td>0.0831</td>\n",
       "      <td>0.1567</td>\n",
       "      <td>0.5305</td>\n",
       "      <td>-0.2324</td>\n",
       "      <td>0.1365</td>\n",
       "    </tr>\n",
       "    <tr>\n",
       "      <th>SMB</th>\n",
       "      <td>0.0122</td>\n",
       "      <td>0.1005</td>\n",
       "      <td>0.1211</td>\n",
       "      <td>-0.1535</td>\n",
       "      <td>0.1834</td>\n",
       "    </tr>\n",
       "    <tr>\n",
       "      <th>HML</th>\n",
       "      <td>0.0275</td>\n",
       "      <td>0.1088</td>\n",
       "      <td>0.2529</td>\n",
       "      <td>-0.1397</td>\n",
       "      <td>0.1275</td>\n",
       "    </tr>\n",
       "    <tr>\n",
       "      <th>RMW</th>\n",
       "      <td>0.0448</td>\n",
       "      <td>0.0834</td>\n",
       "      <td>0.5376</td>\n",
       "      <td>-0.1873</td>\n",
       "      <td>0.1309</td>\n",
       "    </tr>\n",
       "    <tr>\n",
       "      <th>CMA</th>\n",
       "      <td>0.0333</td>\n",
       "      <td>0.0715</td>\n",
       "      <td>0.4652</td>\n",
       "      <td>-0.0694</td>\n",
       "      <td>0.0905</td>\n",
       "    </tr>\n",
       "    <tr>\n",
       "      <th>UMD</th>\n",
       "      <td>0.0655</td>\n",
       "      <td>0.1545</td>\n",
       "      <td>0.4241</td>\n",
       "      <td>-0.3430</td>\n",
       "      <td>0.1820</td>\n",
       "    </tr>\n",
       "  </tbody>\n",
       "</table>\n",
       "</div>"
      ],
      "text/plain": [
       "      Mean    Vol  Sharpe     Min    Max\n",
       "MKT 0.0831 0.1567  0.5305 -0.2324 0.1365\n",
       "SMB 0.0122 0.1005  0.1211 -0.1535 0.1834\n",
       "HML 0.0275 0.1088  0.2529 -0.1397 0.1275\n",
       "RMW 0.0448 0.0834  0.5376 -0.1873 0.1309\n",
       "CMA 0.0333 0.0715  0.4652 -0.0694 0.0905\n",
       "UMD 0.0655 0.1545  0.4241 -0.3430 0.1820"
      ]
     },
     "execution_count": 4,
     "metadata": {},
     "output_type": "execute_result"
    }
   ],
   "source": [
    "performanceMetrics(facs,annualization=12)"
   ]
  },
  {
   "cell_type": "code",
   "execution_count": 5,
   "id": "18fcf7e9",
   "metadata": {},
   "outputs": [
    {
     "data": {
      "text/html": [
       "<div>\n",
       "<style scoped>\n",
       "    .dataframe tbody tr th:only-of-type {\n",
       "        vertical-align: middle;\n",
       "    }\n",
       "\n",
       "    .dataframe tbody tr th {\n",
       "        vertical-align: top;\n",
       "    }\n",
       "\n",
       "    .dataframe thead th {\n",
       "        text-align: right;\n",
       "    }\n",
       "</style>\n",
       "<table border=\"1\" class=\"dataframe\">\n",
       "  <thead>\n",
       "    <tr style=\"text-align: right;\">\n",
       "      <th></th>\n",
       "      <th>Mean</th>\n",
       "      <th>Vol</th>\n",
       "      <th>Sharpe</th>\n",
       "      <th>Min</th>\n",
       "      <th>Max</th>\n",
       "    </tr>\n",
       "  </thead>\n",
       "  <tbody>\n",
       "    <tr>\n",
       "      <th>MKT</th>\n",
       "      <td>0.1069</td>\n",
       "      <td>0.1602</td>\n",
       "      <td>0.6676</td>\n",
       "      <td>-0.1339</td>\n",
       "      <td>0.1365</td>\n",
       "    </tr>\n",
       "    <tr>\n",
       "      <th>SMB</th>\n",
       "      <td>-0.0058</td>\n",
       "      <td>0.0977</td>\n",
       "      <td>-0.0590</td>\n",
       "      <td>-0.0831</td>\n",
       "      <td>0.0712</td>\n",
       "    </tr>\n",
       "    <tr>\n",
       "      <th>HML</th>\n",
       "      <td>-0.0197</td>\n",
       "      <td>0.1325</td>\n",
       "      <td>-0.1488</td>\n",
       "      <td>-0.1397</td>\n",
       "      <td>0.1275</td>\n",
       "    </tr>\n",
       "    <tr>\n",
       "      <th>RMW</th>\n",
       "      <td>0.0395</td>\n",
       "      <td>0.0712</td>\n",
       "      <td>0.5553</td>\n",
       "      <td>-0.0480</td>\n",
       "      <td>0.0722</td>\n",
       "    </tr>\n",
       "    <tr>\n",
       "      <th>CMA</th>\n",
       "      <td>0.0022</td>\n",
       "      <td>0.0796</td>\n",
       "      <td>0.0282</td>\n",
       "      <td>-0.0694</td>\n",
       "      <td>0.0771</td>\n",
       "    </tr>\n",
       "    <tr>\n",
       "      <th>UMD</th>\n",
       "      <td>0.0255</td>\n",
       "      <td>0.1368</td>\n",
       "      <td>0.1865</td>\n",
       "      <td>-0.1243</td>\n",
       "      <td>0.0998</td>\n",
       "    </tr>\n",
       "  </tbody>\n",
       "</table>\n",
       "</div>"
      ],
      "text/plain": [
       "       Mean    Vol  Sharpe     Min    Max\n",
       "MKT  0.1069 0.1602  0.6676 -0.1339 0.1365\n",
       "SMB -0.0058 0.0977 -0.0590 -0.0831 0.0712\n",
       "HML -0.0197 0.1325 -0.1488 -0.1397 0.1275\n",
       "RMW  0.0395 0.0712  0.5553 -0.0480 0.0722\n",
       "CMA  0.0022 0.0796  0.0282 -0.0694 0.0771\n",
       "UMD  0.0255 0.1368  0.1865 -0.1243 0.0998"
      ]
     },
     "execution_count": 5,
     "metadata": {},
     "output_type": "execute_result"
    }
   ],
   "source": [
    "performanceMetrics(facs['2015':],annualization=12)"
   ]
  },
  {
   "cell_type": "markdown",
   "id": "854948b3",
   "metadata": {},
   "source": [
    "## 2.3 Correlation"
   ]
  },
  {
   "cell_type": "code",
   "execution_count": 6,
   "id": "6b8eaf33",
   "metadata": {},
   "outputs": [
    {
     "name": "stdout",
     "output_type": "stream",
     "text": [
      "MIN Correlation pair is ('RMW', 'SMB')\n",
      "MAX Correlation pair is ('HML', 'CMA')\n"
     ]
    },
    {
     "data": {
      "image/png": "[encoded data removed]",
      "text/plain": [
       "<Figure size 432x288 with 2 Axes>"
      ]
     },
     "metadata": {
      "needs_background": "light"
     },
     "output_type": "display_data"
    }
   ],
   "source": [
    "display_correlation(facs)"
   ]
  },
  {
   "cell_type": "code",
   "execution_count": 7,
   "id": "30ec48aa",
   "metadata": {},
   "outputs": [],
   "source": [
    "retsx = pd.read_excel(filepath_data,sheet_name='portfolios (excess returns)')\n",
    "retsx.set_index('Date',inplace=True)"
   ]
  },
  {
   "cell_type": "markdown",
   "id": "27aa2952",
   "metadata": {},
   "source": [
    "## 2.4 Tangency"
   ]
  },
  {
   "cell_type": "code",
   "execution_count": 8,
   "id": "29fcb645",
   "metadata": {},
   "outputs": [
    {
     "data": {
      "image/png": "[encoded data removed]",
      "text/plain": [
       "<Figure size 576x288 with 1 Axes>"
      ]
     },
     "metadata": {
      "needs_background": "light"
     },
     "output_type": "display_data"
    }
   ],
   "source": [
    "fig = plt.figure(figsize=(8,4))\n",
    "ax1=fig.add_subplot(1,1,1)\n",
    "tangency_weights(facs).plot.bar(ax=ax1);"
   ]
  },
  {
   "cell_type": "code",
   "execution_count": 9,
   "id": "58438518",
   "metadata": {},
   "outputs": [
    {
     "data": {
      "image/png": "[encoded data removed]",
      "text/plain": [
       "<Figure size 576x288 with 1 Axes>"
      ]
     },
     "metadata": {
      "needs_background": "light"
     },
     "output_type": "display_data"
    }
   ],
   "source": [
    "fig = plt.figure(figsize=(8,4))\n",
    "ax1=fig.add_subplot(1,1,1)\n",
    "tangency_weights(facs[['MKT','SMB','HML','UMD']]).plot.bar(ax=ax1);"
   ]
  },
  {
   "cell_type": "markdown",
   "id": "c3874c94",
   "metadata": {},
   "source": [
    "# 3. Testing Modern Linear Pricing Models\n",
    "\n",
    "## Models"
   ]
  },
  {
   "cell_type": "code",
   "execution_count": 10,
   "id": "3d4f9b43",
   "metadata": {},
   "outputs": [],
   "source": [
    "models = dict()\n",
    "models['CAPM'] = ['MKT']\n",
    "models['FF3'] = ['MKT','SMB','HML']\n",
    "models['AQR'] = ['MKT','HML','RMW','UMD']\n",
    "models['FF5'] = ['MKT','SMB','HML','RMW','CMA']"
   ]
  },
  {
   "cell_type": "markdown",
   "id": "4db61eb6",
   "metadata": {},
   "source": [
    "## Testing Factor Pricing"
   ]
  },
  {
   "cell_type": "code",
   "execution_count": 11,
   "id": "bfcee175",
   "metadata": {
    "scrolled": false
   },
   "outputs": [
    {
     "name": "stdout",
     "output_type": "stream",
     "text": [
      "\n",
      "\n",
      "\n",
      "======================================================\n",
      "CAPM: Factor Pricing\n",
      "======================================================\n",
      "\n",
      "\n",
      "\n",
      "Time-Series Test Plots\n"
     ]
    },
    {
     "data": {
      "image/png": "[encoded data removed]",
      "text/plain": [
       "<Figure size 288x288 with 1 Axes>"
      ]
     },
     "metadata": {},
     "output_type": "display_data"
    },
    {
     "data": {
      "image/png": "[encoded data removed]",
      "text/plain": [
       "<Figure size 633.6x288 with 1 Axes>"
      ]
     },
     "metadata": {},
     "output_type": "display_data"
    },
    {
     "name": "stdout",
     "output_type": "stream",
     "text": [
      "Cross-Sectional Test Plots\n"
     ]
    },
    {
     "data": {
      "image/png": "[encoded data removed]",
      "text/plain": [
       "<Figure size 288x288 with 1 Axes>"
      ]
     },
     "metadata": {},
     "output_type": "display_data"
    },
    {
     "data": {
      "image/png": "[encoded data removed]",
      "text/plain": [
       "<Figure size 633.6x288 with 1 Axes>"
      ]
     },
     "metadata": {},
     "output_type": "display_data"
    },
    {
     "name": "stdout",
     "output_type": "stream",
     "text": [
      "\n",
      "ESTIMATES\n"
     ]
    },
    {
     "data": {
      "text/html": [
       "<div>\n",
       "<style scoped>\n",
       "    .dataframe tbody tr th:only-of-type {\n",
       "        vertical-align: middle;\n",
       "    }\n",
       "\n",
       "    .dataframe tbody tr th {\n",
       "        vertical-align: top;\n",
       "    }\n",
       "\n",
       "    .dataframe thead th {\n",
       "        text-align: right;\n",
       "    }\n",
       "</style>\n",
       "<table border=\"1\" class=\"dataframe\">\n",
       "  <thead>\n",
       "    <tr style=\"text-align: right;\">\n",
       "      <th></th>\n",
       "      <th>premium-TS</th>\n",
       "      <th>premium-CS</th>\n",
       "    </tr>\n",
       "  </thead>\n",
       "  <tbody>\n",
       "    <tr>\n",
       "      <th>MKT</th>\n",
       "      <td>0.0831</td>\n",
       "      <td>0.0849</td>\n",
       "    </tr>\n",
       "  </tbody>\n",
       "</table>\n",
       "</div>"
      ],
      "text/plain": [
       "     premium-TS  premium-CS\n",
       "MKT      0.0831      0.0849"
      ]
     },
     "metadata": {},
     "output_type": "display_data"
    },
    {
     "name": "stdout",
     "output_type": "stream",
     "text": [
      "\n",
      "MODEL FIT\n"
     ]
    },
    {
     "data": {
      "text/html": [
       "<div>\n",
       "<style scoped>\n",
       "    .dataframe tbody tr th:only-of-type {\n",
       "        vertical-align: middle;\n",
       "    }\n",
       "\n",
       "    .dataframe tbody tr th {\n",
       "        vertical-align: top;\n",
       "    }\n",
       "\n",
       "    .dataframe thead th {\n",
       "        text-align: right;\n",
       "    }\n",
       "</style>\n",
       "<table border=\"1\" class=\"dataframe\">\n",
       "  <thead>\n",
       "    <tr style=\"text-align: right;\">\n",
       "      <th></th>\n",
       "      <th>MAE-TS</th>\n",
       "      <th>MAE-CS</th>\n",
       "    </tr>\n",
       "  </thead>\n",
       "  <tbody>\n",
       "    <tr>\n",
       "      <th>error</th>\n",
       "      <td>0.0215</td>\n",
       "      <td>0.0214</td>\n",
       "    </tr>\n",
       "  </tbody>\n",
       "</table>\n",
       "</div>"
      ],
      "text/plain": [
       "       MAE-TS  MAE-CS\n",
       "error  0.0215  0.0214"
      ]
     },
     "metadata": {},
     "output_type": "display_data"
    },
    {
     "name": "stdout",
     "output_type": "stream",
     "text": [
      "\n",
      "STATISTICAL SIGNIFICANCE\n"
     ]
    },
    {
     "data": {
      "text/html": [
       "<div>\n",
       "<style scoped>\n",
       "    .dataframe tbody tr th:only-of-type {\n",
       "        vertical-align: middle;\n",
       "    }\n",
       "\n",
       "    .dataframe tbody tr th {\n",
       "        vertical-align: top;\n",
       "    }\n",
       "\n",
       "    .dataframe thead th {\n",
       "        text-align: right;\n",
       "    }\n",
       "</style>\n",
       "<table border=\"1\" class=\"dataframe\">\n",
       "  <thead>\n",
       "    <tr style=\"text-align: right;\">\n",
       "      <th>time-series</th>\n",
       "      <th>priced</th>\n",
       "      <th>premium</th>\n",
       "    </tr>\n",
       "    <tr>\n",
       "      <th>p-values</th>\n",
       "      <th></th>\n",
       "      <th></th>\n",
       "    </tr>\n",
       "  </thead>\n",
       "  <tbody>\n",
       "    <tr>\n",
       "      <th>MKT</th>\n",
       "      <td>0.0006</td>\n",
       "      <td>0.0003</td>\n",
       "    </tr>\n",
       "    <tr>\n",
       "      <th>error</th>\n",
       "      <td>0.0000</td>\n",
       "      <td>NaN</td>\n",
       "    </tr>\n",
       "  </tbody>\n",
       "</table>\n",
       "</div>"
      ],
      "text/plain": [
       "time-series  priced  premium\n",
       "p-values                    \n",
       "MKT          0.0006   0.0003\n",
       "error        0.0000      NaN"
      ]
     },
     "metadata": {},
     "output_type": "display_data"
    },
    {
     "name": "stdout",
     "output_type": "stream",
     "text": [
      "\"premium\" p-value is the usual t-stat on the time-series factor mean.\n",
      "\"priced\" p-value of factor is the t-stat of forming the tangency portfolio.\n",
      "\"priced\" p-value of \"error\" is the joint-chi-squared test of the time-series alphas\n",
      "\n",
      "\n",
      "\n",
      "======================================================\n",
      "FF3: Factor Pricing\n",
      "======================================================\n",
      "\n",
      "\n",
      "\n",
      "Time-Series Test Plots\n"
     ]
    },
    {
     "data": {
      "image/png": "[encoded data removed]",
      "text/plain": [
       "<Figure size 288x288 with 1 Axes>"
      ]
     },
     "metadata": {},
     "output_type": "display_data"
    },
    {
     "name": "stdout",
     "output_type": "stream",
     "text": [
      "Cross-Sectional Test Plots\n"
     ]
    },
    {
     "data": {
      "image/png": "[encoded data removed]",
      "text/plain": [
       "<Figure size 288x288 with 1 Axes>"
      ]
     },
     "metadata": {},
     "output_type": "display_data"
    },
    {
     "name": "stdout",
     "output_type": "stream",
     "text": [
      "\n",
      "ESTIMATES\n"
     ]
    },
    {
     "data": {
      "text/html": [
       "<div>\n",
       "<style scoped>\n",
       "    .dataframe tbody tr th:only-of-type {\n",
       "        vertical-align: middle;\n",
       "    }\n",
       "\n",
       "    .dataframe tbody tr th {\n",
       "        vertical-align: top;\n",
       "    }\n",
       "\n",
       "    .dataframe thead th {\n",
       "        text-align: right;\n",
       "    }\n",
       "</style>\n",
       "<table border=\"1\" class=\"dataframe\">\n",
       "  <thead>\n",
       "    <tr style=\"text-align: right;\">\n",
       "      <th></th>\n",
       "      <th>premium-TS</th>\n",
       "      <th>premium-CS</th>\n",
       "    </tr>\n",
       "  </thead>\n",
       "  <tbody>\n",
       "    <tr>\n",
       "      <th>MKT</th>\n",
       "      <td>0.0831</td>\n",
       "      <td>0.1010</td>\n",
       "    </tr>\n",
       "    <tr>\n",
       "      <th>SMB</th>\n",
       "      <td>0.0122</td>\n",
       "      <td>-0.0659</td>\n",
       "    </tr>\n",
       "    <tr>\n",
       "      <th>HML</th>\n",
       "      <td>0.0275</td>\n",
       "      <td>-0.0173</td>\n",
       "    </tr>\n",
       "  </tbody>\n",
       "</table>\n",
       "</div>"
      ],
      "text/plain": [
       "     premium-TS  premium-CS\n",
       "MKT      0.0831      0.1010\n",
       "SMB      0.0122     -0.0659\n",
       "HML      0.0275     -0.0173"
      ]
     },
     "metadata": {},
     "output_type": "display_data"
    },
    {
     "name": "stdout",
     "output_type": "stream",
     "text": [
      "\n",
      "MODEL FIT\n"
     ]
    },
    {
     "data": {
      "text/html": [
       "<div>\n",
       "<style scoped>\n",
       "    .dataframe tbody tr th:only-of-type {\n",
       "        vertical-align: middle;\n",
       "    }\n",
       "\n",
       "    .dataframe tbody tr th {\n",
       "        vertical-align: top;\n",
       "    }\n",
       "\n",
       "    .dataframe thead th {\n",
       "        text-align: right;\n",
       "    }\n",
       "</style>\n",
       "<table border=\"1\" class=\"dataframe\">\n",
       "  <thead>\n",
       "    <tr style=\"text-align: right;\">\n",
       "      <th></th>\n",
       "      <th>MAE-TS</th>\n",
       "      <th>MAE-CS</th>\n",
       "    </tr>\n",
       "  </thead>\n",
       "  <tbody>\n",
       "    <tr>\n",
       "      <th>error</th>\n",
       "      <td>0.0254</td>\n",
       "      <td>0.0161</td>\n",
       "    </tr>\n",
       "  </tbody>\n",
       "</table>\n",
       "</div>"
      ],
      "text/plain": [
       "       MAE-TS  MAE-CS\n",
       "error  0.0254  0.0161"
      ]
     },
     "metadata": {},
     "output_type": "display_data"
    },
    {
     "name": "stdout",
     "output_type": "stream",
     "text": [
      "\n",
      "STATISTICAL SIGNIFICANCE\n"
     ]
    },
    {
     "data": {
      "text/html": [
       "<div>\n",
       "<style scoped>\n",
       "    .dataframe tbody tr th:only-of-type {\n",
       "        vertical-align: middle;\n",
       "    }\n",
       "\n",
       "    .dataframe tbody tr th {\n",
       "        vertical-align: top;\n",
       "    }\n",
       "\n",
       "    .dataframe thead th {\n",
       "        text-align: right;\n",
       "    }\n",
       "</style>\n",
       "<table border=\"1\" class=\"dataframe\">\n",
       "  <thead>\n",
       "    <tr style=\"text-align: right;\">\n",
       "      <th>time-series</th>\n",
       "      <th>priced</th>\n",
       "      <th>premium</th>\n",
       "    </tr>\n",
       "    <tr>\n",
       "      <th>p-values</th>\n",
       "      <th></th>\n",
       "      <th></th>\n",
       "    </tr>\n",
       "  </thead>\n",
       "  <tbody>\n",
       "    <tr>\n",
       "      <th>MKT</th>\n",
       "      <td>0.0002</td>\n",
       "      <td>0.0003</td>\n",
       "    </tr>\n",
       "    <tr>\n",
       "      <th>SMB</th>\n",
       "      <td>0.9501</td>\n",
       "      <td>0.2147</td>\n",
       "    </tr>\n",
       "    <tr>\n",
       "      <th>HML</th>\n",
       "      <td>0.0146</td>\n",
       "      <td>0.0496</td>\n",
       "    </tr>\n",
       "    <tr>\n",
       "      <th>error</th>\n",
       "      <td>0.0000</td>\n",
       "      <td>NaN</td>\n",
       "    </tr>\n",
       "  </tbody>\n",
       "</table>\n",
       "</div>"
      ],
      "text/plain": [
       "time-series  priced  premium\n",
       "p-values                    \n",
       "MKT          0.0002   0.0003\n",
       "SMB          0.9501   0.2147\n",
       "HML          0.0146   0.0496\n",
       "error        0.0000      NaN"
      ]
     },
     "metadata": {},
     "output_type": "display_data"
    },
    {
     "name": "stdout",
     "output_type": "stream",
     "text": [
      "\"premium\" p-value is the usual t-stat on the time-series factor mean.\n",
      "\"priced\" p-value of factor is the t-stat of forming the tangency portfolio.\n",
      "\"priced\" p-value of \"error\" is the joint-chi-squared test of the time-series alphas\n",
      "\n",
      "\n",
      "\n",
      "======================================================\n",
      "AQR: Factor Pricing\n",
      "======================================================\n",
      "\n",
      "\n",
      "\n",
      "Time-Series Test Plots\n"
     ]
    },
    {
     "data": {
      "image/png": "[encoded data removed]",
      "text/plain": [
       "<Figure size 288x288 with 1 Axes>"
      ]
     },
     "metadata": {},
     "output_type": "display_data"
    },
    {
     "name": "stdout",
     "output_type": "stream",
     "text": [
      "Cross-Sectional Test Plots\n"
     ]
    },
    {
     "data": {
      "image/png": "[encoded data removed]",
      "text/plain": [
       "<Figure size 288x288 with 1 Axes>"
      ]
     },
     "metadata": {},
     "output_type": "display_data"
    },
    {
     "name": "stdout",
     "output_type": "stream",
     "text": [
      "\n",
      "ESTIMATES\n"
     ]
    },
    {
     "data": {
      "text/html": [
       "<div>\n",
       "<style scoped>\n",
       "    .dataframe tbody tr th:only-of-type {\n",
       "        vertical-align: middle;\n",
       "    }\n",
       "\n",
       "    .dataframe tbody tr th {\n",
       "        vertical-align: top;\n",
       "    }\n",
       "\n",
       "    .dataframe thead th {\n",
       "        text-align: right;\n",
       "    }\n",
       "</style>\n",
       "<table border=\"1\" class=\"dataframe\">\n",
       "  <thead>\n",
       "    <tr style=\"text-align: right;\">\n",
       "      <th></th>\n",
       "      <th>premium-TS</th>\n",
       "      <th>premium-CS</th>\n",
       "    </tr>\n",
       "  </thead>\n",
       "  <tbody>\n",
       "    <tr>\n",
       "      <th>MKT</th>\n",
       "      <td>0.0831</td>\n",
       "      <td>0.0866</td>\n",
       "    </tr>\n",
       "    <tr>\n",
       "      <th>HML</th>\n",
       "      <td>0.0275</td>\n",
       "      <td>-0.0409</td>\n",
       "    </tr>\n",
       "    <tr>\n",
       "      <th>RMW</th>\n",
       "      <td>0.0448</td>\n",
       "      <td>0.0455</td>\n",
       "    </tr>\n",
       "    <tr>\n",
       "      <th>UMD</th>\n",
       "      <td>0.0655</td>\n",
       "      <td>0.0553</td>\n",
       "    </tr>\n",
       "  </tbody>\n",
       "</table>\n",
       "</div>"
      ],
      "text/plain": [
       "     premium-TS  premium-CS\n",
       "MKT      0.0831      0.0866\n",
       "HML      0.0275     -0.0409\n",
       "RMW      0.0448      0.0455\n",
       "UMD      0.0655      0.0553"
      ]
     },
     "metadata": {},
     "output_type": "display_data"
    },
    {
     "name": "stdout",
     "output_type": "stream",
     "text": [
      "\n",
      "MODEL FIT\n"
     ]
    },
    {
     "data": {
      "text/html": [
       "<div>\n",
       "<style scoped>\n",
       "    .dataframe tbody tr th:only-of-type {\n",
       "        vertical-align: middle;\n",
       "    }\n",
       "\n",
       "    .dataframe tbody tr th {\n",
       "        vertical-align: top;\n",
       "    }\n",
       "\n",
       "    .dataframe thead th {\n",
       "        text-align: right;\n",
       "    }\n",
       "</style>\n",
       "<table border=\"1\" class=\"dataframe\">\n",
       "  <thead>\n",
       "    <tr style=\"text-align: right;\">\n",
       "      <th></th>\n",
       "      <th>MAE-TS</th>\n",
       "      <th>MAE-CS</th>\n",
       "    </tr>\n",
       "  </thead>\n",
       "  <tbody>\n",
       "    <tr>\n",
       "      <th>error</th>\n",
       "      <td>0.0235</td>\n",
       "      <td>0.0172</td>\n",
       "    </tr>\n",
       "  </tbody>\n",
       "</table>\n",
       "</div>"
      ],
      "text/plain": [
       "       MAE-TS  MAE-CS\n",
       "error  0.0235  0.0172"
      ]
     },
     "metadata": {},
     "output_type": "display_data"
    },
    {
     "name": "stdout",
     "output_type": "stream",
     "text": [
      "\n",
      "STATISTICAL SIGNIFICANCE\n"
     ]
    },
    {
     "data": {
      "text/html": [
       "<div>\n",
       "<style scoped>\n",
       "    .dataframe tbody tr th:only-of-type {\n",
       "        vertical-align: middle;\n",
       "    }\n",
       "\n",
       "    .dataframe tbody tr th {\n",
       "        vertical-align: top;\n",
       "    }\n",
       "\n",
       "    .dataframe thead th {\n",
       "        text-align: right;\n",
       "    }\n",
       "</style>\n",
       "<table border=\"1\" class=\"dataframe\">\n",
       "  <thead>\n",
       "    <tr style=\"text-align: right;\">\n",
       "      <th>time-series</th>\n",
       "      <th>priced</th>\n",
       "      <th>premium</th>\n",
       "    </tr>\n",
       "    <tr>\n",
       "      <th>p-values</th>\n",
       "      <th></th>\n",
       "      <th></th>\n",
       "    </tr>\n",
       "  </thead>\n",
       "  <tbody>\n",
       "    <tr>\n",
       "      <th>MKT</th>\n",
       "      <td>0.0000</td>\n",
       "      <td>0.0003</td>\n",
       "    </tr>\n",
       "    <tr>\n",
       "      <th>HML</th>\n",
       "      <td>0.0086</td>\n",
       "      <td>0.0496</td>\n",
       "    </tr>\n",
       "    <tr>\n",
       "      <th>RMW</th>\n",
       "      <td>0.0003</td>\n",
       "      <td>0.0002</td>\n",
       "    </tr>\n",
       "    <tr>\n",
       "      <th>UMD</th>\n",
       "      <td>0.0002</td>\n",
       "      <td>0.0029</td>\n",
       "    </tr>\n",
       "    <tr>\n",
       "      <th>error</th>\n",
       "      <td>0.0000</td>\n",
       "      <td>NaN</td>\n",
       "    </tr>\n",
       "  </tbody>\n",
       "</table>\n",
       "</div>"
      ],
      "text/plain": [
       "time-series  priced  premium\n",
       "p-values                    \n",
       "MKT          0.0000   0.0003\n",
       "HML          0.0086   0.0496\n",
       "RMW          0.0003   0.0002\n",
       "UMD          0.0002   0.0029\n",
       "error        0.0000      NaN"
      ]
     },
     "metadata": {},
     "output_type": "display_data"
    },
    {
     "name": "stdout",
     "output_type": "stream",
     "text": [
      "\"premium\" p-value is the usual t-stat on the time-series factor mean.\n",
      "\"priced\" p-value of factor is the t-stat of forming the tangency portfolio.\n",
      "\"priced\" p-value of \"error\" is the joint-chi-squared test of the time-series alphas\n",
      "\n",
      "\n",
      "\n",
      "======================================================\n",
      "FF5: Factor Pricing\n",
      "======================================================\n",
      "\n",
      "\n",
      "\n",
      "Time-Series Test Plots\n"
     ]
    },
    {
     "data": {
      "image/png": "[encoded data removed]",
      "text/plain": [
       "<Figure size 288x288 with 1 Axes>"
      ]
     },
     "metadata": {},
     "output_type": "display_data"
    },
    {
     "name": "stdout",
     "output_type": "stream",
     "text": [
      "Cross-Sectional Test Plots\n"
     ]
    },
    {
     "data": {
      "image/png": "[encoded data removed]",
      "text/plain": [
       "<Figure size 288x288 with 1 Axes>"
      ]
     },
     "metadata": {},
     "output_type": "display_data"
    },
    {
     "name": "stdout",
     "output_type": "stream",
     "text": [
      "\n",
      "ESTIMATES\n"
     ]
    },
    {
     "data": {
      "text/html": [
       "<div>\n",
       "<style scoped>\n",
       "    .dataframe tbody tr th:only-of-type {\n",
       "        vertical-align: middle;\n",
       "    }\n",
       "\n",
       "    .dataframe tbody tr th {\n",
       "        vertical-align: top;\n",
       "    }\n",
       "\n",
       "    .dataframe thead th {\n",
       "        text-align: right;\n",
       "    }\n",
       "</style>\n",
       "<table border=\"1\" class=\"dataframe\">\n",
       "  <thead>\n",
       "    <tr style=\"text-align: right;\">\n",
       "      <th></th>\n",
       "      <th>premium-TS</th>\n",
       "      <th>premium-CS</th>\n",
       "    </tr>\n",
       "  </thead>\n",
       "  <tbody>\n",
       "    <tr>\n",
       "      <th>MKT</th>\n",
       "      <td>0.0831</td>\n",
       "      <td>0.0948</td>\n",
       "    </tr>\n",
       "    <tr>\n",
       "      <th>SMB</th>\n",
       "      <td>0.0122</td>\n",
       "      <td>-0.0587</td>\n",
       "    </tr>\n",
       "    <tr>\n",
       "      <th>HML</th>\n",
       "      <td>0.0275</td>\n",
       "      <td>-0.0354</td>\n",
       "    </tr>\n",
       "    <tr>\n",
       "      <th>RMW</th>\n",
       "      <td>0.0448</td>\n",
       "      <td>0.0368</td>\n",
       "    </tr>\n",
       "    <tr>\n",
       "      <th>CMA</th>\n",
       "      <td>0.0333</td>\n",
       "      <td>-0.0154</td>\n",
       "    </tr>\n",
       "  </tbody>\n",
       "</table>\n",
       "</div>"
      ],
      "text/plain": [
       "     premium-TS  premium-CS\n",
       "MKT      0.0831      0.0948\n",
       "SMB      0.0122     -0.0587\n",
       "HML      0.0275     -0.0354\n",
       "RMW      0.0448      0.0368\n",
       "CMA      0.0333     -0.0154"
      ]
     },
     "metadata": {},
     "output_type": "display_data"
    },
    {
     "name": "stdout",
     "output_type": "stream",
     "text": [
      "\n",
      "MODEL FIT\n"
     ]
    },
    {
     "data": {
      "text/html": [
       "<div>\n",
       "<style scoped>\n",
       "    .dataframe tbody tr th:only-of-type {\n",
       "        vertical-align: middle;\n",
       "    }\n",
       "\n",
       "    .dataframe tbody tr th {\n",
       "        vertical-align: top;\n",
       "    }\n",
       "\n",
       "    .dataframe thead th {\n",
       "        text-align: right;\n",
       "    }\n",
       "</style>\n",
       "<table border=\"1\" class=\"dataframe\">\n",
       "  <thead>\n",
       "    <tr style=\"text-align: right;\">\n",
       "      <th></th>\n",
       "      <th>MAE-TS</th>\n",
       "      <th>MAE-CS</th>\n",
       "    </tr>\n",
       "  </thead>\n",
       "  <tbody>\n",
       "    <tr>\n",
       "      <th>error</th>\n",
       "      <td>0.0325</td>\n",
       "      <td>0.0136</td>\n",
       "    </tr>\n",
       "  </tbody>\n",
       "</table>\n",
       "</div>"
      ],
      "text/plain": [
       "       MAE-TS  MAE-CS\n",
       "error  0.0325  0.0136"
      ]
     },
     "metadata": {},
     "output_type": "display_data"
    },
    {
     "name": "stdout",
     "output_type": "stream",
     "text": [
      "\n",
      "STATISTICAL SIGNIFICANCE\n"
     ]
    },
    {
     "data": {
      "text/html": [
       "<div>\n",
       "<style scoped>\n",
       "    .dataframe tbody tr th:only-of-type {\n",
       "        vertical-align: middle;\n",
       "    }\n",
       "\n",
       "    .dataframe tbody tr th {\n",
       "        vertical-align: top;\n",
       "    }\n",
       "\n",
       "    .dataframe thead th {\n",
       "        text-align: right;\n",
       "    }\n",
       "</style>\n",
       "<table border=\"1\" class=\"dataframe\">\n",
       "  <thead>\n",
       "    <tr style=\"text-align: right;\">\n",
       "      <th>time-series</th>\n",
       "      <th>priced</th>\n",
       "      <th>premium</th>\n",
       "    </tr>\n",
       "    <tr>\n",
       "      <th>p-values</th>\n",
       "      <th></th>\n",
       "      <th></th>\n",
       "    </tr>\n",
       "  </thead>\n",
       "  <tbody>\n",
       "    <tr>\n",
       "      <th>MKT</th>\n",
       "      <td>0.0000</td>\n",
       "      <td>0.0003</td>\n",
       "    </tr>\n",
       "    <tr>\n",
       "      <th>SMB</th>\n",
       "      <td>0.0941</td>\n",
       "      <td>0.2147</td>\n",
       "    </tr>\n",
       "    <tr>\n",
       "      <th>HML</th>\n",
       "      <td>0.0740</td>\n",
       "      <td>0.0496</td>\n",
       "    </tr>\n",
       "    <tr>\n",
       "      <th>RMW</th>\n",
       "      <td>0.0000</td>\n",
       "      <td>0.0002</td>\n",
       "    </tr>\n",
       "    <tr>\n",
       "      <th>CMA</th>\n",
       "      <td>0.0000</td>\n",
       "      <td>0.0012</td>\n",
       "    </tr>\n",
       "    <tr>\n",
       "      <th>error</th>\n",
       "      <td>0.0000</td>\n",
       "      <td>NaN</td>\n",
       "    </tr>\n",
       "  </tbody>\n",
       "</table>\n",
       "</div>"
      ],
      "text/plain": [
       "time-series  priced  premium\n",
       "p-values                    \n",
       "MKT          0.0000   0.0003\n",
       "SMB          0.0941   0.2147\n",
       "HML          0.0740   0.0496\n",
       "RMW          0.0000   0.0002\n",
       "CMA          0.0000   0.0012\n",
       "error        0.0000      NaN"
      ]
     },
     "metadata": {},
     "output_type": "display_data"
    },
    {
     "name": "stdout",
     "output_type": "stream",
     "text": [
      "\"premium\" p-value is the usual t-stat on the time-series factor mean.\n",
      "\"priced\" p-value of factor is the t-stat of forming the tangency portfolio.\n",
      "\"priced\" p-value of \"error\" is the joint-chi-squared test of the time-series alphas\n"
     ]
    }
   ],
   "source": [
    "for model in models.keys():\n",
    "    print(f'\\n\\n\\n======================================================')\n",
    "    print(f'{model}: Factor Pricing')\n",
    "    print(f'======================================================\\n\\n\\n')\n",
    "    LFPtests(retsx,facs[models[model]],useIntCS=False,annualization=12)"
   ]
  },
  {
   "cell_type": "markdown",
   "id": "4fe094ee",
   "metadata": {},
   "source": [
    "## Comparing Models"
   ]
  },
  {
   "cell_type": "code",
   "execution_count": 12,
   "id": "0e5b449d",
   "metadata": {},
   "outputs": [
    {
     "data": {
      "text/html": [
       "<div>\n",
       "<style scoped>\n",
       "    .dataframe tbody tr th:only-of-type {\n",
       "        vertical-align: middle;\n",
       "    }\n",
       "\n",
       "    .dataframe tbody tr th {\n",
       "        vertical-align: top;\n",
       "    }\n",
       "\n",
       "    .dataframe thead th {\n",
       "        text-align: right;\n",
       "    }\n",
       "</style>\n",
       "<table border=\"1\" class=\"dataframe\">\n",
       "  <thead>\n",
       "    <tr style=\"text-align: right;\">\n",
       "      <th></th>\n",
       "      <th>CAPM</th>\n",
       "      <th>FF3</th>\n",
       "      <th>AQR</th>\n",
       "      <th>FF5</th>\n",
       "    </tr>\n",
       "    <tr>\n",
       "      <th>MAE</th>\n",
       "      <th></th>\n",
       "      <th></th>\n",
       "      <th></th>\n",
       "      <th></th>\n",
       "    </tr>\n",
       "  </thead>\n",
       "  <tbody>\n",
       "    <tr>\n",
       "      <th>Time-Series</th>\n",
       "      <td>0.0212</td>\n",
       "      <td>0.0253</td>\n",
       "      <td>0.0236</td>\n",
       "      <td>0.0298</td>\n",
       "    </tr>\n",
       "    <tr>\n",
       "      <th>Cross-Section</th>\n",
       "      <td>0.0215</td>\n",
       "      <td>0.0162</td>\n",
       "      <td>0.0169</td>\n",
       "      <td>0.0136</td>\n",
       "    </tr>\n",
       "  </tbody>\n",
       "</table>\n",
       "</div>"
      ],
      "text/plain": [
       "                CAPM    FF3    AQR    FF5\n",
       "MAE                                      \n",
       "Time-Series   0.0212 0.0253 0.0236 0.0298\n",
       "Cross-Section 0.0215 0.0162 0.0169 0.0136"
      ]
     },
     "execution_count": 12,
     "metadata": {},
     "output_type": "execute_result"
    }
   ],
   "source": [
    "mae = pd.DataFrame(columns=models.keys())\n",
    "mae.index.name = 'MAE'\n",
    "\n",
    "r2means = pd.DataFrame(columns=models.keys())\n",
    "r2means.index.name = 'R-squared Means'\n",
    "\n",
    "for model in models.keys():\n",
    "    output = LFPts(retsx,facs[models[model]],annualization=12)\n",
    "    mae.loc['Time-Series',model] = output['stats']['alpha'].mad()\n",
    "    mae.loc['Cross-Section',model] = LFPcs(output['betas'],output['stats']['mean'],useInt=False)['errors'].mad()\n",
    "\n",
    "    r2means.loc['Time-Series',model] = output['stats']['rsquared'].mean()\n",
    "mae"
   ]
  },
  {
   "cell_type": "markdown",
   "id": "24737df5",
   "metadata": {},
   "source": [
    "## Linear Factor Decompositions\n",
    "\n",
    "We see that the time-series r-squared metrics of the assets average below 60% in all models. \n",
    "\n",
    "Notably, they do not increase much with the addition of factors beyond MKT.\n",
    "\n",
    "Thus, while MKT is likely useful in an LFD of these assets, the other factors would not be very useful."
   ]
  },
  {
   "cell_type": "code",
   "execution_count": 13,
   "id": "1aa81757",
   "metadata": {},
   "outputs": [
    {
     "data": {
      "text/html": [
       "<div>\n",
       "<style scoped>\n",
       "    .dataframe tbody tr th:only-of-type {\n",
       "        vertical-align: middle;\n",
       "    }\n",
       "\n",
       "    .dataframe tbody tr th {\n",
       "        vertical-align: top;\n",
       "    }\n",
       "\n",
       "    .dataframe thead th {\n",
       "        text-align: right;\n",
       "    }\n",
       "</style>\n",
       "<table border=\"1\" class=\"dataframe\">\n",
       "  <thead>\n",
       "    <tr style=\"text-align: right;\">\n",
       "      <th></th>\n",
       "      <th>CAPM</th>\n",
       "      <th>FF3</th>\n",
       "      <th>AQR</th>\n",
       "      <th>FF5</th>\n",
       "    </tr>\n",
       "    <tr>\n",
       "      <th>R-squared Means</th>\n",
       "      <th></th>\n",
       "      <th></th>\n",
       "      <th></th>\n",
       "      <th></th>\n",
       "    </tr>\n",
       "  </thead>\n",
       "  <tbody>\n",
       "    <tr>\n",
       "      <th>Time-Series</th>\n",
       "      <td>0.5275</td>\n",
       "      <td>0.5711</td>\n",
       "      <td>0.5757</td>\n",
       "      <td>0.5964</td>\n",
       "    </tr>\n",
       "  </tbody>\n",
       "</table>\n",
       "</div>"
      ],
      "text/plain": [
       "                  CAPM    FF3    AQR    FF5\n",
       "R-squared Means                            \n",
       "Time-Series     0.5275 0.5711 0.5757 0.5964"
      ]
     },
     "execution_count": 13,
     "metadata": {},
     "output_type": "execute_result"
    }
   ],
   "source": [
    "r2means"
   ]
  },
  {
   "cell_type": "markdown",
   "id": "730e2d92",
   "metadata": {},
   "source": [
    "# 4. Extensions\n",
    "\n",
    "## 4.1 Cross-sectional Estimation\n",
    "See above.\n",
    "As expected, the cross-sectional estimation delivers lower MAE due to having extra flexibility in choosing the factor premia.\n",
    "\n",
    "Even without including an intercept in the CS regression, we find that the factor premia differ substantially from the time-series averages of the factors in many cases. \n",
    "\n",
    "* MKT and RMW are similar to the time-series estimate. \n",
    "\n",
    "* SMB, HML, CMA all become negative in the CS estimation! This flexibility is what decreases the MAE substantially. \n",
    "\n",
    "* UMD is much lower in the CS estimation, though still positive.\n",
    "\n",
    "## 4.2 Using LFP Models"
   ]
  },
  {
   "cell_type": "code",
   "execution_count": 14,
   "id": "1e3cb442",
   "metadata": {},
   "outputs": [
    {
     "data": {
      "text/plain": [
       "count   49.0000\n",
       "mean    -0.0025\n",
       "std      0.0062\n",
       "min     -0.0260\n",
       "25%     -0.0055\n",
       "50%     -0.0018\n",
       "75%      0.0008\n",
       "max      0.0130\n",
       "dtype: float64"
      ]
     },
     "execution_count": 14,
     "metadata": {},
     "output_type": "execute_result"
    }
   ],
   "source": [
    "window = 60\n",
    "forecast = LFPfit_rolling(retsx,facs[models['AQR']],window=window).shift()\n",
    "null = retsx.expanding(min_periods=window).mean().shift()\n",
    "\n",
    "r2oos = oos_rsquared(retsx,forecast,null=null)\n",
    "r2oos.describe()"
   ]
  },
  {
   "cell_type": "code",
   "execution_count": 15,
   "id": "fe65ad5c",
   "metadata": {},
   "outputs": [
    {
     "data": {
      "image/png": "[encoded data removed]",
      "text/plain": [
       "<Figure size 720x576 with 1 Axes>"
      ]
     },
     "metadata": {
      "needs_background": "light"
     },
     "output_type": "display_data"
    }
   ],
   "source": [
    "r2oos.plot.bar(figsize=(10,8));"
   ]
  },
  {
   "cell_type": "markdown",
   "id": "d03b3a99",
   "metadata": {},
   "source": [
    "### 4.2b\n",
    "\n",
    "The model does a poor job of forecasting returns as seen by the moslty negative OOS r-squared. The OOS r-squared are all very close to 0."
   ]
  },
  {
   "cell_type": "code",
   "execution_count": 16,
   "id": "cefba860",
   "metadata": {},
   "outputs": [
    {
     "name": "stdout",
     "output_type": "stream",
     "text": [
      "\n",
      "MAX forecasting power for Ships: 0.01\n",
      "MIN forecasting power for Softw: -0.03\n",
      "\n"
     ]
    }
   ],
   "source": [
    "print(f'\\nMAX forecasting power for {r2oos.idxmax()}: {r2oos.max():0.2f}')\n",
    "print(f'MIN forecasting power for {r2oos.idxmin()}: {r2oos.min():0.2f}\\n')"
   ]
  },
  {
   "cell_type": "markdown",
   "id": "95616264",
   "metadata": {},
   "source": [
    "### 4.3c"
   ]
  },
  {
   "cell_type": "code",
   "execution_count": 17,
   "id": "2ad4e249",
   "metadata": {},
   "outputs": [
    {
     "data": {
      "text/html": [
       "<div>\n",
       "<style scoped>\n",
       "    .dataframe tbody tr th:only-of-type {\n",
       "        vertical-align: middle;\n",
       "    }\n",
       "\n",
       "    .dataframe tbody tr th {\n",
       "        vertical-align: top;\n",
       "    }\n",
       "\n",
       "    .dataframe thead th {\n",
       "        text-align: right;\n",
       "    }\n",
       "</style>\n",
       "<table border=\"1\" class=\"dataframe\">\n",
       "  <thead>\n",
       "    <tr style=\"text-align: right;\">\n",
       "      <th></th>\n",
       "      <th>36</th>\n",
       "      <th>60</th>\n",
       "      <th>96</th>\n",
       "    </tr>\n",
       "  </thead>\n",
       "  <tbody>\n",
       "    <tr>\n",
       "      <th>count</th>\n",
       "      <td>49.0000</td>\n",
       "      <td>49.0000</td>\n",
       "      <td>49.0000</td>\n",
       "    </tr>\n",
       "    <tr>\n",
       "      <th>mean</th>\n",
       "      <td>-0.0014</td>\n",
       "      <td>-0.0025</td>\n",
       "      <td>-0.0017</td>\n",
       "    </tr>\n",
       "    <tr>\n",
       "      <th>std</th>\n",
       "      <td>0.0053</td>\n",
       "      <td>0.0062</td>\n",
       "      <td>0.0060</td>\n",
       "    </tr>\n",
       "    <tr>\n",
       "      <th>min</th>\n",
       "      <td>-0.0145</td>\n",
       "      <td>-0.0260</td>\n",
       "      <td>-0.0235</td>\n",
       "    </tr>\n",
       "    <tr>\n",
       "      <th>25%</th>\n",
       "      <td>-0.0044</td>\n",
       "      <td>-0.0055</td>\n",
       "      <td>-0.0039</td>\n",
       "    </tr>\n",
       "    <tr>\n",
       "      <th>50%</th>\n",
       "      <td>-0.0008</td>\n",
       "      <td>-0.0018</td>\n",
       "      <td>-0.0006</td>\n",
       "    </tr>\n",
       "    <tr>\n",
       "      <th>75%</th>\n",
       "      <td>0.0017</td>\n",
       "      <td>0.0008</td>\n",
       "      <td>0.0012</td>\n",
       "    </tr>\n",
       "    <tr>\n",
       "      <th>max</th>\n",
       "      <td>0.0098</td>\n",
       "      <td>0.0130</td>\n",
       "      <td>0.0097</td>\n",
       "    </tr>\n",
       "  </tbody>\n",
       "</table>\n",
       "</div>"
      ],
      "text/plain": [
       "           36      60      96\n",
       "count 49.0000 49.0000 49.0000\n",
       "mean  -0.0014 -0.0025 -0.0017\n",
       "std    0.0053  0.0062  0.0060\n",
       "min   -0.0145 -0.0260 -0.0235\n",
       "25%   -0.0044 -0.0055 -0.0039\n",
       "50%   -0.0008 -0.0018 -0.0006\n",
       "75%    0.0017  0.0008  0.0012\n",
       "max    0.0098  0.0130  0.0097"
      ]
     },
     "execution_count": 17,
     "metadata": {},
     "output_type": "execute_result"
    }
   ],
   "source": [
    "window_choices = [36,60,96]\n",
    "R2oosWindows = pd.DataFrame(columns=window_choices)\n",
    "\n",
    "for window in window_choices:\n",
    "    null = retsx.expanding(min_periods=window).mean().shift()\n",
    "    forecast = LFPfit_rolling(retsx,facs[models['AQR']],window=window).shift()\n",
    "    r2oos = oos_rsquared(retsx,forecast,null=null)\n",
    "    R2oosWindows[window] = r2oos.describe()\n",
    "\n",
    "R2oosWindows"
   ]
  },
  {
   "cell_type": "markdown",
   "id": "ab5b5c55",
   "metadata": {},
   "source": [
    "### 4.2d"
   ]
  },
  {
   "cell_type": "code",
   "execution_count": 18,
   "id": "462f6e96",
   "metadata": {},
   "outputs": [
    {
     "data": {
      "text/html": [
       "<div>\n",
       "<style scoped>\n",
       "    .dataframe tbody tr th:only-of-type {\n",
       "        vertical-align: middle;\n",
       "    }\n",
       "\n",
       "    .dataframe tbody tr th {\n",
       "        vertical-align: top;\n",
       "    }\n",
       "\n",
       "    .dataframe thead th {\n",
       "        text-align: right;\n",
       "    }\n",
       "</style>\n",
       "<table border=\"1\" class=\"dataframe\">\n",
       "  <thead>\n",
       "    <tr style=\"text-align: right;\">\n",
       "      <th></th>\n",
       "      <th>CAPM</th>\n",
       "      <th>FF3</th>\n",
       "      <th>AQR</th>\n",
       "      <th>FF5</th>\n",
       "    </tr>\n",
       "  </thead>\n",
       "  <tbody>\n",
       "    <tr>\n",
       "      <th>count</th>\n",
       "      <td>49.0000</td>\n",
       "      <td>49.0000</td>\n",
       "      <td>49.0000</td>\n",
       "      <td>49.0000</td>\n",
       "    </tr>\n",
       "    <tr>\n",
       "      <th>mean</th>\n",
       "      <td>0.0004</td>\n",
       "      <td>0.0000</td>\n",
       "      <td>-0.0025</td>\n",
       "      <td>-0.0029</td>\n",
       "    </tr>\n",
       "    <tr>\n",
       "      <th>std</th>\n",
       "      <td>0.0039</td>\n",
       "      <td>0.0048</td>\n",
       "      <td>0.0062</td>\n",
       "      <td>0.0071</td>\n",
       "    </tr>\n",
       "    <tr>\n",
       "      <th>min</th>\n",
       "      <td>-0.0099</td>\n",
       "      <td>-0.0177</td>\n",
       "      <td>-0.0260</td>\n",
       "      <td>-0.0205</td>\n",
       "    </tr>\n",
       "    <tr>\n",
       "      <th>25%</th>\n",
       "      <td>-0.0012</td>\n",
       "      <td>-0.0020</td>\n",
       "      <td>-0.0055</td>\n",
       "      <td>-0.0071</td>\n",
       "    </tr>\n",
       "    <tr>\n",
       "      <th>50%</th>\n",
       "      <td>0.0009</td>\n",
       "      <td>0.0006</td>\n",
       "      <td>-0.0018</td>\n",
       "      <td>-0.0022</td>\n",
       "    </tr>\n",
       "    <tr>\n",
       "      <th>75%</th>\n",
       "      <td>0.0028</td>\n",
       "      <td>0.0026</td>\n",
       "      <td>0.0008</td>\n",
       "      <td>0.0019</td>\n",
       "    </tr>\n",
       "    <tr>\n",
       "      <th>max</th>\n",
       "      <td>0.0062</td>\n",
       "      <td>0.0091</td>\n",
       "      <td>0.0130</td>\n",
       "      <td>0.0119</td>\n",
       "    </tr>\n",
       "  </tbody>\n",
       "</table>\n",
       "</div>"
      ],
      "text/plain": [
       "         CAPM     FF3     AQR     FF5\n",
       "count 49.0000 49.0000 49.0000 49.0000\n",
       "mean   0.0004  0.0000 -0.0025 -0.0029\n",
       "std    0.0039  0.0048  0.0062  0.0071\n",
       "min   -0.0099 -0.0177 -0.0260 -0.0205\n",
       "25%   -0.0012 -0.0020 -0.0055 -0.0071\n",
       "50%    0.0009  0.0006 -0.0018 -0.0022\n",
       "75%    0.0028  0.0026  0.0008  0.0019\n",
       "max    0.0062  0.0091  0.0130  0.0119"
      ]
     },
     "execution_count": 18,
     "metadata": {},
     "output_type": "execute_result"
    }
   ],
   "source": [
    "window = 60\n",
    "null = retsx.expanding(min_periods=window).mean().shift()\n",
    "\n",
    "R2oosModels = pd.DataFrame(columns=models.keys())\n",
    "for model in models.keys():\n",
    "    forecast = LFPfit_rolling(retsx,facs[models[model]],window=window).shift()\n",
    "    r2oos = oos_rsquared(retsx,forecast,null=null)\n",
    "    R2oosModels[model] = r2oos.describe()\n",
    "\n",
    "R2oosModels"
   ]
  },
  {
   "cell_type": "markdown",
   "id": "4fb7e8cb",
   "metadata": {},
   "source": [
    "### Results\n",
    "\n",
    "We see that the forecasting power is not good for any of the three windows.\n",
    "\n",
    "Furthermore, it is not strong for any of the models, though the CAPM performs best!\n",
    "\n",
    "Note that this does not prove these models do not work, but it illustrates that they do not work well for these assets, at least when using their time-series-estimated premia."
   ]
  }
 ],
 "metadata": {
  "hide_input": false,
  "kernelspec": {
   "display_name": "Python 3 (ipykernel)",
   "language": "python",
   "name": "python3"
  },
  "language_info": {
   "codemirror_mode": {
    "name": "ipython",
    "version": 3
   },
   "file_extension": ".py",
   "mimetype": "text/x-python",
   "name": "python",
   "nbconvert_exporter": "python",
   "pygments_lexer": "ipython3",
   "version": "3.9.7"
  }
 },
 "nbformat": 4,
 "nbformat_minor": 5
}
