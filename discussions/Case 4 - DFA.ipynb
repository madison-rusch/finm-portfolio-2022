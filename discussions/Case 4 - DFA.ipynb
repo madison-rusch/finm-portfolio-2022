{
 "cells": [
  {
   "cell_type": "code",
   "execution_count": 1,
   "id": "e95261dc",
   "metadata": {},
   "outputs": [],
   "source": [
    "import numpy as np\n",
    "import pandas as pd\n",
    "pd.options.display.float_format = \"{:,.4f}\".format\n",
    "\n",
    "import matplotlib.pyplot as plt\n",
    "import seaborn as sns\n",
    "\n",
    "import statsmodels.api as sm\n",
    "from sklearn.linear_model import LinearRegression\n",
    "\n",
    "from scipy import stats"
   ]
  },
  {
   "cell_type": "code",
   "execution_count": 2,
   "id": "f7734e46",
   "metadata": {},
   "outputs": [],
   "source": [
    "import matplotlib.pyplot as plt\n",
    "%matplotlib inline\n",
    "plt.rcParams['figure.figsize'] = (12,6)\n",
    "plt.rcParams['font.size'] = 15\n",
    "plt.rcParams['legend.fontsize'] = 13"
   ]
  },
  {
   "cell_type": "markdown",
   "id": "d8f57ffd",
   "metadata": {},
   "source": [
    "### This uses factor_pricing.py, which you do not have.\n",
    "### Thus, this notebook is just for demonstration."
   ]
  },
  {
   "cell_type": "code",
   "execution_count": 3,
   "id": "43a486e6",
   "metadata": {},
   "outputs": [],
   "source": [
    "import sys\n",
    "sys.path.insert(0, '../cmds')\n",
    "sys.path.insert(0, '../DEV')\n",
    "from portfolio import *\n",
    "from factor_pricing import *"
   ]
  },
  {
   "cell_type": "markdown",
   "id": "ec353423",
   "metadata": {},
   "source": [
    "# Load Data"
   ]
  },
  {
   "cell_type": "code",
   "execution_count": 4,
   "id": "dee985c4",
   "metadata": {},
   "outputs": [],
   "source": [
    "filepath_data = '../data/dfa_analysis_data.xlsx'\n",
    "info = pd.read_excel(filepath_data,sheet_name='descriptions')\n",
    "info.rename(columns={'Unnamed: 0':'Symbol'},inplace=True)\n",
    "info.set_index('Symbol',inplace=True)\n",
    "\n",
    "facs = pd.read_excel(filepath_data,sheet_name='factors')\n",
    "facs.set_index('Date',inplace=True)\n",
    "rf = facs['RF'].copy()\n",
    "facs.drop(columns=['RF'],inplace=True)"
   ]
  },
  {
   "cell_type": "markdown",
   "id": "65e89fc7",
   "metadata": {},
   "source": [
    "# 2. Factors\n",
    "\n",
    "## 2.1"
   ]
  },
  {
   "cell_type": "code",
   "execution_count": 5,
   "id": "bcc85199",
   "metadata": {},
   "outputs": [
    {
     "name": "stderr",
     "output_type": "stream",
     "text": [
      "/Users/markhendricks/Projects/FINM/finm-portfolio-2022/venv/lib/python3.9/site-packages/IPython/core/interactiveshell.py:3398: UserWarning: Parsing '31/12/1980' in DD/MM/YYYY format. Provide format or specify infer_datetime_format=True for consistent parsing.\n",
      "  exec(code_obj, self.user_global_ns, self.user_ns)\n",
      "/Users/markhendricks/Projects/FINM/finm-portfolio-2022/venv/lib/python3.9/site-packages/IPython/core/interactiveshell.py:3398: UserWarning: Parsing '31/12/2001' in DD/MM/YYYY format. Provide format or specify infer_datetime_format=True for consistent parsing.\n",
      "  exec(code_obj, self.user_global_ns, self.user_ns)\n",
      "/Users/markhendricks/Projects/FINM/finm-portfolio-2022/venv/lib/python3.9/site-packages/IPython/core/interactiveshell.py:3398: UserWarning: Parsing '31/12/1999' in DD/MM/YYYY format. Provide format or specify infer_datetime_format=True for consistent parsing.\n",
      "  exec(code_obj, self.user_global_ns, self.user_ns)\n"
     ]
    }
   ],
   "source": [
    "dts = dict()\n",
    "dts['early'] = pd.date_range(start=facs.index[0], end='31/12/1980',freq='M')\n",
    "dts['founding'] = pd.date_range(start='1/1/1981', end='31/12/2001',freq='M')\n",
    "dts['recent'] = pd.date_range(start='1/1/2002', end=facs.index[-1],freq='M')\n",
    "\n",
    "dts['1990s'] = pd.date_range(start='1/1/1991', end='31/12/1999',freq='M')\n",
    "dts['modern'] = dts['founding'].union(dts['recent'])\n",
    "dts['all'] = facs.index"
   ]
  },
  {
   "cell_type": "code",
   "execution_count": 6,
   "id": "7d918e05",
   "metadata": {},
   "outputs": [
    {
     "name": "stdout",
     "output_type": "stream",
     "text": [
      "\n",
      "========================================================\n",
      "\n",
      "Period: 1926-07-31 00:00:00 to 1980-12-31 00:00:00\n",
      "\n",
      "========================================================\n"
     ]
    },
    {
     "data": {
      "text/html": [
       "<div>\n",
       "<style scoped>\n",
       "    .dataframe tbody tr th:only-of-type {\n",
       "        vertical-align: middle;\n",
       "    }\n",
       "\n",
       "    .dataframe tbody tr th {\n",
       "        vertical-align: top;\n",
       "    }\n",
       "\n",
       "    .dataframe thead th {\n",
       "        text-align: right;\n",
       "    }\n",
       "</style>\n",
       "<table border=\"1\" class=\"dataframe\">\n",
       "  <thead>\n",
       "    <tr style=\"text-align: right;\">\n",
       "      <th></th>\n",
       "      <th>Mean</th>\n",
       "      <th>Vol</th>\n",
       "      <th>Sharpe</th>\n",
       "      <th>Min</th>\n",
       "      <th>Max</th>\n",
       "      <th>VaR (0.05)</th>\n",
       "    </tr>\n",
       "  </thead>\n",
       "  <tbody>\n",
       "    <tr>\n",
       "      <th>Mkt-RF</th>\n",
       "      <td>0.0811</td>\n",
       "      <td>0.2051</td>\n",
       "      <td>0.3957</td>\n",
       "      <td>-0.2913</td>\n",
       "      <td>0.3885</td>\n",
       "      <td>-0.0840</td>\n",
       "    </tr>\n",
       "    <tr>\n",
       "      <th>SMB</th>\n",
       "      <td>0.0340</td>\n",
       "      <td>0.1146</td>\n",
       "      <td>0.2966</td>\n",
       "      <td>-0.0986</td>\n",
       "      <td>0.3656</td>\n",
       "      <td>-0.0434</td>\n",
       "    </tr>\n",
       "    <tr>\n",
       "      <th>HML</th>\n",
       "      <td>0.0495</td>\n",
       "      <td>0.1338</td>\n",
       "      <td>0.3697</td>\n",
       "      <td>-0.1311</td>\n",
       "      <td>0.3561</td>\n",
       "      <td>-0.0429</td>\n",
       "    </tr>\n",
       "  </tbody>\n",
       "</table>\n",
       "</div>"
      ],
      "text/plain": [
       "         Mean    Vol  Sharpe     Min    Max  VaR (0.05)\n",
       "Mkt-RF 0.0811 0.2051  0.3957 -0.2913 0.3885     -0.0840\n",
       "SMB    0.0340 0.1146  0.2966 -0.0986 0.3656     -0.0434\n",
       "HML    0.0495 0.1338  0.3697 -0.1311 0.3561     -0.0429"
      ]
     },
     "metadata": {},
     "output_type": "display_data"
    },
    {
     "name": "stdout",
     "output_type": "stream",
     "text": [
      "\n",
      "========================================================\n",
      "\n",
      "Period: 1981-01-31 00:00:00 to 2001-12-31 00:00:00\n",
      "\n",
      "========================================================\n"
     ]
    },
    {
     "data": {
      "text/html": [
       "<div>\n",
       "<style scoped>\n",
       "    .dataframe tbody tr th:only-of-type {\n",
       "        vertical-align: middle;\n",
       "    }\n",
       "\n",
       "    .dataframe tbody tr th {\n",
       "        vertical-align: top;\n",
       "    }\n",
       "\n",
       "    .dataframe thead th {\n",
       "        text-align: right;\n",
       "    }\n",
       "</style>\n",
       "<table border=\"1\" class=\"dataframe\">\n",
       "  <thead>\n",
       "    <tr style=\"text-align: right;\">\n",
       "      <th></th>\n",
       "      <th>Mean</th>\n",
       "      <th>Vol</th>\n",
       "      <th>Sharpe</th>\n",
       "      <th>Min</th>\n",
       "      <th>Max</th>\n",
       "      <th>VaR (0.05)</th>\n",
       "    </tr>\n",
       "  </thead>\n",
       "  <tbody>\n",
       "    <tr>\n",
       "      <th>Mkt-RF</th>\n",
       "      <td>0.0773</td>\n",
       "      <td>0.1574</td>\n",
       "      <td>0.4908</td>\n",
       "      <td>-0.2324</td>\n",
       "      <td>0.1247</td>\n",
       "      <td>-0.0645</td>\n",
       "    </tr>\n",
       "    <tr>\n",
       "      <th>SMB</th>\n",
       "      <td>-0.0009</td>\n",
       "      <td>0.1184</td>\n",
       "      <td>-0.0074</td>\n",
       "      <td>-0.1723</td>\n",
       "      <td>0.2142</td>\n",
       "      <td>-0.0466</td>\n",
       "    </tr>\n",
       "    <tr>\n",
       "      <th>HML</th>\n",
       "      <td>0.0637</td>\n",
       "      <td>0.1113</td>\n",
       "      <td>0.5727</td>\n",
       "      <td>-0.0970</td>\n",
       "      <td>0.1248</td>\n",
       "      <td>-0.0418</td>\n",
       "    </tr>\n",
       "  </tbody>\n",
       "</table>\n",
       "</div>"
      ],
      "text/plain": [
       "          Mean    Vol  Sharpe     Min    Max  VaR (0.05)\n",
       "Mkt-RF  0.0773 0.1574  0.4908 -0.2324 0.1247     -0.0645\n",
       "SMB    -0.0009 0.1184 -0.0074 -0.1723 0.2142     -0.0466\n",
       "HML     0.0637 0.1113  0.5727 -0.0970 0.1248     -0.0418"
      ]
     },
     "metadata": {},
     "output_type": "display_data"
    },
    {
     "name": "stdout",
     "output_type": "stream",
     "text": [
      "\n",
      "========================================================\n",
      "\n",
      "Period: 2002-01-31 00:00:00 to 2022-08-31 00:00:00\n",
      "\n",
      "========================================================\n"
     ]
    },
    {
     "data": {
      "text/html": [
       "<div>\n",
       "<style scoped>\n",
       "    .dataframe tbody tr th:only-of-type {\n",
       "        vertical-align: middle;\n",
       "    }\n",
       "\n",
       "    .dataframe tbody tr th {\n",
       "        vertical-align: top;\n",
       "    }\n",
       "\n",
       "    .dataframe thead th {\n",
       "        text-align: right;\n",
       "    }\n",
       "</style>\n",
       "<table border=\"1\" class=\"dataframe\">\n",
       "  <thead>\n",
       "    <tr style=\"text-align: right;\">\n",
       "      <th></th>\n",
       "      <th>Mean</th>\n",
       "      <th>Vol</th>\n",
       "      <th>Sharpe</th>\n",
       "      <th>Min</th>\n",
       "      <th>Max</th>\n",
       "      <th>VaR (0.05)</th>\n",
       "    </tr>\n",
       "  </thead>\n",
       "  <tbody>\n",
       "    <tr>\n",
       "      <th>Mkt-RF</th>\n",
       "      <td>0.0833</td>\n",
       "      <td>0.1540</td>\n",
       "      <td>0.5409</td>\n",
       "      <td>-0.1723</td>\n",
       "      <td>0.1365</td>\n",
       "      <td>-0.0788</td>\n",
       "    </tr>\n",
       "    <tr>\n",
       "      <th>SMB</th>\n",
       "      <td>0.0196</td>\n",
       "      <td>0.0858</td>\n",
       "      <td>0.2288</td>\n",
       "      <td>-0.0594</td>\n",
       "      <td>0.0734</td>\n",
       "      <td>-0.0378</td>\n",
       "    </tr>\n",
       "    <tr>\n",
       "      <th>HML</th>\n",
       "      <td>0.0017</td>\n",
       "      <td>0.1045</td>\n",
       "      <td>0.0161</td>\n",
       "      <td>-0.1397</td>\n",
       "      <td>0.1275</td>\n",
       "      <td>-0.0410</td>\n",
       "    </tr>\n",
       "  </tbody>\n",
       "</table>\n",
       "</div>"
      ],
      "text/plain": [
       "         Mean    Vol  Sharpe     Min    Max  VaR (0.05)\n",
       "Mkt-RF 0.0833 0.1540  0.5409 -0.1723 0.1365     -0.0788\n",
       "SMB    0.0196 0.0858  0.2288 -0.0594 0.0734     -0.0378\n",
       "HML    0.0017 0.1045  0.0161 -0.1397 0.1275     -0.0410"
      ]
     },
     "metadata": {},
     "output_type": "display_data"
    },
    {
     "name": "stdout",
     "output_type": "stream",
     "text": [
      "\n",
      "========================================================\n",
      "\n",
      "Period: 1991-01-31 00:00:00 to 1999-12-31 00:00:00\n",
      "\n",
      "========================================================\n"
     ]
    },
    {
     "data": {
      "text/html": [
       "<div>\n",
       "<style scoped>\n",
       "    .dataframe tbody tr th:only-of-type {\n",
       "        vertical-align: middle;\n",
       "    }\n",
       "\n",
       "    .dataframe tbody tr th {\n",
       "        vertical-align: top;\n",
       "    }\n",
       "\n",
       "    .dataframe thead th {\n",
       "        text-align: right;\n",
       "    }\n",
       "</style>\n",
       "<table border=\"1\" class=\"dataframe\">\n",
       "  <thead>\n",
       "    <tr style=\"text-align: right;\">\n",
       "      <th></th>\n",
       "      <th>Mean</th>\n",
       "      <th>Vol</th>\n",
       "      <th>Sharpe</th>\n",
       "      <th>Min</th>\n",
       "      <th>Max</th>\n",
       "      <th>VaR (0.05)</th>\n",
       "    </tr>\n",
       "  </thead>\n",
       "  <tbody>\n",
       "    <tr>\n",
       "      <th>Mkt-RF</th>\n",
       "      <td>0.1554</td>\n",
       "      <td>0.1300</td>\n",
       "      <td>1.1952</td>\n",
       "      <td>-0.1608</td>\n",
       "      <td>0.1084</td>\n",
       "      <td>-0.0418</td>\n",
       "    </tr>\n",
       "    <tr>\n",
       "      <th>SMB</th>\n",
       "      <td>0.0009</td>\n",
       "      <td>0.1052</td>\n",
       "      <td>0.0090</td>\n",
       "      <td>-0.0664</td>\n",
       "      <td>0.0846</td>\n",
       "      <td>-0.0504</td>\n",
       "    </tr>\n",
       "    <tr>\n",
       "      <th>HML</th>\n",
       "      <td>0.0123</td>\n",
       "      <td>0.0936</td>\n",
       "      <td>0.1318</td>\n",
       "      <td>-0.0832</td>\n",
       "      <td>0.0647</td>\n",
       "      <td>-0.0409</td>\n",
       "    </tr>\n",
       "  </tbody>\n",
       "</table>\n",
       "</div>"
      ],
      "text/plain": [
       "         Mean    Vol  Sharpe     Min    Max  VaR (0.05)\n",
       "Mkt-RF 0.1554 0.1300  1.1952 -0.1608 0.1084     -0.0418\n",
       "SMB    0.0009 0.1052  0.0090 -0.0664 0.0846     -0.0504\n",
       "HML    0.0123 0.0936  0.1318 -0.0832 0.0647     -0.0409"
      ]
     },
     "metadata": {},
     "output_type": "display_data"
    },
    {
     "name": "stdout",
     "output_type": "stream",
     "text": [
      "\n",
      "========================================================\n",
      "\n",
      "Period: 1981-01-31 00:00:00 to 2022-08-31 00:00:00\n",
      "\n",
      "========================================================\n"
     ]
    },
    {
     "data": {
      "text/html": [
       "<div>\n",
       "<style scoped>\n",
       "    .dataframe tbody tr th:only-of-type {\n",
       "        vertical-align: middle;\n",
       "    }\n",
       "\n",
       "    .dataframe tbody tr th {\n",
       "        vertical-align: top;\n",
       "    }\n",
       "\n",
       "    .dataframe thead th {\n",
       "        text-align: right;\n",
       "    }\n",
       "</style>\n",
       "<table border=\"1\" class=\"dataframe\">\n",
       "  <thead>\n",
       "    <tr style=\"text-align: right;\">\n",
       "      <th></th>\n",
       "      <th>Mean</th>\n",
       "      <th>Vol</th>\n",
       "      <th>Sharpe</th>\n",
       "      <th>Min</th>\n",
       "      <th>Max</th>\n",
       "      <th>VaR (0.05)</th>\n",
       "    </tr>\n",
       "  </thead>\n",
       "  <tbody>\n",
       "    <tr>\n",
       "      <th>Mkt-RF</th>\n",
       "      <td>0.0802</td>\n",
       "      <td>0.1556</td>\n",
       "      <td>0.5159</td>\n",
       "      <td>-0.2324</td>\n",
       "      <td>0.1365</td>\n",
       "      <td>-0.0728</td>\n",
       "    </tr>\n",
       "    <tr>\n",
       "      <th>SMB</th>\n",
       "      <td>0.0093</td>\n",
       "      <td>0.1035</td>\n",
       "      <td>0.0898</td>\n",
       "      <td>-0.1723</td>\n",
       "      <td>0.2142</td>\n",
       "      <td>-0.0419</td>\n",
       "    </tr>\n",
       "    <tr>\n",
       "      <th>HML</th>\n",
       "      <td>0.0330</td>\n",
       "      <td>0.1082</td>\n",
       "      <td>0.3044</td>\n",
       "      <td>-0.1397</td>\n",
       "      <td>0.1275</td>\n",
       "      <td>-0.0413</td>\n",
       "    </tr>\n",
       "  </tbody>\n",
       "</table>\n",
       "</div>"
      ],
      "text/plain": [
       "         Mean    Vol  Sharpe     Min    Max  VaR (0.05)\n",
       "Mkt-RF 0.0802 0.1556  0.5159 -0.2324 0.1365     -0.0728\n",
       "SMB    0.0093 0.1035  0.0898 -0.1723 0.2142     -0.0419\n",
       "HML    0.0330 0.1082  0.3044 -0.1397 0.1275     -0.0413"
      ]
     },
     "metadata": {},
     "output_type": "display_data"
    },
    {
     "name": "stdout",
     "output_type": "stream",
     "text": [
      "\n",
      "========================================================\n",
      "\n",
      "Period: 1926-07-31 00:00:00 to 2022-08-31 00:00:00\n",
      "\n",
      "========================================================\n"
     ]
    },
    {
     "data": {
      "text/html": [
       "<div>\n",
       "<style scoped>\n",
       "    .dataframe tbody tr th:only-of-type {\n",
       "        vertical-align: middle;\n",
       "    }\n",
       "\n",
       "    .dataframe tbody tr th {\n",
       "        vertical-align: top;\n",
       "    }\n",
       "\n",
       "    .dataframe thead th {\n",
       "        text-align: right;\n",
       "    }\n",
       "</style>\n",
       "<table border=\"1\" class=\"dataframe\">\n",
       "  <thead>\n",
       "    <tr style=\"text-align: right;\">\n",
       "      <th></th>\n",
       "      <th>Mean</th>\n",
       "      <th>Vol</th>\n",
       "      <th>Sharpe</th>\n",
       "      <th>Min</th>\n",
       "      <th>Max</th>\n",
       "      <th>VaR (0.05)</th>\n",
       "    </tr>\n",
       "  </thead>\n",
       "  <tbody>\n",
       "    <tr>\n",
       "      <th>Mkt-RF</th>\n",
       "      <td>0.0808</td>\n",
       "      <td>0.1852</td>\n",
       "      <td>0.4361</td>\n",
       "      <td>-0.2913</td>\n",
       "      <td>0.3885</td>\n",
       "      <td>-0.0796</td>\n",
       "    </tr>\n",
       "    <tr>\n",
       "      <th>SMB</th>\n",
       "      <td>0.0233</td>\n",
       "      <td>0.1099</td>\n",
       "      <td>0.2119</td>\n",
       "      <td>-0.1723</td>\n",
       "      <td>0.3656</td>\n",
       "      <td>-0.0420</td>\n",
       "    </tr>\n",
       "    <tr>\n",
       "      <th>HML</th>\n",
       "      <td>0.0423</td>\n",
       "      <td>0.1234</td>\n",
       "      <td>0.3430</td>\n",
       "      <td>-0.1397</td>\n",
       "      <td>0.3561</td>\n",
       "      <td>-0.0419</td>\n",
       "    </tr>\n",
       "  </tbody>\n",
       "</table>\n",
       "</div>"
      ],
      "text/plain": [
       "         Mean    Vol  Sharpe     Min    Max  VaR (0.05)\n",
       "Mkt-RF 0.0808 0.1852  0.4361 -0.2913 0.3885     -0.0796\n",
       "SMB    0.0233 0.1099  0.2119 -0.1723 0.3656     -0.0420\n",
       "HML    0.0423 0.1234  0.3430 -0.1397 0.3561     -0.0419"
      ]
     },
     "metadata": {},
     "output_type": "display_data"
    }
   ],
   "source": [
    "for era in dts.keys():\n",
    "    print(f'\\n========================================================\\n')\n",
    "    print(f'Period: {dts[era][0]} to {dts[era][-1]}')\n",
    "    print(f'\\n========================================================')\n",
    "    display(performanceMetrics(facs.loc[dts[era]],annualization=12).join(tailMetrics(facs.loc[dts[era]],quantile=.05)['VaR (0.05)']))"
   ]
  },
  {
   "cell_type": "markdown",
   "id": "43d9cdb9",
   "metadata": {},
   "source": [
    "## 2.2\n",
    "Regarding the factor premia, we see that...\n",
    "\n",
    "* SMB premium is small in most subsamples and is negative during 1981-2001.\n",
    "\n",
    "* HML is positive overall and in most subsamples, but it is negative in the post-case sample of 2002-2021.\n",
    "\n",
    "* HML's premium drops substantially starting in the 1990's.\n",
    "\n",
    "* MKT is positive in every subsample, and strongly so."
   ]
  },
  {
   "cell_type": "markdown",
   "id": "0ea2725e",
   "metadata": {},
   "source": [
    "## 2.3\n",
    "\n",
    "The correlations are low relative to most equity portfolios (which tend to have high correlations.)\n",
    "\n",
    "* The correlation between MKT and SMB is relatively low, but definitely positive.\n",
    "\n",
    "* The correlation between MKT and HML is negative since DFA's founding, but it was positive before that, such that the 100-year sample is positive."
   ]
  },
  {
   "cell_type": "code",
   "execution_count": 7,
   "id": "f9ada0a9",
   "metadata": {
    "scrolled": false
   },
   "outputs": [
    {
     "name": "stdout",
     "output_type": "stream",
     "text": [
      "MIN Correlation pair is ('SMB', 'HML')\n",
      "MAX Correlation pair is ('SMB', 'Mkt-RF')\n"
     ]
    },
    {
     "data": {
      "image/png": "[encoded data removed]",
      "text/plain": [
       "<Figure size 864x432 with 2 Axes>"
      ]
     },
     "metadata": {
      "needs_background": "light"
     },
     "output_type": "display_data"
    }
   ],
   "source": [
    "display_correlation(facs.loc[dts['modern']])"
   ]
  },
  {
   "cell_type": "code",
   "execution_count": 8,
   "id": "069f77e1",
   "metadata": {},
   "outputs": [
    {
     "name": "stdout",
     "output_type": "stream",
     "text": [
      "\n",
      "========================================================\n",
      "\n",
      "Period: 1926-07-31 00:00:00 to 1980-12-31 00:00:00\n",
      "\n",
      "========================================================\n"
     ]
    },
    {
     "data": {
      "text/html": [
       "<div>\n",
       "<style scoped>\n",
       "    .dataframe tbody tr th:only-of-type {\n",
       "        vertical-align: middle;\n",
       "    }\n",
       "\n",
       "    .dataframe tbody tr th {\n",
       "        vertical-align: top;\n",
       "    }\n",
       "\n",
       "    .dataframe thead th {\n",
       "        text-align: right;\n",
       "    }\n",
       "</style>\n",
       "<table border=\"1\" class=\"dataframe\">\n",
       "  <thead>\n",
       "    <tr style=\"text-align: right;\">\n",
       "      <th></th>\n",
       "      <th>Mkt-RF</th>\n",
       "      <th>SMB</th>\n",
       "      <th>HML</th>\n",
       "    </tr>\n",
       "  </thead>\n",
       "  <tbody>\n",
       "    <tr>\n",
       "      <th>Mkt-RF</th>\n",
       "      <td>1.0000</td>\n",
       "      <td>0.3663</td>\n",
       "      <td>0.4378</td>\n",
       "    </tr>\n",
       "    <tr>\n",
       "      <th>SMB</th>\n",
       "      <td>0.3663</td>\n",
       "      <td>1.0000</td>\n",
       "      <td>0.3091</td>\n",
       "    </tr>\n",
       "    <tr>\n",
       "      <th>HML</th>\n",
       "      <td>0.4378</td>\n",
       "      <td>0.3091</td>\n",
       "      <td>1.0000</td>\n",
       "    </tr>\n",
       "  </tbody>\n",
       "</table>\n",
       "</div>"
      ],
      "text/plain": [
       "        Mkt-RF    SMB    HML\n",
       "Mkt-RF  1.0000 0.3663 0.4378\n",
       "SMB     0.3663 1.0000 0.3091\n",
       "HML     0.4378 0.3091 1.0000"
      ]
     },
     "metadata": {},
     "output_type": "display_data"
    },
    {
     "name": "stdout",
     "output_type": "stream",
     "text": [
      "\n",
      "========================================================\n",
      "\n",
      "Period: 1981-01-31 00:00:00 to 2001-12-31 00:00:00\n",
      "\n",
      "========================================================\n"
     ]
    },
    {
     "data": {
      "text/html": [
       "<div>\n",
       "<style scoped>\n",
       "    .dataframe tbody tr th:only-of-type {\n",
       "        vertical-align: middle;\n",
       "    }\n",
       "\n",
       "    .dataframe tbody tr th {\n",
       "        vertical-align: top;\n",
       "    }\n",
       "\n",
       "    .dataframe thead th {\n",
       "        text-align: right;\n",
       "    }\n",
       "</style>\n",
       "<table border=\"1\" class=\"dataframe\">\n",
       "  <thead>\n",
       "    <tr style=\"text-align: right;\">\n",
       "      <th></th>\n",
       "      <th>Mkt-RF</th>\n",
       "      <th>SMB</th>\n",
       "      <th>HML</th>\n",
       "    </tr>\n",
       "  </thead>\n",
       "  <tbody>\n",
       "    <tr>\n",
       "      <th>Mkt-RF</th>\n",
       "      <td>1.0000</td>\n",
       "      <td>0.1643</td>\n",
       "      <td>-0.5268</td>\n",
       "    </tr>\n",
       "    <tr>\n",
       "      <th>SMB</th>\n",
       "      <td>0.1643</td>\n",
       "      <td>1.0000</td>\n",
       "      <td>-0.4548</td>\n",
       "    </tr>\n",
       "    <tr>\n",
       "      <th>HML</th>\n",
       "      <td>-0.5268</td>\n",
       "      <td>-0.4548</td>\n",
       "      <td>1.0000</td>\n",
       "    </tr>\n",
       "  </tbody>\n",
       "</table>\n",
       "</div>"
      ],
      "text/plain": [
       "        Mkt-RF     SMB     HML\n",
       "Mkt-RF  1.0000  0.1643 -0.5268\n",
       "SMB     0.1643  1.0000 -0.4548\n",
       "HML    -0.5268 -0.4548  1.0000"
      ]
     },
     "metadata": {},
     "output_type": "display_data"
    },
    {
     "name": "stdout",
     "output_type": "stream",
     "text": [
      "\n",
      "========================================================\n",
      "\n",
      "Period: 2002-01-31 00:00:00 to 2022-08-31 00:00:00\n",
      "\n",
      "========================================================\n"
     ]
    },
    {
     "data": {
      "text/html": [
       "<div>\n",
       "<style scoped>\n",
       "    .dataframe tbody tr th:only-of-type {\n",
       "        vertical-align: middle;\n",
       "    }\n",
       "\n",
       "    .dataframe tbody tr th {\n",
       "        vertical-align: top;\n",
       "    }\n",
       "\n",
       "    .dataframe thead th {\n",
       "        text-align: right;\n",
       "    }\n",
       "</style>\n",
       "<table border=\"1\" class=\"dataframe\">\n",
       "  <thead>\n",
       "    <tr style=\"text-align: right;\">\n",
       "      <th></th>\n",
       "      <th>Mkt-RF</th>\n",
       "      <th>SMB</th>\n",
       "      <th>HML</th>\n",
       "    </tr>\n",
       "  </thead>\n",
       "  <tbody>\n",
       "    <tr>\n",
       "      <th>Mkt-RF</th>\n",
       "      <td>1.0000</td>\n",
       "      <td>0.3162</td>\n",
       "      <td>0.1317</td>\n",
       "    </tr>\n",
       "    <tr>\n",
       "      <th>SMB</th>\n",
       "      <td>0.3162</td>\n",
       "      <td>1.0000</td>\n",
       "      <td>0.0929</td>\n",
       "    </tr>\n",
       "    <tr>\n",
       "      <th>HML</th>\n",
       "      <td>0.1317</td>\n",
       "      <td>0.0929</td>\n",
       "      <td>1.0000</td>\n",
       "    </tr>\n",
       "  </tbody>\n",
       "</table>\n",
       "</div>"
      ],
      "text/plain": [
       "        Mkt-RF    SMB    HML\n",
       "Mkt-RF  1.0000 0.3162 0.1317\n",
       "SMB     0.3162 1.0000 0.0929\n",
       "HML     0.1317 0.0929 1.0000"
      ]
     },
     "metadata": {},
     "output_type": "display_data"
    },
    {
     "name": "stdout",
     "output_type": "stream",
     "text": [
      "\n",
      "========================================================\n",
      "\n",
      "Period: 1991-01-31 00:00:00 to 1999-12-31 00:00:00\n",
      "\n",
      "========================================================\n"
     ]
    },
    {
     "data": {
      "text/html": [
       "<div>\n",
       "<style scoped>\n",
       "    .dataframe tbody tr th:only-of-type {\n",
       "        vertical-align: middle;\n",
       "    }\n",
       "\n",
       "    .dataframe tbody tr th {\n",
       "        vertical-align: top;\n",
       "    }\n",
       "\n",
       "    .dataframe thead th {\n",
       "        text-align: right;\n",
       "    }\n",
       "</style>\n",
       "<table border=\"1\" class=\"dataframe\">\n",
       "  <thead>\n",
       "    <tr style=\"text-align: right;\">\n",
       "      <th></th>\n",
       "      <th>Mkt-RF</th>\n",
       "      <th>SMB</th>\n",
       "      <th>HML</th>\n",
       "    </tr>\n",
       "  </thead>\n",
       "  <tbody>\n",
       "    <tr>\n",
       "      <th>Mkt-RF</th>\n",
       "      <td>1.0000</td>\n",
       "      <td>0.1316</td>\n",
       "      <td>-0.4498</td>\n",
       "    </tr>\n",
       "    <tr>\n",
       "      <th>SMB</th>\n",
       "      <td>0.1316</td>\n",
       "      <td>1.0000</td>\n",
       "      <td>-0.3305</td>\n",
       "    </tr>\n",
       "    <tr>\n",
       "      <th>HML</th>\n",
       "      <td>-0.4498</td>\n",
       "      <td>-0.3305</td>\n",
       "      <td>1.0000</td>\n",
       "    </tr>\n",
       "  </tbody>\n",
       "</table>\n",
       "</div>"
      ],
      "text/plain": [
       "        Mkt-RF     SMB     HML\n",
       "Mkt-RF  1.0000  0.1316 -0.4498\n",
       "SMB     0.1316  1.0000 -0.3305\n",
       "HML    -0.4498 -0.3305  1.0000"
      ]
     },
     "metadata": {},
     "output_type": "display_data"
    },
    {
     "name": "stdout",
     "output_type": "stream",
     "text": [
      "\n",
      "========================================================\n",
      "\n",
      "Period: 1981-01-31 00:00:00 to 2022-08-31 00:00:00\n",
      "\n",
      "========================================================\n"
     ]
    },
    {
     "data": {
      "text/html": [
       "<div>\n",
       "<style scoped>\n",
       "    .dataframe tbody tr th:only-of-type {\n",
       "        vertical-align: middle;\n",
       "    }\n",
       "\n",
       "    .dataframe tbody tr th {\n",
       "        vertical-align: top;\n",
       "    }\n",
       "\n",
       "    .dataframe thead th {\n",
       "        text-align: right;\n",
       "    }\n",
       "</style>\n",
       "<table border=\"1\" class=\"dataframe\">\n",
       "  <thead>\n",
       "    <tr style=\"text-align: right;\">\n",
       "      <th></th>\n",
       "      <th>Mkt-RF</th>\n",
       "      <th>SMB</th>\n",
       "      <th>HML</th>\n",
       "    </tr>\n",
       "  </thead>\n",
       "  <tbody>\n",
       "    <tr>\n",
       "      <th>Mkt-RF</th>\n",
       "      <td>1.0000</td>\n",
       "      <td>0.2243</td>\n",
       "      <td>-0.2138</td>\n",
       "    </tr>\n",
       "    <tr>\n",
       "      <th>SMB</th>\n",
       "      <td>0.2243</td>\n",
       "      <td>1.0000</td>\n",
       "      <td>-0.2348</td>\n",
       "    </tr>\n",
       "    <tr>\n",
       "      <th>HML</th>\n",
       "      <td>-0.2138</td>\n",
       "      <td>-0.2348</td>\n",
       "      <td>1.0000</td>\n",
       "    </tr>\n",
       "  </tbody>\n",
       "</table>\n",
       "</div>"
      ],
      "text/plain": [
       "        Mkt-RF     SMB     HML\n",
       "Mkt-RF  1.0000  0.2243 -0.2138\n",
       "SMB     0.2243  1.0000 -0.2348\n",
       "HML    -0.2138 -0.2348  1.0000"
      ]
     },
     "metadata": {},
     "output_type": "display_data"
    },
    {
     "name": "stdout",
     "output_type": "stream",
     "text": [
      "\n",
      "========================================================\n",
      "\n",
      "Period: 1926-07-31 00:00:00 to 2022-08-31 00:00:00\n",
      "\n",
      "========================================================\n"
     ]
    },
    {
     "data": {
      "text/html": [
       "<div>\n",
       "<style scoped>\n",
       "    .dataframe tbody tr th:only-of-type {\n",
       "        vertical-align: middle;\n",
       "    }\n",
       "\n",
       "    .dataframe tbody tr th {\n",
       "        vertical-align: top;\n",
       "    }\n",
       "\n",
       "    .dataframe thead th {\n",
       "        text-align: right;\n",
       "    }\n",
       "</style>\n",
       "<table border=\"1\" class=\"dataframe\">\n",
       "  <thead>\n",
       "    <tr style=\"text-align: right;\">\n",
       "      <th></th>\n",
       "      <th>Mkt-RF</th>\n",
       "      <th>SMB</th>\n",
       "      <th>HML</th>\n",
       "    </tr>\n",
       "  </thead>\n",
       "  <tbody>\n",
       "    <tr>\n",
       "      <th>Mkt-RF</th>\n",
       "      <td>1.0000</td>\n",
       "      <td>0.3163</td>\n",
       "      <td>0.2297</td>\n",
       "    </tr>\n",
       "    <tr>\n",
       "      <th>SMB</th>\n",
       "      <td>0.3163</td>\n",
       "      <td>1.0000</td>\n",
       "      <td>0.1147</td>\n",
       "    </tr>\n",
       "    <tr>\n",
       "      <th>HML</th>\n",
       "      <td>0.2297</td>\n",
       "      <td>0.1147</td>\n",
       "      <td>1.0000</td>\n",
       "    </tr>\n",
       "  </tbody>\n",
       "</table>\n",
       "</div>"
      ],
      "text/plain": [
       "        Mkt-RF    SMB    HML\n",
       "Mkt-RF  1.0000 0.3163 0.2297\n",
       "SMB     0.3163 1.0000 0.1147\n",
       "HML     0.2297 0.1147 1.0000"
      ]
     },
     "metadata": {},
     "output_type": "display_data"
    }
   ],
   "source": [
    "for era in dts.keys():\n",
    "    print(f'\\n========================================================\\n')\n",
    "    print(f'Period: {dts[era][0]} to {dts[era][-1]}')\n",
    "    print(f'\\n========================================================')\n",
    "    display(facs.loc[dts[era]].corr())"
   ]
  },
  {
   "cell_type": "markdown",
   "id": "f08202fc",
   "metadata": {},
   "source": [
    "## 2.4"
   ]
  },
  {
   "cell_type": "code",
   "execution_count": 9,
   "id": "0c2584c2",
   "metadata": {},
   "outputs": [
    {
     "data": {
      "text/plain": [
       "<AxesSubplot:>"
      ]
     },
     "metadata": {},
     "output_type": "display_data"
    },
    {
     "data": {
      "text/plain": [
       "<AxesSubplot:>"
      ]
     },
     "metadata": {},
     "output_type": "display_data"
    },
    {
     "data": {
      "image/png": "[encoded data removed]",
      "text/plain": [
       "<Figure size 864x432 with 1 Axes>"
      ]
     },
     "metadata": {
      "needs_background": "light"
     },
     "output_type": "display_data"
    },
    {
     "data": {
      "image/png": "[encoded data removed]",
      "text/plain": [
       "<Figure size 864x432 with 1 Axes>"
      ]
     },
     "metadata": {
      "needs_background": "light"
     },
     "output_type": "display_data"
    }
   ],
   "source": [
    "display((1+facs.loc[dts['founding']]).cumprod().plot());\n",
    "display((1+facs.loc[dts['recent']]).cumprod().plot());"
   ]
  },
  {
   "cell_type": "markdown",
   "id": "ae54f196",
   "metadata": {},
   "source": [
    "* The plots above show that HML had high returns in the era of the case: 1981-2001.\n",
    "\n",
    "* In the post-case period (2002-2021) HML has a negative mean return. Nonetheless, it may be valuable given that it has negative correlation to MKT during this time.\n",
    "\n",
    "* However, SMB has small or negative returns in this period while being positively correlated to MKT. Thus, it may be reasonable to drop SMB.\n",
    "\n",
    "## Tangency Weights of Factors\n",
    "\n",
    "Another way to consider whether all three factors matter is to remember that if a factor prices, then by the Fundamental Theorem of Asset Pricing it must be part of the tangency portfolio.\n",
    "\n",
    "Calculate the tangency portfolio formed by the factors. Do they all get substantial weight?\n",
    "We see that SMB has very little weight in the three-factor Tangency portfolio.\n",
    "\n",
    "Thus, we again see that SMB may be unnecessary."
   ]
  },
  {
   "cell_type": "code",
   "execution_count": 10,
   "id": "1485cbc6",
   "metadata": {},
   "outputs": [
    {
     "data": {
      "image/png": "[encoded data removed]",
      "text/plain": [
       "<Figure size 576x288 with 1 Axes>"
      ]
     },
     "metadata": {
      "needs_background": "light"
     },
     "output_type": "display_data"
    }
   ],
   "source": [
    "fig = plt.figure(figsize=(8,4))\n",
    "ax1=fig.add_subplot(1,1,1)\n",
    "tangency_weights(facs.loc[dts['modern']]).plot.bar(ax=ax1,title='Tangency Weights');\n",
    "plt.legend([]);"
   ]
  },
  {
   "cell_type": "markdown",
   "id": "d193961d",
   "metadata": {},
   "source": [
    "# 3. CAPM\n",
    "\n",
    "## 3.1"
   ]
  },
  {
   "cell_type": "code",
   "execution_count": 11,
   "id": "caf0240c",
   "metadata": {},
   "outputs": [],
   "source": [
    "# load data\n",
    "rets = pd.read_excel(filepath_data,sheet_name='portfolios (total returns)')\n",
    "rets.set_index('Date',inplace=True)"
   ]
  },
  {
   "cell_type": "code",
   "execution_count": 12,
   "id": "411c8996",
   "metadata": {},
   "outputs": [],
   "source": [
    "# excess portfolio returns\n",
    "retsx = rets.subtract(rf,axis=0)\n",
    "# subsample of modern\n",
    "facsT = facs.loc[dts['modern']]\n",
    "retsxT = retsx.loc[dts['modern']]"
   ]
  },
  {
   "cell_type": "code",
   "execution_count": 13,
   "id": "ea5ef9c3",
   "metadata": {},
   "outputs": [
    {
     "data": {
      "text/html": [
       "<div>\n",
       "<style scoped>\n",
       "    .dataframe tbody tr th:only-of-type {\n",
       "        vertical-align: middle;\n",
       "    }\n",
       "\n",
       "    .dataframe tbody tr th {\n",
       "        vertical-align: top;\n",
       "    }\n",
       "\n",
       "    .dataframe thead th {\n",
       "        text-align: right;\n",
       "    }\n",
       "</style>\n",
       "<table border=\"1\" class=\"dataframe\">\n",
       "  <thead>\n",
       "    <tr style=\"text-align: right;\">\n",
       "      <th></th>\n",
       "      <th>Mean</th>\n",
       "      <th>Vol</th>\n",
       "      <th>Sharpe</th>\n",
       "      <th>Min</th>\n",
       "      <th>Max</th>\n",
       "      <th>VaR (0.05)</th>\n",
       "    </tr>\n",
       "  </thead>\n",
       "  <tbody>\n",
       "    <tr>\n",
       "      <th>SMALL LoBM</th>\n",
       "      <td>0.0105</td>\n",
       "      <td>0.2724</td>\n",
       "      <td>0.0384</td>\n",
       "      <td>-0.3499</td>\n",
       "      <td>0.3734</td>\n",
       "      <td>-0.1165</td>\n",
       "    </tr>\n",
       "    <tr>\n",
       "      <th>ME1 BM2</th>\n",
       "      <td>0.0957</td>\n",
       "      <td>0.2359</td>\n",
       "      <td>0.4058</td>\n",
       "      <td>-0.3143</td>\n",
       "      <td>0.4232</td>\n",
       "      <td>-0.0976</td>\n",
       "    </tr>\n",
       "    <tr>\n",
       "      <th>ME1 BM3</th>\n",
       "      <td>0.0929</td>\n",
       "      <td>0.1972</td>\n",
       "      <td>0.4711</td>\n",
       "      <td>-0.2970</td>\n",
       "      <td>0.2133</td>\n",
       "      <td>-0.0864</td>\n",
       "    </tr>\n",
       "    <tr>\n",
       "      <th>ME1 BM4</th>\n",
       "      <td>0.1200</td>\n",
       "      <td>0.1914</td>\n",
       "      <td>0.6270</td>\n",
       "      <td>-0.2934</td>\n",
       "      <td>0.2583</td>\n",
       "      <td>-0.0752</td>\n",
       "    </tr>\n",
       "    <tr>\n",
       "      <th>SMALL HiBM</th>\n",
       "      <td>0.1321</td>\n",
       "      <td>0.2077</td>\n",
       "      <td>0.6361</td>\n",
       "      <td>-0.2931</td>\n",
       "      <td>0.4150</td>\n",
       "      <td>-0.0883</td>\n",
       "    </tr>\n",
       "    <tr>\n",
       "      <th>ME2 BM1</th>\n",
       "      <td>0.0603</td>\n",
       "      <td>0.2457</td>\n",
       "      <td>0.2453</td>\n",
       "      <td>-0.3323</td>\n",
       "      <td>0.2773</td>\n",
       "      <td>-0.1046</td>\n",
       "    </tr>\n",
       "    <tr>\n",
       "      <th>ME2 BM2</th>\n",
       "      <td>0.1006</td>\n",
       "      <td>0.2032</td>\n",
       "      <td>0.4953</td>\n",
       "      <td>-0.3254</td>\n",
       "      <td>0.1926</td>\n",
       "      <td>-0.0840</td>\n",
       "    </tr>\n",
       "    <tr>\n",
       "      <th>ME2 BM3</th>\n",
       "      <td>0.1066</td>\n",
       "      <td>0.1831</td>\n",
       "      <td>0.5824</td>\n",
       "      <td>-0.2914</td>\n",
       "      <td>0.1742</td>\n",
       "      <td>-0.0787</td>\n",
       "    </tr>\n",
       "    <tr>\n",
       "      <th>ME2 BM4</th>\n",
       "      <td>0.1077</td>\n",
       "      <td>0.1792</td>\n",
       "      <td>0.6012</td>\n",
       "      <td>-0.2526</td>\n",
       "      <td>0.1880</td>\n",
       "      <td>-0.0764</td>\n",
       "    </tr>\n",
       "    <tr>\n",
       "      <th>ME2 BM5</th>\n",
       "      <td>0.1181</td>\n",
       "      <td>0.2120</td>\n",
       "      <td>0.5571</td>\n",
       "      <td>-0.3238</td>\n",
       "      <td>0.2630</td>\n",
       "      <td>-0.0942</td>\n",
       "    </tr>\n",
       "    <tr>\n",
       "      <th>ME3 BM1</th>\n",
       "      <td>0.0708</td>\n",
       "      <td>0.2259</td>\n",
       "      <td>0.3135</td>\n",
       "      <td>-0.3044</td>\n",
       "      <td>0.2261</td>\n",
       "      <td>-0.1023</td>\n",
       "    </tr>\n",
       "    <tr>\n",
       "      <th>ME3 BM2</th>\n",
       "      <td>0.1078</td>\n",
       "      <td>0.1874</td>\n",
       "      <td>0.5753</td>\n",
       "      <td>-0.2948</td>\n",
       "      <td>0.1911</td>\n",
       "      <td>-0.0786</td>\n",
       "    </tr>\n",
       "    <tr>\n",
       "      <th>ME3 BM3</th>\n",
       "      <td>0.0918</td>\n",
       "      <td>0.1702</td>\n",
       "      <td>0.5392</td>\n",
       "      <td>-0.2537</td>\n",
       "      <td>0.1666</td>\n",
       "      <td>-0.0738</td>\n",
       "    </tr>\n",
       "    <tr>\n",
       "      <th>ME3 BM4</th>\n",
       "      <td>0.1080</td>\n",
       "      <td>0.1771</td>\n",
       "      <td>0.6097</td>\n",
       "      <td>-0.2708</td>\n",
       "      <td>0.1667</td>\n",
       "      <td>-0.0720</td>\n",
       "    </tr>\n",
       "    <tr>\n",
       "      <th>ME3 BM5</th>\n",
       "      <td>0.1249</td>\n",
       "      <td>0.1987</td>\n",
       "      <td>0.6282</td>\n",
       "      <td>-0.3138</td>\n",
       "      <td>0.2307</td>\n",
       "      <td>-0.0824</td>\n",
       "    </tr>\n",
       "    <tr>\n",
       "      <th>ME4 BM1</th>\n",
       "      <td>0.0927</td>\n",
       "      <td>0.2036</td>\n",
       "      <td>0.4551</td>\n",
       "      <td>-0.2657</td>\n",
       "      <td>0.2545</td>\n",
       "      <td>-0.0839</td>\n",
       "    </tr>\n",
       "    <tr>\n",
       "      <th>ME4 BM2</th>\n",
       "      <td>0.0945</td>\n",
       "      <td>0.1770</td>\n",
       "      <td>0.5341</td>\n",
       "      <td>-0.2979</td>\n",
       "      <td>0.1578</td>\n",
       "      <td>-0.0734</td>\n",
       "    </tr>\n",
       "    <tr>\n",
       "      <th>ME4 BM3</th>\n",
       "      <td>0.0936</td>\n",
       "      <td>0.1733</td>\n",
       "      <td>0.5402</td>\n",
       "      <td>-0.2504</td>\n",
       "      <td>0.1678</td>\n",
       "      <td>-0.0756</td>\n",
       "    </tr>\n",
       "    <tr>\n",
       "      <th>ME4 BM4</th>\n",
       "      <td>0.0998</td>\n",
       "      <td>0.1733</td>\n",
       "      <td>0.5756</td>\n",
       "      <td>-0.3287</td>\n",
       "      <td>0.1643</td>\n",
       "      <td>-0.0693</td>\n",
       "    </tr>\n",
       "    <tr>\n",
       "      <th>ME4 BM5</th>\n",
       "      <td>0.1120</td>\n",
       "      <td>0.1968</td>\n",
       "      <td>0.5693</td>\n",
       "      <td>-0.3261</td>\n",
       "      <td>0.2042</td>\n",
       "      <td>-0.0833</td>\n",
       "    </tr>\n",
       "    <tr>\n",
       "      <th>BIG LoBM</th>\n",
       "      <td>0.0889</td>\n",
       "      <td>0.1632</td>\n",
       "      <td>0.5447</td>\n",
       "      <td>-0.2226</td>\n",
       "      <td>0.1501</td>\n",
       "      <td>-0.0753</td>\n",
       "    </tr>\n",
       "    <tr>\n",
       "      <th>ME5 BM2</th>\n",
       "      <td>0.0816</td>\n",
       "      <td>0.1549</td>\n",
       "      <td>0.5271</td>\n",
       "      <td>-0.2306</td>\n",
       "      <td>0.1611</td>\n",
       "      <td>-0.0656</td>\n",
       "    </tr>\n",
       "    <tr>\n",
       "      <th>ME5 BM3</th>\n",
       "      <td>0.0811</td>\n",
       "      <td>0.1523</td>\n",
       "      <td>0.5324</td>\n",
       "      <td>-0.2250</td>\n",
       "      <td>0.1425</td>\n",
       "      <td>-0.0704</td>\n",
       "    </tr>\n",
       "    <tr>\n",
       "      <th>ME5 BM4</th>\n",
       "      <td>0.0671</td>\n",
       "      <td>0.1703</td>\n",
       "      <td>0.3943</td>\n",
       "      <td>-0.2756</td>\n",
       "      <td>0.1607</td>\n",
       "      <td>-0.0756</td>\n",
       "    </tr>\n",
       "    <tr>\n",
       "      <th>BIG HiBM</th>\n",
       "      <td>0.0963</td>\n",
       "      <td>0.2058</td>\n",
       "      <td>0.4681</td>\n",
       "      <td>-0.2853</td>\n",
       "      <td>0.2197</td>\n",
       "      <td>-0.0985</td>\n",
       "    </tr>\n",
       "  </tbody>\n",
       "</table>\n",
       "</div>"
      ],
      "text/plain": [
       "             Mean    Vol  Sharpe     Min    Max  VaR (0.05)\n",
       "SMALL LoBM 0.0105 0.2724  0.0384 -0.3499 0.3734     -0.1165\n",
       "ME1 BM2    0.0957 0.2359  0.4058 -0.3143 0.4232     -0.0976\n",
       "ME1 BM3    0.0929 0.1972  0.4711 -0.2970 0.2133     -0.0864\n",
       "ME1 BM4    0.1200 0.1914  0.6270 -0.2934 0.2583     -0.0752\n",
       "SMALL HiBM 0.1321 0.2077  0.6361 -0.2931 0.4150     -0.0883\n",
       "ME2 BM1    0.0603 0.2457  0.2453 -0.3323 0.2773     -0.1046\n",
       "ME2 BM2    0.1006 0.2032  0.4953 -0.3254 0.1926     -0.0840\n",
       "ME2 BM3    0.1066 0.1831  0.5824 -0.2914 0.1742     -0.0787\n",
       "ME2 BM4    0.1077 0.1792  0.6012 -0.2526 0.1880     -0.0764\n",
       "ME2 BM5    0.1181 0.2120  0.5571 -0.3238 0.2630     -0.0942\n",
       "ME3 BM1    0.0708 0.2259  0.3135 -0.3044 0.2261     -0.1023\n",
       "ME3 BM2    0.1078 0.1874  0.5753 -0.2948 0.1911     -0.0786\n",
       "ME3 BM3    0.0918 0.1702  0.5392 -0.2537 0.1666     -0.0738\n",
       "ME3 BM4    0.1080 0.1771  0.6097 -0.2708 0.1667     -0.0720\n",
       "ME3 BM5    0.1249 0.1987  0.6282 -0.3138 0.2307     -0.0824\n",
       "ME4 BM1    0.0927 0.2036  0.4551 -0.2657 0.2545     -0.0839\n",
       "ME4 BM2    0.0945 0.1770  0.5341 -0.2979 0.1578     -0.0734\n",
       "ME4 BM3    0.0936 0.1733  0.5402 -0.2504 0.1678     -0.0756\n",
       "ME4 BM4    0.0998 0.1733  0.5756 -0.3287 0.1643     -0.0693\n",
       "ME4 BM5    0.1120 0.1968  0.5693 -0.3261 0.2042     -0.0833\n",
       "BIG LoBM   0.0889 0.1632  0.5447 -0.2226 0.1501     -0.0753\n",
       "ME5 BM2    0.0816 0.1549  0.5271 -0.2306 0.1611     -0.0656\n",
       "ME5 BM3    0.0811 0.1523  0.5324 -0.2250 0.1425     -0.0704\n",
       "ME5 BM4    0.0671 0.1703  0.3943 -0.2756 0.1607     -0.0756\n",
       "BIG HiBM   0.0963 0.2058  0.4681 -0.2853 0.2197     -0.0985"
      ]
     },
     "metadata": {},
     "output_type": "display_data"
    }
   ],
   "source": [
    "mets = performanceMetrics(retsxT,annualization=12)\n",
    "tail = tailMetrics(retsxT)\n",
    "\n",
    "display(mets.join(tail['VaR (0.05)']))"
   ]
  },
  {
   "cell_type": "markdown",
   "id": "d81248a4",
   "metadata": {},
   "source": [
    "## Explaining premia by risk metrics"
   ]
  },
  {
   "cell_type": "code",
   "execution_count": 14,
   "id": "f74247d2",
   "metadata": {
    "scrolled": false
   },
   "outputs": [
    {
     "data": {
      "image/png": "[encoded data removed]",
      "text/plain": [
       "<Figure size 864x432 with 1 Axes>"
      ]
     },
     "metadata": {
      "needs_background": "light"
     },
     "output_type": "display_data"
    },
    {
     "data": {
      "image/png": "[encoded data removed]",
      "text/plain": [
       "<Figure size 864x432 with 1 Axes>"
      ]
     },
     "metadata": {
      "needs_background": "light"
     },
     "output_type": "display_data"
    },
    {
     "data": {
      "image/png": "[encoded data removed]",
      "text/plain": [
       "<Figure size 864x432 with 1 Axes>"
      ]
     },
     "metadata": {
      "needs_background": "light"
     },
     "output_type": "display_data"
    },
    {
     "data": {
      "image/png": "[encoded data removed]",
      "text/plain": [
       "<Figure size 864x432 with 1 Axes>"
      ]
     },
     "metadata": {
      "needs_background": "light"
     },
     "output_type": "display_data"
    }
   ],
   "source": [
    "lfd = get_ols_metrics(facsT['Mkt-RF'],retsxT,annualization=12)\n",
    "\n",
    "mets['Beta'] = lfd[['Mkt-RF']]\n",
    "mets['VaR'] = tail[['VaR (0.05)']]\n",
    "mets['Skew'] = tail[['Skewness']]\n",
    "\n",
    "mets.plot.scatter(x='Vol',y='Mean');\n",
    "mets.plot.scatter(x='VaR',y='Mean');\n",
    "mets.plot.scatter(x='Skew',y='Mean');\n",
    "mets.plot.scatter(x='Beta',y='Mean');"
   ]
  },
  {
   "cell_type": "markdown",
   "id": "77af4d2b",
   "metadata": {},
   "source": [
    "## 3.2 CAPM Tests: Time-Series Metrics"
   ]
  },
  {
   "cell_type": "code",
   "execution_count": 15,
   "id": "50200b1e",
   "metadata": {},
   "outputs": [
    {
     "data": {
      "text/html": [
       "<div>\n",
       "<style scoped>\n",
       "    .dataframe tbody tr th:only-of-type {\n",
       "        vertical-align: middle;\n",
       "    }\n",
       "\n",
       "    .dataframe tbody tr th {\n",
       "        vertical-align: top;\n",
       "    }\n",
       "\n",
       "    .dataframe thead th {\n",
       "        text-align: right;\n",
       "    }\n",
       "</style>\n",
       "<table border=\"1\" class=\"dataframe\">\n",
       "  <thead>\n",
       "    <tr style=\"text-align: right;\">\n",
       "      <th></th>\n",
       "      <th>alpha</th>\n",
       "      <th>Mkt-RF</th>\n",
       "      <th>r-squared</th>\n",
       "      <th>Treynor Ratio</th>\n",
       "      <th>Info Ratio</th>\n",
       "    </tr>\n",
       "  </thead>\n",
       "  <tbody>\n",
       "    <tr>\n",
       "      <th>SMALL LoBM</th>\n",
       "      <td>-0.0987</td>\n",
       "      <td>1.3600</td>\n",
       "      <td>0.6031</td>\n",
       "      <td>0.0077</td>\n",
       "      <td>-0.5750</td>\n",
       "    </tr>\n",
       "    <tr>\n",
       "      <th>ME1 BM2</th>\n",
       "      <td>0.0018</td>\n",
       "      <td>1.1702</td>\n",
       "      <td>0.5954</td>\n",
       "      <td>0.0818</td>\n",
       "      <td>0.0122</td>\n",
       "    </tr>\n",
       "    <tr>\n",
       "      <th>ME1 BM3</th>\n",
       "      <td>0.0097</td>\n",
       "      <td>1.0365</td>\n",
       "      <td>0.6684</td>\n",
       "      <td>0.0896</td>\n",
       "      <td>0.0857</td>\n",
       "    </tr>\n",
       "    <tr>\n",
       "      <th>ME1 BM4</th>\n",
       "      <td>0.0425</td>\n",
       "      <td>0.9652</td>\n",
       "      <td>0.6155</td>\n",
       "      <td>0.1243</td>\n",
       "      <td>0.3585</td>\n",
       "    </tr>\n",
       "    <tr>\n",
       "      <th>SMALL HiBM</th>\n",
       "      <td>0.0526</td>\n",
       "      <td>0.9907</td>\n",
       "      <td>0.5506</td>\n",
       "      <td>0.1333</td>\n",
       "      <td>0.3778</td>\n",
       "    </tr>\n",
       "    <tr>\n",
       "      <th>ME2 BM1</th>\n",
       "      <td>-0.0475</td>\n",
       "      <td>1.3433</td>\n",
       "      <td>0.7233</td>\n",
       "      <td>0.0449</td>\n",
       "      <td>-0.3677</td>\n",
       "    </tr>\n",
       "    <tr>\n",
       "      <th>ME2 BM2</th>\n",
       "      <td>0.0101</td>\n",
       "      <td>1.1286</td>\n",
       "      <td>0.7468</td>\n",
       "      <td>0.0892</td>\n",
       "      <td>0.0984</td>\n",
       "    </tr>\n",
       "    <tr>\n",
       "      <th>ME2 BM3</th>\n",
       "      <td>0.0248</td>\n",
       "      <td>1.0193</td>\n",
       "      <td>0.7502</td>\n",
       "      <td>0.1046</td>\n",
       "      <td>0.2712</td>\n",
       "    </tr>\n",
       "    <tr>\n",
       "      <th>ME2 BM4</th>\n",
       "      <td>0.0303</td>\n",
       "      <td>0.9654</td>\n",
       "      <td>0.7021</td>\n",
       "      <td>0.1116</td>\n",
       "      <td>0.3094</td>\n",
       "    </tr>\n",
       "    <tr>\n",
       "      <th>ME2 BM5</th>\n",
       "      <td>0.0292</td>\n",
       "      <td>1.1086</td>\n",
       "      <td>0.6613</td>\n",
       "      <td>0.1066</td>\n",
       "      <td>0.2363</td>\n",
       "    </tr>\n",
       "    <tr>\n",
       "      <th>ME3 BM1</th>\n",
       "      <td>-0.0316</td>\n",
       "      <td>1.2767</td>\n",
       "      <td>0.7726</td>\n",
       "      <td>0.0555</td>\n",
       "      <td>-0.2936</td>\n",
       "    </tr>\n",
       "    <tr>\n",
       "      <th>ME3 BM2</th>\n",
       "      <td>0.0204</td>\n",
       "      <td>1.0896</td>\n",
       "      <td>0.8179</td>\n",
       "      <td>0.0990</td>\n",
       "      <td>0.2549</td>\n",
       "    </tr>\n",
       "    <tr>\n",
       "      <th>ME3 BM3</th>\n",
       "      <td>0.0136</td>\n",
       "      <td>0.9743</td>\n",
       "      <td>0.7926</td>\n",
       "      <td>0.0942</td>\n",
       "      <td>0.1754</td>\n",
       "    </tr>\n",
       "    <tr>\n",
       "      <th>ME3 BM4</th>\n",
       "      <td>0.0294</td>\n",
       "      <td>0.9797</td>\n",
       "      <td>0.7401</td>\n",
       "      <td>0.1102</td>\n",
       "      <td>0.3253</td>\n",
       "    </tr>\n",
       "    <tr>\n",
       "      <th>ME3 BM5</th>\n",
       "      <td>0.0413</td>\n",
       "      <td>1.0407</td>\n",
       "      <td>0.6635</td>\n",
       "      <td>0.1200</td>\n",
       "      <td>0.3586</td>\n",
       "    </tr>\n",
       "    <tr>\n",
       "      <th>ME4 BM1</th>\n",
       "      <td>-0.0030</td>\n",
       "      <td>1.1919</td>\n",
       "      <td>0.8289</td>\n",
       "      <td>0.0778</td>\n",
       "      <td>-0.0353</td>\n",
       "    </tr>\n",
       "    <tr>\n",
       "      <th>ME4 BM2</th>\n",
       "      <td>0.0093</td>\n",
       "      <td>1.0615</td>\n",
       "      <td>0.8706</td>\n",
       "      <td>0.0890</td>\n",
       "      <td>0.1465</td>\n",
       "    </tr>\n",
       "    <tr>\n",
       "      <th>ME4 BM3</th>\n",
       "      <td>0.0135</td>\n",
       "      <td>0.9989</td>\n",
       "      <td>0.8039</td>\n",
       "      <td>0.0937</td>\n",
       "      <td>0.1753</td>\n",
       "    </tr>\n",
       "    <tr>\n",
       "      <th>ME4 BM4</th>\n",
       "      <td>0.0215</td>\n",
       "      <td>0.9749</td>\n",
       "      <td>0.7655</td>\n",
       "      <td>0.1023</td>\n",
       "      <td>0.2566</td>\n",
       "    </tr>\n",
       "    <tr>\n",
       "      <th>ME4 BM5</th>\n",
       "      <td>0.0285</td>\n",
       "      <td>1.0410</td>\n",
       "      <td>0.6769</td>\n",
       "      <td>0.1076</td>\n",
       "      <td>0.2548</td>\n",
       "    </tr>\n",
       "    <tr>\n",
       "      <th>BIG LoBM</th>\n",
       "      <td>0.0092</td>\n",
       "      <td>0.9934</td>\n",
       "      <td>0.8964</td>\n",
       "      <td>0.0895</td>\n",
       "      <td>0.1748</td>\n",
       "    </tr>\n",
       "    <tr>\n",
       "      <th>ME5 BM2</th>\n",
       "      <td>0.0071</td>\n",
       "      <td>0.9289</td>\n",
       "      <td>0.8707</td>\n",
       "      <td>0.0879</td>\n",
       "      <td>0.1270</td>\n",
       "    </tr>\n",
       "    <tr>\n",
       "      <th>ME5 BM3</th>\n",
       "      <td>0.0112</td>\n",
       "      <td>0.8712</td>\n",
       "      <td>0.7916</td>\n",
       "      <td>0.0931</td>\n",
       "      <td>0.1607</td>\n",
       "    </tr>\n",
       "    <tr>\n",
       "      <th>ME5 BM4</th>\n",
       "      <td>-0.0052</td>\n",
       "      <td>0.9010</td>\n",
       "      <td>0.6772</td>\n",
       "      <td>0.0745</td>\n",
       "      <td>-0.0533</td>\n",
       "    </tr>\n",
       "    <tr>\n",
       "      <th>BIG HiBM</th>\n",
       "      <td>0.0149</td>\n",
       "      <td>1.0150</td>\n",
       "      <td>0.5886</td>\n",
       "      <td>0.0949</td>\n",
       "      <td>0.1127</td>\n",
       "    </tr>\n",
       "  </tbody>\n",
       "</table>\n",
       "</div>"
      ],
      "text/plain": [
       "             alpha  Mkt-RF  r-squared  Treynor Ratio  Info Ratio\n",
       "SMALL LoBM -0.0987  1.3600     0.6031         0.0077     -0.5750\n",
       "ME1 BM2     0.0018  1.1702     0.5954         0.0818      0.0122\n",
       "ME1 BM3     0.0097  1.0365     0.6684         0.0896      0.0857\n",
       "ME1 BM4     0.0425  0.9652     0.6155         0.1243      0.3585\n",
       "SMALL HiBM  0.0526  0.9907     0.5506         0.1333      0.3778\n",
       "ME2 BM1    -0.0475  1.3433     0.7233         0.0449     -0.3677\n",
       "ME2 BM2     0.0101  1.1286     0.7468         0.0892      0.0984\n",
       "ME2 BM3     0.0248  1.0193     0.7502         0.1046      0.2712\n",
       "ME2 BM4     0.0303  0.9654     0.7021         0.1116      0.3094\n",
       "ME2 BM5     0.0292  1.1086     0.6613         0.1066      0.2363\n",
       "ME3 BM1    -0.0316  1.2767     0.7726         0.0555     -0.2936\n",
       "ME3 BM2     0.0204  1.0896     0.8179         0.0990      0.2549\n",
       "ME3 BM3     0.0136  0.9743     0.7926         0.0942      0.1754\n",
       "ME3 BM4     0.0294  0.9797     0.7401         0.1102      0.3253\n",
       "ME3 BM5     0.0413  1.0407     0.6635         0.1200      0.3586\n",
       "ME4 BM1    -0.0030  1.1919     0.8289         0.0778     -0.0353\n",
       "ME4 BM2     0.0093  1.0615     0.8706         0.0890      0.1465\n",
       "ME4 BM3     0.0135  0.9989     0.8039         0.0937      0.1753\n",
       "ME4 BM4     0.0215  0.9749     0.7655         0.1023      0.2566\n",
       "ME4 BM5     0.0285  1.0410     0.6769         0.1076      0.2548\n",
       "BIG LoBM    0.0092  0.9934     0.8964         0.0895      0.1748\n",
       "ME5 BM2     0.0071  0.9289     0.8707         0.0879      0.1270\n",
       "ME5 BM3     0.0112  0.8712     0.7916         0.0931      0.1607\n",
       "ME5 BM4    -0.0052  0.9010     0.6772         0.0745     -0.0533\n",
       "BIG HiBM    0.0149  1.0150     0.5886         0.0949      0.1127"
      ]
     },
     "metadata": {},
     "output_type": "display_data"
    }
   ],
   "source": [
    "display(lfd)"
   ]
  },
  {
   "cell_type": "markdown",
   "id": "74972e33",
   "metadata": {},
   "source": [
    "If CAPM were true, then we would have the following implications:\n",
    "\n",
    "* Treynor ratio would be the same for every asset, and it would equal the MKT premium.\n",
    "\n",
    "* The alphas would all be zero\n",
    "\n",
    "* The Information Ratios would all be zero\n"
   ]
  },
  {
   "cell_type": "markdown",
   "id": "5d2facfa",
   "metadata": {},
   "source": [
    "## 3.3 Cross-Sectional Test: Yes Intercept"
   ]
  },
  {
   "cell_type": "code",
   "execution_count": 16,
   "id": "ed8a6304",
   "metadata": {},
   "outputs": [
    {
     "name": "stdout",
     "output_type": "stream",
     "text": [
      "Time-Series Test Plots\n"
     ]
    },
    {
     "data": {
      "image/png": "[encoded data removed]",
      "text/plain": [
       "<Figure size 288x288 with 1 Axes>"
      ]
     },
     "metadata": {},
     "output_type": "display_data"
    },
    {
     "data": {
      "image/png": "[encoded data removed]",
      "text/plain": [
       "<Figure size 633.6x288 with 1 Axes>"
      ]
     },
     "metadata": {},
     "output_type": "display_data"
    },
    {
     "name": "stdout",
     "output_type": "stream",
     "text": [
      "Cross-Sectional Test Plots\n"
     ]
    },
    {
     "data": {
      "image/png": "[encoded data removed]",
      "text/plain": [
       "<Figure size 288x288 with 1 Axes>"
      ]
     },
     "metadata": {},
     "output_type": "display_data"
    },
    {
     "data": {
      "image/png": "[encoded data removed]",
      "text/plain": [
       "<Figure size 633.6x288 with 1 Axes>"
      ]
     },
     "metadata": {},
     "output_type": "display_data"
    },
    {
     "name": "stdout",
     "output_type": "stream",
     "text": [
      "\n",
      "ESTIMATES\n"
     ]
    },
    {
     "data": {
      "text/html": [
       "<div>\n",
       "<style scoped>\n",
       "    .dataframe tbody tr th:only-of-type {\n",
       "        vertical-align: middle;\n",
       "    }\n",
       "\n",
       "    .dataframe tbody tr th {\n",
       "        vertical-align: top;\n",
       "    }\n",
       "\n",
       "    .dataframe thead th {\n",
       "        text-align: right;\n",
       "    }\n",
       "</style>\n",
       "<table border=\"1\" class=\"dataframe\">\n",
       "  <thead>\n",
       "    <tr style=\"text-align: right;\">\n",
       "      <th></th>\n",
       "      <th>premium-TS</th>\n",
       "      <th>premium-CS</th>\n",
       "    </tr>\n",
       "  </thead>\n",
       "  <tbody>\n",
       "    <tr>\n",
       "      <th>Mkt-RF</th>\n",
       "      <td>0.0802</td>\n",
       "      <td>-0.0982</td>\n",
       "    </tr>\n",
       "    <tr>\n",
       "      <th>intercept</th>\n",
       "      <td>NaN</td>\n",
       "      <td>0.1980</td>\n",
       "    </tr>\n",
       "  </tbody>\n",
       "</table>\n",
       "</div>"
      ],
      "text/plain": [
       "           premium-TS  premium-CS\n",
       "Mkt-RF         0.0802     -0.0982\n",
       "intercept         NaN      0.1980"
      ]
     },
     "metadata": {},
     "output_type": "display_data"
    },
    {
     "name": "stdout",
     "output_type": "stream",
     "text": [
      "\n",
      "MODEL FIT\n"
     ]
    },
    {
     "data": {
      "text/html": [
       "<div>\n",
       "<style scoped>\n",
       "    .dataframe tbody tr th:only-of-type {\n",
       "        vertical-align: middle;\n",
       "    }\n",
       "\n",
       "    .dataframe tbody tr th {\n",
       "        vertical-align: top;\n",
       "    }\n",
       "\n",
       "    .dataframe thead th {\n",
       "        text-align: right;\n",
       "    }\n",
       "</style>\n",
       "<table border=\"1\" class=\"dataframe\">\n",
       "  <thead>\n",
       "    <tr style=\"text-align: right;\">\n",
       "      <th></th>\n",
       "      <th>MAE-TS</th>\n",
       "      <th>MAE-CS</th>\n",
       "      <th>rsquared</th>\n",
       "    </tr>\n",
       "  </thead>\n",
       "  <tbody>\n",
       "    <tr>\n",
       "      <th>error</th>\n",
       "      <td>0.0243</td>\n",
       "      <td>0.0158</td>\n",
       "      <td>0.2582</td>\n",
       "    </tr>\n",
       "  </tbody>\n",
       "</table>\n",
       "</div>"
      ],
      "text/plain": [
       "       MAE-TS  MAE-CS  rsquared\n",
       "error  0.0243  0.0158    0.2582"
      ]
     },
     "metadata": {},
     "output_type": "display_data"
    },
    {
     "name": "stdout",
     "output_type": "stream",
     "text": [
      "\n",
      "STATISTICAL SIGNIFICANCE\n"
     ]
    },
    {
     "data": {
      "text/html": [
       "<div>\n",
       "<style scoped>\n",
       "    .dataframe tbody tr th:only-of-type {\n",
       "        vertical-align: middle;\n",
       "    }\n",
       "\n",
       "    .dataframe tbody tr th {\n",
       "        vertical-align: top;\n",
       "    }\n",
       "\n",
       "    .dataframe thead th {\n",
       "        text-align: right;\n",
       "    }\n",
       "</style>\n",
       "<table border=\"1\" class=\"dataframe\">\n",
       "  <thead>\n",
       "    <tr style=\"text-align: right;\">\n",
       "      <th>time-series</th>\n",
       "      <th>priced</th>\n",
       "      <th>premium</th>\n",
       "    </tr>\n",
       "    <tr>\n",
       "      <th>p-values</th>\n",
       "      <th></th>\n",
       "      <th></th>\n",
       "    </tr>\n",
       "  </thead>\n",
       "  <tbody>\n",
       "    <tr>\n",
       "      <th>Mkt-RF</th>\n",
       "      <td>0.0009</td>\n",
       "      <td>0.0005</td>\n",
       "    </tr>\n",
       "    <tr>\n",
       "      <th>error</th>\n",
       "      <td>0.0000</td>\n",
       "      <td>NaN</td>\n",
       "    </tr>\n",
       "  </tbody>\n",
       "</table>\n",
       "</div>"
      ],
      "text/plain": [
       "time-series  priced  premium\n",
       "p-values                    \n",
       "Mkt-RF       0.0009   0.0005\n",
       "error        0.0000      NaN"
      ]
     },
     "metadata": {},
     "output_type": "display_data"
    },
    {
     "name": "stdout",
     "output_type": "stream",
     "text": [
      "\"premium\" p-value is the usual t-stat on the time-series factor mean.\n",
      "\"priced\" p-value of factor is the t-stat of forming the tangency portfolio.\n",
      "\"priced\" p-value of \"error\" is the joint-chi-squared test of the time-series alphas\n"
     ]
    }
   ],
   "source": [
    "LFPtests(retsxT,facsT[['Mkt-RF']],annualization=12,useIntCS=True)"
   ]
  },
  {
   "cell_type": "markdown",
   "id": "f8216731",
   "metadata": {},
   "source": [
    "## 3.4 \n",
    "\n",
    "These results support the idea that the MKT premium is not sufficient for explaining all premia in the market.\n",
    "\n",
    "Given that MKT cannot explain these assets, which are sorted by size and value, it is suggestive that there may be premia in size and value. \n",
    "\n",
    "But while we have ruled out MKT as being the only determinant factor, we have not proven size and value matter."
   ]
  },
  {
   "cell_type": "markdown",
   "id": "450b6955",
   "metadata": {},
   "source": [
    "# 4.1 Fama-French 3-Factor Tests\n",
    "## Time-Series Test\n",
    "## Cross-Sectional Test: YES Intercept"
   ]
  },
  {
   "cell_type": "code",
   "execution_count": 17,
   "id": "2eca6a09",
   "metadata": {
    "scrolled": false
   },
   "outputs": [
    {
     "name": "stdout",
     "output_type": "stream",
     "text": [
      "Time-Series Test Plots\n"
     ]
    },
    {
     "data": {
      "image/png": "[encoded data removed]",
      "text/plain": [
       "<Figure size 288x288 with 1 Axes>"
      ]
     },
     "metadata": {},
     "output_type": "display_data"
    },
    {
     "name": "stdout",
     "output_type": "stream",
     "text": [
      "Cross-Sectional Test Plots\n"
     ]
    },
    {
     "data": {
      "image/png": "[encoded data removed]",
      "text/plain": [
       "<Figure size 288x288 with 1 Axes>"
      ]
     },
     "metadata": {},
     "output_type": "display_data"
    },
    {
     "name": "stdout",
     "output_type": "stream",
     "text": [
      "\n",
      "ESTIMATES\n"
     ]
    },
    {
     "data": {
      "text/html": [
       "<div>\n",
       "<style scoped>\n",
       "    .dataframe tbody tr th:only-of-type {\n",
       "        vertical-align: middle;\n",
       "    }\n",
       "\n",
       "    .dataframe tbody tr th {\n",
       "        vertical-align: top;\n",
       "    }\n",
       "\n",
       "    .dataframe thead th {\n",
       "        text-align: right;\n",
       "    }\n",
       "</style>\n",
       "<table border=\"1\" class=\"dataframe\">\n",
       "  <thead>\n",
       "    <tr style=\"text-align: right;\">\n",
       "      <th></th>\n",
       "      <th>premium-TS</th>\n",
       "      <th>premium-CS</th>\n",
       "    </tr>\n",
       "  </thead>\n",
       "  <tbody>\n",
       "    <tr>\n",
       "      <th>HML</th>\n",
       "      <td>0.0330</td>\n",
       "      <td>0.0362</td>\n",
       "    </tr>\n",
       "    <tr>\n",
       "      <th>Mkt-RF</th>\n",
       "      <td>0.0802</td>\n",
       "      <td>-0.0957</td>\n",
       "    </tr>\n",
       "    <tr>\n",
       "      <th>SMB</th>\n",
       "      <td>0.0093</td>\n",
       "      <td>0.0029</td>\n",
       "    </tr>\n",
       "    <tr>\n",
       "      <th>intercept</th>\n",
       "      <td>NaN</td>\n",
       "      <td>0.1797</td>\n",
       "    </tr>\n",
       "  </tbody>\n",
       "</table>\n",
       "</div>"
      ],
      "text/plain": [
       "           premium-TS  premium-CS\n",
       "HML            0.0330      0.0362\n",
       "Mkt-RF         0.0802     -0.0957\n",
       "SMB            0.0093      0.0029\n",
       "intercept         NaN      0.1797"
      ]
     },
     "metadata": {},
     "output_type": "display_data"
    },
    {
     "name": "stdout",
     "output_type": "stream",
     "text": [
      "\n",
      "MODEL FIT\n"
     ]
    },
    {
     "data": {
      "text/html": [
       "<div>\n",
       "<style scoped>\n",
       "    .dataframe tbody tr th:only-of-type {\n",
       "        vertical-align: middle;\n",
       "    }\n",
       "\n",
       "    .dataframe tbody tr th {\n",
       "        vertical-align: top;\n",
       "    }\n",
       "\n",
       "    .dataframe thead th {\n",
       "        text-align: right;\n",
       "    }\n",
       "</style>\n",
       "<table border=\"1\" class=\"dataframe\">\n",
       "  <thead>\n",
       "    <tr style=\"text-align: right;\">\n",
       "      <th></th>\n",
       "      <th>MAE-TS</th>\n",
       "      <th>MAE-CS</th>\n",
       "      <th>rsquared</th>\n",
       "    </tr>\n",
       "  </thead>\n",
       "  <tbody>\n",
       "    <tr>\n",
       "      <th>error</th>\n",
       "      <td>0.0142</td>\n",
       "      <td>0.0124</td>\n",
       "      <td>0.4665</td>\n",
       "    </tr>\n",
       "  </tbody>\n",
       "</table>\n",
       "</div>"
      ],
      "text/plain": [
       "       MAE-TS  MAE-CS  rsquared\n",
       "error  0.0142  0.0124    0.4665"
      ]
     },
     "metadata": {},
     "output_type": "display_data"
    },
    {
     "name": "stdout",
     "output_type": "stream",
     "text": [
      "\n",
      "STATISTICAL SIGNIFICANCE\n"
     ]
    },
    {
     "data": {
      "text/html": [
       "<div>\n",
       "<style scoped>\n",
       "    .dataframe tbody tr th:only-of-type {\n",
       "        vertical-align: middle;\n",
       "    }\n",
       "\n",
       "    .dataframe tbody tr th {\n",
       "        vertical-align: top;\n",
       "    }\n",
       "\n",
       "    .dataframe thead th {\n",
       "        text-align: right;\n",
       "    }\n",
       "</style>\n",
       "<table border=\"1\" class=\"dataframe\">\n",
       "  <thead>\n",
       "    <tr style=\"text-align: right;\">\n",
       "      <th>time-series</th>\n",
       "      <th>priced</th>\n",
       "      <th>premium</th>\n",
       "    </tr>\n",
       "    <tr>\n",
       "      <th>p-values</th>\n",
       "      <th></th>\n",
       "      <th></th>\n",
       "    </tr>\n",
       "  </thead>\n",
       "  <tbody>\n",
       "    <tr>\n",
       "      <th>Mkt-RF</th>\n",
       "      <td>0.0003</td>\n",
       "      <td>0.0005</td>\n",
       "    </tr>\n",
       "    <tr>\n",
       "      <th>SMB</th>\n",
       "      <td>0.7145</td>\n",
       "      <td>0.2811</td>\n",
       "    </tr>\n",
       "    <tr>\n",
       "      <th>HML</th>\n",
       "      <td>0.0067</td>\n",
       "      <td>0.0250</td>\n",
       "    </tr>\n",
       "    <tr>\n",
       "      <th>error</th>\n",
       "      <td>0.0000</td>\n",
       "      <td>NaN</td>\n",
       "    </tr>\n",
       "  </tbody>\n",
       "</table>\n",
       "</div>"
      ],
      "text/plain": [
       "time-series  priced  premium\n",
       "p-values                    \n",
       "Mkt-RF       0.0003   0.0005\n",
       "SMB          0.7145   0.2811\n",
       "HML          0.0067   0.0250\n",
       "error        0.0000      NaN"
      ]
     },
     "metadata": {},
     "output_type": "display_data"
    },
    {
     "name": "stdout",
     "output_type": "stream",
     "text": [
      "\"premium\" p-value is the usual t-stat on the time-series factor mean.\n",
      "\"priced\" p-value of factor is the t-stat of forming the tangency portfolio.\n",
      "\"priced\" p-value of \"error\" is the joint-chi-squared test of the time-series alphas\n"
     ]
    }
   ],
   "source": [
    "LFPtests(retsxT,facsT,annualization=12,useIntCS=True)"
   ]
  },
  {
   "cell_type": "markdown",
   "id": "dab38a7a",
   "metadata": {},
   "source": [
    "# 4.2 Tangency Tests\n",
    "## Time-Series Test\n",
    "## Cross-Sectional Test: Yes Intercept"
   ]
  },
  {
   "cell_type": "code",
   "execution_count": 18,
   "id": "5cbf7a5f",
   "metadata": {
    "scrolled": false
   },
   "outputs": [
    {
     "name": "stdout",
     "output_type": "stream",
     "text": [
      "Time-Series Test Plots\n"
     ]
    },
    {
     "data": {
      "image/png": "[encoded data removed]",
      "text/plain": [
       "<Figure size 288x288 with 1 Axes>"
      ]
     },
     "metadata": {},
     "output_type": "display_data"
    },
    {
     "data": {
      "image/png": "[encoded data removed]",
      "text/plain": [
       "<Figure size 633.6x288 with 1 Axes>"
      ]
     },
     "metadata": {},
     "output_type": "display_data"
    },
    {
     "name": "stdout",
     "output_type": "stream",
     "text": [
      "Cross-Sectional Test Plots\n"
     ]
    },
    {
     "data": {
      "image/png": "[encoded data removed]",
      "text/plain": [
       "<Figure size 288x288 with 1 Axes>"
      ]
     },
     "metadata": {},
     "output_type": "display_data"
    },
    {
     "data": {
      "image/png": "[encoded data removed]",
      "text/plain": [
       "<Figure size 633.6x288 with 1 Axes>"
      ]
     },
     "metadata": {},
     "output_type": "display_data"
    },
    {
     "name": "stdout",
     "output_type": "stream",
     "text": [
      "\n",
      "ESTIMATES\n"
     ]
    },
    {
     "data": {
      "text/html": [
       "<div>\n",
       "<style scoped>\n",
       "    .dataframe tbody tr th:only-of-type {\n",
       "        vertical-align: middle;\n",
       "    }\n",
       "\n",
       "    .dataframe tbody tr th {\n",
       "        vertical-align: top;\n",
       "    }\n",
       "\n",
       "    .dataframe thead th {\n",
       "        text-align: right;\n",
       "    }\n",
       "</style>\n",
       "<table border=\"1\" class=\"dataframe\">\n",
       "  <thead>\n",
       "    <tr style=\"text-align: right;\">\n",
       "      <th></th>\n",
       "      <th>premium-TS</th>\n",
       "      <th>premium-CS</th>\n",
       "    </tr>\n",
       "  </thead>\n",
       "  <tbody>\n",
       "    <tr>\n",
       "      <th>Tangency</th>\n",
       "      <td>0.4046</td>\n",
       "      <td>0.4046</td>\n",
       "    </tr>\n",
       "    <tr>\n",
       "      <th>intercept</th>\n",
       "      <td>NaN</td>\n",
       "      <td>-0.0000</td>\n",
       "    </tr>\n",
       "  </tbody>\n",
       "</table>\n",
       "</div>"
      ],
      "text/plain": [
       "           premium-TS  premium-CS\n",
       "Tangency       0.4046      0.4046\n",
       "intercept         NaN     -0.0000"
      ]
     },
     "metadata": {},
     "output_type": "display_data"
    },
    {
     "name": "stdout",
     "output_type": "stream",
     "text": [
      "\n",
      "MODEL FIT\n"
     ]
    },
    {
     "data": {
      "text/html": [
       "<div>\n",
       "<style scoped>\n",
       "    .dataframe tbody tr th:only-of-type {\n",
       "        vertical-align: middle;\n",
       "    }\n",
       "\n",
       "    .dataframe tbody tr th {\n",
       "        vertical-align: top;\n",
       "    }\n",
       "\n",
       "    .dataframe thead th {\n",
       "        text-align: right;\n",
       "    }\n",
       "</style>\n",
       "<table border=\"1\" class=\"dataframe\">\n",
       "  <thead>\n",
       "    <tr style=\"text-align: right;\">\n",
       "      <th></th>\n",
       "      <th>MAE-TS</th>\n",
       "      <th>MAE-CS</th>\n",
       "      <th>rsquared</th>\n",
       "    </tr>\n",
       "  </thead>\n",
       "  <tbody>\n",
       "    <tr>\n",
       "      <th>error</th>\n",
       "      <td>0.0000</td>\n",
       "      <td>0.0000</td>\n",
       "      <td>1.0000</td>\n",
       "    </tr>\n",
       "  </tbody>\n",
       "</table>\n",
       "</div>"
      ],
      "text/plain": [
       "       MAE-TS  MAE-CS  rsquared\n",
       "error  0.0000  0.0000    1.0000"
      ]
     },
     "metadata": {},
     "output_type": "display_data"
    },
    {
     "name": "stdout",
     "output_type": "stream",
     "text": [
      "\n",
      "STATISTICAL SIGNIFICANCE\n"
     ]
    },
    {
     "data": {
      "text/html": [
       "<div>\n",
       "<style scoped>\n",
       "    .dataframe tbody tr th:only-of-type {\n",
       "        vertical-align: middle;\n",
       "    }\n",
       "\n",
       "    .dataframe tbody tr th {\n",
       "        vertical-align: top;\n",
       "    }\n",
       "\n",
       "    .dataframe thead th {\n",
       "        text-align: right;\n",
       "    }\n",
       "</style>\n",
       "<table border=\"1\" class=\"dataframe\">\n",
       "  <thead>\n",
       "    <tr style=\"text-align: right;\">\n",
       "      <th>time-series</th>\n",
       "      <th>priced</th>\n",
       "      <th>premium</th>\n",
       "    </tr>\n",
       "    <tr>\n",
       "      <th>p-values</th>\n",
       "      <th></th>\n",
       "      <th></th>\n",
       "    </tr>\n",
       "  </thead>\n",
       "  <tbody>\n",
       "    <tr>\n",
       "      <th>Tangency</th>\n",
       "      <td>0.0000</td>\n",
       "      <td>0.0000</td>\n",
       "    </tr>\n",
       "    <tr>\n",
       "      <th>error</th>\n",
       "      <td>1.0000</td>\n",
       "      <td>NaN</td>\n",
       "    </tr>\n",
       "  </tbody>\n",
       "</table>\n",
       "</div>"
      ],
      "text/plain": [
       "time-series  priced  premium\n",
       "p-values                    \n",
       "Tangency     0.0000   0.0000\n",
       "error        1.0000      NaN"
      ]
     },
     "metadata": {},
     "output_type": "display_data"
    },
    {
     "name": "stdout",
     "output_type": "stream",
     "text": [
      "\"premium\" p-value is the usual t-stat on the time-series factor mean.\n",
      "\"priced\" p-value of factor is the t-stat of forming the tangency portfolio.\n",
      "\"priced\" p-value of \"error\" is the joint-chi-squared test of the time-series alphas\n"
     ]
    }
   ],
   "source": [
    "tangency = retsxT @ tangency_weights(retsxT)\n",
    "tangency.columns= ['Tangency']\n",
    "\n",
    "LFPtests(retsxT,tangency,annualization=12,useIntCS=True)"
   ]
  },
  {
   "cell_type": "markdown",
   "id": "43fc4906",
   "metadata": {},
   "source": [
    "## 4.3 \n",
    "\n",
    "### The MAE \n",
    "is shown in the tables above labeled as MODEL FIT.\n",
    "\n",
    "### Joint Test of Alphas\n",
    "\n",
    "These test stats can be found in the tables above labeled as \"STATISTICAL SIGNIFICANCE\" in the \"error\",\"priced\" cell of the table.\n",
    "\n",
    "We note that the p-value for CAPM is 0 to many decimal places. \n",
    "\n",
    "So is the p-value for Fama-French 3 Factor.\n",
    "\n",
    "However, the p-value for the Tangency factor is 1, meaning that its errors are certainly not significant--because they are 0 to machine precision.\n",
    "\n",
    "### Stricter test\n",
    "\n",
    "Checking individual alphas for significance via a t-test may rule out a model.\n",
    "\n",
    "But checking a group of alphas for joint significance via a chi-squared test is a higher hurdle for the model. Even if no individual alpha is significant, the group may be significant. We see this in that the joint test p-values for CAPM and FF are 0 to many decimals.\n",
    "\n",
    "### Testing the Tangency\n",
    "\n",
    "The test statistic can be viewed as the squared Sharpe Ratio of the tangency portfolio formed by alphas compared to the squared Sharpe Ratio of the model tangency portfolio (formed via the factors)."
   ]
  }
 ],
 "metadata": {
  "hide_input": false,
  "kernelspec": {
   "display_name": "Python 3 (ipykernel)",
   "language": "python",
   "name": "python3"
  },
  "language_info": {
   "codemirror_mode": {
    "name": "ipython",
    "version": 3
   },
   "file_extension": ".py",
   "mimetype": "text/x-python",
   "name": "python",
   "nbconvert_exporter": "python",
   "pygments_lexer": "ipython3",
   "version": "3.9.7"
  }
 },
 "nbformat": 4,
 "nbformat_minor": 5
}
