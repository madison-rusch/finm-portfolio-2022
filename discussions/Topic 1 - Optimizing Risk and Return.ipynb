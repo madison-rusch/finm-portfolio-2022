{
 "cells": [
  {
   "cell_type": "markdown",
   "id": "b711fd96",
   "metadata": {
    "heading_collapsed": true
   },
   "source": [
    "# Topic 1 - Optimizing Risk and Return\n",
    "\n",
    "\n",
    "## FINM 36700: Portfolio and Risk Management\n",
    "\n",
    "### Mark Hendricks\n",
    "\n",
    "#### Autumn 2022"
   ]
  },
  {
   "cell_type": "code",
   "execution_count": 1,
   "id": "5c1749c0",
   "metadata": {
    "hidden": true
   },
   "outputs": [
    {
     "ename": "ModuleNotFoundError",
     "evalue": "No module named 'risk'",
     "output_type": "error",
     "traceback": [
      "\u001b[0;31m---------------------------------------------------------------------------\u001b[0m",
      "\u001b[0;31mModuleNotFoundError\u001b[0m                       Traceback (most recent call last)",
      "Input \u001b[0;32mIn [1]\u001b[0m, in \u001b[0;36m<cell line: 20>\u001b[0;34m()\u001b[0m\n\u001b[1;32m     18\u001b[0m sys\u001b[38;5;241m.\u001b[39mpath\u001b[38;5;241m.\u001b[39minsert(\u001b[38;5;241m0\u001b[39m,\u001b[38;5;124m'\u001b[39m\u001b[38;5;124m../cmds\u001b[39m\u001b[38;5;124m'\u001b[39m)\n\u001b[1;32m     19\u001b[0m \u001b[38;5;28;01mfrom\u001b[39;00m \u001b[38;5;21;01mportfolio\u001b[39;00m \u001b[38;5;28;01mimport\u001b[39;00m \u001b[38;5;241m*\u001b[39m\n\u001b[0;32m---> 20\u001b[0m \u001b[38;5;28;01mfrom\u001b[39;00m \u001b[38;5;21;01mrisk\u001b[39;00m \u001b[38;5;28;01mimport\u001b[39;00m \u001b[38;5;241m*\u001b[39m\n",
      "\u001b[0;31mModuleNotFoundError\u001b[0m: No module named 'risk'"
     ]
    }
   ],
   "source": [
    "import pandas as pd\n",
    "import numpy as np\n",
    "import datetime\n",
    "import warnings\n",
    "\n",
    "import matplotlib.pyplot as plt\n",
    "%matplotlib inline\n",
    "plt.rcParams['figure.figsize'] = (12,6)\n",
    "plt.rcParams['font.size'] = 15\n",
    "plt.rcParams['legend.fontsize'] = 13\n",
    "\n",
    "from matplotlib.ticker import (MultipleLocator,\n",
    "                               FormatStrFormatter,\n",
    "                               AutoMinorLocator)\n",
    "\n",
    "from sklearn.linear_model import LinearRegression\n",
    "import sys\n",
    "sys.path.insert(0,'../cmds')\n",
    "from portfolio import *\n",
    "from risk import *"
   ]
  },
  {
   "cell_type": "code",
   "execution_count": null,
   "id": "1bc239e5",
   "metadata": {
    "hidden": true
   },
   "outputs": [],
   "source": [
    "LOADFILE = '../data/risk_etf_data.xlsx'\n",
    "info = pd.read_excel(LOADFILE,sheet_name='descriptions').set_index('ticker')\n",
    "rets = pd.read_excel(LOADFILE,sheet_name='total returns').set_index('Date')\n",
    "prices = pd.read_excel(LOADFILE,sheet_name='prices').set_index('Date')\n",
    "\n",
    "rets.drop(columns=['CL1'],inplace=True)\n",
    "retsx = rets.sub(rets['SHV'],axis=0)\n",
    "FREQ = 252"
   ]
  },
  {
   "cell_type": "markdown",
   "id": "a39b7bb6",
   "metadata": {
    "hidden": true
   },
   "source": [
    "$$\\newcommand{\\E}{E}$$\n",
    "$$\\newcommand{\\rbar}{\\bar{r}}$$\n",
    "$$\\newcommand{\\rvec}{\\boldsymbol{r}}$$\n",
    "$$\\newcommand{\\rvecbar}{\\boldsymbol{\\bar{r}}}$$\n",
    "\n",
    "$$\\newcommand{\\Ntime}{N}$$\n",
    "$$\\newcommand{\\Nt}{N}$$\n",
    "\n",
    "$$\\newcommand{\\rmat}{\\boldsymbol{R}}$$\n",
    "\n",
    "$$\\newcommand{\\riskmeasure}{\\varrho}$$\n",
    "\n",
    "$$\\newcommand{\\wt}{w}$$\n",
    "\n",
    "$$\\newcommand{\\Nassets}{K}$$\n",
    "\n",
    "$$\\newcommand{\\muvec}{\\boldsymbol{\\mu}}$$\n",
    "\n",
    "$$\\newcommand{\\onevecNt}{\\boldsymbol{1}_{\\Ntime\\times 1}}$$\n",
    "\n",
    "$$\\newcommand{\\covest}{\\hat{\\boldsymbol{\\Sigma}}}$$\n",
    "\n",
    "$$\\newcommand{\\meanest}{\\hat{\\mu}}$$\n",
    "\n",
    "$$\\newcommand{\\meanestvec}{\\hat{\\boldsymbol{\\mu}}}$$\n",
    "\n",
    "$$\\newcommand{\\covmat}{\\boldsymbol{\\Sigma}}$$\n",
    "\n",
    "$$\\newcommand{\\rf}{r_f}$$\n",
    "\n",
    "$$\\newcommand{\\VaR}{\\text{VaR}}$$\n",
    "$$\\newcommand{\\VaRqtau}{\\VaR_{q,\\tau}}$$\n",
    "$$\\newcommand{\\pnlVaR}{\\pnl^{\\VaR}}$$\n",
    "$$\\newcommand{\\pnlVaRqtau}{\\pnl^{\\VaR_{q,\\tau}}}$$\n",
    "$$\\newcommand{\\rVaR}{r^{\\VaR}}$$\n",
    "$$\\newcommand{\\rVaRqtau}{r^{\\VaR_{q,\\tau}}}$$\n",
    "$$\\newcommand{\\loss}{L}$$\n",
    "\n",
    "$$\\newcommand{\\Pr}{\\mathbb{P}}$$\n",
    "\n",
    "$$\\newcommand{\\quant}{q}$$\n",
    "$$\\newcommand{\\port}{\\Pi}$$\n",
    "$$\\newcommand{\\pnl}{\\Gamma}$$\n",
    "\n",
    "$$\\newcommand{\\cdf}{\\Phi}$$\n",
    "$$\\newcommand{\\pdf}{\\phi}$$\n",
    "\n",
    "$$\\newcommand{\\zscore}{\\texttt{z}}$$\n",
    "\n",
    "$$\\newcommand{\\cdfz}{\\cdf_{\\zscore}}$$\n",
    "$$\\newcommand{\\pdfz}{\\pdf_{\\zscore}}$$\n",
    "\n",
    "$$\\newcommand{\\rlog}{\\texttt{r}}$$\n",
    "\n",
    "$$\\newcommand{CVaR}{\\text{CVaR}}$$\n",
    "$$\\newcommand{CVaRqtau}{\\CVaR_{q,\\tau}}$$\n",
    "$$\\newcommand{\\pnlCVaR}{\\pnl^\\CVaR}$$\n",
    "$$\\newcommand{\\pnlCVaRqtau}{\\pnl^{\\CVaR_{q,\\tau}}}$$\n",
    "$$\\newcommand{\\rCVaR}{r^\\CVaR}$$\n",
    "$$\\newcommand{\\rCVaRqtau}{r^{\\CVaR_{q,\\tau}}}$$\n",
    "\n",
    "$$\\newcommand{\\rx}{\\tilde{r}}$$\n",
    "\n",
    "$$\\newcommand{\\mux}{\\tilde{\\mu}}$$\n",
    "\n",
    "$$\\newcommand{\\sigx}{\\tilde{\\sigma}}$$\n",
    "\n",
    "$$\\newcommand{\\Nsec}{K}$$\n",
    "\n",
    "$$\\newcommand{\\avg}{\\text{avg}}$$\n",
    "\n",
    "$$\\newcommand{\\wtvec}{\\boldsymbol{\\wt}}$$\n",
    "\n",
    "$$\\newcommand{\\muxvec}{\\boldsymbol{\\mux}}$$\n",
    "\n",
    "$$\\newcommand{\\tan}{\\text{tan}}$$"
   ]
  },
  {
   "cell_type": "markdown",
   "id": "fa3d8911",
   "metadata": {},
   "source": [
    "# Performance Measures"
   ]
  },
  {
   "cell_type": "markdown",
   "id": "054d2e40",
   "metadata": {},
   "source": [
    "We have discussed various measures of risk.\n",
    "\n",
    "Of course, we care about return as well as risk. \n",
    "\n",
    "We might be willing to take more risk for more return.\n",
    "\n",
    "Below are measures of return and the risk-return tradeoff."
   ]
  },
  {
   "cell_type": "markdown",
   "id": "5376b667",
   "metadata": {},
   "source": [
    "## Excess Returns\n",
    "\n",
    "Many performance measures, as well as optimizations, will focus on **excess returns**. That is, the return on the portfolio /security beyond the risk-free rate.\n",
    "\n",
    "We use tilde notation for excess returns to avoid writing the risk-free rate everywhere. That is,\n",
    "\n",
    "$$\\rx_{i,t} \\equiv r_{i,t} - \\rf$$\n",
    "\n",
    "$$\\mux \\equiv \\mu - \\rf$$"
   ]
  },
  {
   "cell_type": "markdown",
   "id": "70019840",
   "metadata": {},
   "source": [
    "## Mean Return\n",
    "\n",
    "Mean (total or excess) return is the most utilized measure of ex-ante reward in an investment.\n",
    "\n",
    "Most allocation and risk measures will consider mean return against some form of risk.\n",
    "\n",
    "If we are focusing on USD, not returns, then we might label this as **expected value (EV)**."
   ]
  },
  {
   "cell_type": "markdown",
   "id": "11e0484e",
   "metadata": {},
   "source": [
    "## Alpha\n",
    "\n",
    "The second widely used measure of \"reward\" is alpha.\n",
    "\n",
    "Consider a regression of the portfolio (or security) return against a benchmark, in this case, SPY.\n",
    "\n",
    "$$\\rx_{i,t} = \\alpha + \\beta \\rx_{\\text{SPY},t} + \\epsilon_t$$\n",
    "\n",
    "Note that we might be interested in a decomposition against several factors, $\\boldsymbol{x}_t$. \n",
    "\n",
    "$$\\rx_{i,t} = \\alpha + \\boldsymbol{\\beta}'\\boldsymbol{x}_t + \\epsilon_t$$\n",
    "\n",
    "We will have more to say about these decompositions.\n",
    "\n",
    "### Alpha as a measure of performance\n",
    "\n",
    "Alpha is measuring the mean return of the portfolio (security) beyond what can be explained by the regressors.\n",
    "* We may have a high mean return simply due to loading up on lots of factor risk.\n",
    "* Consider UPRO, the 3x levered S\\&P500 ETF.\n",
    "\n",
    "For this reason, alpha is widely cited in judging (hedge / mutual) fund performance.\n",
    "* Did the fund earn high mean returns beyond what we would expect from their broad factor exposures?\n",
    "* In a sense, did we get any mean return beyond what we would have received from holding an (few?) index funds?"
   ]
  },
  {
   "cell_type": "code",
   "execution_count": null,
   "id": "f6a90b66",
   "metadata": {
    "scrolled": false
   },
   "outputs": [],
   "source": [
    "doEXCESS = True\n",
    "COMP = 'SPY'\n",
    "\n",
    "\n",
    "if doEXCESS:\n",
    "    data = retsx\n",
    "else:\n",
    "    data = rets\n",
    "    \n",
    "    \n",
    "regs = pd.DataFrame(dtype=float, columns=['mean','alpha','beta'], index=rets.columns)\n",
    "for sec in rets.columns:\n",
    "    est = LinearRegression().fit(data[[COMP]],data[[sec]])\n",
    "    regs.loc[sec,'alpha'] = est.intercept_\n",
    "    regs.loc[sec,'beta'] = est.coef_[0]\n",
    "\n",
    "regs['mean'] = retsx.mean()\n",
    "regs[['mean','alpha']] *= FREQ\n",
    "regs.style.format({'mean':'{:.2%}','alpha':'{:.2%}','beta':'{:.2f}'})"
   ]
  },
  {
   "cell_type": "markdown",
   "id": "db11ff7a",
   "metadata": {},
   "source": [
    "## Sharpe\n",
    "\n",
    "The **Sharpe ratio** is the tradeoff of **mean excess return** against **volatility**.\n",
    "\n",
    "$$\\text{Sharpe Ratio} \\equiv \\frac{\\mux}{\\sigx}$$\n",
    "\n",
    "In some cases this measure is used for total returns, not excess:\n",
    "\n",
    "$$\\text{Sharpe Ratio} \\equiv \\frac{\\mu}{\\sigma}$$"
   ]
  },
  {
   "cell_type": "markdown",
   "id": "2561fee1",
   "metadata": {},
   "source": [
    "## Treynor\n",
    "\n",
    "The **Treynor ratio** is the tradeoff between **mean excess return** and **beta**.\n",
    "\n",
    "This is mostly used with equities, where the beta is with regard to a broad equity benchmark, like SPY.\n",
    "\n",
    "$$\\text{Treynor Ratio} \\equiv \\frac{\\mux}{\\beta}$$"
   ]
  },
  {
   "cell_type": "markdown",
   "id": "133a46e1",
   "metadata": {},
   "source": [
    "## Information Ratio\n",
    "\n",
    "The **Information Ratio** is the tradeoff between **alpha** and **unexplained volatility**.\n",
    "\n",
    "A regression of $\\rx_{i,t}$ onto a factor (benchmark) $x_t$ reveals the unexplained...\n",
    "* mean: $\\alpha$ \n",
    "* movements: $\\epsilon$\n",
    "* volatility: $\\sigma_\\epsilon$\n",
    "as well as the **explained** portion, $\\beta x$.\n",
    "\n",
    "The Information Ratio is thus the Sharpe ratio of the unexplained portion of the decomposition, $\\alpha$ versus $\\epsilon$.\n",
    "\n",
    "$$\\text{Information Ratio} \\equiv \\frac{\\alpha}{\\sigma_\\epsilon}$$"
   ]
  },
  {
   "cell_type": "code",
   "execution_count": null,
   "id": "e34c6857",
   "metadata": {},
   "outputs": [],
   "source": [
    "keyX = 'SPY'\n",
    "tab = pd.concat([performanceMetrics(retsx,annualization=FREQ)['Sharpe'],get_ols_metrics(retsx[keyX],retsx,annualization=FREQ)[['Info Ratio','Treynor Ratio']]],axis=1)\n",
    "tab.style.format({'alpha':'{:.2%}','Sharpe':'{:.2%}','r-squared':'{:.2%}','Treynor Ratio':'{:.2%}','Info Ratio':'{:.2%}'})"
   ]
  },
  {
   "cell_type": "markdown",
   "id": "b5226717",
   "metadata": {},
   "source": [
    "# Diversification"
   ]
  },
  {
   "cell_type": "markdown",
   "id": "7ca28d4d",
   "metadata": {},
   "source": [
    "## Subadditivity"
   ]
  },
  {
   "cell_type": "markdown",
   "id": "4c008e46",
   "metadata": {},
   "source": [
    "## Variance of a Portfolio\n",
    "\n",
    "Consider a portfolio of $\\Nsec$ risky securities.\n",
    "* return volatility is $\\sigma_i$\n",
    "* return covariance is $\\sigma_{i,j}$\n",
    "* weight in security $i$ is given by $\\wt_i$, with $$\\sum_{i=1}^\\Nsec \\wt_i = 1$$\n",
    "\n",
    "Then\n",
    "\n",
    "$$\\sigma^2_p = \\sum_{j=1}^\\Nsec\\sum_{i=1}^\\Nsec\\wt_i\\wt_j\\sigma_{ij}$$\n",
    "\n",
    "Suppose we have an equally-weighted portfolio, $w_i=\\frac{1}{\\Nsec}$ for all $i$.\n",
    "\n",
    "Then it is easy to shwo that\n",
    "\n",
    "$$\\sigma^2_p = \\frac{1}{\\Nsec}\\avg\\left[\\sigma^2_i\\right] + \\frac{\\Nsec-1}{\\Nsec}\\avg\\left[\\sigma_{ij}\\right]$$\n",
    "\n",
    "As the portfolio increases the number of securities, $\\Nsec\\to\\infty$, we have\n",
    "\n",
    "$$\\sigma^2_p = \\avg\\left[\\sigma_{ij}\\right]$$\n",
    "\n",
    "#### Individual variances do not have much impact on portfolio variance!"
   ]
  },
  {
   "cell_type": "markdown",
   "id": "b314d1d8",
   "metadata": {},
   "source": [
    "### Technical Points\n",
    "\n",
    "#### Equal weights?\n",
    "A similar result would hold even if we didn't assume equal weights, so long as no single weight held a large share in the portfolio.\n",
    "\n",
    "#### Simplified formula\n",
    "\n",
    "For pedagogy, assume all $\\Nsec$ volatilites are equal and that all pairwise correlations are $\\rho$. Then we would have\n",
    "\n",
    "$$\\sigma^2_p = \\frac{1}{\\Nsec}\\sigma^2 + \\frac{\\Nsec-1}{\\Nsec}\\rho\\sigma^2$$\n",
    "\n",
    "which makes the point that as $\\Nsec$ grows, the portfolio variance is a fraction of the common variance, where the fraction is given by $\\rho$. \n",
    "\n",
    "This illustrates the idea of the total risk $\\sigma^2$ having two components\n",
    "* systematic, $\\rho\\sigma^2$\n",
    "* idiosyncratic \n",
    "\n",
    "In more general settings, we see a similar phenomenon, that total risk decreases due to the subadditivity."
   ]
  },
  {
   "cell_type": "markdown",
   "id": "2f4632ec",
   "metadata": {},
   "source": [
    "### Stand-alone vs Marginal Risk\n",
    "\n",
    "More broadly, the risk measure of a single asset (standalone risk) is very different from its contribution of risk to a portfolio.\n",
    "\n",
    "We saw this above for variance, but it is true for any subadditive risk measure.\n",
    "\n",
    "Consider **normal VaR**, (recalling that general VaR is not subadditive.)\n",
    "\n",
    "#### Normal Value-at-risk\n",
    "\n",
    "$$\\frac{\\partial \\rVaRqtau}{\\partial\\wt_i} = \\mu_i + \\zscore_\\quant\\frac{1}{\\sigma_p}\\sum_{j=1}^\\Nsec\\wt_j\\sigma_{i,j}$$\n",
    "\n",
    "That is, the **marginal VaR** to portfolio $p$ with $\\Nsec$ assets is a function of the covariances, not its own volatility.\n",
    "\n",
    "Thus, marginal (normal) VaR is quite different from standalone (normal VaR)."
   ]
  },
  {
   "cell_type": "markdown",
   "id": "66943f32",
   "metadata": {},
   "source": [
    "## Mean Additivity\n",
    "\n",
    "We have discussed **subadditivity** and diversification for risk. What about for mean return (reward)?\n",
    "\n",
    "The **mean is a linear function**!\n",
    "* Thus, it is additive, not subadditive.\n",
    "\n",
    "$$\\mu_p = \\boldsymbol{\\wt}'\\boldsymbol{\\mu}$$\n",
    "\n",
    "With means, the \"whole\" is exactly equal to the \"sum of its parts.\"\n",
    "\n",
    "#### Thus, diversification reduces risk while leaving mean return intact!\n",
    "* This is the reason that diversification is seen as a free lunch."
   ]
  },
  {
   "cell_type": "markdown",
   "id": "244aac4c",
   "metadata": {},
   "source": [
    "### Example: Mean vs Volatility for Two Assets\n",
    "\n",
    "Reference: Hendricks\n",
    "\n",
    "<img src=\"../refs/bivariate-risk-return-diversification.png\" width=\"750\"/>"
   ]
  },
  {
   "cell_type": "markdown",
   "id": "c6034b56",
   "metadata": {},
   "source": [
    "# Mean-Variance Optimization"
   ]
  },
  {
   "cell_type": "markdown",
   "id": "cdea2f54",
   "metadata": {},
   "source": [
    "For two assets, we saw diversification means\n",
    "* subadditive risk\n",
    "* additive mean\n",
    "\n",
    "This holds for a portfolio of $\\Nsec$ risky securities.\n",
    "\n",
    "Consider the **mean variance optimization**. Equivalently,\n",
    "* mean-volatility optimization\n",
    "* Sharpe Ratio optimization"
   ]
  },
  {
   "cell_type": "markdown",
   "id": "c1f9cfde",
   "metadata": {},
   "source": [
    "## Figures on the Diversification\n",
    "\n",
    "Reference: Hendricks\n",
    "\n",
    "<img src=\"../refs/diversification_parabola.png\" width=\"500\"/>"
   ]
  },
  {
   "cell_type": "markdown",
   "id": "48fffd26",
   "metadata": {},
   "source": [
    "<img src=\"../refs/diversification_hyperbola.png\" width=\"500\"/>"
   ]
  },
  {
   "cell_type": "markdown",
   "id": "39a5f7be",
   "metadata": {},
   "source": [
    "## Preliminaries\n",
    "\n",
    "Consider a problem of\n",
    "* $\\Nsec$ risky assets\n",
    "* cash (or some other risk-free asset)\n",
    "* frictionless markets--long short any amount\n",
    "* weights on risky assets do not need to equal 1, as cash can be long/short\n",
    "$$\\wtvec'\\boldsymbol{1} \\ne 1$$\n",
    "\n",
    "We will consider **excess returns**\n",
    "* makes the math a little simpler\n",
    "* good assumption if we have ability to leverage with cash\n",
    "\n",
    "Recall that covariance\n",
    "* matrix of $\\Nsec$ securities is $\\covmat$\n",
    "* of the total chosen portfolio is \n",
    "$$\\sigma^2_p = \\wtvec'\\covmat\\wtvec$$"
   ]
  },
  {
   "cell_type": "markdown",
   "id": "27dae6fc",
   "metadata": {},
   "source": [
    "## Optimization\n",
    "\n",
    "### Objective\n",
    "\n",
    "The objective is to **minimize portfolio variance**.\n",
    "\n",
    "$$\\min_{\\wtvec} \\wtvec'\\covmat\\wtvec$$\n",
    "\n",
    "### The Constraint\n",
    "\n",
    "The constraint is to achieve a mean return target:\n",
    "\n",
    "$$\\text{s.t.}\\; \\wtvec'\\muxvec = m$$\n",
    "\n",
    "#### Note\n",
    "We have not added constraints on...\n",
    "* sum of weights\n",
    "* short positions\n",
    "* individual position sizes\n",
    "\n",
    "### Duality\n",
    "\n",
    "This optimization is of a special type such that its **dual** would give the same solution set. Namely,\n",
    "* Objective: maximize return\n",
    "* Constraint: achieve a set variance\n",
    "\n",
    "#### Technical Point\n",
    "\n",
    "This is a **linear program**."
   ]
  },
  {
   "cell_type": "markdown",
   "id": "787eb9b1",
   "metadata": {},
   "source": [
    "### Setting up the Problem\n",
    "A mean-variance portfolio is a vector, $\\wtvec^*$ which solves the following **constrained optimization** for some mean excess return target $m$.\n",
    "\n",
    "$$\\min_{\\wtvec} \\wtvec'\\covmat\\wtvec$$\n",
    "\n",
    "$$\\text{s.t.}\\; \\wtvec'\\muxvec = m$$"
   ]
  },
  {
   "cell_type": "markdown",
   "id": "140247b2",
   "metadata": {},
   "source": [
    "### What makes for an easy optimization\n",
    "\n",
    "Optimizations are often intractable.\n",
    "\n",
    "This optimization is easy.\n",
    "\n",
    "Why?\n",
    "\n",
    "#### Technical Point:\n",
    "Given the simplicity of this optimization, we can solve it analytically, with an explicit solution:\n",
    "1. Set up the Lagrangian with just one constraint.\n",
    "2. The FOC is sufficient given the convexity of the problem.\n",
    "3. Finally, substitute the Lagrange multiplier using the constraint."
   ]
  },
  {
   "cell_type": "markdown",
   "id": "c9cffc22",
   "metadata": {},
   "source": [
    "## The solution\n",
    "\n",
    "$$\\wtvec^* = \\delta_m\\, \\covmat^{-1}\\muxvec$$\n",
    "\n",
    "where $\\delta_m$ is simply a scaling constant to ensure we hit the mean of $m$."
   ]
  },
  {
   "cell_type": "markdown",
   "id": "79355ba8",
   "metadata": {},
   "source": [
    "### Note that\n",
    "\n",
    "* All solutions are just a rescaling of $\\covmat^{-1}\\muxvec$\n",
    "\n",
    "In fact, there is a name for this baseline: **the tangency portfolio**.\n",
    "\n",
    "$$\\wtvec^{\\tan} = \\delta_\\tan\\, \\covmat^{-1}\\muxvec$$\n",
    "\n",
    "where $\\delta_\\tan$ is a number that ensures $\\wtvec^{\\tan}$ sums to one.\n",
    "* We are not insisting all solutions add to one. But it is useful to highlight this special solution that does add to one."
   ]
  },
  {
   "cell_type": "markdown",
   "id": "7933ad60",
   "metadata": {},
   "source": [
    "#### Technical Point\n",
    "\n",
    "The forumulas for the scalings look tedious but are easy to calculate."
   ]
  },
  {
   "cell_type": "markdown",
   "id": "2ab2ca76",
   "metadata": {},
   "source": [
    "<img src=\"../refs/mv_excess.png\" width=\"750\"/>"
   ]
  },
  {
   "cell_type": "markdown",
   "id": "2ce714b9",
   "metadata": {},
   "source": [
    "### Two Fund Separation\n",
    "This is known as two-fund separation.\n",
    "* Every investor should invest (long or short) cash and (long or short) the **tangency portfolio**.\n",
    "* Variation in investor risk will lead to different solutions, but even with $\\Nsec$ assets, everyone holds the exact same bundle, (the tangency portfolio,) in different sizes."
   ]
  },
  {
   "cell_type": "markdown",
   "id": "c121e636",
   "metadata": {},
   "source": [
    "# Additional Constraints"
   ]
  },
  {
   "cell_type": "markdown",
   "id": "86b69e23",
   "metadata": {},
   "source": [
    "## No cash (weights add to one)\n",
    "\n",
    "We could optimize the space of total (not excess) returns for a situatoin where there is no cash asset.\n",
    "\n",
    "Then, the weights need to add to one.\n",
    "\n",
    "This would introduce a second constraint to the optimization above:\n",
    "\n",
    "$$\\wtvec'\\boldsymbol{1} = 1$$\n",
    "\n",
    "* Still an easy optimization.\n",
    "* Adds a second dimension to the solution.\n",
    "* Thus, all investors hold a mix of two risky bundles (tangency and minimum variance) instead of tangency and cash.\n",
    "\n",
    "One could see this solution as deriving \"synthetic\" cash (to the best of its ability) and then getting back to an anologous solution."
   ]
  },
  {
   "cell_type": "markdown",
   "id": "bc4f74c8",
   "metadata": {},
   "source": [
    "<img src=\"../refs/mv_totalrets.png\" width=\"750\"/>"
   ]
  },
  {
   "cell_type": "markdown",
   "id": "4f3ff85e",
   "metadata": {},
   "source": [
    "## Position Constraints\n",
    "\n",
    "We may wish to constrain individual security weights, $\\wt_i$.\n",
    "* No short positions, $\\wt_i\\ge 0$\n",
    "* Mandate to hold at least/most, $\\wt_i\\ge c$, $\\wt_j\\le c$.\n",
    "\n",
    "These constraints will cause us to lose an explicit solution formula.\n",
    "* Why?\n",
    "\n",
    "Still, the optimization problem is easy numerically.\n",
    "* Why?\n",
    "\n",
    "See the other notebook for an illustration of these constraints."
   ]
  },
  {
   "cell_type": "markdown",
   "id": "5e6c46e6",
   "metadata": {},
   "source": [
    "# Beyond Variance"
   ]
  },
  {
   "cell_type": "markdown",
   "id": "90ccabb3",
   "metadata": {},
   "source": [
    "These optimizations have been mean-variance.\n",
    "\n",
    "We have discussed that there are many other risk measures we may want to consider.\n",
    "\n",
    "What would be needed to optimize...\n",
    "* mean-volatility\n",
    "* mean-Normal VaR\n",
    "* information ratio\n",
    "* mean-to-VaR\n",
    "* mean-to-CVaR"
   ]
  }
 ],
 "metadata": {
  "hide_input": true,
  "kernelspec": {
   "display_name": "Python 3 (ipykernel)",
   "language": "python",
   "name": "python3"
  },
  "language_info": {
   "codemirror_mode": {
    "name": "ipython",
    "version": 3
   },
   "file_extension": ".py",
   "mimetype": "text/x-python",
   "name": "python",
   "nbconvert_exporter": "python",
   "pygments_lexer": "ipython3",
   "version": "3.9.7"
  }
 },
 "nbformat": 4,
 "nbformat_minor": 5
}
